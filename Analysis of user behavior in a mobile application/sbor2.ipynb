{
 "cells": [
  {
   "cell_type": "markdown",
   "metadata": {},
   "source": [
    "# Анализ пользовательского поведения в мобильном приложении\n",
    "\n",
    "# Описание проекта\n",
    "Я работаю в стартапе, который занимается продажей продуктов питания. Мек необходимо провести анализ того, как пользователи нашего сервиса взаимодействуют с мобильным приложением. \n",
    "\n",
    "## Описание данных\n",
    "\n",
    "Датасет `logs_exp.csv` хранит следующие данные:\n",
    "\n",
    "- `EventName` — название события;\n",
    "- `DeviceIDHash` — уникальный идентификатор пользователя;\n",
    "- `EventTimestamp` — время события;\n",
    "- `ExpId` — номер эксперимента: 246 и 247 — контрольные группы, а 248 — экспериментальная.\n",
    "\n",
    "## Цели исследования:\n",
    "\n",
    "1. Необходимо ответить на следующие вопросы:\n",
    "    \n",
    "    - Как пользователи доходят до этапа покупки?\n",
    "    - Сколько пользователей доходят до этого этапа, а сколько прерывают взаимодейстие ранее?\n",
    "    - На каких этапах это происходит?\n",
    "\n",
    "2. Необходмо провести анализ результатов A/A/B-эксперимента:\n",
    "\n",
    "Дизайнеры решили поменять шрифты во ввсем приложении, в то время как менеджеры пришли к выводу, что это может отпугнуть наших клиентов. Для решения ситуации было принято следующее - пользователей разбили на 3 группы - 2 контрольные со старыми шрифтами (А) и одну с новыми (В). Нам необходимо провести анализ и узнать, какой шрифт работает лучше.\n"
   ]
  },
  {
   "cell_type": "markdown",
   "metadata": {},
   "source": [
    "### Изучить файл с данными"
   ]
  },
  {
   "cell_type": "markdown",
   "metadata": {},
   "source": [
    "Для начала загрузим все необходимые библиотеки"
   ]
  },
  {
   "cell_type": "code",
   "execution_count": 33,
   "metadata": {},
   "outputs": [],
   "source": [
    "import pandas as pd\n",
    "import matplotlib.pyplot as plt\n",
    "\n",
    "import seaborn as sns\n",
    "sns.set(rc={'figure.figsize':(12, 8)})\n",
    "\n",
    "import scipy.stats as st\n",
    "\n",
    "import datetime as dt\n",
    "\n",
    "import math \n",
    "\n",
    "from plotly import graph_objects as go\n",
    "\n",
    "import numpy as np"
   ]
  },
  {
   "cell_type": "markdown",
   "metadata": {},
   "source": [
    "Обратимся к датасету"
   ]
  },
  {
   "cell_type": "code",
   "execution_count": 34,
   "metadata": {},
   "outputs": [
    {
     "name": "stdout",
     "output_type": "stream",
     "text": [
      "<class 'pandas.core.frame.DataFrame'>\n",
      "RangeIndex: 244126 entries, 0 to 244125\n",
      "Data columns (total 4 columns):\n",
      " #   Column          Non-Null Count   Dtype \n",
      "---  ------          --------------   ----- \n",
      " 0   EventName       244126 non-null  object\n",
      " 1   DeviceIDHash    244126 non-null  int64 \n",
      " 2   EventTimestamp  244126 non-null  int64 \n",
      " 3   ExpId           244126 non-null  int64 \n",
      "dtypes: int64(3), object(1)\n",
      "memory usage: 7.5+ MB\n"
     ]
    },
    {
     "data": {
      "text/html": [
       "<div>\n",
       "<style scoped>\n",
       "    .dataframe tbody tr th:only-of-type {\n",
       "        vertical-align: middle;\n",
       "    }\n",
       "\n",
       "    .dataframe tbody tr th {\n",
       "        vertical-align: top;\n",
       "    }\n",
       "\n",
       "    .dataframe thead th {\n",
       "        text-align: right;\n",
       "    }\n",
       "</style>\n",
       "<table border=\"1\" class=\"dataframe\">\n",
       "  <thead>\n",
       "    <tr style=\"text-align: right;\">\n",
       "      <th></th>\n",
       "      <th>EventName</th>\n",
       "      <th>DeviceIDHash</th>\n",
       "      <th>EventTimestamp</th>\n",
       "      <th>ExpId</th>\n",
       "    </tr>\n",
       "  </thead>\n",
       "  <tbody>\n",
       "    <tr>\n",
       "      <th>0</th>\n",
       "      <td>MainScreenAppear</td>\n",
       "      <td>4575588528974610257</td>\n",
       "      <td>1564029816</td>\n",
       "      <td>246</td>\n",
       "    </tr>\n",
       "    <tr>\n",
       "      <th>1</th>\n",
       "      <td>MainScreenAppear</td>\n",
       "      <td>7416695313311560658</td>\n",
       "      <td>1564053102</td>\n",
       "      <td>246</td>\n",
       "    </tr>\n",
       "    <tr>\n",
       "      <th>2</th>\n",
       "      <td>PaymentScreenSuccessful</td>\n",
       "      <td>3518123091307005509</td>\n",
       "      <td>1564054127</td>\n",
       "      <td>248</td>\n",
       "    </tr>\n",
       "    <tr>\n",
       "      <th>3</th>\n",
       "      <td>CartScreenAppear</td>\n",
       "      <td>3518123091307005509</td>\n",
       "      <td>1564054127</td>\n",
       "      <td>248</td>\n",
       "    </tr>\n",
       "    <tr>\n",
       "      <th>4</th>\n",
       "      <td>PaymentScreenSuccessful</td>\n",
       "      <td>6217807653094995999</td>\n",
       "      <td>1564055322</td>\n",
       "      <td>248</td>\n",
       "    </tr>\n",
       "    <tr>\n",
       "      <th>...</th>\n",
       "      <td>...</td>\n",
       "      <td>...</td>\n",
       "      <td>...</td>\n",
       "      <td>...</td>\n",
       "    </tr>\n",
       "    <tr>\n",
       "      <th>244121</th>\n",
       "      <td>MainScreenAppear</td>\n",
       "      <td>4599628364049201812</td>\n",
       "      <td>1565212345</td>\n",
       "      <td>247</td>\n",
       "    </tr>\n",
       "    <tr>\n",
       "      <th>244122</th>\n",
       "      <td>MainScreenAppear</td>\n",
       "      <td>5849806612437486590</td>\n",
       "      <td>1565212439</td>\n",
       "      <td>246</td>\n",
       "    </tr>\n",
       "    <tr>\n",
       "      <th>244123</th>\n",
       "      <td>MainScreenAppear</td>\n",
       "      <td>5746969938801999050</td>\n",
       "      <td>1565212483</td>\n",
       "      <td>246</td>\n",
       "    </tr>\n",
       "    <tr>\n",
       "      <th>244124</th>\n",
       "      <td>MainScreenAppear</td>\n",
       "      <td>5746969938801999050</td>\n",
       "      <td>1565212498</td>\n",
       "      <td>246</td>\n",
       "    </tr>\n",
       "    <tr>\n",
       "      <th>244125</th>\n",
       "      <td>OffersScreenAppear</td>\n",
       "      <td>5746969938801999050</td>\n",
       "      <td>1565212517</td>\n",
       "      <td>246</td>\n",
       "    </tr>\n",
       "  </tbody>\n",
       "</table>\n",
       "<p>244126 rows × 4 columns</p>\n",
       "</div>"
      ],
      "text/plain": [
       "                      EventName         DeviceIDHash  EventTimestamp  ExpId\n",
       "0              MainScreenAppear  4575588528974610257      1564029816    246\n",
       "1              MainScreenAppear  7416695313311560658      1564053102    246\n",
       "2       PaymentScreenSuccessful  3518123091307005509      1564054127    248\n",
       "3              CartScreenAppear  3518123091307005509      1564054127    248\n",
       "4       PaymentScreenSuccessful  6217807653094995999      1564055322    248\n",
       "...                         ...                  ...             ...    ...\n",
       "244121         MainScreenAppear  4599628364049201812      1565212345    247\n",
       "244122         MainScreenAppear  5849806612437486590      1565212439    246\n",
       "244123         MainScreenAppear  5746969938801999050      1565212483    246\n",
       "244124         MainScreenAppear  5746969938801999050      1565212498    246\n",
       "244125       OffersScreenAppear  5746969938801999050      1565212517    246\n",
       "\n",
       "[244126 rows x 4 columns]"
      ]
     },
     "metadata": {},
     "output_type": "display_data"
    }
   ],
   "source": [
    "try:\n",
    "    logs = pd.read_csv('/datasets/logs_exp.csv', sep='\\t')\n",
    "except:\n",
    "    logs = pd.read_csv('https://code.s3.yandex.net/datasets/logs_exp.csv', sep='\\t')\n",
    "    \n",
    "    \n",
    "logs.info()\n",
    "display(logs)\n"
   ]
  },
  {
   "cell_type": "markdown",
   "metadata": {},
   "source": [
    "Отметим, что в датасете отсутствуют пропуски, однако есть ошибка в стилистическом обозначении столбцов. Приступип к предобработке данных"
   ]
  },
  {
   "cell_type": "markdown",
   "metadata": {},
   "source": [
    "### Подготовим датасет"
   ]
  },
  {
   "cell_type": "code",
   "execution_count": 35,
   "metadata": {},
   "outputs": [
    {
     "data": {
      "text/html": [
       "<div>\n",
       "<style scoped>\n",
       "    .dataframe tbody tr th:only-of-type {\n",
       "        vertical-align: middle;\n",
       "    }\n",
       "\n",
       "    .dataframe tbody tr th {\n",
       "        vertical-align: top;\n",
       "    }\n",
       "\n",
       "    .dataframe thead th {\n",
       "        text-align: right;\n",
       "    }\n",
       "</style>\n",
       "<table border=\"1\" class=\"dataframe\">\n",
       "  <thead>\n",
       "    <tr style=\"text-align: right;\">\n",
       "      <th></th>\n",
       "      <th>event_name</th>\n",
       "      <th>user_id</th>\n",
       "      <th>timestamp</th>\n",
       "      <th>exp_id</th>\n",
       "    </tr>\n",
       "  </thead>\n",
       "  <tbody>\n",
       "    <tr>\n",
       "      <th>0</th>\n",
       "      <td>MainScreenAppear</td>\n",
       "      <td>4575588528974610257</td>\n",
       "      <td>1564029816</td>\n",
       "      <td>246</td>\n",
       "    </tr>\n",
       "    <tr>\n",
       "      <th>1</th>\n",
       "      <td>MainScreenAppear</td>\n",
       "      <td>7416695313311560658</td>\n",
       "      <td>1564053102</td>\n",
       "      <td>246</td>\n",
       "    </tr>\n",
       "    <tr>\n",
       "      <th>2</th>\n",
       "      <td>PaymentScreenSuccessful</td>\n",
       "      <td>3518123091307005509</td>\n",
       "      <td>1564054127</td>\n",
       "      <td>248</td>\n",
       "    </tr>\n",
       "    <tr>\n",
       "      <th>3</th>\n",
       "      <td>CartScreenAppear</td>\n",
       "      <td>3518123091307005509</td>\n",
       "      <td>1564054127</td>\n",
       "      <td>248</td>\n",
       "    </tr>\n",
       "    <tr>\n",
       "      <th>4</th>\n",
       "      <td>PaymentScreenSuccessful</td>\n",
       "      <td>6217807653094995999</td>\n",
       "      <td>1564055322</td>\n",
       "      <td>248</td>\n",
       "    </tr>\n",
       "  </tbody>\n",
       "</table>\n",
       "</div>"
      ],
      "text/plain": [
       "                event_name              user_id   timestamp  exp_id\n",
       "0         MainScreenAppear  4575588528974610257  1564029816     246\n",
       "1         MainScreenAppear  7416695313311560658  1564053102     246\n",
       "2  PaymentScreenSuccessful  3518123091307005509  1564054127     248\n",
       "3         CartScreenAppear  3518123091307005509  1564054127     248\n",
       "4  PaymentScreenSuccessful  6217807653094995999  1564055322     248"
      ]
     },
     "execution_count": 35,
     "metadata": {},
     "output_type": "execute_result"
    }
   ],
   "source": [
    "logs.columns = ['event_name', 'user_id', 'timestamp', 'exp_id']\n",
    "logs.head()"
   ]
  },
  {
   "cell_type": "code",
   "execution_count": 36,
   "metadata": {},
   "outputs": [
    {
     "data": {
      "text/plain": [
       "413"
      ]
     },
     "execution_count": 36,
     "metadata": {},
     "output_type": "execute_result"
    }
   ],
   "source": [
    "logs.duplicated().sum()"
   ]
  },
  {
   "cell_type": "markdown",
   "metadata": {},
   "source": [
    "Мы исправили стилистику наименования столбцов приведя ее к \"змейке\". Проверим какой процент составляют дубли\n",
    "\n"
   ]
  },
  {
   "cell_type": "code",
   "execution_count": 37,
   "metadata": {},
   "outputs": [
    {
     "name": "stdout",
     "output_type": "stream",
     "text": [
      "0.17%\n"
     ]
    }
   ],
   "source": [
    "result = logs.duplicated().sum() / len(logs) * 100\n",
    "percentage = '{:.2f}%'.format(result)\n",
    "print(percentage)"
   ]
  },
  {
   "cell_type": "markdown",
   "metadata": {},
   "source": [
    "Дубли составляют менее 1%, можно убрать их из базы. "
   ]
  },
  {
   "cell_type": "code",
   "execution_count": 38,
   "metadata": {},
   "outputs": [
    {
     "name": "stdout",
     "output_type": "stream",
     "text": [
      "<class 'pandas.core.frame.DataFrame'>\n",
      "Int64Index: 243713 entries, 0 to 244125\n",
      "Data columns (total 4 columns):\n",
      " #   Column      Non-Null Count   Dtype \n",
      "---  ------      --------------   ----- \n",
      " 0   event_name  243713 non-null  object\n",
      " 1   user_id     243713 non-null  int64 \n",
      " 2   timestamp   243713 non-null  int64 \n",
      " 3   exp_id      243713 non-null  int64 \n",
      "dtypes: int64(3), object(1)\n",
      "memory usage: 9.3+ MB\n"
     ]
    }
   ],
   "source": [
    "logs.drop_duplicates(inplace = True)\n",
    "logs.info()"
   ]
  },
  {
   "cell_type": "markdown",
   "metadata": {},
   "source": [
    "Проверим какое количество пользователей находится в каждой из контрольных групп (А/А/В)\n"
   ]
  },
  {
   "cell_type": "code",
   "execution_count": 39,
   "metadata": {
    "scrolled": true
   },
   "outputs": [
    {
     "name": "stdout",
     "output_type": "stream",
     "text": [
      "Количество групп для эксперимента и событий в них:\n",
      " 248    85582\n",
      "246    80181\n",
      "247    77950\n",
      "Name: exp_id, dtype: int64\n",
      "Пользователей, попавших в обе группы: 0\n"
     ]
    }
   ],
   "source": [
    "print('Количество групп для эксперимента и событий в них:\\n', logs['exp_id'].value_counts())\n",
    "not_uniq_users = logs.groupby(['user_id']).agg({'exp_id' : 'nunique'}).reset_index()\n",
    "print(f'Пользователей, попавших в обе группы: {not_uniq_users[not_uniq_users.exp_id != 1][\"user_id\"].count()}')"
   ]
  },
  {
   "cell_type": "markdown",
   "metadata": {},
   "source": [
    "Количество пользователей в группах отличаются, но не критично. При этом пользователей, которые находятся хотя бы в двух группах нет в базе данных.\n",
    "\n",
    "Добавим столбцы с временем и датой."
   ]
  },
  {
   "cell_type": "code",
   "execution_count": 40,
   "metadata": {},
   "outputs": [
    {
     "name": "stdout",
     "output_type": "stream",
     "text": [
      "<class 'pandas.core.frame.DataFrame'>\n",
      "Int64Index: 243713 entries, 0 to 244125\n",
      "Data columns (total 6 columns):\n",
      " #   Column      Non-Null Count   Dtype         \n",
      "---  ------      --------------   -----         \n",
      " 0   event_name  243713 non-null  object        \n",
      " 1   user_id     243713 non-null  int64         \n",
      " 2   timestamp   243713 non-null  int64         \n",
      " 3   exp_id      243713 non-null  int64         \n",
      " 4   date_time   243713 non-null  datetime64[ns]\n",
      " 5   date        243713 non-null  datetime64[ns]\n",
      "dtypes: datetime64[ns](2), int64(3), object(1)\n",
      "memory usage: 13.0+ MB\n"
     ]
    },
    {
     "data": {
      "text/html": [
       "<div>\n",
       "<style scoped>\n",
       "    .dataframe tbody tr th:only-of-type {\n",
       "        vertical-align: middle;\n",
       "    }\n",
       "\n",
       "    .dataframe tbody tr th {\n",
       "        vertical-align: top;\n",
       "    }\n",
       "\n",
       "    .dataframe thead th {\n",
       "        text-align: right;\n",
       "    }\n",
       "</style>\n",
       "<table border=\"1\" class=\"dataframe\">\n",
       "  <thead>\n",
       "    <tr style=\"text-align: right;\">\n",
       "      <th></th>\n",
       "      <th>event_name</th>\n",
       "      <th>user_id</th>\n",
       "      <th>timestamp</th>\n",
       "      <th>exp_id</th>\n",
       "      <th>date_time</th>\n",
       "      <th>date</th>\n",
       "    </tr>\n",
       "  </thead>\n",
       "  <tbody>\n",
       "    <tr>\n",
       "      <th>0</th>\n",
       "      <td>MainScreenAppear</td>\n",
       "      <td>4575588528974610257</td>\n",
       "      <td>1564029816</td>\n",
       "      <td>246</td>\n",
       "      <td>2019-07-25 04:43:36</td>\n",
       "      <td>2019-07-25 04:43:36</td>\n",
       "    </tr>\n",
       "    <tr>\n",
       "      <th>1</th>\n",
       "      <td>MainScreenAppear</td>\n",
       "      <td>7416695313311560658</td>\n",
       "      <td>1564053102</td>\n",
       "      <td>246</td>\n",
       "      <td>2019-07-25 11:11:42</td>\n",
       "      <td>2019-07-25 11:11:42</td>\n",
       "    </tr>\n",
       "    <tr>\n",
       "      <th>2</th>\n",
       "      <td>PaymentScreenSuccessful</td>\n",
       "      <td>3518123091307005509</td>\n",
       "      <td>1564054127</td>\n",
       "      <td>248</td>\n",
       "      <td>2019-07-25 11:28:47</td>\n",
       "      <td>2019-07-25 11:28:47</td>\n",
       "    </tr>\n",
       "    <tr>\n",
       "      <th>3</th>\n",
       "      <td>CartScreenAppear</td>\n",
       "      <td>3518123091307005509</td>\n",
       "      <td>1564054127</td>\n",
       "      <td>248</td>\n",
       "      <td>2019-07-25 11:28:47</td>\n",
       "      <td>2019-07-25 11:28:47</td>\n",
       "    </tr>\n",
       "    <tr>\n",
       "      <th>4</th>\n",
       "      <td>PaymentScreenSuccessful</td>\n",
       "      <td>6217807653094995999</td>\n",
       "      <td>1564055322</td>\n",
       "      <td>248</td>\n",
       "      <td>2019-07-25 11:48:42</td>\n",
       "      <td>2019-07-25 11:48:42</td>\n",
       "    </tr>\n",
       "    <tr>\n",
       "      <th>...</th>\n",
       "      <td>...</td>\n",
       "      <td>...</td>\n",
       "      <td>...</td>\n",
       "      <td>...</td>\n",
       "      <td>...</td>\n",
       "      <td>...</td>\n",
       "    </tr>\n",
       "    <tr>\n",
       "      <th>244121</th>\n",
       "      <td>MainScreenAppear</td>\n",
       "      <td>4599628364049201812</td>\n",
       "      <td>1565212345</td>\n",
       "      <td>247</td>\n",
       "      <td>2019-08-07 21:12:25</td>\n",
       "      <td>2019-08-07 21:12:25</td>\n",
       "    </tr>\n",
       "    <tr>\n",
       "      <th>244122</th>\n",
       "      <td>MainScreenAppear</td>\n",
       "      <td>5849806612437486590</td>\n",
       "      <td>1565212439</td>\n",
       "      <td>246</td>\n",
       "      <td>2019-08-07 21:13:59</td>\n",
       "      <td>2019-08-07 21:13:59</td>\n",
       "    </tr>\n",
       "    <tr>\n",
       "      <th>244123</th>\n",
       "      <td>MainScreenAppear</td>\n",
       "      <td>5746969938801999050</td>\n",
       "      <td>1565212483</td>\n",
       "      <td>246</td>\n",
       "      <td>2019-08-07 21:14:43</td>\n",
       "      <td>2019-08-07 21:14:43</td>\n",
       "    </tr>\n",
       "    <tr>\n",
       "      <th>244124</th>\n",
       "      <td>MainScreenAppear</td>\n",
       "      <td>5746969938801999050</td>\n",
       "      <td>1565212498</td>\n",
       "      <td>246</td>\n",
       "      <td>2019-08-07 21:14:58</td>\n",
       "      <td>2019-08-07 21:14:58</td>\n",
       "    </tr>\n",
       "    <tr>\n",
       "      <th>244125</th>\n",
       "      <td>OffersScreenAppear</td>\n",
       "      <td>5746969938801999050</td>\n",
       "      <td>1565212517</td>\n",
       "      <td>246</td>\n",
       "      <td>2019-08-07 21:15:17</td>\n",
       "      <td>2019-08-07 21:15:17</td>\n",
       "    </tr>\n",
       "  </tbody>\n",
       "</table>\n",
       "<p>243713 rows × 6 columns</p>\n",
       "</div>"
      ],
      "text/plain": [
       "                     event_name              user_id   timestamp  exp_id  \\\n",
       "0              MainScreenAppear  4575588528974610257  1564029816     246   \n",
       "1              MainScreenAppear  7416695313311560658  1564053102     246   \n",
       "2       PaymentScreenSuccessful  3518123091307005509  1564054127     248   \n",
       "3              CartScreenAppear  3518123091307005509  1564054127     248   \n",
       "4       PaymentScreenSuccessful  6217807653094995999  1564055322     248   \n",
       "...                         ...                  ...         ...     ...   \n",
       "244121         MainScreenAppear  4599628364049201812  1565212345     247   \n",
       "244122         MainScreenAppear  5849806612437486590  1565212439     246   \n",
       "244123         MainScreenAppear  5746969938801999050  1565212483     246   \n",
       "244124         MainScreenAppear  5746969938801999050  1565212498     246   \n",
       "244125       OffersScreenAppear  5746969938801999050  1565212517     246   \n",
       "\n",
       "                 date_time                date  \n",
       "0      2019-07-25 04:43:36 2019-07-25 04:43:36  \n",
       "1      2019-07-25 11:11:42 2019-07-25 11:11:42  \n",
       "2      2019-07-25 11:28:47 2019-07-25 11:28:47  \n",
       "3      2019-07-25 11:28:47 2019-07-25 11:28:47  \n",
       "4      2019-07-25 11:48:42 2019-07-25 11:48:42  \n",
       "...                    ...                 ...  \n",
       "244121 2019-08-07 21:12:25 2019-08-07 21:12:25  \n",
       "244122 2019-08-07 21:13:59 2019-08-07 21:13:59  \n",
       "244123 2019-08-07 21:14:43 2019-08-07 21:14:43  \n",
       "244124 2019-08-07 21:14:58 2019-08-07 21:14:58  \n",
       "244125 2019-08-07 21:15:17 2019-08-07 21:15:17  \n",
       "\n",
       "[243713 rows x 6 columns]"
      ]
     },
     "metadata": {},
     "output_type": "display_data"
    }
   ],
   "source": [
    "logs['date_time'] = pd.to_datetime(logs['timestamp'], unit='s')\n",
    "logs['date'] = logs['date_time']\n",
    "logs['date'] = pd.to_datetime(logs['date'], format='%Y-%m-%d')\n",
    "\n",
    "logs.info()\n",
    "display(logs)"
   ]
  },
  {
   "cell_type": "markdown",
   "metadata": {},
   "source": [
    "### Изучим воронку продаж"
   ]
  },
  {
   "cell_type": "markdown",
   "metadata": {},
   "source": [
    "**Сколько всего событий в логе?**"
   ]
  },
  {
   "cell_type": "code",
   "execution_count": 41,
   "metadata": {},
   "outputs": [
    {
     "data": {
      "text/plain": [
       "MainScreenAppear           119101\n",
       "OffersScreenAppear          46808\n",
       "CartScreenAppear            42668\n",
       "PaymentScreenSuccessful     34118\n",
       "Tutorial                     1018\n",
       "Name: event_name, dtype: int64"
      ]
     },
     "execution_count": 41,
     "metadata": {},
     "output_type": "execute_result"
    }
   ],
   "source": [
    "logs['event_name'].value_counts()"
   ]
  },
  {
   "cell_type": "markdown",
   "metadata": {},
   "source": [
    "**`MainScreenAppear`** - Появление главного экрана\n",
    "\n",
    "**`OffersScreenAppear`** - Появление экрана с предложениями\n",
    "\n",
    "**`CartScreenAppear`** - Появление экрана корзины\n",
    "\n",
    "**`PaymentScreenSuccessful`** - Успешное завершение оплаты\n",
    "\n",
    "**`Tutorial`** - Обучение/инструкция"
   ]
  },
  {
   "cell_type": "markdown",
   "metadata": {},
   "source": [
    "Чаще всего встречается **`MainScreenAppear`**, реже всего **`Tutorial`**        "
   ]
  },
  {
   "cell_type": "markdown",
   "metadata": {},
   "source": [
    "**Сколько всего пользователей в логе?**"
   ]
  },
  {
   "cell_type": "code",
   "execution_count": 42,
   "metadata": {},
   "outputs": [
    {
     "name": "stdout",
     "output_type": "stream",
     "text": [
      "Количество уникальных пользователей: 7551\n"
     ]
    }
   ],
   "source": [
    "print('Количество уникальных пользователей:', len(logs['user_id'].unique()))"
   ]
  },
  {
   "cell_type": "markdown",
   "metadata": {},
   "source": [
    "Количество пользователей намного меньше чем строк в базе - один пользователь может совершать несколько действий"
   ]
  },
  {
   "cell_type": "markdown",
   "metadata": {},
   "source": [
    "**Сколько в среднем событий приходится на пользователя?**"
   ]
  },
  {
   "cell_type": "code",
   "execution_count": 43,
   "metadata": {},
   "outputs": [
    {
     "data": {
      "text/plain": [
       "count    7551.000000\n",
       "mean       32.275593\n",
       "std        65.154219\n",
       "min         1.000000\n",
       "25%         9.000000\n",
       "50%        20.000000\n",
       "75%        37.000000\n",
       "max      2307.000000\n",
       "Name: event_name, dtype: float64"
      ]
     },
     "execution_count": 43,
     "metadata": {},
     "output_type": "execute_result"
    }
   ],
   "source": [
    "event_user = logs.groupby('user_id')['event_name'].count()\n",
    "event_user.describe()"
   ]
  },
  {
   "cell_type": "markdown",
   "metadata": {},
   "source": [
    "Подтверждаем утверждение выше - в среднем пользователь совершает 32 операции. Уточним на графике распределение событий."
   ]
  },
  {
   "cell_type": "code",
   "execution_count": 44,
   "metadata": {},
   "outputs": [
    {
     "data": {
      "image/png": "[encoded data removed]",
      "text/plain": [
       "<Figure size 720x432 with 1 Axes>"
      ]
     },
     "metadata": {},
     "output_type": "display_data"
    }
   ],
   "source": [
    "# Создание данных для графика\n",
    "x = range(len(event_user))\n",
    "y = event_user.values\n",
    "\n",
    "# Построение графика\n",
    "plt.figure(figsize=(10, 6))\n",
    "plt.scatter(x, y, color='blue', alpha=0.5)\n",
    "\n",
    "# Настройка осей и заголовка\n",
    "plt.xlabel('Пользователи')\n",
    "plt.ylabel('Количество событий')\n",
    "plt.title('Количество событий для каждого пользователя')\n",
    "\n",
    "# Установка предела для оси Y\n",
    "plt.ylim(0, 500)\n",
    "\n",
    "# Отображение графика\n",
    "plt.show()"
   ]
  },
  {
   "cell_type": "markdown",
   "metadata": {},
   "source": [
    "Как мы видим, действительно - большая часть пользователей совершает до 100 операций"
   ]
  },
  {
   "cell_type": "markdown",
   "metadata": {},
   "source": [
    "**Данными за какой период мы располагаем? Найдем максимальную и минимальную дату**"
   ]
  },
  {
   "cell_type": "code",
   "execution_count": 45,
   "metadata": {},
   "outputs": [
    {
     "name": "stdout",
     "output_type": "stream",
     "text": [
      "Максимальная дата 2019-08-07 21:15:17\n",
      "Минимальная дата 2019-07-25 04:43:36\n",
      "Период исследуемых данных 13 days 16:31:41\n"
     ]
    }
   ],
   "source": [
    "print('Максимальная дата', logs['date'].max())\n",
    "print('Минимальная дата', logs['date'].min())\n",
    "print('Период исследуемых данных',logs['date_time'].max()-logs['date_time'].min())"
   ]
  },
  {
   "cell_type": "markdown",
   "metadata": {},
   "source": [
    "Период в почти 2 недели считаю определенно достаточным для изучения в случае покупок продуктов питания, так как это постоянная потребность. Однако стоит обратить внимание влияют ли на данные исследования те пользователи, которые начали использовать продукт до анализа.\n",
    "\n",
    "**Построим гистограмму по дате и времени**\n"
   ]
  },
  {
   "cell_type": "code",
   "execution_count": 46,
   "metadata": {},
   "outputs": [
    {
     "data": {
      "image/png": "[encoded data removed]",
      "text/plain": [
       "<Figure size 864x576 with 1 Axes>"
      ]
     },
     "metadata": {},
     "output_type": "display_data"
    }
   ],
   "source": [
    "ax = logs['date_time'].hist(bins=312)\n",
    "plt.title('Гистограмма по дате и времени')\n",
    "plt.xlabel('Дата')\n",
    "plt.ylabel('Количество событий')\n",
    "plt.xticks(rotation=45)\n",
    "plt.show()"
   ]
  },
  {
   "cell_type": "markdown",
   "metadata": {},
   "source": [
    "Как мы видим из графика, полные данные мы имеем только с 1 августа, что означает о необходимости работы именно с этой группой пользователей - мы не сможем полностью проанализировать всю группу пользователей без искажения результата"
   ]
  },
  {
   "cell_type": "code",
   "execution_count": 47,
   "metadata": {},
   "outputs": [],
   "source": [
    "limit_date = pd.to_datetime('2019-08-01', format = '%Y-%m-%d')\n",
    "logs_full = logs[logs['date'] >= limit_date]"
   ]
  },
  {
   "cell_type": "markdown",
   "metadata": {},
   "source": [
    "**Проверим как отразилапсь выборка на итоговых данных?**"
   ]
  },
  {
   "cell_type": "code",
   "execution_count": 48,
   "metadata": {
    "scrolled": true
   },
   "outputs": [
    {
     "name": "stdout",
     "output_type": "stream",
     "text": [
      "Количество потерянных пользователей: 17\n",
      "Процент потерь пользователей: 0.23 %\n",
      "Количество потерянных событий: 2826\n",
      "Процент потерь событий: 1.16 %\n"
     ]
    }
   ],
   "source": [
    "print('Количество потерянных пользователей:',logs['user_id'].nunique()-logs_full['user_id'].nunique())\n",
    "print('Процент потерь пользователей:', round(100-logs_full['user_id'].nunique()/logs['user_id'].nunique()*100, 2), '%')\n",
    "print('Количество потерянных событий:', len(logs)-len(logs_full))\n",
    "print('Процент потерь событий:', round(100-len(logs_full)/len(logs)*100, 2), '%')\n"
   ]
  },
  {
   "cell_type": "markdown",
   "metadata": {},
   "source": [
    "Процент потерянных пользователей и событий менее 2%, что считаю допустимым. Ранее мы посмотрели количество событий в группах, теперь подтвердим тоже самое в очищенных данных, добавив к этому количество пользователей."
   ]
  },
  {
   "cell_type": "code",
   "execution_count": 49,
   "metadata": {},
   "outputs": [
    {
     "name": "stdout",
     "output_type": "stream",
     "text": [
      "Номера групп и события в них:\n",
      " 248    84563\n",
      "246    79302\n",
      "247    77022\n",
      "Name: exp_id, dtype: int64\n",
      "Количество пользователей в группах:\n",
      " exp_id\n",
      "246    2484\n",
      "247    2513\n",
      "248    2537\n",
      "Name: user_id, dtype: int64\n"
     ]
    }
   ],
   "source": [
    "print('Номера групп и события в них:\\n', logs_full['exp_id'].value_counts())\n",
    "\n",
    "print('Количество пользователей в группах:\\n', logs_full.groupby('exp_id')['user_id'].nunique())"
   ]
  },
  {
   "cell_type": "markdown",
   "metadata": {},
   "source": [
    "Как мы видим, количество событий и пользователей в группах примерно равно, что подтверждает возможность работать с данными. \n",
    "\n",
    "**Промежуточный итог:**\n",
    "\n",
    "Как мы видим, что у нас есть хорошо сформированные группы в период с 1 по 7 августа 2019 года. В датасете есть 5 событий, большая часть пользователей совершает до 100 событий\n"
   ]
  },
  {
   "cell_type": "markdown",
   "metadata": {},
   "source": [
    "### Изучим воронку событий"
   ]
  },
  {
   "cell_type": "markdown",
   "metadata": {},
   "source": [
    "Ранее мы изучили количество событий в датасете, обратимся к ним с группировкой по пользователям"
   ]
  },
  {
   "cell_type": "code",
   "execution_count": 50,
   "metadata": {},
   "outputs": [
    {
     "data": {
      "text/html": [
       "<div>\n",
       "<style scoped>\n",
       "    .dataframe tbody tr th:only-of-type {\n",
       "        vertical-align: middle;\n",
       "    }\n",
       "\n",
       "    .dataframe tbody tr th {\n",
       "        vertical-align: top;\n",
       "    }\n",
       "\n",
       "    .dataframe thead th {\n",
       "        text-align: right;\n",
       "    }\n",
       "</style>\n",
       "<table border=\"1\" class=\"dataframe\">\n",
       "  <thead>\n",
       "    <tr style=\"text-align: right;\">\n",
       "      <th></th>\n",
       "      <th>event_name</th>\n",
       "      <th>user_id</th>\n",
       "    </tr>\n",
       "  </thead>\n",
       "  <tbody>\n",
       "    <tr>\n",
       "      <th>0</th>\n",
       "      <td>MainScreenAppear</td>\n",
       "      <td>7419</td>\n",
       "    </tr>\n",
       "    <tr>\n",
       "      <th>1</th>\n",
       "      <td>OffersScreenAppear</td>\n",
       "      <td>4593</td>\n",
       "    </tr>\n",
       "    <tr>\n",
       "      <th>2</th>\n",
       "      <td>CartScreenAppear</td>\n",
       "      <td>3734</td>\n",
       "    </tr>\n",
       "    <tr>\n",
       "      <th>3</th>\n",
       "      <td>PaymentScreenSuccessful</td>\n",
       "      <td>3539</td>\n",
       "    </tr>\n",
       "    <tr>\n",
       "      <th>4</th>\n",
       "      <td>Tutorial</td>\n",
       "      <td>840</td>\n",
       "    </tr>\n",
       "  </tbody>\n",
       "</table>\n",
       "</div>"
      ],
      "text/plain": [
       "                event_name  user_id\n",
       "0         MainScreenAppear     7419\n",
       "1       OffersScreenAppear     4593\n",
       "2         CartScreenAppear     3734\n",
       "3  PaymentScreenSuccessful     3539\n",
       "4                 Tutorial      840"
      ]
     },
     "execution_count": 50,
     "metadata": {},
     "output_type": "execute_result"
    }
   ],
   "source": [
    "event_users = logs_full.groupby('event_name')['user_id'].nunique().sort_values(ascending=False).to_frame().reset_index()\n",
    "event_users"
   ]
  },
  {
   "cell_type": "markdown",
   "metadata": {},
   "source": [
    "Распределение аналогично. Уточним общее количество пользователей а так же посмотрим в процентах, как много из них прошли тот или иной этап. "
   ]
  },
  {
   "cell_type": "code",
   "execution_count": 51,
   "metadata": {},
   "outputs": [
    {
     "name": "stdout",
     "output_type": "stream",
     "text": [
      "Общее количество уникальных пользователей, совершивших события: 7534\n"
     ]
    },
    {
     "data": {
      "text/html": [
       "<div>\n",
       "<style scoped>\n",
       "    .dataframe tbody tr th:only-of-type {\n",
       "        vertical-align: middle;\n",
       "    }\n",
       "\n",
       "    .dataframe tbody tr th {\n",
       "        vertical-align: top;\n",
       "    }\n",
       "\n",
       "    .dataframe thead th {\n",
       "        text-align: right;\n",
       "    }\n",
       "</style>\n",
       "<table border=\"1\" class=\"dataframe\">\n",
       "  <thead>\n",
       "    <tr style=\"text-align: right;\">\n",
       "      <th></th>\n",
       "      <th>event_name</th>\n",
       "      <th>user_id</th>\n",
       "      <th>percent</th>\n",
       "    </tr>\n",
       "  </thead>\n",
       "  <tbody>\n",
       "    <tr>\n",
       "      <th>0</th>\n",
       "      <td>MainScreenAppear</td>\n",
       "      <td>7419</td>\n",
       "      <td>98.5</td>\n",
       "    </tr>\n",
       "    <tr>\n",
       "      <th>1</th>\n",
       "      <td>OffersScreenAppear</td>\n",
       "      <td>4593</td>\n",
       "      <td>61.0</td>\n",
       "    </tr>\n",
       "    <tr>\n",
       "      <th>2</th>\n",
       "      <td>CartScreenAppear</td>\n",
       "      <td>3734</td>\n",
       "      <td>49.6</td>\n",
       "    </tr>\n",
       "    <tr>\n",
       "      <th>3</th>\n",
       "      <td>PaymentScreenSuccessful</td>\n",
       "      <td>3539</td>\n",
       "      <td>47.0</td>\n",
       "    </tr>\n",
       "    <tr>\n",
       "      <th>4</th>\n",
       "      <td>Tutorial</td>\n",
       "      <td>840</td>\n",
       "      <td>11.1</td>\n",
       "    </tr>\n",
       "  </tbody>\n",
       "</table>\n",
       "</div>"
      ],
      "text/plain": [
       "                event_name  user_id  percent\n",
       "0         MainScreenAppear     7419     98.5\n",
       "1       OffersScreenAppear     4593     61.0\n",
       "2         CartScreenAppear     3734     49.6\n",
       "3  PaymentScreenSuccessful     3539     47.0\n",
       "4                 Tutorial      840     11.1"
      ]
     },
     "execution_count": 51,
     "metadata": {},
     "output_type": "execute_result"
    }
   ],
   "source": [
    "total_users = logs_full['user_id'].nunique()\n",
    "print('Общее количество уникальных пользователей, совершивших события:', total_users)\n",
    "\n",
    "event_users['percent'] = (event_users['user_id'] / total_users).round(3) * 100 \n",
    "event_users"
   ]
  },
  {
   "cell_type": "markdown",
   "metadata": {},
   "source": [
    "Доли пользователей распределились так: 98.5 % пользователей побывало на главном экране, 61% ознакомились с предложениями, 49.6 % добавили продукты в корзину, 47% дошли до этапа ввода банковских данных, но только 11.1% прошли обучение по работе с приложением."
   ]
  },
  {
   "cell_type": "markdown",
   "metadata": {},
   "source": [
    "**В каком порядке происходят события? Все ли они выстраиваются в последовательную цепочку?**\n",
    "\n",
    "Как я считаю происходит следующие - пользователи попадают на главный экран. В случае, если это первый запуск сервиса, происходит предложение с прохождением обучения. Этот этап пропускает большинство пользователей - возможно не хотят тратить время на то, что им интуитивно понятно. Затем они переходят на этап выбора продуктов, после чего добавляют понравившиеся предложения в корзину, затем оплачивают заказ.\n"
   ]
  },
  {
   "cell_type": "markdown",
   "metadata": {},
   "source": [
    "**По воронке событий посчитаем, какая доля пользователей проходит на следующий шаг воронки от числа пользователей на предыдущем.**"
   ]
  },
  {
   "cell_type": "code",
   "execution_count": 52,
   "metadata": {},
   "outputs": [
    {
     "data": {
      "text/html": [
       "<div>\n",
       "<style scoped>\n",
       "    .dataframe tbody tr th:only-of-type {\n",
       "        vertical-align: middle;\n",
       "    }\n",
       "\n",
       "    .dataframe tbody tr th {\n",
       "        vertical-align: top;\n",
       "    }\n",
       "\n",
       "    .dataframe thead th {\n",
       "        text-align: right;\n",
       "    }\n",
       "</style>\n",
       "<table border=\"1\" class=\"dataframe\">\n",
       "  <thead>\n",
       "    <tr style=\"text-align: right;\">\n",
       "      <th></th>\n",
       "      <th>event_name</th>\n",
       "      <th>user_id</th>\n",
       "      <th>percent</th>\n",
       "      <th>next_step</th>\n",
       "      <th>previous_user_id</th>\n",
       "    </tr>\n",
       "  </thead>\n",
       "  <tbody>\n",
       "    <tr>\n",
       "      <th>0</th>\n",
       "      <td>MainScreenAppear</td>\n",
       "      <td>7419</td>\n",
       "      <td>98.5</td>\n",
       "      <td>1.000000</td>\n",
       "      <td>NaN</td>\n",
       "    </tr>\n",
       "    <tr>\n",
       "      <th>1</th>\n",
       "      <td>OffersScreenAppear</td>\n",
       "      <td>4593</td>\n",
       "      <td>61.0</td>\n",
       "      <td>0.619086</td>\n",
       "      <td>7419.0</td>\n",
       "    </tr>\n",
       "    <tr>\n",
       "      <th>2</th>\n",
       "      <td>CartScreenAppear</td>\n",
       "      <td>3734</td>\n",
       "      <td>49.6</td>\n",
       "      <td>0.812976</td>\n",
       "      <td>4593.0</td>\n",
       "    </tr>\n",
       "    <tr>\n",
       "      <th>3</th>\n",
       "      <td>PaymentScreenSuccessful</td>\n",
       "      <td>3539</td>\n",
       "      <td>47.0</td>\n",
       "      <td>0.947777</td>\n",
       "      <td>3734.0</td>\n",
       "    </tr>\n",
       "  </tbody>\n",
       "</table>\n",
       "</div>"
      ],
      "text/plain": [
       "                event_name  user_id  percent  next_step  previous_user_id\n",
       "0         MainScreenAppear     7419     98.5   1.000000               NaN\n",
       "1       OffersScreenAppear     4593     61.0   0.619086            7419.0\n",
       "2         CartScreenAppear     3734     49.6   0.812976            4593.0\n",
       "3  PaymentScreenSuccessful     3539     47.0   0.947777            3734.0"
      ]
     },
     "execution_count": 52,
     "metadata": {},
     "output_type": "execute_result"
    }
   ],
   "source": [
    "event_users.drop([4], axis=0, inplace=True)\n",
    "event_users['next_step'] = 1\n",
    "for i in range(1, 4):\n",
    "    event_users.loc[i, 'next_step'] = event_users.loc[i, 'user_id'] / (event_users.loc[i-1, 'user_id'])\n",
    "event_users['previous_user_id'] = event_users['user_id'].shift(1)\n",
    "event_users"
   ]
  },
  {
   "cell_type": "markdown",
   "metadata": {},
   "source": [
    "Как мы видим наибольшая часть пользователей останавливается на этапе просмотра предложений и не переходит дальше. Построим график для наглядности"
   ]
  },
  {
   "cell_type": "code",
   "execution_count": 53,
   "metadata": {},
   "outputs": [
    {
     "data": {
      "image/png": "[encoded data removed]",
      "text/plain": [
       "<Figure size 864x576 with 1 Axes>"
      ]
     },
     "metadata": {},
     "output_type": "display_data"
    }
   ],
   "source": [
    "plt.figure()\n",
    "sns.barplot(data=event_users.loc[0:4], x='event_name', y='user_id')\n",
    "plt.title('Потеря пользователей по шагам')\n",
    "plt.xlabel('События')\n",
    "plt.ylabel('Количество пользователей')\n",
    "plt.show()"
   ]
  },
  {
   "cell_type": "markdown",
   "metadata": {},
   "source": [
    "Подтверждаю мысль - наибольшее количество пользователей \"отваливается\" на этапе просмотра предложений. Возможно это связано с тем, что они не нашли подходящих для себя выгодных предложений. "
   ]
  },
  {
   "cell_type": "markdown",
   "metadata": {},
   "source": [
    "**Какая доля пользователей доходит от первого события до оплаты?**"
   ]
  },
  {
   "cell_type": "code",
   "execution_count": 54,
   "metadata": {},
   "outputs": [
    {
     "data": {
      "application/vnd.plotly.v1+json": {
       "config": {
        "plotlyServerURL": "https://plot.ly"
       },
       "data": [
        {
         "marker": {
          "color": "#1c1847"
         },
         "textinfo": "value+percent initial",
         "textposition": "inside",
         "type": "funnel",
         "x": [
          7419,
          4593,
          3734,
          3539
         ],
         "y": [
          "MainScreenAppear",
          "OffersScreenAppear",
          "CartScreenAppear",
          "PaymentScreenSuccessful"
         ]
        }
       ],
       "layout": {
        "template": {
         "data": {
          "bar": [
           {
            "error_x": {
             "color": "#2a3f5f"
            },
            "error_y": {
             "color": "#2a3f5f"
            },
            "marker": {
             "line": {
              "color": "#E5ECF6",
              "width": 0.5
             },
             "pattern": {
              "fillmode": "overlay",
              "size": 10,
              "solidity": 0.2
             }
            },
            "type": "bar"
           }
          ],
          "barpolar": [
           {
            "marker": {
             "line": {
              "color": "#E5ECF6",
              "width": 0.5
             },
             "pattern": {
              "fillmode": "overlay",
              "size": 10,
              "solidity": 0.2
             }
            },
            "type": "barpolar"
           }
          ],
          "carpet": [
           {
            "aaxis": {
             "endlinecolor": "#2a3f5f",
             "gridcolor": "white",
             "linecolor": "white",
             "minorgridcolor": "white",
             "startlinecolor": "#2a3f5f"
            },
            "baxis": {
             "endlinecolor": "#2a3f5f",
             "gridcolor": "white",
             "linecolor": "white",
             "minorgridcolor": "white",
             "startlinecolor": "#2a3f5f"
            },
            "type": "carpet"
           }
          ],
          "choropleth": [
           {
            "colorbar": {
             "outlinewidth": 0,
             "ticks": ""
            },
            "type": "choropleth"
           }
          ],
          "contour": [
           {
            "colorbar": {
             "outlinewidth": 0,
             "ticks": ""
            },
            "colorscale": [
             [
              0,
              "#0d0887"
             ],
             [
              0.1111111111111111,
              "#46039f"
             ],
             [
              0.2222222222222222,
              "#7201a8"
             ],
             [
              0.3333333333333333,
              "#9c179e"
             ],
             [
              0.4444444444444444,
              "#bd3786"
             ],
             [
              0.5555555555555556,
              "#d8576b"
             ],
             [
              0.6666666666666666,
              "#ed7953"
             ],
             [
              0.7777777777777778,
              "#fb9f3a"
             ],
             [
              0.8888888888888888,
              "#fdca26"
             ],
             [
              1,
              "#f0f921"
             ]
            ],
            "type": "contour"
           }
          ],
          "contourcarpet": [
           {
            "colorbar": {
             "outlinewidth": 0,
             "ticks": ""
            },
            "type": "contourcarpet"
           }
          ],
          "heatmap": [
           {
            "colorbar": {
             "outlinewidth": 0,
             "ticks": ""
            },
            "colorscale": [
             [
              0,
              "#0d0887"
             ],
             [
              0.1111111111111111,
              "#46039f"
             ],
             [
              0.2222222222222222,
              "#7201a8"
             ],
             [
              0.3333333333333333,
              "#9c179e"
             ],
             [
              0.4444444444444444,
              "#bd3786"
             ],
             [
              0.5555555555555556,
              "#d8576b"
             ],
             [
              0.6666666666666666,
              "#ed7953"
             ],
             [
              0.7777777777777778,
              "#fb9f3a"
             ],
             [
              0.8888888888888888,
              "#fdca26"
             ],
             [
              1,
              "#f0f921"
             ]
            ],
            "type": "heatmap"
           }
          ],
          "heatmapgl": [
           {
            "colorbar": {
             "outlinewidth": 0,
             "ticks": ""
            },
            "colorscale": [
             [
              0,
              "#0d0887"
             ],
             [
              0.1111111111111111,
              "#46039f"
             ],
             [
              0.2222222222222222,
              "#7201a8"
             ],
             [
              0.3333333333333333,
              "#9c179e"
             ],
             [
              0.4444444444444444,
              "#bd3786"
             ],
             [
              0.5555555555555556,
              "#d8576b"
             ],
             [
              0.6666666666666666,
              "#ed7953"
             ],
             [
              0.7777777777777778,
              "#fb9f3a"
             ],
             [
              0.8888888888888888,
              "#fdca26"
             ],
             [
              1,
              "#f0f921"
             ]
            ],
            "type": "heatmapgl"
           }
          ],
          "histogram": [
           {
            "marker": {
             "pattern": {
              "fillmode": "overlay",
              "size": 10,
              "solidity": 0.2
             }
            },
            "type": "histogram"
           }
          ],
          "histogram2d": [
           {
            "colorbar": {
             "outlinewidth": 0,
             "ticks": ""
            },
            "colorscale": [
             [
              0,
              "#0d0887"
             ],
             [
              0.1111111111111111,
              "#46039f"
             ],
             [
              0.2222222222222222,
              "#7201a8"
             ],
             [
              0.3333333333333333,
              "#9c179e"
             ],
             [
              0.4444444444444444,
              "#bd3786"
             ],
             [
              0.5555555555555556,
              "#d8576b"
             ],
             [
              0.6666666666666666,
              "#ed7953"
             ],
             [
              0.7777777777777778,
              "#fb9f3a"
             ],
             [
              0.8888888888888888,
              "#fdca26"
             ],
             [
              1,
              "#f0f921"
             ]
            ],
            "type": "histogram2d"
           }
          ],
          "histogram2dcontour": [
           {
            "colorbar": {
             "outlinewidth": 0,
             "ticks": ""
            },
            "colorscale": [
             [
              0,
              "#0d0887"
             ],
             [
              0.1111111111111111,
              "#46039f"
             ],
             [
              0.2222222222222222,
              "#7201a8"
             ],
             [
              0.3333333333333333,
              "#9c179e"
             ],
             [
              0.4444444444444444,
              "#bd3786"
             ],
             [
              0.5555555555555556,
              "#d8576b"
             ],
             [
              0.6666666666666666,
              "#ed7953"
             ],
             [
              0.7777777777777778,
              "#fb9f3a"
             ],
             [
              0.8888888888888888,
              "#fdca26"
             ],
             [
              1,
              "#f0f921"
             ]
            ],
            "type": "histogram2dcontour"
           }
          ],
          "mesh3d": [
           {
            "colorbar": {
             "outlinewidth": 0,
             "ticks": ""
            },
            "type": "mesh3d"
           }
          ],
          "parcoords": [
           {
            "line": {
             "colorbar": {
              "outlinewidth": 0,
              "ticks": ""
             }
            },
            "type": "parcoords"
           }
          ],
          "pie": [
           {
            "automargin": true,
            "type": "pie"
           }
          ],
          "scatter": [
           {
            "marker": {
             "colorbar": {
              "outlinewidth": 0,
              "ticks": ""
             }
            },
            "type": "scatter"
           }
          ],
          "scatter3d": [
           {
            "line": {
             "colorbar": {
              "outlinewidth": 0,
              "ticks": ""
             }
            },
            "marker": {
             "colorbar": {
              "outlinewidth": 0,
              "ticks": ""
             }
            },
            "type": "scatter3d"
           }
          ],
          "scattercarpet": [
           {
            "marker": {
             "colorbar": {
              "outlinewidth": 0,
              "ticks": ""
             }
            },
            "type": "scattercarpet"
           }
          ],
          "scattergeo": [
           {
            "marker": {
             "colorbar": {
              "outlinewidth": 0,
              "ticks": ""
             }
            },
            "type": "scattergeo"
           }
          ],
          "scattergl": [
           {
            "marker": {
             "colorbar": {
              "outlinewidth": 0,
              "ticks": ""
             }
            },
            "type": "scattergl"
           }
          ],
          "scattermapbox": [
           {
            "marker": {
             "colorbar": {
              "outlinewidth": 0,
              "ticks": ""
             }
            },
            "type": "scattermapbox"
           }
          ],
          "scatterpolar": [
           {
            "marker": {
             "colorbar": {
              "outlinewidth": 0,
              "ticks": ""
             }
            },
            "type": "scatterpolar"
           }
          ],
          "scatterpolargl": [
           {
            "marker": {
             "colorbar": {
              "outlinewidth": 0,
              "ticks": ""
             }
            },
            "type": "scatterpolargl"
           }
          ],
          "scatterternary": [
           {
            "marker": {
             "colorbar": {
              "outlinewidth": 0,
              "ticks": ""
             }
            },
            "type": "scatterternary"
           }
          ],
          "surface": [
           {
            "colorbar": {
             "outlinewidth": 0,
             "ticks": ""
            },
            "colorscale": [
             [
              0,
              "#0d0887"
             ],
             [
              0.1111111111111111,
              "#46039f"
             ],
             [
              0.2222222222222222,
              "#7201a8"
             ],
             [
              0.3333333333333333,
              "#9c179e"
             ],
             [
              0.4444444444444444,
              "#bd3786"
             ],
             [
              0.5555555555555556,
              "#d8576b"
             ],
             [
              0.6666666666666666,
              "#ed7953"
             ],
             [
              0.7777777777777778,
              "#fb9f3a"
             ],
             [
              0.8888888888888888,
              "#fdca26"
             ],
             [
              1,
              "#f0f921"
             ]
            ],
            "type": "surface"
           }
          ],
          "table": [
           {
            "cells": {
             "fill": {
              "color": "#EBF0F8"
             },
             "line": {
              "color": "white"
             }
            },
            "header": {
             "fill": {
              "color": "#C8D4E3"
             },
             "line": {
              "color": "white"
             }
            },
            "type": "table"
           }
          ]
         },
         "layout": {
          "annotationdefaults": {
           "arrowcolor": "#2a3f5f",
           "arrowhead": 0,
           "arrowwidth": 1
          },
          "autotypenumbers": "strict",
          "coloraxis": {
           "colorbar": {
            "outlinewidth": 0,
            "ticks": ""
           }
          },
          "colorscale": {
           "diverging": [
            [
             0,
             "#8e0152"
            ],
            [
             0.1,
             "#c51b7d"
            ],
            [
             0.2,
             "#de77ae"
            ],
            [
             0.3,
             "#f1b6da"
            ],
            [
             0.4,
             "#fde0ef"
            ],
            [
             0.5,
             "#f7f7f7"
            ],
            [
             0.6,
             "#e6f5d0"
            ],
            [
             0.7,
             "#b8e186"
            ],
            [
             0.8,
             "#7fbc41"
            ],
            [
             0.9,
             "#4d9221"
            ],
            [
             1,
             "#276419"
            ]
           ],
           "sequential": [
            [
             0,
             "#0d0887"
            ],
            [
             0.1111111111111111,
             "#46039f"
            ],
            [
             0.2222222222222222,
             "#7201a8"
            ],
            [
             0.3333333333333333,
             "#9c179e"
            ],
            [
             0.4444444444444444,
             "#bd3786"
            ],
            [
             0.5555555555555556,
             "#d8576b"
            ],
            [
             0.6666666666666666,
             "#ed7953"
            ],
            [
             0.7777777777777778,
             "#fb9f3a"
            ],
            [
             0.8888888888888888,
             "#fdca26"
            ],
            [
             1,
             "#f0f921"
            ]
           ],
           "sequentialminus": [
            [
             0,
             "#0d0887"
            ],
            [
             0.1111111111111111,
             "#46039f"
            ],
            [
             0.2222222222222222,
             "#7201a8"
            ],
            [
             0.3333333333333333,
             "#9c179e"
            ],
            [
             0.4444444444444444,
             "#bd3786"
            ],
            [
             0.5555555555555556,
             "#d8576b"
            ],
            [
             0.6666666666666666,
             "#ed7953"
            ],
            [
             0.7777777777777778,
             "#fb9f3a"
            ],
            [
             0.8888888888888888,
             "#fdca26"
            ],
            [
             1,
             "#f0f921"
            ]
           ]
          },
          "colorway": [
           "#636efa",
           "#EF553B",
           "#00cc96",
           "#ab63fa",
           "#FFA15A",
           "#19d3f3",
           "#FF6692",
           "#B6E880",
           "#FF97FF",
           "#FECB52"
          ],
          "font": {
           "color": "#2a3f5f"
          },
          "geo": {
           "bgcolor": "white",
           "lakecolor": "white",
           "landcolor": "#E5ECF6",
           "showlakes": true,
           "showland": true,
           "subunitcolor": "white"
          },
          "hoverlabel": {
           "align": "left"
          },
          "hovermode": "closest",
          "mapbox": {
           "style": "light"
          },
          "paper_bgcolor": "white",
          "plot_bgcolor": "#E5ECF6",
          "polar": {
           "angularaxis": {
            "gridcolor": "white",
            "linecolor": "white",
            "ticks": ""
           },
           "bgcolor": "#E5ECF6",
           "radialaxis": {
            "gridcolor": "white",
            "linecolor": "white",
            "ticks": ""
           }
          },
          "scene": {
           "xaxis": {
            "backgroundcolor": "#E5ECF6",
            "gridcolor": "white",
            "gridwidth": 2,
            "linecolor": "white",
            "showbackground": true,
            "ticks": "",
            "zerolinecolor": "white"
           },
           "yaxis": {
            "backgroundcolor": "#E5ECF6",
            "gridcolor": "white",
            "gridwidth": 2,
            "linecolor": "white",
            "showbackground": true,
            "ticks": "",
            "zerolinecolor": "white"
           },
           "zaxis": {
            "backgroundcolor": "#E5ECF6",
            "gridcolor": "white",
            "gridwidth": 2,
            "linecolor": "white",
            "showbackground": true,
            "ticks": "",
            "zerolinecolor": "white"
           }
          },
          "shapedefaults": {
           "line": {
            "color": "#2a3f5f"
           }
          },
          "ternary": {
           "aaxis": {
            "gridcolor": "white",
            "linecolor": "white",
            "ticks": ""
           },
           "baxis": {
            "gridcolor": "white",
            "linecolor": "white",
            "ticks": ""
           },
           "bgcolor": "#E5ECF6",
           "caxis": {
            "gridcolor": "white",
            "linecolor": "white",
            "ticks": ""
           }
          },
          "title": {
           "x": 0.05
          },
          "xaxis": {
           "automargin": true,
           "gridcolor": "white",
           "linecolor": "white",
           "ticks": "",
           "title": {
            "standoff": 15
           },
           "zerolinecolor": "white",
           "zerolinewidth": 2
          },
          "yaxis": {
           "automargin": true,
           "gridcolor": "white",
           "linecolor": "white",
           "ticks": "",
           "title": {
            "standoff": 15
           },
           "zerolinecolor": "white",
           "zerolinewidth": 2
          }
         }
        },
        "title": {
         "text": "Воронка событий по пользователям",
         "x": 0.5
        }
       }
      },
      "text/html": [
       "<div>                            <div id=\"cbc49be0-3445-48f3-963f-fdd081c5dbba\" class=\"plotly-graph-div\" style=\"height:525px; width:100%;\"></div>            <script type=\"text/javascript\">                require([\"plotly\"], function(Plotly) {                    window.PLOTLYENV=window.PLOTLYENV || {};                                    if (document.getElementById(\"cbc49be0-3445-48f3-963f-fdd081c5dbba\")) {                    Plotly.newPlot(                        \"cbc49be0-3445-48f3-963f-fdd081c5dbba\",                        [{\"marker\":{\"color\":\"#1c1847\"},\"textinfo\":\"value+percent initial\",\"textposition\":\"inside\",\"x\":[7419,4593,3734,3539],\"y\":[\"MainScreenAppear\",\"OffersScreenAppear\",\"CartScreenAppear\",\"PaymentScreenSuccessful\"],\"type\":\"funnel\"}],                        {\"template\":{\"data\":{\"bar\":[{\"error_x\":{\"color\":\"#2a3f5f\"},\"error_y\":{\"color\":\"#2a3f5f\"},\"marker\":{\"line\":{\"color\":\"#E5ECF6\",\"width\":0.5},\"pattern\":{\"fillmode\":\"overlay\",\"size\":10,\"solidity\":0.2}},\"type\":\"bar\"}],\"barpolar\":[{\"marker\":{\"line\":{\"color\":\"#E5ECF6\",\"width\":0.5},\"pattern\":{\"fillmode\":\"overlay\",\"size\":10,\"solidity\":0.2}},\"type\":\"barpolar\"}],\"carpet\":[{\"aaxis\":{\"endlinecolor\":\"#2a3f5f\",\"gridcolor\":\"white\",\"linecolor\":\"white\",\"minorgridcolor\":\"white\",\"startlinecolor\":\"#2a3f5f\"},\"baxis\":{\"endlinecolor\":\"#2a3f5f\",\"gridcolor\":\"white\",\"linecolor\":\"white\",\"minorgridcolor\":\"white\",\"startlinecolor\":\"#2a3f5f\"},\"type\":\"carpet\"}],\"choropleth\":[{\"colorbar\":{\"outlinewidth\":0,\"ticks\":\"\"},\"type\":\"choropleth\"}],\"contour\":[{\"colorbar\":{\"outlinewidth\":0,\"ticks\":\"\"},\"colorscale\":[[0.0,\"#0d0887\"],[0.1111111111111111,\"#46039f\"],[0.2222222222222222,\"#7201a8\"],[0.3333333333333333,\"#9c179e\"],[0.4444444444444444,\"#bd3786\"],[0.5555555555555556,\"#d8576b\"],[0.6666666666666666,\"#ed7953\"],[0.7777777777777778,\"#fb9f3a\"],[0.8888888888888888,\"#fdca26\"],[1.0,\"#f0f921\"]],\"type\":\"contour\"}],\"contourcarpet\":[{\"colorbar\":{\"outlinewidth\":0,\"ticks\":\"\"},\"type\":\"contourcarpet\"}],\"heatmap\":[{\"colorbar\":{\"outlinewidth\":0,\"ticks\":\"\"},\"colorscale\":[[0.0,\"#0d0887\"],[0.1111111111111111,\"#46039f\"],[0.2222222222222222,\"#7201a8\"],[0.3333333333333333,\"#9c179e\"],[0.4444444444444444,\"#bd3786\"],[0.5555555555555556,\"#d8576b\"],[0.6666666666666666,\"#ed7953\"],[0.7777777777777778,\"#fb9f3a\"],[0.8888888888888888,\"#fdca26\"],[1.0,\"#f0f921\"]],\"type\":\"heatmap\"}],\"heatmapgl\":[{\"colorbar\":{\"outlinewidth\":0,\"ticks\":\"\"},\"colorscale\":[[0.0,\"#0d0887\"],[0.1111111111111111,\"#46039f\"],[0.2222222222222222,\"#7201a8\"],[0.3333333333333333,\"#9c179e\"],[0.4444444444444444,\"#bd3786\"],[0.5555555555555556,\"#d8576b\"],[0.6666666666666666,\"#ed7953\"],[0.7777777777777778,\"#fb9f3a\"],[0.8888888888888888,\"#fdca26\"],[1.0,\"#f0f921\"]],\"type\":\"heatmapgl\"}],\"histogram\":[{\"marker\":{\"pattern\":{\"fillmode\":\"overlay\",\"size\":10,\"solidity\":0.2}},\"type\":\"histogram\"}],\"histogram2d\":[{\"colorbar\":{\"outlinewidth\":0,\"ticks\":\"\"},\"colorscale\":[[0.0,\"#0d0887\"],[0.1111111111111111,\"#46039f\"],[0.2222222222222222,\"#7201a8\"],[0.3333333333333333,\"#9c179e\"],[0.4444444444444444,\"#bd3786\"],[0.5555555555555556,\"#d8576b\"],[0.6666666666666666,\"#ed7953\"],[0.7777777777777778,\"#fb9f3a\"],[0.8888888888888888,\"#fdca26\"],[1.0,\"#f0f921\"]],\"type\":\"histogram2d\"}],\"histogram2dcontour\":[{\"colorbar\":{\"outlinewidth\":0,\"ticks\":\"\"},\"colorscale\":[[0.0,\"#0d0887\"],[0.1111111111111111,\"#46039f\"],[0.2222222222222222,\"#7201a8\"],[0.3333333333333333,\"#9c179e\"],[0.4444444444444444,\"#bd3786\"],[0.5555555555555556,\"#d8576b\"],[0.6666666666666666,\"#ed7953\"],[0.7777777777777778,\"#fb9f3a\"],[0.8888888888888888,\"#fdca26\"],[1.0,\"#f0f921\"]],\"type\":\"histogram2dcontour\"}],\"mesh3d\":[{\"colorbar\":{\"outlinewidth\":0,\"ticks\":\"\"},\"type\":\"mesh3d\"}],\"parcoords\":[{\"line\":{\"colorbar\":{\"outlinewidth\":0,\"ticks\":\"\"}},\"type\":\"parcoords\"}],\"pie\":[{\"automargin\":true,\"type\":\"pie\"}],\"scatter\":[{\"marker\":{\"colorbar\":{\"outlinewidth\":0,\"ticks\":\"\"}},\"type\":\"scatter\"}],\"scatter3d\":[{\"line\":{\"colorbar\":{\"outlinewidth\":0,\"ticks\":\"\"}},\"marker\":{\"colorbar\":{\"outlinewidth\":0,\"ticks\":\"\"}},\"type\":\"scatter3d\"}],\"scattercarpet\":[{\"marker\":{\"colorbar\":{\"outlinewidth\":0,\"ticks\":\"\"}},\"type\":\"scattercarpet\"}],\"scattergeo\":[{\"marker\":{\"colorbar\":{\"outlinewidth\":0,\"ticks\":\"\"}},\"type\":\"scattergeo\"}],\"scattergl\":[{\"marker\":{\"colorbar\":{\"outlinewidth\":0,\"ticks\":\"\"}},\"type\":\"scattergl\"}],\"scattermapbox\":[{\"marker\":{\"colorbar\":{\"outlinewidth\":0,\"ticks\":\"\"}},\"type\":\"scattermapbox\"}],\"scatterpolar\":[{\"marker\":{\"colorbar\":{\"outlinewidth\":0,\"ticks\":\"\"}},\"type\":\"scatterpolar\"}],\"scatterpolargl\":[{\"marker\":{\"colorbar\":{\"outlinewidth\":0,\"ticks\":\"\"}},\"type\":\"scatterpolargl\"}],\"scatterternary\":[{\"marker\":{\"colorbar\":{\"outlinewidth\":0,\"ticks\":\"\"}},\"type\":\"scatterternary\"}],\"surface\":[{\"colorbar\":{\"outlinewidth\":0,\"ticks\":\"\"},\"colorscale\":[[0.0,\"#0d0887\"],[0.1111111111111111,\"#46039f\"],[0.2222222222222222,\"#7201a8\"],[0.3333333333333333,\"#9c179e\"],[0.4444444444444444,\"#bd3786\"],[0.5555555555555556,\"#d8576b\"],[0.6666666666666666,\"#ed7953\"],[0.7777777777777778,\"#fb9f3a\"],[0.8888888888888888,\"#fdca26\"],[1.0,\"#f0f921\"]],\"type\":\"surface\"}],\"table\":[{\"cells\":{\"fill\":{\"color\":\"#EBF0F8\"},\"line\":{\"color\":\"white\"}},\"header\":{\"fill\":{\"color\":\"#C8D4E3\"},\"line\":{\"color\":\"white\"}},\"type\":\"table\"}]},\"layout\":{\"annotationdefaults\":{\"arrowcolor\":\"#2a3f5f\",\"arrowhead\":0,\"arrowwidth\":1},\"autotypenumbers\":\"strict\",\"coloraxis\":{\"colorbar\":{\"outlinewidth\":0,\"ticks\":\"\"}},\"colorscale\":{\"diverging\":[[0,\"#8e0152\"],[0.1,\"#c51b7d\"],[0.2,\"#de77ae\"],[0.3,\"#f1b6da\"],[0.4,\"#fde0ef\"],[0.5,\"#f7f7f7\"],[0.6,\"#e6f5d0\"],[0.7,\"#b8e186\"],[0.8,\"#7fbc41\"],[0.9,\"#4d9221\"],[1,\"#276419\"]],\"sequential\":[[0.0,\"#0d0887\"],[0.1111111111111111,\"#46039f\"],[0.2222222222222222,\"#7201a8\"],[0.3333333333333333,\"#9c179e\"],[0.4444444444444444,\"#bd3786\"],[0.5555555555555556,\"#d8576b\"],[0.6666666666666666,\"#ed7953\"],[0.7777777777777778,\"#fb9f3a\"],[0.8888888888888888,\"#fdca26\"],[1.0,\"#f0f921\"]],\"sequentialminus\":[[0.0,\"#0d0887\"],[0.1111111111111111,\"#46039f\"],[0.2222222222222222,\"#7201a8\"],[0.3333333333333333,\"#9c179e\"],[0.4444444444444444,\"#bd3786\"],[0.5555555555555556,\"#d8576b\"],[0.6666666666666666,\"#ed7953\"],[0.7777777777777778,\"#fb9f3a\"],[0.8888888888888888,\"#fdca26\"],[1.0,\"#f0f921\"]]},\"colorway\":[\"#636efa\",\"#EF553B\",\"#00cc96\",\"#ab63fa\",\"#FFA15A\",\"#19d3f3\",\"#FF6692\",\"#B6E880\",\"#FF97FF\",\"#FECB52\"],\"font\":{\"color\":\"#2a3f5f\"},\"geo\":{\"bgcolor\":\"white\",\"lakecolor\":\"white\",\"landcolor\":\"#E5ECF6\",\"showlakes\":true,\"showland\":true,\"subunitcolor\":\"white\"},\"hoverlabel\":{\"align\":\"left\"},\"hovermode\":\"closest\",\"mapbox\":{\"style\":\"light\"},\"paper_bgcolor\":\"white\",\"plot_bgcolor\":\"#E5ECF6\",\"polar\":{\"angularaxis\":{\"gridcolor\":\"white\",\"linecolor\":\"white\",\"ticks\":\"\"},\"bgcolor\":\"#E5ECF6\",\"radialaxis\":{\"gridcolor\":\"white\",\"linecolor\":\"white\",\"ticks\":\"\"}},\"scene\":{\"xaxis\":{\"backgroundcolor\":\"#E5ECF6\",\"gridcolor\":\"white\",\"gridwidth\":2,\"linecolor\":\"white\",\"showbackground\":true,\"ticks\":\"\",\"zerolinecolor\":\"white\"},\"yaxis\":{\"backgroundcolor\":\"#E5ECF6\",\"gridcolor\":\"white\",\"gridwidth\":2,\"linecolor\":\"white\",\"showbackground\":true,\"ticks\":\"\",\"zerolinecolor\":\"white\"},\"zaxis\":{\"backgroundcolor\":\"#E5ECF6\",\"gridcolor\":\"white\",\"gridwidth\":2,\"linecolor\":\"white\",\"showbackground\":true,\"ticks\":\"\",\"zerolinecolor\":\"white\"}},\"shapedefaults\":{\"line\":{\"color\":\"#2a3f5f\"}},\"ternary\":{\"aaxis\":{\"gridcolor\":\"white\",\"linecolor\":\"white\",\"ticks\":\"\"},\"baxis\":{\"gridcolor\":\"white\",\"linecolor\":\"white\",\"ticks\":\"\"},\"bgcolor\":\"#E5ECF6\",\"caxis\":{\"gridcolor\":\"white\",\"linecolor\":\"white\",\"ticks\":\"\"}},\"title\":{\"x\":0.05},\"xaxis\":{\"automargin\":true,\"gridcolor\":\"white\",\"linecolor\":\"white\",\"ticks\":\"\",\"title\":{\"standoff\":15},\"zerolinecolor\":\"white\",\"zerolinewidth\":2},\"yaxis\":{\"automargin\":true,\"gridcolor\":\"white\",\"linecolor\":\"white\",\"ticks\":\"\",\"title\":{\"standoff\":15},\"zerolinecolor\":\"white\",\"zerolinewidth\":2}}},\"title\":{\"text\":\"\\u0412\\u043e\\u0440\\u043e\\u043d\\u043a\\u0430 \\u0441\\u043e\\u0431\\u044b\\u0442\\u0438\\u0439 \\u043f\\u043e \\u043f\\u043e\\u043b\\u044c\\u0437\\u043e\\u0432\\u0430\\u0442\\u0435\\u043b\\u044f\\u043c\",\"x\":0.5}},                        {\"responsive\": true}                    ).then(function(){\n",
       "                            \n",
       "var gd = document.getElementById('cbc49be0-3445-48f3-963f-fdd081c5dbba');\n",
       "var x = new MutationObserver(function (mutations, observer) {{\n",
       "        var display = window.getComputedStyle(gd).display;\n",
       "        if (!display || display === 'none') {{\n",
       "            console.log([gd, 'removed!']);\n",
       "            Plotly.purge(gd);\n",
       "            observer.disconnect();\n",
       "        }}\n",
       "}});\n",
       "\n",
       "// Listen for the removal of the full notebook cells\n",
       "var notebookContainer = gd.closest('#notebook-container');\n",
       "if (notebookContainer) {{\n",
       "    x.observe(notebookContainer, {childList: true});\n",
       "}}\n",
       "\n",
       "// Listen for the clearing of the current output cell\n",
       "var outputEl = gd.closest('.output');\n",
       "if (outputEl) {{\n",
       "    x.observe(outputEl, {childList: true});\n",
       "}}\n",
       "\n",
       "                        })                };                });            </script>        </div>"
      ]
     },
     "metadata": {},
     "output_type": "display_data"
    }
   ],
   "source": [
    "event_users \n",
    "\n",
    "fig = go.Figure()\n",
    "fig = go.Figure(go.Funnel(\n",
    "    y = event_users['event_name'],\n",
    "    x = event_users['user_id'],\n",
    "    textposition = \"inside\",\n",
    "    textinfo = \"value+percent initial\",\n",
    "    marker = {\"color\": \"#1c1847\"}))\n",
    "fig.update_layout(title='Воронка событий по пользователям', title_x = 0.5)\n",
    "fig.show()"
   ]
  },
  {
   "cell_type": "markdown",
   "metadata": {},
   "source": [
    "Как видно из графика, только 48% всех пользователей проходят все этапы от главного экрана до ввода данных. Не стоит учитывать обучение, т.к. оно, скорее всего, опционально. "
   ]
  },
  {
   "cell_type": "markdown",
   "metadata": {},
   "source": [
    "**Промежуточный вывод**\n",
    "\n",
    "Мы узнали количество событий и какие это события, увидели наиболее и наименее часто встречаемое событие, предположили то, в каком порядке пользователи взаимодействуют с платформой.\n",
    "\n",
    "Можно сказать, что пользователи всегда сперва попадают на главный экран, из них лишь 48% доходят до этапа покупки, при этом только каждый десятый проходил обучение. Чаще всего клиенты уходят, не выбрав что-либо из предложений. "
   ]
  },
  {
   "cell_type": "markdown",
   "metadata": {},
   "source": [
    "### Изучим результаты эксперимента\n",
    "\n",
    "Для начала вернемся к тем данным, которые мы выяснили ранее. "
   ]
  },
  {
   "cell_type": "code",
   "execution_count": 55,
   "metadata": {},
   "outputs": [
    {
     "data": {
      "text/html": [
       "<div>\n",
       "<style scoped>\n",
       "    .dataframe tbody tr th:only-of-type {\n",
       "        vertical-align: middle;\n",
       "    }\n",
       "\n",
       "    .dataframe tbody tr th {\n",
       "        vertical-align: top;\n",
       "    }\n",
       "\n",
       "    .dataframe thead th {\n",
       "        text-align: right;\n",
       "    }\n",
       "</style>\n",
       "<table border=\"1\" class=\"dataframe\">\n",
       "  <thead>\n",
       "    <tr style=\"text-align: right;\">\n",
       "      <th></th>\n",
       "      <th>user_id</th>\n",
       "    </tr>\n",
       "    <tr>\n",
       "      <th>exp_id</th>\n",
       "      <th></th>\n",
       "    </tr>\n",
       "  </thead>\n",
       "  <tbody>\n",
       "    <tr>\n",
       "      <th>246</th>\n",
       "      <td>2484</td>\n",
       "    </tr>\n",
       "    <tr>\n",
       "      <th>247</th>\n",
       "      <td>2513</td>\n",
       "    </tr>\n",
       "    <tr>\n",
       "      <th>248</th>\n",
       "      <td>2537</td>\n",
       "    </tr>\n",
       "  </tbody>\n",
       "</table>\n",
       "</div>"
      ],
      "text/plain": [
       "        user_id\n",
       "exp_id         \n",
       "246        2484\n",
       "247        2513\n",
       "248        2537"
      ]
     },
     "execution_count": 55,
     "metadata": {},
     "output_type": "execute_result"
    }
   ],
   "source": [
    "logs_full.groupby('exp_id')['user_id'].nunique().to_frame()"
   ]
  },
  {
   "cell_type": "code",
   "execution_count": 56,
   "metadata": {},
   "outputs": [
    {
     "name": "stdout",
     "output_type": "stream",
     "text": [
      "Разница между выборками 246 и 247 - 1.15%\n"
     ]
    }
   ],
   "source": [
    "group_246 = logs_full.query('exp_id == 246').groupby('exp_id')['user_id'].nunique().reset_index()\n",
    "group_247 = logs_full.query('exp_id == 247').groupby('exp_id')['user_id'].nunique().reset_index()\n",
    "ratio = 1 - group_246.iloc[0]['user_id'] / group_247.iloc[0]['user_id']\n",
    "print('Разница между выборками 246 и 247 - {:.2%}'.format(ratio))"
   ]
  },
  {
   "cell_type": "code",
   "execution_count": 57,
   "metadata": {},
   "outputs": [
    {
     "data": {
      "text/html": [
       "<div>\n",
       "<style scoped>\n",
       "    .dataframe tbody tr th:only-of-type {\n",
       "        vertical-align: middle;\n",
       "    }\n",
       "\n",
       "    .dataframe tbody tr th {\n",
       "        vertical-align: top;\n",
       "    }\n",
       "\n",
       "    .dataframe thead th {\n",
       "        text-align: right;\n",
       "    }\n",
       "</style>\n",
       "<table border=\"1\" class=\"dataframe\">\n",
       "  <thead>\n",
       "    <tr style=\"text-align: right;\">\n",
       "      <th>event_name</th>\n",
       "      <th>exp_id</th>\n",
       "      <th>CartScreenAppear</th>\n",
       "      <th>MainScreenAppear</th>\n",
       "      <th>OffersScreenAppear</th>\n",
       "      <th>PaymentScreenSuccessful</th>\n",
       "      <th>Tutorial</th>\n",
       "    </tr>\n",
       "  </thead>\n",
       "  <tbody>\n",
       "    <tr>\n",
       "      <th>0</th>\n",
       "      <td>246</td>\n",
       "      <td>1266</td>\n",
       "      <td>2450</td>\n",
       "      <td>1542</td>\n",
       "      <td>1200</td>\n",
       "      <td>278</td>\n",
       "    </tr>\n",
       "    <tr>\n",
       "      <th>1</th>\n",
       "      <td>247</td>\n",
       "      <td>1238</td>\n",
       "      <td>2476</td>\n",
       "      <td>1520</td>\n",
       "      <td>1158</td>\n",
       "      <td>283</td>\n",
       "    </tr>\n",
       "    <tr>\n",
       "      <th>2</th>\n",
       "      <td>248</td>\n",
       "      <td>1230</td>\n",
       "      <td>2493</td>\n",
       "      <td>1531</td>\n",
       "      <td>1181</td>\n",
       "      <td>279</td>\n",
       "    </tr>\n",
       "  </tbody>\n",
       "</table>\n",
       "</div>"
      ],
      "text/plain": [
       "event_name  exp_id  CartScreenAppear  MainScreenAppear  OffersScreenAppear  \\\n",
       "0              246              1266              2450                1542   \n",
       "1              247              1238              2476                1520   \n",
       "2              248              1230              2493                1531   \n",
       "\n",
       "event_name  PaymentScreenSuccessful  Tutorial  \n",
       "0                              1200       278  \n",
       "1                              1158       283  \n",
       "2                              1181       279  "
      ]
     },
     "execution_count": 57,
     "metadata": {},
     "output_type": "execute_result"
    }
   ],
   "source": [
    "all_groups = logs_full.pivot_table(\n",
    "    index='exp_id', \n",
    "    columns='event_name', \n",
    "    values='user_id', \n",
    "    aggfunc='nunique')\n",
    "all_groups = all_groups.reset_index()\n",
    "all_groups"
   ]
  },
  {
   "cell_type": "markdown",
   "metadata": {},
   "source": [
    "Мы подтвердили количество пользователей в группах, а так же проверили, что разница в группах А и А незначительна."
   ]
  },
  {
   "cell_type": "markdown",
   "metadata": {},
   "source": [
    "Ранее мы мы выяснили, что самое популярное событие - появление главного экрана. Посчитаем число пользователей, совершивших это событие в каждой из контрольных групп. Посчитаем долю пользователей, совершивших это событие. Проверим, будет ли отличие между группами статистически достоверным. Проделаем то же самое для всех других событий. Можно ли сказать, что разбиение на группы работает корректно?"
   ]
  },
  {
   "cell_type": "markdown",
   "metadata": {},
   "source": [
    "Сформулируем гипотезы:\n",
    "*Н0* - доли уникальных посетителей, побывавших на этапе воронки, одинаковы.\n",
    "\n",
    "*Н1* - между долями уникальных посетителей, побывавших на этапе воронки, есть значимая разница\n",
    "\n",
    "Пороговое значение *alpha* примем за 5%.    \n",
    "    \n",
    "Создадим функцию для работы с группами. \n",
    "\n",
    "Для работы используем Z-критерий\n",
    "\n",
    "*Z-критерий используется при проверке гипотез, чтобы оценить, является ли находка или ассоциация статистически значимыми или нет. В частности, он проверяет, совпадают ли два средних значения (нулевая гипотеза). Z-критерий может быть использован только в том случае, если известно стандартное отклонение генеральной совокупности и размер выборки составляет 30 точек данных или больше.*"
   ]
  },
  {
   "cell_type": "code",
   "execution_count": 58,
   "metadata": {},
   "outputs": [],
   "source": [
    "def z_test(dataframe, num_group, alpha):\n",
    "    #пользователи в каждой группе\n",
    "    users = [dataframe.query('exp_id == @group')['user_id'].nunique() for group in num_group]\n",
    "    #перебор экспериментальных групп по событиям и количество пользователей\n",
    "    for event in dataframe.event_name.unique():\n",
    "        events = [dataframe.query('exp_id == %d and event_name == \"%s\"' % (group, event))['user_id'].nunique() for group in num_group]\n",
    "        \n",
    "        p1 = events[0] / users[0] \n",
    "        p2 = events[1] / users[1] \n",
    "        \n",
    "        p_combined = sum(events) / sum(users) \n",
    "        \n",
    "        difference = p1 - p2 \n",
    "        \n",
    "        z_value = difference / math.sqrt(p_combined * (1 - p_combined) * (1 / users[0] + 1 / users[1]))\n",
    "        \n",
    "        distr = st.norm(0, 1) \n",
    "        p_value = (1 - distr.cdf(abs(z_value))) * 2\n",
    "        \n",
    "        print('Событие:', event)\n",
    "        print('p-значение: {p_value:}'.format(p_value=p_value))\n",
    "        \n",
    "        if p_value < alpha:\n",
    "            print('Отвергаем нулевую гипотезу: между долями есть значимая разница')\n",
    "        else:\n",
    "            print('Не получилось отвергнуть нулевую гипотезу: различия статистически не значимы')\n",
    "            \n",
    "        print('****************************************')    "
   ]
  },
  {
   "cell_type": "markdown",
   "metadata": {},
   "source": [
    "Проведем анализ между контрольными группами 246 и 247"
   ]
  },
  {
   "cell_type": "markdown",
   "metadata": {},
   "source": [
    "Ввиду того, что одновременно будет проводиться 5 тестов, согласно поправке Бонферрони \n",
    "`alpha = 0.05/5 = 0.01`"
   ]
  },
  {
   "cell_type": "code",
   "execution_count": 63,
   "metadata": {},
   "outputs": [
    {
     "name": "stdout",
     "output_type": "stream",
     "text": [
      "Событие: Tutorial\n",
      "p-значение: 0.9376996189257114\n",
      "Не получилось отвергнуть нулевую гипотезу: различия статистически не значимы\n",
      "****************************************\n",
      "Событие: MainScreenAppear\n",
      "p-значение: 0.7570597232046099\n",
      "Не получилось отвергнуть нулевую гипотезу: различия статистически не значимы\n",
      "****************************************\n",
      "Событие: OffersScreenAppear\n",
      "p-значение: 0.2480954578522181\n",
      "Не получилось отвергнуть нулевую гипотезу: различия статистически не значимы\n",
      "****************************************\n",
      "Событие: CartScreenAppear\n",
      "p-значение: 0.22883372237997213\n",
      "Не получилось отвергнуть нулевую гипотезу: различия статистически не значимы\n",
      "****************************************\n",
      "Событие: PaymentScreenSuccessful\n",
      "p-значение: 0.11456679313141849\n",
      "Не получилось отвергнуть нулевую гипотезу: различия статистически не значимы\n",
      "****************************************\n"
     ]
    }
   ],
   "source": [
    "z_test(logs_full, [246, 247], 0.01) "
   ]
  },
  {
   "cell_type": "markdown",
   "metadata": {},
   "source": [
    "Уже статистически мы подтверждаем, что различий в группах А и А нет. Это необходимо для того, чтобы понять будет ли первая или вторая группа давать разные результаты при сравнении с группой В. Ввиду того, что мы увидели, что статистически значимых различий нет, мы без опасения можем приступать к дальнейшему анализу."
   ]
  },
  {
   "cell_type": "markdown",
   "metadata": {},
   "source": [
    "Вернемся к проверке идеи о изменения шрифта. \n",
    "\n",
    "Проверим различия между контрольной группой 246 и экспериментальной 248"
   ]
  },
  {
   "cell_type": "code",
   "execution_count": 64,
   "metadata": {},
   "outputs": [
    {
     "name": "stdout",
     "output_type": "stream",
     "text": [
      "Событие: Tutorial\n",
      "p-значение: 0.8264294010087645\n",
      "Не получилось отвергнуть нулевую гипотезу: различия статистически не значимы\n",
      "****************************************\n",
      "Событие: MainScreenAppear\n",
      "p-значение: 0.2949721933554552\n",
      "Не получилось отвергнуть нулевую гипотезу: различия статистически не значимы\n",
      "****************************************\n",
      "Событие: OffersScreenAppear\n",
      "p-значение: 0.20836205402738917\n",
      "Не получилось отвергнуть нулевую гипотезу: различия статистически не значимы\n",
      "****************************************\n",
      "Событие: CartScreenAppear\n",
      "p-значение: 0.07842923237520116\n",
      "Не получилось отвергнуть нулевую гипотезу: различия статистически не значимы\n",
      "****************************************\n",
      "Событие: PaymentScreenSuccessful\n",
      "p-значение: 0.2122553275697796\n",
      "Не получилось отвергнуть нулевую гипотезу: различия статистически не значимы\n",
      "****************************************\n"
     ]
    }
   ],
   "source": [
    "z_test(logs_full, [246, 248], 0.01)"
   ]
  },
  {
   "cell_type": "markdown",
   "metadata": {},
   "source": [
    "Теперь сравним между второй А группой и В."
   ]
  },
  {
   "cell_type": "code",
   "execution_count": 65,
   "metadata": {},
   "outputs": [
    {
     "name": "stdout",
     "output_type": "stream",
     "text": [
      "Событие: Tutorial\n",
      "p-значение: 0.765323922474501\n",
      "Не получилось отвергнуть нулевую гипотезу: различия статистически не значимы\n",
      "****************************************\n",
      "Событие: MainScreenAppear\n",
      "p-значение: 0.4587053616621515\n",
      "Не получилось отвергнуть нулевую гипотезу: различия статистически не значимы\n",
      "****************************************\n",
      "Событие: OffersScreenAppear\n",
      "p-значение: 0.9197817830592261\n",
      "Не получилось отвергнуть нулевую гипотезу: различия статистически не значимы\n",
      "****************************************\n",
      "Событие: CartScreenAppear\n",
      "p-значение: 0.5786197879539783\n",
      "Не получилось отвергнуть нулевую гипотезу: различия статистически не значимы\n",
      "****************************************\n",
      "Событие: PaymentScreenSuccessful\n",
      "p-значение: 0.7373415053803964\n",
      "Не получилось отвергнуть нулевую гипотезу: различия статистически не значимы\n",
      "****************************************\n"
     ]
    }
   ],
   "source": [
    "z_test(logs_full, [247, 248], 0.01)"
   ]
  },
  {
   "cell_type": "markdown",
   "metadata": {},
   "source": [
    "Статистических значимых различий между группами А и группой В не обнаружено.\n",
    "\n",
    "Сравним результаты экспериментальной группы 248 с объединённой контрольной группой, добавим 247 в 246 группу"
   ]
  },
  {
   "cell_type": "code",
   "execution_count": 66,
   "metadata": {},
   "outputs": [
    {
     "name": "stdout",
     "output_type": "stream",
     "text": [
      "Событие: Tutorial\n",
      "p-значение: 0.764862472531507\n",
      "Не получилось отвергнуть нулевую гипотезу: различия статистически не значимы\n",
      "****************************************\n",
      "Событие: MainScreenAppear\n",
      "p-значение: 0.29424526837179577\n",
      "Не получилось отвергнуть нулевую гипотезу: различия статистически не значимы\n",
      "****************************************\n",
      "Событие: OffersScreenAppear\n",
      "p-значение: 0.43425549655188256\n",
      "Не получилось отвергнуть нулевую гипотезу: различия статистически не значимы\n",
      "****************************************\n",
      "Событие: CartScreenAppear\n",
      "p-значение: 0.18175875284404386\n",
      "Не получилось отвергнуть нулевую гипотезу: различия статистически не значимы\n",
      "****************************************\n",
      "Событие: PaymentScreenSuccessful\n",
      "p-значение: 0.6004294282308704\n",
      "Не получилось отвергнуть нулевую гипотезу: различия статистически не значимы\n",
      "****************************************\n"
     ]
    }
   ],
   "source": [
    "united = logs_full.copy()\n",
    "united['exp_id'].replace({247: 246}, inplace=True)\n",
    "z_test(united, [246, 248], 0.01)"
   ]
  },
  {
   "cell_type": "markdown",
   "metadata": {},
   "source": [
    "Мы провели 20 проверок при значимости в 0.01. "
   ]
  },
  {
   "cell_type": "markdown",
   "metadata": {},
   "source": [
    "Даже в случае объединения обеих групп, мы видим, что различий по прохождению воронки уникальными пользователями при разных шрифтах отсутствует. Следовательно данное предложение можно считать неактуальным и использовать как старый шрифт, так и новый."
   ]
  },
  {
   "cell_type": "markdown",
   "metadata": {},
   "source": [
    "### Общий вывод:\n",
    "1. Изучили полученные данные:\n",
    "\n",
    "Мы провели предобработку данных, выявили количество пользователей, событий, провели фильтрацию по времени, отсеяв те данные, которые пришли в базу до 1 августа 2019 года.  \n",
    "\n",
    "2. Получены данные по воронке событий\n",
    "\n",
    "Всего у нас имеется пять типов событий в логах: MainScreenAppear, OffersScreenAppear, CartScreenAppear, PaymentScreenSuccessful. Чаще всего из них встречается MainScreenAppear (появление главного экрана - 117328 раз), реже всего - Tutorial (обучение - 1005 раз);\n",
    "\n",
    "Большая часть пользователей уходит на этапе выбора товара, те кто остались, в большинстве доходят до этапа совершения покупки. При этом по большей степени до финального этапа доходят менее 50% пользователей.\n",
    "\n",
    "Позволю себе продублировать порядок этапов: Пользователи попадают на главный экран. В случае, если это первый запуск сервиса, происходит предложение с прохождением обучения. Этот этап пропускает большинство пользователей - возможно не хотят тратить время на то, что им интуитивно понятно. Затем они переходят на этап выбора продуктов, после чего добавляют понравившиеся предложения в корзину, затем оплачивают заказ. \n",
    "\n",
    "3. Были проведены А/А/В эксперименты\n",
    "\n",
    "По их результату можно сказать, что изменение шрифтов никак не повлияло на итоговую конверсию.\n",
    "\n",
    "Как аналитик, при постановке задачи о увеличении числа заказов, я бы предложил рассмотреть настройку контекстной рекламы - необходимо понять, что пользователь чаще всего покупает в магазине и на основании этого предлагать ему в первую очередь те продукты, которые для него наиболее важны. Как вариант, если пользователь часто не уходит дальше стартового экрана, но при этом проявляет интерес к приложению, стоит создавать для него \"спец-предложения\" на те товары, которые он просматривал ранее. Например, индивидуальная скидка для того. \n"
   ]
  }
 ],
 "metadata": {
  "ExecuteTimeLog": [
   {
    "duration": 1410,
    "start_time": "2023-05-29T17:25:56.954Z"
   },
   {
    "duration": 1397,
    "start_time": "2023-05-29T17:27:13.386Z"
   },
   {
    "duration": 226,
    "start_time": "2023-05-29T17:27:26.649Z"
   },
   {
    "duration": 8,
    "start_time": "2023-05-29T17:29:19.007Z"
   },
   {
    "duration": 69,
    "start_time": "2023-05-29T17:29:30.942Z"
   },
   {
    "duration": 81,
    "start_time": "2023-05-29T17:31:19.256Z"
   },
   {
    "duration": 5,
    "start_time": "2023-05-29T17:31:25.129Z"
   },
   {
    "duration": 3,
    "start_time": "2023-05-29T17:32:35.209Z"
   },
   {
    "duration": 61,
    "start_time": "2023-05-29T17:36:21.554Z"
   },
   {
    "duration": 92,
    "start_time": "2023-05-29T17:36:31.200Z"
   },
   {
    "duration": 56,
    "start_time": "2023-05-29T17:43:05.513Z"
   },
   {
    "duration": 52,
    "start_time": "2023-05-29T17:43:49.806Z"
   },
   {
    "duration": 41,
    "start_time": "2023-05-29T17:43:53.164Z"
   },
   {
    "duration": 74,
    "start_time": "2023-05-29T17:56:15.548Z"
   },
   {
    "duration": 103,
    "start_time": "2023-05-29T17:56:30.878Z"
   },
   {
    "duration": 47,
    "start_time": "2023-05-29T17:57:27.699Z"
   },
   {
    "duration": 105,
    "start_time": "2023-05-29T17:59:45.786Z"
   },
   {
    "duration": 16,
    "start_time": "2023-05-29T18:00:30.247Z"
   },
   {
    "duration": 5,
    "start_time": "2023-05-29T18:01:11.818Z"
   },
   {
    "duration": 90,
    "start_time": "2023-05-29T18:02:10.098Z"
   },
   {
    "duration": 30,
    "start_time": "2023-05-29T18:02:30.454Z"
   },
   {
    "duration": 90,
    "start_time": "2023-05-29T18:03:13.390Z"
   },
   {
    "duration": 336,
    "start_time": "2023-05-29T18:04:54.102Z"
   },
   {
    "duration": 212,
    "start_time": "2023-05-29T18:05:35.786Z"
   },
   {
    "duration": 362,
    "start_time": "2023-05-29T18:05:39.909Z"
   },
   {
    "duration": 232,
    "start_time": "2023-05-29T18:05:44.553Z"
   },
   {
    "duration": 587,
    "start_time": "2023-05-29T18:05:52.221Z"
   },
   {
    "duration": 392,
    "start_time": "2023-05-29T18:05:58.956Z"
   },
   {
    "duration": 243,
    "start_time": "2023-05-29T18:07:37.053Z"
   },
   {
    "duration": 319,
    "start_time": "2023-05-29T18:09:08.946Z"
   },
   {
    "duration": 282,
    "start_time": "2023-05-29T18:09:14.308Z"
   },
   {
    "duration": 272,
    "start_time": "2023-05-29T18:09:19.965Z"
   },
   {
    "duration": 28,
    "start_time": "2023-05-29T18:11:25.157Z"
   },
   {
    "duration": 31,
    "start_time": "2023-05-29T18:11:36.976Z"
   },
   {
    "duration": 15,
    "start_time": "2023-05-29T18:11:55.099Z"
   },
   {
    "duration": 102,
    "start_time": "2023-05-29T18:12:27.481Z"
   },
   {
    "duration": 43,
    "start_time": "2023-05-29T18:12:38.003Z"
   },
   {
    "duration": 1136,
    "start_time": "2023-05-29T18:15:26.570Z"
   },
   {
    "duration": 198,
    "start_time": "2023-05-29T18:18:24.314Z"
   },
   {
    "duration": 66,
    "start_time": "2023-05-29T18:18:30.512Z"
   },
   {
    "duration": 47,
    "start_time": "2023-05-29T18:19:51.162Z"
   },
   {
    "duration": 86,
    "start_time": "2023-05-29T18:21:39.909Z"
   },
   {
    "duration": 5,
    "start_time": "2023-05-29T18:23:03.087Z"
   },
   {
    "duration": 45,
    "start_time": "2023-05-29T18:23:09.509Z"
   },
   {
    "duration": 52,
    "start_time": "2023-05-29T18:23:13.317Z"
   },
   {
    "duration": 96,
    "start_time": "2023-05-29T18:27:03.612Z"
   },
   {
    "duration": 14,
    "start_time": "2023-05-29T18:29:03.713Z"
   },
   {
    "duration": 15,
    "start_time": "2023-05-29T18:46:43.283Z"
   },
   {
    "duration": 194,
    "start_time": "2023-05-29T18:48:41.712Z"
   },
   {
    "duration": 183,
    "start_time": "2023-05-29T18:48:54.649Z"
   },
   {
    "duration": 8,
    "start_time": "2023-05-29T18:51:56.557Z"
   },
   {
    "duration": 20,
    "start_time": "2023-05-29T18:52:02.954Z"
   },
   {
    "duration": 26,
    "start_time": "2023-05-29T18:52:23.882Z"
   },
   {
    "duration": 1392,
    "start_time": "2023-05-29T18:52:44.449Z"
   },
   {
    "duration": 294,
    "start_time": "2023-05-29T18:52:45.856Z"
   },
   {
    "duration": 13,
    "start_time": "2023-05-29T18:52:46.163Z"
   },
   {
    "duration": 75,
    "start_time": "2023-05-29T18:52:46.181Z"
   },
   {
    "duration": 3,
    "start_time": "2023-05-29T18:52:46.258Z"
   },
   {
    "duration": 128,
    "start_time": "2023-05-29T18:52:46.263Z"
   },
   {
    "duration": 55,
    "start_time": "2023-05-29T18:52:46.392Z"
   },
   {
    "duration": 133,
    "start_time": "2023-05-29T18:52:46.448Z"
   },
   {
    "duration": 34,
    "start_time": "2023-05-29T18:52:46.583Z"
   },
   {
    "duration": 47,
    "start_time": "2023-05-29T18:52:46.620Z"
   },
   {
    "duration": 105,
    "start_time": "2023-05-29T18:52:46.670Z"
   },
   {
    "duration": 371,
    "start_time": "2023-05-29T18:52:46.778Z"
   },
   {
    "duration": 54,
    "start_time": "2023-05-29T18:52:47.153Z"
   },
   {
    "duration": 931,
    "start_time": "2023-05-29T18:52:47.209Z"
   },
   {
    "duration": 53,
    "start_time": "2023-05-29T18:52:48.149Z"
   },
   {
    "duration": 30,
    "start_time": "2023-05-29T18:52:48.204Z"
   },
   {
    "duration": 51,
    "start_time": "2023-05-29T18:52:48.236Z"
   },
   {
    "duration": 61,
    "start_time": "2023-05-29T18:52:48.288Z"
   },
   {
    "duration": 20,
    "start_time": "2023-05-29T18:52:48.351Z"
   },
   {
    "duration": 15,
    "start_time": "2023-05-29T18:52:48.376Z"
   },
   {
    "duration": 205,
    "start_time": "2023-05-29T18:52:48.392Z"
   },
   {
    "duration": 88,
    "start_time": "2023-05-29T18:52:48.599Z"
   },
   {
    "duration": 257,
    "start_time": "2023-05-29T18:56:08.107Z"
   },
   {
    "duration": 124,
    "start_time": "2023-05-29T18:56:25.642Z"
   },
   {
    "duration": 60,
    "start_time": "2023-05-29T19:05:40.813Z"
   },
   {
    "duration": 73,
    "start_time": "2023-05-29T19:05:45.416Z"
   },
   {
    "duration": 39,
    "start_time": "2023-05-29T19:05:50.707Z"
   },
   {
    "duration": 38,
    "start_time": "2023-05-29T19:05:52.047Z"
   },
   {
    "duration": 51,
    "start_time": "2023-05-29T19:06:08.022Z"
   },
   {
    "duration": 81,
    "start_time": "2023-05-29T19:09:06.664Z"
   },
   {
    "duration": 5,
    "start_time": "2023-05-29T19:12:21.201Z"
   },
   {
    "duration": 79,
    "start_time": "2023-05-29T19:12:47.104Z"
   },
   {
    "duration": 161,
    "start_time": "2023-05-29T19:13:04.208Z"
   },
   {
    "duration": 69,
    "start_time": "2023-05-29T19:13:34.414Z"
   },
   {
    "duration": 55,
    "start_time": "2023-05-29T19:14:27.955Z"
   },
   {
    "duration": 150,
    "start_time": "2023-05-29T19:14:39.465Z"
   },
   {
    "duration": 164,
    "start_time": "2023-05-29T19:14:48.396Z"
   },
   {
    "duration": 73,
    "start_time": "2023-05-29T19:15:30.198Z"
   },
   {
    "duration": 207,
    "start_time": "2023-05-29T19:15:44.282Z"
   },
   {
    "duration": 1124,
    "start_time": "2023-05-29T22:16:28.982Z"
   },
   {
    "duration": 168,
    "start_time": "2023-05-29T22:16:30.107Z"
   },
   {
    "duration": 8,
    "start_time": "2023-05-29T22:16:30.277Z"
   },
   {
    "duration": 82,
    "start_time": "2023-05-29T22:16:30.287Z"
   },
   {
    "duration": 4,
    "start_time": "2023-05-29T22:16:30.370Z"
   },
   {
    "duration": 101,
    "start_time": "2023-05-29T22:16:30.376Z"
   },
   {
    "duration": 68,
    "start_time": "2023-05-29T22:16:30.479Z"
   },
   {
    "duration": 68,
    "start_time": "2023-05-29T22:16:30.549Z"
   },
   {
    "duration": 20,
    "start_time": "2023-05-29T22:16:30.618Z"
   },
   {
    "duration": 39,
    "start_time": "2023-05-29T22:16:30.641Z"
   },
   {
    "duration": 80,
    "start_time": "2023-05-29T22:16:30.681Z"
   },
   {
    "duration": 239,
    "start_time": "2023-05-29T22:16:30.763Z"
   },
   {
    "duration": 44,
    "start_time": "2023-05-29T22:16:31.004Z"
   },
   {
    "duration": 641,
    "start_time": "2023-05-29T22:16:31.050Z"
   },
   {
    "duration": 57,
    "start_time": "2023-05-29T22:16:31.693Z"
   },
   {
    "duration": 57,
    "start_time": "2023-05-29T22:16:31.752Z"
   },
   {
    "duration": 73,
    "start_time": "2023-05-29T22:16:31.812Z"
   },
   {
    "duration": 60,
    "start_time": "2023-05-29T22:16:31.886Z"
   },
   {
    "duration": 10,
    "start_time": "2023-05-29T22:16:31.947Z"
   },
   {
    "duration": 28,
    "start_time": "2023-05-29T22:16:31.958Z"
   },
   {
    "duration": 179,
    "start_time": "2023-05-29T22:16:31.987Z"
   },
   {
    "duration": 254,
    "start_time": "2023-05-29T22:16:32.168Z"
   },
   {
    "duration": 32,
    "start_time": "2023-05-29T22:16:32.424Z"
   },
   {
    "duration": 91,
    "start_time": "2023-05-29T22:16:32.458Z"
   },
   {
    "duration": 127,
    "start_time": "2023-05-29T22:16:32.551Z"
   },
   {
    "duration": 6,
    "start_time": "2023-05-29T22:16:32.679Z"
   },
   {
    "duration": 144,
    "start_time": "2023-05-29T22:16:32.687Z"
   },
   {
    "duration": 140,
    "start_time": "2023-05-29T22:16:32.834Z"
   },
   {
    "duration": 145,
    "start_time": "2023-05-29T22:16:32.975Z"
   },
   {
    "duration": 163,
    "start_time": "2023-05-29T22:16:33.121Z"
   },
   {
    "duration": 124,
    "start_time": "2023-05-29T22:29:39.930Z"
   },
   {
    "duration": 1109,
    "start_time": "2023-05-29T22:39:18.781Z"
   },
   {
    "duration": 175,
    "start_time": "2023-05-29T22:39:19.892Z"
   },
   {
    "duration": 7,
    "start_time": "2023-05-29T22:39:20.069Z"
   },
   {
    "duration": 71,
    "start_time": "2023-05-29T22:39:20.079Z"
   },
   {
    "duration": 4,
    "start_time": "2023-05-29T22:39:20.152Z"
   },
   {
    "duration": 97,
    "start_time": "2023-05-29T22:39:20.157Z"
   },
   {
    "duration": 45,
    "start_time": "2023-05-29T22:39:20.256Z"
   },
   {
    "duration": 78,
    "start_time": "2023-05-29T22:39:20.302Z"
   },
   {
    "duration": 34,
    "start_time": "2023-05-29T22:39:20.382Z"
   },
   {
    "duration": 11,
    "start_time": "2023-05-29T22:39:20.418Z"
   },
   {
    "duration": 24,
    "start_time": "2023-05-29T22:39:20.430Z"
   },
   {
    "duration": 235,
    "start_time": "2023-05-29T22:39:20.455Z"
   },
   {
    "duration": 29,
    "start_time": "2023-05-29T22:39:20.691Z"
   },
   {
    "duration": 637,
    "start_time": "2023-05-29T22:39:20.722Z"
   },
   {
    "duration": 38,
    "start_time": "2023-05-29T22:39:21.361Z"
   },
   {
    "duration": 40,
    "start_time": "2023-05-29T22:39:21.400Z"
   },
   {
    "duration": 40,
    "start_time": "2023-05-29T22:39:21.442Z"
   },
   {
    "duration": 69,
    "start_time": "2023-05-29T22:39:21.484Z"
   },
   {
    "duration": 13,
    "start_time": "2023-05-29T22:39:21.554Z"
   },
   {
    "duration": 13,
    "start_time": "2023-05-29T22:39:21.569Z"
   },
   {
    "duration": 202,
    "start_time": "2023-05-29T22:39:21.584Z"
   },
   {
    "duration": 314,
    "start_time": "2023-05-29T22:39:21.788Z"
   },
   {
    "duration": 37,
    "start_time": "2023-05-29T22:39:22.104Z"
   },
   {
    "duration": 86,
    "start_time": "2023-05-29T22:39:22.143Z"
   },
   {
    "duration": 97,
    "start_time": "2023-05-29T22:39:22.231Z"
   },
   {
    "duration": 5,
    "start_time": "2023-05-29T22:39:22.329Z"
   },
   {
    "duration": 139,
    "start_time": "2023-05-29T22:39:22.336Z"
   },
   {
    "duration": 131,
    "start_time": "2023-05-29T22:39:22.478Z"
   },
   {
    "duration": 121,
    "start_time": "2023-05-29T22:39:22.615Z"
   },
   {
    "duration": 152,
    "start_time": "2023-05-29T22:39:22.738Z"
   },
   {
    "duration": 1071,
    "start_time": "2023-05-29T22:40:00.512Z"
   },
   {
    "duration": 168,
    "start_time": "2023-05-29T22:40:01.585Z"
   },
   {
    "duration": 7,
    "start_time": "2023-05-29T22:40:01.754Z"
   },
   {
    "duration": 139,
    "start_time": "2023-05-29T22:40:01.763Z"
   },
   {
    "duration": 4,
    "start_time": "2023-05-29T22:40:01.903Z"
   },
   {
    "duration": 93,
    "start_time": "2023-05-29T22:40:01.908Z"
   },
   {
    "duration": 41,
    "start_time": "2023-05-29T22:40:02.002Z"
   },
   {
    "duration": 60,
    "start_time": "2023-05-29T22:40:02.045Z"
   },
   {
    "duration": 25,
    "start_time": "2023-05-29T22:40:02.106Z"
   },
   {
    "duration": 32,
    "start_time": "2023-05-29T22:40:02.133Z"
   },
   {
    "duration": 84,
    "start_time": "2023-05-29T22:40:02.167Z"
   },
   {
    "duration": 237,
    "start_time": "2023-05-29T22:40:02.253Z"
   },
   {
    "duration": 26,
    "start_time": "2023-05-29T22:40:02.491Z"
   },
   {
    "duration": 646,
    "start_time": "2023-05-29T22:40:02.519Z"
   },
   {
    "duration": 37,
    "start_time": "2023-05-29T22:40:03.167Z"
   },
   {
    "duration": 37,
    "start_time": "2023-05-29T22:40:03.205Z"
   },
   {
    "duration": 59,
    "start_time": "2023-05-29T22:40:03.243Z"
   },
   {
    "duration": 47,
    "start_time": "2023-05-29T22:40:03.304Z"
   },
   {
    "duration": 11,
    "start_time": "2023-05-29T22:40:03.352Z"
   },
   {
    "duration": 19,
    "start_time": "2023-05-29T22:40:03.364Z"
   },
   {
    "duration": 153,
    "start_time": "2023-05-29T22:40:03.384Z"
   },
   {
    "duration": 289,
    "start_time": "2023-05-29T22:40:03.538Z"
   },
   {
    "duration": 89,
    "start_time": "2023-05-29T22:40:03.828Z"
   },
   {
    "duration": 34,
    "start_time": "2023-05-29T22:40:03.919Z"
   },
   {
    "duration": 123,
    "start_time": "2023-05-29T22:40:03.955Z"
   },
   {
    "duration": 5,
    "start_time": "2023-05-29T22:40:04.079Z"
   },
   {
    "duration": 142,
    "start_time": "2023-05-29T22:40:04.085Z"
   },
   {
    "duration": 115,
    "start_time": "2023-05-29T22:40:04.230Z"
   },
   {
    "duration": 119,
    "start_time": "2023-05-29T22:40:04.346Z"
   },
   {
    "duration": 149,
    "start_time": "2023-05-29T22:40:04.466Z"
   },
   {
    "duration": 1327,
    "start_time": "2023-05-30T18:57:08.707Z"
   },
   {
    "duration": 670,
    "start_time": "2023-05-30T18:57:10.036Z"
   },
   {
    "duration": 10,
    "start_time": "2023-05-30T18:57:10.708Z"
   },
   {
    "duration": 78,
    "start_time": "2023-05-30T18:57:10.721Z"
   },
   {
    "duration": 4,
    "start_time": "2023-05-30T18:57:10.817Z"
   },
   {
    "duration": 114,
    "start_time": "2023-05-30T18:57:10.823Z"
   },
   {
    "duration": 49,
    "start_time": "2023-05-30T18:57:10.939Z"
   },
   {
    "duration": 89,
    "start_time": "2023-05-30T18:57:10.990Z"
   },
   {
    "duration": 37,
    "start_time": "2023-05-30T18:57:11.081Z"
   },
   {
    "duration": 5,
    "start_time": "2023-05-30T18:57:11.121Z"
   },
   {
    "duration": 24,
    "start_time": "2023-05-30T18:57:11.127Z"
   },
   {
    "duration": 276,
    "start_time": "2023-05-30T18:57:11.153Z"
   },
   {
    "duration": 30,
    "start_time": "2023-05-30T18:57:11.430Z"
   },
   {
    "duration": 711,
    "start_time": "2023-05-30T18:57:11.462Z"
   },
   {
    "duration": 50,
    "start_time": "2023-05-30T18:57:12.174Z"
   },
   {
    "duration": 21,
    "start_time": "2023-05-30T18:57:12.226Z"
   },
   {
    "duration": 44,
    "start_time": "2023-05-30T18:57:12.251Z"
   },
   {
    "duration": 89,
    "start_time": "2023-05-30T18:57:12.297Z"
   },
   {
    "duration": 36,
    "start_time": "2023-05-30T18:57:12.388Z"
   },
   {
    "duration": 26,
    "start_time": "2023-05-30T18:57:12.427Z"
   },
   {
    "duration": 213,
    "start_time": "2023-05-30T18:57:12.456Z"
   },
   {
    "duration": 239,
    "start_time": "2023-05-30T18:57:12.671Z"
   },
   {
    "duration": 43,
    "start_time": "2023-05-30T18:57:12.912Z"
   },
   {
    "duration": 105,
    "start_time": "2023-05-30T18:57:12.957Z"
   },
   {
    "duration": 85,
    "start_time": "2023-05-30T18:57:13.119Z"
   },
   {
    "duration": 7,
    "start_time": "2023-05-30T18:57:13.217Z"
   },
   {
    "duration": 157,
    "start_time": "2023-05-30T18:57:13.226Z"
   },
   {
    "duration": 185,
    "start_time": "2023-05-30T18:57:13.386Z"
   },
   {
    "duration": 214,
    "start_time": "2023-05-30T18:57:13.573Z"
   },
   {
    "duration": 219,
    "start_time": "2023-05-30T18:57:13.791Z"
   },
   {
    "duration": 226,
    "start_time": "2023-05-30T18:58:31.819Z"
   },
   {
    "duration": 83,
    "start_time": "2023-05-30T19:00:50.543Z"
   },
   {
    "duration": 5,
    "start_time": "2023-05-30T19:02:31.444Z"
   },
   {
    "duration": 1205,
    "start_time": "2023-05-30T19:03:16.948Z"
   },
   {
    "duration": 191,
    "start_time": "2023-05-30T19:03:18.155Z"
   },
   {
    "duration": 7,
    "start_time": "2023-05-30T19:03:18.348Z"
   },
   {
    "duration": 102,
    "start_time": "2023-05-30T19:03:18.357Z"
   },
   {
    "duration": 65,
    "start_time": "2023-05-30T19:03:18.461Z"
   },
   {
    "duration": 69,
    "start_time": "2023-05-30T19:03:18.528Z"
   },
   {
    "duration": 0,
    "start_time": "2023-05-30T19:03:18.599Z"
   },
   {
    "duration": 0,
    "start_time": "2023-05-30T19:03:18.600Z"
   },
   {
    "duration": 0,
    "start_time": "2023-05-30T19:03:18.601Z"
   },
   {
    "duration": 0,
    "start_time": "2023-05-30T19:03:18.602Z"
   },
   {
    "duration": 0,
    "start_time": "2023-05-30T19:03:18.603Z"
   },
   {
    "duration": 0,
    "start_time": "2023-05-30T19:03:18.604Z"
   },
   {
    "duration": 0,
    "start_time": "2023-05-30T19:03:18.606Z"
   },
   {
    "duration": 0,
    "start_time": "2023-05-30T19:03:18.607Z"
   },
   {
    "duration": 0,
    "start_time": "2023-05-30T19:03:18.608Z"
   },
   {
    "duration": 0,
    "start_time": "2023-05-30T19:03:18.610Z"
   },
   {
    "duration": 0,
    "start_time": "2023-05-30T19:03:18.611Z"
   },
   {
    "duration": 0,
    "start_time": "2023-05-30T19:03:18.612Z"
   },
   {
    "duration": 0,
    "start_time": "2023-05-30T19:03:18.613Z"
   },
   {
    "duration": 0,
    "start_time": "2023-05-30T19:03:18.614Z"
   },
   {
    "duration": 0,
    "start_time": "2023-05-30T19:03:18.615Z"
   },
   {
    "duration": 0,
    "start_time": "2023-05-30T19:03:18.616Z"
   },
   {
    "duration": 0,
    "start_time": "2023-05-30T19:03:18.618Z"
   },
   {
    "duration": 0,
    "start_time": "2023-05-30T19:03:18.619Z"
   },
   {
    "duration": 0,
    "start_time": "2023-05-30T19:03:18.620Z"
   },
   {
    "duration": 0,
    "start_time": "2023-05-30T19:03:18.621Z"
   },
   {
    "duration": 0,
    "start_time": "2023-05-30T19:03:18.622Z"
   },
   {
    "duration": 0,
    "start_time": "2023-05-30T19:03:18.623Z"
   },
   {
    "duration": 0,
    "start_time": "2023-05-30T19:03:18.624Z"
   },
   {
    "duration": 0,
    "start_time": "2023-05-30T19:03:18.625Z"
   },
   {
    "duration": 0,
    "start_time": "2023-05-30T19:03:18.626Z"
   },
   {
    "duration": 80,
    "start_time": "2023-05-30T19:03:26.739Z"
   },
   {
    "duration": 1153,
    "start_time": "2023-05-30T19:03:49.557Z"
   },
   {
    "duration": 196,
    "start_time": "2023-05-30T19:03:50.712Z"
   },
   {
    "duration": 8,
    "start_time": "2023-05-30T19:03:50.917Z"
   },
   {
    "duration": 61,
    "start_time": "2023-05-30T19:03:50.927Z"
   },
   {
    "duration": 76,
    "start_time": "2023-05-30T19:03:50.990Z"
   },
   {
    "duration": 93,
    "start_time": "2023-05-30T19:03:51.068Z"
   },
   {
    "duration": 42,
    "start_time": "2023-05-30T19:03:51.163Z"
   },
   {
    "duration": 77,
    "start_time": "2023-05-30T19:03:51.206Z"
   },
   {
    "duration": 34,
    "start_time": "2023-05-30T19:03:51.286Z"
   },
   {
    "duration": 17,
    "start_time": "2023-05-30T19:03:51.322Z"
   },
   {
    "duration": 30,
    "start_time": "2023-05-30T19:03:51.341Z"
   },
   {
    "duration": 236,
    "start_time": "2023-05-30T19:03:51.373Z"
   },
   {
    "duration": 30,
    "start_time": "2023-05-30T19:03:51.610Z"
   },
   {
    "duration": 652,
    "start_time": "2023-05-30T19:03:51.641Z"
   },
   {
    "duration": 43,
    "start_time": "2023-05-30T19:03:52.294Z"
   },
   {
    "duration": 20,
    "start_time": "2023-05-30T19:03:52.339Z"
   },
   {
    "duration": 33,
    "start_time": "2023-05-30T19:03:52.362Z"
   },
   {
    "duration": 55,
    "start_time": "2023-05-30T19:03:52.418Z"
   },
   {
    "duration": 15,
    "start_time": "2023-05-30T19:03:52.474Z"
   },
   {
    "duration": 35,
    "start_time": "2023-05-30T19:03:52.491Z"
   },
   {
    "duration": 171,
    "start_time": "2023-05-30T19:03:52.528Z"
   },
   {
    "duration": 212,
    "start_time": "2023-05-30T19:03:52.701Z"
   },
   {
    "duration": 46,
    "start_time": "2023-05-30T19:03:52.915Z"
   },
   {
    "duration": 91,
    "start_time": "2023-05-30T19:03:52.962Z"
   },
   {
    "duration": 123,
    "start_time": "2023-05-30T19:03:53.055Z"
   },
   {
    "duration": 6,
    "start_time": "2023-05-30T19:03:53.179Z"
   },
   {
    "duration": 146,
    "start_time": "2023-05-30T19:03:53.188Z"
   },
   {
    "duration": 141,
    "start_time": "2023-05-30T19:03:53.336Z"
   },
   {
    "duration": 155,
    "start_time": "2023-05-30T19:03:53.478Z"
   },
   {
    "duration": 161,
    "start_time": "2023-05-30T19:03:53.635Z"
   },
   {
    "duration": 29,
    "start_time": "2023-05-30T19:06:02.728Z"
   },
   {
    "duration": 1008,
    "start_time": "2023-05-30T19:06:47.996Z"
   },
   {
    "duration": 33,
    "start_time": "2023-05-30T19:06:51.617Z"
   },
   {
    "duration": 19,
    "start_time": "2023-05-30T19:07:43.330Z"
   },
   {
    "duration": 19,
    "start_time": "2023-05-30T19:07:44.763Z"
   },
   {
    "duration": 994,
    "start_time": "2023-05-30T19:08:13.077Z"
   },
   {
    "duration": 26,
    "start_time": "2023-05-30T19:08:15.742Z"
   },
   {
    "duration": 97,
    "start_time": "2023-05-30T19:12:06.572Z"
   },
   {
    "duration": 28,
    "start_time": "2023-05-30T19:12:07.773Z"
   },
   {
    "duration": 43,
    "start_time": "2023-05-30T19:12:43.139Z"
   },
   {
    "duration": 19,
    "start_time": "2023-05-30T19:12:44.047Z"
   },
   {
    "duration": 135,
    "start_time": "2023-05-30T19:16:21.644Z"
   },
   {
    "duration": 101,
    "start_time": "2023-05-30T19:18:19.379Z"
   },
   {
    "duration": 11,
    "start_time": "2023-05-30T19:18:28.487Z"
   },
   {
    "duration": 1141,
    "start_time": "2023-05-30T20:11:11.132Z"
   },
   {
    "duration": 178,
    "start_time": "2023-05-30T20:11:12.275Z"
   },
   {
    "duration": 11,
    "start_time": "2023-05-30T20:11:12.455Z"
   },
   {
    "duration": 89,
    "start_time": "2023-05-30T20:11:12.468Z"
   },
   {
    "duration": 62,
    "start_time": "2023-05-30T20:11:12.559Z"
   },
   {
    "duration": 98,
    "start_time": "2023-05-30T20:11:12.623Z"
   },
   {
    "duration": 54,
    "start_time": "2023-05-30T20:11:12.723Z"
   },
   {
    "duration": 1865,
    "start_time": "2023-05-30T20:11:12.779Z"
   },
   {
    "duration": 0,
    "start_time": "2023-05-30T20:11:14.647Z"
   },
   {
    "duration": 0,
    "start_time": "2023-05-30T20:11:14.648Z"
   },
   {
    "duration": 0,
    "start_time": "2023-05-30T20:11:14.649Z"
   },
   {
    "duration": 0,
    "start_time": "2023-05-30T20:11:14.651Z"
   },
   {
    "duration": 0,
    "start_time": "2023-05-30T20:11:14.653Z"
   },
   {
    "duration": 0,
    "start_time": "2023-05-30T20:11:14.654Z"
   },
   {
    "duration": 0,
    "start_time": "2023-05-30T20:11:14.656Z"
   },
   {
    "duration": 0,
    "start_time": "2023-05-30T20:11:14.657Z"
   },
   {
    "duration": 0,
    "start_time": "2023-05-30T20:11:14.659Z"
   },
   {
    "duration": 0,
    "start_time": "2023-05-30T20:11:14.660Z"
   },
   {
    "duration": 0,
    "start_time": "2023-05-30T20:11:14.660Z"
   },
   {
    "duration": 0,
    "start_time": "2023-05-30T20:11:14.661Z"
   },
   {
    "duration": 0,
    "start_time": "2023-05-30T20:11:14.662Z"
   },
   {
    "duration": 0,
    "start_time": "2023-05-30T20:11:14.663Z"
   },
   {
    "duration": 0,
    "start_time": "2023-05-30T20:11:14.664Z"
   },
   {
    "duration": 0,
    "start_time": "2023-05-30T20:11:14.665Z"
   },
   {
    "duration": 0,
    "start_time": "2023-05-30T20:11:14.666Z"
   },
   {
    "duration": 0,
    "start_time": "2023-05-30T20:11:14.667Z"
   },
   {
    "duration": 0,
    "start_time": "2023-05-30T20:11:14.668Z"
   },
   {
    "duration": 0,
    "start_time": "2023-05-30T20:11:14.669Z"
   },
   {
    "duration": 0,
    "start_time": "2023-05-30T20:11:14.670Z"
   },
   {
    "duration": 0,
    "start_time": "2023-05-30T20:11:14.672Z"
   },
   {
    "duration": 0,
    "start_time": "2023-05-30T20:11:14.673Z"
   },
   {
    "duration": 1248,
    "start_time": "2023-05-30T20:12:53.702Z"
   },
   {
    "duration": 176,
    "start_time": "2023-05-30T20:12:54.952Z"
   },
   {
    "duration": 8,
    "start_time": "2023-05-30T20:12:55.130Z"
   },
   {
    "duration": 64,
    "start_time": "2023-05-30T20:12:55.151Z"
   },
   {
    "duration": 68,
    "start_time": "2023-05-30T20:12:55.217Z"
   },
   {
    "duration": 88,
    "start_time": "2023-05-30T20:12:55.287Z"
   },
   {
    "duration": 42,
    "start_time": "2023-05-30T20:12:55.377Z"
   },
   {
    "duration": 1708,
    "start_time": "2023-05-30T20:12:55.421Z"
   },
   {
    "duration": 0,
    "start_time": "2023-05-30T20:12:57.131Z"
   },
   {
    "duration": 0,
    "start_time": "2023-05-30T20:12:57.132Z"
   },
   {
    "duration": 0,
    "start_time": "2023-05-30T20:12:57.133Z"
   },
   {
    "duration": 0,
    "start_time": "2023-05-30T20:12:57.134Z"
   },
   {
    "duration": 0,
    "start_time": "2023-05-30T20:12:57.135Z"
   },
   {
    "duration": 0,
    "start_time": "2023-05-30T20:12:57.136Z"
   },
   {
    "duration": 0,
    "start_time": "2023-05-30T20:12:57.137Z"
   },
   {
    "duration": 0,
    "start_time": "2023-05-30T20:12:57.138Z"
   },
   {
    "duration": 0,
    "start_time": "2023-05-30T20:12:57.139Z"
   },
   {
    "duration": 0,
    "start_time": "2023-05-30T20:12:57.140Z"
   },
   {
    "duration": 0,
    "start_time": "2023-05-30T20:12:57.141Z"
   },
   {
    "duration": 0,
    "start_time": "2023-05-30T20:12:57.142Z"
   },
   {
    "duration": 0,
    "start_time": "2023-05-30T20:12:57.143Z"
   },
   {
    "duration": 0,
    "start_time": "2023-05-30T20:12:57.144Z"
   },
   {
    "duration": 0,
    "start_time": "2023-05-30T20:12:57.145Z"
   },
   {
    "duration": 0,
    "start_time": "2023-05-30T20:12:57.146Z"
   },
   {
    "duration": 0,
    "start_time": "2023-05-30T20:12:57.147Z"
   },
   {
    "duration": 0,
    "start_time": "2023-05-30T20:12:57.148Z"
   },
   {
    "duration": 0,
    "start_time": "2023-05-30T20:12:57.149Z"
   },
   {
    "duration": 0,
    "start_time": "2023-05-30T20:12:57.150Z"
   },
   {
    "duration": 0,
    "start_time": "2023-05-30T20:12:57.151Z"
   },
   {
    "duration": 0,
    "start_time": "2023-05-30T20:12:57.152Z"
   },
   {
    "duration": 0,
    "start_time": "2023-05-30T20:12:57.153Z"
   },
   {
    "duration": 43,
    "start_time": "2023-05-30T20:51:11.072Z"
   },
   {
    "duration": 1247,
    "start_time": "2023-05-30T20:51:18.550Z"
   },
   {
    "duration": 991,
    "start_time": "2023-05-30T20:51:19.799Z"
   },
   {
    "duration": 11,
    "start_time": "2023-05-30T20:51:20.792Z"
   },
   {
    "duration": 102,
    "start_time": "2023-05-30T20:51:20.805Z"
   },
   {
    "duration": 62,
    "start_time": "2023-05-30T20:51:20.909Z"
   },
   {
    "duration": 93,
    "start_time": "2023-05-30T20:51:20.972Z"
   },
   {
    "duration": 40,
    "start_time": "2023-05-30T20:51:21.067Z"
   },
   {
    "duration": 820,
    "start_time": "2023-05-30T20:51:21.108Z"
   },
   {
    "duration": 0,
    "start_time": "2023-05-30T20:51:21.930Z"
   },
   {
    "duration": 0,
    "start_time": "2023-05-30T20:51:21.931Z"
   },
   {
    "duration": 0,
    "start_time": "2023-05-30T20:51:21.932Z"
   },
   {
    "duration": 0,
    "start_time": "2023-05-30T20:51:21.933Z"
   },
   {
    "duration": 0,
    "start_time": "2023-05-30T20:51:21.934Z"
   },
   {
    "duration": 0,
    "start_time": "2023-05-30T20:51:21.935Z"
   },
   {
    "duration": 0,
    "start_time": "2023-05-30T20:51:21.936Z"
   },
   {
    "duration": 0,
    "start_time": "2023-05-30T20:51:21.938Z"
   },
   {
    "duration": 0,
    "start_time": "2023-05-30T20:51:21.939Z"
   },
   {
    "duration": 0,
    "start_time": "2023-05-30T20:51:21.940Z"
   },
   {
    "duration": 0,
    "start_time": "2023-05-30T20:51:21.941Z"
   },
   {
    "duration": 0,
    "start_time": "2023-05-30T20:51:21.942Z"
   },
   {
    "duration": 0,
    "start_time": "2023-05-30T20:51:21.943Z"
   },
   {
    "duration": 0,
    "start_time": "2023-05-30T20:51:21.944Z"
   },
   {
    "duration": 0,
    "start_time": "2023-05-30T20:51:21.945Z"
   },
   {
    "duration": 0,
    "start_time": "2023-05-30T20:51:21.946Z"
   },
   {
    "duration": 0,
    "start_time": "2023-05-30T20:51:21.947Z"
   },
   {
    "duration": 0,
    "start_time": "2023-05-30T20:51:21.948Z"
   },
   {
    "duration": 0,
    "start_time": "2023-05-30T20:51:21.949Z"
   },
   {
    "duration": 0,
    "start_time": "2023-05-30T20:51:21.950Z"
   },
   {
    "duration": 0,
    "start_time": "2023-05-30T20:51:21.951Z"
   },
   {
    "duration": 0,
    "start_time": "2023-05-30T20:51:21.952Z"
   },
   {
    "duration": 0,
    "start_time": "2023-05-30T20:51:21.953Z"
   },
   {
    "duration": 24,
    "start_time": "2023-05-30T20:51:55.008Z"
   },
   {
    "duration": 21,
    "start_time": "2023-05-30T20:51:56.774Z"
   },
   {
    "duration": 45,
    "start_time": "2023-05-30T20:56:26.759Z"
   },
   {
    "duration": 1178,
    "start_time": "2023-05-30T20:58:54.502Z"
   },
   {
    "duration": 189,
    "start_time": "2023-05-30T20:58:55.682Z"
   },
   {
    "duration": 11,
    "start_time": "2023-05-30T20:58:55.873Z"
   },
   {
    "duration": 87,
    "start_time": "2023-05-30T20:58:55.886Z"
   },
   {
    "duration": 71,
    "start_time": "2023-05-30T20:58:55.974Z"
   },
   {
    "duration": 101,
    "start_time": "2023-05-30T20:58:56.046Z"
   },
   {
    "duration": 43,
    "start_time": "2023-05-30T20:58:56.149Z"
   },
   {
    "duration": 45,
    "start_time": "2023-05-30T20:58:56.194Z"
   },
   {
    "duration": 21,
    "start_time": "2023-05-30T20:58:56.241Z"
   },
   {
    "duration": 22,
    "start_time": "2023-05-30T20:58:56.264Z"
   },
   {
    "duration": 6,
    "start_time": "2023-05-30T20:58:56.287Z"
   },
   {
    "duration": 21,
    "start_time": "2023-05-30T20:58:56.326Z"
   },
   {
    "duration": 267,
    "start_time": "2023-05-30T20:58:56.348Z"
   },
   {
    "duration": 9,
    "start_time": "2023-05-30T20:58:56.617Z"
   },
   {
    "duration": 800,
    "start_time": "2023-05-30T20:58:56.628Z"
   },
   {
    "duration": 19,
    "start_time": "2023-05-30T20:58:57.430Z"
   },
   {
    "duration": 20,
    "start_time": "2023-05-30T20:58:57.451Z"
   },
   {
    "duration": 65,
    "start_time": "2023-05-30T20:58:57.473Z"
   },
   {
    "duration": 58,
    "start_time": "2023-05-30T20:58:57.540Z"
   },
   {
    "duration": 33,
    "start_time": "2023-05-30T20:58:57.600Z"
   },
   {
    "duration": 15,
    "start_time": "2023-05-30T20:58:57.635Z"
   },
   {
    "duration": 227,
    "start_time": "2023-05-30T20:58:57.651Z"
   },
   {
    "duration": 251,
    "start_time": "2023-05-30T20:58:57.880Z"
   },
   {
    "duration": 110,
    "start_time": "2023-05-30T20:58:58.135Z"
   },
   {
    "duration": 103,
    "start_time": "2023-05-30T20:58:58.247Z"
   },
   {
    "duration": 191,
    "start_time": "2023-05-30T20:58:58.352Z"
   },
   {
    "duration": 7,
    "start_time": "2023-05-30T20:58:58.546Z"
   },
   {
    "duration": 153,
    "start_time": "2023-05-30T20:58:58.557Z"
   },
   {
    "duration": 145,
    "start_time": "2023-05-30T20:58:58.712Z"
   },
   {
    "duration": 159,
    "start_time": "2023-05-30T20:58:58.859Z"
   },
   {
    "duration": 172,
    "start_time": "2023-05-30T20:58:59.025Z"
   },
   {
    "duration": 1107,
    "start_time": "2023-05-30T23:14:47.643Z"
   },
   {
    "duration": 172,
    "start_time": "2023-05-30T23:14:48.752Z"
   },
   {
    "duration": 7,
    "start_time": "2023-05-30T23:14:48.925Z"
   },
   {
    "duration": 71,
    "start_time": "2023-05-30T23:14:48.934Z"
   },
   {
    "duration": 71,
    "start_time": "2023-05-30T23:14:49.007Z"
   },
   {
    "duration": 90,
    "start_time": "2023-05-30T23:14:49.079Z"
   },
   {
    "duration": 41,
    "start_time": "2023-05-30T23:14:49.171Z"
   },
   {
    "duration": 22,
    "start_time": "2023-05-30T23:14:49.213Z"
   },
   {
    "duration": 24,
    "start_time": "2023-05-30T23:14:49.251Z"
   },
   {
    "duration": 18,
    "start_time": "2023-05-30T23:14:49.278Z"
   },
   {
    "duration": 5,
    "start_time": "2023-05-30T23:14:49.298Z"
   },
   {
    "duration": 20,
    "start_time": "2023-05-30T23:14:49.304Z"
   },
   {
    "duration": 215,
    "start_time": "2023-05-30T23:14:49.351Z"
   },
   {
    "duration": 8,
    "start_time": "2023-05-30T23:14:49.567Z"
   },
   {
    "duration": 684,
    "start_time": "2023-05-30T23:14:49.576Z"
   },
   {
    "duration": 19,
    "start_time": "2023-05-30T23:14:50.262Z"
   },
   {
    "duration": 21,
    "start_time": "2023-05-30T23:14:50.283Z"
   },
   {
    "duration": 52,
    "start_time": "2023-05-30T23:14:50.306Z"
   },
   {
    "duration": 48,
    "start_time": "2023-05-30T23:14:50.360Z"
   },
   {
    "duration": 13,
    "start_time": "2023-05-30T23:14:50.410Z"
   },
   {
    "duration": 35,
    "start_time": "2023-05-30T23:14:50.424Z"
   },
   {
    "duration": 164,
    "start_time": "2023-05-30T23:14:50.461Z"
   },
   {
    "duration": 316,
    "start_time": "2023-05-30T23:14:50.627Z"
   },
   {
    "duration": 36,
    "start_time": "2023-05-30T23:14:50.945Z"
   },
   {
    "duration": 84,
    "start_time": "2023-05-30T23:14:50.983Z"
   },
   {
    "duration": 93,
    "start_time": "2023-05-30T23:14:51.068Z"
   },
   {
    "duration": 6,
    "start_time": "2023-05-30T23:14:51.163Z"
   },
   {
    "duration": 158,
    "start_time": "2023-05-30T23:14:51.172Z"
   },
   {
    "duration": 152,
    "start_time": "2023-05-30T23:14:51.332Z"
   },
   {
    "duration": 138,
    "start_time": "2023-05-30T23:14:51.486Z"
   },
   {
    "duration": 166,
    "start_time": "2023-05-30T23:14:51.625Z"
   },
   {
    "duration": 1049,
    "start_time": "2023-05-30T23:16:19.197Z"
   },
   {
    "duration": 170,
    "start_time": "2023-05-30T23:16:20.249Z"
   },
   {
    "duration": 7,
    "start_time": "2023-05-30T23:16:20.420Z"
   },
   {
    "duration": 69,
    "start_time": "2023-05-30T23:16:20.428Z"
   },
   {
    "duration": 75,
    "start_time": "2023-05-30T23:16:20.499Z"
   },
   {
    "duration": 92,
    "start_time": "2023-05-30T23:16:20.575Z"
   },
   {
    "duration": 45,
    "start_time": "2023-05-30T23:16:20.668Z"
   },
   {
    "duration": 43,
    "start_time": "2023-05-30T23:16:20.715Z"
   },
   {
    "duration": 20,
    "start_time": "2023-05-30T23:16:20.760Z"
   },
   {
    "duration": 27,
    "start_time": "2023-05-30T23:16:20.782Z"
   },
   {
    "duration": 11,
    "start_time": "2023-05-30T23:16:20.810Z"
   },
   {
    "duration": 37,
    "start_time": "2023-05-30T23:16:20.823Z"
   },
   {
    "duration": 216,
    "start_time": "2023-05-30T23:16:20.862Z"
   },
   {
    "duration": 8,
    "start_time": "2023-05-30T23:16:21.080Z"
   },
   {
    "duration": 691,
    "start_time": "2023-05-30T23:16:21.089Z"
   },
   {
    "duration": 19,
    "start_time": "2023-05-30T23:16:21.782Z"
   },
   {
    "duration": 20,
    "start_time": "2023-05-30T23:16:21.803Z"
   },
   {
    "duration": 47,
    "start_time": "2023-05-30T23:16:21.825Z"
   },
   {
    "duration": 50,
    "start_time": "2023-05-30T23:16:21.873Z"
   },
   {
    "duration": 34,
    "start_time": "2023-05-30T23:16:21.924Z"
   },
   {
    "duration": 13,
    "start_time": "2023-05-30T23:16:21.960Z"
   },
   {
    "duration": 178,
    "start_time": "2023-05-30T23:16:21.974Z"
   },
   {
    "duration": 305,
    "start_time": "2023-05-30T23:16:22.154Z"
   },
   {
    "duration": 93,
    "start_time": "2023-05-30T23:16:22.460Z"
   },
   {
    "duration": 38,
    "start_time": "2023-05-30T23:16:22.554Z"
   },
   {
    "duration": 117,
    "start_time": "2023-05-30T23:16:22.594Z"
   },
   {
    "duration": 5,
    "start_time": "2023-05-30T23:16:22.713Z"
   },
   {
    "duration": 131,
    "start_time": "2023-05-30T23:16:22.719Z"
   },
   {
    "duration": 130,
    "start_time": "2023-05-30T23:16:22.851Z"
   },
   {
    "duration": 126,
    "start_time": "2023-05-30T23:16:22.983Z"
   },
   {
    "duration": 151,
    "start_time": "2023-05-30T23:16:23.111Z"
   },
   {
    "duration": 1128,
    "start_time": "2023-05-30T23:17:00.514Z"
   },
   {
    "duration": 174,
    "start_time": "2023-05-30T23:17:01.645Z"
   },
   {
    "duration": 7,
    "start_time": "2023-05-30T23:17:01.821Z"
   },
   {
    "duration": 85,
    "start_time": "2023-05-30T23:17:01.830Z"
   },
   {
    "duration": 64,
    "start_time": "2023-05-30T23:17:01.917Z"
   },
   {
    "duration": 92,
    "start_time": "2023-05-30T23:17:01.982Z"
   },
   {
    "duration": 41,
    "start_time": "2023-05-30T23:17:02.075Z"
   },
   {
    "duration": 36,
    "start_time": "2023-05-30T23:17:02.118Z"
   },
   {
    "duration": 17,
    "start_time": "2023-05-30T23:17:02.155Z"
   },
   {
    "duration": 18,
    "start_time": "2023-05-30T23:17:02.174Z"
   },
   {
    "duration": 29,
    "start_time": "2023-05-30T23:17:02.193Z"
   },
   {
    "duration": 39,
    "start_time": "2023-05-30T23:17:02.224Z"
   },
   {
    "duration": 224,
    "start_time": "2023-05-30T23:17:02.264Z"
   },
   {
    "duration": 8,
    "start_time": "2023-05-30T23:17:02.490Z"
   },
   {
    "duration": 689,
    "start_time": "2023-05-30T23:17:02.499Z"
   },
   {
    "duration": 20,
    "start_time": "2023-05-30T23:17:03.189Z"
   },
   {
    "duration": 20,
    "start_time": "2023-05-30T23:17:03.210Z"
   },
   {
    "duration": 47,
    "start_time": "2023-05-30T23:17:03.231Z"
   },
   {
    "duration": 47,
    "start_time": "2023-05-30T23:17:03.280Z"
   },
   {
    "duration": 28,
    "start_time": "2023-05-30T23:17:03.328Z"
   },
   {
    "duration": 14,
    "start_time": "2023-05-30T23:17:03.357Z"
   },
   {
    "duration": 177,
    "start_time": "2023-05-30T23:17:03.373Z"
   },
   {
    "duration": 344,
    "start_time": "2023-05-30T23:17:03.552Z"
   },
   {
    "duration": 67,
    "start_time": "2023-05-30T23:17:03.898Z"
   },
   {
    "duration": 35,
    "start_time": "2023-05-30T23:17:03.967Z"
   },
   {
    "duration": 102,
    "start_time": "2023-05-30T23:17:04.050Z"
   },
   {
    "duration": 6,
    "start_time": "2023-05-30T23:17:04.153Z"
   },
   {
    "duration": 141,
    "start_time": "2023-05-30T23:17:04.161Z"
   },
   {
    "duration": 129,
    "start_time": "2023-05-30T23:17:04.304Z"
   },
   {
    "duration": 143,
    "start_time": "2023-05-30T23:17:04.435Z"
   },
   {
    "duration": 153,
    "start_time": "2023-05-30T23:17:04.580Z"
   },
   {
    "duration": 1284,
    "start_time": "2023-08-01T17:14:35.509Z"
   },
   {
    "duration": 1003,
    "start_time": "2023-08-01T17:14:38.836Z"
   },
   {
    "duration": 336,
    "start_time": "2023-08-01T17:14:47.036Z"
   },
   {
    "duration": 214,
    "start_time": "2023-08-01T17:14:52.375Z"
   },
   {
    "duration": 206,
    "start_time": "2023-08-01T17:14:59.386Z"
   },
   {
    "duration": 214,
    "start_time": "2023-08-01T17:15:08.405Z"
   },
   {
    "duration": 10,
    "start_time": "2023-08-01T17:17:19.866Z"
   },
   {
    "duration": 68,
    "start_time": "2023-08-01T17:17:20.951Z"
   },
   {
    "duration": 50,
    "start_time": "2023-08-01T17:17:26.604Z"
   },
   {
    "duration": 73,
    "start_time": "2023-08-01T17:17:31.938Z"
   },
   {
    "duration": 43,
    "start_time": "2023-08-01T17:17:41.694Z"
   },
   {
    "duration": 23,
    "start_time": "2023-08-01T17:18:26.092Z"
   },
   {
    "duration": 40,
    "start_time": "2023-08-01T17:18:33.637Z"
   },
   {
    "duration": 45,
    "start_time": "2023-08-01T17:18:48.974Z"
   },
   {
    "duration": 46,
    "start_time": "2023-08-01T17:18:54.168Z"
   },
   {
    "duration": 51,
    "start_time": "2023-08-01T17:19:35.035Z"
   },
   {
    "duration": 21,
    "start_time": "2023-08-01T17:19:37.377Z"
   },
   {
    "duration": 8,
    "start_time": "2023-08-01T17:22:31.536Z"
   },
   {
    "duration": 22,
    "start_time": "2023-08-01T17:22:34.662Z"
   },
   {
    "duration": 232,
    "start_time": "2023-08-01T17:22:41.855Z"
   },
   {
    "duration": 8,
    "start_time": "2023-08-01T17:22:51.693Z"
   },
   {
    "duration": 830,
    "start_time": "2023-08-01T17:22:57.543Z"
   },
   {
    "duration": 19,
    "start_time": "2023-08-01T17:23:52.636Z"
   },
   {
    "duration": 22,
    "start_time": "2023-08-01T17:23:53.514Z"
   },
   {
    "duration": 38,
    "start_time": "2023-08-01T17:24:06.078Z"
   },
   {
    "duration": 34,
    "start_time": "2023-08-01T17:24:17.070Z"
   },
   {
    "duration": 34,
    "start_time": "2023-08-01T17:25:04.746Z"
   },
   {
    "duration": 58,
    "start_time": "2023-08-01T17:25:24.252Z"
   },
   {
    "duration": 14,
    "start_time": "2023-08-01T17:25:45.086Z"
   },
   {
    "duration": 182,
    "start_time": "2023-08-01T17:27:40.570Z"
   },
   {
    "duration": 190,
    "start_time": "2023-08-01T17:27:51.394Z"
   },
   {
    "duration": 34,
    "start_time": "2023-08-01T17:31:06.841Z"
   },
   {
    "duration": 4,
    "start_time": "2023-08-01T17:31:15.883Z"
   },
   {
    "duration": 192,
    "start_time": "2023-08-01T17:31:16.200Z"
   },
   {
    "duration": 9,
    "start_time": "2023-08-01T17:31:16.683Z"
   },
   {
    "duration": 57,
    "start_time": "2023-08-01T17:31:16.870Z"
   },
   {
    "duration": 53,
    "start_time": "2023-08-01T17:31:17.178Z"
   },
   {
    "duration": 88,
    "start_time": "2023-08-01T17:31:17.505Z"
   },
   {
    "duration": 44,
    "start_time": "2023-08-01T17:31:17.882Z"
   },
   {
    "duration": 46,
    "start_time": "2023-08-01T17:31:18.275Z"
   },
   {
    "duration": 31,
    "start_time": "2023-08-01T17:31:19.037Z"
   },
   {
    "duration": 9,
    "start_time": "2023-08-01T17:31:19.773Z"
   },
   {
    "duration": 39,
    "start_time": "2023-08-01T17:31:20.293Z"
   },
   {
    "duration": 238,
    "start_time": "2023-08-01T17:31:20.650Z"
   },
   {
    "duration": 9,
    "start_time": "2023-08-01T17:31:21.589Z"
   },
   {
    "duration": 778,
    "start_time": "2023-08-01T17:31:21.978Z"
   },
   {
    "duration": 19,
    "start_time": "2023-08-01T17:31:22.758Z"
   },
   {
    "duration": 19,
    "start_time": "2023-08-01T17:31:22.779Z"
   },
   {
    "duration": 46,
    "start_time": "2023-08-01T17:31:23.756Z"
   },
   {
    "duration": 60,
    "start_time": "2023-08-01T17:31:25.450Z"
   },
   {
    "duration": 37,
    "start_time": "2023-08-01T17:31:26.351Z"
   },
   {
    "duration": 23,
    "start_time": "2023-08-01T17:31:27.650Z"
   },
   {
    "duration": 194,
    "start_time": "2023-08-01T17:31:28.276Z"
   },
   {
    "duration": 12,
    "start_time": "2023-08-01T17:31:29.292Z"
   },
   {
    "duration": 38,
    "start_time": "2023-08-01T17:31:31.416Z"
   },
   {
    "duration": 37,
    "start_time": "2023-08-01T17:31:31.800Z"
   },
   {
    "duration": 86,
    "start_time": "2023-08-01T17:31:32.110Z"
   },
   {
    "duration": 7,
    "start_time": "2023-08-01T17:31:33.771Z"
   },
   {
    "duration": 142,
    "start_time": "2023-08-01T17:31:35.471Z"
   },
   {
    "duration": 146,
    "start_time": "2023-08-01T17:31:37.242Z"
   },
   {
    "duration": 156,
    "start_time": "2023-08-01T17:31:39.156Z"
   },
   {
    "duration": 157,
    "start_time": "2023-08-01T17:31:40.675Z"
   },
   {
    "duration": 142,
    "start_time": "2023-08-01T17:36:52.364Z"
   },
   {
    "duration": 139,
    "start_time": "2023-08-01T17:36:57.101Z"
   },
   {
    "duration": 140,
    "start_time": "2023-08-01T17:37:01.784Z"
   },
   {
    "duration": 152,
    "start_time": "2023-08-01T17:37:06.595Z"
   }
  ],
  "kernelspec": {
   "display_name": "Python 3 (ipykernel)",
   "language": "python",
   "name": "python3"
  },
  "language_info": {
   "codemirror_mode": {
    "name": "ipython",
    "version": 3
   },
   "file_extension": ".py",
   "mimetype": "text/x-python",
   "name": "python",
   "nbconvert_exporter": "python",
   "pygments_lexer": "ipython3",
   "version": "3.11.2"
  },
  "toc": {
   "base_numbering": 1,
   "nav_menu": {},
   "number_sections": true,
   "sideBar": true,
   "skip_h1_title": true,
   "title_cell": "Table of Contents",
   "title_sidebar": "Contents",
   "toc_cell": false,
   "toc_position": {},
   "toc_section_display": true,
   "toc_window_display": false
  }
 },
 "nbformat": 4,
 "nbformat_minor": 2
}
