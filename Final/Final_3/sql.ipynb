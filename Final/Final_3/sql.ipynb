{
 "cells": [
  {
   "cell_type": "markdown",
   "metadata": {},
   "source": [
    "# Проект по SQL"
   ]
  },
  {
   "cell_type": "markdown",
   "metadata": {},
   "source": [
    "Я являюсь аналитиком кампании, решившей заняться сервисом по предоставлению чтения книг по подписки.\n",
    "\n",
    "У меня есть доступ к базе данных данного сервиса и моя задача проанализировать её.\n",
    "\n",
    "В базе хранится информация о книгах, издательствах, авторах, а также пользовательские обзоры книг.\n",
    "\n",
    "## Описание данных\n",
    "\n",
    "В БД хранятся следующие таблице\n",
    "\n",
    "**Таблица** `books` cодержит данные о книгах:\n",
    "+ `book_id` — идентификатор книги;\n",
    "+ `author_id` — идентификатор автора;\n",
    "+ `title` — название книги;\n",
    "+ `num_pages` — количество страниц;\n",
    "+ `publication_date` — дата публикации книги;\n",
    "+ `publisher_id` — идентификатор издателя.\n",
    "\n",
    "**Таблица** `authors` содержит информацию об авторах:\n",
    "+ `author_id` — идентификатор автора;\n",
    "+ `author` — имя автора.\n",
    "\n",
    "**Таблица** `publishers` содержит данные об издательствах:\n",
    "+ `publisher_id` — идентификатор издательства;\n",
    "+ `publisher` — название издательства;\n",
    "\n",
    "**Таблица** `ratings` cодержит данные о пользовательских оценках книг:\n",
    "+ `rating_id` — идентификатор оценки;\n",
    "+ `book_id` — идентификатор книги;\n",
    "+ `username` — имя пользователя, оставившего оценку;\n",
    "+ `rating` — оценка книги.\n",
    "\n",
    "**Таблица** `reviews` cодержит данные о пользовательских обзорах:\n",
    "\n",
    "+ `review_id` — идентификатор обзора;\n",
    "+ `book_id` — идентификатор книги;\n",
    "+ `username` — имя автора обзора;\n",
    "+ `text` — текст обзора.\n",
    "\n",
    "### Схема данных\n",
    "\n",
    "![Alt Text](https://pictures.s3.yandex.net/resources/scheme_1589269096.png)\n"
   ]
  },
  {
   "cell_type": "markdown",
   "metadata": {},
   "source": [
    "## Цели исследования\n",
    "\n",
    "Благодаря тому, что будет изучена база данных - какие книги и издательства представлены, какой у продуктов рейтинг, что ранее выбирали пользователи и т.п., кампания сможет выстроить адекватную дорожную карту по развитию сервиса и получении прибыли."
   ]
  },
  {
   "cell_type": "markdown",
   "metadata": {},
   "source": [
    "## Предобработка данных\n",
    "\n"
   ]
  },
  {
   "cell_type": "code",
   "execution_count": 11,
   "metadata": {},
   "outputs": [],
   "source": [
    "import pandas as pd\n",
    "pd.set_option('display.max_columns', None)\n",
    "pd.set_option('display.expand_frame_repr', False)\n",
    "from sqlalchemy import text, create_engine\n",
    "import matplotlib.pyplot as plt\n",
    "import math"
   ]
  },
  {
   "cell_type": "code",
   "execution_count": 12,
   "metadata": {},
   "outputs": [],
   "source": [
    "db_config = {'user': 'praktikum_student', # имя пользователя\n",
    "'pwd': 'Sdf4$2;d-d30pp', # пароль\n",
    "'host': 'rc1b-wcoijxj3yxfsf3fs.mdb.yandexcloud.net',\n",
    "'port': 6432, # порт подключения\n",
    "'db': 'data-analyst-final-project-db'} # название базы данных\n",
    "connection_string = 'postgresql://{user}:{pwd}@{host}:{port}/{db}'.format(**db_config)\n",
    "\n",
    "# сохраняем коннектор\n",
    "engine = create_engine(connection_string, connect_args={'sslmode':'require'})\n"
   ]
  },
  {
   "cell_type": "code",
   "execution_count": 13,
   "metadata": {},
   "outputs": [],
   "source": [
    "def execute_sql_query(table_name, engine):\n",
    "    query = f\"SELECT * FROM {table_name} \"\n",
    "    with engine.connect() as con:\n",
    "        result = pd.read_sql(sql=text(query), con=con)\n",
    "    return result\n",
    "\n",
    "def explore(dataset):\n",
    "    display(dataset.head())\n",
    "    dataset.info()\n",
    "    \n",
    "def find_duplicates(dataset):\n",
    "    print()\n",
    "    duplicates = dataset[dataset.duplicated(keep=False)]\n",
    "    if duplicates.empty:\n",
    "        print(\"Дубликаты строк не найдены.\")\n",
    "    else:\n",
    "        print(\"Найдены дубликаты строк:\")\n",
    "        display(duplicates)    "
   ]
  },
  {
   "cell_type": "code",
   "execution_count": 14,
   "metadata": {},
   "outputs": [
    {
     "data": {
      "text/html": [
       "<div>\n",
       "<style scoped>\n",
       "    .dataframe tbody tr th:only-of-type {\n",
       "        vertical-align: middle;\n",
       "    }\n",
       "\n",
       "    .dataframe tbody tr th {\n",
       "        vertical-align: top;\n",
       "    }\n",
       "\n",
       "    .dataframe thead th {\n",
       "        text-align: right;\n",
       "    }\n",
       "</style>\n",
       "<table border=\"1\" class=\"dataframe\">\n",
       "  <thead>\n",
       "    <tr style=\"text-align: right;\">\n",
       "      <th></th>\n",
       "      <th>book_id</th>\n",
       "      <th>author_id</th>\n",
       "      <th>title</th>\n",
       "      <th>num_pages</th>\n",
       "      <th>publication_date</th>\n",
       "      <th>publisher_id</th>\n",
       "    </tr>\n",
       "  </thead>\n",
       "  <tbody>\n",
       "    <tr>\n",
       "      <th>0</th>\n",
       "      <td>1</td>\n",
       "      <td>546</td>\n",
       "      <td>'Salem's Lot</td>\n",
       "      <td>594</td>\n",
       "      <td>2005-11-01</td>\n",
       "      <td>93</td>\n",
       "    </tr>\n",
       "    <tr>\n",
       "      <th>1</th>\n",
       "      <td>2</td>\n",
       "      <td>465</td>\n",
       "      <td>1 000 Places to See Before You Die</td>\n",
       "      <td>992</td>\n",
       "      <td>2003-05-22</td>\n",
       "      <td>336</td>\n",
       "    </tr>\n",
       "    <tr>\n",
       "      <th>2</th>\n",
       "      <td>3</td>\n",
       "      <td>407</td>\n",
       "      <td>13 Little Blue Envelopes (Little Blue Envelope...</td>\n",
       "      <td>322</td>\n",
       "      <td>2010-12-21</td>\n",
       "      <td>135</td>\n",
       "    </tr>\n",
       "    <tr>\n",
       "      <th>3</th>\n",
       "      <td>4</td>\n",
       "      <td>82</td>\n",
       "      <td>1491: New Revelations of the Americas Before C...</td>\n",
       "      <td>541</td>\n",
       "      <td>2006-10-10</td>\n",
       "      <td>309</td>\n",
       "    </tr>\n",
       "    <tr>\n",
       "      <th>4</th>\n",
       "      <td>5</td>\n",
       "      <td>125</td>\n",
       "      <td>1776</td>\n",
       "      <td>386</td>\n",
       "      <td>2006-07-04</td>\n",
       "      <td>268</td>\n",
       "    </tr>\n",
       "  </tbody>\n",
       "</table>\n",
       "</div>"
      ],
      "text/plain": [
       "   book_id  author_id                                              title  num_pages publication_date  publisher_id\n",
       "0        1        546                                       'Salem's Lot        594       2005-11-01            93\n",
       "1        2        465                 1 000 Places to See Before You Die        992       2003-05-22           336\n",
       "2        3        407  13 Little Blue Envelopes (Little Blue Envelope...        322       2010-12-21           135\n",
       "3        4         82  1491: New Revelations of the Americas Before C...        541       2006-10-10           309\n",
       "4        5        125                                               1776        386       2006-07-04           268"
      ]
     },
     "metadata": {},
     "output_type": "display_data"
    },
    {
     "name": "stdout",
     "output_type": "stream",
     "text": [
      "<class 'pandas.core.frame.DataFrame'>\n",
      "RangeIndex: 1000 entries, 0 to 999\n",
      "Data columns (total 6 columns):\n",
      " #   Column            Non-Null Count  Dtype \n",
      "---  ------            --------------  ----- \n",
      " 0   book_id           1000 non-null   int64 \n",
      " 1   author_id         1000 non-null   int64 \n",
      " 2   title             1000 non-null   object\n",
      " 3   num_pages         1000 non-null   int64 \n",
      " 4   publication_date  1000 non-null   object\n",
      " 5   publisher_id      1000 non-null   int64 \n",
      "dtypes: int64(4), object(2)\n",
      "memory usage: 47.0+ KB\n"
     ]
    }
   ],
   "source": [
    "books = execute_sql_query('books', engine)\n",
    "explore(books)"
   ]
  },
  {
   "cell_type": "code",
   "execution_count": 15,
   "metadata": {},
   "outputs": [
    {
     "data": {
      "text/html": [
       "<div>\n",
       "<style scoped>\n",
       "    .dataframe tbody tr th:only-of-type {\n",
       "        vertical-align: middle;\n",
       "    }\n",
       "\n",
       "    .dataframe tbody tr th {\n",
       "        vertical-align: top;\n",
       "    }\n",
       "\n",
       "    .dataframe thead th {\n",
       "        text-align: right;\n",
       "    }\n",
       "</style>\n",
       "<table border=\"1\" class=\"dataframe\">\n",
       "  <thead>\n",
       "    <tr style=\"text-align: right;\">\n",
       "      <th></th>\n",
       "      <th>book_id</th>\n",
       "      <th>author_id</th>\n",
       "      <th>title</th>\n",
       "      <th>num_pages</th>\n",
       "      <th>publication_date</th>\n",
       "      <th>publisher_id</th>\n",
       "    </tr>\n",
       "  </thead>\n",
       "  <tbody>\n",
       "    <tr>\n",
       "      <th>0</th>\n",
       "      <td>1</td>\n",
       "      <td>546</td>\n",
       "      <td>'Salem's Lot</td>\n",
       "      <td>594</td>\n",
       "      <td>2005-11-01</td>\n",
       "      <td>93</td>\n",
       "    </tr>\n",
       "    <tr>\n",
       "      <th>1</th>\n",
       "      <td>2</td>\n",
       "      <td>465</td>\n",
       "      <td>1 000 Places to See Before You Die</td>\n",
       "      <td>992</td>\n",
       "      <td>2003-05-22</td>\n",
       "      <td>336</td>\n",
       "    </tr>\n",
       "    <tr>\n",
       "      <th>2</th>\n",
       "      <td>3</td>\n",
       "      <td>407</td>\n",
       "      <td>13 Little Blue Envelopes (Little Blue Envelope...</td>\n",
       "      <td>322</td>\n",
       "      <td>2010-12-21</td>\n",
       "      <td>135</td>\n",
       "    </tr>\n",
       "    <tr>\n",
       "      <th>3</th>\n",
       "      <td>4</td>\n",
       "      <td>82</td>\n",
       "      <td>1491: New Revelations of the Americas Before C...</td>\n",
       "      <td>541</td>\n",
       "      <td>2006-10-10</td>\n",
       "      <td>309</td>\n",
       "    </tr>\n",
       "    <tr>\n",
       "      <th>4</th>\n",
       "      <td>5</td>\n",
       "      <td>125</td>\n",
       "      <td>1776</td>\n",
       "      <td>386</td>\n",
       "      <td>2006-07-04</td>\n",
       "      <td>268</td>\n",
       "    </tr>\n",
       "  </tbody>\n",
       "</table>\n",
       "</div>"
      ],
      "text/plain": [
       "   book_id  author_id                                              title  num_pages publication_date  publisher_id\n",
       "0        1        546                                       'Salem's Lot        594       2005-11-01            93\n",
       "1        2        465                 1 000 Places to See Before You Die        992       2003-05-22           336\n",
       "2        3        407  13 Little Blue Envelopes (Little Blue Envelope...        322       2010-12-21           135\n",
       "3        4         82  1491: New Revelations of the Americas Before C...        541       2006-10-10           309\n",
       "4        5        125                                               1776        386       2006-07-04           268"
      ]
     },
     "metadata": {},
     "output_type": "display_data"
    },
    {
     "name": "stdout",
     "output_type": "stream",
     "text": [
      "<class 'pandas.core.frame.DataFrame'>\n",
      "RangeIndex: 1000 entries, 0 to 999\n",
      "Data columns (total 6 columns):\n",
      " #   Column            Non-Null Count  Dtype         \n",
      "---  ------            --------------  -----         \n",
      " 0   book_id           1000 non-null   int64         \n",
      " 1   author_id         1000 non-null   int64         \n",
      " 2   title             1000 non-null   object        \n",
      " 3   num_pages         1000 non-null   int64         \n",
      " 4   publication_date  1000 non-null   datetime64[ns]\n",
      " 5   publisher_id      1000 non-null   int64         \n",
      "dtypes: datetime64[ns](1), int64(4), object(1)\n",
      "memory usage: 47.0+ KB\n",
      "\n",
      "Дубликаты строк не найдены.\n"
     ]
    }
   ],
   "source": [
    "books['publication_date'] = pd.to_datetime(books['publication_date'])\n",
    "explore(books)\n",
    "find_duplicates(books)"
   ]
  },
  {
   "cell_type": "markdown",
   "metadata": {},
   "source": [
    "В таблице `books` правильно обозначены столбцы, изменен формат столбца с датой публикации, дубликаты не найдены."
   ]
  },
  {
   "cell_type": "code",
   "execution_count": 16,
   "metadata": {},
   "outputs": [
    {
     "data": {
      "text/html": [
       "<div>\n",
       "<style scoped>\n",
       "    .dataframe tbody tr th:only-of-type {\n",
       "        vertical-align: middle;\n",
       "    }\n",
       "\n",
       "    .dataframe tbody tr th {\n",
       "        vertical-align: top;\n",
       "    }\n",
       "\n",
       "    .dataframe thead th {\n",
       "        text-align: right;\n",
       "    }\n",
       "</style>\n",
       "<table border=\"1\" class=\"dataframe\">\n",
       "  <thead>\n",
       "    <tr style=\"text-align: right;\">\n",
       "      <th></th>\n",
       "      <th>author_id</th>\n",
       "      <th>author</th>\n",
       "    </tr>\n",
       "  </thead>\n",
       "  <tbody>\n",
       "    <tr>\n",
       "      <th>0</th>\n",
       "      <td>1</td>\n",
       "      <td>A.S. Byatt</td>\n",
       "    </tr>\n",
       "    <tr>\n",
       "      <th>1</th>\n",
       "      <td>2</td>\n",
       "      <td>Aesop/Laura Harris/Laura Gibbs</td>\n",
       "    </tr>\n",
       "    <tr>\n",
       "      <th>2</th>\n",
       "      <td>3</td>\n",
       "      <td>Agatha Christie</td>\n",
       "    </tr>\n",
       "    <tr>\n",
       "      <th>3</th>\n",
       "      <td>4</td>\n",
       "      <td>Alan Brennert</td>\n",
       "    </tr>\n",
       "    <tr>\n",
       "      <th>4</th>\n",
       "      <td>5</td>\n",
       "      <td>Alan Moore/David   Lloyd</td>\n",
       "    </tr>\n",
       "  </tbody>\n",
       "</table>\n",
       "</div>"
      ],
      "text/plain": [
       "   author_id                          author\n",
       "0          1                      A.S. Byatt\n",
       "1          2  Aesop/Laura Harris/Laura Gibbs\n",
       "2          3                 Agatha Christie\n",
       "3          4                   Alan Brennert\n",
       "4          5        Alan Moore/David   Lloyd"
      ]
     },
     "metadata": {},
     "output_type": "display_data"
    },
    {
     "name": "stdout",
     "output_type": "stream",
     "text": [
      "<class 'pandas.core.frame.DataFrame'>\n",
      "RangeIndex: 636 entries, 0 to 635\n",
      "Data columns (total 2 columns):\n",
      " #   Column     Non-Null Count  Dtype \n",
      "---  ------     --------------  ----- \n",
      " 0   author_id  636 non-null    int64 \n",
      " 1   author     636 non-null    object\n",
      "dtypes: int64(1), object(1)\n",
      "memory usage: 10.1+ KB\n",
      "\n",
      "Дубликаты строк не найдены.\n"
     ]
    }
   ],
   "source": [
    "authors = execute_sql_query('authors', engine)\n",
    "explore(authors)\n",
    "find_duplicates(authors)"
   ]
  },
  {
   "cell_type": "markdown",
   "metadata": {},
   "source": [
    "В таблице `authors` правильно обозначены столбцы, дубликаты не найдены."
   ]
  },
  {
   "cell_type": "code",
   "execution_count": 17,
   "metadata": {},
   "outputs": [
    {
     "data": {
      "text/html": [
       "<div>\n",
       "<style scoped>\n",
       "    .dataframe tbody tr th:only-of-type {\n",
       "        vertical-align: middle;\n",
       "    }\n",
       "\n",
       "    .dataframe tbody tr th {\n",
       "        vertical-align: top;\n",
       "    }\n",
       "\n",
       "    .dataframe thead th {\n",
       "        text-align: right;\n",
       "    }\n",
       "</style>\n",
       "<table border=\"1\" class=\"dataframe\">\n",
       "  <thead>\n",
       "    <tr style=\"text-align: right;\">\n",
       "      <th></th>\n",
       "      <th>publisher_id</th>\n",
       "      <th>publisher</th>\n",
       "    </tr>\n",
       "  </thead>\n",
       "  <tbody>\n",
       "    <tr>\n",
       "      <th>0</th>\n",
       "      <td>1</td>\n",
       "      <td>Ace</td>\n",
       "    </tr>\n",
       "    <tr>\n",
       "      <th>1</th>\n",
       "      <td>2</td>\n",
       "      <td>Ace Book</td>\n",
       "    </tr>\n",
       "    <tr>\n",
       "      <th>2</th>\n",
       "      <td>3</td>\n",
       "      <td>Ace Books</td>\n",
       "    </tr>\n",
       "    <tr>\n",
       "      <th>3</th>\n",
       "      <td>4</td>\n",
       "      <td>Ace Hardcover</td>\n",
       "    </tr>\n",
       "    <tr>\n",
       "      <th>4</th>\n",
       "      <td>5</td>\n",
       "      <td>Addison Wesley Publishing Company</td>\n",
       "    </tr>\n",
       "  </tbody>\n",
       "</table>\n",
       "</div>"
      ],
      "text/plain": [
       "   publisher_id                          publisher\n",
       "0             1                                Ace\n",
       "1             2                           Ace Book\n",
       "2             3                          Ace Books\n",
       "3             4                      Ace Hardcover\n",
       "4             5  Addison Wesley Publishing Company"
      ]
     },
     "metadata": {},
     "output_type": "display_data"
    },
    {
     "name": "stdout",
     "output_type": "stream",
     "text": [
      "<class 'pandas.core.frame.DataFrame'>\n",
      "RangeIndex: 340 entries, 0 to 339\n",
      "Data columns (total 2 columns):\n",
      " #   Column        Non-Null Count  Dtype \n",
      "---  ------        --------------  ----- \n",
      " 0   publisher_id  340 non-null    int64 \n",
      " 1   publisher     340 non-null    object\n",
      "dtypes: int64(1), object(1)\n",
      "memory usage: 5.4+ KB\n",
      "\n",
      "Дубликаты строк не найдены.\n"
     ]
    }
   ],
   "source": [
    "publishers = execute_sql_query('publishers', engine)\n",
    "explore(publishers)\n",
    "find_duplicates(publishers)"
   ]
  },
  {
   "cell_type": "markdown",
   "metadata": {},
   "source": [
    "В таблице `publishers` правильно обозначены столбцы, дубликаты не найдены."
   ]
  },
  {
   "cell_type": "code",
   "execution_count": 18,
   "metadata": {},
   "outputs": [
    {
     "data": {
      "text/html": [
       "<div>\n",
       "<style scoped>\n",
       "    .dataframe tbody tr th:only-of-type {\n",
       "        vertical-align: middle;\n",
       "    }\n",
       "\n",
       "    .dataframe tbody tr th {\n",
       "        vertical-align: top;\n",
       "    }\n",
       "\n",
       "    .dataframe thead th {\n",
       "        text-align: right;\n",
       "    }\n",
       "</style>\n",
       "<table border=\"1\" class=\"dataframe\">\n",
       "  <thead>\n",
       "    <tr style=\"text-align: right;\">\n",
       "      <th></th>\n",
       "      <th>rating_id</th>\n",
       "      <th>book_id</th>\n",
       "      <th>username</th>\n",
       "      <th>rating</th>\n",
       "    </tr>\n",
       "  </thead>\n",
       "  <tbody>\n",
       "    <tr>\n",
       "      <th>0</th>\n",
       "      <td>1</td>\n",
       "      <td>1</td>\n",
       "      <td>ryanfranco</td>\n",
       "      <td>4</td>\n",
       "    </tr>\n",
       "    <tr>\n",
       "      <th>1</th>\n",
       "      <td>2</td>\n",
       "      <td>1</td>\n",
       "      <td>grantpatricia</td>\n",
       "      <td>2</td>\n",
       "    </tr>\n",
       "    <tr>\n",
       "      <th>2</th>\n",
       "      <td>3</td>\n",
       "      <td>1</td>\n",
       "      <td>brandtandrea</td>\n",
       "      <td>5</td>\n",
       "    </tr>\n",
       "    <tr>\n",
       "      <th>3</th>\n",
       "      <td>4</td>\n",
       "      <td>2</td>\n",
       "      <td>lorichen</td>\n",
       "      <td>3</td>\n",
       "    </tr>\n",
       "    <tr>\n",
       "      <th>4</th>\n",
       "      <td>5</td>\n",
       "      <td>2</td>\n",
       "      <td>mariokeller</td>\n",
       "      <td>2</td>\n",
       "    </tr>\n",
       "  </tbody>\n",
       "</table>\n",
       "</div>"
      ],
      "text/plain": [
       "   rating_id  book_id       username  rating\n",
       "0          1        1     ryanfranco       4\n",
       "1          2        1  grantpatricia       2\n",
       "2          3        1   brandtandrea       5\n",
       "3          4        2       lorichen       3\n",
       "4          5        2    mariokeller       2"
      ]
     },
     "metadata": {},
     "output_type": "display_data"
    },
    {
     "name": "stdout",
     "output_type": "stream",
     "text": [
      "<class 'pandas.core.frame.DataFrame'>\n",
      "RangeIndex: 6456 entries, 0 to 6455\n",
      "Data columns (total 4 columns):\n",
      " #   Column     Non-Null Count  Dtype \n",
      "---  ------     --------------  ----- \n",
      " 0   rating_id  6456 non-null   int64 \n",
      " 1   book_id    6456 non-null   int64 \n",
      " 2   username   6456 non-null   object\n",
      " 3   rating     6456 non-null   int64 \n",
      "dtypes: int64(3), object(1)\n",
      "memory usage: 201.9+ KB\n",
      "\n",
      "Дубликаты строк не найдены.\n"
     ]
    }
   ],
   "source": [
    "ratings = execute_sql_query('ratings', engine)\n",
    "explore(ratings)\n",
    "find_duplicates(ratings)"
   ]
  },
  {
   "cell_type": "markdown",
   "metadata": {},
   "source": [
    "В таблице `ratings` правильно обозначены столбцы, дубликаты не найдены."
   ]
  },
  {
   "cell_type": "code",
   "execution_count": 19,
   "metadata": {},
   "outputs": [
    {
     "data": {
      "text/html": [
       "<div>\n",
       "<style scoped>\n",
       "    .dataframe tbody tr th:only-of-type {\n",
       "        vertical-align: middle;\n",
       "    }\n",
       "\n",
       "    .dataframe tbody tr th {\n",
       "        vertical-align: top;\n",
       "    }\n",
       "\n",
       "    .dataframe thead th {\n",
       "        text-align: right;\n",
       "    }\n",
       "</style>\n",
       "<table border=\"1\" class=\"dataframe\">\n",
       "  <thead>\n",
       "    <tr style=\"text-align: right;\">\n",
       "      <th></th>\n",
       "      <th>review_id</th>\n",
       "      <th>book_id</th>\n",
       "      <th>username</th>\n",
       "      <th>text</th>\n",
       "    </tr>\n",
       "  </thead>\n",
       "  <tbody>\n",
       "    <tr>\n",
       "      <th>0</th>\n",
       "      <td>1</td>\n",
       "      <td>1</td>\n",
       "      <td>brandtandrea</td>\n",
       "      <td>Mention society tell send professor analysis. ...</td>\n",
       "    </tr>\n",
       "    <tr>\n",
       "      <th>1</th>\n",
       "      <td>2</td>\n",
       "      <td>1</td>\n",
       "      <td>ryanfranco</td>\n",
       "      <td>Foot glass pretty audience hit themselves. Amo...</td>\n",
       "    </tr>\n",
       "    <tr>\n",
       "      <th>2</th>\n",
       "      <td>3</td>\n",
       "      <td>2</td>\n",
       "      <td>lorichen</td>\n",
       "      <td>Listen treat keep worry. Miss husband tax but ...</td>\n",
       "    </tr>\n",
       "    <tr>\n",
       "      <th>3</th>\n",
       "      <td>4</td>\n",
       "      <td>3</td>\n",
       "      <td>johnsonamanda</td>\n",
       "      <td>Finally month interesting blue could nature cu...</td>\n",
       "    </tr>\n",
       "    <tr>\n",
       "      <th>4</th>\n",
       "      <td>5</td>\n",
       "      <td>3</td>\n",
       "      <td>scotttamara</td>\n",
       "      <td>Nation purpose heavy give wait song will. List...</td>\n",
       "    </tr>\n",
       "  </tbody>\n",
       "</table>\n",
       "</div>"
      ],
      "text/plain": [
       "   review_id  book_id       username                                               text\n",
       "0          1        1   brandtandrea  Mention society tell send professor analysis. ...\n",
       "1          2        1     ryanfranco  Foot glass pretty audience hit themselves. Amo...\n",
       "2          3        2       lorichen  Listen treat keep worry. Miss husband tax but ...\n",
       "3          4        3  johnsonamanda  Finally month interesting blue could nature cu...\n",
       "4          5        3    scotttamara  Nation purpose heavy give wait song will. List..."
      ]
     },
     "metadata": {},
     "output_type": "display_data"
    },
    {
     "name": "stdout",
     "output_type": "stream",
     "text": [
      "<class 'pandas.core.frame.DataFrame'>\n",
      "RangeIndex: 2793 entries, 0 to 2792\n",
      "Data columns (total 4 columns):\n",
      " #   Column     Non-Null Count  Dtype \n",
      "---  ------     --------------  ----- \n",
      " 0   review_id  2793 non-null   int64 \n",
      " 1   book_id    2793 non-null   int64 \n",
      " 2   username   2793 non-null   object\n",
      " 3   text       2793 non-null   object\n",
      "dtypes: int64(2), object(2)\n",
      "memory usage: 87.4+ KB\n",
      "\n",
      "Дубликаты строк не найдены.\n"
     ]
    }
   ],
   "source": [
    "reviews = execute_sql_query('reviews', engine)\n",
    "explore(reviews)\n",
    "find_duplicates(reviews)"
   ]
  },
  {
   "cell_type": "markdown",
   "metadata": {},
   "source": [
    "В таблице `ratings` правильно обозначены столбцы, дубликаты не найдены.\n",
    "\n",
    "### Вывод\n",
    "\n",
    "Все данные корректны, приведены к нужному типу, дубликаты не найдены, можно присутпать к анализу "
   ]
  },
  {
   "cell_type": "markdown",
   "metadata": {},
   "source": [
    "## Исследование данных\n",
    "\n",
    "Компания для проработки плана составила список вопросов:\n",
    "+ Посчитайте, сколько книг вышло после 1 января 2000 года;\n",
    "+ Для каждой книги посчитайте количество обзоров и среднюю оценку;\n",
    "+ Определите издательство, которое выпустило наибольшее число книг толще 50 страниц (для исключения брошюр);\n",
    "+ Определите автора с самой высокой средней оценкой книг — учитывайте только книги с 50 и более оценками;\n",
    "+ Посчитайте среднее количество обзоров от пользователей, которые поставили больше 48 оценок.\n"
   ]
  },
  {
   "cell_type": "markdown",
   "metadata": {},
   "source": [
    "Сколько книг вышло после 1 января 2000 года"
   ]
  },
  {
   "cell_type": "code",
   "execution_count": 20,
   "metadata": {},
   "outputs": [
    {
     "data": {
      "text/html": [
       "<div>\n",
       "<style scoped>\n",
       "    .dataframe tbody tr th:only-of-type {\n",
       "        vertical-align: middle;\n",
       "    }\n",
       "\n",
       "    .dataframe tbody tr th {\n",
       "        vertical-align: top;\n",
       "    }\n",
       "\n",
       "    .dataframe thead th {\n",
       "        text-align: right;\n",
       "    }\n",
       "</style>\n",
       "<table border=\"1\" class=\"dataframe\">\n",
       "  <thead>\n",
       "    <tr style=\"text-align: right;\">\n",
       "      <th></th>\n",
       "      <th>books_after_2000</th>\n",
       "    </tr>\n",
       "  </thead>\n",
       "  <tbody>\n",
       "    <tr>\n",
       "      <th>0</th>\n",
       "      <td>819</td>\n",
       "    </tr>\n",
       "  </tbody>\n",
       "</table>\n",
       "</div>"
      ],
      "text/plain": [
       "   books_after_2000\n",
       "0               819"
      ]
     },
     "metadata": {},
     "output_type": "display_data"
    },
    {
     "name": "stdout",
     "output_type": "stream",
     "text": [
      "\n",
      "В сервисе присутствует 819 книг, вышедших с 2000 года\n"
     ]
    }
   ],
   "source": [
    "query = \"\"\"\n",
    "    SELECT COUNT(*) AS books_after_2000\n",
    "    FROM books\n",
    "    WHERE publication_date > '2000-01-01'\n",
    "    \"\"\"\n",
    "result = pd.io.sql.read_sql(sql=query, con=engine)\n",
    "display(result)\n",
    "print()\n",
    "print('В сервисе присутствует', result.iloc[0, 0], 'книг, вышедших с 2000 года')"
   ]
  },
  {
   "cell_type": "markdown",
   "metadata": {},
   "source": [
    "Для каждой книги посчитайте количество обзоров и среднюю оценку;"
   ]
  },
  {
   "cell_type": "code",
   "execution_count": 21,
   "metadata": {},
   "outputs": [
    {
     "data": {
      "text/html": [
       "<div>\n",
       "<style scoped>\n",
       "    .dataframe tbody tr th:only-of-type {\n",
       "        vertical-align: middle;\n",
       "    }\n",
       "\n",
       "    .dataframe tbody tr th {\n",
       "        vertical-align: top;\n",
       "    }\n",
       "\n",
       "    .dataframe thead th {\n",
       "        text-align: right;\n",
       "    }\n",
       "</style>\n",
       "<table border=\"1\" class=\"dataframe\">\n",
       "  <thead>\n",
       "    <tr style=\"text-align: right;\">\n",
       "      <th></th>\n",
       "      <th>book_id</th>\n",
       "      <th>title</th>\n",
       "      <th>num_reviews</th>\n",
       "      <th>average_rating</th>\n",
       "    </tr>\n",
       "  </thead>\n",
       "  <tbody>\n",
       "    <tr>\n",
       "      <th>0</th>\n",
       "      <td>1</td>\n",
       "      <td>'Salem's Lot</td>\n",
       "      <td>2</td>\n",
       "      <td>3.666667</td>\n",
       "    </tr>\n",
       "    <tr>\n",
       "      <th>1</th>\n",
       "      <td>2</td>\n",
       "      <td>1 000 Places to See Before You Die</td>\n",
       "      <td>1</td>\n",
       "      <td>2.500000</td>\n",
       "    </tr>\n",
       "    <tr>\n",
       "      <th>2</th>\n",
       "      <td>3</td>\n",
       "      <td>13 Little Blue Envelopes (Little Blue Envelope...</td>\n",
       "      <td>3</td>\n",
       "      <td>4.666667</td>\n",
       "    </tr>\n",
       "    <tr>\n",
       "      <th>3</th>\n",
       "      <td>4</td>\n",
       "      <td>1491: New Revelations of the Americas Before C...</td>\n",
       "      <td>2</td>\n",
       "      <td>4.500000</td>\n",
       "    </tr>\n",
       "    <tr>\n",
       "      <th>4</th>\n",
       "      <td>5</td>\n",
       "      <td>1776</td>\n",
       "      <td>4</td>\n",
       "      <td>4.000000</td>\n",
       "    </tr>\n",
       "    <tr>\n",
       "      <th>...</th>\n",
       "      <td>...</td>\n",
       "      <td>...</td>\n",
       "      <td>...</td>\n",
       "      <td>...</td>\n",
       "    </tr>\n",
       "    <tr>\n",
       "      <th>995</th>\n",
       "      <td>996</td>\n",
       "      <td>Wyrd Sisters (Discworld  #6; Witches #2)</td>\n",
       "      <td>3</td>\n",
       "      <td>3.666667</td>\n",
       "    </tr>\n",
       "    <tr>\n",
       "      <th>996</th>\n",
       "      <td>997</td>\n",
       "      <td>Xenocide (Ender's Saga  #3)</td>\n",
       "      <td>3</td>\n",
       "      <td>3.400000</td>\n",
       "    </tr>\n",
       "    <tr>\n",
       "      <th>997</th>\n",
       "      <td>998</td>\n",
       "      <td>Year of Wonders</td>\n",
       "      <td>4</td>\n",
       "      <td>3.200000</td>\n",
       "    </tr>\n",
       "    <tr>\n",
       "      <th>998</th>\n",
       "      <td>999</td>\n",
       "      <td>You Suck (A Love Story  #2)</td>\n",
       "      <td>2</td>\n",
       "      <td>4.500000</td>\n",
       "    </tr>\n",
       "    <tr>\n",
       "      <th>999</th>\n",
       "      <td>1000</td>\n",
       "      <td>Zen and the Art of Motorcycle Maintenance: An ...</td>\n",
       "      <td>4</td>\n",
       "      <td>3.833333</td>\n",
       "    </tr>\n",
       "  </tbody>\n",
       "</table>\n",
       "<p>1000 rows × 4 columns</p>\n",
       "</div>"
      ],
      "text/plain": [
       "     book_id                                              title  num_reviews  average_rating\n",
       "0          1                                       'Salem's Lot            2        3.666667\n",
       "1          2                 1 000 Places to See Before You Die            1        2.500000\n",
       "2          3  13 Little Blue Envelopes (Little Blue Envelope...            3        4.666667\n",
       "3          4  1491: New Revelations of the Americas Before C...            2        4.500000\n",
       "4          5                                               1776            4        4.000000\n",
       "..       ...                                                ...          ...             ...\n",
       "995      996           Wyrd Sisters (Discworld  #6; Witches #2)            3        3.666667\n",
       "996      997                        Xenocide (Ender's Saga  #3)            3        3.400000\n",
       "997      998                                    Year of Wonders            4        3.200000\n",
       "998      999                        You Suck (A Love Story  #2)            2        4.500000\n",
       "999     1000  Zen and the Art of Motorcycle Maintenance: An ...            4        3.833333\n",
       "\n",
       "[1000 rows x 4 columns]"
      ]
     },
     "metadata": {},
     "output_type": "display_data"
    }
   ],
   "source": [
    "query = \"\"\"\n",
    "    SELECT \n",
    "    b.book_id,\n",
    "    b.title,\n",
    "    COUNT(DISTINCT re.review_id) AS num_reviews,\n",
    "    AVG(ra.rating) AS average_rating\n",
    "FROM\n",
    "    books AS b\n",
    "LEFT JOIN\n",
    "    reviews AS re ON b.book_id = re.book_id\n",
    "LEFT JOIN\n",
    "    ratings AS ra ON b.book_id = ra.book_id\n",
    "GROUP BY\n",
    "    b.book_id\n",
    "\n",
    "    \"\"\"\n",
    "result = pd.io.sql.read_sql(sql=query, con=engine)\n",
    "display(result)"
   ]
  },
  {
   "cell_type": "code",
   "execution_count": 23,
   "metadata": {},
   "outputs": [
    {
     "data": {
      "image/png": "[encoded data removed]",
      "text/plain": [
       "<Figure size 576x432 with 1 Axes>"
      ]
     },
     "metadata": {
      "needs_background": "light"
     },
     "output_type": "display_data"
    }
   ],
   "source": [
    "grouped_reviews = result['num_reviews'].value_counts()\n",
    "plt.figure(figsize = (8,6))\n",
    "plt.bar(grouped_reviews.index, grouped_reviews.values)\n",
    "plt.xlabel('Количество ревью')\n",
    "plt.ylabel('Количество книг')\n",
    "plt.title('Количество ревью для каждой книги')\n",
    "plt.show()"
   ]
  },
  {
   "cell_type": "code",
   "execution_count": 24,
   "metadata": {},
   "outputs": [
    {
     "data": {
      "image/png": "[encoded data removed]",
      "text/plain": [
       "<Figure size 576x432 with 1 Axes>"
      ]
     },
     "metadata": {
      "needs_background": "light"
     },
     "output_type": "display_data"
    }
   ],
   "source": [
    "grouped_ratings = result['average_rating'].value_counts()\n",
    "plt.figure(figsize=(8, 6))\n",
    "plt.bar(grouped_ratings.index, grouped_ratings.values)\n",
    "plt.xlabel('Округленный рейтинг')\n",
    "plt.ylabel('Количество книг')\n",
    "plt.title('Средний рейтинг книг')\n",
    "plt.show()"
   ]
  },
  {
   "cell_type": "markdown",
   "metadata": {},
   "source": [
    "Определите издательство, которое выпустило наибольшее число книг толще 50 страниц "
   ]
  },
  {
   "cell_type": "code",
   "execution_count": 26,
   "metadata": {},
   "outputs": [
    {
     "data": {
      "text/html": [
       "<div>\n",
       "<style scoped>\n",
       "    .dataframe tbody tr th:only-of-type {\n",
       "        vertical-align: middle;\n",
       "    }\n",
       "\n",
       "    .dataframe tbody tr th {\n",
       "        vertical-align: top;\n",
       "    }\n",
       "\n",
       "    .dataframe thead th {\n",
       "        text-align: right;\n",
       "    }\n",
       "</style>\n",
       "<table border=\"1\" class=\"dataframe\">\n",
       "  <thead>\n",
       "    <tr style=\"text-align: right;\">\n",
       "      <th></th>\n",
       "      <th>publisher_id</th>\n",
       "      <th>publisher</th>\n",
       "      <th>num_books</th>\n",
       "    </tr>\n",
       "  </thead>\n",
       "  <tbody>\n",
       "    <tr>\n",
       "      <th>0</th>\n",
       "      <td>212</td>\n",
       "      <td>Penguin Books</td>\n",
       "      <td>42</td>\n",
       "    </tr>\n",
       "  </tbody>\n",
       "</table>\n",
       "</div>"
      ],
      "text/plain": [
       "   publisher_id      publisher  num_books\n",
       "0           212  Penguin Books         42"
      ]
     },
     "metadata": {},
     "output_type": "display_data"
    },
    {
     "name": "stdout",
     "output_type": "stream",
     "text": [
      "\n",
      "Издетельство с наибольшем количеством изданий -  Penguin Books\n"
     ]
    }
   ],
   "source": [
    "query = \"\"\"SELECT p.publisher_id, p.publisher, COUNT(*) AS num_books\n",
    "    FROM books AS b\n",
    "    JOIN publishers AS p ON b.publisher_id = p.publisher_id\n",
    "    WHERE b.num_pages > 50\n",
    "    GROUP BY p.publisher_id, p.publisher\n",
    "    ORDER BY num_books DESC\n",
    "    LIMIT 1;\n",
    "\n",
    "    \"\"\"\n",
    "result = pd.io.sql.read_sql(sql=query, con=engine)\n",
    "display(result)\n",
    "print()\n",
    "print('Издетельство с наибольшем количеством изданий - ', result.iloc[0, 1])"
   ]
  },
  {
   "cell_type": "markdown",
   "metadata": {},
   "source": [
    "Определите автора с самой высокой средней оценкой книг — учитывайте только книги с 50 и более оценками"
   ]
  },
  {
   "cell_type": "code",
   "execution_count": 27,
   "metadata": {},
   "outputs": [
    {
     "data": {
      "text/html": [
       "<div>\n",
       "<style scoped>\n",
       "    .dataframe tbody tr th:only-of-type {\n",
       "        vertical-align: middle;\n",
       "    }\n",
       "\n",
       "    .dataframe tbody tr th {\n",
       "        vertical-align: top;\n",
       "    }\n",
       "\n",
       "    .dataframe thead th {\n",
       "        text-align: right;\n",
       "    }\n",
       "</style>\n",
       "<table border=\"1\" class=\"dataframe\">\n",
       "  <thead>\n",
       "    <tr style=\"text-align: right;\">\n",
       "      <th></th>\n",
       "      <th>author_id</th>\n",
       "      <th>author</th>\n",
       "      <th>average_rating</th>\n",
       "    </tr>\n",
       "  </thead>\n",
       "  <tbody>\n",
       "    <tr>\n",
       "      <th>0</th>\n",
       "      <td>236</td>\n",
       "      <td>J.K. Rowling/Mary GrandPré</td>\n",
       "      <td>4.287097</td>\n",
       "    </tr>\n",
       "  </tbody>\n",
       "</table>\n",
       "</div>"
      ],
      "text/plain": [
       "   author_id                      author  average_rating\n",
       "0        236  J.K. Rowling/Mary GrandPré        4.287097"
      ]
     },
     "metadata": {},
     "output_type": "display_data"
    },
    {
     "name": "stdout",
     "output_type": "stream",
     "text": [
      "\n",
      "Автор с наибольшим рейтингом -  J.K. Rowling/Mary GrandPré\n"
     ]
    }
   ],
   "source": [
    "query = \"\"\"SELECT a.author_id, a.author, AVG(r.rating) AS average_rating\n",
    "    FROM authors AS a\n",
    "    JOIN books AS b ON a.author_id = b.author_id\n",
    "    JOIN ratings AS r ON b.book_id = r.book_id\n",
    "    WHERE b.book_id IN (\n",
    "        SELECT book_id\n",
    "        FROM ratings\n",
    "        GROUP BY book_id\n",
    "        HAVING COUNT(*) >= 50\n",
    "        )\n",
    "    GROUP BY a.author_id, a.author\n",
    "    ORDER BY average_rating DESC\n",
    "    LIMIT 1;\n",
    "    \"\"\"\n",
    "result = pd.io.sql.read_sql(sql=query, con=engine)\n",
    "display(result)\n",
    "print()\n",
    "print('Автор с наибольшим рейтингом - ', result.iloc[0, 1])"
   ]
  },
  {
   "cell_type": "markdown",
   "metadata": {},
   "source": [
    "<div class=\"alert alert-success\" style=\"border-radius: 15px; box-shadow: 4px 4px 4px; border: 1px solid \" > <b>Комментарии от ревьюера ✔️ : </b>\n",
    "\n",
    "И здесь ты не ошибся. Ты верно отфильтровал книги и рассчитал средний рейтинг авторов\n",
    "\n",
    "</div>"
   ]
  },
  {
   "cell_type": "code",
   "execution_count": 28,
   "metadata": {},
   "outputs": [
    {
     "data": {
      "text/html": [
       "<div>\n",
       "<style scoped>\n",
       "    .dataframe tbody tr th:only-of-type {\n",
       "        vertical-align: middle;\n",
       "    }\n",
       "\n",
       "    .dataframe tbody tr th {\n",
       "        vertical-align: top;\n",
       "    }\n",
       "\n",
       "    .dataframe thead th {\n",
       "        text-align: right;\n",
       "    }\n",
       "</style>\n",
       "<table border=\"1\" class=\"dataframe\">\n",
       "  <thead>\n",
       "    <tr style=\"text-align: right;\">\n",
       "      <th></th>\n",
       "      <th>average_reviews</th>\n",
       "    </tr>\n",
       "  </thead>\n",
       "  <tbody>\n",
       "    <tr>\n",
       "      <th>0</th>\n",
       "      <td>24.0</td>\n",
       "    </tr>\n",
       "  </tbody>\n",
       "</table>\n",
       "</div>"
      ],
      "text/plain": [
       "   average_reviews\n",
       "0             24.0"
      ]
     },
     "metadata": {},
     "output_type": "display_data"
    },
    {
     "name": "stdout",
     "output_type": "stream",
     "text": [
      "\n",
      "Cреднее количество обзоров от пользователей, которые поставили больше 48 оценок -  24.0\n"
     ]
    }
   ],
   "source": [
    "query = \"\"\"SELECT AVG(num_reviews) AS average_reviews\n",
    "    FROM (\n",
    "        SELECT username, COUNT(*) AS num_reviews\n",
    "        FROM reviews\n",
    "            WHERE username IN (\n",
    "                SELECT username\n",
    "                FROM ratings\n",
    "                GROUP BY username\n",
    "                HAVING COUNT(*) > 48\n",
    "                )\n",
    "        GROUP BY username\n",
    "        ) AS subquery;\n",
    "    \"\"\"\n",
    "result = pd.io.sql.read_sql(sql=query, con=engine)\n",
    "display(result)\n",
    "print()\n",
    "print('Cреднее количество обзоров от пользователей, которые поставили больше 48 оценок - ', result.iloc[0, 0])"
   ]
  },
  {
   "cell_type": "markdown",
   "metadata": {},
   "source": [
    "<div class=\"alert alert-success\" style=\"border-radius: 15px; box-shadow: 4px 4px 4px; border: 1px solid \" > <b>Комментарии от ревьюера ✔️ : </b>\n",
    "\n",
    "И это .. правильный ответ! Ты корректно отобрал пользователей и рассчитал их показатели.\n",
    "\n",
    "В итоге, 5\\5 с первой попытки - это сильный результат)\n",
    "\n",
    "</div>"
   ]
  },
  {
   "cell_type": "markdown",
   "metadata": {},
   "source": [
    "### Выводы\n",
    "1. В сервисе присутствует 819 книг, вышедших с 2000 года. Учитывая, что в самой базе находится всего 1000 книг, можно сказать, что больше 80% относятся к современной литературе. \n",
    "2. В среднем на книгу приходится от двух до четырех полноценных обзоров, что является отличным результатом. Значительная часть Кинг имеет рейтинг от 4 и до 5.\n",
    "3. Издательство с наибольшем количеством изданий -  Penguin Books\n",
    "4. Автор с наибольшим рейтингом -  J.K. Rowling/Mary GrandPré\n",
    "5. Среднее количество обзоров от пользователей, которые поставили больше 48 оценок -  24.0\n"
   ]
  },
  {
   "cell_type": "markdown",
   "metadata": {},
   "source": [
    "## Итог исследования\n",
    "Можно разделить итог на 2 составляющие - книги и пользователи.\n",
    "\n",
    "Относительно книг, отмечу, что для подобного сервиса их крайне мало и кампании требуется срочно найти доступ к большему количеству литературы. Значительная часть книг имеет хорошие рейтинги пользователей, но количество обзоров на книгу не очень большое.\n",
    "\n",
    "Пользователи достаточно активны, они часто ставят оценку книгам, но пишут мало обзоров. \n",
    "\n",
    "Как итог для развития сервиса в первую очередь необходимо увеличить количество книг и мотивировать пользователей оставлять больше ОС по книгам. \n",
    "\n",
    "Как вариант, можно рассмотреть переформатирование площадки для возможности пользователям самим выкладывать свои собственные произведения и продавать их, а сервис будет получать комиссию.\n"
   ]
  }
 ],
 "metadata": {
  "ExecuteTimeLog": [
   {
    "duration": 540,
    "start_time": "2023-07-24T09:57:10.928Z"
   },
   {
    "duration": 8423,
    "start_time": "2023-07-24T09:58:02.740Z"
   },
   {
    "duration": 4,
    "start_time": "2023-07-24T10:00:40.393Z"
   },
   {
    "duration": 68,
    "start_time": "2023-07-24T10:00:46.052Z"
   },
   {
    "duration": 120,
    "start_time": "2023-07-24T10:03:39.737Z"
   },
   {
    "duration": 3,
    "start_time": "2023-07-24T10:03:41.934Z"
   },
   {
    "duration": 85,
    "start_time": "2023-07-24T10:03:42.298Z"
   },
   {
    "duration": 27,
    "start_time": "2023-07-24T10:03:49.960Z"
   },
   {
    "duration": 4,
    "start_time": "2023-07-24T10:06:47.198Z"
   },
   {
    "duration": 4,
    "start_time": "2023-07-24T10:07:54.487Z"
   },
   {
    "duration": 21,
    "start_time": "2023-07-24T10:08:10.278Z"
   },
   {
    "duration": 22,
    "start_time": "2023-07-24T10:08:36.244Z"
   },
   {
    "duration": 19,
    "start_time": "2023-07-24T10:10:59.695Z"
   },
   {
    "duration": 6,
    "start_time": "2023-07-24T10:11:54.804Z"
   },
   {
    "duration": 5,
    "start_time": "2023-07-24T10:11:56.193Z"
   },
   {
    "duration": 87,
    "start_time": "2023-07-24T10:11:57.326Z"
   },
   {
    "duration": 5,
    "start_time": "2023-07-24T10:12:45.638Z"
   },
   {
    "duration": 19,
    "start_time": "2023-07-24T10:12:51.940Z"
   },
   {
    "duration": 5,
    "start_time": "2023-07-24T10:13:09.891Z"
   },
   {
    "duration": 21,
    "start_time": "2023-07-24T10:13:10.345Z"
   },
   {
    "duration": 18,
    "start_time": "2023-07-24T10:13:10.928Z"
   },
   {
    "duration": 22,
    "start_time": "2023-07-24T10:15:06.454Z"
   },
   {
    "duration": 21,
    "start_time": "2023-07-24T10:15:23.798Z"
   },
   {
    "duration": 62,
    "start_time": "2023-07-24T10:15:41.351Z"
   },
   {
    "duration": 20,
    "start_time": "2023-07-24T10:16:01.066Z"
   },
   {
    "duration": 67,
    "start_time": "2023-07-24T10:16:14.771Z"
   },
   {
    "duration": 21,
    "start_time": "2023-07-24T10:16:27.508Z"
   },
   {
    "duration": 22,
    "start_time": "2023-07-24T10:17:23.537Z"
   },
   {
    "duration": 5,
    "start_time": "2023-07-24T10:19:51.834Z"
   },
   {
    "duration": 7,
    "start_time": "2023-07-24T10:19:52.400Z"
   },
   {
    "duration": 4,
    "start_time": "2023-07-24T10:20:10.353Z"
   },
   {
    "duration": 27,
    "start_time": "2023-07-24T10:20:10.748Z"
   },
   {
    "duration": 4,
    "start_time": "2023-07-24T10:20:31.308Z"
   },
   {
    "duration": 24,
    "start_time": "2023-07-24T10:20:31.748Z"
   },
   {
    "duration": 31,
    "start_time": "2023-07-24T10:20:38.499Z"
   },
   {
    "duration": 28,
    "start_time": "2023-07-24T10:20:43.032Z"
   },
   {
    "duration": 8,
    "start_time": "2023-07-24T10:20:48.017Z"
   },
   {
    "duration": 20,
    "start_time": "2023-07-24T10:20:52.542Z"
   },
   {
    "duration": 9,
    "start_time": "2023-07-24T10:20:55.968Z"
   },
   {
    "duration": 20,
    "start_time": "2023-07-24T10:20:59.348Z"
   },
   {
    "duration": 35,
    "start_time": "2023-07-24T10:21:03.527Z"
   },
   {
    "duration": 8,
    "start_time": "2023-07-24T10:21:14.417Z"
   },
   {
    "duration": 31,
    "start_time": "2023-07-24T10:21:20.016Z"
   },
   {
    "duration": 89,
    "start_time": "2023-07-24T10:29:33.711Z"
   },
   {
    "duration": 10,
    "start_time": "2023-07-24T10:29:57.330Z"
   },
   {
    "duration": 9,
    "start_time": "2023-07-24T10:31:18.131Z"
   },
   {
    "duration": 6,
    "start_time": "2023-07-24T10:31:27.821Z"
   },
   {
    "duration": 12,
    "start_time": "2023-07-24T10:31:44.309Z"
   },
   {
    "duration": 10,
    "start_time": "2023-07-24T10:32:29.831Z"
   },
   {
    "duration": 29,
    "start_time": "2023-07-24T10:34:39.104Z"
   },
   {
    "duration": 29,
    "start_time": "2023-07-24T10:35:20.506Z"
   },
   {
    "duration": 132,
    "start_time": "2023-07-24T10:37:08.054Z"
   },
   {
    "duration": 31,
    "start_time": "2023-07-24T10:37:36.419Z"
   },
   {
    "duration": 479,
    "start_time": "2023-07-24T10:42:33.423Z"
   },
   {
    "duration": 5,
    "start_time": "2023-07-24T10:42:51.160Z"
   },
   {
    "duration": 120,
    "start_time": "2023-07-24T10:42:57.591Z"
   },
   {
    "duration": 8,
    "start_time": "2023-07-24T10:43:04.348Z"
   },
   {
    "duration": 144,
    "start_time": "2023-07-24T10:43:53.799Z"
   },
   {
    "duration": 147,
    "start_time": "2023-07-24T10:44:49.651Z"
   },
   {
    "duration": 144,
    "start_time": "2023-07-24T10:46:12.461Z"
   },
   {
    "duration": 18,
    "start_time": "2023-07-24T10:46:28.796Z"
   },
   {
    "duration": 327,
    "start_time": "2023-07-24T10:46:44.996Z"
   },
   {
    "duration": 14,
    "start_time": "2023-07-24T10:47:22.835Z"
   },
   {
    "duration": 1259,
    "start_time": "2023-07-24T10:47:54.440Z"
   },
   {
    "duration": 36,
    "start_time": "2023-07-24T10:49:47.056Z"
   },
   {
    "duration": 147,
    "start_time": "2023-07-24T10:49:47.453Z"
   },
   {
    "duration": 431,
    "start_time": "2023-07-24T10:49:48.445Z"
   },
   {
    "duration": 13,
    "start_time": "2023-07-24T10:51:55.428Z"
   },
   {
    "duration": 117,
    "start_time": "2023-07-24T10:52:21.742Z"
   },
   {
    "duration": 124,
    "start_time": "2023-07-24T10:52:59.448Z"
   },
   {
    "duration": 14,
    "start_time": "2023-07-24T10:54:10.668Z"
   },
   {
    "duration": 15,
    "start_time": "2023-07-24T10:55:07.729Z"
   },
   {
    "duration": 1085,
    "start_time": "2023-07-24T10:56:05.836Z"
   },
   {
    "duration": 31,
    "start_time": "2023-07-24T10:56:16.708Z"
   },
   {
    "duration": 233,
    "start_time": "2023-07-24T10:56:16.808Z"
   },
   {
    "duration": 163,
    "start_time": "2023-07-24T10:56:23.055Z"
   },
   {
    "duration": 18,
    "start_time": "2023-07-24T11:00:09.703Z"
   },
   {
    "duration": 22,
    "start_time": "2023-07-24T11:01:54.663Z"
   },
   {
    "duration": 17,
    "start_time": "2023-07-24T11:02:28.421Z"
   },
   {
    "duration": 14,
    "start_time": "2023-07-24T11:03:11.511Z"
   },
   {
    "duration": 16,
    "start_time": "2023-07-24T11:03:55.969Z"
   },
   {
    "duration": 735,
    "start_time": "2023-07-24T11:19:51.071Z"
   },
   {
    "duration": 10758,
    "start_time": "2023-07-24T11:19:51.808Z"
   },
   {
    "duration": 7,
    "start_time": "2023-07-24T11:20:02.569Z"
   },
   {
    "duration": 204,
    "start_time": "2023-07-24T11:20:02.578Z"
   },
   {
    "duration": 33,
    "start_time": "2023-07-24T11:20:02.784Z"
   },
   {
    "duration": 140,
    "start_time": "2023-07-24T11:20:02.819Z"
   },
   {
    "duration": 99,
    "start_time": "2023-07-24T11:20:02.961Z"
   },
   {
    "duration": 160,
    "start_time": "2023-07-24T11:20:03.062Z"
   },
   {
    "duration": 43,
    "start_time": "2023-07-24T11:20:03.224Z"
   },
   {
    "duration": 14,
    "start_time": "2023-07-24T11:20:03.270Z"
   },
   {
    "duration": 44,
    "start_time": "2023-07-24T11:20:03.286Z"
   },
   {
    "duration": 175,
    "start_time": "2023-07-24T11:20:03.333Z"
   },
   {
    "duration": 329,
    "start_time": "2023-07-24T11:20:03.509Z"
   },
   {
    "duration": 21,
    "start_time": "2023-07-24T11:20:03.840Z"
   },
   {
    "duration": 22,
    "start_time": "2023-07-24T11:20:03.863Z"
   },
   {
    "duration": 19,
    "start_time": "2023-07-24T11:20:03.888Z"
   },
   {
    "duration": 859,
    "start_time": "2023-07-24T13:37:37.789Z"
   },
   {
    "duration": 12554,
    "start_time": "2023-07-24T13:37:38.650Z"
   },
   {
    "duration": 4,
    "start_time": "2023-07-24T13:37:51.205Z"
   },
   {
    "duration": 139,
    "start_time": "2023-07-24T13:37:51.211Z"
   },
   {
    "duration": 21,
    "start_time": "2023-07-24T13:37:51.353Z"
   },
   {
    "duration": 25,
    "start_time": "2023-07-24T13:37:51.376Z"
   },
   {
    "duration": 18,
    "start_time": "2023-07-24T13:37:51.403Z"
   },
   {
    "duration": 106,
    "start_time": "2023-07-24T13:37:51.422Z"
   },
   {
    "duration": 30,
    "start_time": "2023-07-24T13:37:51.529Z"
   },
   {
    "duration": 11,
    "start_time": "2023-07-24T13:37:51.561Z"
   },
   {
    "duration": 43,
    "start_time": "2023-07-24T13:37:51.574Z"
   },
   {
    "duration": 141,
    "start_time": "2023-07-24T13:37:51.618Z"
   },
   {
    "duration": 301,
    "start_time": "2023-07-24T13:37:51.761Z"
   },
   {
    "duration": 15,
    "start_time": "2023-07-24T13:37:52.064Z"
   },
   {
    "duration": 20,
    "start_time": "2023-07-24T13:37:52.081Z"
   },
   {
    "duration": 14,
    "start_time": "2023-07-24T13:37:52.102Z"
   },
   {
    "duration": 202,
    "start_time": "2023-07-24T13:40:35.396Z"
   },
   {
    "duration": 19,
    "start_time": "2023-07-24T13:40:38.265Z"
   },
   {
    "duration": 19,
    "start_time": "2023-07-24T13:40:41.000Z"
   },
   {
    "duration": 775,
    "start_time": "2023-08-01T20:04:30.308Z"
   },
   {
    "duration": 9408,
    "start_time": "2023-08-01T20:04:31.093Z"
   },
   {
    "duration": 4,
    "start_time": "2023-08-01T20:04:40.503Z"
   },
   {
    "duration": 130,
    "start_time": "2023-08-01T20:04:40.509Z"
   },
   {
    "duration": 30,
    "start_time": "2023-08-01T20:04:40.641Z"
   },
   {
    "duration": 35,
    "start_time": "2023-08-01T20:04:40.681Z"
   },
   {
    "duration": 17,
    "start_time": "2023-08-01T20:04:40.717Z"
   },
   {
    "duration": 108,
    "start_time": "2023-08-01T20:04:40.736Z"
   },
   {
    "duration": 68,
    "start_time": "2023-08-01T20:04:40.846Z"
   },
   {
    "duration": 12,
    "start_time": "2023-08-01T20:04:40.915Z"
   },
   {
    "duration": 3,
    "start_time": "2023-08-01T20:05:45.143Z"
   },
   {
    "duration": 5,
    "start_time": "2023-08-01T20:05:45.342Z"
   },
   {
    "duration": 4,
    "start_time": "2023-08-01T20:05:45.743Z"
   },
   {
    "duration": 57,
    "start_time": "2023-08-01T20:05:46.480Z"
   },
   {
    "duration": 18,
    "start_time": "2023-08-01T20:05:47.019Z"
   },
   {
    "duration": 32,
    "start_time": "2023-08-01T20:05:56.949Z"
   },
   {
    "duration": 23,
    "start_time": "2023-08-01T20:05:57.417Z"
   },
   {
    "duration": 38,
    "start_time": "2023-08-01T20:05:57.899Z"
   },
   {
    "duration": 38,
    "start_time": "2023-08-01T20:05:58.504Z"
   },
   {
    "duration": 13,
    "start_time": "2023-08-01T20:06:08.398Z"
   },
   {
    "duration": 31,
    "start_time": "2023-08-01T20:06:11.889Z"
   },
   {
    "duration": 191,
    "start_time": "2023-08-01T20:06:13.144Z"
   },
   {
    "duration": 153,
    "start_time": "2023-08-01T20:06:18.298Z"
   },
   {
    "duration": 406,
    "start_time": "2023-08-01T20:06:18.720Z"
   },
   {
    "duration": 15,
    "start_time": "2023-08-01T20:06:22.696Z"
   },
   {
    "duration": 14,
    "start_time": "2023-08-01T20:06:25.016Z"
   },
   {
    "duration": 27,
    "start_time": "2023-08-01T20:06:30.794Z"
   },
   {
    "duration": 53,
    "start_time": "2023-08-01T20:06:31.855Z"
   }
  ],
  "kernelspec": {
   "display_name": "Python 3 (ipykernel)",
   "language": "python",
   "name": "python3"
  },
  "language_info": {
   "codemirror_mode": {
    "name": "ipython",
    "version": 3
   },
   "file_extension": ".py",
   "mimetype": "text/x-python",
   "name": "python",
   "nbconvert_exporter": "python",
   "pygments_lexer": "ipython3",
   "version": "3.9.5"
  },
  "toc": {
   "base_numbering": 1,
   "nav_menu": {},
   "number_sections": true,
   "sideBar": true,
   "skip_h1_title": true,
   "title_cell": "Table of Contents",
   "title_sidebar": "Contents",
   "toc_cell": false,
   "toc_position": {},
   "toc_section_display": true,
   "toc_window_display": false
  }
 },
 "nbformat": 4,
 "nbformat_minor": 2
}
