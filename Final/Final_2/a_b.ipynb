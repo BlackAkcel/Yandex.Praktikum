{
 "cells": [
  {
   "cell_type": "markdown",
   "id": "c9c2f1ec",
   "metadata": {},
   "source": [
    "# Проект по А/B-тестированию\n",
    "\n",
    "## Описание проекта\n",
    "Я являюсь аналитиком данных, моя задача провести оценку результатов A/B-теста согласно ТЗ.\n",
    "\n",
    "Название теста: `recommender_system_test`\n",
    "Группы: А (контрольная), B (новая платёжная воронка);\n",
    "\n",
    "Дата запуска: 2020-12-07;\n",
    "\n",
    "Дата остановки набора новых пользователей: 2020-12-21;\n",
    "\n",
    "Дата остановки: 2021-01-04;\n",
    "\n",
    "Аудитория: 15% новых пользователей из региона EU;\n",
    "\n",
    "Назначение теста: тестирование изменений, связанных с внедрением улучшенной рекомендательной системы;\n",
    "\n",
    "Ожидаемое количество участников теста: 6000.\n",
    "\n",
    "Ожидаемый эффект: за 14 дней с момента регистрации в системе пользователи покажут улучшение каждой метрики не менее, чем на 10%:\n",
    "\n",
    "1. Конверсии в просмотр карточек товаров — событие product_page\n",
    "2. Просмотры корзины — product_cart\n",
    "3. Покупки — purchase.\n",
    "\n",
    "## Описание данных\n",
    "\n",
    "В моем распоряжение есть следующие датасеты: \n",
    "\n",
    "**`ab_project_marketing_events.csv`** - календарь маркетинговых событий на 2020 год. Состоит из:\n",
    "\n",
    "1. `name` — название маркетингового события;\n",
    "2. `regions` — регионы, в которых будет проводиться рекламная кампания;\n",
    "3. `start_dt` — дата начала кампании;\n",
    "4. `finish_dt` — дата завершения кампании.\n",
    "\n",
    "**`final_ab_new_users.csv`** - все пользователи, зарегистрировавшиеся в интернет-магазине в период с 7 по 21 декабря 2020 года. Состоит из:\n",
    "\n",
    "1. `user_id` — идентификатор пользователя;\n",
    "2. `first_date` — дата регистрации;\n",
    "3. `region` — регион пользователя;\n",
    "4. `device` — устройство, с которого происходила регистрация.\n",
    "\n",
    "**`final_ab_events.csv`** - все события новых пользователей в период с 7 декабря 2020 по 4 января 2021 года. Состоит из:\n",
    "1. `user_id` — идентификатор пользователя;\n",
    "2. `event_dt` — дата и время события;\n",
    "3. `event_name` — тип события;\n",
    "4. `details` — дополнительные данные о событии. Например, для покупок, purchase, в этом поле хранится стоимость покупки в долларах.\n",
    "\n",
    "**`final_ab_participants.csv`** - таблица участников тестов. Состоит из:\n",
    "\n",
    "1. `user_id` — идентификатор пользователя;\n",
    "2. `ab_test` — название теста;\n",
    "3. `group` — группа пользователя.\n",
    "\n",
    "## Цели исследования\n",
    "\n",
    "Оценить корректность проведения теста и проанализировать его результаты.\n",
    "\n",
    "Чтобы оценить корректность проведения теста:\n",
    "1. Удостоверюсь, что нет пересечений с конкурирующим тестом и нет пользователей, участвующих в двух группах теста одновременно;\n",
    "2. Проверю равномерность распределения пользователей по тестовым группам и правильность их формирования.\n",
    "\n",
    "  \n"
   ]
  },
  {
   "cell_type": "markdown",
   "id": "d06bcd49",
   "metadata": {},
   "source": [
    "## План работы\n",
    "1. Изучу предоставленные данные. Корректно ли в них типы данных, есть или нет пропусков и дубликатов, дам свою оценку по результатам.\n",
    "2. Оценю корректность проведения теста c помощью предоставленных данных:\n",
    "    - Соответствие данных требованиям технического задания. Проверю корректность всех пунктов технического задания.\n",
    "    - Время проведения теста. Проверю, что оно не совпадает с маркетинговыми и другими активностями.\n",
    "    - Аудиторию теста. Удостоверюсь, что нет пересечений с конкурирующим тестом и нет пользователей, участвующих в двух группах теста одновременно. Проверю равномерность распределения пользователей по тестовым группам и правильность их формирования.\n",
    "3. Проведу исследовательский анализ данных:\n",
    "    - Количество событий на пользователя одинаково распределены в выборках?\n",
    "    - Как число событий в выборках распределено по дням?\n",
    "    - Как меняется конверсия в воронке в выборках на разных этапах?\n",
    "    - Какие особенности данных нужно учесть, прежде чем приступать к A/B-тестированию?\n",
    "4. Проведу оценку результатов A/B-тестирования:\n",
    "    - Анализ результатов\n",
    "    - Проверка статистическую разницу долей z-критерием.\n",
    "5. Вывод по этапу исследовательского анализа данных и по проведённой оценке результатов A/B-тестирования. Сделаю общее заключение о корректности проведения теста.  "
   ]
  },
  {
   "cell_type": "markdown",
   "id": "09b7cc35",
   "metadata": {},
   "source": [
    "## Изучение данных"
   ]
  },
  {
   "cell_type": "code",
   "execution_count": 1,
   "id": "727c4777",
   "metadata": {},
   "outputs": [],
   "source": [
    "import pandas as pd\n",
    "import numpy as np\n",
    "import matplotlib.pyplot as plt\n",
    "import seaborn as sns\n",
    "from datetime import datetime, timedelta\n",
    "import math\n",
    "from scipy import stats as st\n",
    "import plotly.express as px\n",
    "from plotly import graph_objects as go\n",
    "from plotly.subplots import make_subplots"
   ]
  },
  {
   "cell_type": "code",
   "execution_count": 2,
   "id": "239fadae",
   "metadata": {},
   "outputs": [],
   "source": [
    "try:\n",
    "    marketing_events = pd.read_csv('https://code.s3.yandex.net/datasets/ab_project_marketing_events.csv')\n",
    "    events = pd.read_csv('https://code.s3.yandex.net/datasets/final_ab_events.csv')\n",
    "    new_users = pd.read_csv('https://code.s3.yandex.net/datasets/final_ab_new_users.csv')\n",
    "    participants = pd.read_csv('https://code.s3.yandex.net/datasets/final_ab_participants.csv')\n",
    "except:\n",
    "    marketing_events = pd.read_csv('ab_project_marketing_events.csv')\n",
    "    events = pd.read_csv('final_ab_events.csv')\n",
    "    new_users = pd.read_csv('final_ab_new_users.csv')\n",
    "    participants = pd.read_csv('final_ab_participants.csv')"
   ]
  },
  {
   "cell_type": "code",
   "execution_count": 3,
   "id": "b5377209",
   "metadata": {},
   "outputs": [
    {
     "data": {
      "text/html": [
       "<div>\n",
       "<style scoped>\n",
       "    .dataframe tbody tr th:only-of-type {\n",
       "        vertical-align: middle;\n",
       "    }\n",
       "\n",
       "    .dataframe tbody tr th {\n",
       "        vertical-align: top;\n",
       "    }\n",
       "\n",
       "    .dataframe thead th {\n",
       "        text-align: right;\n",
       "    }\n",
       "</style>\n",
       "<table border=\"1\" class=\"dataframe\">\n",
       "  <thead>\n",
       "    <tr style=\"text-align: right;\">\n",
       "      <th></th>\n",
       "      <th>name</th>\n",
       "      <th>regions</th>\n",
       "      <th>start_dt</th>\n",
       "      <th>finish_dt</th>\n",
       "    </tr>\n",
       "  </thead>\n",
       "  <tbody>\n",
       "    <tr>\n",
       "      <th>0</th>\n",
       "      <td>Christmas&amp;New Year Promo</td>\n",
       "      <td>EU, N.America</td>\n",
       "      <td>2020-12-25</td>\n",
       "      <td>2021-01-03</td>\n",
       "    </tr>\n",
       "    <tr>\n",
       "      <th>1</th>\n",
       "      <td>St. Valentine's Day Giveaway</td>\n",
       "      <td>EU, CIS, APAC, N.America</td>\n",
       "      <td>2020-02-14</td>\n",
       "      <td>2020-02-16</td>\n",
       "    </tr>\n",
       "    <tr>\n",
       "      <th>2</th>\n",
       "      <td>St. Patric's Day Promo</td>\n",
       "      <td>EU, N.America</td>\n",
       "      <td>2020-03-17</td>\n",
       "      <td>2020-03-19</td>\n",
       "    </tr>\n",
       "    <tr>\n",
       "      <th>3</th>\n",
       "      <td>Easter Promo</td>\n",
       "      <td>EU, CIS, APAC, N.America</td>\n",
       "      <td>2020-04-12</td>\n",
       "      <td>2020-04-19</td>\n",
       "    </tr>\n",
       "    <tr>\n",
       "      <th>4</th>\n",
       "      <td>4th of July Promo</td>\n",
       "      <td>N.America</td>\n",
       "      <td>2020-07-04</td>\n",
       "      <td>2020-07-11</td>\n",
       "    </tr>\n",
       "    <tr>\n",
       "      <th>5</th>\n",
       "      <td>Black Friday Ads Campaign</td>\n",
       "      <td>EU, CIS, APAC, N.America</td>\n",
       "      <td>2020-11-26</td>\n",
       "      <td>2020-12-01</td>\n",
       "    </tr>\n",
       "    <tr>\n",
       "      <th>6</th>\n",
       "      <td>Chinese New Year Promo</td>\n",
       "      <td>APAC</td>\n",
       "      <td>2020-01-25</td>\n",
       "      <td>2020-02-07</td>\n",
       "    </tr>\n",
       "    <tr>\n",
       "      <th>7</th>\n",
       "      <td>Labor day (May 1st) Ads Campaign</td>\n",
       "      <td>EU, CIS, APAC</td>\n",
       "      <td>2020-05-01</td>\n",
       "      <td>2020-05-03</td>\n",
       "    </tr>\n",
       "    <tr>\n",
       "      <th>8</th>\n",
       "      <td>International Women's Day Promo</td>\n",
       "      <td>EU, CIS, APAC</td>\n",
       "      <td>2020-03-08</td>\n",
       "      <td>2020-03-10</td>\n",
       "    </tr>\n",
       "    <tr>\n",
       "      <th>9</th>\n",
       "      <td>Victory Day CIS (May 9th) Event</td>\n",
       "      <td>CIS</td>\n",
       "      <td>2020-05-09</td>\n",
       "      <td>2020-05-11</td>\n",
       "    </tr>\n",
       "    <tr>\n",
       "      <th>10</th>\n",
       "      <td>CIS New Year Gift Lottery</td>\n",
       "      <td>CIS</td>\n",
       "      <td>2020-12-30</td>\n",
       "      <td>2021-01-07</td>\n",
       "    </tr>\n",
       "    <tr>\n",
       "      <th>11</th>\n",
       "      <td>Dragon Boat Festival Giveaway</td>\n",
       "      <td>APAC</td>\n",
       "      <td>2020-06-25</td>\n",
       "      <td>2020-07-01</td>\n",
       "    </tr>\n",
       "    <tr>\n",
       "      <th>12</th>\n",
       "      <td>Single's Day Gift Promo</td>\n",
       "      <td>APAC</td>\n",
       "      <td>2020-11-11</td>\n",
       "      <td>2020-11-12</td>\n",
       "    </tr>\n",
       "    <tr>\n",
       "      <th>13</th>\n",
       "      <td>Chinese Moon Festival</td>\n",
       "      <td>APAC</td>\n",
       "      <td>2020-10-01</td>\n",
       "      <td>2020-10-07</td>\n",
       "    </tr>\n",
       "  </tbody>\n",
       "</table>\n",
       "</div>"
      ],
      "text/plain": [
       "                                name                   regions    start_dt  \\\n",
       "0           Christmas&New Year Promo             EU, N.America  2020-12-25   \n",
       "1       St. Valentine's Day Giveaway  EU, CIS, APAC, N.America  2020-02-14   \n",
       "2             St. Patric's Day Promo             EU, N.America  2020-03-17   \n",
       "3                       Easter Promo  EU, CIS, APAC, N.America  2020-04-12   \n",
       "4                  4th of July Promo                 N.America  2020-07-04   \n",
       "5          Black Friday Ads Campaign  EU, CIS, APAC, N.America  2020-11-26   \n",
       "6             Chinese New Year Promo                      APAC  2020-01-25   \n",
       "7   Labor day (May 1st) Ads Campaign             EU, CIS, APAC  2020-05-01   \n",
       "8    International Women's Day Promo             EU, CIS, APAC  2020-03-08   \n",
       "9    Victory Day CIS (May 9th) Event                       CIS  2020-05-09   \n",
       "10         CIS New Year Gift Lottery                       CIS  2020-12-30   \n",
       "11     Dragon Boat Festival Giveaway                      APAC  2020-06-25   \n",
       "12           Single's Day Gift Promo                      APAC  2020-11-11   \n",
       "13             Chinese Moon Festival                      APAC  2020-10-01   \n",
       "\n",
       "     finish_dt  \n",
       "0   2021-01-03  \n",
       "1   2020-02-16  \n",
       "2   2020-03-19  \n",
       "3   2020-04-19  \n",
       "4   2020-07-11  \n",
       "5   2020-12-01  \n",
       "6   2020-02-07  \n",
       "7   2020-05-03  \n",
       "8   2020-03-10  \n",
       "9   2020-05-11  \n",
       "10  2021-01-07  \n",
       "11  2020-07-01  \n",
       "12  2020-11-12  \n",
       "13  2020-10-07  "
      ]
     },
     "metadata": {},
     "output_type": "display_data"
    },
    {
     "name": "stdout",
     "output_type": "stream",
     "text": [
      "<class 'pandas.core.frame.DataFrame'>\n",
      "RangeIndex: 14 entries, 0 to 13\n",
      "Data columns (total 4 columns):\n",
      " #   Column     Non-Null Count  Dtype \n",
      "---  ------     --------------  ----- \n",
      " 0   name       14 non-null     object\n",
      " 1   regions    14 non-null     object\n",
      " 2   start_dt   14 non-null     object\n",
      " 3   finish_dt  14 non-null     object\n",
      "dtypes: object(4)\n",
      "memory usage: 580.0+ bytes\n",
      "Количество дубликатов в датасете: 0\n"
     ]
    }
   ],
   "source": [
    "display(marketing_events)\n",
    "marketing_events.info()\n",
    "print(\"Количество дубликатов в датасете:\", marketing_events.duplicated().sum() )"
   ]
  },
  {
   "cell_type": "markdown",
   "id": "b27a421c",
   "metadata": {},
   "source": [
    "Итак, предоставленные данные уже **некорректны** - столбцы с датами не в том формате. Исправлю."
   ]
  },
  {
   "cell_type": "code",
   "execution_count": 4,
   "id": "7a2d592b",
   "metadata": {},
   "outputs": [
    {
     "data": {
      "text/html": [
       "<div>\n",
       "<style scoped>\n",
       "    .dataframe tbody tr th:only-of-type {\n",
       "        vertical-align: middle;\n",
       "    }\n",
       "\n",
       "    .dataframe tbody tr th {\n",
       "        vertical-align: top;\n",
       "    }\n",
       "\n",
       "    .dataframe thead th {\n",
       "        text-align: right;\n",
       "    }\n",
       "</style>\n",
       "<table border=\"1\" class=\"dataframe\">\n",
       "  <thead>\n",
       "    <tr style=\"text-align: right;\">\n",
       "      <th></th>\n",
       "      <th>name</th>\n",
       "      <th>regions</th>\n",
       "      <th>start_dt</th>\n",
       "      <th>finish_dt</th>\n",
       "    </tr>\n",
       "  </thead>\n",
       "  <tbody>\n",
       "    <tr>\n",
       "      <th>0</th>\n",
       "      <td>Christmas&amp;New Year Promo</td>\n",
       "      <td>EU, N.America</td>\n",
       "      <td>2020-12-25</td>\n",
       "      <td>2021-01-03</td>\n",
       "    </tr>\n",
       "    <tr>\n",
       "      <th>1</th>\n",
       "      <td>St. Valentine's Day Giveaway</td>\n",
       "      <td>EU, CIS, APAC, N.America</td>\n",
       "      <td>2020-02-14</td>\n",
       "      <td>2020-02-16</td>\n",
       "    </tr>\n",
       "    <tr>\n",
       "      <th>2</th>\n",
       "      <td>St. Patric's Day Promo</td>\n",
       "      <td>EU, N.America</td>\n",
       "      <td>2020-03-17</td>\n",
       "      <td>2020-03-19</td>\n",
       "    </tr>\n",
       "    <tr>\n",
       "      <th>3</th>\n",
       "      <td>Easter Promo</td>\n",
       "      <td>EU, CIS, APAC, N.America</td>\n",
       "      <td>2020-04-12</td>\n",
       "      <td>2020-04-19</td>\n",
       "    </tr>\n",
       "    <tr>\n",
       "      <th>4</th>\n",
       "      <td>4th of July Promo</td>\n",
       "      <td>N.America</td>\n",
       "      <td>2020-07-04</td>\n",
       "      <td>2020-07-11</td>\n",
       "    </tr>\n",
       "    <tr>\n",
       "      <th>5</th>\n",
       "      <td>Black Friday Ads Campaign</td>\n",
       "      <td>EU, CIS, APAC, N.America</td>\n",
       "      <td>2020-11-26</td>\n",
       "      <td>2020-12-01</td>\n",
       "    </tr>\n",
       "    <tr>\n",
       "      <th>6</th>\n",
       "      <td>Chinese New Year Promo</td>\n",
       "      <td>APAC</td>\n",
       "      <td>2020-01-25</td>\n",
       "      <td>2020-02-07</td>\n",
       "    </tr>\n",
       "    <tr>\n",
       "      <th>7</th>\n",
       "      <td>Labor day (May 1st) Ads Campaign</td>\n",
       "      <td>EU, CIS, APAC</td>\n",
       "      <td>2020-05-01</td>\n",
       "      <td>2020-05-03</td>\n",
       "    </tr>\n",
       "    <tr>\n",
       "      <th>8</th>\n",
       "      <td>International Women's Day Promo</td>\n",
       "      <td>EU, CIS, APAC</td>\n",
       "      <td>2020-03-08</td>\n",
       "      <td>2020-03-10</td>\n",
       "    </tr>\n",
       "    <tr>\n",
       "      <th>9</th>\n",
       "      <td>Victory Day CIS (May 9th) Event</td>\n",
       "      <td>CIS</td>\n",
       "      <td>2020-05-09</td>\n",
       "      <td>2020-05-11</td>\n",
       "    </tr>\n",
       "    <tr>\n",
       "      <th>10</th>\n",
       "      <td>CIS New Year Gift Lottery</td>\n",
       "      <td>CIS</td>\n",
       "      <td>2020-12-30</td>\n",
       "      <td>2021-01-07</td>\n",
       "    </tr>\n",
       "    <tr>\n",
       "      <th>11</th>\n",
       "      <td>Dragon Boat Festival Giveaway</td>\n",
       "      <td>APAC</td>\n",
       "      <td>2020-06-25</td>\n",
       "      <td>2020-07-01</td>\n",
       "    </tr>\n",
       "    <tr>\n",
       "      <th>12</th>\n",
       "      <td>Single's Day Gift Promo</td>\n",
       "      <td>APAC</td>\n",
       "      <td>2020-11-11</td>\n",
       "      <td>2020-11-12</td>\n",
       "    </tr>\n",
       "    <tr>\n",
       "      <th>13</th>\n",
       "      <td>Chinese Moon Festival</td>\n",
       "      <td>APAC</td>\n",
       "      <td>2020-10-01</td>\n",
       "      <td>2020-10-07</td>\n",
       "    </tr>\n",
       "  </tbody>\n",
       "</table>\n",
       "</div>"
      ],
      "text/plain": [
       "                                name                   regions   start_dt  \\\n",
       "0           Christmas&New Year Promo             EU, N.America 2020-12-25   \n",
       "1       St. Valentine's Day Giveaway  EU, CIS, APAC, N.America 2020-02-14   \n",
       "2             St. Patric's Day Promo             EU, N.America 2020-03-17   \n",
       "3                       Easter Promo  EU, CIS, APAC, N.America 2020-04-12   \n",
       "4                  4th of July Promo                 N.America 2020-07-04   \n",
       "5          Black Friday Ads Campaign  EU, CIS, APAC, N.America 2020-11-26   \n",
       "6             Chinese New Year Promo                      APAC 2020-01-25   \n",
       "7   Labor day (May 1st) Ads Campaign             EU, CIS, APAC 2020-05-01   \n",
       "8    International Women's Day Promo             EU, CIS, APAC 2020-03-08   \n",
       "9    Victory Day CIS (May 9th) Event                       CIS 2020-05-09   \n",
       "10         CIS New Year Gift Lottery                       CIS 2020-12-30   \n",
       "11     Dragon Boat Festival Giveaway                      APAC 2020-06-25   \n",
       "12           Single's Day Gift Promo                      APAC 2020-11-11   \n",
       "13             Chinese Moon Festival                      APAC 2020-10-01   \n",
       "\n",
       "    finish_dt  \n",
       "0  2021-01-03  \n",
       "1  2020-02-16  \n",
       "2  2020-03-19  \n",
       "3  2020-04-19  \n",
       "4  2020-07-11  \n",
       "5  2020-12-01  \n",
       "6  2020-02-07  \n",
       "7  2020-05-03  \n",
       "8  2020-03-10  \n",
       "9  2020-05-11  \n",
       "10 2021-01-07  \n",
       "11 2020-07-01  \n",
       "12 2020-11-12  \n",
       "13 2020-10-07  "
      ]
     },
     "metadata": {},
     "output_type": "display_data"
    },
    {
     "name": "stdout",
     "output_type": "stream",
     "text": [
      "<class 'pandas.core.frame.DataFrame'>\n",
      "RangeIndex: 14 entries, 0 to 13\n",
      "Data columns (total 4 columns):\n",
      " #   Column     Non-Null Count  Dtype         \n",
      "---  ------     --------------  -----         \n",
      " 0   name       14 non-null     object        \n",
      " 1   regions    14 non-null     object        \n",
      " 2   start_dt   14 non-null     datetime64[ns]\n",
      " 3   finish_dt  14 non-null     datetime64[ns]\n",
      "dtypes: datetime64[ns](2), object(2)\n",
      "memory usage: 580.0+ bytes\n"
     ]
    }
   ],
   "source": [
    "marketing_events['start_dt'] = pd.to_datetime(marketing_events['start_dt'])\n",
    "marketing_events['finish_dt'] =pd.to_datetime(marketing_events['finish_dt'])\n",
    "display(marketing_events)\n",
    "marketing_events.info()"
   ]
  },
  {
   "cell_type": "code",
   "execution_count": 5,
   "id": "84b7a5ae",
   "metadata": {},
   "outputs": [
    {
     "data": {
      "text/html": [
       "<div>\n",
       "<style scoped>\n",
       "    .dataframe tbody tr th:only-of-type {\n",
       "        vertical-align: middle;\n",
       "    }\n",
       "\n",
       "    .dataframe tbody tr th {\n",
       "        vertical-align: top;\n",
       "    }\n",
       "\n",
       "    .dataframe thead th {\n",
       "        text-align: right;\n",
       "    }\n",
       "</style>\n",
       "<table border=\"1\" class=\"dataframe\">\n",
       "  <thead>\n",
       "    <tr style=\"text-align: right;\">\n",
       "      <th></th>\n",
       "      <th>user_id</th>\n",
       "      <th>event_dt</th>\n",
       "      <th>event_name</th>\n",
       "      <th>details</th>\n",
       "    </tr>\n",
       "  </thead>\n",
       "  <tbody>\n",
       "    <tr>\n",
       "      <th>0</th>\n",
       "      <td>E1BDDCE0DAFA2679</td>\n",
       "      <td>2020-12-07 20:22:03</td>\n",
       "      <td>purchase</td>\n",
       "      <td>99.99</td>\n",
       "    </tr>\n",
       "    <tr>\n",
       "      <th>1</th>\n",
       "      <td>7B6452F081F49504</td>\n",
       "      <td>2020-12-07 09:22:53</td>\n",
       "      <td>purchase</td>\n",
       "      <td>9.99</td>\n",
       "    </tr>\n",
       "    <tr>\n",
       "      <th>2</th>\n",
       "      <td>9CD9F34546DF254C</td>\n",
       "      <td>2020-12-07 12:59:29</td>\n",
       "      <td>purchase</td>\n",
       "      <td>4.99</td>\n",
       "    </tr>\n",
       "    <tr>\n",
       "      <th>3</th>\n",
       "      <td>96F27A054B191457</td>\n",
       "      <td>2020-12-07 04:02:40</td>\n",
       "      <td>purchase</td>\n",
       "      <td>4.99</td>\n",
       "    </tr>\n",
       "    <tr>\n",
       "      <th>4</th>\n",
       "      <td>1FD7660FDF94CA1F</td>\n",
       "      <td>2020-12-07 10:15:09</td>\n",
       "      <td>purchase</td>\n",
       "      <td>4.99</td>\n",
       "    </tr>\n",
       "    <tr>\n",
       "      <th>...</th>\n",
       "      <td>...</td>\n",
       "      <td>...</td>\n",
       "      <td>...</td>\n",
       "      <td>...</td>\n",
       "    </tr>\n",
       "    <tr>\n",
       "      <th>440312</th>\n",
       "      <td>245E85F65C358E08</td>\n",
       "      <td>2020-12-30 19:35:55</td>\n",
       "      <td>login</td>\n",
       "      <td>NaN</td>\n",
       "    </tr>\n",
       "    <tr>\n",
       "      <th>440313</th>\n",
       "      <td>9385A108F5A0A7A7</td>\n",
       "      <td>2020-12-30 10:54:15</td>\n",
       "      <td>login</td>\n",
       "      <td>NaN</td>\n",
       "    </tr>\n",
       "    <tr>\n",
       "      <th>440314</th>\n",
       "      <td>DB650B7559AC6EAC</td>\n",
       "      <td>2020-12-30 10:59:09</td>\n",
       "      <td>login</td>\n",
       "      <td>NaN</td>\n",
       "    </tr>\n",
       "    <tr>\n",
       "      <th>440315</th>\n",
       "      <td>F80C9BDDEA02E53C</td>\n",
       "      <td>2020-12-30 09:53:39</td>\n",
       "      <td>login</td>\n",
       "      <td>NaN</td>\n",
       "    </tr>\n",
       "    <tr>\n",
       "      <th>440316</th>\n",
       "      <td>7AEC61159B672CC5</td>\n",
       "      <td>2020-12-30 11:36:13</td>\n",
       "      <td>login</td>\n",
       "      <td>NaN</td>\n",
       "    </tr>\n",
       "  </tbody>\n",
       "</table>\n",
       "<p>440317 rows × 4 columns</p>\n",
       "</div>"
      ],
      "text/plain": [
       "                 user_id             event_dt event_name  details\n",
       "0       E1BDDCE0DAFA2679  2020-12-07 20:22:03   purchase    99.99\n",
       "1       7B6452F081F49504  2020-12-07 09:22:53   purchase     9.99\n",
       "2       9CD9F34546DF254C  2020-12-07 12:59:29   purchase     4.99\n",
       "3       96F27A054B191457  2020-12-07 04:02:40   purchase     4.99\n",
       "4       1FD7660FDF94CA1F  2020-12-07 10:15:09   purchase     4.99\n",
       "...                  ...                  ...        ...      ...\n",
       "440312  245E85F65C358E08  2020-12-30 19:35:55      login      NaN\n",
       "440313  9385A108F5A0A7A7  2020-12-30 10:54:15      login      NaN\n",
       "440314  DB650B7559AC6EAC  2020-12-30 10:59:09      login      NaN\n",
       "440315  F80C9BDDEA02E53C  2020-12-30 09:53:39      login      NaN\n",
       "440316  7AEC61159B672CC5  2020-12-30 11:36:13      login      NaN\n",
       "\n",
       "[440317 rows x 4 columns]"
      ]
     },
     "metadata": {},
     "output_type": "display_data"
    },
    {
     "name": "stdout",
     "output_type": "stream",
     "text": [
      "<class 'pandas.core.frame.DataFrame'>\n",
      "RangeIndex: 440317 entries, 0 to 440316\n",
      "Data columns (total 4 columns):\n",
      " #   Column      Non-Null Count   Dtype  \n",
      "---  ------      --------------   -----  \n",
      " 0   user_id     440317 non-null  object \n",
      " 1   event_dt    440317 non-null  object \n",
      " 2   event_name  440317 non-null  object \n",
      " 3   details     62740 non-null   float64\n",
      "dtypes: float64(1), object(3)\n",
      "memory usage: 13.4+ MB\n",
      "Количество дубликатов в датасете: 0\n"
     ]
    }
   ],
   "source": [
    "display(events)\n",
    "events.info()\n",
    "print(\"Количество дубликатов в датасете:\", events.duplicated().sum() )"
   ]
  },
  {
   "cell_type": "markdown",
   "id": "af410a8a",
   "metadata": {},
   "source": [
    "Два момента - `event_dt` не в том формате, в `details` есть пропуски."
   ]
  },
  {
   "cell_type": "code",
   "execution_count": 6,
   "id": "f8a9e338",
   "metadata": {},
   "outputs": [
    {
     "data": {
      "text/html": [
       "<div>\n",
       "<style scoped>\n",
       "    .dataframe tbody tr th:only-of-type {\n",
       "        vertical-align: middle;\n",
       "    }\n",
       "\n",
       "    .dataframe tbody tr th {\n",
       "        vertical-align: top;\n",
       "    }\n",
       "\n",
       "    .dataframe thead th {\n",
       "        text-align: right;\n",
       "    }\n",
       "</style>\n",
       "<table border=\"1\" class=\"dataframe\">\n",
       "  <thead>\n",
       "    <tr style=\"text-align: right;\">\n",
       "      <th></th>\n",
       "      <th>user_id</th>\n",
       "      <th>event_dt</th>\n",
       "      <th>event_name</th>\n",
       "      <th>details</th>\n",
       "    </tr>\n",
       "  </thead>\n",
       "  <tbody>\n",
       "    <tr>\n",
       "      <th>62740</th>\n",
       "      <td>2E1BF1D4C37EA01F</td>\n",
       "      <td>2020-12-07 09:05:47</td>\n",
       "      <td>product_cart</td>\n",
       "      <td>NaN</td>\n",
       "    </tr>\n",
       "    <tr>\n",
       "      <th>62741</th>\n",
       "      <td>50734A22C0C63768</td>\n",
       "      <td>2020-12-07 13:24:03</td>\n",
       "      <td>product_cart</td>\n",
       "      <td>NaN</td>\n",
       "    </tr>\n",
       "    <tr>\n",
       "      <th>62742</th>\n",
       "      <td>5EB159DA9DC94DBA</td>\n",
       "      <td>2020-12-07 22:54:02</td>\n",
       "      <td>product_cart</td>\n",
       "      <td>NaN</td>\n",
       "    </tr>\n",
       "    <tr>\n",
       "      <th>62743</th>\n",
       "      <td>084A22B980BA8169</td>\n",
       "      <td>2020-12-07 15:25:55</td>\n",
       "      <td>product_cart</td>\n",
       "      <td>NaN</td>\n",
       "    </tr>\n",
       "    <tr>\n",
       "      <th>62744</th>\n",
       "      <td>0FC21E6F8FAA8DEC</td>\n",
       "      <td>2020-12-07 06:56:27</td>\n",
       "      <td>product_cart</td>\n",
       "      <td>NaN</td>\n",
       "    </tr>\n",
       "    <tr>\n",
       "      <th>...</th>\n",
       "      <td>...</td>\n",
       "      <td>...</td>\n",
       "      <td>...</td>\n",
       "      <td>...</td>\n",
       "    </tr>\n",
       "    <tr>\n",
       "      <th>440312</th>\n",
       "      <td>245E85F65C358E08</td>\n",
       "      <td>2020-12-30 19:35:55</td>\n",
       "      <td>login</td>\n",
       "      <td>NaN</td>\n",
       "    </tr>\n",
       "    <tr>\n",
       "      <th>440313</th>\n",
       "      <td>9385A108F5A0A7A7</td>\n",
       "      <td>2020-12-30 10:54:15</td>\n",
       "      <td>login</td>\n",
       "      <td>NaN</td>\n",
       "    </tr>\n",
       "    <tr>\n",
       "      <th>440314</th>\n",
       "      <td>DB650B7559AC6EAC</td>\n",
       "      <td>2020-12-30 10:59:09</td>\n",
       "      <td>login</td>\n",
       "      <td>NaN</td>\n",
       "    </tr>\n",
       "    <tr>\n",
       "      <th>440315</th>\n",
       "      <td>F80C9BDDEA02E53C</td>\n",
       "      <td>2020-12-30 09:53:39</td>\n",
       "      <td>login</td>\n",
       "      <td>NaN</td>\n",
       "    </tr>\n",
       "    <tr>\n",
       "      <th>440316</th>\n",
       "      <td>7AEC61159B672CC5</td>\n",
       "      <td>2020-12-30 11:36:13</td>\n",
       "      <td>login</td>\n",
       "      <td>NaN</td>\n",
       "    </tr>\n",
       "  </tbody>\n",
       "</table>\n",
       "<p>377577 rows × 4 columns</p>\n",
       "</div>"
      ],
      "text/plain": [
       "                 user_id            event_dt    event_name  details\n",
       "62740   2E1BF1D4C37EA01F 2020-12-07 09:05:47  product_cart      NaN\n",
       "62741   50734A22C0C63768 2020-12-07 13:24:03  product_cart      NaN\n",
       "62742   5EB159DA9DC94DBA 2020-12-07 22:54:02  product_cart      NaN\n",
       "62743   084A22B980BA8169 2020-12-07 15:25:55  product_cart      NaN\n",
       "62744   0FC21E6F8FAA8DEC 2020-12-07 06:56:27  product_cart      NaN\n",
       "...                  ...                 ...           ...      ...\n",
       "440312  245E85F65C358E08 2020-12-30 19:35:55         login      NaN\n",
       "440313  9385A108F5A0A7A7 2020-12-30 10:54:15         login      NaN\n",
       "440314  DB650B7559AC6EAC 2020-12-30 10:59:09         login      NaN\n",
       "440315  F80C9BDDEA02E53C 2020-12-30 09:53:39         login      NaN\n",
       "440316  7AEC61159B672CC5 2020-12-30 11:36:13         login      NaN\n",
       "\n",
       "[377577 rows x 4 columns]"
      ]
     },
     "metadata": {},
     "output_type": "display_data"
    },
    {
     "data": {
      "text/html": [
       "<div>\n",
       "<style scoped>\n",
       "    .dataframe tbody tr th:only-of-type {\n",
       "        vertical-align: middle;\n",
       "    }\n",
       "\n",
       "    .dataframe tbody tr th {\n",
       "        vertical-align: top;\n",
       "    }\n",
       "\n",
       "    .dataframe thead th {\n",
       "        text-align: right;\n",
       "    }\n",
       "</style>\n",
       "<table border=\"1\" class=\"dataframe\">\n",
       "  <thead>\n",
       "    <tr style=\"text-align: right;\">\n",
       "      <th></th>\n",
       "      <th>user_id</th>\n",
       "      <th>event_dt</th>\n",
       "      <th>event_name</th>\n",
       "      <th>details</th>\n",
       "    </tr>\n",
       "  </thead>\n",
       "  <tbody>\n",
       "    <tr>\n",
       "      <th>0</th>\n",
       "      <td>E1BDDCE0DAFA2679</td>\n",
       "      <td>2020-12-07 20:22:03</td>\n",
       "      <td>purchase</td>\n",
       "      <td>99.99</td>\n",
       "    </tr>\n",
       "    <tr>\n",
       "      <th>1</th>\n",
       "      <td>7B6452F081F49504</td>\n",
       "      <td>2020-12-07 09:22:53</td>\n",
       "      <td>purchase</td>\n",
       "      <td>9.99</td>\n",
       "    </tr>\n",
       "    <tr>\n",
       "      <th>2</th>\n",
       "      <td>9CD9F34546DF254C</td>\n",
       "      <td>2020-12-07 12:59:29</td>\n",
       "      <td>purchase</td>\n",
       "      <td>4.99</td>\n",
       "    </tr>\n",
       "    <tr>\n",
       "      <th>3</th>\n",
       "      <td>96F27A054B191457</td>\n",
       "      <td>2020-12-07 04:02:40</td>\n",
       "      <td>purchase</td>\n",
       "      <td>4.99</td>\n",
       "    </tr>\n",
       "    <tr>\n",
       "      <th>4</th>\n",
       "      <td>1FD7660FDF94CA1F</td>\n",
       "      <td>2020-12-07 10:15:09</td>\n",
       "      <td>purchase</td>\n",
       "      <td>4.99</td>\n",
       "    </tr>\n",
       "    <tr>\n",
       "      <th>...</th>\n",
       "      <td>...</td>\n",
       "      <td>...</td>\n",
       "      <td>...</td>\n",
       "      <td>...</td>\n",
       "    </tr>\n",
       "    <tr>\n",
       "      <th>62735</th>\n",
       "      <td>1455450835F72F5E</td>\n",
       "      <td>2020-12-30 09:27:10</td>\n",
       "      <td>purchase</td>\n",
       "      <td>4.99</td>\n",
       "    </tr>\n",
       "    <tr>\n",
       "      <th>62736</th>\n",
       "      <td>339C4C55021A83C6</td>\n",
       "      <td>2020-12-30 12:55:08</td>\n",
       "      <td>purchase</td>\n",
       "      <td>9.99</td>\n",
       "    </tr>\n",
       "    <tr>\n",
       "      <th>62737</th>\n",
       "      <td>D1553B56FFA8974B</td>\n",
       "      <td>2020-12-30 03:15:35</td>\n",
       "      <td>purchase</td>\n",
       "      <td>4.99</td>\n",
       "    </tr>\n",
       "    <tr>\n",
       "      <th>62738</th>\n",
       "      <td>245E85F65C358E08</td>\n",
       "      <td>2020-12-30 19:35:55</td>\n",
       "      <td>purchase</td>\n",
       "      <td>9.99</td>\n",
       "    </tr>\n",
       "    <tr>\n",
       "      <th>62739</th>\n",
       "      <td>F80C9BDDEA02E53C</td>\n",
       "      <td>2020-12-30 09:53:39</td>\n",
       "      <td>purchase</td>\n",
       "      <td>4.99</td>\n",
       "    </tr>\n",
       "  </tbody>\n",
       "</table>\n",
       "<p>62740 rows × 4 columns</p>\n",
       "</div>"
      ],
      "text/plain": [
       "                user_id            event_dt event_name  details\n",
       "0      E1BDDCE0DAFA2679 2020-12-07 20:22:03   purchase    99.99\n",
       "1      7B6452F081F49504 2020-12-07 09:22:53   purchase     9.99\n",
       "2      9CD9F34546DF254C 2020-12-07 12:59:29   purchase     4.99\n",
       "3      96F27A054B191457 2020-12-07 04:02:40   purchase     4.99\n",
       "4      1FD7660FDF94CA1F 2020-12-07 10:15:09   purchase     4.99\n",
       "...                 ...                 ...        ...      ...\n",
       "62735  1455450835F72F5E 2020-12-30 09:27:10   purchase     4.99\n",
       "62736  339C4C55021A83C6 2020-12-30 12:55:08   purchase     9.99\n",
       "62737  D1553B56FFA8974B 2020-12-30 03:15:35   purchase     4.99\n",
       "62738  245E85F65C358E08 2020-12-30 19:35:55   purchase     9.99\n",
       "62739  F80C9BDDEA02E53C 2020-12-30 09:53:39   purchase     4.99\n",
       "\n",
       "[62740 rows x 4 columns]"
      ]
     },
     "metadata": {},
     "output_type": "display_data"
    },
    {
     "name": "stdout",
     "output_type": "stream",
     "text": [
      "Следующие события имеют данные в в деталях: ['purchase']\n"
     ]
    }
   ],
   "source": [
    "events['event_dt'] = pd.to_datetime(events['event_dt'])\n",
    "display(events[events['details'].isnull()])\n",
    "display(events[events['details'].notnull()])\n",
    "print('Следующие события имеют данные в в деталях:', events[events['details'].notnull()]['event_name'].unique())"
   ]
  },
  {
   "cell_type": "markdown",
   "id": "899c996c",
   "metadata": {},
   "source": [
    "**Подтверждаю** данные из ТЗ - в `details` пропуски не имеют только те строки, которые обозначают строки с покупкой. В остальных случаях деталей нет.\n",
    "\n",
    "**Некорректно** - проблема с типом данных, исправил.\n"
   ]
  },
  {
   "cell_type": "code",
   "execution_count": 7,
   "id": "09aa7ade",
   "metadata": {},
   "outputs": [
    {
     "data": {
      "text/html": [
       "<div>\n",
       "<style scoped>\n",
       "    .dataframe tbody tr th:only-of-type {\n",
       "        vertical-align: middle;\n",
       "    }\n",
       "\n",
       "    .dataframe tbody tr th {\n",
       "        vertical-align: top;\n",
       "    }\n",
       "\n",
       "    .dataframe thead th {\n",
       "        text-align: right;\n",
       "    }\n",
       "</style>\n",
       "<table border=\"1\" class=\"dataframe\">\n",
       "  <thead>\n",
       "    <tr style=\"text-align: right;\">\n",
       "      <th></th>\n",
       "      <th>user_id</th>\n",
       "      <th>first_date</th>\n",
       "      <th>region</th>\n",
       "      <th>device</th>\n",
       "    </tr>\n",
       "  </thead>\n",
       "  <tbody>\n",
       "    <tr>\n",
       "      <th>0</th>\n",
       "      <td>D72A72121175D8BE</td>\n",
       "      <td>2020-12-07</td>\n",
       "      <td>EU</td>\n",
       "      <td>PC</td>\n",
       "    </tr>\n",
       "    <tr>\n",
       "      <th>1</th>\n",
       "      <td>F1C668619DFE6E65</td>\n",
       "      <td>2020-12-07</td>\n",
       "      <td>N.America</td>\n",
       "      <td>Android</td>\n",
       "    </tr>\n",
       "    <tr>\n",
       "      <th>2</th>\n",
       "      <td>2E1BF1D4C37EA01F</td>\n",
       "      <td>2020-12-07</td>\n",
       "      <td>EU</td>\n",
       "      <td>PC</td>\n",
       "    </tr>\n",
       "    <tr>\n",
       "      <th>3</th>\n",
       "      <td>50734A22C0C63768</td>\n",
       "      <td>2020-12-07</td>\n",
       "      <td>EU</td>\n",
       "      <td>iPhone</td>\n",
       "    </tr>\n",
       "    <tr>\n",
       "      <th>4</th>\n",
       "      <td>E1BDDCE0DAFA2679</td>\n",
       "      <td>2020-12-07</td>\n",
       "      <td>N.America</td>\n",
       "      <td>iPhone</td>\n",
       "    </tr>\n",
       "    <tr>\n",
       "      <th>...</th>\n",
       "      <td>...</td>\n",
       "      <td>...</td>\n",
       "      <td>...</td>\n",
       "      <td>...</td>\n",
       "    </tr>\n",
       "    <tr>\n",
       "      <th>61728</th>\n",
       "      <td>1DB53B933257165D</td>\n",
       "      <td>2020-12-20</td>\n",
       "      <td>EU</td>\n",
       "      <td>Android</td>\n",
       "    </tr>\n",
       "    <tr>\n",
       "      <th>61729</th>\n",
       "      <td>538643EB4527ED03</td>\n",
       "      <td>2020-12-20</td>\n",
       "      <td>EU</td>\n",
       "      <td>Mac</td>\n",
       "    </tr>\n",
       "    <tr>\n",
       "      <th>61730</th>\n",
       "      <td>7ADEE837D5D8CBBD</td>\n",
       "      <td>2020-12-20</td>\n",
       "      <td>EU</td>\n",
       "      <td>PC</td>\n",
       "    </tr>\n",
       "    <tr>\n",
       "      <th>61731</th>\n",
       "      <td>1C7D23927835213F</td>\n",
       "      <td>2020-12-20</td>\n",
       "      <td>EU</td>\n",
       "      <td>iPhone</td>\n",
       "    </tr>\n",
       "    <tr>\n",
       "      <th>61732</th>\n",
       "      <td>8F04273BB2860229</td>\n",
       "      <td>2020-12-20</td>\n",
       "      <td>EU</td>\n",
       "      <td>Android</td>\n",
       "    </tr>\n",
       "  </tbody>\n",
       "</table>\n",
       "<p>61733 rows × 4 columns</p>\n",
       "</div>"
      ],
      "text/plain": [
       "                user_id  first_date     region   device\n",
       "0      D72A72121175D8BE  2020-12-07         EU       PC\n",
       "1      F1C668619DFE6E65  2020-12-07  N.America  Android\n",
       "2      2E1BF1D4C37EA01F  2020-12-07         EU       PC\n",
       "3      50734A22C0C63768  2020-12-07         EU   iPhone\n",
       "4      E1BDDCE0DAFA2679  2020-12-07  N.America   iPhone\n",
       "...                 ...         ...        ...      ...\n",
       "61728  1DB53B933257165D  2020-12-20         EU  Android\n",
       "61729  538643EB4527ED03  2020-12-20         EU      Mac\n",
       "61730  7ADEE837D5D8CBBD  2020-12-20         EU       PC\n",
       "61731  1C7D23927835213F  2020-12-20         EU   iPhone\n",
       "61732  8F04273BB2860229  2020-12-20         EU  Android\n",
       "\n",
       "[61733 rows x 4 columns]"
      ]
     },
     "metadata": {},
     "output_type": "display_data"
    },
    {
     "name": "stdout",
     "output_type": "stream",
     "text": [
      "<class 'pandas.core.frame.DataFrame'>\n",
      "RangeIndex: 61733 entries, 0 to 61732\n",
      "Data columns (total 4 columns):\n",
      " #   Column      Non-Null Count  Dtype \n",
      "---  ------      --------------  ----- \n",
      " 0   user_id     61733 non-null  object\n",
      " 1   first_date  61733 non-null  object\n",
      " 2   region      61733 non-null  object\n",
      " 3   device      61733 non-null  object\n",
      "dtypes: object(4)\n",
      "memory usage: 1.9+ MB\n",
      "Количество дубликатов в датасете: 0\n"
     ]
    }
   ],
   "source": [
    "display(new_users)\n",
    "new_users.info()\n",
    "print(\"Количество дубликатов в датасете:\", new_users.duplicated().sum() )"
   ]
  },
  {
   "cell_type": "code",
   "execution_count": 8,
   "id": "47c57869",
   "metadata": {},
   "outputs": [],
   "source": [
    "new_users['first_date'] = pd.to_datetime(new_users['first_date'])"
   ]
  },
  {
   "cell_type": "markdown",
   "id": "37982646",
   "metadata": {},
   "source": [
    "Вновь **некорректен** вид данных."
   ]
  },
  {
   "cell_type": "code",
   "execution_count": 9,
   "id": "87b52227",
   "metadata": {},
   "outputs": [
    {
     "data": {
      "text/html": [
       "<div>\n",
       "<style scoped>\n",
       "    .dataframe tbody tr th:only-of-type {\n",
       "        vertical-align: middle;\n",
       "    }\n",
       "\n",
       "    .dataframe tbody tr th {\n",
       "        vertical-align: top;\n",
       "    }\n",
       "\n",
       "    .dataframe thead th {\n",
       "        text-align: right;\n",
       "    }\n",
       "</style>\n",
       "<table border=\"1\" class=\"dataframe\">\n",
       "  <thead>\n",
       "    <tr style=\"text-align: right;\">\n",
       "      <th></th>\n",
       "      <th>user_id</th>\n",
       "      <th>group</th>\n",
       "      <th>ab_test</th>\n",
       "    </tr>\n",
       "  </thead>\n",
       "  <tbody>\n",
       "    <tr>\n",
       "      <th>0</th>\n",
       "      <td>D1ABA3E2887B6A73</td>\n",
       "      <td>A</td>\n",
       "      <td>recommender_system_test</td>\n",
       "    </tr>\n",
       "    <tr>\n",
       "      <th>1</th>\n",
       "      <td>A7A3664BD6242119</td>\n",
       "      <td>A</td>\n",
       "      <td>recommender_system_test</td>\n",
       "    </tr>\n",
       "    <tr>\n",
       "      <th>2</th>\n",
       "      <td>DABC14FDDFADD29E</td>\n",
       "      <td>A</td>\n",
       "      <td>recommender_system_test</td>\n",
       "    </tr>\n",
       "    <tr>\n",
       "      <th>3</th>\n",
       "      <td>04988C5DF189632E</td>\n",
       "      <td>A</td>\n",
       "      <td>recommender_system_test</td>\n",
       "    </tr>\n",
       "    <tr>\n",
       "      <th>4</th>\n",
       "      <td>482F14783456D21B</td>\n",
       "      <td>B</td>\n",
       "      <td>recommender_system_test</td>\n",
       "    </tr>\n",
       "    <tr>\n",
       "      <th>...</th>\n",
       "      <td>...</td>\n",
       "      <td>...</td>\n",
       "      <td>...</td>\n",
       "    </tr>\n",
       "    <tr>\n",
       "      <th>18263</th>\n",
       "      <td>1D302F8688B91781</td>\n",
       "      <td>B</td>\n",
       "      <td>interface_eu_test</td>\n",
       "    </tr>\n",
       "    <tr>\n",
       "      <th>18264</th>\n",
       "      <td>3DE51B726983B657</td>\n",
       "      <td>A</td>\n",
       "      <td>interface_eu_test</td>\n",
       "    </tr>\n",
       "    <tr>\n",
       "      <th>18265</th>\n",
       "      <td>F501F79D332BE86C</td>\n",
       "      <td>A</td>\n",
       "      <td>interface_eu_test</td>\n",
       "    </tr>\n",
       "    <tr>\n",
       "      <th>18266</th>\n",
       "      <td>63FBE257B05F2245</td>\n",
       "      <td>A</td>\n",
       "      <td>interface_eu_test</td>\n",
       "    </tr>\n",
       "    <tr>\n",
       "      <th>18267</th>\n",
       "      <td>79F9ABFB029CF724</td>\n",
       "      <td>B</td>\n",
       "      <td>interface_eu_test</td>\n",
       "    </tr>\n",
       "  </tbody>\n",
       "</table>\n",
       "<p>18268 rows × 3 columns</p>\n",
       "</div>"
      ],
      "text/plain": [
       "                user_id group                  ab_test\n",
       "0      D1ABA3E2887B6A73     A  recommender_system_test\n",
       "1      A7A3664BD6242119     A  recommender_system_test\n",
       "2      DABC14FDDFADD29E     A  recommender_system_test\n",
       "3      04988C5DF189632E     A  recommender_system_test\n",
       "4      482F14783456D21B     B  recommender_system_test\n",
       "...                 ...   ...                      ...\n",
       "18263  1D302F8688B91781     B        interface_eu_test\n",
       "18264  3DE51B726983B657     A        interface_eu_test\n",
       "18265  F501F79D332BE86C     A        interface_eu_test\n",
       "18266  63FBE257B05F2245     A        interface_eu_test\n",
       "18267  79F9ABFB029CF724     B        interface_eu_test\n",
       "\n",
       "[18268 rows x 3 columns]"
      ]
     },
     "metadata": {},
     "output_type": "display_data"
    },
    {
     "name": "stdout",
     "output_type": "stream",
     "text": [
      "<class 'pandas.core.frame.DataFrame'>\n",
      "RangeIndex: 18268 entries, 0 to 18267\n",
      "Data columns (total 3 columns):\n",
      " #   Column   Non-Null Count  Dtype \n",
      "---  ------   --------------  ----- \n",
      " 0   user_id  18268 non-null  object\n",
      " 1   group    18268 non-null  object\n",
      " 2   ab_test  18268 non-null  object\n",
      "dtypes: object(3)\n",
      "memory usage: 428.3+ KB\n",
      "Количество дубликатов в датасете: 0\n"
     ]
    }
   ],
   "source": [
    "display(participants)\n",
    "participants.info()\n",
    "print(\"Количество дубликатов в датасете:\", participants.duplicated().sum() )\n"
   ]
  },
  {
   "cell_type": "markdown",
   "id": "70acbe02",
   "metadata": {},
   "source": [
    "В данном датасете все верно. Однако видно, что в нем есть как минимум два теста."
   ]
  },
  {
   "cell_type": "code",
   "execution_count": 10,
   "id": "943a08ff",
   "metadata": {},
   "outputs": [
    {
     "name": "stdout",
     "output_type": "stream",
     "text": [
      "В датасете присутствуют следующие тесты: ['recommender_system_test' 'interface_eu_test']\n"
     ]
    }
   ],
   "source": [
    "print('В датасете присутствуют следующие тесты:', participants['ab_test'].unique())"
   ]
  },
  {
   "cell_type": "markdown",
   "id": "5da65b23",
   "metadata": {},
   "source": [
    "В ТЗ стоит задача исследовать `recommender_system_test`. В рамках нашего исследования группа `interface_eu_test` мне не нужна. Для начала проверю, есть ли пользователи, которые в рамках одного теста состоят в двух группах."
   ]
  },
  {
   "cell_type": "code",
   "execution_count": 11,
   "id": "0a79b990",
   "metadata": {},
   "outputs": [
    {
     "name": "stdout",
     "output_type": "stream",
     "text": [
      "Пользователи в обеих группах теста recommender_system_test:\n",
      "Empty DataFrame\n",
      "Columns: [user_id, group, ab_test]\n",
      "Index: []\n",
      "\n",
      "Пользователи в обеих группах теста interface_eu_test:\n",
      "Empty DataFrame\n",
      "Columns: [user_id, group, ab_test]\n",
      "Index: []\n"
     ]
    }
   ],
   "source": [
    "recommender_system_test_users = participants[participants['ab_test'] == 'recommender_system_test']\n",
    "user_group_counts_recommender = recommender_system_test_users.groupby('user_id')['group'].nunique()\n",
    "users_in_both_groups_recommender = user_group_counts_recommender[user_group_counts_recommender == 2].index\n",
    "users_in_both_groups_info_recommender = recommender_system_test_users[recommender_system_test_users['user_id'].isin(users_in_both_groups_recommender)]\n",
    "print(\"Пользователи в обеих группах теста recommender_system_test:\")\n",
    "print(users_in_both_groups_info_recommender)\n",
    "\n",
    "\n",
    "interface_eu_test_users = participants[participants['ab_test'] == 'interface_eu_test']\n",
    "user_group_counts_interface = interface_eu_test_users.groupby('user_id')['group'].nunique()\n",
    "users_in_both_groups_interface = user_group_counts_interface[user_group_counts_interface == 2].index\n",
    "users_in_both_groups_info_interface = interface_eu_test_users[interface_eu_test_users['user_id'].isin(users_in_both_groups_interface)]\n",
    "print(\"\\nПользователи в обеих группах теста interface_eu_test:\")\n",
    "print(users_in_both_groups_info_interface)\n"
   ]
  },
  {
   "cell_type": "markdown",
   "id": "8f80f533",
   "metadata": {},
   "source": [
    "Итак, у нас нет пользователей, которые участвуют в двух группах в рамках одно теста.\n",
    "\n",
    "Теперь подсчитаю количество пользователей, которые участвуют в двух тестах сразу.\n"
   ]
  },
  {
   "cell_type": "code",
   "execution_count": 17,
   "id": "8362d515",
   "metadata": {},
   "outputs": [
    {
     "name": "stdout",
     "output_type": "stream",
     "text": [
      "Дубликаты тестов в группе A:\n"
     ]
    },
    {
     "data": {
      "text/html": [
       "<div>\n",
       "<style scoped>\n",
       "    .dataframe tbody tr th:only-of-type {\n",
       "        vertical-align: middle;\n",
       "    }\n",
       "\n",
       "    .dataframe tbody tr th {\n",
       "        vertical-align: top;\n",
       "    }\n",
       "\n",
       "    .dataframe thead th {\n",
       "        text-align: right;\n",
       "    }\n",
       "</style>\n",
       "<table border=\"1\" class=\"dataframe\">\n",
       "  <thead>\n",
       "    <tr style=\"text-align: right;\">\n",
       "      <th></th>\n",
       "      <th>user_id</th>\n",
       "      <th>group</th>\n",
       "      <th>ab_test</th>\n",
       "    </tr>\n",
       "  </thead>\n",
       "  <tbody>\n",
       "    <tr>\n",
       "      <th>2</th>\n",
       "      <td>DABC14FDDFADD29E</td>\n",
       "      <td>A</td>\n",
       "      <td>recommender_system_test</td>\n",
       "    </tr>\n",
       "    <tr>\n",
       "      <th>3</th>\n",
       "      <td>04988C5DF189632E</td>\n",
       "      <td>A</td>\n",
       "      <td>recommender_system_test</td>\n",
       "    </tr>\n",
       "    <tr>\n",
       "      <th>10</th>\n",
       "      <td>B3A2485649E4A012</td>\n",
       "      <td>A</td>\n",
       "      <td>recommender_system_test</td>\n",
       "    </tr>\n",
       "    <tr>\n",
       "      <th>31</th>\n",
       "      <td>D6E62099519F986C</td>\n",
       "      <td>A</td>\n",
       "      <td>recommender_system_test</td>\n",
       "    </tr>\n",
       "    <tr>\n",
       "      <th>33</th>\n",
       "      <td>0F1FF07B3788976D</td>\n",
       "      <td>A</td>\n",
       "      <td>recommender_system_test</td>\n",
       "    </tr>\n",
       "    <tr>\n",
       "      <th>...</th>\n",
       "      <td>...</td>\n",
       "      <td>...</td>\n",
       "      <td>...</td>\n",
       "    </tr>\n",
       "    <tr>\n",
       "      <th>18099</th>\n",
       "      <td>E14500C7172C0D15</td>\n",
       "      <td>A</td>\n",
       "      <td>interface_eu_test</td>\n",
       "    </tr>\n",
       "    <tr>\n",
       "      <th>18137</th>\n",
       "      <td>041ED985CA4223B3</td>\n",
       "      <td>A</td>\n",
       "      <td>interface_eu_test</td>\n",
       "    </tr>\n",
       "    <tr>\n",
       "      <th>18148</th>\n",
       "      <td>C7D1A5A6F6BAD476</td>\n",
       "      <td>A</td>\n",
       "      <td>interface_eu_test</td>\n",
       "    </tr>\n",
       "    <tr>\n",
       "      <th>18210</th>\n",
       "      <td>70BF82527E6ED9C3</td>\n",
       "      <td>A</td>\n",
       "      <td>interface_eu_test</td>\n",
       "    </tr>\n",
       "    <tr>\n",
       "      <th>18227</th>\n",
       "      <td>EF2E4FAF26951358</td>\n",
       "      <td>A</td>\n",
       "      <td>interface_eu_test</td>\n",
       "    </tr>\n",
       "  </tbody>\n",
       "</table>\n",
       "<p>964 rows × 3 columns</p>\n",
       "</div>"
      ],
      "text/plain": [
       "                user_id group                  ab_test\n",
       "2      DABC14FDDFADD29E     A  recommender_system_test\n",
       "3      04988C5DF189632E     A  recommender_system_test\n",
       "10     B3A2485649E4A012     A  recommender_system_test\n",
       "31     D6E62099519F986C     A  recommender_system_test\n",
       "33     0F1FF07B3788976D     A  recommender_system_test\n",
       "...                 ...   ...                      ...\n",
       "18099  E14500C7172C0D15     A        interface_eu_test\n",
       "18137  041ED985CA4223B3     A        interface_eu_test\n",
       "18148  C7D1A5A6F6BAD476     A        interface_eu_test\n",
       "18210  70BF82527E6ED9C3     A        interface_eu_test\n",
       "18227  EF2E4FAF26951358     A        interface_eu_test\n",
       "\n",
       "[964 rows x 3 columns]"
      ]
     },
     "metadata": {},
     "output_type": "display_data"
    },
    {
     "name": "stdout",
     "output_type": "stream",
     "text": [
      "\n",
      "Дубликаты тестов в группе B:\n"
     ]
    },
    {
     "data": {
      "text/html": [
       "<div>\n",
       "<style scoped>\n",
       "    .dataframe tbody tr th:only-of-type {\n",
       "        vertical-align: middle;\n",
       "    }\n",
       "\n",
       "    .dataframe tbody tr th {\n",
       "        vertical-align: top;\n",
       "    }\n",
       "\n",
       "    .dataframe thead th {\n",
       "        text-align: right;\n",
       "    }\n",
       "</style>\n",
       "<table border=\"1\" class=\"dataframe\">\n",
       "  <thead>\n",
       "    <tr style=\"text-align: right;\">\n",
       "      <th></th>\n",
       "      <th>user_id</th>\n",
       "      <th>group</th>\n",
       "      <th>ab_test</th>\n",
       "    </tr>\n",
       "  </thead>\n",
       "  <tbody>\n",
       "    <tr>\n",
       "      <th>29</th>\n",
       "      <td>5D5E6EE92AF6E9E0</td>\n",
       "      <td>B</td>\n",
       "      <td>recommender_system_test</td>\n",
       "    </tr>\n",
       "    <tr>\n",
       "      <th>53</th>\n",
       "      <td>952D1EEBF552BC95</td>\n",
       "      <td>B</td>\n",
       "      <td>recommender_system_test</td>\n",
       "    </tr>\n",
       "    <tr>\n",
       "      <th>79</th>\n",
       "      <td>B3C1FF8D21EAC16B</td>\n",
       "      <td>B</td>\n",
       "      <td>recommender_system_test</td>\n",
       "    </tr>\n",
       "    <tr>\n",
       "      <th>105</th>\n",
       "      <td>04BE4EFE4C457312</td>\n",
       "      <td>B</td>\n",
       "      <td>recommender_system_test</td>\n",
       "    </tr>\n",
       "    <tr>\n",
       "      <th>124</th>\n",
       "      <td>A0794039D643F1B6</td>\n",
       "      <td>B</td>\n",
       "      <td>recommender_system_test</td>\n",
       "    </tr>\n",
       "    <tr>\n",
       "      <th>...</th>\n",
       "      <td>...</td>\n",
       "      <td>...</td>\n",
       "      <td>...</td>\n",
       "    </tr>\n",
       "    <tr>\n",
       "      <th>18079</th>\n",
       "      <td>8FF8F87305BB9A7D</td>\n",
       "      <td>B</td>\n",
       "      <td>interface_eu_test</td>\n",
       "    </tr>\n",
       "    <tr>\n",
       "      <th>18094</th>\n",
       "      <td>C2025648F77BD80B</td>\n",
       "      <td>B</td>\n",
       "      <td>interface_eu_test</td>\n",
       "    </tr>\n",
       "    <tr>\n",
       "      <th>18170</th>\n",
       "      <td>7DF21AEB1AA231F9</td>\n",
       "      <td>B</td>\n",
       "      <td>interface_eu_test</td>\n",
       "    </tr>\n",
       "    <tr>\n",
       "      <th>18183</th>\n",
       "      <td>EA6EA431FF84563B</td>\n",
       "      <td>B</td>\n",
       "      <td>interface_eu_test</td>\n",
       "    </tr>\n",
       "    <tr>\n",
       "      <th>18245</th>\n",
       "      <td>2B0CD24EE4291CA0</td>\n",
       "      <td>B</td>\n",
       "      <td>interface_eu_test</td>\n",
       "    </tr>\n",
       "  </tbody>\n",
       "</table>\n",
       "<p>688 rows × 3 columns</p>\n",
       "</div>"
      ],
      "text/plain": [
       "                user_id group                  ab_test\n",
       "29     5D5E6EE92AF6E9E0     B  recommender_system_test\n",
       "53     952D1EEBF552BC95     B  recommender_system_test\n",
       "79     B3C1FF8D21EAC16B     B  recommender_system_test\n",
       "105    04BE4EFE4C457312     B  recommender_system_test\n",
       "124    A0794039D643F1B6     B  recommender_system_test\n",
       "...                 ...   ...                      ...\n",
       "18079  8FF8F87305BB9A7D     B        interface_eu_test\n",
       "18094  C2025648F77BD80B     B        interface_eu_test\n",
       "18170  7DF21AEB1AA231F9     B        interface_eu_test\n",
       "18183  EA6EA431FF84563B     B        interface_eu_test\n",
       "18245  2B0CD24EE4291CA0     B        interface_eu_test\n",
       "\n",
       "[688 rows x 3 columns]"
      ]
     },
     "metadata": {},
     "output_type": "display_data"
    }
   ],
   "source": [
    "group_a = participants[participants['group'] == 'A']\n",
    "\n",
    "group_b = participants[participants['group'] == 'B']\n",
    "\n",
    "duplicates_a = group_a[group_a.duplicated(subset=['user_id'], keep=False)]\n",
    "duplicates_b = group_b[group_b.duplicated(subset=['user_id'], keep=False)]\n",
    "\n",
    "print(\"Дубликаты тестов в группе A:\")\n",
    "display(duplicates_a)\n",
    "\n",
    "print(\"\\nДубликаты тестов в группе B:\")\n",
    "display(duplicates_b)"
   ]
  },
  {
   "cell_type": "code",
   "execution_count": 23,
   "id": "cea040f4",
   "metadata": {},
   "outputs": [
    {
     "name": "stdout",
     "output_type": "stream",
     "text": [
      "Общее количество уникальных пользователей: 16666\n",
      "Количество пользователей, участвующих в обеих группах (A и B) в обоих тестах: 826\n",
      "Доля пользователей: 4.96%\n"
     ]
    }
   ],
   "source": [
    "print(\"Общее количество уникальных пользователей:\", participants['user_id'].nunique())\n",
    "print(\"Количество пользователей, участвующих в обеих группах (A и B) в обоих тестах:\",  duplicates_a['user_id'].nunique() +  duplicates_b['user_id'].nunique())\n",
    "print('Доля пользователей: {:.2f}%'.format((duplicates_a['user_id'].nunique() +  duplicates_b['user_id'].nunique()) / participants['user_id'].nunique() * 100))\n"
   ]
  },
  {
   "cell_type": "markdown",
   "id": "d0f53832",
   "metadata": {},
   "source": [
    "Доля граничит с пределом по удалению данных. Известно, что группа А включает в себя пользователей контрольной группы, а значит без изменений. Что бы не удалять всех пользователей, которые участвовали в обоих тестах, можно убрать только тех, которое в обоих тестах были в группе В."
   ]
  },
  {
   "cell_type": "code",
   "execution_count": 24,
   "id": "422314c6",
   "metadata": {},
   "outputs": [
    {
     "name": "stdout",
     "output_type": "stream",
     "text": [
      "Количество пользователей, участвующих в обоих тестах: 344\n",
      "Доля пользователей: 2.06%\n"
     ]
    }
   ],
   "source": [
    "print(\"Количество пользователей, участвующих в обоих тестах:\",    duplicates_b['user_id'].nunique())\n",
    "print('Доля пользователей: {:.2f}%'.format((  duplicates_b['user_id'].nunique()) / participants['user_id'].nunique() * 100))\n"
   ]
  },
  {
   "cell_type": "markdown",
   "id": "c569439c",
   "metadata": {},
   "source": [
    "Доля пользователей составляет всего два процента цента, можно убрать без искажения данных."
   ]
  },
  {
   "cell_type": "code",
   "execution_count": 25,
   "id": "0c65a5ff",
   "metadata": {},
   "outputs": [
    {
     "data": {
      "text/html": [
       "<div>\n",
       "<style scoped>\n",
       "    .dataframe tbody tr th:only-of-type {\n",
       "        vertical-align: middle;\n",
       "    }\n",
       "\n",
       "    .dataframe tbody tr th {\n",
       "        vertical-align: top;\n",
       "    }\n",
       "\n",
       "    .dataframe thead th {\n",
       "        text-align: right;\n",
       "    }\n",
       "</style>\n",
       "<table border=\"1\" class=\"dataframe\">\n",
       "  <thead>\n",
       "    <tr style=\"text-align: right;\">\n",
       "      <th></th>\n",
       "      <th>user_id</th>\n",
       "      <th>group</th>\n",
       "      <th>ab_test</th>\n",
       "    </tr>\n",
       "  </thead>\n",
       "  <tbody>\n",
       "    <tr>\n",
       "      <th>6705</th>\n",
       "      <td>2BA8FA8754D1FE50</td>\n",
       "      <td>B</td>\n",
       "      <td>interface_eu_test</td>\n",
       "    </tr>\n",
       "    <tr>\n",
       "      <th>6706</th>\n",
       "      <td>FB6F6BC119E1DBD5</td>\n",
       "      <td>B</td>\n",
       "      <td>interface_eu_test</td>\n",
       "    </tr>\n",
       "    <tr>\n",
       "      <th>6707</th>\n",
       "      <td>2D2E7AA539CF348F</td>\n",
       "      <td>B</td>\n",
       "      <td>interface_eu_test</td>\n",
       "    </tr>\n",
       "    <tr>\n",
       "      <th>6709</th>\n",
       "      <td>76B6CDF2A8B1DBFC</td>\n",
       "      <td>B</td>\n",
       "      <td>interface_eu_test</td>\n",
       "    </tr>\n",
       "    <tr>\n",
       "      <th>6712</th>\n",
       "      <td>10DAD07E71B44F26</td>\n",
       "      <td>B</td>\n",
       "      <td>interface_eu_test</td>\n",
       "    </tr>\n",
       "    <tr>\n",
       "      <th>...</th>\n",
       "      <td>...</td>\n",
       "      <td>...</td>\n",
       "      <td>...</td>\n",
       "    </tr>\n",
       "    <tr>\n",
       "      <th>18254</th>\n",
       "      <td>06CB5B54FDFEA69F</td>\n",
       "      <td>B</td>\n",
       "      <td>interface_eu_test</td>\n",
       "    </tr>\n",
       "    <tr>\n",
       "      <th>18260</th>\n",
       "      <td>60A2B3B987457ECE</td>\n",
       "      <td>B</td>\n",
       "      <td>interface_eu_test</td>\n",
       "    </tr>\n",
       "    <tr>\n",
       "      <th>18262</th>\n",
       "      <td>4155D795096E6CFE</td>\n",
       "      <td>B</td>\n",
       "      <td>interface_eu_test</td>\n",
       "    </tr>\n",
       "    <tr>\n",
       "      <th>18263</th>\n",
       "      <td>1D302F8688B91781</td>\n",
       "      <td>B</td>\n",
       "      <td>interface_eu_test</td>\n",
       "    </tr>\n",
       "    <tr>\n",
       "      <th>18267</th>\n",
       "      <td>79F9ABFB029CF724</td>\n",
       "      <td>B</td>\n",
       "      <td>interface_eu_test</td>\n",
       "    </tr>\n",
       "  </tbody>\n",
       "</table>\n",
       "<p>5736 rows × 3 columns</p>\n",
       "</div>"
      ],
      "text/plain": [
       "                user_id group            ab_test\n",
       "6705   2BA8FA8754D1FE50     B  interface_eu_test\n",
       "6706   FB6F6BC119E1DBD5     B  interface_eu_test\n",
       "6707   2D2E7AA539CF348F     B  interface_eu_test\n",
       "6709   76B6CDF2A8B1DBFC     B  interface_eu_test\n",
       "6712   10DAD07E71B44F26     B  interface_eu_test\n",
       "...                 ...   ...                ...\n",
       "18254  06CB5B54FDFEA69F     B  interface_eu_test\n",
       "18260  60A2B3B987457ECE     B  interface_eu_test\n",
       "18262  4155D795096E6CFE     B  interface_eu_test\n",
       "18263  1D302F8688B91781     B  interface_eu_test\n",
       "18267  79F9ABFB029CF724     B  interface_eu_test\n",
       "\n",
       "[5736 rows x 3 columns]"
      ]
     },
     "execution_count": 25,
     "metadata": {},
     "output_type": "execute_result"
    }
   ],
   "source": [
    "group_b_eu= participants[participants['ab_test'] == 'interface_eu_test']\n",
    "group_b_eu = group_b_eu[group_b_eu['group'] == 'B']\n",
    "group_b_eu"
   ]
  },
  {
   "cell_type": "code",
   "execution_count": 26,
   "id": "44a7251e",
   "metadata": {},
   "outputs": [
    {
     "data": {
      "text/plain": [
       "6705     2BA8FA8754D1FE50\n",
       "6706     FB6F6BC119E1DBD5\n",
       "6707     2D2E7AA539CF348F\n",
       "6709     76B6CDF2A8B1DBFC\n",
       "6712     10DAD07E71B44F26\n",
       "               ...       \n",
       "18254    06CB5B54FDFEA69F\n",
       "18260    60A2B3B987457ECE\n",
       "18262    4155D795096E6CFE\n",
       "18263    1D302F8688B91781\n",
       "18267    79F9ABFB029CF724\n",
       "Name: user_id, Length: 5736, dtype: object"
      ]
     },
     "metadata": {},
     "output_type": "display_data"
    },
    {
     "name": "stdout",
     "output_type": "stream",
     "text": [
      "----------------\n"
     ]
    },
    {
     "data": {
      "text/plain": [
       "0        D1ABA3E2887B6A73\n",
       "1        A7A3664BD6242119\n",
       "2        DABC14FDDFADD29E\n",
       "3        04988C5DF189632E\n",
       "5        4FF2998A348C484F\n",
       "               ...       \n",
       "18259    96304D5B53694096\n",
       "18261    A1281767A2983E4D\n",
       "18264    3DE51B726983B657\n",
       "18265    F501F79D332BE86C\n",
       "18266    63FBE257B05F2245\n",
       "Name: user_id, Length: 9655, dtype: object"
      ]
     },
     "metadata": {},
     "output_type": "display_data"
    }
   ],
   "source": [
    "group_b_eu = group_b_eu['user_id']\n",
    "group_a_users = group_a['user_id']\n",
    "common_users = group_b_eu[group_b_eu.isin(group_a_users)]\n",
    "display(group_b_eu)\n",
    "print('----------------')\n",
    "display(group_a_users)"
   ]
  },
  {
   "cell_type": "code",
   "execution_count": 28,
   "id": "dc19d18d",
   "metadata": {},
   "outputs": [
    {
     "name": "stdout",
     "output_type": "stream",
     "text": [
      "Есть пересечение пользователей между group_b_eu и group_a_users.\n"
     ]
    },
    {
     "data": {
      "text/html": [
       "<div>\n",
       "<style scoped>\n",
       "    .dataframe tbody tr th:only-of-type {\n",
       "        vertical-align: middle;\n",
       "    }\n",
       "\n",
       "    .dataframe tbody tr th {\n",
       "        vertical-align: top;\n",
       "    }\n",
       "\n",
       "    .dataframe thead th {\n",
       "        text-align: right;\n",
       "    }\n",
       "</style>\n",
       "<table border=\"1\" class=\"dataframe\">\n",
       "  <thead>\n",
       "    <tr style=\"text-align: right;\">\n",
       "      <th></th>\n",
       "      <th>user_id</th>\n",
       "      <th>group</th>\n",
       "      <th>ab_test</th>\n",
       "    </tr>\n",
       "  </thead>\n",
       "  <tbody>\n",
       "    <tr>\n",
       "      <th>44</th>\n",
       "      <td>FC3F3E4DA7C85F88</td>\n",
       "      <td>A</td>\n",
       "      <td>recommender_system_test</td>\n",
       "    </tr>\n",
       "    <tr>\n",
       "      <th>49</th>\n",
       "      <td>FE2AF0E94DBD470E</td>\n",
       "      <td>A</td>\n",
       "      <td>recommender_system_test</td>\n",
       "    </tr>\n",
       "    <tr>\n",
       "      <th>60</th>\n",
       "      <td>C5AD06762E628169</td>\n",
       "      <td>A</td>\n",
       "      <td>recommender_system_test</td>\n",
       "    </tr>\n",
       "    <tr>\n",
       "      <th>104</th>\n",
       "      <td>25CE0629AC6B6971</td>\n",
       "      <td>A</td>\n",
       "      <td>recommender_system_test</td>\n",
       "    </tr>\n",
       "    <tr>\n",
       "      <th>129</th>\n",
       "      <td>44EB15AD423DC31C</td>\n",
       "      <td>A</td>\n",
       "      <td>recommender_system_test</td>\n",
       "    </tr>\n",
       "    <tr>\n",
       "      <th>...</th>\n",
       "      <td>...</td>\n",
       "      <td>...</td>\n",
       "      <td>...</td>\n",
       "    </tr>\n",
       "    <tr>\n",
       "      <th>6302</th>\n",
       "      <td>D7933558E33BF7D5</td>\n",
       "      <td>A</td>\n",
       "      <td>recommender_system_test</td>\n",
       "    </tr>\n",
       "    <tr>\n",
       "      <th>6304</th>\n",
       "      <td>DECA5C05A77980A1</td>\n",
       "      <td>A</td>\n",
       "      <td>recommender_system_test</td>\n",
       "    </tr>\n",
       "    <tr>\n",
       "      <th>6305</th>\n",
       "      <td>32164CC8F884B9A5</td>\n",
       "      <td>A</td>\n",
       "      <td>recommender_system_test</td>\n",
       "    </tr>\n",
       "    <tr>\n",
       "      <th>6309</th>\n",
       "      <td>7FE6DDDB6C85C934</td>\n",
       "      <td>A</td>\n",
       "      <td>recommender_system_test</td>\n",
       "    </tr>\n",
       "    <tr>\n",
       "      <th>6318</th>\n",
       "      <td>96BDD55846D1F7F6</td>\n",
       "      <td>A</td>\n",
       "      <td>recommender_system_test</td>\n",
       "    </tr>\n",
       "  </tbody>\n",
       "</table>\n",
       "<p>439 rows × 3 columns</p>\n",
       "</div>"
      ],
      "text/plain": [
       "               user_id group                  ab_test\n",
       "44    FC3F3E4DA7C85F88     A  recommender_system_test\n",
       "49    FE2AF0E94DBD470E     A  recommender_system_test\n",
       "60    C5AD06762E628169     A  recommender_system_test\n",
       "104   25CE0629AC6B6971     A  recommender_system_test\n",
       "129   44EB15AD423DC31C     A  recommender_system_test\n",
       "...                ...   ...                      ...\n",
       "6302  D7933558E33BF7D5     A  recommender_system_test\n",
       "6304  DECA5C05A77980A1     A  recommender_system_test\n",
       "6305  32164CC8F884B9A5     A  recommender_system_test\n",
       "6309  7FE6DDDB6C85C934     A  recommender_system_test\n",
       "6318  96BDD55846D1F7F6     A  recommender_system_test\n",
       "\n",
       "[439 rows x 3 columns]"
      ]
     },
     "metadata": {},
     "output_type": "display_data"
    }
   ],
   "source": [
    "set_group_b_eu = set(group_b_eu)\n",
    "set_group_a_users = set(group_a_users)\n",
    "\n",
    "intersection_users = set_group_b_eu.intersection(set_group_a_users)\n",
    "\n",
    "if len(intersection_users) > 0:\n",
    "    print(\"Есть пересечение пользователей между group_b_eu и group_a_users.\")\n",
    "else:\n",
    "    print(\"Нет пересечения пользователей между group_b_eu и group_a_users.\")\n",
    "intersection_df = group_a[group_a['user_id'].isin(intersection_users)]\n",
    "\n",
    "display(intersection_df)"
   ]
  },
  {
   "cell_type": "code",
   "execution_count": 29,
   "id": "2d4a1c09",
   "metadata": {},
   "outputs": [],
   "source": [
    "a_b_rec = participants[participants['ab_test'] == 'recommender_system_test']\n",
    "a_b_rec = a_b_rec[~a_b_rec['user_id'].isin(duplicates_b['user_id'])]\n",
    "a_b_rec = a_b_rec[~a_b_rec['user_id'].isin(intersection_df['user_id'])]"
   ]
  },
  {
   "cell_type": "code",
   "execution_count": 30,
   "id": "1a01f1c2",
   "metadata": {},
   "outputs": [
    {
     "data": {
      "text/html": [
       "<div>\n",
       "<style scoped>\n",
       "    .dataframe tbody tr th:only-of-type {\n",
       "        vertical-align: middle;\n",
       "    }\n",
       "\n",
       "    .dataframe tbody tr th {\n",
       "        vertical-align: top;\n",
       "    }\n",
       "\n",
       "    .dataframe thead th {\n",
       "        text-align: right;\n",
       "    }\n",
       "</style>\n",
       "<table border=\"1\" class=\"dataframe\">\n",
       "  <thead>\n",
       "    <tr style=\"text-align: right;\">\n",
       "      <th></th>\n",
       "      <th>user_id</th>\n",
       "      <th>group</th>\n",
       "      <th>ab_test</th>\n",
       "    </tr>\n",
       "  </thead>\n",
       "  <tbody>\n",
       "    <tr>\n",
       "      <th>0</th>\n",
       "      <td>D1ABA3E2887B6A73</td>\n",
       "      <td>A</td>\n",
       "      <td>recommender_system_test</td>\n",
       "    </tr>\n",
       "    <tr>\n",
       "      <th>1</th>\n",
       "      <td>A7A3664BD6242119</td>\n",
       "      <td>A</td>\n",
       "      <td>recommender_system_test</td>\n",
       "    </tr>\n",
       "    <tr>\n",
       "      <th>2</th>\n",
       "      <td>DABC14FDDFADD29E</td>\n",
       "      <td>A</td>\n",
       "      <td>recommender_system_test</td>\n",
       "    </tr>\n",
       "    <tr>\n",
       "      <th>3</th>\n",
       "      <td>04988C5DF189632E</td>\n",
       "      <td>A</td>\n",
       "      <td>recommender_system_test</td>\n",
       "    </tr>\n",
       "    <tr>\n",
       "      <th>4</th>\n",
       "      <td>482F14783456D21B</td>\n",
       "      <td>B</td>\n",
       "      <td>recommender_system_test</td>\n",
       "    </tr>\n",
       "    <tr>\n",
       "      <th>...</th>\n",
       "      <td>...</td>\n",
       "      <td>...</td>\n",
       "      <td>...</td>\n",
       "    </tr>\n",
       "    <tr>\n",
       "      <th>6696</th>\n",
       "      <td>053FB26D6D49EDDC</td>\n",
       "      <td>A</td>\n",
       "      <td>recommender_system_test</td>\n",
       "    </tr>\n",
       "    <tr>\n",
       "      <th>6697</th>\n",
       "      <td>9D263B8EF15CF188</td>\n",
       "      <td>B</td>\n",
       "      <td>recommender_system_test</td>\n",
       "    </tr>\n",
       "    <tr>\n",
       "      <th>6698</th>\n",
       "      <td>F2FBBA33F37DEC46</td>\n",
       "      <td>A</td>\n",
       "      <td>recommender_system_test</td>\n",
       "    </tr>\n",
       "    <tr>\n",
       "      <th>6699</th>\n",
       "      <td>29C92313A98B1176</td>\n",
       "      <td>B</td>\n",
       "      <td>recommender_system_test</td>\n",
       "    </tr>\n",
       "    <tr>\n",
       "      <th>6700</th>\n",
       "      <td>6715343AFBA285AE</td>\n",
       "      <td>B</td>\n",
       "      <td>recommender_system_test</td>\n",
       "    </tr>\n",
       "  </tbody>\n",
       "</table>\n",
       "<p>5918 rows × 3 columns</p>\n",
       "</div>"
      ],
      "text/plain": [
       "               user_id group                  ab_test\n",
       "0     D1ABA3E2887B6A73     A  recommender_system_test\n",
       "1     A7A3664BD6242119     A  recommender_system_test\n",
       "2     DABC14FDDFADD29E     A  recommender_system_test\n",
       "3     04988C5DF189632E     A  recommender_system_test\n",
       "4     482F14783456D21B     B  recommender_system_test\n",
       "...                ...   ...                      ...\n",
       "6696  053FB26D6D49EDDC     A  recommender_system_test\n",
       "6697  9D263B8EF15CF188     B  recommender_system_test\n",
       "6698  F2FBBA33F37DEC46     A  recommender_system_test\n",
       "6699  29C92313A98B1176     B  recommender_system_test\n",
       "6700  6715343AFBA285AE     B  recommender_system_test\n",
       "\n",
       "[5918 rows x 3 columns]"
      ]
     },
     "metadata": {},
     "output_type": "display_data"
    },
    {
     "name": "stdout",
     "output_type": "stream",
     "text": [
      "<class 'pandas.core.frame.DataFrame'>\n",
      "Int64Index: 5918 entries, 0 to 6700\n",
      "Data columns (total 3 columns):\n",
      " #   Column   Non-Null Count  Dtype \n",
      "---  ------   --------------  ----- \n",
      " 0   user_id  5918 non-null   object\n",
      " 1   group    5918 non-null   object\n",
      " 2   ab_test  5918 non-null   object\n",
      "dtypes: object(3)\n",
      "memory usage: 184.9+ KB\n",
      "Количество дубликатов в датасете: 0\n"
     ]
    }
   ],
   "source": [
    "display(a_b_rec)\n",
    "a_b_rec.info()\n",
    "print(\"Количество дубликатов в датасете:\", a_b_rec.duplicated().sum() )"
   ]
  },
  {
   "cell_type": "code",
   "execution_count": 31,
   "id": "df0d3071",
   "metadata": {},
   "outputs": [
    {
     "name": "stdout",
     "output_type": "stream",
     "text": [
      "Пользователи, которые находятся в обеих группах: Empty DataFrame\n",
      "Columns: [user_id, group, ab_test]\n",
      "Index: []\n"
     ]
    }
   ],
   "source": [
    "print(\"Пользователи, которые находятся в обеих группах:\", a_b_rec[a_b_rec.duplicated(subset='user_id', keep=False)])"
   ]
  },
  {
   "cell_type": "markdown",
   "id": "ba8d9b10",
   "metadata": {},
   "source": [
    "Создаем единый датафрейм с информацией о пользователях."
   ]
  },
  {
   "cell_type": "code",
   "execution_count": 32,
   "id": "fa986910",
   "metadata": {},
   "outputs": [
    {
     "data": {
      "text/html": [
       "<div>\n",
       "<style scoped>\n",
       "    .dataframe tbody tr th:only-of-type {\n",
       "        vertical-align: middle;\n",
       "    }\n",
       "\n",
       "    .dataframe tbody tr th {\n",
       "        vertical-align: top;\n",
       "    }\n",
       "\n",
       "    .dataframe thead th {\n",
       "        text-align: right;\n",
       "    }\n",
       "</style>\n",
       "<table border=\"1\" class=\"dataframe\">\n",
       "  <thead>\n",
       "    <tr style=\"text-align: right;\">\n",
       "      <th></th>\n",
       "      <th>user_id</th>\n",
       "      <th>group</th>\n",
       "      <th>ab_test</th>\n",
       "      <th>first_date</th>\n",
       "      <th>region</th>\n",
       "      <th>device</th>\n",
       "    </tr>\n",
       "  </thead>\n",
       "  <tbody>\n",
       "    <tr>\n",
       "      <th>0</th>\n",
       "      <td>D1ABA3E2887B6A73</td>\n",
       "      <td>A</td>\n",
       "      <td>recommender_system_test</td>\n",
       "      <td>2020-12-07</td>\n",
       "      <td>EU</td>\n",
       "      <td>PC</td>\n",
       "    </tr>\n",
       "    <tr>\n",
       "      <th>1</th>\n",
       "      <td>A7A3664BD6242119</td>\n",
       "      <td>A</td>\n",
       "      <td>recommender_system_test</td>\n",
       "      <td>2020-12-20</td>\n",
       "      <td>EU</td>\n",
       "      <td>iPhone</td>\n",
       "    </tr>\n",
       "    <tr>\n",
       "      <th>2</th>\n",
       "      <td>DABC14FDDFADD29E</td>\n",
       "      <td>A</td>\n",
       "      <td>recommender_system_test</td>\n",
       "      <td>2020-12-08</td>\n",
       "      <td>EU</td>\n",
       "      <td>Mac</td>\n",
       "    </tr>\n",
       "    <tr>\n",
       "      <th>3</th>\n",
       "      <td>04988C5DF189632E</td>\n",
       "      <td>A</td>\n",
       "      <td>recommender_system_test</td>\n",
       "      <td>2020-12-14</td>\n",
       "      <td>EU</td>\n",
       "      <td>iPhone</td>\n",
       "    </tr>\n",
       "    <tr>\n",
       "      <th>4</th>\n",
       "      <td>482F14783456D21B</td>\n",
       "      <td>B</td>\n",
       "      <td>recommender_system_test</td>\n",
       "      <td>2020-12-14</td>\n",
       "      <td>EU</td>\n",
       "      <td>PC</td>\n",
       "    </tr>\n",
       "    <tr>\n",
       "      <th>...</th>\n",
       "      <td>...</td>\n",
       "      <td>...</td>\n",
       "      <td>...</td>\n",
       "      <td>...</td>\n",
       "      <td>...</td>\n",
       "      <td>...</td>\n",
       "    </tr>\n",
       "    <tr>\n",
       "      <th>5913</th>\n",
       "      <td>053FB26D6D49EDDC</td>\n",
       "      <td>A</td>\n",
       "      <td>recommender_system_test</td>\n",
       "      <td>2020-12-10</td>\n",
       "      <td>N.America</td>\n",
       "      <td>Android</td>\n",
       "    </tr>\n",
       "    <tr>\n",
       "      <th>5914</th>\n",
       "      <td>9D263B8EF15CF188</td>\n",
       "      <td>B</td>\n",
       "      <td>recommender_system_test</td>\n",
       "      <td>2020-12-16</td>\n",
       "      <td>N.America</td>\n",
       "      <td>Mac</td>\n",
       "    </tr>\n",
       "    <tr>\n",
       "      <th>5915</th>\n",
       "      <td>F2FBBA33F37DEC46</td>\n",
       "      <td>A</td>\n",
       "      <td>recommender_system_test</td>\n",
       "      <td>2020-12-18</td>\n",
       "      <td>APAC</td>\n",
       "      <td>Mac</td>\n",
       "    </tr>\n",
       "    <tr>\n",
       "      <th>5916</th>\n",
       "      <td>29C92313A98B1176</td>\n",
       "      <td>B</td>\n",
       "      <td>recommender_system_test</td>\n",
       "      <td>2020-12-07</td>\n",
       "      <td>APAC</td>\n",
       "      <td>Android</td>\n",
       "    </tr>\n",
       "    <tr>\n",
       "      <th>5917</th>\n",
       "      <td>6715343AFBA285AE</td>\n",
       "      <td>B</td>\n",
       "      <td>recommender_system_test</td>\n",
       "      <td>2020-12-07</td>\n",
       "      <td>CIS</td>\n",
       "      <td>Android</td>\n",
       "    </tr>\n",
       "  </tbody>\n",
       "</table>\n",
       "<p>5918 rows × 6 columns</p>\n",
       "</div>"
      ],
      "text/plain": [
       "               user_id group                  ab_test first_date     region  \\\n",
       "0     D1ABA3E2887B6A73     A  recommender_system_test 2020-12-07         EU   \n",
       "1     A7A3664BD6242119     A  recommender_system_test 2020-12-20         EU   \n",
       "2     DABC14FDDFADD29E     A  recommender_system_test 2020-12-08         EU   \n",
       "3     04988C5DF189632E     A  recommender_system_test 2020-12-14         EU   \n",
       "4     482F14783456D21B     B  recommender_system_test 2020-12-14         EU   \n",
       "...                ...   ...                      ...        ...        ...   \n",
       "5913  053FB26D6D49EDDC     A  recommender_system_test 2020-12-10  N.America   \n",
       "5914  9D263B8EF15CF188     B  recommender_system_test 2020-12-16  N.America   \n",
       "5915  F2FBBA33F37DEC46     A  recommender_system_test 2020-12-18       APAC   \n",
       "5916  29C92313A98B1176     B  recommender_system_test 2020-12-07       APAC   \n",
       "5917  6715343AFBA285AE     B  recommender_system_test 2020-12-07        CIS   \n",
       "\n",
       "       device  \n",
       "0          PC  \n",
       "1      iPhone  \n",
       "2         Mac  \n",
       "3      iPhone  \n",
       "4          PC  \n",
       "...       ...  \n",
       "5913  Android  \n",
       "5914      Mac  \n",
       "5915      Mac  \n",
       "5916  Android  \n",
       "5917  Android  \n",
       "\n",
       "[5918 rows x 6 columns]"
      ]
     },
     "metadata": {},
     "output_type": "display_data"
    },
    {
     "name": "stdout",
     "output_type": "stream",
     "text": [
      "<class 'pandas.core.frame.DataFrame'>\n",
      "Int64Index: 5918 entries, 0 to 5917\n",
      "Data columns (total 6 columns):\n",
      " #   Column      Non-Null Count  Dtype         \n",
      "---  ------      --------------  -----         \n",
      " 0   user_id     5918 non-null   object        \n",
      " 1   group       5918 non-null   object        \n",
      " 2   ab_test     5918 non-null   object        \n",
      " 3   first_date  5918 non-null   datetime64[ns]\n",
      " 4   region      5918 non-null   object        \n",
      " 5   device      5918 non-null   object        \n",
      "dtypes: datetime64[ns](1), object(5)\n",
      "memory usage: 323.6+ KB\n",
      "Количество дубликатов в датасете: 0\n"
     ]
    }
   ],
   "source": [
    "a_b_rec = a_b_rec.merge(new_users, on = 'user_id', how = 'inner')\n",
    "display(a_b_rec)\n",
    "a_b_rec.info()\n",
    "print(\"Количество дубликатов в датасете:\", a_b_rec.duplicated().sum() )\n",
    "\n"
   ]
  },
  {
   "cell_type": "code",
   "execution_count": 33,
   "id": "6a80c143",
   "metadata": {},
   "outputs": [
    {
     "data": {
      "text/html": [
       "<div>\n",
       "<style scoped>\n",
       "    .dataframe tbody tr th:only-of-type {\n",
       "        vertical-align: middle;\n",
       "    }\n",
       "\n",
       "    .dataframe tbody tr th {\n",
       "        vertical-align: top;\n",
       "    }\n",
       "\n",
       "    .dataframe thead th {\n",
       "        text-align: right;\n",
       "    }\n",
       "</style>\n",
       "<table border=\"1\" class=\"dataframe\">\n",
       "  <thead>\n",
       "    <tr style=\"text-align: right;\">\n",
       "      <th></th>\n",
       "      <th>user_id</th>\n",
       "      <th>group</th>\n",
       "      <th>ab_test</th>\n",
       "      <th>first_date</th>\n",
       "      <th>region</th>\n",
       "      <th>device</th>\n",
       "      <th>event_dt</th>\n",
       "      <th>event_name</th>\n",
       "      <th>details</th>\n",
       "    </tr>\n",
       "  </thead>\n",
       "  <tbody>\n",
       "    <tr>\n",
       "      <th>0</th>\n",
       "      <td>D1ABA3E2887B6A73</td>\n",
       "      <td>A</td>\n",
       "      <td>recommender_system_test</td>\n",
       "      <td>2020-12-07</td>\n",
       "      <td>EU</td>\n",
       "      <td>PC</td>\n",
       "      <td>2020-12-07 14:43:27</td>\n",
       "      <td>purchase</td>\n",
       "      <td>99.99</td>\n",
       "    </tr>\n",
       "    <tr>\n",
       "      <th>1</th>\n",
       "      <td>D1ABA3E2887B6A73</td>\n",
       "      <td>A</td>\n",
       "      <td>recommender_system_test</td>\n",
       "      <td>2020-12-07</td>\n",
       "      <td>EU</td>\n",
       "      <td>PC</td>\n",
       "      <td>2020-12-25 00:04:56</td>\n",
       "      <td>purchase</td>\n",
       "      <td>4.99</td>\n",
       "    </tr>\n",
       "    <tr>\n",
       "      <th>2</th>\n",
       "      <td>D1ABA3E2887B6A73</td>\n",
       "      <td>A</td>\n",
       "      <td>recommender_system_test</td>\n",
       "      <td>2020-12-07</td>\n",
       "      <td>EU</td>\n",
       "      <td>PC</td>\n",
       "      <td>2020-12-07 14:43:29</td>\n",
       "      <td>product_cart</td>\n",
       "      <td>NaN</td>\n",
       "    </tr>\n",
       "    <tr>\n",
       "      <th>3</th>\n",
       "      <td>D1ABA3E2887B6A73</td>\n",
       "      <td>A</td>\n",
       "      <td>recommender_system_test</td>\n",
       "      <td>2020-12-07</td>\n",
       "      <td>EU</td>\n",
       "      <td>PC</td>\n",
       "      <td>2020-12-25 00:04:57</td>\n",
       "      <td>product_cart</td>\n",
       "      <td>NaN</td>\n",
       "    </tr>\n",
       "    <tr>\n",
       "      <th>4</th>\n",
       "      <td>D1ABA3E2887B6A73</td>\n",
       "      <td>A</td>\n",
       "      <td>recommender_system_test</td>\n",
       "      <td>2020-12-07</td>\n",
       "      <td>EU</td>\n",
       "      <td>PC</td>\n",
       "      <td>2020-12-07 14:43:27</td>\n",
       "      <td>product_page</td>\n",
       "      <td>NaN</td>\n",
       "    </tr>\n",
       "    <tr>\n",
       "      <th>...</th>\n",
       "      <td>...</td>\n",
       "      <td>...</td>\n",
       "      <td>...</td>\n",
       "      <td>...</td>\n",
       "      <td>...</td>\n",
       "      <td>...</td>\n",
       "      <td>...</td>\n",
       "      <td>...</td>\n",
       "      <td>...</td>\n",
       "    </tr>\n",
       "    <tr>\n",
       "      <th>21837</th>\n",
       "      <td>6715343AFBA285AE</td>\n",
       "      <td>B</td>\n",
       "      <td>recommender_system_test</td>\n",
       "      <td>2020-12-07</td>\n",
       "      <td>CIS</td>\n",
       "      <td>Android</td>\n",
       "      <td>2020-12-07 10:12:15</td>\n",
       "      <td>login</td>\n",
       "      <td>NaN</td>\n",
       "    </tr>\n",
       "    <tr>\n",
       "      <th>21838</th>\n",
       "      <td>6715343AFBA285AE</td>\n",
       "      <td>B</td>\n",
       "      <td>recommender_system_test</td>\n",
       "      <td>2020-12-07</td>\n",
       "      <td>CIS</td>\n",
       "      <td>Android</td>\n",
       "      <td>2020-12-08 22:51:16</td>\n",
       "      <td>login</td>\n",
       "      <td>NaN</td>\n",
       "    </tr>\n",
       "    <tr>\n",
       "      <th>21839</th>\n",
       "      <td>6715343AFBA285AE</td>\n",
       "      <td>B</td>\n",
       "      <td>recommender_system_test</td>\n",
       "      <td>2020-12-07</td>\n",
       "      <td>CIS</td>\n",
       "      <td>Android</td>\n",
       "      <td>2020-12-09 02:28:03</td>\n",
       "      <td>login</td>\n",
       "      <td>NaN</td>\n",
       "    </tr>\n",
       "    <tr>\n",
       "      <th>21840</th>\n",
       "      <td>6715343AFBA285AE</td>\n",
       "      <td>B</td>\n",
       "      <td>recommender_system_test</td>\n",
       "      <td>2020-12-07</td>\n",
       "      <td>CIS</td>\n",
       "      <td>Android</td>\n",
       "      <td>2020-12-10 22:55:14</td>\n",
       "      <td>login</td>\n",
       "      <td>NaN</td>\n",
       "    </tr>\n",
       "    <tr>\n",
       "      <th>21841</th>\n",
       "      <td>6715343AFBA285AE</td>\n",
       "      <td>B</td>\n",
       "      <td>recommender_system_test</td>\n",
       "      <td>2020-12-07</td>\n",
       "      <td>CIS</td>\n",
       "      <td>Android</td>\n",
       "      <td>2020-12-14 12:40:41</td>\n",
       "      <td>login</td>\n",
       "      <td>NaN</td>\n",
       "    </tr>\n",
       "  </tbody>\n",
       "</table>\n",
       "<p>21842 rows × 9 columns</p>\n",
       "</div>"
      ],
      "text/plain": [
       "                user_id group                  ab_test first_date region  \\\n",
       "0      D1ABA3E2887B6A73     A  recommender_system_test 2020-12-07     EU   \n",
       "1      D1ABA3E2887B6A73     A  recommender_system_test 2020-12-07     EU   \n",
       "2      D1ABA3E2887B6A73     A  recommender_system_test 2020-12-07     EU   \n",
       "3      D1ABA3E2887B6A73     A  recommender_system_test 2020-12-07     EU   \n",
       "4      D1ABA3E2887B6A73     A  recommender_system_test 2020-12-07     EU   \n",
       "...                 ...   ...                      ...        ...    ...   \n",
       "21837  6715343AFBA285AE     B  recommender_system_test 2020-12-07    CIS   \n",
       "21838  6715343AFBA285AE     B  recommender_system_test 2020-12-07    CIS   \n",
       "21839  6715343AFBA285AE     B  recommender_system_test 2020-12-07    CIS   \n",
       "21840  6715343AFBA285AE     B  recommender_system_test 2020-12-07    CIS   \n",
       "21841  6715343AFBA285AE     B  recommender_system_test 2020-12-07    CIS   \n",
       "\n",
       "        device            event_dt    event_name  details  \n",
       "0           PC 2020-12-07 14:43:27      purchase    99.99  \n",
       "1           PC 2020-12-25 00:04:56      purchase     4.99  \n",
       "2           PC 2020-12-07 14:43:29  product_cart      NaN  \n",
       "3           PC 2020-12-25 00:04:57  product_cart      NaN  \n",
       "4           PC 2020-12-07 14:43:27  product_page      NaN  \n",
       "...        ...                 ...           ...      ...  \n",
       "21837  Android 2020-12-07 10:12:15         login      NaN  \n",
       "21838  Android 2020-12-08 22:51:16         login      NaN  \n",
       "21839  Android 2020-12-09 02:28:03         login      NaN  \n",
       "21840  Android 2020-12-10 22:55:14         login      NaN  \n",
       "21841  Android 2020-12-14 12:40:41         login      NaN  \n",
       "\n",
       "[21842 rows x 9 columns]"
      ]
     },
     "metadata": {},
     "output_type": "display_data"
    },
    {
     "name": "stdout",
     "output_type": "stream",
     "text": [
      "<class 'pandas.core.frame.DataFrame'>\n",
      "Int64Index: 21842 entries, 0 to 21841\n",
      "Data columns (total 9 columns):\n",
      " #   Column      Non-Null Count  Dtype         \n",
      "---  ------      --------------  -----         \n",
      " 0   user_id     21842 non-null  object        \n",
      " 1   group       21842 non-null  object        \n",
      " 2   ab_test     21842 non-null  object        \n",
      " 3   first_date  21842 non-null  datetime64[ns]\n",
      " 4   region      21842 non-null  object        \n",
      " 5   device      21842 non-null  object        \n",
      " 6   event_dt    21842 non-null  datetime64[ns]\n",
      " 7   event_name  21842 non-null  object        \n",
      " 8   details     2939 non-null   float64       \n",
      "dtypes: datetime64[ns](2), float64(1), object(6)\n",
      "memory usage: 1.7+ MB\n",
      "Количество дубликатов в датасете: 0\n"
     ]
    }
   ],
   "source": [
    "a_b_rec = a_b_rec.merge(events, on = 'user_id', how = 'inner')\n",
    "display(a_b_rec)\n",
    "a_b_rec.info()\n",
    "print(\"Количество дубликатов в датасете:\", a_b_rec.duplicated().sum())\n"
   ]
  },
  {
   "cell_type": "markdown",
   "id": "4f4594dc",
   "metadata": {},
   "source": [
    "### Вывод\n",
    "Как итог у нас есть два датасета:\n",
    "`marketing_events` - представляет из себя набор маркетинговых кампаний.\n",
    "\n",
    "`a_b_rec` - все данные о пользователях, которые участвуют исключительно в нужном тесте.\n",
    "\n",
    "Я проверил датасеты на отсутствие дубликатов, убедился, что пропуски в них обоснованы, дубликаты отсутствуют. Можно приступать к следующему этапу.\n"
   ]
  },
  {
   "cell_type": "markdown",
   "id": "57172a7c",
   "metadata": {},
   "source": [
    "## Оценю корректность проведения теста c помощью предоставленных данных"
   ]
  },
  {
   "cell_type": "markdown",
   "id": "a32c709a",
   "metadata": {},
   "source": [
    "Для начала вновь обращусь к ТЗ\n",
    "\n",
    "Название теста: `recommender_system_test;`\n",
    "Группы: А (контрольная), B (новая платёжная воронка);\n",
    "\n",
    "Дата запуска: 2020-12-07;\n",
    "\n",
    "Дата остановки набора новых пользователей: 2020-12-21;\n",
    "\n",
    "Дата остановки: 2021-01-04;\n",
    "\n",
    "Аудитория: 15% новых пользователей из региона EU;\n",
    "\n",
    "Назначение теста: тестирование изменений, связанных с внедрением улучшенной рекомендательной системы;\n",
    "\n",
    "Ожидаемое количество участников теста: 6000.\n",
    "\n",
    "Ожидаемый эффект: за 14 дней с момента регистрации в системе пользователи покажут улучшение каждой метрики не менее, чем на 10%:\n",
    "\n",
    "1. Конверсии в просмотр карточек товаров — событие product_page\n",
    "2. Просмотры корзины — product_cart\n",
    "3. Покупки — purchase.\n",
    "\n",
    "Чуть выше я отобрал исключительно участников нужного теста, теперь из было 6701 участник. Буду исследовать по каждому пункту.\n",
    "\n",
    "Начну с временных рамок. \n",
    "\n"
   ]
  },
  {
   "cell_type": "markdown",
   "id": "6376d0e9",
   "metadata": {},
   "source": [
    "### Анализ временных промежутков. \n",
    "Тест был запущен 7 декабря, значит нам не нужны пользователи, которые пришли раньше. Проверим"
   ]
  },
  {
   "cell_type": "code",
   "execution_count": 34,
   "id": "8178f5f4",
   "metadata": {},
   "outputs": [
    {
     "name": "stdout",
     "output_type": "stream",
     "text": [
      "Наиболее ранняя дата регистрации: 2020-12-07 00:00:00\n",
      "Наиболее поздняя дата регистрации 2020-12-21 00:00:00\n",
      "наиболее ранее событие произошло 2020-12-07 00:05:57\n",
      "наиболее позднее событие произошло 2020-12-30 12:42:57\n"
     ]
    }
   ],
   "source": [
    "print('Наиболее ранняя дата регистрации:', a_b_rec['first_date'].min())\n",
    "print('Наиболее поздняя дата регистрации', a_b_rec['first_date'].max())\n",
    "print ('наиболее ранее событие произошло', a_b_rec['event_dt'].min())\n",
    "print ('наиболее позднее событие произошло',a_b_rec['event_dt'].max()) "
   ]
  },
  {
   "cell_type": "markdown",
   "id": "2189652a",
   "metadata": {},
   "source": [
    "**Корректно** - дата регистрации, все пользователи в базе зарегистрировались с момента начала теста. Закончилась регистрация так же согласно предоставленной информации и до окончания теста.\n",
    "\n",
    "**Некорректно** -Тест остановился 1 января, однако последние действия произошли 30 декабря. Это означает, что как минимум последняя когорта пользователей будет изучена всего на 1 неделю, что может сказаться на исследовании.  Например, во праздничных дней пользователи стали использовать сервис чаще, но мы не узнаем - повлиял ли Новый год на пользователей. \n",
    "\n",
    "\n",
    "\n",
    "Проверим время проведения маркетинговых кампаний. Согласно ТЗ нас интересуют пользователи EU.\n"
   ]
  },
  {
   "cell_type": "code",
   "execution_count": 26,
   "id": "7996c565",
   "metadata": {},
   "outputs": [
    {
     "data": {
      "text/html": [
       "<div>\n",
       "<style scoped>\n",
       "    .dataframe tbody tr th:only-of-type {\n",
       "        vertical-align: middle;\n",
       "    }\n",
       "\n",
       "    .dataframe tbody tr th {\n",
       "        vertical-align: top;\n",
       "    }\n",
       "\n",
       "    .dataframe thead th {\n",
       "        text-align: right;\n",
       "    }\n",
       "</style>\n",
       "<table border=\"1\" class=\"dataframe\">\n",
       "  <thead>\n",
       "    <tr style=\"text-align: right;\">\n",
       "      <th></th>\n",
       "      <th>name</th>\n",
       "      <th>regions</th>\n",
       "      <th>start_dt</th>\n",
       "      <th>finish_dt</th>\n",
       "    </tr>\n",
       "  </thead>\n",
       "  <tbody>\n",
       "    <tr>\n",
       "      <th>0</th>\n",
       "      <td>Christmas&amp;New Year Promo</td>\n",
       "      <td>EU, N.America</td>\n",
       "      <td>2020-12-25</td>\n",
       "      <td>2021-01-03</td>\n",
       "    </tr>\n",
       "    <tr>\n",
       "      <th>1</th>\n",
       "      <td>St. Valentine's Day Giveaway</td>\n",
       "      <td>EU, CIS, APAC, N.America</td>\n",
       "      <td>2020-02-14</td>\n",
       "      <td>2020-02-16</td>\n",
       "    </tr>\n",
       "    <tr>\n",
       "      <th>2</th>\n",
       "      <td>St. Patric's Day Promo</td>\n",
       "      <td>EU, N.America</td>\n",
       "      <td>2020-03-17</td>\n",
       "      <td>2020-03-19</td>\n",
       "    </tr>\n",
       "    <tr>\n",
       "      <th>3</th>\n",
       "      <td>Easter Promo</td>\n",
       "      <td>EU, CIS, APAC, N.America</td>\n",
       "      <td>2020-04-12</td>\n",
       "      <td>2020-04-19</td>\n",
       "    </tr>\n",
       "    <tr>\n",
       "      <th>5</th>\n",
       "      <td>Black Friday Ads Campaign</td>\n",
       "      <td>EU, CIS, APAC, N.America</td>\n",
       "      <td>2020-11-26</td>\n",
       "      <td>2020-12-01</td>\n",
       "    </tr>\n",
       "    <tr>\n",
       "      <th>7</th>\n",
       "      <td>Labor day (May 1st) Ads Campaign</td>\n",
       "      <td>EU, CIS, APAC</td>\n",
       "      <td>2020-05-01</td>\n",
       "      <td>2020-05-03</td>\n",
       "    </tr>\n",
       "    <tr>\n",
       "      <th>8</th>\n",
       "      <td>International Women's Day Promo</td>\n",
       "      <td>EU, CIS, APAC</td>\n",
       "      <td>2020-03-08</td>\n",
       "      <td>2020-03-10</td>\n",
       "    </tr>\n",
       "  </tbody>\n",
       "</table>\n",
       "</div>"
      ],
      "text/plain": [
       "                               name                   regions   start_dt  \\\n",
       "0          Christmas&New Year Promo             EU, N.America 2020-12-25   \n",
       "1      St. Valentine's Day Giveaway  EU, CIS, APAC, N.America 2020-02-14   \n",
       "2            St. Patric's Day Promo             EU, N.America 2020-03-17   \n",
       "3                      Easter Promo  EU, CIS, APAC, N.America 2020-04-12   \n",
       "5         Black Friday Ads Campaign  EU, CIS, APAC, N.America 2020-11-26   \n",
       "7  Labor day (May 1st) Ads Campaign             EU, CIS, APAC 2020-05-01   \n",
       "8   International Women's Day Promo             EU, CIS, APAC 2020-03-08   \n",
       "\n",
       "   finish_dt  \n",
       "0 2021-01-03  \n",
       "1 2020-02-16  \n",
       "2 2020-03-19  \n",
       "3 2020-04-19  \n",
       "5 2020-12-01  \n",
       "7 2020-05-03  \n",
       "8 2020-03-10  "
      ]
     },
     "metadata": {},
     "output_type": "display_data"
    }
   ],
   "source": [
    "display(marketing_events[marketing_events['regions'].str.contains('EU')])"
   ]
  },
  {
   "cell_type": "markdown",
   "id": "2b263812",
   "metadata": {},
   "source": [
    "`Christmas & New Year Promo` происходила в момент проведения теста, при этом затрагивала необходимый нам регион. При этом ранее было обозначено, что последние события фиксируются 30 декабря. То есть с одной стороны есть влияние на аудиторию, с другой полноценно его проверить не получится.\n",
    "\n"
   ]
  },
  {
   "cell_type": "markdown",
   "id": "14270067",
   "metadata": {},
   "source": [
    "### Проверка аудитории\n",
    "\n",
    "Согласно ТЗ нам необходимы 15% пользователей из региона EU\n",
    "\n",
    "Для начала проверим, какие есть регионы в датасете.\n"
   ]
  },
  {
   "cell_type": "code",
   "execution_count": 35,
   "id": "3032c470",
   "metadata": {},
   "outputs": [
    {
     "name": "stdout",
     "output_type": "stream",
     "text": [
      "В датасете присутствуют следующие регионы: ['EU' 'N.America' 'APAC' 'CIS']\n"
     ]
    }
   ],
   "source": [
    "print('В датасете присутствуют следующие регионы:', a_b_rec['region'].unique())"
   ]
  },
  {
   "cell_type": "markdown",
   "id": "a16acb96",
   "metadata": {},
   "source": [
    "Как можно увидеть, в самом дататесте, а значит и в тестировании, принимали участия пользователи из нескольких регионов. Для проведения тестирования нам нужна определенная аудитория\n"
   ]
  },
  {
   "cell_type": "code",
   "execution_count": 36,
   "id": "f38426d2",
   "metadata": {},
   "outputs": [
    {
     "data": {
      "text/html": [
       "<div>\n",
       "<style scoped>\n",
       "    .dataframe tbody tr th:only-of-type {\n",
       "        vertical-align: middle;\n",
       "    }\n",
       "\n",
       "    .dataframe tbody tr th {\n",
       "        vertical-align: top;\n",
       "    }\n",
       "\n",
       "    .dataframe thead th {\n",
       "        text-align: right;\n",
       "    }\n",
       "</style>\n",
       "<table border=\"1\" class=\"dataframe\">\n",
       "  <thead>\n",
       "    <tr style=\"text-align: right;\">\n",
       "      <th></th>\n",
       "      <th>user_id</th>\n",
       "      <th>group</th>\n",
       "      <th>ab_test</th>\n",
       "      <th>first_date</th>\n",
       "      <th>region</th>\n",
       "      <th>device</th>\n",
       "      <th>event_dt</th>\n",
       "      <th>event_name</th>\n",
       "      <th>details</th>\n",
       "    </tr>\n",
       "  </thead>\n",
       "  <tbody>\n",
       "    <tr>\n",
       "      <th>0</th>\n",
       "      <td>D1ABA3E2887B6A73</td>\n",
       "      <td>A</td>\n",
       "      <td>recommender_system_test</td>\n",
       "      <td>2020-12-07</td>\n",
       "      <td>EU</td>\n",
       "      <td>PC</td>\n",
       "      <td>2020-12-07 14:43:27</td>\n",
       "      <td>purchase</td>\n",
       "      <td>99.99</td>\n",
       "    </tr>\n",
       "    <tr>\n",
       "      <th>1</th>\n",
       "      <td>D1ABA3E2887B6A73</td>\n",
       "      <td>A</td>\n",
       "      <td>recommender_system_test</td>\n",
       "      <td>2020-12-07</td>\n",
       "      <td>EU</td>\n",
       "      <td>PC</td>\n",
       "      <td>2020-12-25 00:04:56</td>\n",
       "      <td>purchase</td>\n",
       "      <td>4.99</td>\n",
       "    </tr>\n",
       "    <tr>\n",
       "      <th>2</th>\n",
       "      <td>D1ABA3E2887B6A73</td>\n",
       "      <td>A</td>\n",
       "      <td>recommender_system_test</td>\n",
       "      <td>2020-12-07</td>\n",
       "      <td>EU</td>\n",
       "      <td>PC</td>\n",
       "      <td>2020-12-07 14:43:29</td>\n",
       "      <td>product_cart</td>\n",
       "      <td>NaN</td>\n",
       "    </tr>\n",
       "    <tr>\n",
       "      <th>3</th>\n",
       "      <td>D1ABA3E2887B6A73</td>\n",
       "      <td>A</td>\n",
       "      <td>recommender_system_test</td>\n",
       "      <td>2020-12-07</td>\n",
       "      <td>EU</td>\n",
       "      <td>PC</td>\n",
       "      <td>2020-12-25 00:04:57</td>\n",
       "      <td>product_cart</td>\n",
       "      <td>NaN</td>\n",
       "    </tr>\n",
       "    <tr>\n",
       "      <th>4</th>\n",
       "      <td>D1ABA3E2887B6A73</td>\n",
       "      <td>A</td>\n",
       "      <td>recommender_system_test</td>\n",
       "      <td>2020-12-07</td>\n",
       "      <td>EU</td>\n",
       "      <td>PC</td>\n",
       "      <td>2020-12-07 14:43:27</td>\n",
       "      <td>product_page</td>\n",
       "      <td>NaN</td>\n",
       "    </tr>\n",
       "    <tr>\n",
       "      <th>...</th>\n",
       "      <td>...</td>\n",
       "      <td>...</td>\n",
       "      <td>...</td>\n",
       "      <td>...</td>\n",
       "      <td>...</td>\n",
       "      <td>...</td>\n",
       "      <td>...</td>\n",
       "      <td>...</td>\n",
       "      <td>...</td>\n",
       "    </tr>\n",
       "    <tr>\n",
       "      <th>21837</th>\n",
       "      <td>6715343AFBA285AE</td>\n",
       "      <td>B</td>\n",
       "      <td>recommender_system_test</td>\n",
       "      <td>2020-12-07</td>\n",
       "      <td>CIS</td>\n",
       "      <td>Android</td>\n",
       "      <td>2020-12-07 10:12:15</td>\n",
       "      <td>login</td>\n",
       "      <td>NaN</td>\n",
       "    </tr>\n",
       "    <tr>\n",
       "      <th>21838</th>\n",
       "      <td>6715343AFBA285AE</td>\n",
       "      <td>B</td>\n",
       "      <td>recommender_system_test</td>\n",
       "      <td>2020-12-07</td>\n",
       "      <td>CIS</td>\n",
       "      <td>Android</td>\n",
       "      <td>2020-12-08 22:51:16</td>\n",
       "      <td>login</td>\n",
       "      <td>NaN</td>\n",
       "    </tr>\n",
       "    <tr>\n",
       "      <th>21839</th>\n",
       "      <td>6715343AFBA285AE</td>\n",
       "      <td>B</td>\n",
       "      <td>recommender_system_test</td>\n",
       "      <td>2020-12-07</td>\n",
       "      <td>CIS</td>\n",
       "      <td>Android</td>\n",
       "      <td>2020-12-09 02:28:03</td>\n",
       "      <td>login</td>\n",
       "      <td>NaN</td>\n",
       "    </tr>\n",
       "    <tr>\n",
       "      <th>21840</th>\n",
       "      <td>6715343AFBA285AE</td>\n",
       "      <td>B</td>\n",
       "      <td>recommender_system_test</td>\n",
       "      <td>2020-12-07</td>\n",
       "      <td>CIS</td>\n",
       "      <td>Android</td>\n",
       "      <td>2020-12-10 22:55:14</td>\n",
       "      <td>login</td>\n",
       "      <td>NaN</td>\n",
       "    </tr>\n",
       "    <tr>\n",
       "      <th>21841</th>\n",
       "      <td>6715343AFBA285AE</td>\n",
       "      <td>B</td>\n",
       "      <td>recommender_system_test</td>\n",
       "      <td>2020-12-07</td>\n",
       "      <td>CIS</td>\n",
       "      <td>Android</td>\n",
       "      <td>2020-12-14 12:40:41</td>\n",
       "      <td>login</td>\n",
       "      <td>NaN</td>\n",
       "    </tr>\n",
       "  </tbody>\n",
       "</table>\n",
       "<p>21842 rows × 9 columns</p>\n",
       "</div>"
      ],
      "text/plain": [
       "                user_id group                  ab_test first_date region  \\\n",
       "0      D1ABA3E2887B6A73     A  recommender_system_test 2020-12-07     EU   \n",
       "1      D1ABA3E2887B6A73     A  recommender_system_test 2020-12-07     EU   \n",
       "2      D1ABA3E2887B6A73     A  recommender_system_test 2020-12-07     EU   \n",
       "3      D1ABA3E2887B6A73     A  recommender_system_test 2020-12-07     EU   \n",
       "4      D1ABA3E2887B6A73     A  recommender_system_test 2020-12-07     EU   \n",
       "...                 ...   ...                      ...        ...    ...   \n",
       "21837  6715343AFBA285AE     B  recommender_system_test 2020-12-07    CIS   \n",
       "21838  6715343AFBA285AE     B  recommender_system_test 2020-12-07    CIS   \n",
       "21839  6715343AFBA285AE     B  recommender_system_test 2020-12-07    CIS   \n",
       "21840  6715343AFBA285AE     B  recommender_system_test 2020-12-07    CIS   \n",
       "21841  6715343AFBA285AE     B  recommender_system_test 2020-12-07    CIS   \n",
       "\n",
       "        device            event_dt    event_name  details  \n",
       "0           PC 2020-12-07 14:43:27      purchase    99.99  \n",
       "1           PC 2020-12-25 00:04:56      purchase     4.99  \n",
       "2           PC 2020-12-07 14:43:29  product_cart      NaN  \n",
       "3           PC 2020-12-25 00:04:57  product_cart      NaN  \n",
       "4           PC 2020-12-07 14:43:27  product_page      NaN  \n",
       "...        ...                 ...           ...      ...  \n",
       "21837  Android 2020-12-07 10:12:15         login      NaN  \n",
       "21838  Android 2020-12-08 22:51:16         login      NaN  \n",
       "21839  Android 2020-12-09 02:28:03         login      NaN  \n",
       "21840  Android 2020-12-10 22:55:14         login      NaN  \n",
       "21841  Android 2020-12-14 12:40:41         login      NaN  \n",
       "\n",
       "[21842 rows x 9 columns]"
      ]
     },
     "metadata": {},
     "output_type": "display_data"
    },
    {
     "name": "stdout",
     "output_type": "stream",
     "text": [
      "<class 'pandas.core.frame.DataFrame'>\n",
      "Int64Index: 21842 entries, 0 to 21841\n",
      "Data columns (total 9 columns):\n",
      " #   Column      Non-Null Count  Dtype         \n",
      "---  ------      --------------  -----         \n",
      " 0   user_id     21842 non-null  object        \n",
      " 1   group       21842 non-null  object        \n",
      " 2   ab_test     21842 non-null  object        \n",
      " 3   first_date  21842 non-null  datetime64[ns]\n",
      " 4   region      21842 non-null  object        \n",
      " 5   device      21842 non-null  object        \n",
      " 6   event_dt    21842 non-null  datetime64[ns]\n",
      " 7   event_name  21842 non-null  object        \n",
      " 8   details     2939 non-null   float64       \n",
      "dtypes: datetime64[ns](2), float64(1), object(6)\n",
      "memory usage: 1.7+ MB\n"
     ]
    }
   ],
   "source": [
    "display(a_b_rec)\n",
    "a_b_rec.info()"
   ]
  },
  {
   "cell_type": "code",
   "execution_count": 37,
   "id": "375d6315",
   "metadata": {},
   "outputs": [
    {
     "data": {
      "text/html": [
       "<div>\n",
       "<style scoped>\n",
       "    .dataframe tbody tr th:only-of-type {\n",
       "        vertical-align: middle;\n",
       "    }\n",
       "\n",
       "    .dataframe tbody tr th {\n",
       "        vertical-align: top;\n",
       "    }\n",
       "\n",
       "    .dataframe thead th {\n",
       "        text-align: right;\n",
       "    }\n",
       "</style>\n",
       "<table border=\"1\" class=\"dataframe\">\n",
       "  <thead>\n",
       "    <tr style=\"text-align: right;\">\n",
       "      <th></th>\n",
       "      <th>user_id</th>\n",
       "      <th>group</th>\n",
       "      <th>ab_test</th>\n",
       "      <th>first_date</th>\n",
       "      <th>region</th>\n",
       "      <th>device</th>\n",
       "      <th>event_dt</th>\n",
       "      <th>event_name</th>\n",
       "      <th>details</th>\n",
       "    </tr>\n",
       "  </thead>\n",
       "  <tbody>\n",
       "    <tr>\n",
       "      <th>0</th>\n",
       "      <td>D1ABA3E2887B6A73</td>\n",
       "      <td>A</td>\n",
       "      <td>recommender_system_test</td>\n",
       "      <td>2020-12-07</td>\n",
       "      <td>EU</td>\n",
       "      <td>PC</td>\n",
       "      <td>2020-12-07 14:43:27</td>\n",
       "      <td>purchase</td>\n",
       "      <td>99.99</td>\n",
       "    </tr>\n",
       "    <tr>\n",
       "      <th>1</th>\n",
       "      <td>D1ABA3E2887B6A73</td>\n",
       "      <td>A</td>\n",
       "      <td>recommender_system_test</td>\n",
       "      <td>2020-12-07</td>\n",
       "      <td>EU</td>\n",
       "      <td>PC</td>\n",
       "      <td>2020-12-25 00:04:56</td>\n",
       "      <td>purchase</td>\n",
       "      <td>4.99</td>\n",
       "    </tr>\n",
       "    <tr>\n",
       "      <th>2</th>\n",
       "      <td>D1ABA3E2887B6A73</td>\n",
       "      <td>A</td>\n",
       "      <td>recommender_system_test</td>\n",
       "      <td>2020-12-07</td>\n",
       "      <td>EU</td>\n",
       "      <td>PC</td>\n",
       "      <td>2020-12-07 14:43:29</td>\n",
       "      <td>product_cart</td>\n",
       "      <td>NaN</td>\n",
       "    </tr>\n",
       "    <tr>\n",
       "      <th>3</th>\n",
       "      <td>D1ABA3E2887B6A73</td>\n",
       "      <td>A</td>\n",
       "      <td>recommender_system_test</td>\n",
       "      <td>2020-12-07</td>\n",
       "      <td>EU</td>\n",
       "      <td>PC</td>\n",
       "      <td>2020-12-25 00:04:57</td>\n",
       "      <td>product_cart</td>\n",
       "      <td>NaN</td>\n",
       "    </tr>\n",
       "    <tr>\n",
       "      <th>4</th>\n",
       "      <td>D1ABA3E2887B6A73</td>\n",
       "      <td>A</td>\n",
       "      <td>recommender_system_test</td>\n",
       "      <td>2020-12-07</td>\n",
       "      <td>EU</td>\n",
       "      <td>PC</td>\n",
       "      <td>2020-12-07 14:43:27</td>\n",
       "      <td>product_page</td>\n",
       "      <td>NaN</td>\n",
       "    </tr>\n",
       "    <tr>\n",
       "      <th>...</th>\n",
       "      <td>...</td>\n",
       "      <td>...</td>\n",
       "      <td>...</td>\n",
       "      <td>...</td>\n",
       "      <td>...</td>\n",
       "      <td>...</td>\n",
       "      <td>...</td>\n",
       "      <td>...</td>\n",
       "      <td>...</td>\n",
       "    </tr>\n",
       "    <tr>\n",
       "      <th>20559</th>\n",
       "      <td>80712ED4EA1B52A5</td>\n",
       "      <td>A</td>\n",
       "      <td>recommender_system_test</td>\n",
       "      <td>2020-12-14</td>\n",
       "      <td>EU</td>\n",
       "      <td>Android</td>\n",
       "      <td>2020-12-15 20:10:06</td>\n",
       "      <td>product_page</td>\n",
       "      <td>NaN</td>\n",
       "    </tr>\n",
       "    <tr>\n",
       "      <th>20560</th>\n",
       "      <td>80712ED4EA1B52A5</td>\n",
       "      <td>A</td>\n",
       "      <td>recommender_system_test</td>\n",
       "      <td>2020-12-14</td>\n",
       "      <td>EU</td>\n",
       "      <td>Android</td>\n",
       "      <td>2020-12-20 20:01:34</td>\n",
       "      <td>product_page</td>\n",
       "      <td>NaN</td>\n",
       "    </tr>\n",
       "    <tr>\n",
       "      <th>20561</th>\n",
       "      <td>80712ED4EA1B52A5</td>\n",
       "      <td>A</td>\n",
       "      <td>recommender_system_test</td>\n",
       "      <td>2020-12-14</td>\n",
       "      <td>EU</td>\n",
       "      <td>Android</td>\n",
       "      <td>2020-12-14 05:48:50</td>\n",
       "      <td>login</td>\n",
       "      <td>NaN</td>\n",
       "    </tr>\n",
       "    <tr>\n",
       "      <th>20562</th>\n",
       "      <td>80712ED4EA1B52A5</td>\n",
       "      <td>A</td>\n",
       "      <td>recommender_system_test</td>\n",
       "      <td>2020-12-14</td>\n",
       "      <td>EU</td>\n",
       "      <td>Android</td>\n",
       "      <td>2020-12-15 20:10:03</td>\n",
       "      <td>login</td>\n",
       "      <td>NaN</td>\n",
       "    </tr>\n",
       "    <tr>\n",
       "      <th>20563</th>\n",
       "      <td>80712ED4EA1B52A5</td>\n",
       "      <td>A</td>\n",
       "      <td>recommender_system_test</td>\n",
       "      <td>2020-12-14</td>\n",
       "      <td>EU</td>\n",
       "      <td>Android</td>\n",
       "      <td>2020-12-20 20:01:32</td>\n",
       "      <td>login</td>\n",
       "      <td>NaN</td>\n",
       "    </tr>\n",
       "  </tbody>\n",
       "</table>\n",
       "<p>20564 rows × 9 columns</p>\n",
       "</div>"
      ],
      "text/plain": [
       "                user_id group                  ab_test first_date region  \\\n",
       "0      D1ABA3E2887B6A73     A  recommender_system_test 2020-12-07     EU   \n",
       "1      D1ABA3E2887B6A73     A  recommender_system_test 2020-12-07     EU   \n",
       "2      D1ABA3E2887B6A73     A  recommender_system_test 2020-12-07     EU   \n",
       "3      D1ABA3E2887B6A73     A  recommender_system_test 2020-12-07     EU   \n",
       "4      D1ABA3E2887B6A73     A  recommender_system_test 2020-12-07     EU   \n",
       "...                 ...   ...                      ...        ...    ...   \n",
       "20559  80712ED4EA1B52A5     A  recommender_system_test 2020-12-14     EU   \n",
       "20560  80712ED4EA1B52A5     A  recommender_system_test 2020-12-14     EU   \n",
       "20561  80712ED4EA1B52A5     A  recommender_system_test 2020-12-14     EU   \n",
       "20562  80712ED4EA1B52A5     A  recommender_system_test 2020-12-14     EU   \n",
       "20563  80712ED4EA1B52A5     A  recommender_system_test 2020-12-14     EU   \n",
       "\n",
       "        device            event_dt    event_name  details  \n",
       "0           PC 2020-12-07 14:43:27      purchase    99.99  \n",
       "1           PC 2020-12-25 00:04:56      purchase     4.99  \n",
       "2           PC 2020-12-07 14:43:29  product_cart      NaN  \n",
       "3           PC 2020-12-25 00:04:57  product_cart      NaN  \n",
       "4           PC 2020-12-07 14:43:27  product_page      NaN  \n",
       "...        ...                 ...           ...      ...  \n",
       "20559  Android 2020-12-15 20:10:06  product_page      NaN  \n",
       "20560  Android 2020-12-20 20:01:34  product_page      NaN  \n",
       "20561  Android 2020-12-14 05:48:50         login      NaN  \n",
       "20562  Android 2020-12-15 20:10:03         login      NaN  \n",
       "20563  Android 2020-12-20 20:01:32         login      NaN  \n",
       "\n",
       "[20564 rows x 9 columns]"
      ]
     },
     "metadata": {},
     "output_type": "display_data"
    },
    {
     "name": "stdout",
     "output_type": "stream",
     "text": [
      "<class 'pandas.core.frame.DataFrame'>\n",
      "Int64Index: 20564 entries, 0 to 20563\n",
      "Data columns (total 9 columns):\n",
      " #   Column      Non-Null Count  Dtype         \n",
      "---  ------      --------------  -----         \n",
      " 0   user_id     20564 non-null  object        \n",
      " 1   group       20564 non-null  object        \n",
      " 2   ab_test     20564 non-null  object        \n",
      " 3   first_date  20564 non-null  datetime64[ns]\n",
      " 4   region      20564 non-null  object        \n",
      " 5   device      20564 non-null  object        \n",
      " 6   event_dt    20564 non-null  datetime64[ns]\n",
      " 7   event_name  20564 non-null  object        \n",
      " 8   details     2804 non-null   float64       \n",
      "dtypes: datetime64[ns](2), float64(1), object(6)\n",
      "memory usage: 1.6+ MB\n"
     ]
    }
   ],
   "source": [
    "a_b_rec = a_b_rec[a_b_rec['region'] == 'EU']\n",
    "display(a_b_rec)\n",
    "a_b_rec.info()"
   ]
  },
  {
   "cell_type": "markdown",
   "id": "79406344",
   "metadata": {},
   "source": [
    "В ТЗ указано, что аудитория это 15% от новых пользователей из региона. Согласно описанию данных, в датасете с пользователями были записаны **все пользователи**, зарегистрировавшиеся в интернет-магазине в период с 7 по 21 декабря 2020 года. \n",
    "Ожидаемая аудитория пользователей - 6000 участников.\n"
   ]
  },
  {
   "cell_type": "code",
   "execution_count": 38,
   "id": "c8fde97d",
   "metadata": {},
   "outputs": [
    {
     "name": "stdout",
     "output_type": "stream",
     "text": [
      "Количество уникальных пользователей: 3050\n"
     ]
    }
   ],
   "source": [
    "print(\"Количество уникальных пользователей:\", a_b_rec['user_id'].nunique())"
   ]
  },
  {
   "cell_type": "code",
   "execution_count": 39,
   "id": "b7a42027",
   "metadata": {},
   "outputs": [
    {
     "name": "stdout",
     "output_type": "stream",
     "text": [
      "<class 'pandas.core.frame.DataFrame'>\n",
      "Int64Index: 440317 entries, 0 to 440316\n",
      "Data columns (total 7 columns):\n",
      " #   Column      Non-Null Count   Dtype         \n",
      "---  ------      --------------   -----         \n",
      " 0   user_id     440317 non-null  object        \n",
      " 1   first_date  440317 non-null  datetime64[ns]\n",
      " 2   region      440317 non-null  object        \n",
      " 3   device      440317 non-null  object        \n",
      " 4   event_dt    440317 non-null  datetime64[ns]\n",
      " 5   event_name  440317 non-null  object        \n",
      " 6   details     62740 non-null   float64       \n",
      "dtypes: datetime64[ns](2), float64(1), object(4)\n",
      "memory usage: 26.9+ MB\n"
     ]
    }
   ],
   "source": [
    "a_b_rec_all = new_users\n",
    "a_b_rec_all = a_b_rec_all.merge(events, on = 'user_id', how = 'inner') \n",
    "a_b_rec_all.info()"
   ]
  },
  {
   "cell_type": "code",
   "execution_count": 40,
   "id": "d4411452",
   "metadata": {},
   "outputs": [],
   "source": [
    "a_b_rec_all = a_b_rec_all[a_b_rec_all['first_date'] <= '2020-12-21']"
   ]
  },
  {
   "cell_type": "code",
   "execution_count": 41,
   "id": "9b80d6da",
   "metadata": {},
   "outputs": [
    {
     "name": "stdout",
     "output_type": "stream",
     "text": [
      "Наиболее ранняя дата регистрации: 2020-12-07 00:00:00\n",
      "Наиболее поздняя дата регистрации 2020-12-21 00:00:00\n",
      "наиболее ранее событие произошло 2020-12-07 00:00:33\n",
      "наиболее позднее событие произошло 2020-12-30 23:36:33\n"
     ]
    }
   ],
   "source": [
    "print('Наиболее ранняя дата регистрации:', a_b_rec_all['first_date'].min())\n",
    "print('Наиболее поздняя дата регистрации', a_b_rec_all['first_date'].max())\n",
    "print ('наиболее ранее событие произошло', a_b_rec_all['event_dt'].min())\n",
    "print ('наиболее позднее событие произошло',a_b_rec_all['event_dt'].max()) "
   ]
  },
  {
   "cell_type": "code",
   "execution_count": 42,
   "id": "a46f0bc6",
   "metadata": {},
   "outputs": [
    {
     "name": "stdout",
     "output_type": "stream",
     "text": [
      "Доля пользователей из EU составляет в изначальном датасете: 7.73 %\n"
     ]
    }
   ],
   "source": [
    "print('Доля пользователей из EU составляет в изначальном датасете:', round(a_b_rec['user_id'].nunique() / a_b_rec_all[a_b_rec_all['region'] == 'EU']['user_id'].nunique() * 100, 2), '%')"
   ]
  },
  {
   "cell_type": "code",
   "execution_count": 43,
   "id": "f0cfbbb4",
   "metadata": {},
   "outputs": [
    {
     "data": {
      "text/plain": [
       "39466"
      ]
     },
     "execution_count": 43,
     "metadata": {},
     "output_type": "execute_result"
    }
   ],
   "source": [
    "a_b_rec_all[a_b_rec_all['region'] == 'EU']['user_id'].nunique()"
   ]
  },
  {
   "cell_type": "markdown",
   "id": "9845097c",
   "metadata": {},
   "source": [
    "Доля не соответствует ТЗ - 7.73\n",
    "\n",
    "Проверю распределение групп в тз. "
   ]
  },
  {
   "cell_type": "code",
   "execution_count": 44,
   "id": "4a9d19eb",
   "metadata": {},
   "outputs": [
    {
     "name": "stdout",
     "output_type": "stream",
     "text": [
      "A    2279\n",
      "B     771\n",
      "Name: group, dtype: int64\n",
      "Соотношение группы A и группы B к общему количеству составляет: 74.72% и 25.28% соответственно.\n"
     ]
    }
   ],
   "source": [
    "users_group = a_b_rec.loc[:, [\"user_id\", \"group\"]]\n",
    "users_group = users_group.drop_duplicates() \n",
    "group_counts = users_group['group'].value_counts()\n",
    "\n",
    "count_A = group_counts.get('A', 0)\n",
    "count_B = group_counts.get('B', 0)\n",
    "\n",
    "total_rows = len(users_group)\n",
    "\n",
    "ratio_A = count_A / total_rows\n",
    "ratio_B = count_B / total_rows\n",
    "\n",
    "# Форматируем вывод для удобочитаемости.\n",
    "output = f\"Соотношение группы A и группы B к общему количеству составляет: {ratio_A:.2%} и {ratio_B:.2%} соответственно.\"\n",
    "print(group_counts)\n",
    "# Выводим результат.\n",
    "print(output)"
   ]
  },
  {
   "cell_type": "markdown",
   "id": "b840dea2",
   "metadata": {},
   "source": [
    "Как можно увидеть, распределение групп крайне **неравномерно**, разница почти в 3 раза. "
   ]
  },
  {
   "cell_type": "markdown",
   "id": "d2773701",
   "metadata": {},
   "source": [
    "Согласно ТЗ, ожидаемый эффект: за 14 дней с момента регистрации пользователи покажут улучшение каждой метрики не менее, чем на 10%. Для этого отфильтруем пользователей, пользовавшихся сервисом меньше двух недель."
   ]
  },
  {
   "cell_type": "code",
   "execution_count": 45,
   "id": "2be292c0",
   "metadata": {},
   "outputs": [
    {
     "data": {
      "text/html": [
       "<div>\n",
       "<style scoped>\n",
       "    .dataframe tbody tr th:only-of-type {\n",
       "        vertical-align: middle;\n",
       "    }\n",
       "\n",
       "    .dataframe tbody tr th {\n",
       "        vertical-align: top;\n",
       "    }\n",
       "\n",
       "    .dataframe thead th {\n",
       "        text-align: right;\n",
       "    }\n",
       "</style>\n",
       "<table border=\"1\" class=\"dataframe\">\n",
       "  <thead>\n",
       "    <tr style=\"text-align: right;\">\n",
       "      <th></th>\n",
       "      <th>user_id</th>\n",
       "      <th>group</th>\n",
       "      <th>ab_test</th>\n",
       "      <th>first_date</th>\n",
       "      <th>region</th>\n",
       "      <th>device</th>\n",
       "      <th>event_dt</th>\n",
       "      <th>event_name</th>\n",
       "      <th>details</th>\n",
       "      <th>day_event_dt</th>\n",
       "      <th>dt_delta</th>\n",
       "    </tr>\n",
       "  </thead>\n",
       "  <tbody>\n",
       "    <tr>\n",
       "      <th>0</th>\n",
       "      <td>D1ABA3E2887B6A73</td>\n",
       "      <td>A</td>\n",
       "      <td>recommender_system_test</td>\n",
       "      <td>2020-12-07</td>\n",
       "      <td>EU</td>\n",
       "      <td>PC</td>\n",
       "      <td>2020-12-07 14:43:27</td>\n",
       "      <td>purchase</td>\n",
       "      <td>99.99</td>\n",
       "      <td>2020-12-07</td>\n",
       "      <td>0 days</td>\n",
       "    </tr>\n",
       "    <tr>\n",
       "      <th>2</th>\n",
       "      <td>D1ABA3E2887B6A73</td>\n",
       "      <td>A</td>\n",
       "      <td>recommender_system_test</td>\n",
       "      <td>2020-12-07</td>\n",
       "      <td>EU</td>\n",
       "      <td>PC</td>\n",
       "      <td>2020-12-07 14:43:29</td>\n",
       "      <td>product_cart</td>\n",
       "      <td>NaN</td>\n",
       "      <td>2020-12-07</td>\n",
       "      <td>0 days</td>\n",
       "    </tr>\n",
       "    <tr>\n",
       "      <th>4</th>\n",
       "      <td>D1ABA3E2887B6A73</td>\n",
       "      <td>A</td>\n",
       "      <td>recommender_system_test</td>\n",
       "      <td>2020-12-07</td>\n",
       "      <td>EU</td>\n",
       "      <td>PC</td>\n",
       "      <td>2020-12-07 14:43:27</td>\n",
       "      <td>product_page</td>\n",
       "      <td>NaN</td>\n",
       "      <td>2020-12-07</td>\n",
       "      <td>0 days</td>\n",
       "    </tr>\n",
       "    <tr>\n",
       "      <th>6</th>\n",
       "      <td>D1ABA3E2887B6A73</td>\n",
       "      <td>A</td>\n",
       "      <td>recommender_system_test</td>\n",
       "      <td>2020-12-07</td>\n",
       "      <td>EU</td>\n",
       "      <td>PC</td>\n",
       "      <td>2020-12-07 14:43:27</td>\n",
       "      <td>login</td>\n",
       "      <td>NaN</td>\n",
       "      <td>2020-12-07</td>\n",
       "      <td>0 days</td>\n",
       "    </tr>\n",
       "    <tr>\n",
       "      <th>8</th>\n",
       "      <td>A7A3664BD6242119</td>\n",
       "      <td>A</td>\n",
       "      <td>recommender_system_test</td>\n",
       "      <td>2020-12-20</td>\n",
       "      <td>EU</td>\n",
       "      <td>iPhone</td>\n",
       "      <td>2020-12-20 15:46:06</td>\n",
       "      <td>product_page</td>\n",
       "      <td>NaN</td>\n",
       "      <td>2020-12-20</td>\n",
       "      <td>0 days</td>\n",
       "    </tr>\n",
       "    <tr>\n",
       "      <th>...</th>\n",
       "      <td>...</td>\n",
       "      <td>...</td>\n",
       "      <td>...</td>\n",
       "      <td>...</td>\n",
       "      <td>...</td>\n",
       "      <td>...</td>\n",
       "      <td>...</td>\n",
       "      <td>...</td>\n",
       "      <td>...</td>\n",
       "      <td>...</td>\n",
       "      <td>...</td>\n",
       "    </tr>\n",
       "    <tr>\n",
       "      <th>20559</th>\n",
       "      <td>80712ED4EA1B52A5</td>\n",
       "      <td>A</td>\n",
       "      <td>recommender_system_test</td>\n",
       "      <td>2020-12-14</td>\n",
       "      <td>EU</td>\n",
       "      <td>Android</td>\n",
       "      <td>2020-12-15 20:10:06</td>\n",
       "      <td>product_page</td>\n",
       "      <td>NaN</td>\n",
       "      <td>2020-12-15</td>\n",
       "      <td>1 days</td>\n",
       "    </tr>\n",
       "    <tr>\n",
       "      <th>20560</th>\n",
       "      <td>80712ED4EA1B52A5</td>\n",
       "      <td>A</td>\n",
       "      <td>recommender_system_test</td>\n",
       "      <td>2020-12-14</td>\n",
       "      <td>EU</td>\n",
       "      <td>Android</td>\n",
       "      <td>2020-12-20 20:01:34</td>\n",
       "      <td>product_page</td>\n",
       "      <td>NaN</td>\n",
       "      <td>2020-12-20</td>\n",
       "      <td>6 days</td>\n",
       "    </tr>\n",
       "    <tr>\n",
       "      <th>20561</th>\n",
       "      <td>80712ED4EA1B52A5</td>\n",
       "      <td>A</td>\n",
       "      <td>recommender_system_test</td>\n",
       "      <td>2020-12-14</td>\n",
       "      <td>EU</td>\n",
       "      <td>Android</td>\n",
       "      <td>2020-12-14 05:48:50</td>\n",
       "      <td>login</td>\n",
       "      <td>NaN</td>\n",
       "      <td>2020-12-14</td>\n",
       "      <td>0 days</td>\n",
       "    </tr>\n",
       "    <tr>\n",
       "      <th>20562</th>\n",
       "      <td>80712ED4EA1B52A5</td>\n",
       "      <td>A</td>\n",
       "      <td>recommender_system_test</td>\n",
       "      <td>2020-12-14</td>\n",
       "      <td>EU</td>\n",
       "      <td>Android</td>\n",
       "      <td>2020-12-15 20:10:03</td>\n",
       "      <td>login</td>\n",
       "      <td>NaN</td>\n",
       "      <td>2020-12-15</td>\n",
       "      <td>1 days</td>\n",
       "    </tr>\n",
       "    <tr>\n",
       "      <th>20563</th>\n",
       "      <td>80712ED4EA1B52A5</td>\n",
       "      <td>A</td>\n",
       "      <td>recommender_system_test</td>\n",
       "      <td>2020-12-14</td>\n",
       "      <td>EU</td>\n",
       "      <td>Android</td>\n",
       "      <td>2020-12-20 20:01:32</td>\n",
       "      <td>login</td>\n",
       "      <td>NaN</td>\n",
       "      <td>2020-12-20</td>\n",
       "      <td>6 days</td>\n",
       "    </tr>\n",
       "  </tbody>\n",
       "</table>\n",
       "<p>20034 rows × 11 columns</p>\n",
       "</div>"
      ],
      "text/plain": [
       "                user_id group                  ab_test first_date region  \\\n",
       "0      D1ABA3E2887B6A73     A  recommender_system_test 2020-12-07     EU   \n",
       "2      D1ABA3E2887B6A73     A  recommender_system_test 2020-12-07     EU   \n",
       "4      D1ABA3E2887B6A73     A  recommender_system_test 2020-12-07     EU   \n",
       "6      D1ABA3E2887B6A73     A  recommender_system_test 2020-12-07     EU   \n",
       "8      A7A3664BD6242119     A  recommender_system_test 2020-12-20     EU   \n",
       "...                 ...   ...                      ...        ...    ...   \n",
       "20559  80712ED4EA1B52A5     A  recommender_system_test 2020-12-14     EU   \n",
       "20560  80712ED4EA1B52A5     A  recommender_system_test 2020-12-14     EU   \n",
       "20561  80712ED4EA1B52A5     A  recommender_system_test 2020-12-14     EU   \n",
       "20562  80712ED4EA1B52A5     A  recommender_system_test 2020-12-14     EU   \n",
       "20563  80712ED4EA1B52A5     A  recommender_system_test 2020-12-14     EU   \n",
       "\n",
       "        device            event_dt    event_name  details day_event_dt  \\\n",
       "0           PC 2020-12-07 14:43:27      purchase    99.99   2020-12-07   \n",
       "2           PC 2020-12-07 14:43:29  product_cart      NaN   2020-12-07   \n",
       "4           PC 2020-12-07 14:43:27  product_page      NaN   2020-12-07   \n",
       "6           PC 2020-12-07 14:43:27         login      NaN   2020-12-07   \n",
       "8       iPhone 2020-12-20 15:46:06  product_page      NaN   2020-12-20   \n",
       "...        ...                 ...           ...      ...          ...   \n",
       "20559  Android 2020-12-15 20:10:06  product_page      NaN   2020-12-15   \n",
       "20560  Android 2020-12-20 20:01:34  product_page      NaN   2020-12-20   \n",
       "20561  Android 2020-12-14 05:48:50         login      NaN   2020-12-14   \n",
       "20562  Android 2020-12-15 20:10:03         login      NaN   2020-12-15   \n",
       "20563  Android 2020-12-20 20:01:32         login      NaN   2020-12-20   \n",
       "\n",
       "      dt_delta  \n",
       "0       0 days  \n",
       "2       0 days  \n",
       "4       0 days  \n",
       "6       0 days  \n",
       "8       0 days  \n",
       "...        ...  \n",
       "20559   1 days  \n",
       "20560   6 days  \n",
       "20561   0 days  \n",
       "20562   1 days  \n",
       "20563   6 days  \n",
       "\n",
       "[20034 rows x 11 columns]"
      ]
     },
     "execution_count": 45,
     "metadata": {},
     "output_type": "execute_result"
    }
   ],
   "source": [
    "a_b_rec['day_event_dt'] = a_b_rec['event_dt'].dt.date\n",
    "a_b_rec['day_event_dt'] = pd.to_datetime(a_b_rec['day_event_dt'])\n",
    "a_b_rec['dt_delta'] = a_b_rec['day_event_dt'] - a_b_rec['first_date']\n",
    "a_b_rec = a_b_rec[a_b_rec['dt_delta'] <= pd.Timedelta(days=14)]\n",
    "a_b_rec"
   ]
  },
  {
   "cell_type": "markdown",
   "id": "0d100010",
   "metadata": {},
   "source": [
    "### Вывод\n",
    "\n",
    "При формировании групп согласно ТЗ нарушены множество пунктов:\n",
    "1. В датасете отсутствуют события с 31 декабря и до окончания теста.\n",
    "2. В тестировании принимали участия не только пользователи из Европы.\n",
    "3. Общее число пользователей из Европы не соответствуют запланированному в ТЗ. Уменьшать его до 15% ухудшит ситуацию.\n",
    "4. Группы распределены неравномерно. При допущении в отклонении на 1-2% я вижу, что группа В меньше практически в 3 раза. \n",
    "\n",
    "Все это являются крайне ошибочными вводными для проведения тестирования.\n"
   ]
  },
  {
   "cell_type": "markdown",
   "id": "0add8a4c",
   "metadata": {},
   "source": [
    "## Исследовательский анализ данных\n",
    "\n",
    "Для начала изучу количество событий на пользователя в двух выборках."
   ]
  },
  {
   "cell_type": "code",
   "execution_count": 46,
   "id": "e4cdb6d4",
   "metadata": {},
   "outputs": [
    {
     "data": {
      "image/png": "[encoded data removed]",
      "text/plain": [
       "<Figure size 800x600 with 1 Axes>"
      ]
     },
     "metadata": {},
     "output_type": "display_data"
    }
   ],
   "source": [
    "events_per_user = a_b_rec.groupby(['group', 'user_id'])['event_name'].count().reset_index()\n",
    "\n",
    "# Построим ящики с усами для каждой группы.\n",
    "plt.figure(figsize=(8, 6))\n",
    "sns.boxplot(x='group', y='event_name', data=events_per_user)\n",
    "plt.title('Ящик с усами количества событий на пользователя')\n",
    "plt.xlabel('Группа')\n",
    "plt.ylabel('Количество событий на пользователя')\n",
    "plt.show()"
   ]
  },
  {
   "cell_type": "markdown",
   "id": "c6f4b704",
   "metadata": {},
   "source": [
    "Как можно увидеть, контрольная группа совершала больше действий. Медианное значение 6 против 4.\n",
    "\n",
    "Изучим как распределялись события по дням.\n",
    "\n"
   ]
  },
  {
   "cell_type": "code",
   "execution_count": 48,
   "id": "e01ae37f",
   "metadata": {},
   "outputs": [
    {
     "data": {
      "application/vnd.plotly.v1+json": {
       "config": {
        "plotlyServerURL": "https://plot.ly"
       },
       "data": [
        {
         "alignmentgroup": "True",
         "hovertemplate": "День : %{x} <br>Количество: %{y}",
         "legendgroup": "",
         "marker": {
          "color": "#636efa",
          "pattern": {
           "shape": ""
          }
         },
         "name": "",
         "offsetgroup": "",
         "orientation": "v",
         "showlegend": false,
         "textposition": "auto",
         "type": "bar",
         "x": [
          "2020-12-07T00:00:00",
          "2020-12-08T00:00:00",
          "2020-12-09T00:00:00",
          "2020-12-10T00:00:00",
          "2020-12-11T00:00:00",
          "2020-12-12T00:00:00",
          "2020-12-13T00:00:00",
          "2020-12-14T00:00:00",
          "2020-12-15T00:00:00",
          "2020-12-16T00:00:00",
          "2020-12-17T00:00:00",
          "2020-12-18T00:00:00",
          "2020-12-19T00:00:00",
          "2020-12-20T00:00:00",
          "2020-12-21T00:00:00",
          "2020-12-22T00:00:00",
          "2020-12-23T00:00:00",
          "2020-12-24T00:00:00",
          "2020-12-25T00:00:00",
          "2020-12-26T00:00:00",
          "2020-12-27T00:00:00",
          "2020-12-28T00:00:00",
          "2020-12-29T00:00:00"
         ],
         "xaxis": "x",
         "y": [
          578,
          490,
          620,
          512,
          446,
          488,
          395,
          1107,
          1102,
          1192,
          1276,
          1309,
          1497,
          1571,
          2048,
          1240,
          972,
          811,
          598,
          524,
          513,
          447,
          298
         ],
         "yaxis": "y"
        }
       ],
       "layout": {
        "barmode": "relative",
        "legend": {
         "tracegroupgap": 0
        },
        "template": {
         "data": {
          "bar": [
           {
            "error_x": {
             "color": "#2a3f5f"
            },
            "error_y": {
             "color": "#2a3f5f"
            },
            "marker": {
             "line": {
              "color": "#E5ECF6",
              "width": 0.5
             },
             "pattern": {
              "fillmode": "overlay",
              "size": 10,
              "solidity": 0.2
             }
            },
            "type": "bar"
           }
          ],
          "barpolar": [
           {
            "marker": {
             "line": {
              "color": "#E5ECF6",
              "width": 0.5
             },
             "pattern": {
              "fillmode": "overlay",
              "size": 10,
              "solidity": 0.2
             }
            },
            "type": "barpolar"
           }
          ],
          "carpet": [
           {
            "aaxis": {
             "endlinecolor": "#2a3f5f",
             "gridcolor": "white",
             "linecolor": "white",
             "minorgridcolor": "white",
             "startlinecolor": "#2a3f5f"
            },
            "baxis": {
             "endlinecolor": "#2a3f5f",
             "gridcolor": "white",
             "linecolor": "white",
             "minorgridcolor": "white",
             "startlinecolor": "#2a3f5f"
            },
            "type": "carpet"
           }
          ],
          "choropleth": [
           {
            "colorbar": {
             "outlinewidth": 0,
             "ticks": ""
            },
            "type": "choropleth"
           }
          ],
          "contour": [
           {
            "colorbar": {
             "outlinewidth": 0,
             "ticks": ""
            },
            "colorscale": [
             [
              0,
              "#0d0887"
             ],
             [
              0.1111111111111111,
              "#46039f"
             ],
             [
              0.2222222222222222,
              "#7201a8"
             ],
             [
              0.3333333333333333,
              "#9c179e"
             ],
             [
              0.4444444444444444,
              "#bd3786"
             ],
             [
              0.5555555555555556,
              "#d8576b"
             ],
             [
              0.6666666666666666,
              "#ed7953"
             ],
             [
              0.7777777777777778,
              "#fb9f3a"
             ],
             [
              0.8888888888888888,
              "#fdca26"
             ],
             [
              1,
              "#f0f921"
             ]
            ],
            "type": "contour"
           }
          ],
          "contourcarpet": [
           {
            "colorbar": {
             "outlinewidth": 0,
             "ticks": ""
            },
            "type": "contourcarpet"
           }
          ],
          "heatmap": [
           {
            "colorbar": {
             "outlinewidth": 0,
             "ticks": ""
            },
            "colorscale": [
             [
              0,
              "#0d0887"
             ],
             [
              0.1111111111111111,
              "#46039f"
             ],
             [
              0.2222222222222222,
              "#7201a8"
             ],
             [
              0.3333333333333333,
              "#9c179e"
             ],
             [
              0.4444444444444444,
              "#bd3786"
             ],
             [
              0.5555555555555556,
              "#d8576b"
             ],
             [
              0.6666666666666666,
              "#ed7953"
             ],
             [
              0.7777777777777778,
              "#fb9f3a"
             ],
             [
              0.8888888888888888,
              "#fdca26"
             ],
             [
              1,
              "#f0f921"
             ]
            ],
            "type": "heatmap"
           }
          ],
          "heatmapgl": [
           {
            "colorbar": {
             "outlinewidth": 0,
             "ticks": ""
            },
            "colorscale": [
             [
              0,
              "#0d0887"
             ],
             [
              0.1111111111111111,
              "#46039f"
             ],
             [
              0.2222222222222222,
              "#7201a8"
             ],
             [
              0.3333333333333333,
              "#9c179e"
             ],
             [
              0.4444444444444444,
              "#bd3786"
             ],
             [
              0.5555555555555556,
              "#d8576b"
             ],
             [
              0.6666666666666666,
              "#ed7953"
             ],
             [
              0.7777777777777778,
              "#fb9f3a"
             ],
             [
              0.8888888888888888,
              "#fdca26"
             ],
             [
              1,
              "#f0f921"
             ]
            ],
            "type": "heatmapgl"
           }
          ],
          "histogram": [
           {
            "marker": {
             "pattern": {
              "fillmode": "overlay",
              "size": 10,
              "solidity": 0.2
             }
            },
            "type": "histogram"
           }
          ],
          "histogram2d": [
           {
            "colorbar": {
             "outlinewidth": 0,
             "ticks": ""
            },
            "colorscale": [
             [
              0,
              "#0d0887"
             ],
             [
              0.1111111111111111,
              "#46039f"
             ],
             [
              0.2222222222222222,
              "#7201a8"
             ],
             [
              0.3333333333333333,
              "#9c179e"
             ],
             [
              0.4444444444444444,
              "#bd3786"
             ],
             [
              0.5555555555555556,
              "#d8576b"
             ],
             [
              0.6666666666666666,
              "#ed7953"
             ],
             [
              0.7777777777777778,
              "#fb9f3a"
             ],
             [
              0.8888888888888888,
              "#fdca26"
             ],
             [
              1,
              "#f0f921"
             ]
            ],
            "type": "histogram2d"
           }
          ],
          "histogram2dcontour": [
           {
            "colorbar": {
             "outlinewidth": 0,
             "ticks": ""
            },
            "colorscale": [
             [
              0,
              "#0d0887"
             ],
             [
              0.1111111111111111,
              "#46039f"
             ],
             [
              0.2222222222222222,
              "#7201a8"
             ],
             [
              0.3333333333333333,
              "#9c179e"
             ],
             [
              0.4444444444444444,
              "#bd3786"
             ],
             [
              0.5555555555555556,
              "#d8576b"
             ],
             [
              0.6666666666666666,
              "#ed7953"
             ],
             [
              0.7777777777777778,
              "#fb9f3a"
             ],
             [
              0.8888888888888888,
              "#fdca26"
             ],
             [
              1,
              "#f0f921"
             ]
            ],
            "type": "histogram2dcontour"
           }
          ],
          "mesh3d": [
           {
            "colorbar": {
             "outlinewidth": 0,
             "ticks": ""
            },
            "type": "mesh3d"
           }
          ],
          "parcoords": [
           {
            "line": {
             "colorbar": {
              "outlinewidth": 0,
              "ticks": ""
             }
            },
            "type": "parcoords"
           }
          ],
          "pie": [
           {
            "automargin": true,
            "type": "pie"
           }
          ],
          "scatter": [
           {
            "fillpattern": {
             "fillmode": "overlay",
             "size": 10,
             "solidity": 0.2
            },
            "type": "scatter"
           }
          ],
          "scatter3d": [
           {
            "line": {
             "colorbar": {
              "outlinewidth": 0,
              "ticks": ""
             }
            },
            "marker": {
             "colorbar": {
              "outlinewidth": 0,
              "ticks": ""
             }
            },
            "type": "scatter3d"
           }
          ],
          "scattercarpet": [
           {
            "marker": {
             "colorbar": {
              "outlinewidth": 0,
              "ticks": ""
             }
            },
            "type": "scattercarpet"
           }
          ],
          "scattergeo": [
           {
            "marker": {
             "colorbar": {
              "outlinewidth": 0,
              "ticks": ""
             }
            },
            "type": "scattergeo"
           }
          ],
          "scattergl": [
           {
            "marker": {
             "colorbar": {
              "outlinewidth": 0,
              "ticks": ""
             }
            },
            "type": "scattergl"
           }
          ],
          "scattermapbox": [
           {
            "marker": {
             "colorbar": {
              "outlinewidth": 0,
              "ticks": ""
             }
            },
            "type": "scattermapbox"
           }
          ],
          "scatterpolar": [
           {
            "marker": {
             "colorbar": {
              "outlinewidth": 0,
              "ticks": ""
             }
            },
            "type": "scatterpolar"
           }
          ],
          "scatterpolargl": [
           {
            "marker": {
             "colorbar": {
              "outlinewidth": 0,
              "ticks": ""
             }
            },
            "type": "scatterpolargl"
           }
          ],
          "scatterternary": [
           {
            "marker": {
             "colorbar": {
              "outlinewidth": 0,
              "ticks": ""
             }
            },
            "type": "scatterternary"
           }
          ],
          "surface": [
           {
            "colorbar": {
             "outlinewidth": 0,
             "ticks": ""
            },
            "colorscale": [
             [
              0,
              "#0d0887"
             ],
             [
              0.1111111111111111,
              "#46039f"
             ],
             [
              0.2222222222222222,
              "#7201a8"
             ],
             [
              0.3333333333333333,
              "#9c179e"
             ],
             [
              0.4444444444444444,
              "#bd3786"
             ],
             [
              0.5555555555555556,
              "#d8576b"
             ],
             [
              0.6666666666666666,
              "#ed7953"
             ],
             [
              0.7777777777777778,
              "#fb9f3a"
             ],
             [
              0.8888888888888888,
              "#fdca26"
             ],
             [
              1,
              "#f0f921"
             ]
            ],
            "type": "surface"
           }
          ],
          "table": [
           {
            "cells": {
             "fill": {
              "color": "#EBF0F8"
             },
             "line": {
              "color": "white"
             }
            },
            "header": {
             "fill": {
              "color": "#C8D4E3"
             },
             "line": {
              "color": "white"
             }
            },
            "type": "table"
           }
          ]
         },
         "layout": {
          "annotationdefaults": {
           "arrowcolor": "#2a3f5f",
           "arrowhead": 0,
           "arrowwidth": 1
          },
          "autotypenumbers": "strict",
          "coloraxis": {
           "colorbar": {
            "outlinewidth": 0,
            "ticks": ""
           }
          },
          "colorscale": {
           "diverging": [
            [
             0,
             "#8e0152"
            ],
            [
             0.1,
             "#c51b7d"
            ],
            [
             0.2,
             "#de77ae"
            ],
            [
             0.3,
             "#f1b6da"
            ],
            [
             0.4,
             "#fde0ef"
            ],
            [
             0.5,
             "#f7f7f7"
            ],
            [
             0.6,
             "#e6f5d0"
            ],
            [
             0.7,
             "#b8e186"
            ],
            [
             0.8,
             "#7fbc41"
            ],
            [
             0.9,
             "#4d9221"
            ],
            [
             1,
             "#276419"
            ]
           ],
           "sequential": [
            [
             0,
             "#0d0887"
            ],
            [
             0.1111111111111111,
             "#46039f"
            ],
            [
             0.2222222222222222,
             "#7201a8"
            ],
            [
             0.3333333333333333,
             "#9c179e"
            ],
            [
             0.4444444444444444,
             "#bd3786"
            ],
            [
             0.5555555555555556,
             "#d8576b"
            ],
            [
             0.6666666666666666,
             "#ed7953"
            ],
            [
             0.7777777777777778,
             "#fb9f3a"
            ],
            [
             0.8888888888888888,
             "#fdca26"
            ],
            [
             1,
             "#f0f921"
            ]
           ],
           "sequentialminus": [
            [
             0,
             "#0d0887"
            ],
            [
             0.1111111111111111,
             "#46039f"
            ],
            [
             0.2222222222222222,
             "#7201a8"
            ],
            [
             0.3333333333333333,
             "#9c179e"
            ],
            [
             0.4444444444444444,
             "#bd3786"
            ],
            [
             0.5555555555555556,
             "#d8576b"
            ],
            [
             0.6666666666666666,
             "#ed7953"
            ],
            [
             0.7777777777777778,
             "#fb9f3a"
            ],
            [
             0.8888888888888888,
             "#fdca26"
            ],
            [
             1,
             "#f0f921"
            ]
           ]
          },
          "colorway": [
           "#636efa",
           "#EF553B",
           "#00cc96",
           "#ab63fa",
           "#FFA15A",
           "#19d3f3",
           "#FF6692",
           "#B6E880",
           "#FF97FF",
           "#FECB52"
          ],
          "font": {
           "color": "#2a3f5f"
          },
          "geo": {
           "bgcolor": "white",
           "lakecolor": "white",
           "landcolor": "#E5ECF6",
           "showlakes": true,
           "showland": true,
           "subunitcolor": "white"
          },
          "hoverlabel": {
           "align": "left"
          },
          "hovermode": "closest",
          "mapbox": {
           "style": "light"
          },
          "paper_bgcolor": "white",
          "plot_bgcolor": "#E5ECF6",
          "polar": {
           "angularaxis": {
            "gridcolor": "white",
            "linecolor": "white",
            "ticks": ""
           },
           "bgcolor": "#E5ECF6",
           "radialaxis": {
            "gridcolor": "white",
            "linecolor": "white",
            "ticks": ""
           }
          },
          "scene": {
           "xaxis": {
            "backgroundcolor": "#E5ECF6",
            "gridcolor": "white",
            "gridwidth": 2,
            "linecolor": "white",
            "showbackground": true,
            "ticks": "",
            "zerolinecolor": "white"
           },
           "yaxis": {
            "backgroundcolor": "#E5ECF6",
            "gridcolor": "white",
            "gridwidth": 2,
            "linecolor": "white",
            "showbackground": true,
            "ticks": "",
            "zerolinecolor": "white"
           },
           "zaxis": {
            "backgroundcolor": "#E5ECF6",
            "gridcolor": "white",
            "gridwidth": 2,
            "linecolor": "white",
            "showbackground": true,
            "ticks": "",
            "zerolinecolor": "white"
           }
          },
          "shapedefaults": {
           "line": {
            "color": "#2a3f5f"
           }
          },
          "ternary": {
           "aaxis": {
            "gridcolor": "white",
            "linecolor": "white",
            "ticks": ""
           },
           "baxis": {
            "gridcolor": "white",
            "linecolor": "white",
            "ticks": ""
           },
           "bgcolor": "#E5ECF6",
           "caxis": {
            "gridcolor": "white",
            "linecolor": "white",
            "ticks": ""
           }
          },
          "title": {
           "x": 0.05
          },
          "xaxis": {
           "automargin": true,
           "gridcolor": "white",
           "linecolor": "white",
           "ticks": "",
           "title": {
            "standoff": 15
           },
           "zerolinecolor": "white",
           "zerolinewidth": 2
          },
          "yaxis": {
           "automargin": true,
           "gridcolor": "white",
           "linecolor": "white",
           "ticks": "",
           "title": {
            "standoff": 15
           },
           "zerolinecolor": "white",
           "zerolinewidth": 2
          }
         }
        },
        "title": {
         "text": "Действите пользователей по дням"
        },
        "xaxis": {
         "anchor": "y",
         "domain": [
          0,
          1
         ],
         "tickangle": 45,
         "title": {
          "text": "Дата"
         }
        },
        "yaxis": {
         "anchor": "x",
         "domain": [
          0,
          1
         ],
         "title": {
          "text": "Количество действий"
         }
        }
       }
      },
      "text/html": [
       "<div>                            <div id=\"9363cf08-375e-4890-b6d9-48a04bb4b488\" class=\"plotly-graph-div\" style=\"height:525px; width:100%;\"></div>            <script type=\"text/javascript\">                require([\"plotly\"], function(Plotly) {                    window.PLOTLYENV=window.PLOTLYENV || {};                                    if (document.getElementById(\"9363cf08-375e-4890-b6d9-48a04bb4b488\")) {                    Plotly.newPlot(                        \"9363cf08-375e-4890-b6d9-48a04bb4b488\",                        [{\"alignmentgroup\":\"True\",\"hovertemplate\":\"\\u0414\\u0435\\u043d\\u044c : %{x} \\u003cbr\\u003e\\u041a\\u043e\\u043b\\u0438\\u0447\\u0435\\u0441\\u0442\\u0432\\u043e: %{y}\",\"legendgroup\":\"\",\"marker\":{\"color\":\"#636efa\",\"pattern\":{\"shape\":\"\"}},\"name\":\"\",\"offsetgroup\":\"\",\"orientation\":\"v\",\"showlegend\":false,\"textposition\":\"auto\",\"x\":[\"2020-12-07T00:00:00\",\"2020-12-08T00:00:00\",\"2020-12-09T00:00:00\",\"2020-12-10T00:00:00\",\"2020-12-11T00:00:00\",\"2020-12-12T00:00:00\",\"2020-12-13T00:00:00\",\"2020-12-14T00:00:00\",\"2020-12-15T00:00:00\",\"2020-12-16T00:00:00\",\"2020-12-17T00:00:00\",\"2020-12-18T00:00:00\",\"2020-12-19T00:00:00\",\"2020-12-20T00:00:00\",\"2020-12-21T00:00:00\",\"2020-12-22T00:00:00\",\"2020-12-23T00:00:00\",\"2020-12-24T00:00:00\",\"2020-12-25T00:00:00\",\"2020-12-26T00:00:00\",\"2020-12-27T00:00:00\",\"2020-12-28T00:00:00\",\"2020-12-29T00:00:00\"],\"xaxis\":\"x\",\"y\":[578,490,620,512,446,488,395,1107,1102,1192,1276,1309,1497,1571,2048,1240,972,811,598,524,513,447,298],\"yaxis\":\"y\",\"type\":\"bar\"}],                        {\"template\":{\"data\":{\"histogram2dcontour\":[{\"type\":\"histogram2dcontour\",\"colorbar\":{\"outlinewidth\":0,\"ticks\":\"\"},\"colorscale\":[[0.0,\"#0d0887\"],[0.1111111111111111,\"#46039f\"],[0.2222222222222222,\"#7201a8\"],[0.3333333333333333,\"#9c179e\"],[0.4444444444444444,\"#bd3786\"],[0.5555555555555556,\"#d8576b\"],[0.6666666666666666,\"#ed7953\"],[0.7777777777777778,\"#fb9f3a\"],[0.8888888888888888,\"#fdca26\"],[1.0,\"#f0f921\"]]}],\"choropleth\":[{\"type\":\"choropleth\",\"colorbar\":{\"outlinewidth\":0,\"ticks\":\"\"}}],\"histogram2d\":[{\"type\":\"histogram2d\",\"colorbar\":{\"outlinewidth\":0,\"ticks\":\"\"},\"colorscale\":[[0.0,\"#0d0887\"],[0.1111111111111111,\"#46039f\"],[0.2222222222222222,\"#7201a8\"],[0.3333333333333333,\"#9c179e\"],[0.4444444444444444,\"#bd3786\"],[0.5555555555555556,\"#d8576b\"],[0.6666666666666666,\"#ed7953\"],[0.7777777777777778,\"#fb9f3a\"],[0.8888888888888888,\"#fdca26\"],[1.0,\"#f0f921\"]]}],\"heatmap\":[{\"type\":\"heatmap\",\"colorbar\":{\"outlinewidth\":0,\"ticks\":\"\"},\"colorscale\":[[0.0,\"#0d0887\"],[0.1111111111111111,\"#46039f\"],[0.2222222222222222,\"#7201a8\"],[0.3333333333333333,\"#9c179e\"],[0.4444444444444444,\"#bd3786\"],[0.5555555555555556,\"#d8576b\"],[0.6666666666666666,\"#ed7953\"],[0.7777777777777778,\"#fb9f3a\"],[0.8888888888888888,\"#fdca26\"],[1.0,\"#f0f921\"]]}],\"heatmapgl\":[{\"type\":\"heatmapgl\",\"colorbar\":{\"outlinewidth\":0,\"ticks\":\"\"},\"colorscale\":[[0.0,\"#0d0887\"],[0.1111111111111111,\"#46039f\"],[0.2222222222222222,\"#7201a8\"],[0.3333333333333333,\"#9c179e\"],[0.4444444444444444,\"#bd3786\"],[0.5555555555555556,\"#d8576b\"],[0.6666666666666666,\"#ed7953\"],[0.7777777777777778,\"#fb9f3a\"],[0.8888888888888888,\"#fdca26\"],[1.0,\"#f0f921\"]]}],\"contourcarpet\":[{\"type\":\"contourcarpet\",\"colorbar\":{\"outlinewidth\":0,\"ticks\":\"\"}}],\"contour\":[{\"type\":\"contour\",\"colorbar\":{\"outlinewidth\":0,\"ticks\":\"\"},\"colorscale\":[[0.0,\"#0d0887\"],[0.1111111111111111,\"#46039f\"],[0.2222222222222222,\"#7201a8\"],[0.3333333333333333,\"#9c179e\"],[0.4444444444444444,\"#bd3786\"],[0.5555555555555556,\"#d8576b\"],[0.6666666666666666,\"#ed7953\"],[0.7777777777777778,\"#fb9f3a\"],[0.8888888888888888,\"#fdca26\"],[1.0,\"#f0f921\"]]}],\"surface\":[{\"type\":\"surface\",\"colorbar\":{\"outlinewidth\":0,\"ticks\":\"\"},\"colorscale\":[[0.0,\"#0d0887\"],[0.1111111111111111,\"#46039f\"],[0.2222222222222222,\"#7201a8\"],[0.3333333333333333,\"#9c179e\"],[0.4444444444444444,\"#bd3786\"],[0.5555555555555556,\"#d8576b\"],[0.6666666666666666,\"#ed7953\"],[0.7777777777777778,\"#fb9f3a\"],[0.8888888888888888,\"#fdca26\"],[1.0,\"#f0f921\"]]}],\"mesh3d\":[{\"type\":\"mesh3d\",\"colorbar\":{\"outlinewidth\":0,\"ticks\":\"\"}}],\"scatter\":[{\"fillpattern\":{\"fillmode\":\"overlay\",\"size\":10,\"solidity\":0.2},\"type\":\"scatter\"}],\"parcoords\":[{\"type\":\"parcoords\",\"line\":{\"colorbar\":{\"outlinewidth\":0,\"ticks\":\"\"}}}],\"scatterpolargl\":[{\"type\":\"scatterpolargl\",\"marker\":{\"colorbar\":{\"outlinewidth\":0,\"ticks\":\"\"}}}],\"bar\":[{\"error_x\":{\"color\":\"#2a3f5f\"},\"error_y\":{\"color\":\"#2a3f5f\"},\"marker\":{\"line\":{\"color\":\"#E5ECF6\",\"width\":0.5},\"pattern\":{\"fillmode\":\"overlay\",\"size\":10,\"solidity\":0.2}},\"type\":\"bar\"}],\"scattergeo\":[{\"type\":\"scattergeo\",\"marker\":{\"colorbar\":{\"outlinewidth\":0,\"ticks\":\"\"}}}],\"scatterpolar\":[{\"type\":\"scatterpolar\",\"marker\":{\"colorbar\":{\"outlinewidth\":0,\"ticks\":\"\"}}}],\"histogram\":[{\"marker\":{\"pattern\":{\"fillmode\":\"overlay\",\"size\":10,\"solidity\":0.2}},\"type\":\"histogram\"}],\"scattergl\":[{\"type\":\"scattergl\",\"marker\":{\"colorbar\":{\"outlinewidth\":0,\"ticks\":\"\"}}}],\"scatter3d\":[{\"type\":\"scatter3d\",\"line\":{\"colorbar\":{\"outlinewidth\":0,\"ticks\":\"\"}},\"marker\":{\"colorbar\":{\"outlinewidth\":0,\"ticks\":\"\"}}}],\"scattermapbox\":[{\"type\":\"scattermapbox\",\"marker\":{\"colorbar\":{\"outlinewidth\":0,\"ticks\":\"\"}}}],\"scatterternary\":[{\"type\":\"scatterternary\",\"marker\":{\"colorbar\":{\"outlinewidth\":0,\"ticks\":\"\"}}}],\"scattercarpet\":[{\"type\":\"scattercarpet\",\"marker\":{\"colorbar\":{\"outlinewidth\":0,\"ticks\":\"\"}}}],\"carpet\":[{\"aaxis\":{\"endlinecolor\":\"#2a3f5f\",\"gridcolor\":\"white\",\"linecolor\":\"white\",\"minorgridcolor\":\"white\",\"startlinecolor\":\"#2a3f5f\"},\"baxis\":{\"endlinecolor\":\"#2a3f5f\",\"gridcolor\":\"white\",\"linecolor\":\"white\",\"minorgridcolor\":\"white\",\"startlinecolor\":\"#2a3f5f\"},\"type\":\"carpet\"}],\"table\":[{\"cells\":{\"fill\":{\"color\":\"#EBF0F8\"},\"line\":{\"color\":\"white\"}},\"header\":{\"fill\":{\"color\":\"#C8D4E3\"},\"line\":{\"color\":\"white\"}},\"type\":\"table\"}],\"barpolar\":[{\"marker\":{\"line\":{\"color\":\"#E5ECF6\",\"width\":0.5},\"pattern\":{\"fillmode\":\"overlay\",\"size\":10,\"solidity\":0.2}},\"type\":\"barpolar\"}],\"pie\":[{\"automargin\":true,\"type\":\"pie\"}]},\"layout\":{\"autotypenumbers\":\"strict\",\"colorway\":[\"#636efa\",\"#EF553B\",\"#00cc96\",\"#ab63fa\",\"#FFA15A\",\"#19d3f3\",\"#FF6692\",\"#B6E880\",\"#FF97FF\",\"#FECB52\"],\"font\":{\"color\":\"#2a3f5f\"},\"hovermode\":\"closest\",\"hoverlabel\":{\"align\":\"left\"},\"paper_bgcolor\":\"white\",\"plot_bgcolor\":\"#E5ECF6\",\"polar\":{\"bgcolor\":\"#E5ECF6\",\"angularaxis\":{\"gridcolor\":\"white\",\"linecolor\":\"white\",\"ticks\":\"\"},\"radialaxis\":{\"gridcolor\":\"white\",\"linecolor\":\"white\",\"ticks\":\"\"}},\"ternary\":{\"bgcolor\":\"#E5ECF6\",\"aaxis\":{\"gridcolor\":\"white\",\"linecolor\":\"white\",\"ticks\":\"\"},\"baxis\":{\"gridcolor\":\"white\",\"linecolor\":\"white\",\"ticks\":\"\"},\"caxis\":{\"gridcolor\":\"white\",\"linecolor\":\"white\",\"ticks\":\"\"}},\"coloraxis\":{\"colorbar\":{\"outlinewidth\":0,\"ticks\":\"\"}},\"colorscale\":{\"sequential\":[[0.0,\"#0d0887\"],[0.1111111111111111,\"#46039f\"],[0.2222222222222222,\"#7201a8\"],[0.3333333333333333,\"#9c179e\"],[0.4444444444444444,\"#bd3786\"],[0.5555555555555556,\"#d8576b\"],[0.6666666666666666,\"#ed7953\"],[0.7777777777777778,\"#fb9f3a\"],[0.8888888888888888,\"#fdca26\"],[1.0,\"#f0f921\"]],\"sequentialminus\":[[0.0,\"#0d0887\"],[0.1111111111111111,\"#46039f\"],[0.2222222222222222,\"#7201a8\"],[0.3333333333333333,\"#9c179e\"],[0.4444444444444444,\"#bd3786\"],[0.5555555555555556,\"#d8576b\"],[0.6666666666666666,\"#ed7953\"],[0.7777777777777778,\"#fb9f3a\"],[0.8888888888888888,\"#fdca26\"],[1.0,\"#f0f921\"]],\"diverging\":[[0,\"#8e0152\"],[0.1,\"#c51b7d\"],[0.2,\"#de77ae\"],[0.3,\"#f1b6da\"],[0.4,\"#fde0ef\"],[0.5,\"#f7f7f7\"],[0.6,\"#e6f5d0\"],[0.7,\"#b8e186\"],[0.8,\"#7fbc41\"],[0.9,\"#4d9221\"],[1,\"#276419\"]]},\"xaxis\":{\"gridcolor\":\"white\",\"linecolor\":\"white\",\"ticks\":\"\",\"title\":{\"standoff\":15},\"zerolinecolor\":\"white\",\"automargin\":true,\"zerolinewidth\":2},\"yaxis\":{\"gridcolor\":\"white\",\"linecolor\":\"white\",\"ticks\":\"\",\"title\":{\"standoff\":15},\"zerolinecolor\":\"white\",\"automargin\":true,\"zerolinewidth\":2},\"scene\":{\"xaxis\":{\"backgroundcolor\":\"#E5ECF6\",\"gridcolor\":\"white\",\"linecolor\":\"white\",\"showbackground\":true,\"ticks\":\"\",\"zerolinecolor\":\"white\",\"gridwidth\":2},\"yaxis\":{\"backgroundcolor\":\"#E5ECF6\",\"gridcolor\":\"white\",\"linecolor\":\"white\",\"showbackground\":true,\"ticks\":\"\",\"zerolinecolor\":\"white\",\"gridwidth\":2},\"zaxis\":{\"backgroundcolor\":\"#E5ECF6\",\"gridcolor\":\"white\",\"linecolor\":\"white\",\"showbackground\":true,\"ticks\":\"\",\"zerolinecolor\":\"white\",\"gridwidth\":2}},\"shapedefaults\":{\"line\":{\"color\":\"#2a3f5f\"}},\"annotationdefaults\":{\"arrowcolor\":\"#2a3f5f\",\"arrowhead\":0,\"arrowwidth\":1},\"geo\":{\"bgcolor\":\"white\",\"landcolor\":\"#E5ECF6\",\"subunitcolor\":\"white\",\"showland\":true,\"showlakes\":true,\"lakecolor\":\"white\"},\"title\":{\"x\":0.05},\"mapbox\":{\"style\":\"light\"}}},\"xaxis\":{\"anchor\":\"y\",\"domain\":[0.0,1.0],\"title\":{\"text\":\"\\u0414\\u0430\\u0442\\u0430\"},\"tickangle\":45},\"yaxis\":{\"anchor\":\"x\",\"domain\":[0.0,1.0],\"title\":{\"text\":\"\\u041a\\u043e\\u043b\\u0438\\u0447\\u0435\\u0441\\u0442\\u0432\\u043e \\u0434\\u0435\\u0439\\u0441\\u0442\\u0432\\u0438\\u0439\"}},\"legend\":{\"tracegroupgap\":0},\"title\":{\"text\":\"\\u0414\\u0435\\u0439\\u0441\\u0442\\u0432\\u0438\\u0442\\u0435 \\u043f\\u043e\\u043b\\u044c\\u0437\\u043e\\u0432\\u0430\\u0442\\u0435\\u043b\\u0435\\u0439 \\u043f\\u043e \\u0434\\u043d\\u044f\\u043c\"},\"barmode\":\"relative\"},                        {\"responsive\": true}                    ).then(function(){\n",
       "                            \n",
       "var gd = document.getElementById('9363cf08-375e-4890-b6d9-48a04bb4b488');\n",
       "var x = new MutationObserver(function (mutations, observer) {{\n",
       "        var display = window.getComputedStyle(gd).display;\n",
       "        if (!display || display === 'none') {{\n",
       "            console.log([gd, 'removed!']);\n",
       "            Plotly.purge(gd);\n",
       "            observer.disconnect();\n",
       "        }}\n",
       "}});\n",
       "\n",
       "// Listen for the removal of the full notebook cells\n",
       "var notebookContainer = gd.closest('#notebook-container');\n",
       "if (notebookContainer) {{\n",
       "    x.observe(notebookContainer, {childList: true});\n",
       "}}\n",
       "\n",
       "// Listen for the clearing of the current output cell\n",
       "var outputEl = gd.closest('.output');\n",
       "if (outputEl) {{\n",
       "    x.observe(outputEl, {childList: true});\n",
       "}}\n",
       "\n",
       "                        })                };                });            </script>        </div>"
      ]
     },
     "metadata": {},
     "output_type": "display_data"
    }
   ],
   "source": [
    "events_count = a_b_rec.groupby('day_event_dt')['event_name'].count().reset_index().rename(columns={'day_event_dt': 'day', 'event_name': 'count'})\n",
    "\n",
    "fig = px.bar(events_count, \n",
    "             y='count', \n",
    "             x= 'day', \n",
    "             title = 'Действите пользователей по дням' \n",
    "             )\n",
    "fig.update_layout(yaxis_title = 'Количество действий',\n",
    "                 xaxis_title = 'Дата'\n",
    "                 )\n",
    "fig.update_xaxes(tickangle=45)\n",
    "fig.update_traces(hovertemplate = 'День : %{x} <br>Количество: %{y}')\n",
    "\n",
    "fig.show()"
   ]
  },
  {
   "cell_type": "markdown",
   "id": "9ea19748",
   "metadata": {},
   "source": [
    "Можно замтетить уже с 14 декабря виден большой всплеск интереса пользователей."
   ]
  },
  {
   "cell_type": "code",
   "execution_count": 52,
   "id": "2f5a25b4",
   "metadata": {},
   "outputs": [
    {
     "data": {
      "application/vnd.plotly.v1+json": {
       "config": {
        "plotlyServerURL": "https://plot.ly"
       },
       "data": [
        {
         "alignmentgroup": "True",
         "hovertemplate": "День : %{x} <br>Количество: %{y}",
         "legendgroup": "A",
         "marker": {
          "color": "#636efa",
          "pattern": {
           "shape": ""
          }
         },
         "name": "A",
         "offsetgroup": "A",
         "orientation": "v",
         "showlegend": true,
         "textposition": "auto",
         "type": "bar",
         "x": [
          "2020-12-07T00:00:00",
          "2020-12-08T00:00:00",
          "2020-12-09T00:00:00",
          "2020-12-10T00:00:00",
          "2020-12-11T00:00:00",
          "2020-12-12T00:00:00",
          "2020-12-13T00:00:00",
          "2020-12-14T00:00:00",
          "2020-12-15T00:00:00",
          "2020-12-16T00:00:00",
          "2020-12-17T00:00:00",
          "2020-12-18T00:00:00",
          "2020-12-19T00:00:00",
          "2020-12-20T00:00:00",
          "2020-12-21T00:00:00",
          "2020-12-22T00:00:00",
          "2020-12-23T00:00:00",
          "2020-12-24T00:00:00",
          "2020-12-25T00:00:00",
          "2020-12-26T00:00:00",
          "2020-12-27T00:00:00",
          "2020-12-28T00:00:00",
          "2020-12-29T00:00:00"
         ],
         "xaxis": "x",
         "y": [
          263,
          283,
          331,
          294,
          309,
          319,
          273,
          880,
          915,
          870,
          1046,
          1085,
          1262,
          1298,
          1690,
          1095,
          829,
          708,
          528,
          471,
          451,
          389,
          262
         ],
         "yaxis": "y"
        },
        {
         "alignmentgroup": "True",
         "hovertemplate": "День : %{x} <br>Количество: %{y}",
         "legendgroup": "B",
         "marker": {
          "color": "#EF553B",
          "pattern": {
           "shape": ""
          }
         },
         "name": "B",
         "offsetgroup": "B",
         "orientation": "v",
         "showlegend": true,
         "textposition": "auto",
         "type": "bar",
         "x": [
          "2020-12-07T00:00:00",
          "2020-12-08T00:00:00",
          "2020-12-09T00:00:00",
          "2020-12-10T00:00:00",
          "2020-12-11T00:00:00",
          "2020-12-12T00:00:00",
          "2020-12-13T00:00:00",
          "2020-12-14T00:00:00",
          "2020-12-15T00:00:00",
          "2020-12-16T00:00:00",
          "2020-12-17T00:00:00",
          "2020-12-18T00:00:00",
          "2020-12-19T00:00:00",
          "2020-12-20T00:00:00",
          "2020-12-21T00:00:00",
          "2020-12-22T00:00:00",
          "2020-12-23T00:00:00",
          "2020-12-24T00:00:00",
          "2020-12-25T00:00:00",
          "2020-12-26T00:00:00",
          "2020-12-27T00:00:00",
          "2020-12-28T00:00:00",
          "2020-12-29T00:00:00"
         ],
         "xaxis": "x",
         "y": [
          315,
          207,
          289,
          218,
          137,
          169,
          122,
          227,
          187,
          322,
          230,
          224,
          235,
          273,
          358,
          145,
          143,
          103,
          70,
          53,
          62,
          58,
          36
         ],
         "yaxis": "y"
        }
       ],
       "layout": {
        "barmode": "group",
        "legend": {
         "title": {
          "text": "group"
         },
         "tracegroupgap": 0
        },
        "template": {
         "data": {
          "bar": [
           {
            "error_x": {
             "color": "#2a3f5f"
            },
            "error_y": {
             "color": "#2a3f5f"
            },
            "marker": {
             "line": {
              "color": "#E5ECF6",
              "width": 0.5
             },
             "pattern": {
              "fillmode": "overlay",
              "size": 10,
              "solidity": 0.2
             }
            },
            "type": "bar"
           }
          ],
          "barpolar": [
           {
            "marker": {
             "line": {
              "color": "#E5ECF6",
              "width": 0.5
             },
             "pattern": {
              "fillmode": "overlay",
              "size": 10,
              "solidity": 0.2
             }
            },
            "type": "barpolar"
           }
          ],
          "carpet": [
           {
            "aaxis": {
             "endlinecolor": "#2a3f5f",
             "gridcolor": "white",
             "linecolor": "white",
             "minorgridcolor": "white",
             "startlinecolor": "#2a3f5f"
            },
            "baxis": {
             "endlinecolor": "#2a3f5f",
             "gridcolor": "white",
             "linecolor": "white",
             "minorgridcolor": "white",
             "startlinecolor": "#2a3f5f"
            },
            "type": "carpet"
           }
          ],
          "choropleth": [
           {
            "colorbar": {
             "outlinewidth": 0,
             "ticks": ""
            },
            "type": "choropleth"
           }
          ],
          "contour": [
           {
            "colorbar": {
             "outlinewidth": 0,
             "ticks": ""
            },
            "colorscale": [
             [
              0,
              "#0d0887"
             ],
             [
              0.1111111111111111,
              "#46039f"
             ],
             [
              0.2222222222222222,
              "#7201a8"
             ],
             [
              0.3333333333333333,
              "#9c179e"
             ],
             [
              0.4444444444444444,
              "#bd3786"
             ],
             [
              0.5555555555555556,
              "#d8576b"
             ],
             [
              0.6666666666666666,
              "#ed7953"
             ],
             [
              0.7777777777777778,
              "#fb9f3a"
             ],
             [
              0.8888888888888888,
              "#fdca26"
             ],
             [
              1,
              "#f0f921"
             ]
            ],
            "type": "contour"
           }
          ],
          "contourcarpet": [
           {
            "colorbar": {
             "outlinewidth": 0,
             "ticks": ""
            },
            "type": "contourcarpet"
           }
          ],
          "heatmap": [
           {
            "colorbar": {
             "outlinewidth": 0,
             "ticks": ""
            },
            "colorscale": [
             [
              0,
              "#0d0887"
             ],
             [
              0.1111111111111111,
              "#46039f"
             ],
             [
              0.2222222222222222,
              "#7201a8"
             ],
             [
              0.3333333333333333,
              "#9c179e"
             ],
             [
              0.4444444444444444,
              "#bd3786"
             ],
             [
              0.5555555555555556,
              "#d8576b"
             ],
             [
              0.6666666666666666,
              "#ed7953"
             ],
             [
              0.7777777777777778,
              "#fb9f3a"
             ],
             [
              0.8888888888888888,
              "#fdca26"
             ],
             [
              1,
              "#f0f921"
             ]
            ],
            "type": "heatmap"
           }
          ],
          "heatmapgl": [
           {
            "colorbar": {
             "outlinewidth": 0,
             "ticks": ""
            },
            "colorscale": [
             [
              0,
              "#0d0887"
             ],
             [
              0.1111111111111111,
              "#46039f"
             ],
             [
              0.2222222222222222,
              "#7201a8"
             ],
             [
              0.3333333333333333,
              "#9c179e"
             ],
             [
              0.4444444444444444,
              "#bd3786"
             ],
             [
              0.5555555555555556,
              "#d8576b"
             ],
             [
              0.6666666666666666,
              "#ed7953"
             ],
             [
              0.7777777777777778,
              "#fb9f3a"
             ],
             [
              0.8888888888888888,
              "#fdca26"
             ],
             [
              1,
              "#f0f921"
             ]
            ],
            "type": "heatmapgl"
           }
          ],
          "histogram": [
           {
            "marker": {
             "pattern": {
              "fillmode": "overlay",
              "size": 10,
              "solidity": 0.2
             }
            },
            "type": "histogram"
           }
          ],
          "histogram2d": [
           {
            "colorbar": {
             "outlinewidth": 0,
             "ticks": ""
            },
            "colorscale": [
             [
              0,
              "#0d0887"
             ],
             [
              0.1111111111111111,
              "#46039f"
             ],
             [
              0.2222222222222222,
              "#7201a8"
             ],
             [
              0.3333333333333333,
              "#9c179e"
             ],
             [
              0.4444444444444444,
              "#bd3786"
             ],
             [
              0.5555555555555556,
              "#d8576b"
             ],
             [
              0.6666666666666666,
              "#ed7953"
             ],
             [
              0.7777777777777778,
              "#fb9f3a"
             ],
             [
              0.8888888888888888,
              "#fdca26"
             ],
             [
              1,
              "#f0f921"
             ]
            ],
            "type": "histogram2d"
           }
          ],
          "histogram2dcontour": [
           {
            "colorbar": {
             "outlinewidth": 0,
             "ticks": ""
            },
            "colorscale": [
             [
              0,
              "#0d0887"
             ],
             [
              0.1111111111111111,
              "#46039f"
             ],
             [
              0.2222222222222222,
              "#7201a8"
             ],
             [
              0.3333333333333333,
              "#9c179e"
             ],
             [
              0.4444444444444444,
              "#bd3786"
             ],
             [
              0.5555555555555556,
              "#d8576b"
             ],
             [
              0.6666666666666666,
              "#ed7953"
             ],
             [
              0.7777777777777778,
              "#fb9f3a"
             ],
             [
              0.8888888888888888,
              "#fdca26"
             ],
             [
              1,
              "#f0f921"
             ]
            ],
            "type": "histogram2dcontour"
           }
          ],
          "mesh3d": [
           {
            "colorbar": {
             "outlinewidth": 0,
             "ticks": ""
            },
            "type": "mesh3d"
           }
          ],
          "parcoords": [
           {
            "line": {
             "colorbar": {
              "outlinewidth": 0,
              "ticks": ""
             }
            },
            "type": "parcoords"
           }
          ],
          "pie": [
           {
            "automargin": true,
            "type": "pie"
           }
          ],
          "scatter": [
           {
            "fillpattern": {
             "fillmode": "overlay",
             "size": 10,
             "solidity": 0.2
            },
            "type": "scatter"
           }
          ],
          "scatter3d": [
           {
            "line": {
             "colorbar": {
              "outlinewidth": 0,
              "ticks": ""
             }
            },
            "marker": {
             "colorbar": {
              "outlinewidth": 0,
              "ticks": ""
             }
            },
            "type": "scatter3d"
           }
          ],
          "scattercarpet": [
           {
            "marker": {
             "colorbar": {
              "outlinewidth": 0,
              "ticks": ""
             }
            },
            "type": "scattercarpet"
           }
          ],
          "scattergeo": [
           {
            "marker": {
             "colorbar": {
              "outlinewidth": 0,
              "ticks": ""
             }
            },
            "type": "scattergeo"
           }
          ],
          "scattergl": [
           {
            "marker": {
             "colorbar": {
              "outlinewidth": 0,
              "ticks": ""
             }
            },
            "type": "scattergl"
           }
          ],
          "scattermapbox": [
           {
            "marker": {
             "colorbar": {
              "outlinewidth": 0,
              "ticks": ""
             }
            },
            "type": "scattermapbox"
           }
          ],
          "scatterpolar": [
           {
            "marker": {
             "colorbar": {
              "outlinewidth": 0,
              "ticks": ""
             }
            },
            "type": "scatterpolar"
           }
          ],
          "scatterpolargl": [
           {
            "marker": {
             "colorbar": {
              "outlinewidth": 0,
              "ticks": ""
             }
            },
            "type": "scatterpolargl"
           }
          ],
          "scatterternary": [
           {
            "marker": {
             "colorbar": {
              "outlinewidth": 0,
              "ticks": ""
             }
            },
            "type": "scatterternary"
           }
          ],
          "surface": [
           {
            "colorbar": {
             "outlinewidth": 0,
             "ticks": ""
            },
            "colorscale": [
             [
              0,
              "#0d0887"
             ],
             [
              0.1111111111111111,
              "#46039f"
             ],
             [
              0.2222222222222222,
              "#7201a8"
             ],
             [
              0.3333333333333333,
              "#9c179e"
             ],
             [
              0.4444444444444444,
              "#bd3786"
             ],
             [
              0.5555555555555556,
              "#d8576b"
             ],
             [
              0.6666666666666666,
              "#ed7953"
             ],
             [
              0.7777777777777778,
              "#fb9f3a"
             ],
             [
              0.8888888888888888,
              "#fdca26"
             ],
             [
              1,
              "#f0f921"
             ]
            ],
            "type": "surface"
           }
          ],
          "table": [
           {
            "cells": {
             "fill": {
              "color": "#EBF0F8"
             },
             "line": {
              "color": "white"
             }
            },
            "header": {
             "fill": {
              "color": "#C8D4E3"
             },
             "line": {
              "color": "white"
             }
            },
            "type": "table"
           }
          ]
         },
         "layout": {
          "annotationdefaults": {
           "arrowcolor": "#2a3f5f",
           "arrowhead": 0,
           "arrowwidth": 1
          },
          "autotypenumbers": "strict",
          "coloraxis": {
           "colorbar": {
            "outlinewidth": 0,
            "ticks": ""
           }
          },
          "colorscale": {
           "diverging": [
            [
             0,
             "#8e0152"
            ],
            [
             0.1,
             "#c51b7d"
            ],
            [
             0.2,
             "#de77ae"
            ],
            [
             0.3,
             "#f1b6da"
            ],
            [
             0.4,
             "#fde0ef"
            ],
            [
             0.5,
             "#f7f7f7"
            ],
            [
             0.6,
             "#e6f5d0"
            ],
            [
             0.7,
             "#b8e186"
            ],
            [
             0.8,
             "#7fbc41"
            ],
            [
             0.9,
             "#4d9221"
            ],
            [
             1,
             "#276419"
            ]
           ],
           "sequential": [
            [
             0,
             "#0d0887"
            ],
            [
             0.1111111111111111,
             "#46039f"
            ],
            [
             0.2222222222222222,
             "#7201a8"
            ],
            [
             0.3333333333333333,
             "#9c179e"
            ],
            [
             0.4444444444444444,
             "#bd3786"
            ],
            [
             0.5555555555555556,
             "#d8576b"
            ],
            [
             0.6666666666666666,
             "#ed7953"
            ],
            [
             0.7777777777777778,
             "#fb9f3a"
            ],
            [
             0.8888888888888888,
             "#fdca26"
            ],
            [
             1,
             "#f0f921"
            ]
           ],
           "sequentialminus": [
            [
             0,
             "#0d0887"
            ],
            [
             0.1111111111111111,
             "#46039f"
            ],
            [
             0.2222222222222222,
             "#7201a8"
            ],
            [
             0.3333333333333333,
             "#9c179e"
            ],
            [
             0.4444444444444444,
             "#bd3786"
            ],
            [
             0.5555555555555556,
             "#d8576b"
            ],
            [
             0.6666666666666666,
             "#ed7953"
            ],
            [
             0.7777777777777778,
             "#fb9f3a"
            ],
            [
             0.8888888888888888,
             "#fdca26"
            ],
            [
             1,
             "#f0f921"
            ]
           ]
          },
          "colorway": [
           "#636efa",
           "#EF553B",
           "#00cc96",
           "#ab63fa",
           "#FFA15A",
           "#19d3f3",
           "#FF6692",
           "#B6E880",
           "#FF97FF",
           "#FECB52"
          ],
          "font": {
           "color": "#2a3f5f"
          },
          "geo": {
           "bgcolor": "white",
           "lakecolor": "white",
           "landcolor": "#E5ECF6",
           "showlakes": true,
           "showland": true,
           "subunitcolor": "white"
          },
          "hoverlabel": {
           "align": "left"
          },
          "hovermode": "closest",
          "mapbox": {
           "style": "light"
          },
          "paper_bgcolor": "white",
          "plot_bgcolor": "#E5ECF6",
          "polar": {
           "angularaxis": {
            "gridcolor": "white",
            "linecolor": "white",
            "ticks": ""
           },
           "bgcolor": "#E5ECF6",
           "radialaxis": {
            "gridcolor": "white",
            "linecolor": "white",
            "ticks": ""
           }
          },
          "scene": {
           "xaxis": {
            "backgroundcolor": "#E5ECF6",
            "gridcolor": "white",
            "gridwidth": 2,
            "linecolor": "white",
            "showbackground": true,
            "ticks": "",
            "zerolinecolor": "white"
           },
           "yaxis": {
            "backgroundcolor": "#E5ECF6",
            "gridcolor": "white",
            "gridwidth": 2,
            "linecolor": "white",
            "showbackground": true,
            "ticks": "",
            "zerolinecolor": "white"
           },
           "zaxis": {
            "backgroundcolor": "#E5ECF6",
            "gridcolor": "white",
            "gridwidth": 2,
            "linecolor": "white",
            "showbackground": true,
            "ticks": "",
            "zerolinecolor": "white"
           }
          },
          "shapedefaults": {
           "line": {
            "color": "#2a3f5f"
           }
          },
          "ternary": {
           "aaxis": {
            "gridcolor": "white",
            "linecolor": "white",
            "ticks": ""
           },
           "baxis": {
            "gridcolor": "white",
            "linecolor": "white",
            "ticks": ""
           },
           "bgcolor": "#E5ECF6",
           "caxis": {
            "gridcolor": "white",
            "linecolor": "white",
            "ticks": ""
           }
          },
          "title": {
           "x": 0.05
          },
          "xaxis": {
           "automargin": true,
           "gridcolor": "white",
           "linecolor": "white",
           "ticks": "",
           "title": {
            "standoff": 15
           },
           "zerolinecolor": "white",
           "zerolinewidth": 2
          },
          "yaxis": {
           "automargin": true,
           "gridcolor": "white",
           "linecolor": "white",
           "ticks": "",
           "title": {
            "standoff": 15
           },
           "zerolinecolor": "white",
           "zerolinewidth": 2
          }
         }
        },
        "title": {
         "text": "Количество действий в день погруппам"
        },
        "xaxis": {
         "anchor": "y",
         "domain": [
          0,
          1
         ],
         "tickangle": 45,
         "title": {
          "text": "Дата"
         }
        },
        "yaxis": {
         "anchor": "x",
         "domain": [
          0,
          1
         ],
         "title": {
          "text": "Количество действий"
         }
        }
       }
      },
      "text/html": [
       "<div>                            <div id=\"f96c7507-88bb-4249-aaf2-0afc08be0e29\" class=\"plotly-graph-div\" style=\"height:525px; width:100%;\"></div>            <script type=\"text/javascript\">                require([\"plotly\"], function(Plotly) {                    window.PLOTLYENV=window.PLOTLYENV || {};                                    if (document.getElementById(\"f96c7507-88bb-4249-aaf2-0afc08be0e29\")) {                    Plotly.newPlot(                        \"f96c7507-88bb-4249-aaf2-0afc08be0e29\",                        [{\"alignmentgroup\":\"True\",\"hovertemplate\":\"\\u0414\\u0435\\u043d\\u044c : %{x} \\u003cbr\\u003e\\u041a\\u043e\\u043b\\u0438\\u0447\\u0435\\u0441\\u0442\\u0432\\u043e: %{y}\",\"legendgroup\":\"A\",\"marker\":{\"color\":\"#636efa\",\"pattern\":{\"shape\":\"\"}},\"name\":\"A\",\"offsetgroup\":\"A\",\"orientation\":\"v\",\"showlegend\":true,\"textposition\":\"auto\",\"x\":[\"2020-12-07T00:00:00\",\"2020-12-08T00:00:00\",\"2020-12-09T00:00:00\",\"2020-12-10T00:00:00\",\"2020-12-11T00:00:00\",\"2020-12-12T00:00:00\",\"2020-12-13T00:00:00\",\"2020-12-14T00:00:00\",\"2020-12-15T00:00:00\",\"2020-12-16T00:00:00\",\"2020-12-17T00:00:00\",\"2020-12-18T00:00:00\",\"2020-12-19T00:00:00\",\"2020-12-20T00:00:00\",\"2020-12-21T00:00:00\",\"2020-12-22T00:00:00\",\"2020-12-23T00:00:00\",\"2020-12-24T00:00:00\",\"2020-12-25T00:00:00\",\"2020-12-26T00:00:00\",\"2020-12-27T00:00:00\",\"2020-12-28T00:00:00\",\"2020-12-29T00:00:00\"],\"xaxis\":\"x\",\"y\":[263,283,331,294,309,319,273,880,915,870,1046,1085,1262,1298,1690,1095,829,708,528,471,451,389,262],\"yaxis\":\"y\",\"type\":\"bar\"},{\"alignmentgroup\":\"True\",\"hovertemplate\":\"\\u0414\\u0435\\u043d\\u044c : %{x} \\u003cbr\\u003e\\u041a\\u043e\\u043b\\u0438\\u0447\\u0435\\u0441\\u0442\\u0432\\u043e: %{y}\",\"legendgroup\":\"B\",\"marker\":{\"color\":\"#EF553B\",\"pattern\":{\"shape\":\"\"}},\"name\":\"B\",\"offsetgroup\":\"B\",\"orientation\":\"v\",\"showlegend\":true,\"textposition\":\"auto\",\"x\":[\"2020-12-07T00:00:00\",\"2020-12-08T00:00:00\",\"2020-12-09T00:00:00\",\"2020-12-10T00:00:00\",\"2020-12-11T00:00:00\",\"2020-12-12T00:00:00\",\"2020-12-13T00:00:00\",\"2020-12-14T00:00:00\",\"2020-12-15T00:00:00\",\"2020-12-16T00:00:00\",\"2020-12-17T00:00:00\",\"2020-12-18T00:00:00\",\"2020-12-19T00:00:00\",\"2020-12-20T00:00:00\",\"2020-12-21T00:00:00\",\"2020-12-22T00:00:00\",\"2020-12-23T00:00:00\",\"2020-12-24T00:00:00\",\"2020-12-25T00:00:00\",\"2020-12-26T00:00:00\",\"2020-12-27T00:00:00\",\"2020-12-28T00:00:00\",\"2020-12-29T00:00:00\"],\"xaxis\":\"x\",\"y\":[315,207,289,218,137,169,122,227,187,322,230,224,235,273,358,145,143,103,70,53,62,58,36],\"yaxis\":\"y\",\"type\":\"bar\"}],                        {\"template\":{\"data\":{\"histogram2dcontour\":[{\"type\":\"histogram2dcontour\",\"colorbar\":{\"outlinewidth\":0,\"ticks\":\"\"},\"colorscale\":[[0.0,\"#0d0887\"],[0.1111111111111111,\"#46039f\"],[0.2222222222222222,\"#7201a8\"],[0.3333333333333333,\"#9c179e\"],[0.4444444444444444,\"#bd3786\"],[0.5555555555555556,\"#d8576b\"],[0.6666666666666666,\"#ed7953\"],[0.7777777777777778,\"#fb9f3a\"],[0.8888888888888888,\"#fdca26\"],[1.0,\"#f0f921\"]]}],\"choropleth\":[{\"type\":\"choropleth\",\"colorbar\":{\"outlinewidth\":0,\"ticks\":\"\"}}],\"histogram2d\":[{\"type\":\"histogram2d\",\"colorbar\":{\"outlinewidth\":0,\"ticks\":\"\"},\"colorscale\":[[0.0,\"#0d0887\"],[0.1111111111111111,\"#46039f\"],[0.2222222222222222,\"#7201a8\"],[0.3333333333333333,\"#9c179e\"],[0.4444444444444444,\"#bd3786\"],[0.5555555555555556,\"#d8576b\"],[0.6666666666666666,\"#ed7953\"],[0.7777777777777778,\"#fb9f3a\"],[0.8888888888888888,\"#fdca26\"],[1.0,\"#f0f921\"]]}],\"heatmap\":[{\"type\":\"heatmap\",\"colorbar\":{\"outlinewidth\":0,\"ticks\":\"\"},\"colorscale\":[[0.0,\"#0d0887\"],[0.1111111111111111,\"#46039f\"],[0.2222222222222222,\"#7201a8\"],[0.3333333333333333,\"#9c179e\"],[0.4444444444444444,\"#bd3786\"],[0.5555555555555556,\"#d8576b\"],[0.6666666666666666,\"#ed7953\"],[0.7777777777777778,\"#fb9f3a\"],[0.8888888888888888,\"#fdca26\"],[1.0,\"#f0f921\"]]}],\"heatmapgl\":[{\"type\":\"heatmapgl\",\"colorbar\":{\"outlinewidth\":0,\"ticks\":\"\"},\"colorscale\":[[0.0,\"#0d0887\"],[0.1111111111111111,\"#46039f\"],[0.2222222222222222,\"#7201a8\"],[0.3333333333333333,\"#9c179e\"],[0.4444444444444444,\"#bd3786\"],[0.5555555555555556,\"#d8576b\"],[0.6666666666666666,\"#ed7953\"],[0.7777777777777778,\"#fb9f3a\"],[0.8888888888888888,\"#fdca26\"],[1.0,\"#f0f921\"]]}],\"contourcarpet\":[{\"type\":\"contourcarpet\",\"colorbar\":{\"outlinewidth\":0,\"ticks\":\"\"}}],\"contour\":[{\"type\":\"contour\",\"colorbar\":{\"outlinewidth\":0,\"ticks\":\"\"},\"colorscale\":[[0.0,\"#0d0887\"],[0.1111111111111111,\"#46039f\"],[0.2222222222222222,\"#7201a8\"],[0.3333333333333333,\"#9c179e\"],[0.4444444444444444,\"#bd3786\"],[0.5555555555555556,\"#d8576b\"],[0.6666666666666666,\"#ed7953\"],[0.7777777777777778,\"#fb9f3a\"],[0.8888888888888888,\"#fdca26\"],[1.0,\"#f0f921\"]]}],\"surface\":[{\"type\":\"surface\",\"colorbar\":{\"outlinewidth\":0,\"ticks\":\"\"},\"colorscale\":[[0.0,\"#0d0887\"],[0.1111111111111111,\"#46039f\"],[0.2222222222222222,\"#7201a8\"],[0.3333333333333333,\"#9c179e\"],[0.4444444444444444,\"#bd3786\"],[0.5555555555555556,\"#d8576b\"],[0.6666666666666666,\"#ed7953\"],[0.7777777777777778,\"#fb9f3a\"],[0.8888888888888888,\"#fdca26\"],[1.0,\"#f0f921\"]]}],\"mesh3d\":[{\"type\":\"mesh3d\",\"colorbar\":{\"outlinewidth\":0,\"ticks\":\"\"}}],\"scatter\":[{\"fillpattern\":{\"fillmode\":\"overlay\",\"size\":10,\"solidity\":0.2},\"type\":\"scatter\"}],\"parcoords\":[{\"type\":\"parcoords\",\"line\":{\"colorbar\":{\"outlinewidth\":0,\"ticks\":\"\"}}}],\"scatterpolargl\":[{\"type\":\"scatterpolargl\",\"marker\":{\"colorbar\":{\"outlinewidth\":0,\"ticks\":\"\"}}}],\"bar\":[{\"error_x\":{\"color\":\"#2a3f5f\"},\"error_y\":{\"color\":\"#2a3f5f\"},\"marker\":{\"line\":{\"color\":\"#E5ECF6\",\"width\":0.5},\"pattern\":{\"fillmode\":\"overlay\",\"size\":10,\"solidity\":0.2}},\"type\":\"bar\"}],\"scattergeo\":[{\"type\":\"scattergeo\",\"marker\":{\"colorbar\":{\"outlinewidth\":0,\"ticks\":\"\"}}}],\"scatterpolar\":[{\"type\":\"scatterpolar\",\"marker\":{\"colorbar\":{\"outlinewidth\":0,\"ticks\":\"\"}}}],\"histogram\":[{\"marker\":{\"pattern\":{\"fillmode\":\"overlay\",\"size\":10,\"solidity\":0.2}},\"type\":\"histogram\"}],\"scattergl\":[{\"type\":\"scattergl\",\"marker\":{\"colorbar\":{\"outlinewidth\":0,\"ticks\":\"\"}}}],\"scatter3d\":[{\"type\":\"scatter3d\",\"line\":{\"colorbar\":{\"outlinewidth\":0,\"ticks\":\"\"}},\"marker\":{\"colorbar\":{\"outlinewidth\":0,\"ticks\":\"\"}}}],\"scattermapbox\":[{\"type\":\"scattermapbox\",\"marker\":{\"colorbar\":{\"outlinewidth\":0,\"ticks\":\"\"}}}],\"scatterternary\":[{\"type\":\"scatterternary\",\"marker\":{\"colorbar\":{\"outlinewidth\":0,\"ticks\":\"\"}}}],\"scattercarpet\":[{\"type\":\"scattercarpet\",\"marker\":{\"colorbar\":{\"outlinewidth\":0,\"ticks\":\"\"}}}],\"carpet\":[{\"aaxis\":{\"endlinecolor\":\"#2a3f5f\",\"gridcolor\":\"white\",\"linecolor\":\"white\",\"minorgridcolor\":\"white\",\"startlinecolor\":\"#2a3f5f\"},\"baxis\":{\"endlinecolor\":\"#2a3f5f\",\"gridcolor\":\"white\",\"linecolor\":\"white\",\"minorgridcolor\":\"white\",\"startlinecolor\":\"#2a3f5f\"},\"type\":\"carpet\"}],\"table\":[{\"cells\":{\"fill\":{\"color\":\"#EBF0F8\"},\"line\":{\"color\":\"white\"}},\"header\":{\"fill\":{\"color\":\"#C8D4E3\"},\"line\":{\"color\":\"white\"}},\"type\":\"table\"}],\"barpolar\":[{\"marker\":{\"line\":{\"color\":\"#E5ECF6\",\"width\":0.5},\"pattern\":{\"fillmode\":\"overlay\",\"size\":10,\"solidity\":0.2}},\"type\":\"barpolar\"}],\"pie\":[{\"automargin\":true,\"type\":\"pie\"}]},\"layout\":{\"autotypenumbers\":\"strict\",\"colorway\":[\"#636efa\",\"#EF553B\",\"#00cc96\",\"#ab63fa\",\"#FFA15A\",\"#19d3f3\",\"#FF6692\",\"#B6E880\",\"#FF97FF\",\"#FECB52\"],\"font\":{\"color\":\"#2a3f5f\"},\"hovermode\":\"closest\",\"hoverlabel\":{\"align\":\"left\"},\"paper_bgcolor\":\"white\",\"plot_bgcolor\":\"#E5ECF6\",\"polar\":{\"bgcolor\":\"#E5ECF6\",\"angularaxis\":{\"gridcolor\":\"white\",\"linecolor\":\"white\",\"ticks\":\"\"},\"radialaxis\":{\"gridcolor\":\"white\",\"linecolor\":\"white\",\"ticks\":\"\"}},\"ternary\":{\"bgcolor\":\"#E5ECF6\",\"aaxis\":{\"gridcolor\":\"white\",\"linecolor\":\"white\",\"ticks\":\"\"},\"baxis\":{\"gridcolor\":\"white\",\"linecolor\":\"white\",\"ticks\":\"\"},\"caxis\":{\"gridcolor\":\"white\",\"linecolor\":\"white\",\"ticks\":\"\"}},\"coloraxis\":{\"colorbar\":{\"outlinewidth\":0,\"ticks\":\"\"}},\"colorscale\":{\"sequential\":[[0.0,\"#0d0887\"],[0.1111111111111111,\"#46039f\"],[0.2222222222222222,\"#7201a8\"],[0.3333333333333333,\"#9c179e\"],[0.4444444444444444,\"#bd3786\"],[0.5555555555555556,\"#d8576b\"],[0.6666666666666666,\"#ed7953\"],[0.7777777777777778,\"#fb9f3a\"],[0.8888888888888888,\"#fdca26\"],[1.0,\"#f0f921\"]],\"sequentialminus\":[[0.0,\"#0d0887\"],[0.1111111111111111,\"#46039f\"],[0.2222222222222222,\"#7201a8\"],[0.3333333333333333,\"#9c179e\"],[0.4444444444444444,\"#bd3786\"],[0.5555555555555556,\"#d8576b\"],[0.6666666666666666,\"#ed7953\"],[0.7777777777777778,\"#fb9f3a\"],[0.8888888888888888,\"#fdca26\"],[1.0,\"#f0f921\"]],\"diverging\":[[0,\"#8e0152\"],[0.1,\"#c51b7d\"],[0.2,\"#de77ae\"],[0.3,\"#f1b6da\"],[0.4,\"#fde0ef\"],[0.5,\"#f7f7f7\"],[0.6,\"#e6f5d0\"],[0.7,\"#b8e186\"],[0.8,\"#7fbc41\"],[0.9,\"#4d9221\"],[1,\"#276419\"]]},\"xaxis\":{\"gridcolor\":\"white\",\"linecolor\":\"white\",\"ticks\":\"\",\"title\":{\"standoff\":15},\"zerolinecolor\":\"white\",\"automargin\":true,\"zerolinewidth\":2},\"yaxis\":{\"gridcolor\":\"white\",\"linecolor\":\"white\",\"ticks\":\"\",\"title\":{\"standoff\":15},\"zerolinecolor\":\"white\",\"automargin\":true,\"zerolinewidth\":2},\"scene\":{\"xaxis\":{\"backgroundcolor\":\"#E5ECF6\",\"gridcolor\":\"white\",\"linecolor\":\"white\",\"showbackground\":true,\"ticks\":\"\",\"zerolinecolor\":\"white\",\"gridwidth\":2},\"yaxis\":{\"backgroundcolor\":\"#E5ECF6\",\"gridcolor\":\"white\",\"linecolor\":\"white\",\"showbackground\":true,\"ticks\":\"\",\"zerolinecolor\":\"white\",\"gridwidth\":2},\"zaxis\":{\"backgroundcolor\":\"#E5ECF6\",\"gridcolor\":\"white\",\"linecolor\":\"white\",\"showbackground\":true,\"ticks\":\"\",\"zerolinecolor\":\"white\",\"gridwidth\":2}},\"shapedefaults\":{\"line\":{\"color\":\"#2a3f5f\"}},\"annotationdefaults\":{\"arrowcolor\":\"#2a3f5f\",\"arrowhead\":0,\"arrowwidth\":1},\"geo\":{\"bgcolor\":\"white\",\"landcolor\":\"#E5ECF6\",\"subunitcolor\":\"white\",\"showland\":true,\"showlakes\":true,\"lakecolor\":\"white\"},\"title\":{\"x\":0.05},\"mapbox\":{\"style\":\"light\"}}},\"xaxis\":{\"anchor\":\"y\",\"domain\":[0.0,1.0],\"title\":{\"text\":\"\\u0414\\u0430\\u0442\\u0430\"},\"tickangle\":45},\"yaxis\":{\"anchor\":\"x\",\"domain\":[0.0,1.0],\"title\":{\"text\":\"\\u041a\\u043e\\u043b\\u0438\\u0447\\u0435\\u0441\\u0442\\u0432\\u043e \\u0434\\u0435\\u0439\\u0441\\u0442\\u0432\\u0438\\u0439\"}},\"legend\":{\"title\":{\"text\":\"group\"},\"tracegroupgap\":0},\"title\":{\"text\":\"\\u041a\\u043e\\u043b\\u0438\\u0447\\u0435\\u0441\\u0442\\u0432\\u043e \\u0434\\u0435\\u0439\\u0441\\u0442\\u0432\\u0438\\u0439 \\u0432 \\u0434\\u0435\\u043d\\u044c \\u043f\\u043e\\u0433\\u0440\\u0443\\u043f\\u043f\\u0430\\u043c\"},\"barmode\":\"group\"},                        {\"responsive\": true}                    ).then(function(){\n",
       "                            \n",
       "var gd = document.getElementById('f96c7507-88bb-4249-aaf2-0afc08be0e29');\n",
       "var x = new MutationObserver(function (mutations, observer) {{\n",
       "        var display = window.getComputedStyle(gd).display;\n",
       "        if (!display || display === 'none') {{\n",
       "            console.log([gd, 'removed!']);\n",
       "            Plotly.purge(gd);\n",
       "            observer.disconnect();\n",
       "        }}\n",
       "}});\n",
       "\n",
       "// Listen for the removal of the full notebook cells\n",
       "var notebookContainer = gd.closest('#notebook-container');\n",
       "if (notebookContainer) {{\n",
       "    x.observe(notebookContainer, {childList: true});\n",
       "}}\n",
       "\n",
       "// Listen for the clearing of the current output cell\n",
       "var outputEl = gd.closest('.output');\n",
       "if (outputEl) {{\n",
       "    x.observe(outputEl, {childList: true});\n",
       "}}\n",
       "\n",
       "                        })                };                });            </script>        </div>"
      ]
     },
     "metadata": {},
     "output_type": "display_data"
    }
   ],
   "source": [
    "events_count_by_group = a_b_rec.groupby(['day_event_dt','group'])['event_name'].count().reset_index().rename(columns={'day_event_dt': 'day', 'event_name': 'count'})\n",
    "fig = px.bar(events_count_by_group, \n",
    "             y='count', \n",
    "             x= 'day', \n",
    "             title = 'Количество действий в день погруппам', \n",
    "             color = 'group', barmode='group')\n",
    "fig.update_layout(yaxis_title = 'Количество действий',\n",
    "                 xaxis_title = 'Дата'\n",
    "                 )\n",
    "fig.update_xaxes(tickangle=45)\n",
    "fig.update_traces(hovertemplate = 'День : %{x} <br>Количество: %{y}')\n",
    "\n",
    "fig.show()"
   ]
  },
  {
   "cell_type": "markdown",
   "id": "ffb3077b",
   "metadata": {},
   "source": [
    "Я вижу колоссальную разницу в действиях, но связываю её именно с катастрофичной для теста разницей в количестве респондентов. Но в целом можно отметить, что плюс минус распределение одинаковое, хотя если в группе А 16 по 20 декабря шел плавный рост, то в группе В было был спад и небольшой подъем. \n",
    "Для улучшения понимания картины, посчитаю действия в долях от действий по группам\n"
   ]
  },
  {
   "cell_type": "code",
   "execution_count": 54,
   "id": "18361f26",
   "metadata": {},
   "outputs": [
    {
     "data": {
      "application/vnd.plotly.v1+json": {
       "config": {
        "plotlyServerURL": "https://plot.ly"
       },
       "data": [
        {
         "hovertemplate": "group=A<br>Дата=%{x}<br>Доля действий=%{y}<extra></extra>",
         "legendgroup": "A",
         "line": {
          "color": "#636efa",
          "dash": "solid"
         },
         "marker": {
          "symbol": "circle"
         },
         "mode": "lines",
         "name": "A",
         "orientation": "v",
         "showlegend": true,
         "type": "scatter",
         "x": [
          "2020-12-07T00:00:00",
          "2020-12-08T00:00:00",
          "2020-12-09T00:00:00",
          "2020-12-10T00:00:00",
          "2020-12-11T00:00:00",
          "2020-12-12T00:00:00",
          "2020-12-13T00:00:00",
          "2020-12-14T00:00:00",
          "2020-12-15T00:00:00",
          "2020-12-16T00:00:00",
          "2020-12-17T00:00:00",
          "2020-12-18T00:00:00",
          "2020-12-19T00:00:00",
          "2020-12-20T00:00:00",
          "2020-12-21T00:00:00",
          "2020-12-22T00:00:00",
          "2020-12-23T00:00:00",
          "2020-12-24T00:00:00",
          "2020-12-25T00:00:00",
          "2020-12-26T00:00:00",
          "2020-12-27T00:00:00",
          "2020-12-28T00:00:00",
          "2020-12-29T00:00:00"
         ],
         "xaxis": "x",
         "y": [
          0.016592013122200492,
          0.017853763169516118,
          0.020881963283073623,
          0.018547725695539714,
          0.019494038231026432,
          0.020124913254684247,
          0.017222888145858307,
          0.055517002081887576,
          0.05772506466468993,
          0.05488612705822977,
          0.06598952747460728,
          0.06844994006687276,
          0.07961642798561605,
          0.08188757807078417,
          0.10661787899817046,
          0.06908081509053056,
          0.05229953946123273,
          0.04466595167497319,
          0.033310201249132546,
          0.02971421361428301,
          0.028452463566967384,
          0.02454103842028894,
          0.01652892561983471
         ],
         "yaxis": "y"
        },
        {
         "hovertemplate": "group=B<br>Дата=%{x}<br>Доля действий=%{y}<extra></extra>",
         "legendgroup": "B",
         "line": {
          "color": "#EF553B",
          "dash": "solid"
         },
         "marker": {
          "symbol": "circle"
         },
         "mode": "lines",
         "name": "B",
         "orientation": "v",
         "showlegend": true,
         "type": "scatter",
         "x": [
          "2020-12-07T00:00:00",
          "2020-12-08T00:00:00",
          "2020-12-09T00:00:00",
          "2020-12-10T00:00:00",
          "2020-12-11T00:00:00",
          "2020-12-12T00:00:00",
          "2020-12-13T00:00:00",
          "2020-12-14T00:00:00",
          "2020-12-15T00:00:00",
          "2020-12-16T00:00:00",
          "2020-12-17T00:00:00",
          "2020-12-18T00:00:00",
          "2020-12-19T00:00:00",
          "2020-12-20T00:00:00",
          "2020-12-21T00:00:00",
          "2020-12-22T00:00:00",
          "2020-12-23T00:00:00",
          "2020-12-24T00:00:00",
          "2020-12-25T00:00:00",
          "2020-12-26T00:00:00",
          "2020-12-27T00:00:00",
          "2020-12-28T00:00:00",
          "2020-12-29T00:00:00"
         ],
         "xaxis": "x",
         "y": [
          0.07530480516375807,
          0.04948601482189816,
          0.06908917045182883,
          0.052115706430791296,
          0.032751613674396364,
          0.040401625627540044,
          0.02916567057136027,
          0.05426727229261296,
          0.04470475735118336,
          0.07697824527850824,
          0.05498446091322018,
          0.053550083672005734,
          0.056179775280898875,
          0.06526416447525699,
          0.08558450872579489,
          0.034664116662682286,
          0.03418599091561081,
          0.02462347597418121,
          0.01673440114750179,
          0.012670332297394215,
          0.014821898159215873,
          0.013865646665072914,
          0.008606263447286636
         ],
         "yaxis": "y"
        }
       ],
       "layout": {
        "legend": {
         "title": {
          "text": "group"
         },
         "tracegroupgap": 0
        },
        "template": {
         "data": {
          "bar": [
           {
            "error_x": {
             "color": "#2a3f5f"
            },
            "error_y": {
             "color": "#2a3f5f"
            },
            "marker": {
             "line": {
              "color": "white",
              "width": 0.5
             },
             "pattern": {
              "fillmode": "overlay",
              "size": 10,
              "solidity": 0.2
             }
            },
            "type": "bar"
           }
          ],
          "barpolar": [
           {
            "marker": {
             "line": {
              "color": "white",
              "width": 0.5
             },
             "pattern": {
              "fillmode": "overlay",
              "size": 10,
              "solidity": 0.2
             }
            },
            "type": "barpolar"
           }
          ],
          "carpet": [
           {
            "aaxis": {
             "endlinecolor": "#2a3f5f",
             "gridcolor": "#C8D4E3",
             "linecolor": "#C8D4E3",
             "minorgridcolor": "#C8D4E3",
             "startlinecolor": "#2a3f5f"
            },
            "baxis": {
             "endlinecolor": "#2a3f5f",
             "gridcolor": "#C8D4E3",
             "linecolor": "#C8D4E3",
             "minorgridcolor": "#C8D4E3",
             "startlinecolor": "#2a3f5f"
            },
            "type": "carpet"
           }
          ],
          "choropleth": [
           {
            "colorbar": {
             "outlinewidth": 0,
             "ticks": ""
            },
            "type": "choropleth"
           }
          ],
          "contour": [
           {
            "colorbar": {
             "outlinewidth": 0,
             "ticks": ""
            },
            "colorscale": [
             [
              0,
              "#0d0887"
             ],
             [
              0.1111111111111111,
              "#46039f"
             ],
             [
              0.2222222222222222,
              "#7201a8"
             ],
             [
              0.3333333333333333,
              "#9c179e"
             ],
             [
              0.4444444444444444,
              "#bd3786"
             ],
             [
              0.5555555555555556,
              "#d8576b"
             ],
             [
              0.6666666666666666,
              "#ed7953"
             ],
             [
              0.7777777777777778,
              "#fb9f3a"
             ],
             [
              0.8888888888888888,
              "#fdca26"
             ],
             [
              1,
              "#f0f921"
             ]
            ],
            "type": "contour"
           }
          ],
          "contourcarpet": [
           {
            "colorbar": {
             "outlinewidth": 0,
             "ticks": ""
            },
            "type": "contourcarpet"
           }
          ],
          "heatmap": [
           {
            "colorbar": {
             "outlinewidth": 0,
             "ticks": ""
            },
            "colorscale": [
             [
              0,
              "#0d0887"
             ],
             [
              0.1111111111111111,
              "#46039f"
             ],
             [
              0.2222222222222222,
              "#7201a8"
             ],
             [
              0.3333333333333333,
              "#9c179e"
             ],
             [
              0.4444444444444444,
              "#bd3786"
             ],
             [
              0.5555555555555556,
              "#d8576b"
             ],
             [
              0.6666666666666666,
              "#ed7953"
             ],
             [
              0.7777777777777778,
              "#fb9f3a"
             ],
             [
              0.8888888888888888,
              "#fdca26"
             ],
             [
              1,
              "#f0f921"
             ]
            ],
            "type": "heatmap"
           }
          ],
          "heatmapgl": [
           {
            "colorbar": {
             "outlinewidth": 0,
             "ticks": ""
            },
            "colorscale": [
             [
              0,
              "#0d0887"
             ],
             [
              0.1111111111111111,
              "#46039f"
             ],
             [
              0.2222222222222222,
              "#7201a8"
             ],
             [
              0.3333333333333333,
              "#9c179e"
             ],
             [
              0.4444444444444444,
              "#bd3786"
             ],
             [
              0.5555555555555556,
              "#d8576b"
             ],
             [
              0.6666666666666666,
              "#ed7953"
             ],
             [
              0.7777777777777778,
              "#fb9f3a"
             ],
             [
              0.8888888888888888,
              "#fdca26"
             ],
             [
              1,
              "#f0f921"
             ]
            ],
            "type": "heatmapgl"
           }
          ],
          "histogram": [
           {
            "marker": {
             "pattern": {
              "fillmode": "overlay",
              "size": 10,
              "solidity": 0.2
             }
            },
            "type": "histogram"
           }
          ],
          "histogram2d": [
           {
            "colorbar": {
             "outlinewidth": 0,
             "ticks": ""
            },
            "colorscale": [
             [
              0,
              "#0d0887"
             ],
             [
              0.1111111111111111,
              "#46039f"
             ],
             [
              0.2222222222222222,
              "#7201a8"
             ],
             [
              0.3333333333333333,
              "#9c179e"
             ],
             [
              0.4444444444444444,
              "#bd3786"
             ],
             [
              0.5555555555555556,
              "#d8576b"
             ],
             [
              0.6666666666666666,
              "#ed7953"
             ],
             [
              0.7777777777777778,
              "#fb9f3a"
             ],
             [
              0.8888888888888888,
              "#fdca26"
             ],
             [
              1,
              "#f0f921"
             ]
            ],
            "type": "histogram2d"
           }
          ],
          "histogram2dcontour": [
           {
            "colorbar": {
             "outlinewidth": 0,
             "ticks": ""
            },
            "colorscale": [
             [
              0,
              "#0d0887"
             ],
             [
              0.1111111111111111,
              "#46039f"
             ],
             [
              0.2222222222222222,
              "#7201a8"
             ],
             [
              0.3333333333333333,
              "#9c179e"
             ],
             [
              0.4444444444444444,
              "#bd3786"
             ],
             [
              0.5555555555555556,
              "#d8576b"
             ],
             [
              0.6666666666666666,
              "#ed7953"
             ],
             [
              0.7777777777777778,
              "#fb9f3a"
             ],
             [
              0.8888888888888888,
              "#fdca26"
             ],
             [
              1,
              "#f0f921"
             ]
            ],
            "type": "histogram2dcontour"
           }
          ],
          "mesh3d": [
           {
            "colorbar": {
             "outlinewidth": 0,
             "ticks": ""
            },
            "type": "mesh3d"
           }
          ],
          "parcoords": [
           {
            "line": {
             "colorbar": {
              "outlinewidth": 0,
              "ticks": ""
             }
            },
            "type": "parcoords"
           }
          ],
          "pie": [
           {
            "automargin": true,
            "type": "pie"
           }
          ],
          "scatter": [
           {
            "fillpattern": {
             "fillmode": "overlay",
             "size": 10,
             "solidity": 0.2
            },
            "type": "scatter"
           }
          ],
          "scatter3d": [
           {
            "line": {
             "colorbar": {
              "outlinewidth": 0,
              "ticks": ""
             }
            },
            "marker": {
             "colorbar": {
              "outlinewidth": 0,
              "ticks": ""
             }
            },
            "type": "scatter3d"
           }
          ],
          "scattercarpet": [
           {
            "marker": {
             "colorbar": {
              "outlinewidth": 0,
              "ticks": ""
             }
            },
            "type": "scattercarpet"
           }
          ],
          "scattergeo": [
           {
            "marker": {
             "colorbar": {
              "outlinewidth": 0,
              "ticks": ""
             }
            },
            "type": "scattergeo"
           }
          ],
          "scattergl": [
           {
            "marker": {
             "colorbar": {
              "outlinewidth": 0,
              "ticks": ""
             }
            },
            "type": "scattergl"
           }
          ],
          "scattermapbox": [
           {
            "marker": {
             "colorbar": {
              "outlinewidth": 0,
              "ticks": ""
             }
            },
            "type": "scattermapbox"
           }
          ],
          "scatterpolar": [
           {
            "marker": {
             "colorbar": {
              "outlinewidth": 0,
              "ticks": ""
             }
            },
            "type": "scatterpolar"
           }
          ],
          "scatterpolargl": [
           {
            "marker": {
             "colorbar": {
              "outlinewidth": 0,
              "ticks": ""
             }
            },
            "type": "scatterpolargl"
           }
          ],
          "scatterternary": [
           {
            "marker": {
             "colorbar": {
              "outlinewidth": 0,
              "ticks": ""
             }
            },
            "type": "scatterternary"
           }
          ],
          "surface": [
           {
            "colorbar": {
             "outlinewidth": 0,
             "ticks": ""
            },
            "colorscale": [
             [
              0,
              "#0d0887"
             ],
             [
              0.1111111111111111,
              "#46039f"
             ],
             [
              0.2222222222222222,
              "#7201a8"
             ],
             [
              0.3333333333333333,
              "#9c179e"
             ],
             [
              0.4444444444444444,
              "#bd3786"
             ],
             [
              0.5555555555555556,
              "#d8576b"
             ],
             [
              0.6666666666666666,
              "#ed7953"
             ],
             [
              0.7777777777777778,
              "#fb9f3a"
             ],
             [
              0.8888888888888888,
              "#fdca26"
             ],
             [
              1,
              "#f0f921"
             ]
            ],
            "type": "surface"
           }
          ],
          "table": [
           {
            "cells": {
             "fill": {
              "color": "#EBF0F8"
             },
             "line": {
              "color": "white"
             }
            },
            "header": {
             "fill": {
              "color": "#C8D4E3"
             },
             "line": {
              "color": "white"
             }
            },
            "type": "table"
           }
          ]
         },
         "layout": {
          "annotationdefaults": {
           "arrowcolor": "#2a3f5f",
           "arrowhead": 0,
           "arrowwidth": 1
          },
          "autotypenumbers": "strict",
          "coloraxis": {
           "colorbar": {
            "outlinewidth": 0,
            "ticks": ""
           }
          },
          "colorscale": {
           "diverging": [
            [
             0,
             "#8e0152"
            ],
            [
             0.1,
             "#c51b7d"
            ],
            [
             0.2,
             "#de77ae"
            ],
            [
             0.3,
             "#f1b6da"
            ],
            [
             0.4,
             "#fde0ef"
            ],
            [
             0.5,
             "#f7f7f7"
            ],
            [
             0.6,
             "#e6f5d0"
            ],
            [
             0.7,
             "#b8e186"
            ],
            [
             0.8,
             "#7fbc41"
            ],
            [
             0.9,
             "#4d9221"
            ],
            [
             1,
             "#276419"
            ]
           ],
           "sequential": [
            [
             0,
             "#0d0887"
            ],
            [
             0.1111111111111111,
             "#46039f"
            ],
            [
             0.2222222222222222,
             "#7201a8"
            ],
            [
             0.3333333333333333,
             "#9c179e"
            ],
            [
             0.4444444444444444,
             "#bd3786"
            ],
            [
             0.5555555555555556,
             "#d8576b"
            ],
            [
             0.6666666666666666,
             "#ed7953"
            ],
            [
             0.7777777777777778,
             "#fb9f3a"
            ],
            [
             0.8888888888888888,
             "#fdca26"
            ],
            [
             1,
             "#f0f921"
            ]
           ],
           "sequentialminus": [
            [
             0,
             "#0d0887"
            ],
            [
             0.1111111111111111,
             "#46039f"
            ],
            [
             0.2222222222222222,
             "#7201a8"
            ],
            [
             0.3333333333333333,
             "#9c179e"
            ],
            [
             0.4444444444444444,
             "#bd3786"
            ],
            [
             0.5555555555555556,
             "#d8576b"
            ],
            [
             0.6666666666666666,
             "#ed7953"
            ],
            [
             0.7777777777777778,
             "#fb9f3a"
            ],
            [
             0.8888888888888888,
             "#fdca26"
            ],
            [
             1,
             "#f0f921"
            ]
           ]
          },
          "colorway": [
           "#636efa",
           "#EF553B",
           "#00cc96",
           "#ab63fa",
           "#FFA15A",
           "#19d3f3",
           "#FF6692",
           "#B6E880",
           "#FF97FF",
           "#FECB52"
          ],
          "font": {
           "color": "#2a3f5f"
          },
          "geo": {
           "bgcolor": "white",
           "lakecolor": "white",
           "landcolor": "white",
           "showlakes": true,
           "showland": true,
           "subunitcolor": "#C8D4E3"
          },
          "hoverlabel": {
           "align": "left"
          },
          "hovermode": "closest",
          "mapbox": {
           "style": "light"
          },
          "paper_bgcolor": "white",
          "plot_bgcolor": "white",
          "polar": {
           "angularaxis": {
            "gridcolor": "#EBF0F8",
            "linecolor": "#EBF0F8",
            "ticks": ""
           },
           "bgcolor": "white",
           "radialaxis": {
            "gridcolor": "#EBF0F8",
            "linecolor": "#EBF0F8",
            "ticks": ""
           }
          },
          "scene": {
           "xaxis": {
            "backgroundcolor": "white",
            "gridcolor": "#DFE8F3",
            "gridwidth": 2,
            "linecolor": "#EBF0F8",
            "showbackground": true,
            "ticks": "",
            "zerolinecolor": "#EBF0F8"
           },
           "yaxis": {
            "backgroundcolor": "white",
            "gridcolor": "#DFE8F3",
            "gridwidth": 2,
            "linecolor": "#EBF0F8",
            "showbackground": true,
            "ticks": "",
            "zerolinecolor": "#EBF0F8"
           },
           "zaxis": {
            "backgroundcolor": "white",
            "gridcolor": "#DFE8F3",
            "gridwidth": 2,
            "linecolor": "#EBF0F8",
            "showbackground": true,
            "ticks": "",
            "zerolinecolor": "#EBF0F8"
           }
          },
          "shapedefaults": {
           "line": {
            "color": "#2a3f5f"
           }
          },
          "ternary": {
           "aaxis": {
            "gridcolor": "#DFE8F3",
            "linecolor": "#A2B1C6",
            "ticks": ""
           },
           "baxis": {
            "gridcolor": "#DFE8F3",
            "linecolor": "#A2B1C6",
            "ticks": ""
           },
           "bgcolor": "white",
           "caxis": {
            "gridcolor": "#DFE8F3",
            "linecolor": "#A2B1C6",
            "ticks": ""
           }
          },
          "title": {
           "x": 0.05
          },
          "xaxis": {
           "automargin": true,
           "gridcolor": "#EBF0F8",
           "linecolor": "#EBF0F8",
           "ticks": "",
           "title": {
            "standoff": 15
           },
           "zerolinecolor": "#EBF0F8",
           "zerolinewidth": 2
          },
          "yaxis": {
           "automargin": true,
           "gridcolor": "#EBF0F8",
           "linecolor": "#EBF0F8",
           "ticks": "",
           "title": {
            "standoff": 15
           },
           "zerolinecolor": "#EBF0F8",
           "zerolinewidth": 2
          }
         }
        },
        "title": {
         "text": "Доли действий пользователей по дням от общего количества действий по группам"
        },
        "xaxis": {
         "anchor": "y",
         "domain": [
          0,
          1
         ],
         "tickangle": -45,
         "title": {
          "text": "Дата"
         }
        },
        "yaxis": {
         "anchor": "x",
         "domain": [
          0,
          1
         ],
         "title": {
          "text": "Доля действий"
         }
        }
       }
      },
      "text/html": [
       "<div>                            <div id=\"e6c0773c-0a86-4651-a9d4-e44ee3ed7084\" class=\"plotly-graph-div\" style=\"height:525px; width:100%;\"></div>            <script type=\"text/javascript\">                require([\"plotly\"], function(Plotly) {                    window.PLOTLYENV=window.PLOTLYENV || {};                                    if (document.getElementById(\"e6c0773c-0a86-4651-a9d4-e44ee3ed7084\")) {                    Plotly.newPlot(                        \"e6c0773c-0a86-4651-a9d4-e44ee3ed7084\",                        [{\"hovertemplate\":\"group=A\\u003cbr\\u003e\\u0414\\u0430\\u0442\\u0430=%{x}\\u003cbr\\u003e\\u0414\\u043e\\u043b\\u044f \\u0434\\u0435\\u0439\\u0441\\u0442\\u0432\\u0438\\u0439=%{y}\\u003cextra\\u003e\\u003c\\u002fextra\\u003e\",\"legendgroup\":\"A\",\"line\":{\"color\":\"#636efa\",\"dash\":\"solid\"},\"marker\":{\"symbol\":\"circle\"},\"mode\":\"lines\",\"name\":\"A\",\"orientation\":\"v\",\"showlegend\":true,\"x\":[\"2020-12-07T00:00:00\",\"2020-12-08T00:00:00\",\"2020-12-09T00:00:00\",\"2020-12-10T00:00:00\",\"2020-12-11T00:00:00\",\"2020-12-12T00:00:00\",\"2020-12-13T00:00:00\",\"2020-12-14T00:00:00\",\"2020-12-15T00:00:00\",\"2020-12-16T00:00:00\",\"2020-12-17T00:00:00\",\"2020-12-18T00:00:00\",\"2020-12-19T00:00:00\",\"2020-12-20T00:00:00\",\"2020-12-21T00:00:00\",\"2020-12-22T00:00:00\",\"2020-12-23T00:00:00\",\"2020-12-24T00:00:00\",\"2020-12-25T00:00:00\",\"2020-12-26T00:00:00\",\"2020-12-27T00:00:00\",\"2020-12-28T00:00:00\",\"2020-12-29T00:00:00\"],\"xaxis\":\"x\",\"y\":[0.016592013122200492,0.017853763169516118,0.020881963283073623,0.018547725695539714,0.019494038231026432,0.020124913254684247,0.017222888145858307,0.055517002081887576,0.05772506466468993,0.05488612705822977,0.06598952747460728,0.06844994006687276,0.07961642798561605,0.08188757807078417,0.10661787899817046,0.06908081509053056,0.05229953946123273,0.04466595167497319,0.033310201249132546,0.02971421361428301,0.028452463566967384,0.02454103842028894,0.01652892561983471],\"yaxis\":\"y\",\"type\":\"scatter\"},{\"hovertemplate\":\"group=B\\u003cbr\\u003e\\u0414\\u0430\\u0442\\u0430=%{x}\\u003cbr\\u003e\\u0414\\u043e\\u043b\\u044f \\u0434\\u0435\\u0439\\u0441\\u0442\\u0432\\u0438\\u0439=%{y}\\u003cextra\\u003e\\u003c\\u002fextra\\u003e\",\"legendgroup\":\"B\",\"line\":{\"color\":\"#EF553B\",\"dash\":\"solid\"},\"marker\":{\"symbol\":\"circle\"},\"mode\":\"lines\",\"name\":\"B\",\"orientation\":\"v\",\"showlegend\":true,\"x\":[\"2020-12-07T00:00:00\",\"2020-12-08T00:00:00\",\"2020-12-09T00:00:00\",\"2020-12-10T00:00:00\",\"2020-12-11T00:00:00\",\"2020-12-12T00:00:00\",\"2020-12-13T00:00:00\",\"2020-12-14T00:00:00\",\"2020-12-15T00:00:00\",\"2020-12-16T00:00:00\",\"2020-12-17T00:00:00\",\"2020-12-18T00:00:00\",\"2020-12-19T00:00:00\",\"2020-12-20T00:00:00\",\"2020-12-21T00:00:00\",\"2020-12-22T00:00:00\",\"2020-12-23T00:00:00\",\"2020-12-24T00:00:00\",\"2020-12-25T00:00:00\",\"2020-12-26T00:00:00\",\"2020-12-27T00:00:00\",\"2020-12-28T00:00:00\",\"2020-12-29T00:00:00\"],\"xaxis\":\"x\",\"y\":[0.07530480516375807,0.04948601482189816,0.06908917045182883,0.052115706430791296,0.032751613674396364,0.040401625627540044,0.02916567057136027,0.05426727229261296,0.04470475735118336,0.07697824527850824,0.05498446091322018,0.053550083672005734,0.056179775280898875,0.06526416447525699,0.08558450872579489,0.034664116662682286,0.03418599091561081,0.02462347597418121,0.01673440114750179,0.012670332297394215,0.014821898159215873,0.013865646665072914,0.008606263447286636],\"yaxis\":\"y\",\"type\":\"scatter\"}],                        {\"template\":{\"data\":{\"barpolar\":[{\"marker\":{\"line\":{\"color\":\"white\",\"width\":0.5},\"pattern\":{\"fillmode\":\"overlay\",\"size\":10,\"solidity\":0.2}},\"type\":\"barpolar\"}],\"bar\":[{\"error_x\":{\"color\":\"#2a3f5f\"},\"error_y\":{\"color\":\"#2a3f5f\"},\"marker\":{\"line\":{\"color\":\"white\",\"width\":0.5},\"pattern\":{\"fillmode\":\"overlay\",\"size\":10,\"solidity\":0.2}},\"type\":\"bar\"}],\"carpet\":[{\"aaxis\":{\"endlinecolor\":\"#2a3f5f\",\"gridcolor\":\"#C8D4E3\",\"linecolor\":\"#C8D4E3\",\"minorgridcolor\":\"#C8D4E3\",\"startlinecolor\":\"#2a3f5f\"},\"baxis\":{\"endlinecolor\":\"#2a3f5f\",\"gridcolor\":\"#C8D4E3\",\"linecolor\":\"#C8D4E3\",\"minorgridcolor\":\"#C8D4E3\",\"startlinecolor\":\"#2a3f5f\"},\"type\":\"carpet\"}],\"choropleth\":[{\"colorbar\":{\"outlinewidth\":0,\"ticks\":\"\"},\"type\":\"choropleth\"}],\"contourcarpet\":[{\"colorbar\":{\"outlinewidth\":0,\"ticks\":\"\"},\"type\":\"contourcarpet\"}],\"contour\":[{\"colorbar\":{\"outlinewidth\":0,\"ticks\":\"\"},\"colorscale\":[[0.0,\"#0d0887\"],[0.1111111111111111,\"#46039f\"],[0.2222222222222222,\"#7201a8\"],[0.3333333333333333,\"#9c179e\"],[0.4444444444444444,\"#bd3786\"],[0.5555555555555556,\"#d8576b\"],[0.6666666666666666,\"#ed7953\"],[0.7777777777777778,\"#fb9f3a\"],[0.8888888888888888,\"#fdca26\"],[1.0,\"#f0f921\"]],\"type\":\"contour\"}],\"heatmapgl\":[{\"colorbar\":{\"outlinewidth\":0,\"ticks\":\"\"},\"colorscale\":[[0.0,\"#0d0887\"],[0.1111111111111111,\"#46039f\"],[0.2222222222222222,\"#7201a8\"],[0.3333333333333333,\"#9c179e\"],[0.4444444444444444,\"#bd3786\"],[0.5555555555555556,\"#d8576b\"],[0.6666666666666666,\"#ed7953\"],[0.7777777777777778,\"#fb9f3a\"],[0.8888888888888888,\"#fdca26\"],[1.0,\"#f0f921\"]],\"type\":\"heatmapgl\"}],\"heatmap\":[{\"colorbar\":{\"outlinewidth\":0,\"ticks\":\"\"},\"colorscale\":[[0.0,\"#0d0887\"],[0.1111111111111111,\"#46039f\"],[0.2222222222222222,\"#7201a8\"],[0.3333333333333333,\"#9c179e\"],[0.4444444444444444,\"#bd3786\"],[0.5555555555555556,\"#d8576b\"],[0.6666666666666666,\"#ed7953\"],[0.7777777777777778,\"#fb9f3a\"],[0.8888888888888888,\"#fdca26\"],[1.0,\"#f0f921\"]],\"type\":\"heatmap\"}],\"histogram2dcontour\":[{\"colorbar\":{\"outlinewidth\":0,\"ticks\":\"\"},\"colorscale\":[[0.0,\"#0d0887\"],[0.1111111111111111,\"#46039f\"],[0.2222222222222222,\"#7201a8\"],[0.3333333333333333,\"#9c179e\"],[0.4444444444444444,\"#bd3786\"],[0.5555555555555556,\"#d8576b\"],[0.6666666666666666,\"#ed7953\"],[0.7777777777777778,\"#fb9f3a\"],[0.8888888888888888,\"#fdca26\"],[1.0,\"#f0f921\"]],\"type\":\"histogram2dcontour\"}],\"histogram2d\":[{\"colorbar\":{\"outlinewidth\":0,\"ticks\":\"\"},\"colorscale\":[[0.0,\"#0d0887\"],[0.1111111111111111,\"#46039f\"],[0.2222222222222222,\"#7201a8\"],[0.3333333333333333,\"#9c179e\"],[0.4444444444444444,\"#bd3786\"],[0.5555555555555556,\"#d8576b\"],[0.6666666666666666,\"#ed7953\"],[0.7777777777777778,\"#fb9f3a\"],[0.8888888888888888,\"#fdca26\"],[1.0,\"#f0f921\"]],\"type\":\"histogram2d\"}],\"histogram\":[{\"marker\":{\"pattern\":{\"fillmode\":\"overlay\",\"size\":10,\"solidity\":0.2}},\"type\":\"histogram\"}],\"mesh3d\":[{\"colorbar\":{\"outlinewidth\":0,\"ticks\":\"\"},\"type\":\"mesh3d\"}],\"parcoords\":[{\"line\":{\"colorbar\":{\"outlinewidth\":0,\"ticks\":\"\"}},\"type\":\"parcoords\"}],\"pie\":[{\"automargin\":true,\"type\":\"pie\"}],\"scatter3d\":[{\"line\":{\"colorbar\":{\"outlinewidth\":0,\"ticks\":\"\"}},\"marker\":{\"colorbar\":{\"outlinewidth\":0,\"ticks\":\"\"}},\"type\":\"scatter3d\"}],\"scattercarpet\":[{\"marker\":{\"colorbar\":{\"outlinewidth\":0,\"ticks\":\"\"}},\"type\":\"scattercarpet\"}],\"scattergeo\":[{\"marker\":{\"colorbar\":{\"outlinewidth\":0,\"ticks\":\"\"}},\"type\":\"scattergeo\"}],\"scattergl\":[{\"marker\":{\"colorbar\":{\"outlinewidth\":0,\"ticks\":\"\"}},\"type\":\"scattergl\"}],\"scattermapbox\":[{\"marker\":{\"colorbar\":{\"outlinewidth\":0,\"ticks\":\"\"}},\"type\":\"scattermapbox\"}],\"scatterpolargl\":[{\"marker\":{\"colorbar\":{\"outlinewidth\":0,\"ticks\":\"\"}},\"type\":\"scatterpolargl\"}],\"scatterpolar\":[{\"marker\":{\"colorbar\":{\"outlinewidth\":0,\"ticks\":\"\"}},\"type\":\"scatterpolar\"}],\"scatter\":[{\"fillpattern\":{\"fillmode\":\"overlay\",\"size\":10,\"solidity\":0.2},\"type\":\"scatter\"}],\"scatterternary\":[{\"marker\":{\"colorbar\":{\"outlinewidth\":0,\"ticks\":\"\"}},\"type\":\"scatterternary\"}],\"surface\":[{\"colorbar\":{\"outlinewidth\":0,\"ticks\":\"\"},\"colorscale\":[[0.0,\"#0d0887\"],[0.1111111111111111,\"#46039f\"],[0.2222222222222222,\"#7201a8\"],[0.3333333333333333,\"#9c179e\"],[0.4444444444444444,\"#bd3786\"],[0.5555555555555556,\"#d8576b\"],[0.6666666666666666,\"#ed7953\"],[0.7777777777777778,\"#fb9f3a\"],[0.8888888888888888,\"#fdca26\"],[1.0,\"#f0f921\"]],\"type\":\"surface\"}],\"table\":[{\"cells\":{\"fill\":{\"color\":\"#EBF0F8\"},\"line\":{\"color\":\"white\"}},\"header\":{\"fill\":{\"color\":\"#C8D4E3\"},\"line\":{\"color\":\"white\"}},\"type\":\"table\"}]},\"layout\":{\"annotationdefaults\":{\"arrowcolor\":\"#2a3f5f\",\"arrowhead\":0,\"arrowwidth\":1},\"autotypenumbers\":\"strict\",\"coloraxis\":{\"colorbar\":{\"outlinewidth\":0,\"ticks\":\"\"}},\"colorscale\":{\"diverging\":[[0,\"#8e0152\"],[0.1,\"#c51b7d\"],[0.2,\"#de77ae\"],[0.3,\"#f1b6da\"],[0.4,\"#fde0ef\"],[0.5,\"#f7f7f7\"],[0.6,\"#e6f5d0\"],[0.7,\"#b8e186\"],[0.8,\"#7fbc41\"],[0.9,\"#4d9221\"],[1,\"#276419\"]],\"sequential\":[[0.0,\"#0d0887\"],[0.1111111111111111,\"#46039f\"],[0.2222222222222222,\"#7201a8\"],[0.3333333333333333,\"#9c179e\"],[0.4444444444444444,\"#bd3786\"],[0.5555555555555556,\"#d8576b\"],[0.6666666666666666,\"#ed7953\"],[0.7777777777777778,\"#fb9f3a\"],[0.8888888888888888,\"#fdca26\"],[1.0,\"#f0f921\"]],\"sequentialminus\":[[0.0,\"#0d0887\"],[0.1111111111111111,\"#46039f\"],[0.2222222222222222,\"#7201a8\"],[0.3333333333333333,\"#9c179e\"],[0.4444444444444444,\"#bd3786\"],[0.5555555555555556,\"#d8576b\"],[0.6666666666666666,\"#ed7953\"],[0.7777777777777778,\"#fb9f3a\"],[0.8888888888888888,\"#fdca26\"],[1.0,\"#f0f921\"]]},\"colorway\":[\"#636efa\",\"#EF553B\",\"#00cc96\",\"#ab63fa\",\"#FFA15A\",\"#19d3f3\",\"#FF6692\",\"#B6E880\",\"#FF97FF\",\"#FECB52\"],\"font\":{\"color\":\"#2a3f5f\"},\"geo\":{\"bgcolor\":\"white\",\"lakecolor\":\"white\",\"landcolor\":\"white\",\"showlakes\":true,\"showland\":true,\"subunitcolor\":\"#C8D4E3\"},\"hoverlabel\":{\"align\":\"left\"},\"hovermode\":\"closest\",\"mapbox\":{\"style\":\"light\"},\"paper_bgcolor\":\"white\",\"plot_bgcolor\":\"white\",\"polar\":{\"angularaxis\":{\"gridcolor\":\"#EBF0F8\",\"linecolor\":\"#EBF0F8\",\"ticks\":\"\"},\"bgcolor\":\"white\",\"radialaxis\":{\"gridcolor\":\"#EBF0F8\",\"linecolor\":\"#EBF0F8\",\"ticks\":\"\"}},\"scene\":{\"xaxis\":{\"backgroundcolor\":\"white\",\"gridcolor\":\"#DFE8F3\",\"gridwidth\":2,\"linecolor\":\"#EBF0F8\",\"showbackground\":true,\"ticks\":\"\",\"zerolinecolor\":\"#EBF0F8\"},\"yaxis\":{\"backgroundcolor\":\"white\",\"gridcolor\":\"#DFE8F3\",\"gridwidth\":2,\"linecolor\":\"#EBF0F8\",\"showbackground\":true,\"ticks\":\"\",\"zerolinecolor\":\"#EBF0F8\"},\"zaxis\":{\"backgroundcolor\":\"white\",\"gridcolor\":\"#DFE8F3\",\"gridwidth\":2,\"linecolor\":\"#EBF0F8\",\"showbackground\":true,\"ticks\":\"\",\"zerolinecolor\":\"#EBF0F8\"}},\"shapedefaults\":{\"line\":{\"color\":\"#2a3f5f\"}},\"ternary\":{\"aaxis\":{\"gridcolor\":\"#DFE8F3\",\"linecolor\":\"#A2B1C6\",\"ticks\":\"\"},\"baxis\":{\"gridcolor\":\"#DFE8F3\",\"linecolor\":\"#A2B1C6\",\"ticks\":\"\"},\"bgcolor\":\"white\",\"caxis\":{\"gridcolor\":\"#DFE8F3\",\"linecolor\":\"#A2B1C6\",\"ticks\":\"\"}},\"title\":{\"x\":0.05},\"xaxis\":{\"automargin\":true,\"gridcolor\":\"#EBF0F8\",\"linecolor\":\"#EBF0F8\",\"ticks\":\"\",\"title\":{\"standoff\":15},\"zerolinecolor\":\"#EBF0F8\",\"zerolinewidth\":2},\"yaxis\":{\"automargin\":true,\"gridcolor\":\"#EBF0F8\",\"linecolor\":\"#EBF0F8\",\"ticks\":\"\",\"title\":{\"standoff\":15},\"zerolinecolor\":\"#EBF0F8\",\"zerolinewidth\":2}}},\"xaxis\":{\"anchor\":\"y\",\"domain\":[0.0,1.0],\"title\":{\"text\":\"\\u0414\\u0430\\u0442\\u0430\"},\"tickangle\":-45},\"yaxis\":{\"anchor\":\"x\",\"domain\":[0.0,1.0],\"title\":{\"text\":\"\\u0414\\u043e\\u043b\\u044f \\u0434\\u0435\\u0439\\u0441\\u0442\\u0432\\u0438\\u0439\"}},\"legend\":{\"title\":{\"text\":\"group\"},\"tracegroupgap\":0},\"title\":{\"text\":\"\\u0414\\u043e\\u043b\\u0438 \\u0434\\u0435\\u0439\\u0441\\u0442\\u0432\\u0438\\u0439 \\u043f\\u043e\\u043b\\u044c\\u0437\\u043e\\u0432\\u0430\\u0442\\u0435\\u043b\\u0435\\u0439 \\u043f\\u043e \\u0434\\u043d\\u044f\\u043c \\u043e\\u0442 \\u043e\\u0431\\u0449\\u0435\\u0433\\u043e \\u043a\\u043e\\u043b\\u0438\\u0447\\u0435\\u0441\\u0442\\u0432\\u0430 \\u0434\\u0435\\u0439\\u0441\\u0442\\u0432\\u0438\\u0439 \\u043f\\u043e \\u0433\\u0440\\u0443\\u043f\\u043f\\u0430\\u043c\"}},                        {\"responsive\": true}                    ).then(function(){\n",
       "                            \n",
       "var gd = document.getElementById('e6c0773c-0a86-4651-a9d4-e44ee3ed7084');\n",
       "var x = new MutationObserver(function (mutations, observer) {{\n",
       "        var display = window.getComputedStyle(gd).display;\n",
       "        if (!display || display === 'none') {{\n",
       "            console.log([gd, 'removed!']);\n",
       "            Plotly.purge(gd);\n",
       "            observer.disconnect();\n",
       "        }}\n",
       "}});\n",
       "\n",
       "// Listen for the removal of the full notebook cells\n",
       "var notebookContainer = gd.closest('#notebook-container');\n",
       "if (notebookContainer) {{\n",
       "    x.observe(notebookContainer, {childList: true});\n",
       "}}\n",
       "\n",
       "// Listen for the clearing of the current output cell\n",
       "var outputEl = gd.closest('.output');\n",
       "if (outputEl) {{\n",
       "    x.observe(outputEl, {childList: true});\n",
       "}}\n",
       "\n",
       "                        })                };                });            </script>        </div>"
      ]
     },
     "metadata": {},
     "output_type": "display_data"
    }
   ],
   "source": [
    "actions_per_day = a_b_rec.groupby(['group', 'day_event_dt'])['event_name'].count().reset_index()\n",
    "actions_per_group = actions_per_day.groupby('group')['event_name'].sum().reset_index()\n",
    "actions_per_day = actions_per_day.merge(actions_per_group, on='group', suffixes=('', '_total'))\n",
    "actions_per_day['action_ratio'] = actions_per_day['event_name'] / actions_per_day['event_name_total']\n",
    "\n",
    "fig = px.line(actions_per_day, x='day_event_dt', y='action_ratio', color='group',\n",
    "              title='Доли действий пользователей по дням от общего количества действий по группам',\n",
    "              labels={'day_event_dt': 'Дата', 'action_ratio': 'Доля действий'},\n",
    "              template='plotly_white')\n",
    "\n",
    "fig.update_layout(xaxis_tickangle=-45)\n",
    "fig.show()"
   ]
  },
  {
   "cell_type": "markdown",
   "id": "a4b2384c",
   "metadata": {},
   "source": [
    "Вцелом подтверждаются вывод, которые обозначены ранее.  "
   ]
  },
  {
   "cell_type": "code",
   "execution_count": 55,
   "id": "3072eb8b",
   "metadata": {},
   "outputs": [
    {
     "data": {
      "application/vnd.plotly.v1+json": {
       "config": {
        "plotlyServerURL": "https://plot.ly"
       },
       "data": [
        {
         "alignmentgroup": "True",
         "hovertemplate": "group=A<br>Дата регистрации=%{x}<br>Количество зарегистрированных пользователей=%{y}<extra></extra>",
         "legendgroup": "A",
         "marker": {
          "color": "#636efa",
          "pattern": {
           "shape": ""
          }
         },
         "name": "A",
         "offsetgroup": "A",
         "orientation": "v",
         "showlegend": true,
         "textposition": "auto",
         "type": "bar",
         "x": [
          "2020-12-07T00:00:00",
          "2020-12-08T00:00:00",
          "2020-12-09T00:00:00",
          "2020-12-10T00:00:00",
          "2020-12-11T00:00:00",
          "2020-12-12T00:00:00",
          "2020-12-13T00:00:00",
          "2020-12-14T00:00:00",
          "2020-12-15T00:00:00",
          "2020-12-16T00:00:00",
          "2020-12-17T00:00:00",
          "2020-12-18T00:00:00",
          "2020-12-19T00:00:00",
          "2020-12-20T00:00:00",
          "2020-12-21T00:00:00"
         ],
         "xaxis": "x",
         "y": [
          128,
          81,
          69,
          51,
          77,
          54,
          45,
          321,
          177,
          142,
          176,
          178,
          204,
          229,
          347
         ],
         "yaxis": "y"
        },
        {
         "alignmentgroup": "True",
         "hovertemplate": "group=B<br>Дата регистрации=%{x}<br>Количество зарегистрированных пользователей=%{y}<extra></extra>",
         "legendgroup": "B",
         "marker": {
          "color": "#EF553B",
          "pattern": {
           "shape": ""
          }
         },
         "name": "B",
         "offsetgroup": "B",
         "orientation": "v",
         "showlegend": true,
         "textposition": "auto",
         "type": "bar",
         "x": [
          "2020-12-07T00:00:00",
          "2020-12-08T00:00:00",
          "2020-12-09T00:00:00",
          "2020-12-10T00:00:00",
          "2020-12-11T00:00:00",
          "2020-12-12T00:00:00",
          "2020-12-13T00:00:00",
          "2020-12-14T00:00:00",
          "2020-12-15T00:00:00",
          "2020-12-16T00:00:00",
          "2020-12-17T00:00:00",
          "2020-12-18T00:00:00",
          "2020-12-19T00:00:00",
          "2020-12-20T00:00:00",
          "2020-12-21T00:00:00"
         ],
         "xaxis": "x",
         "y": [
          148,
          36,
          68,
          31,
          17,
          43,
          13,
          63,
          26,
          85,
          29,
          45,
          34,
          56,
          77
         ],
         "yaxis": "y"
        }
       ],
       "layout": {
        "barmode": "relative",
        "legend": {
         "title": {
          "text": "group"
         },
         "tracegroupgap": 0
        },
        "template": {
         "data": {
          "bar": [
           {
            "error_x": {
             "color": "#2a3f5f"
            },
            "error_y": {
             "color": "#2a3f5f"
            },
            "marker": {
             "line": {
              "color": "white",
              "width": 0.5
             },
             "pattern": {
              "fillmode": "overlay",
              "size": 10,
              "solidity": 0.2
             }
            },
            "type": "bar"
           }
          ],
          "barpolar": [
           {
            "marker": {
             "line": {
              "color": "white",
              "width": 0.5
             },
             "pattern": {
              "fillmode": "overlay",
              "size": 10,
              "solidity": 0.2
             }
            },
            "type": "barpolar"
           }
          ],
          "carpet": [
           {
            "aaxis": {
             "endlinecolor": "#2a3f5f",
             "gridcolor": "#C8D4E3",
             "linecolor": "#C8D4E3",
             "minorgridcolor": "#C8D4E3",
             "startlinecolor": "#2a3f5f"
            },
            "baxis": {
             "endlinecolor": "#2a3f5f",
             "gridcolor": "#C8D4E3",
             "linecolor": "#C8D4E3",
             "minorgridcolor": "#C8D4E3",
             "startlinecolor": "#2a3f5f"
            },
            "type": "carpet"
           }
          ],
          "choropleth": [
           {
            "colorbar": {
             "outlinewidth": 0,
             "ticks": ""
            },
            "type": "choropleth"
           }
          ],
          "contour": [
           {
            "colorbar": {
             "outlinewidth": 0,
             "ticks": ""
            },
            "colorscale": [
             [
              0,
              "#0d0887"
             ],
             [
              0.1111111111111111,
              "#46039f"
             ],
             [
              0.2222222222222222,
              "#7201a8"
             ],
             [
              0.3333333333333333,
              "#9c179e"
             ],
             [
              0.4444444444444444,
              "#bd3786"
             ],
             [
              0.5555555555555556,
              "#d8576b"
             ],
             [
              0.6666666666666666,
              "#ed7953"
             ],
             [
              0.7777777777777778,
              "#fb9f3a"
             ],
             [
              0.8888888888888888,
              "#fdca26"
             ],
             [
              1,
              "#f0f921"
             ]
            ],
            "type": "contour"
           }
          ],
          "contourcarpet": [
           {
            "colorbar": {
             "outlinewidth": 0,
             "ticks": ""
            },
            "type": "contourcarpet"
           }
          ],
          "heatmap": [
           {
            "colorbar": {
             "outlinewidth": 0,
             "ticks": ""
            },
            "colorscale": [
             [
              0,
              "#0d0887"
             ],
             [
              0.1111111111111111,
              "#46039f"
             ],
             [
              0.2222222222222222,
              "#7201a8"
             ],
             [
              0.3333333333333333,
              "#9c179e"
             ],
             [
              0.4444444444444444,
              "#bd3786"
             ],
             [
              0.5555555555555556,
              "#d8576b"
             ],
             [
              0.6666666666666666,
              "#ed7953"
             ],
             [
              0.7777777777777778,
              "#fb9f3a"
             ],
             [
              0.8888888888888888,
              "#fdca26"
             ],
             [
              1,
              "#f0f921"
             ]
            ],
            "type": "heatmap"
           }
          ],
          "heatmapgl": [
           {
            "colorbar": {
             "outlinewidth": 0,
             "ticks": ""
            },
            "colorscale": [
             [
              0,
              "#0d0887"
             ],
             [
              0.1111111111111111,
              "#46039f"
             ],
             [
              0.2222222222222222,
              "#7201a8"
             ],
             [
              0.3333333333333333,
              "#9c179e"
             ],
             [
              0.4444444444444444,
              "#bd3786"
             ],
             [
              0.5555555555555556,
              "#d8576b"
             ],
             [
              0.6666666666666666,
              "#ed7953"
             ],
             [
              0.7777777777777778,
              "#fb9f3a"
             ],
             [
              0.8888888888888888,
              "#fdca26"
             ],
             [
              1,
              "#f0f921"
             ]
            ],
            "type": "heatmapgl"
           }
          ],
          "histogram": [
           {
            "marker": {
             "pattern": {
              "fillmode": "overlay",
              "size": 10,
              "solidity": 0.2
             }
            },
            "type": "histogram"
           }
          ],
          "histogram2d": [
           {
            "colorbar": {
             "outlinewidth": 0,
             "ticks": ""
            },
            "colorscale": [
             [
              0,
              "#0d0887"
             ],
             [
              0.1111111111111111,
              "#46039f"
             ],
             [
              0.2222222222222222,
              "#7201a8"
             ],
             [
              0.3333333333333333,
              "#9c179e"
             ],
             [
              0.4444444444444444,
              "#bd3786"
             ],
             [
              0.5555555555555556,
              "#d8576b"
             ],
             [
              0.6666666666666666,
              "#ed7953"
             ],
             [
              0.7777777777777778,
              "#fb9f3a"
             ],
             [
              0.8888888888888888,
              "#fdca26"
             ],
             [
              1,
              "#f0f921"
             ]
            ],
            "type": "histogram2d"
           }
          ],
          "histogram2dcontour": [
           {
            "colorbar": {
             "outlinewidth": 0,
             "ticks": ""
            },
            "colorscale": [
             [
              0,
              "#0d0887"
             ],
             [
              0.1111111111111111,
              "#46039f"
             ],
             [
              0.2222222222222222,
              "#7201a8"
             ],
             [
              0.3333333333333333,
              "#9c179e"
             ],
             [
              0.4444444444444444,
              "#bd3786"
             ],
             [
              0.5555555555555556,
              "#d8576b"
             ],
             [
              0.6666666666666666,
              "#ed7953"
             ],
             [
              0.7777777777777778,
              "#fb9f3a"
             ],
             [
              0.8888888888888888,
              "#fdca26"
             ],
             [
              1,
              "#f0f921"
             ]
            ],
            "type": "histogram2dcontour"
           }
          ],
          "mesh3d": [
           {
            "colorbar": {
             "outlinewidth": 0,
             "ticks": ""
            },
            "type": "mesh3d"
           }
          ],
          "parcoords": [
           {
            "line": {
             "colorbar": {
              "outlinewidth": 0,
              "ticks": ""
             }
            },
            "type": "parcoords"
           }
          ],
          "pie": [
           {
            "automargin": true,
            "type": "pie"
           }
          ],
          "scatter": [
           {
            "fillpattern": {
             "fillmode": "overlay",
             "size": 10,
             "solidity": 0.2
            },
            "type": "scatter"
           }
          ],
          "scatter3d": [
           {
            "line": {
             "colorbar": {
              "outlinewidth": 0,
              "ticks": ""
             }
            },
            "marker": {
             "colorbar": {
              "outlinewidth": 0,
              "ticks": ""
             }
            },
            "type": "scatter3d"
           }
          ],
          "scattercarpet": [
           {
            "marker": {
             "colorbar": {
              "outlinewidth": 0,
              "ticks": ""
             }
            },
            "type": "scattercarpet"
           }
          ],
          "scattergeo": [
           {
            "marker": {
             "colorbar": {
              "outlinewidth": 0,
              "ticks": ""
             }
            },
            "type": "scattergeo"
           }
          ],
          "scattergl": [
           {
            "marker": {
             "colorbar": {
              "outlinewidth": 0,
              "ticks": ""
             }
            },
            "type": "scattergl"
           }
          ],
          "scattermapbox": [
           {
            "marker": {
             "colorbar": {
              "outlinewidth": 0,
              "ticks": ""
             }
            },
            "type": "scattermapbox"
           }
          ],
          "scatterpolar": [
           {
            "marker": {
             "colorbar": {
              "outlinewidth": 0,
              "ticks": ""
             }
            },
            "type": "scatterpolar"
           }
          ],
          "scatterpolargl": [
           {
            "marker": {
             "colorbar": {
              "outlinewidth": 0,
              "ticks": ""
             }
            },
            "type": "scatterpolargl"
           }
          ],
          "scatterternary": [
           {
            "marker": {
             "colorbar": {
              "outlinewidth": 0,
              "ticks": ""
             }
            },
            "type": "scatterternary"
           }
          ],
          "surface": [
           {
            "colorbar": {
             "outlinewidth": 0,
             "ticks": ""
            },
            "colorscale": [
             [
              0,
              "#0d0887"
             ],
             [
              0.1111111111111111,
              "#46039f"
             ],
             [
              0.2222222222222222,
              "#7201a8"
             ],
             [
              0.3333333333333333,
              "#9c179e"
             ],
             [
              0.4444444444444444,
              "#bd3786"
             ],
             [
              0.5555555555555556,
              "#d8576b"
             ],
             [
              0.6666666666666666,
              "#ed7953"
             ],
             [
              0.7777777777777778,
              "#fb9f3a"
             ],
             [
              0.8888888888888888,
              "#fdca26"
             ],
             [
              1,
              "#f0f921"
             ]
            ],
            "type": "surface"
           }
          ],
          "table": [
           {
            "cells": {
             "fill": {
              "color": "#EBF0F8"
             },
             "line": {
              "color": "white"
             }
            },
            "header": {
             "fill": {
              "color": "#C8D4E3"
             },
             "line": {
              "color": "white"
             }
            },
            "type": "table"
           }
          ]
         },
         "layout": {
          "annotationdefaults": {
           "arrowcolor": "#2a3f5f",
           "arrowhead": 0,
           "arrowwidth": 1
          },
          "autotypenumbers": "strict",
          "coloraxis": {
           "colorbar": {
            "outlinewidth": 0,
            "ticks": ""
           }
          },
          "colorscale": {
           "diverging": [
            [
             0,
             "#8e0152"
            ],
            [
             0.1,
             "#c51b7d"
            ],
            [
             0.2,
             "#de77ae"
            ],
            [
             0.3,
             "#f1b6da"
            ],
            [
             0.4,
             "#fde0ef"
            ],
            [
             0.5,
             "#f7f7f7"
            ],
            [
             0.6,
             "#e6f5d0"
            ],
            [
             0.7,
             "#b8e186"
            ],
            [
             0.8,
             "#7fbc41"
            ],
            [
             0.9,
             "#4d9221"
            ],
            [
             1,
             "#276419"
            ]
           ],
           "sequential": [
            [
             0,
             "#0d0887"
            ],
            [
             0.1111111111111111,
             "#46039f"
            ],
            [
             0.2222222222222222,
             "#7201a8"
            ],
            [
             0.3333333333333333,
             "#9c179e"
            ],
            [
             0.4444444444444444,
             "#bd3786"
            ],
            [
             0.5555555555555556,
             "#d8576b"
            ],
            [
             0.6666666666666666,
             "#ed7953"
            ],
            [
             0.7777777777777778,
             "#fb9f3a"
            ],
            [
             0.8888888888888888,
             "#fdca26"
            ],
            [
             1,
             "#f0f921"
            ]
           ],
           "sequentialminus": [
            [
             0,
             "#0d0887"
            ],
            [
             0.1111111111111111,
             "#46039f"
            ],
            [
             0.2222222222222222,
             "#7201a8"
            ],
            [
             0.3333333333333333,
             "#9c179e"
            ],
            [
             0.4444444444444444,
             "#bd3786"
            ],
            [
             0.5555555555555556,
             "#d8576b"
            ],
            [
             0.6666666666666666,
             "#ed7953"
            ],
            [
             0.7777777777777778,
             "#fb9f3a"
            ],
            [
             0.8888888888888888,
             "#fdca26"
            ],
            [
             1,
             "#f0f921"
            ]
           ]
          },
          "colorway": [
           "#636efa",
           "#EF553B",
           "#00cc96",
           "#ab63fa",
           "#FFA15A",
           "#19d3f3",
           "#FF6692",
           "#B6E880",
           "#FF97FF",
           "#FECB52"
          ],
          "font": {
           "color": "#2a3f5f"
          },
          "geo": {
           "bgcolor": "white",
           "lakecolor": "white",
           "landcolor": "white",
           "showlakes": true,
           "showland": true,
           "subunitcolor": "#C8D4E3"
          },
          "hoverlabel": {
           "align": "left"
          },
          "hovermode": "closest",
          "mapbox": {
           "style": "light"
          },
          "paper_bgcolor": "white",
          "plot_bgcolor": "white",
          "polar": {
           "angularaxis": {
            "gridcolor": "#EBF0F8",
            "linecolor": "#EBF0F8",
            "ticks": ""
           },
           "bgcolor": "white",
           "radialaxis": {
            "gridcolor": "#EBF0F8",
            "linecolor": "#EBF0F8",
            "ticks": ""
           }
          },
          "scene": {
           "xaxis": {
            "backgroundcolor": "white",
            "gridcolor": "#DFE8F3",
            "gridwidth": 2,
            "linecolor": "#EBF0F8",
            "showbackground": true,
            "ticks": "",
            "zerolinecolor": "#EBF0F8"
           },
           "yaxis": {
            "backgroundcolor": "white",
            "gridcolor": "#DFE8F3",
            "gridwidth": 2,
            "linecolor": "#EBF0F8",
            "showbackground": true,
            "ticks": "",
            "zerolinecolor": "#EBF0F8"
           },
           "zaxis": {
            "backgroundcolor": "white",
            "gridcolor": "#DFE8F3",
            "gridwidth": 2,
            "linecolor": "#EBF0F8",
            "showbackground": true,
            "ticks": "",
            "zerolinecolor": "#EBF0F8"
           }
          },
          "shapedefaults": {
           "line": {
            "color": "#2a3f5f"
           }
          },
          "ternary": {
           "aaxis": {
            "gridcolor": "#DFE8F3",
            "linecolor": "#A2B1C6",
            "ticks": ""
           },
           "baxis": {
            "gridcolor": "#DFE8F3",
            "linecolor": "#A2B1C6",
            "ticks": ""
           },
           "bgcolor": "white",
           "caxis": {
            "gridcolor": "#DFE8F3",
            "linecolor": "#A2B1C6",
            "ticks": ""
           }
          },
          "title": {
           "x": 0.05
          },
          "xaxis": {
           "automargin": true,
           "gridcolor": "#EBF0F8",
           "linecolor": "#EBF0F8",
           "ticks": "",
           "title": {
            "standoff": 15
           },
           "zerolinecolor": "#EBF0F8",
           "zerolinewidth": 2
          },
          "yaxis": {
           "automargin": true,
           "gridcolor": "#EBF0F8",
           "linecolor": "#EBF0F8",
           "ticks": "",
           "title": {
            "standoff": 15
           },
           "zerolinecolor": "#EBF0F8",
           "zerolinewidth": 2
          }
         }
        },
        "title": {
         "text": "Регистрация пользователей по группам"
        },
        "xaxis": {
         "anchor": "y",
         "domain": [
          0,
          1
         ],
         "tickangle": -45,
         "title": {
          "text": "Дата регистрации"
         }
        },
        "yaxis": {
         "anchor": "x",
         "domain": [
          0,
          1
         ],
         "title": {
          "text": "Количество зарегистрированных пользователей"
         }
        }
       }
      },
      "text/html": [
       "<div>                            <div id=\"b84ed83c-8da9-472d-8f5e-ae3535f0f56c\" class=\"plotly-graph-div\" style=\"height:525px; width:100%;\"></div>            <script type=\"text/javascript\">                require([\"plotly\"], function(Plotly) {                    window.PLOTLYENV=window.PLOTLYENV || {};                                    if (document.getElementById(\"b84ed83c-8da9-472d-8f5e-ae3535f0f56c\")) {                    Plotly.newPlot(                        \"b84ed83c-8da9-472d-8f5e-ae3535f0f56c\",                        [{\"alignmentgroup\":\"True\",\"hovertemplate\":\"group=A\\u003cbr\\u003e\\u0414\\u0430\\u0442\\u0430 \\u0440\\u0435\\u0433\\u0438\\u0441\\u0442\\u0440\\u0430\\u0446\\u0438\\u0438=%{x}\\u003cbr\\u003e\\u041a\\u043e\\u043b\\u0438\\u0447\\u0435\\u0441\\u0442\\u0432\\u043e \\u0437\\u0430\\u0440\\u0435\\u0433\\u0438\\u0441\\u0442\\u0440\\u0438\\u0440\\u043e\\u0432\\u0430\\u043d\\u043d\\u044b\\u0445 \\u043f\\u043e\\u043b\\u044c\\u0437\\u043e\\u0432\\u0430\\u0442\\u0435\\u043b\\u0435\\u0439=%{y}\\u003cextra\\u003e\\u003c\\u002fextra\\u003e\",\"legendgroup\":\"A\",\"marker\":{\"color\":\"#636efa\",\"pattern\":{\"shape\":\"\"}},\"name\":\"A\",\"offsetgroup\":\"A\",\"orientation\":\"v\",\"showlegend\":true,\"textposition\":\"auto\",\"x\":[\"2020-12-07T00:00:00\",\"2020-12-08T00:00:00\",\"2020-12-09T00:00:00\",\"2020-12-10T00:00:00\",\"2020-12-11T00:00:00\",\"2020-12-12T00:00:00\",\"2020-12-13T00:00:00\",\"2020-12-14T00:00:00\",\"2020-12-15T00:00:00\",\"2020-12-16T00:00:00\",\"2020-12-17T00:00:00\",\"2020-12-18T00:00:00\",\"2020-12-19T00:00:00\",\"2020-12-20T00:00:00\",\"2020-12-21T00:00:00\"],\"xaxis\":\"x\",\"y\":[128,81,69,51,77,54,45,321,177,142,176,178,204,229,347],\"yaxis\":\"y\",\"type\":\"bar\"},{\"alignmentgroup\":\"True\",\"hovertemplate\":\"group=B\\u003cbr\\u003e\\u0414\\u0430\\u0442\\u0430 \\u0440\\u0435\\u0433\\u0438\\u0441\\u0442\\u0440\\u0430\\u0446\\u0438\\u0438=%{x}\\u003cbr\\u003e\\u041a\\u043e\\u043b\\u0438\\u0447\\u0435\\u0441\\u0442\\u0432\\u043e \\u0437\\u0430\\u0440\\u0435\\u0433\\u0438\\u0441\\u0442\\u0440\\u0438\\u0440\\u043e\\u0432\\u0430\\u043d\\u043d\\u044b\\u0445 \\u043f\\u043e\\u043b\\u044c\\u0437\\u043e\\u0432\\u0430\\u0442\\u0435\\u043b\\u0435\\u0439=%{y}\\u003cextra\\u003e\\u003c\\u002fextra\\u003e\",\"legendgroup\":\"B\",\"marker\":{\"color\":\"#EF553B\",\"pattern\":{\"shape\":\"\"}},\"name\":\"B\",\"offsetgroup\":\"B\",\"orientation\":\"v\",\"showlegend\":true,\"textposition\":\"auto\",\"x\":[\"2020-12-07T00:00:00\",\"2020-12-08T00:00:00\",\"2020-12-09T00:00:00\",\"2020-12-10T00:00:00\",\"2020-12-11T00:00:00\",\"2020-12-12T00:00:00\",\"2020-12-13T00:00:00\",\"2020-12-14T00:00:00\",\"2020-12-15T00:00:00\",\"2020-12-16T00:00:00\",\"2020-12-17T00:00:00\",\"2020-12-18T00:00:00\",\"2020-12-19T00:00:00\",\"2020-12-20T00:00:00\",\"2020-12-21T00:00:00\"],\"xaxis\":\"x\",\"y\":[148,36,68,31,17,43,13,63,26,85,29,45,34,56,77],\"yaxis\":\"y\",\"type\":\"bar\"}],                        {\"template\":{\"data\":{\"barpolar\":[{\"marker\":{\"line\":{\"color\":\"white\",\"width\":0.5},\"pattern\":{\"fillmode\":\"overlay\",\"size\":10,\"solidity\":0.2}},\"type\":\"barpolar\"}],\"bar\":[{\"error_x\":{\"color\":\"#2a3f5f\"},\"error_y\":{\"color\":\"#2a3f5f\"},\"marker\":{\"line\":{\"color\":\"white\",\"width\":0.5},\"pattern\":{\"fillmode\":\"overlay\",\"size\":10,\"solidity\":0.2}},\"type\":\"bar\"}],\"carpet\":[{\"aaxis\":{\"endlinecolor\":\"#2a3f5f\",\"gridcolor\":\"#C8D4E3\",\"linecolor\":\"#C8D4E3\",\"minorgridcolor\":\"#C8D4E3\",\"startlinecolor\":\"#2a3f5f\"},\"baxis\":{\"endlinecolor\":\"#2a3f5f\",\"gridcolor\":\"#C8D4E3\",\"linecolor\":\"#C8D4E3\",\"minorgridcolor\":\"#C8D4E3\",\"startlinecolor\":\"#2a3f5f\"},\"type\":\"carpet\"}],\"choropleth\":[{\"colorbar\":{\"outlinewidth\":0,\"ticks\":\"\"},\"type\":\"choropleth\"}],\"contourcarpet\":[{\"colorbar\":{\"outlinewidth\":0,\"ticks\":\"\"},\"type\":\"contourcarpet\"}],\"contour\":[{\"colorbar\":{\"outlinewidth\":0,\"ticks\":\"\"},\"colorscale\":[[0.0,\"#0d0887\"],[0.1111111111111111,\"#46039f\"],[0.2222222222222222,\"#7201a8\"],[0.3333333333333333,\"#9c179e\"],[0.4444444444444444,\"#bd3786\"],[0.5555555555555556,\"#d8576b\"],[0.6666666666666666,\"#ed7953\"],[0.7777777777777778,\"#fb9f3a\"],[0.8888888888888888,\"#fdca26\"],[1.0,\"#f0f921\"]],\"type\":\"contour\"}],\"heatmapgl\":[{\"colorbar\":{\"outlinewidth\":0,\"ticks\":\"\"},\"colorscale\":[[0.0,\"#0d0887\"],[0.1111111111111111,\"#46039f\"],[0.2222222222222222,\"#7201a8\"],[0.3333333333333333,\"#9c179e\"],[0.4444444444444444,\"#bd3786\"],[0.5555555555555556,\"#d8576b\"],[0.6666666666666666,\"#ed7953\"],[0.7777777777777778,\"#fb9f3a\"],[0.8888888888888888,\"#fdca26\"],[1.0,\"#f0f921\"]],\"type\":\"heatmapgl\"}],\"heatmap\":[{\"colorbar\":{\"outlinewidth\":0,\"ticks\":\"\"},\"colorscale\":[[0.0,\"#0d0887\"],[0.1111111111111111,\"#46039f\"],[0.2222222222222222,\"#7201a8\"],[0.3333333333333333,\"#9c179e\"],[0.4444444444444444,\"#bd3786\"],[0.5555555555555556,\"#d8576b\"],[0.6666666666666666,\"#ed7953\"],[0.7777777777777778,\"#fb9f3a\"],[0.8888888888888888,\"#fdca26\"],[1.0,\"#f0f921\"]],\"type\":\"heatmap\"}],\"histogram2dcontour\":[{\"colorbar\":{\"outlinewidth\":0,\"ticks\":\"\"},\"colorscale\":[[0.0,\"#0d0887\"],[0.1111111111111111,\"#46039f\"],[0.2222222222222222,\"#7201a8\"],[0.3333333333333333,\"#9c179e\"],[0.4444444444444444,\"#bd3786\"],[0.5555555555555556,\"#d8576b\"],[0.6666666666666666,\"#ed7953\"],[0.7777777777777778,\"#fb9f3a\"],[0.8888888888888888,\"#fdca26\"],[1.0,\"#f0f921\"]],\"type\":\"histogram2dcontour\"}],\"histogram2d\":[{\"colorbar\":{\"outlinewidth\":0,\"ticks\":\"\"},\"colorscale\":[[0.0,\"#0d0887\"],[0.1111111111111111,\"#46039f\"],[0.2222222222222222,\"#7201a8\"],[0.3333333333333333,\"#9c179e\"],[0.4444444444444444,\"#bd3786\"],[0.5555555555555556,\"#d8576b\"],[0.6666666666666666,\"#ed7953\"],[0.7777777777777778,\"#fb9f3a\"],[0.8888888888888888,\"#fdca26\"],[1.0,\"#f0f921\"]],\"type\":\"histogram2d\"}],\"histogram\":[{\"marker\":{\"pattern\":{\"fillmode\":\"overlay\",\"size\":10,\"solidity\":0.2}},\"type\":\"histogram\"}],\"mesh3d\":[{\"colorbar\":{\"outlinewidth\":0,\"ticks\":\"\"},\"type\":\"mesh3d\"}],\"parcoords\":[{\"line\":{\"colorbar\":{\"outlinewidth\":0,\"ticks\":\"\"}},\"type\":\"parcoords\"}],\"pie\":[{\"automargin\":true,\"type\":\"pie\"}],\"scatter3d\":[{\"line\":{\"colorbar\":{\"outlinewidth\":0,\"ticks\":\"\"}},\"marker\":{\"colorbar\":{\"outlinewidth\":0,\"ticks\":\"\"}},\"type\":\"scatter3d\"}],\"scattercarpet\":[{\"marker\":{\"colorbar\":{\"outlinewidth\":0,\"ticks\":\"\"}},\"type\":\"scattercarpet\"}],\"scattergeo\":[{\"marker\":{\"colorbar\":{\"outlinewidth\":0,\"ticks\":\"\"}},\"type\":\"scattergeo\"}],\"scattergl\":[{\"marker\":{\"colorbar\":{\"outlinewidth\":0,\"ticks\":\"\"}},\"type\":\"scattergl\"}],\"scattermapbox\":[{\"marker\":{\"colorbar\":{\"outlinewidth\":0,\"ticks\":\"\"}},\"type\":\"scattermapbox\"}],\"scatterpolargl\":[{\"marker\":{\"colorbar\":{\"outlinewidth\":0,\"ticks\":\"\"}},\"type\":\"scatterpolargl\"}],\"scatterpolar\":[{\"marker\":{\"colorbar\":{\"outlinewidth\":0,\"ticks\":\"\"}},\"type\":\"scatterpolar\"}],\"scatter\":[{\"fillpattern\":{\"fillmode\":\"overlay\",\"size\":10,\"solidity\":0.2},\"type\":\"scatter\"}],\"scatterternary\":[{\"marker\":{\"colorbar\":{\"outlinewidth\":0,\"ticks\":\"\"}},\"type\":\"scatterternary\"}],\"surface\":[{\"colorbar\":{\"outlinewidth\":0,\"ticks\":\"\"},\"colorscale\":[[0.0,\"#0d0887\"],[0.1111111111111111,\"#46039f\"],[0.2222222222222222,\"#7201a8\"],[0.3333333333333333,\"#9c179e\"],[0.4444444444444444,\"#bd3786\"],[0.5555555555555556,\"#d8576b\"],[0.6666666666666666,\"#ed7953\"],[0.7777777777777778,\"#fb9f3a\"],[0.8888888888888888,\"#fdca26\"],[1.0,\"#f0f921\"]],\"type\":\"surface\"}],\"table\":[{\"cells\":{\"fill\":{\"color\":\"#EBF0F8\"},\"line\":{\"color\":\"white\"}},\"header\":{\"fill\":{\"color\":\"#C8D4E3\"},\"line\":{\"color\":\"white\"}},\"type\":\"table\"}]},\"layout\":{\"annotationdefaults\":{\"arrowcolor\":\"#2a3f5f\",\"arrowhead\":0,\"arrowwidth\":1},\"autotypenumbers\":\"strict\",\"coloraxis\":{\"colorbar\":{\"outlinewidth\":0,\"ticks\":\"\"}},\"colorscale\":{\"diverging\":[[0,\"#8e0152\"],[0.1,\"#c51b7d\"],[0.2,\"#de77ae\"],[0.3,\"#f1b6da\"],[0.4,\"#fde0ef\"],[0.5,\"#f7f7f7\"],[0.6,\"#e6f5d0\"],[0.7,\"#b8e186\"],[0.8,\"#7fbc41\"],[0.9,\"#4d9221\"],[1,\"#276419\"]],\"sequential\":[[0.0,\"#0d0887\"],[0.1111111111111111,\"#46039f\"],[0.2222222222222222,\"#7201a8\"],[0.3333333333333333,\"#9c179e\"],[0.4444444444444444,\"#bd3786\"],[0.5555555555555556,\"#d8576b\"],[0.6666666666666666,\"#ed7953\"],[0.7777777777777778,\"#fb9f3a\"],[0.8888888888888888,\"#fdca26\"],[1.0,\"#f0f921\"]],\"sequentialminus\":[[0.0,\"#0d0887\"],[0.1111111111111111,\"#46039f\"],[0.2222222222222222,\"#7201a8\"],[0.3333333333333333,\"#9c179e\"],[0.4444444444444444,\"#bd3786\"],[0.5555555555555556,\"#d8576b\"],[0.6666666666666666,\"#ed7953\"],[0.7777777777777778,\"#fb9f3a\"],[0.8888888888888888,\"#fdca26\"],[1.0,\"#f0f921\"]]},\"colorway\":[\"#636efa\",\"#EF553B\",\"#00cc96\",\"#ab63fa\",\"#FFA15A\",\"#19d3f3\",\"#FF6692\",\"#B6E880\",\"#FF97FF\",\"#FECB52\"],\"font\":{\"color\":\"#2a3f5f\"},\"geo\":{\"bgcolor\":\"white\",\"lakecolor\":\"white\",\"landcolor\":\"white\",\"showlakes\":true,\"showland\":true,\"subunitcolor\":\"#C8D4E3\"},\"hoverlabel\":{\"align\":\"left\"},\"hovermode\":\"closest\",\"mapbox\":{\"style\":\"light\"},\"paper_bgcolor\":\"white\",\"plot_bgcolor\":\"white\",\"polar\":{\"angularaxis\":{\"gridcolor\":\"#EBF0F8\",\"linecolor\":\"#EBF0F8\",\"ticks\":\"\"},\"bgcolor\":\"white\",\"radialaxis\":{\"gridcolor\":\"#EBF0F8\",\"linecolor\":\"#EBF0F8\",\"ticks\":\"\"}},\"scene\":{\"xaxis\":{\"backgroundcolor\":\"white\",\"gridcolor\":\"#DFE8F3\",\"gridwidth\":2,\"linecolor\":\"#EBF0F8\",\"showbackground\":true,\"ticks\":\"\",\"zerolinecolor\":\"#EBF0F8\"},\"yaxis\":{\"backgroundcolor\":\"white\",\"gridcolor\":\"#DFE8F3\",\"gridwidth\":2,\"linecolor\":\"#EBF0F8\",\"showbackground\":true,\"ticks\":\"\",\"zerolinecolor\":\"#EBF0F8\"},\"zaxis\":{\"backgroundcolor\":\"white\",\"gridcolor\":\"#DFE8F3\",\"gridwidth\":2,\"linecolor\":\"#EBF0F8\",\"showbackground\":true,\"ticks\":\"\",\"zerolinecolor\":\"#EBF0F8\"}},\"shapedefaults\":{\"line\":{\"color\":\"#2a3f5f\"}},\"ternary\":{\"aaxis\":{\"gridcolor\":\"#DFE8F3\",\"linecolor\":\"#A2B1C6\",\"ticks\":\"\"},\"baxis\":{\"gridcolor\":\"#DFE8F3\",\"linecolor\":\"#A2B1C6\",\"ticks\":\"\"},\"bgcolor\":\"white\",\"caxis\":{\"gridcolor\":\"#DFE8F3\",\"linecolor\":\"#A2B1C6\",\"ticks\":\"\"}},\"title\":{\"x\":0.05},\"xaxis\":{\"automargin\":true,\"gridcolor\":\"#EBF0F8\",\"linecolor\":\"#EBF0F8\",\"ticks\":\"\",\"title\":{\"standoff\":15},\"zerolinecolor\":\"#EBF0F8\",\"zerolinewidth\":2},\"yaxis\":{\"automargin\":true,\"gridcolor\":\"#EBF0F8\",\"linecolor\":\"#EBF0F8\",\"ticks\":\"\",\"title\":{\"standoff\":15},\"zerolinecolor\":\"#EBF0F8\",\"zerolinewidth\":2}}},\"xaxis\":{\"anchor\":\"y\",\"domain\":[0.0,1.0],\"title\":{\"text\":\"\\u0414\\u0430\\u0442\\u0430 \\u0440\\u0435\\u0433\\u0438\\u0441\\u0442\\u0440\\u0430\\u0446\\u0438\\u0438\"},\"tickangle\":-45},\"yaxis\":{\"anchor\":\"x\",\"domain\":[0.0,1.0],\"title\":{\"text\":\"\\u041a\\u043e\\u043b\\u0438\\u0447\\u0435\\u0441\\u0442\\u0432\\u043e \\u0437\\u0430\\u0440\\u0435\\u0433\\u0438\\u0441\\u0442\\u0440\\u0438\\u0440\\u043e\\u0432\\u0430\\u043d\\u043d\\u044b\\u0445 \\u043f\\u043e\\u043b\\u044c\\u0437\\u043e\\u0432\\u0430\\u0442\\u0435\\u043b\\u0435\\u0439\"}},\"legend\":{\"title\":{\"text\":\"group\"},\"tracegroupgap\":0},\"title\":{\"text\":\"\\u0420\\u0435\\u0433\\u0438\\u0441\\u0442\\u0440\\u0430\\u0446\\u0438\\u044f \\u043f\\u043e\\u043b\\u044c\\u0437\\u043e\\u0432\\u0430\\u0442\\u0435\\u043b\\u0435\\u0439 \\u043f\\u043e \\u0433\\u0440\\u0443\\u043f\\u043f\\u0430\\u043c\"},\"barmode\":\"relative\"},                        {\"responsive\": true}                    ).then(function(){\n",
       "                            \n",
       "var gd = document.getElementById('b84ed83c-8da9-472d-8f5e-ae3535f0f56c');\n",
       "var x = new MutationObserver(function (mutations, observer) {{\n",
       "        var display = window.getComputedStyle(gd).display;\n",
       "        if (!display || display === 'none') {{\n",
       "            console.log([gd, 'removed!']);\n",
       "            Plotly.purge(gd);\n",
       "            observer.disconnect();\n",
       "        }}\n",
       "}});\n",
       "\n",
       "// Listen for the removal of the full notebook cells\n",
       "var notebookContainer = gd.closest('#notebook-container');\n",
       "if (notebookContainer) {{\n",
       "    x.observe(notebookContainer, {childList: true});\n",
       "}}\n",
       "\n",
       "// Listen for the clearing of the current output cell\n",
       "var outputEl = gd.closest('.output');\n",
       "if (outputEl) {{\n",
       "    x.observe(outputEl, {childList: true});\n",
       "}}\n",
       "\n",
       "                        })                };                });            </script>        </div>"
      ]
     },
     "metadata": {},
     "output_type": "display_data"
    }
   ],
   "source": [
    "registration_per_day = a_b_rec.groupby(['group', 'first_date'])['user_id'].nunique().reset_index()\n",
    "\n",
    "fig = px.bar(registration_per_day, x='first_date', y='user_id', color='group',\n",
    "             title='Регистрация пользователей по группам',\n",
    "             labels={'first_date': 'Дата регистрации', 'user_id': 'Количество зарегистрированных пользователей'},\n",
    "             template='plotly_white')\n",
    "\n",
    "fig.update_layout(xaxis_tickangle=-45)\n",
    "fig.show()"
   ]
  },
  {
   "cell_type": "code",
   "execution_count": 56,
   "id": "5a14e91b",
   "metadata": {},
   "outputs": [
    {
     "data": {
      "application/vnd.plotly.v1+json": {
       "config": {
        "plotlyServerURL": "https://plot.ly"
       },
       "data": [
        {
         "hovertemplate": "group=A<br>Дата регистрации=%{x}<br>Доля зарегистрированных пользователей (%)=%{y}<extra></extra>",
         "legendgroup": "A",
         "line": {
          "color": "#636efa",
          "dash": "solid"
         },
         "marker": {
          "symbol": "circle"
         },
         "mode": "lines",
         "name": "A",
         "orientation": "v",
         "showlegend": true,
         "type": "scatter",
         "x": [
          "2020-12-07T00:00:00",
          "2020-12-08T00:00:00",
          "2020-12-09T00:00:00",
          "2020-12-10T00:00:00",
          "2020-12-11T00:00:00",
          "2020-12-12T00:00:00",
          "2020-12-13T00:00:00",
          "2020-12-14T00:00:00",
          "2020-12-15T00:00:00",
          "2020-12-16T00:00:00",
          "2020-12-17T00:00:00",
          "2020-12-18T00:00:00",
          "2020-12-19T00:00:00",
          "2020-12-20T00:00:00",
          "2020-12-21T00:00:00"
         ],
         "xaxis": "x",
         "y": [
          5.616498464238702,
          3.5541904344010526,
          3.0276437033786747,
          2.237823606845107,
          3.378674857393594,
          2.369460289600702,
          1.9745502413339184,
          14.085125054848618,
          7.766564282580079,
          6.230802983764809,
          7.722685388328214,
          7.810443176831944,
          8.951294427380429,
          10.04826678367705,
          15.225976305397104
         ],
         "yaxis": "y"
        },
        {
         "hovertemplate": "group=B<br>Дата регистрации=%{x}<br>Доля зарегистрированных пользователей (%)=%{y}<extra></extra>",
         "legendgroup": "B",
         "line": {
          "color": "#EF553B",
          "dash": "solid"
         },
         "marker": {
          "symbol": "circle"
         },
         "mode": "lines",
         "name": "B",
         "orientation": "v",
         "showlegend": true,
         "type": "scatter",
         "x": [
          "2020-12-07T00:00:00",
          "2020-12-08T00:00:00",
          "2020-12-09T00:00:00",
          "2020-12-10T00:00:00",
          "2020-12-11T00:00:00",
          "2020-12-12T00:00:00",
          "2020-12-13T00:00:00",
          "2020-12-14T00:00:00",
          "2020-12-15T00:00:00",
          "2020-12-16T00:00:00",
          "2020-12-17T00:00:00",
          "2020-12-18T00:00:00",
          "2020-12-19T00:00:00",
          "2020-12-20T00:00:00",
          "2020-12-21T00:00:00"
         ],
         "xaxis": "x",
         "y": [
          19.1958495460441,
          4.669260700389105,
          8.819714656290532,
          4.020752269779507,
          2.204928664072633,
          5.577172503242543,
          1.6861219195849546,
          8.171206225680933,
          3.372243839169909,
          11.024643320363165,
          3.761348897535668,
          5.836575875486381,
          4.409857328145266,
          7.263294422827498,
          9.987029831387808
         ],
         "yaxis": "y"
        }
       ],
       "layout": {
        "legend": {
         "title": {
          "text": "group"
         },
         "tracegroupgap": 0
        },
        "template": {
         "data": {
          "bar": [
           {
            "error_x": {
             "color": "#2a3f5f"
            },
            "error_y": {
             "color": "#2a3f5f"
            },
            "marker": {
             "line": {
              "color": "white",
              "width": 0.5
             },
             "pattern": {
              "fillmode": "overlay",
              "size": 10,
              "solidity": 0.2
             }
            },
            "type": "bar"
           }
          ],
          "barpolar": [
           {
            "marker": {
             "line": {
              "color": "white",
              "width": 0.5
             },
             "pattern": {
              "fillmode": "overlay",
              "size": 10,
              "solidity": 0.2
             }
            },
            "type": "barpolar"
           }
          ],
          "carpet": [
           {
            "aaxis": {
             "endlinecolor": "#2a3f5f",
             "gridcolor": "#C8D4E3",
             "linecolor": "#C8D4E3",
             "minorgridcolor": "#C8D4E3",
             "startlinecolor": "#2a3f5f"
            },
            "baxis": {
             "endlinecolor": "#2a3f5f",
             "gridcolor": "#C8D4E3",
             "linecolor": "#C8D4E3",
             "minorgridcolor": "#C8D4E3",
             "startlinecolor": "#2a3f5f"
            },
            "type": "carpet"
           }
          ],
          "choropleth": [
           {
            "colorbar": {
             "outlinewidth": 0,
             "ticks": ""
            },
            "type": "choropleth"
           }
          ],
          "contour": [
           {
            "colorbar": {
             "outlinewidth": 0,
             "ticks": ""
            },
            "colorscale": [
             [
              0,
              "#0d0887"
             ],
             [
              0.1111111111111111,
              "#46039f"
             ],
             [
              0.2222222222222222,
              "#7201a8"
             ],
             [
              0.3333333333333333,
              "#9c179e"
             ],
             [
              0.4444444444444444,
              "#bd3786"
             ],
             [
              0.5555555555555556,
              "#d8576b"
             ],
             [
              0.6666666666666666,
              "#ed7953"
             ],
             [
              0.7777777777777778,
              "#fb9f3a"
             ],
             [
              0.8888888888888888,
              "#fdca26"
             ],
             [
              1,
              "#f0f921"
             ]
            ],
            "type": "contour"
           }
          ],
          "contourcarpet": [
           {
            "colorbar": {
             "outlinewidth": 0,
             "ticks": ""
            },
            "type": "contourcarpet"
           }
          ],
          "heatmap": [
           {
            "colorbar": {
             "outlinewidth": 0,
             "ticks": ""
            },
            "colorscale": [
             [
              0,
              "#0d0887"
             ],
             [
              0.1111111111111111,
              "#46039f"
             ],
             [
              0.2222222222222222,
              "#7201a8"
             ],
             [
              0.3333333333333333,
              "#9c179e"
             ],
             [
              0.4444444444444444,
              "#bd3786"
             ],
             [
              0.5555555555555556,
              "#d8576b"
             ],
             [
              0.6666666666666666,
              "#ed7953"
             ],
             [
              0.7777777777777778,
              "#fb9f3a"
             ],
             [
              0.8888888888888888,
              "#fdca26"
             ],
             [
              1,
              "#f0f921"
             ]
            ],
            "type": "heatmap"
           }
          ],
          "heatmapgl": [
           {
            "colorbar": {
             "outlinewidth": 0,
             "ticks": ""
            },
            "colorscale": [
             [
              0,
              "#0d0887"
             ],
             [
              0.1111111111111111,
              "#46039f"
             ],
             [
              0.2222222222222222,
              "#7201a8"
             ],
             [
              0.3333333333333333,
              "#9c179e"
             ],
             [
              0.4444444444444444,
              "#bd3786"
             ],
             [
              0.5555555555555556,
              "#d8576b"
             ],
             [
              0.6666666666666666,
              "#ed7953"
             ],
             [
              0.7777777777777778,
              "#fb9f3a"
             ],
             [
              0.8888888888888888,
              "#fdca26"
             ],
             [
              1,
              "#f0f921"
             ]
            ],
            "type": "heatmapgl"
           }
          ],
          "histogram": [
           {
            "marker": {
             "pattern": {
              "fillmode": "overlay",
              "size": 10,
              "solidity": 0.2
             }
            },
            "type": "histogram"
           }
          ],
          "histogram2d": [
           {
            "colorbar": {
             "outlinewidth": 0,
             "ticks": ""
            },
            "colorscale": [
             [
              0,
              "#0d0887"
             ],
             [
              0.1111111111111111,
              "#46039f"
             ],
             [
              0.2222222222222222,
              "#7201a8"
             ],
             [
              0.3333333333333333,
              "#9c179e"
             ],
             [
              0.4444444444444444,
              "#bd3786"
             ],
             [
              0.5555555555555556,
              "#d8576b"
             ],
             [
              0.6666666666666666,
              "#ed7953"
             ],
             [
              0.7777777777777778,
              "#fb9f3a"
             ],
             [
              0.8888888888888888,
              "#fdca26"
             ],
             [
              1,
              "#f0f921"
             ]
            ],
            "type": "histogram2d"
           }
          ],
          "histogram2dcontour": [
           {
            "colorbar": {
             "outlinewidth": 0,
             "ticks": ""
            },
            "colorscale": [
             [
              0,
              "#0d0887"
             ],
             [
              0.1111111111111111,
              "#46039f"
             ],
             [
              0.2222222222222222,
              "#7201a8"
             ],
             [
              0.3333333333333333,
              "#9c179e"
             ],
             [
              0.4444444444444444,
              "#bd3786"
             ],
             [
              0.5555555555555556,
              "#d8576b"
             ],
             [
              0.6666666666666666,
              "#ed7953"
             ],
             [
              0.7777777777777778,
              "#fb9f3a"
             ],
             [
              0.8888888888888888,
              "#fdca26"
             ],
             [
              1,
              "#f0f921"
             ]
            ],
            "type": "histogram2dcontour"
           }
          ],
          "mesh3d": [
           {
            "colorbar": {
             "outlinewidth": 0,
             "ticks": ""
            },
            "type": "mesh3d"
           }
          ],
          "parcoords": [
           {
            "line": {
             "colorbar": {
              "outlinewidth": 0,
              "ticks": ""
             }
            },
            "type": "parcoords"
           }
          ],
          "pie": [
           {
            "automargin": true,
            "type": "pie"
           }
          ],
          "scatter": [
           {
            "fillpattern": {
             "fillmode": "overlay",
             "size": 10,
             "solidity": 0.2
            },
            "type": "scatter"
           }
          ],
          "scatter3d": [
           {
            "line": {
             "colorbar": {
              "outlinewidth": 0,
              "ticks": ""
             }
            },
            "marker": {
             "colorbar": {
              "outlinewidth": 0,
              "ticks": ""
             }
            },
            "type": "scatter3d"
           }
          ],
          "scattercarpet": [
           {
            "marker": {
             "colorbar": {
              "outlinewidth": 0,
              "ticks": ""
             }
            },
            "type": "scattercarpet"
           }
          ],
          "scattergeo": [
           {
            "marker": {
             "colorbar": {
              "outlinewidth": 0,
              "ticks": ""
             }
            },
            "type": "scattergeo"
           }
          ],
          "scattergl": [
           {
            "marker": {
             "colorbar": {
              "outlinewidth": 0,
              "ticks": ""
             }
            },
            "type": "scattergl"
           }
          ],
          "scattermapbox": [
           {
            "marker": {
             "colorbar": {
              "outlinewidth": 0,
              "ticks": ""
             }
            },
            "type": "scattermapbox"
           }
          ],
          "scatterpolar": [
           {
            "marker": {
             "colorbar": {
              "outlinewidth": 0,
              "ticks": ""
             }
            },
            "type": "scatterpolar"
           }
          ],
          "scatterpolargl": [
           {
            "marker": {
             "colorbar": {
              "outlinewidth": 0,
              "ticks": ""
             }
            },
            "type": "scatterpolargl"
           }
          ],
          "scatterternary": [
           {
            "marker": {
             "colorbar": {
              "outlinewidth": 0,
              "ticks": ""
             }
            },
            "type": "scatterternary"
           }
          ],
          "surface": [
           {
            "colorbar": {
             "outlinewidth": 0,
             "ticks": ""
            },
            "colorscale": [
             [
              0,
              "#0d0887"
             ],
             [
              0.1111111111111111,
              "#46039f"
             ],
             [
              0.2222222222222222,
              "#7201a8"
             ],
             [
              0.3333333333333333,
              "#9c179e"
             ],
             [
              0.4444444444444444,
              "#bd3786"
             ],
             [
              0.5555555555555556,
              "#d8576b"
             ],
             [
              0.6666666666666666,
              "#ed7953"
             ],
             [
              0.7777777777777778,
              "#fb9f3a"
             ],
             [
              0.8888888888888888,
              "#fdca26"
             ],
             [
              1,
              "#f0f921"
             ]
            ],
            "type": "surface"
           }
          ],
          "table": [
           {
            "cells": {
             "fill": {
              "color": "#EBF0F8"
             },
             "line": {
              "color": "white"
             }
            },
            "header": {
             "fill": {
              "color": "#C8D4E3"
             },
             "line": {
              "color": "white"
             }
            },
            "type": "table"
           }
          ]
         },
         "layout": {
          "annotationdefaults": {
           "arrowcolor": "#2a3f5f",
           "arrowhead": 0,
           "arrowwidth": 1
          },
          "autotypenumbers": "strict",
          "coloraxis": {
           "colorbar": {
            "outlinewidth": 0,
            "ticks": ""
           }
          },
          "colorscale": {
           "diverging": [
            [
             0,
             "#8e0152"
            ],
            [
             0.1,
             "#c51b7d"
            ],
            [
             0.2,
             "#de77ae"
            ],
            [
             0.3,
             "#f1b6da"
            ],
            [
             0.4,
             "#fde0ef"
            ],
            [
             0.5,
             "#f7f7f7"
            ],
            [
             0.6,
             "#e6f5d0"
            ],
            [
             0.7,
             "#b8e186"
            ],
            [
             0.8,
             "#7fbc41"
            ],
            [
             0.9,
             "#4d9221"
            ],
            [
             1,
             "#276419"
            ]
           ],
           "sequential": [
            [
             0,
             "#0d0887"
            ],
            [
             0.1111111111111111,
             "#46039f"
            ],
            [
             0.2222222222222222,
             "#7201a8"
            ],
            [
             0.3333333333333333,
             "#9c179e"
            ],
            [
             0.4444444444444444,
             "#bd3786"
            ],
            [
             0.5555555555555556,
             "#d8576b"
            ],
            [
             0.6666666666666666,
             "#ed7953"
            ],
            [
             0.7777777777777778,
             "#fb9f3a"
            ],
            [
             0.8888888888888888,
             "#fdca26"
            ],
            [
             1,
             "#f0f921"
            ]
           ],
           "sequentialminus": [
            [
             0,
             "#0d0887"
            ],
            [
             0.1111111111111111,
             "#46039f"
            ],
            [
             0.2222222222222222,
             "#7201a8"
            ],
            [
             0.3333333333333333,
             "#9c179e"
            ],
            [
             0.4444444444444444,
             "#bd3786"
            ],
            [
             0.5555555555555556,
             "#d8576b"
            ],
            [
             0.6666666666666666,
             "#ed7953"
            ],
            [
             0.7777777777777778,
             "#fb9f3a"
            ],
            [
             0.8888888888888888,
             "#fdca26"
            ],
            [
             1,
             "#f0f921"
            ]
           ]
          },
          "colorway": [
           "#636efa",
           "#EF553B",
           "#00cc96",
           "#ab63fa",
           "#FFA15A",
           "#19d3f3",
           "#FF6692",
           "#B6E880",
           "#FF97FF",
           "#FECB52"
          ],
          "font": {
           "color": "#2a3f5f"
          },
          "geo": {
           "bgcolor": "white",
           "lakecolor": "white",
           "landcolor": "white",
           "showlakes": true,
           "showland": true,
           "subunitcolor": "#C8D4E3"
          },
          "hoverlabel": {
           "align": "left"
          },
          "hovermode": "closest",
          "mapbox": {
           "style": "light"
          },
          "paper_bgcolor": "white",
          "plot_bgcolor": "white",
          "polar": {
           "angularaxis": {
            "gridcolor": "#EBF0F8",
            "linecolor": "#EBF0F8",
            "ticks": ""
           },
           "bgcolor": "white",
           "radialaxis": {
            "gridcolor": "#EBF0F8",
            "linecolor": "#EBF0F8",
            "ticks": ""
           }
          },
          "scene": {
           "xaxis": {
            "backgroundcolor": "white",
            "gridcolor": "#DFE8F3",
            "gridwidth": 2,
            "linecolor": "#EBF0F8",
            "showbackground": true,
            "ticks": "",
            "zerolinecolor": "#EBF0F8"
           },
           "yaxis": {
            "backgroundcolor": "white",
            "gridcolor": "#DFE8F3",
            "gridwidth": 2,
            "linecolor": "#EBF0F8",
            "showbackground": true,
            "ticks": "",
            "zerolinecolor": "#EBF0F8"
           },
           "zaxis": {
            "backgroundcolor": "white",
            "gridcolor": "#DFE8F3",
            "gridwidth": 2,
            "linecolor": "#EBF0F8",
            "showbackground": true,
            "ticks": "",
            "zerolinecolor": "#EBF0F8"
           }
          },
          "shapedefaults": {
           "line": {
            "color": "#2a3f5f"
           }
          },
          "ternary": {
           "aaxis": {
            "gridcolor": "#DFE8F3",
            "linecolor": "#A2B1C6",
            "ticks": ""
           },
           "baxis": {
            "gridcolor": "#DFE8F3",
            "linecolor": "#A2B1C6",
            "ticks": ""
           },
           "bgcolor": "white",
           "caxis": {
            "gridcolor": "#DFE8F3",
            "linecolor": "#A2B1C6",
            "ticks": ""
           }
          },
          "title": {
           "x": 0.05
          },
          "xaxis": {
           "automargin": true,
           "gridcolor": "#EBF0F8",
           "linecolor": "#EBF0F8",
           "ticks": "",
           "title": {
            "standoff": 15
           },
           "zerolinecolor": "#EBF0F8",
           "zerolinewidth": 2
          },
          "yaxis": {
           "automargin": true,
           "gridcolor": "#EBF0F8",
           "linecolor": "#EBF0F8",
           "ticks": "",
           "title": {
            "standoff": 15
           },
           "zerolinecolor": "#EBF0F8",
           "zerolinewidth": 2
          }
         }
        },
        "title": {
         "text": "Распределение регистрации пользователей в процентном соотношении"
        },
        "xaxis": {
         "anchor": "y",
         "domain": [
          0,
          1
         ],
         "tickangle": -45,
         "title": {
          "text": "Дата регистрации"
         }
        },
        "yaxis": {
         "anchor": "x",
         "domain": [
          0,
          1
         ],
         "title": {
          "text": "Доля зарегистрированных пользователей (%)"
         }
        }
       }
      },
      "text/html": [
       "<div>                            <div id=\"7bcfafd6-edfe-4a57-a80c-64016b23e653\" class=\"plotly-graph-div\" style=\"height:525px; width:100%;\"></div>            <script type=\"text/javascript\">                require([\"plotly\"], function(Plotly) {                    window.PLOTLYENV=window.PLOTLYENV || {};                                    if (document.getElementById(\"7bcfafd6-edfe-4a57-a80c-64016b23e653\")) {                    Plotly.newPlot(                        \"7bcfafd6-edfe-4a57-a80c-64016b23e653\",                        [{\"hovertemplate\":\"group=A\\u003cbr\\u003e\\u0414\\u0430\\u0442\\u0430 \\u0440\\u0435\\u0433\\u0438\\u0441\\u0442\\u0440\\u0430\\u0446\\u0438\\u0438=%{x}\\u003cbr\\u003e\\u0414\\u043e\\u043b\\u044f \\u0437\\u0430\\u0440\\u0435\\u0433\\u0438\\u0441\\u0442\\u0440\\u0438\\u0440\\u043e\\u0432\\u0430\\u043d\\u043d\\u044b\\u0445 \\u043f\\u043e\\u043b\\u044c\\u0437\\u043e\\u0432\\u0430\\u0442\\u0435\\u043b\\u0435\\u0439 (%)=%{y}\\u003cextra\\u003e\\u003c\\u002fextra\\u003e\",\"legendgroup\":\"A\",\"line\":{\"color\":\"#636efa\",\"dash\":\"solid\"},\"marker\":{\"symbol\":\"circle\"},\"mode\":\"lines\",\"name\":\"A\",\"orientation\":\"v\",\"showlegend\":true,\"x\":[\"2020-12-07T00:00:00\",\"2020-12-08T00:00:00\",\"2020-12-09T00:00:00\",\"2020-12-10T00:00:00\",\"2020-12-11T00:00:00\",\"2020-12-12T00:00:00\",\"2020-12-13T00:00:00\",\"2020-12-14T00:00:00\",\"2020-12-15T00:00:00\",\"2020-12-16T00:00:00\",\"2020-12-17T00:00:00\",\"2020-12-18T00:00:00\",\"2020-12-19T00:00:00\",\"2020-12-20T00:00:00\",\"2020-12-21T00:00:00\"],\"xaxis\":\"x\",\"y\":[5.616498464238702,3.5541904344010526,3.0276437033786747,2.237823606845107,3.378674857393594,2.369460289600702,1.9745502413339184,14.085125054848618,7.766564282580079,6.230802983764809,7.722685388328214,7.810443176831944,8.951294427380429,10.04826678367705,15.225976305397104],\"yaxis\":\"y\",\"type\":\"scatter\"},{\"hovertemplate\":\"group=B\\u003cbr\\u003e\\u0414\\u0430\\u0442\\u0430 \\u0440\\u0435\\u0433\\u0438\\u0441\\u0442\\u0440\\u0430\\u0446\\u0438\\u0438=%{x}\\u003cbr\\u003e\\u0414\\u043e\\u043b\\u044f \\u0437\\u0430\\u0440\\u0435\\u0433\\u0438\\u0441\\u0442\\u0440\\u0438\\u0440\\u043e\\u0432\\u0430\\u043d\\u043d\\u044b\\u0445 \\u043f\\u043e\\u043b\\u044c\\u0437\\u043e\\u0432\\u0430\\u0442\\u0435\\u043b\\u0435\\u0439 (%)=%{y}\\u003cextra\\u003e\\u003c\\u002fextra\\u003e\",\"legendgroup\":\"B\",\"line\":{\"color\":\"#EF553B\",\"dash\":\"solid\"},\"marker\":{\"symbol\":\"circle\"},\"mode\":\"lines\",\"name\":\"B\",\"orientation\":\"v\",\"showlegend\":true,\"x\":[\"2020-12-07T00:00:00\",\"2020-12-08T00:00:00\",\"2020-12-09T00:00:00\",\"2020-12-10T00:00:00\",\"2020-12-11T00:00:00\",\"2020-12-12T00:00:00\",\"2020-12-13T00:00:00\",\"2020-12-14T00:00:00\",\"2020-12-15T00:00:00\",\"2020-12-16T00:00:00\",\"2020-12-17T00:00:00\",\"2020-12-18T00:00:00\",\"2020-12-19T00:00:00\",\"2020-12-20T00:00:00\",\"2020-12-21T00:00:00\"],\"xaxis\":\"x\",\"y\":[19.1958495460441,4.669260700389105,8.819714656290532,4.020752269779507,2.204928664072633,5.577172503242543,1.6861219195849546,8.171206225680933,3.372243839169909,11.024643320363165,3.761348897535668,5.836575875486381,4.409857328145266,7.263294422827498,9.987029831387808],\"yaxis\":\"y\",\"type\":\"scatter\"}],                        {\"template\":{\"data\":{\"barpolar\":[{\"marker\":{\"line\":{\"color\":\"white\",\"width\":0.5},\"pattern\":{\"fillmode\":\"overlay\",\"size\":10,\"solidity\":0.2}},\"type\":\"barpolar\"}],\"bar\":[{\"error_x\":{\"color\":\"#2a3f5f\"},\"error_y\":{\"color\":\"#2a3f5f\"},\"marker\":{\"line\":{\"color\":\"white\",\"width\":0.5},\"pattern\":{\"fillmode\":\"overlay\",\"size\":10,\"solidity\":0.2}},\"type\":\"bar\"}],\"carpet\":[{\"aaxis\":{\"endlinecolor\":\"#2a3f5f\",\"gridcolor\":\"#C8D4E3\",\"linecolor\":\"#C8D4E3\",\"minorgridcolor\":\"#C8D4E3\",\"startlinecolor\":\"#2a3f5f\"},\"baxis\":{\"endlinecolor\":\"#2a3f5f\",\"gridcolor\":\"#C8D4E3\",\"linecolor\":\"#C8D4E3\",\"minorgridcolor\":\"#C8D4E3\",\"startlinecolor\":\"#2a3f5f\"},\"type\":\"carpet\"}],\"choropleth\":[{\"colorbar\":{\"outlinewidth\":0,\"ticks\":\"\"},\"type\":\"choropleth\"}],\"contourcarpet\":[{\"colorbar\":{\"outlinewidth\":0,\"ticks\":\"\"},\"type\":\"contourcarpet\"}],\"contour\":[{\"colorbar\":{\"outlinewidth\":0,\"ticks\":\"\"},\"colorscale\":[[0.0,\"#0d0887\"],[0.1111111111111111,\"#46039f\"],[0.2222222222222222,\"#7201a8\"],[0.3333333333333333,\"#9c179e\"],[0.4444444444444444,\"#bd3786\"],[0.5555555555555556,\"#d8576b\"],[0.6666666666666666,\"#ed7953\"],[0.7777777777777778,\"#fb9f3a\"],[0.8888888888888888,\"#fdca26\"],[1.0,\"#f0f921\"]],\"type\":\"contour\"}],\"heatmapgl\":[{\"colorbar\":{\"outlinewidth\":0,\"ticks\":\"\"},\"colorscale\":[[0.0,\"#0d0887\"],[0.1111111111111111,\"#46039f\"],[0.2222222222222222,\"#7201a8\"],[0.3333333333333333,\"#9c179e\"],[0.4444444444444444,\"#bd3786\"],[0.5555555555555556,\"#d8576b\"],[0.6666666666666666,\"#ed7953\"],[0.7777777777777778,\"#fb9f3a\"],[0.8888888888888888,\"#fdca26\"],[1.0,\"#f0f921\"]],\"type\":\"heatmapgl\"}],\"heatmap\":[{\"colorbar\":{\"outlinewidth\":0,\"ticks\":\"\"},\"colorscale\":[[0.0,\"#0d0887\"],[0.1111111111111111,\"#46039f\"],[0.2222222222222222,\"#7201a8\"],[0.3333333333333333,\"#9c179e\"],[0.4444444444444444,\"#bd3786\"],[0.5555555555555556,\"#d8576b\"],[0.6666666666666666,\"#ed7953\"],[0.7777777777777778,\"#fb9f3a\"],[0.8888888888888888,\"#fdca26\"],[1.0,\"#f0f921\"]],\"type\":\"heatmap\"}],\"histogram2dcontour\":[{\"colorbar\":{\"outlinewidth\":0,\"ticks\":\"\"},\"colorscale\":[[0.0,\"#0d0887\"],[0.1111111111111111,\"#46039f\"],[0.2222222222222222,\"#7201a8\"],[0.3333333333333333,\"#9c179e\"],[0.4444444444444444,\"#bd3786\"],[0.5555555555555556,\"#d8576b\"],[0.6666666666666666,\"#ed7953\"],[0.7777777777777778,\"#fb9f3a\"],[0.8888888888888888,\"#fdca26\"],[1.0,\"#f0f921\"]],\"type\":\"histogram2dcontour\"}],\"histogram2d\":[{\"colorbar\":{\"outlinewidth\":0,\"ticks\":\"\"},\"colorscale\":[[0.0,\"#0d0887\"],[0.1111111111111111,\"#46039f\"],[0.2222222222222222,\"#7201a8\"],[0.3333333333333333,\"#9c179e\"],[0.4444444444444444,\"#bd3786\"],[0.5555555555555556,\"#d8576b\"],[0.6666666666666666,\"#ed7953\"],[0.7777777777777778,\"#fb9f3a\"],[0.8888888888888888,\"#fdca26\"],[1.0,\"#f0f921\"]],\"type\":\"histogram2d\"}],\"histogram\":[{\"marker\":{\"pattern\":{\"fillmode\":\"overlay\",\"size\":10,\"solidity\":0.2}},\"type\":\"histogram\"}],\"mesh3d\":[{\"colorbar\":{\"outlinewidth\":0,\"ticks\":\"\"},\"type\":\"mesh3d\"}],\"parcoords\":[{\"line\":{\"colorbar\":{\"outlinewidth\":0,\"ticks\":\"\"}},\"type\":\"parcoords\"}],\"pie\":[{\"automargin\":true,\"type\":\"pie\"}],\"scatter3d\":[{\"line\":{\"colorbar\":{\"outlinewidth\":0,\"ticks\":\"\"}},\"marker\":{\"colorbar\":{\"outlinewidth\":0,\"ticks\":\"\"}},\"type\":\"scatter3d\"}],\"scattercarpet\":[{\"marker\":{\"colorbar\":{\"outlinewidth\":0,\"ticks\":\"\"}},\"type\":\"scattercarpet\"}],\"scattergeo\":[{\"marker\":{\"colorbar\":{\"outlinewidth\":0,\"ticks\":\"\"}},\"type\":\"scattergeo\"}],\"scattergl\":[{\"marker\":{\"colorbar\":{\"outlinewidth\":0,\"ticks\":\"\"}},\"type\":\"scattergl\"}],\"scattermapbox\":[{\"marker\":{\"colorbar\":{\"outlinewidth\":0,\"ticks\":\"\"}},\"type\":\"scattermapbox\"}],\"scatterpolargl\":[{\"marker\":{\"colorbar\":{\"outlinewidth\":0,\"ticks\":\"\"}},\"type\":\"scatterpolargl\"}],\"scatterpolar\":[{\"marker\":{\"colorbar\":{\"outlinewidth\":0,\"ticks\":\"\"}},\"type\":\"scatterpolar\"}],\"scatter\":[{\"fillpattern\":{\"fillmode\":\"overlay\",\"size\":10,\"solidity\":0.2},\"type\":\"scatter\"}],\"scatterternary\":[{\"marker\":{\"colorbar\":{\"outlinewidth\":0,\"ticks\":\"\"}},\"type\":\"scatterternary\"}],\"surface\":[{\"colorbar\":{\"outlinewidth\":0,\"ticks\":\"\"},\"colorscale\":[[0.0,\"#0d0887\"],[0.1111111111111111,\"#46039f\"],[0.2222222222222222,\"#7201a8\"],[0.3333333333333333,\"#9c179e\"],[0.4444444444444444,\"#bd3786\"],[0.5555555555555556,\"#d8576b\"],[0.6666666666666666,\"#ed7953\"],[0.7777777777777778,\"#fb9f3a\"],[0.8888888888888888,\"#fdca26\"],[1.0,\"#f0f921\"]],\"type\":\"surface\"}],\"table\":[{\"cells\":{\"fill\":{\"color\":\"#EBF0F8\"},\"line\":{\"color\":\"white\"}},\"header\":{\"fill\":{\"color\":\"#C8D4E3\"},\"line\":{\"color\":\"white\"}},\"type\":\"table\"}]},\"layout\":{\"annotationdefaults\":{\"arrowcolor\":\"#2a3f5f\",\"arrowhead\":0,\"arrowwidth\":1},\"autotypenumbers\":\"strict\",\"coloraxis\":{\"colorbar\":{\"outlinewidth\":0,\"ticks\":\"\"}},\"colorscale\":{\"diverging\":[[0,\"#8e0152\"],[0.1,\"#c51b7d\"],[0.2,\"#de77ae\"],[0.3,\"#f1b6da\"],[0.4,\"#fde0ef\"],[0.5,\"#f7f7f7\"],[0.6,\"#e6f5d0\"],[0.7,\"#b8e186\"],[0.8,\"#7fbc41\"],[0.9,\"#4d9221\"],[1,\"#276419\"]],\"sequential\":[[0.0,\"#0d0887\"],[0.1111111111111111,\"#46039f\"],[0.2222222222222222,\"#7201a8\"],[0.3333333333333333,\"#9c179e\"],[0.4444444444444444,\"#bd3786\"],[0.5555555555555556,\"#d8576b\"],[0.6666666666666666,\"#ed7953\"],[0.7777777777777778,\"#fb9f3a\"],[0.8888888888888888,\"#fdca26\"],[1.0,\"#f0f921\"]],\"sequentialminus\":[[0.0,\"#0d0887\"],[0.1111111111111111,\"#46039f\"],[0.2222222222222222,\"#7201a8\"],[0.3333333333333333,\"#9c179e\"],[0.4444444444444444,\"#bd3786\"],[0.5555555555555556,\"#d8576b\"],[0.6666666666666666,\"#ed7953\"],[0.7777777777777778,\"#fb9f3a\"],[0.8888888888888888,\"#fdca26\"],[1.0,\"#f0f921\"]]},\"colorway\":[\"#636efa\",\"#EF553B\",\"#00cc96\",\"#ab63fa\",\"#FFA15A\",\"#19d3f3\",\"#FF6692\",\"#B6E880\",\"#FF97FF\",\"#FECB52\"],\"font\":{\"color\":\"#2a3f5f\"},\"geo\":{\"bgcolor\":\"white\",\"lakecolor\":\"white\",\"landcolor\":\"white\",\"showlakes\":true,\"showland\":true,\"subunitcolor\":\"#C8D4E3\"},\"hoverlabel\":{\"align\":\"left\"},\"hovermode\":\"closest\",\"mapbox\":{\"style\":\"light\"},\"paper_bgcolor\":\"white\",\"plot_bgcolor\":\"white\",\"polar\":{\"angularaxis\":{\"gridcolor\":\"#EBF0F8\",\"linecolor\":\"#EBF0F8\",\"ticks\":\"\"},\"bgcolor\":\"white\",\"radialaxis\":{\"gridcolor\":\"#EBF0F8\",\"linecolor\":\"#EBF0F8\",\"ticks\":\"\"}},\"scene\":{\"xaxis\":{\"backgroundcolor\":\"white\",\"gridcolor\":\"#DFE8F3\",\"gridwidth\":2,\"linecolor\":\"#EBF0F8\",\"showbackground\":true,\"ticks\":\"\",\"zerolinecolor\":\"#EBF0F8\"},\"yaxis\":{\"backgroundcolor\":\"white\",\"gridcolor\":\"#DFE8F3\",\"gridwidth\":2,\"linecolor\":\"#EBF0F8\",\"showbackground\":true,\"ticks\":\"\",\"zerolinecolor\":\"#EBF0F8\"},\"zaxis\":{\"backgroundcolor\":\"white\",\"gridcolor\":\"#DFE8F3\",\"gridwidth\":2,\"linecolor\":\"#EBF0F8\",\"showbackground\":true,\"ticks\":\"\",\"zerolinecolor\":\"#EBF0F8\"}},\"shapedefaults\":{\"line\":{\"color\":\"#2a3f5f\"}},\"ternary\":{\"aaxis\":{\"gridcolor\":\"#DFE8F3\",\"linecolor\":\"#A2B1C6\",\"ticks\":\"\"},\"baxis\":{\"gridcolor\":\"#DFE8F3\",\"linecolor\":\"#A2B1C6\",\"ticks\":\"\"},\"bgcolor\":\"white\",\"caxis\":{\"gridcolor\":\"#DFE8F3\",\"linecolor\":\"#A2B1C6\",\"ticks\":\"\"}},\"title\":{\"x\":0.05},\"xaxis\":{\"automargin\":true,\"gridcolor\":\"#EBF0F8\",\"linecolor\":\"#EBF0F8\",\"ticks\":\"\",\"title\":{\"standoff\":15},\"zerolinecolor\":\"#EBF0F8\",\"zerolinewidth\":2},\"yaxis\":{\"automargin\":true,\"gridcolor\":\"#EBF0F8\",\"linecolor\":\"#EBF0F8\",\"ticks\":\"\",\"title\":{\"standoff\":15},\"zerolinecolor\":\"#EBF0F8\",\"zerolinewidth\":2}}},\"xaxis\":{\"anchor\":\"y\",\"domain\":[0.0,1.0],\"title\":{\"text\":\"\\u0414\\u0430\\u0442\\u0430 \\u0440\\u0435\\u0433\\u0438\\u0441\\u0442\\u0440\\u0430\\u0446\\u0438\\u0438\"},\"tickangle\":-45},\"yaxis\":{\"anchor\":\"x\",\"domain\":[0.0,1.0],\"title\":{\"text\":\"\\u0414\\u043e\\u043b\\u044f \\u0437\\u0430\\u0440\\u0435\\u0433\\u0438\\u0441\\u0442\\u0440\\u0438\\u0440\\u043e\\u0432\\u0430\\u043d\\u043d\\u044b\\u0445 \\u043f\\u043e\\u043b\\u044c\\u0437\\u043e\\u0432\\u0430\\u0442\\u0435\\u043b\\u0435\\u0439 (%)\"}},\"legend\":{\"title\":{\"text\":\"group\"},\"tracegroupgap\":0},\"title\":{\"text\":\"\\u0420\\u0430\\u0441\\u043f\\u0440\\u0435\\u0434\\u0435\\u043b\\u0435\\u043d\\u0438\\u0435 \\u0440\\u0435\\u0433\\u0438\\u0441\\u0442\\u0440\\u0430\\u0446\\u0438\\u0438 \\u043f\\u043e\\u043b\\u044c\\u0437\\u043e\\u0432\\u0430\\u0442\\u0435\\u043b\\u0435\\u0439 \\u0432 \\u043f\\u0440\\u043e\\u0446\\u0435\\u043d\\u0442\\u043d\\u043e\\u043c \\u0441\\u043e\\u043e\\u0442\\u043d\\u043e\\u0448\\u0435\\u043d\\u0438\\u0438\"}},                        {\"responsive\": true}                    ).then(function(){\n",
       "                            \n",
       "var gd = document.getElementById('7bcfafd6-edfe-4a57-a80c-64016b23e653');\n",
       "var x = new MutationObserver(function (mutations, observer) {{\n",
       "        var display = window.getComputedStyle(gd).display;\n",
       "        if (!display || display === 'none') {{\n",
       "            console.log([gd, 'removed!']);\n",
       "            Plotly.purge(gd);\n",
       "            observer.disconnect();\n",
       "        }}\n",
       "}});\n",
       "\n",
       "// Listen for the removal of the full notebook cells\n",
       "var notebookContainer = gd.closest('#notebook-container');\n",
       "if (notebookContainer) {{\n",
       "    x.observe(notebookContainer, {childList: true});\n",
       "}}\n",
       "\n",
       "// Listen for the clearing of the current output cell\n",
       "var outputEl = gd.closest('.output');\n",
       "if (outputEl) {{\n",
       "    x.observe(outputEl, {childList: true});\n",
       "}}\n",
       "\n",
       "                        })                };                });            </script>        </div>"
      ]
     },
     "metadata": {},
     "output_type": "display_data"
    }
   ],
   "source": [
    "users_per_group = a_b_rec.groupby('group')['user_id'].nunique().reset_index()\n",
    "users_per_group.columns = ['group', 'total_users']\n",
    "\n",
    "registration_per_day = a_b_rec.groupby(['group', 'first_date'])['user_id'].nunique().reset_index()\n",
    "registration_per_day.columns = ['group', 'first_date', 'registered_users']\n",
    "\n",
    "registration_per_day = pd.merge(registration_per_day, users_per_group, on='group', how='left')\n",
    "\n",
    "registration_per_day['percentage'] = (registration_per_day['registered_users'] / registration_per_day['total_users']) * 100\n",
    "\n",
    "fig = px.line(registration_per_day, x='first_date', y='percentage', color='group',\n",
    "              title='Распределение регистрации пользователей в процентном соотношении',\n",
    "              labels={'first_date': 'Дата регистрации', 'percentage': 'Доля зарегистрированных пользователей (%)'},\n",
    "              template='plotly_white')\n",
    "\n",
    "fig.update_layout(xaxis_tickangle=-45)\n",
    "fig.show()\n"
   ]
  },
  {
   "cell_type": "markdown",
   "id": "b85809eb",
   "metadata": {},
   "source": [
    "Аналогично вижу, что с момента начала рекламной кампании количество пользователей растет. \n",
    "\n",
    "Отвечу на вопрос относительно конверсии в воронках на каждом этапе.\n"
   ]
  },
  {
   "cell_type": "code",
   "execution_count": 57,
   "id": "cb343f9b",
   "metadata": {},
   "outputs": [
    {
     "data": {
      "text/plain": [
       "login           9054\n",
       "product_page    5588\n",
       "purchase        2736\n",
       "product_cart    2656\n",
       "Name: event_name, dtype: int64"
      ]
     },
     "execution_count": 57,
     "metadata": {},
     "output_type": "execute_result"
    }
   ],
   "source": [
    "a_b_rec.event_name.value_counts()"
   ]
  },
  {
   "cell_type": "markdown",
   "id": "3a17c51c",
   "metadata": {},
   "source": [
    "Скорее всего логика такая. Пользователь совершает `login` -> `product_page` -> `product_cart` >  `purchase`. Уже сейчас можно заметить, что огромное количество пользователей не переходит дальше этапа авторизации. Возникает вопрос почему? \n",
    "\n",
    "Предполагаю, что либо сервис не сохраняет данные о входе и пользователям необходимо повторно авторизовываться, либо они не находят нужное предложение.  Больше склоняюсь ко второму варианту, так как в первом случае количество хотя бы просмотров предложений должно было быть больше, чем авторизаций. Так же отмечу, что событий оплаты происходит больше, чем перехода в корзину. Возможно, имеется такая возможность в функционале.\n"
   ]
  },
  {
   "cell_type": "code",
   "execution_count": 58,
   "id": "d9515ae9",
   "metadata": {},
   "outputs": [
    {
     "data": {
      "text/html": [
       "<div>\n",
       "<style scoped>\n",
       "    .dataframe tbody tr th:only-of-type {\n",
       "        vertical-align: middle;\n",
       "    }\n",
       "\n",
       "    .dataframe tbody tr th {\n",
       "        vertical-align: top;\n",
       "    }\n",
       "\n",
       "    .dataframe thead th {\n",
       "        text-align: right;\n",
       "    }\n",
       "</style>\n",
       "<table border=\"1\" class=\"dataframe\">\n",
       "  <thead>\n",
       "    <tr style=\"text-align: right;\">\n",
       "      <th></th>\n",
       "      <th>event_name</th>\n",
       "      <th>user_id</th>\n",
       "    </tr>\n",
       "  </thead>\n",
       "  <tbody>\n",
       "    <tr>\n",
       "      <th>0</th>\n",
       "      <td>login</td>\n",
       "      <td>3049</td>\n",
       "    </tr>\n",
       "    <tr>\n",
       "      <th>1</th>\n",
       "      <td>product_page</td>\n",
       "      <td>1905</td>\n",
       "    </tr>\n",
       "    <tr>\n",
       "      <th>2</th>\n",
       "      <td>product_cart</td>\n",
       "      <td>900</td>\n",
       "    </tr>\n",
       "    <tr>\n",
       "      <th>3</th>\n",
       "      <td>purchase</td>\n",
       "      <td>953</td>\n",
       "    </tr>\n",
       "  </tbody>\n",
       "</table>\n",
       "</div>"
      ],
      "text/plain": [
       "     event_name  user_id\n",
       "0         login     3049\n",
       "1  product_page     1905\n",
       "2  product_cart      900\n",
       "3      purchase      953"
      ]
     },
     "execution_count": 58,
     "metadata": {},
     "output_type": "execute_result"
    }
   ],
   "source": [
    "events_count = a_b_rec.groupby('event_name').agg({'user_id':'nunique'}).reset_index()\n",
    "events_count = events_count.sort_values(by='user_id', ascending=False)\n",
    "events_count = events_count.reset_index(drop=True)\n",
    "\n",
    "\n",
    "events_count = events_count.reindex([0, 1, 3, 2])\n",
    "events_count = events_count.reset_index(drop=True)\n",
    "events_count"
   ]
  },
  {
   "cell_type": "markdown",
   "id": "d3cd5bd6",
   "metadata": {},
   "source": [
    "events_count = events_count.sort_values(by='user_id', ascending=False)\n",
    "events_count = events_count.reset_index(drop=True)\n",
    "events_count"
   ]
  },
  {
   "cell_type": "code",
   "execution_count": 59,
   "id": "bd5e5559",
   "metadata": {},
   "outputs": [
    {
     "data": {
      "application/vnd.plotly.v1+json": {
       "config": {
        "plotlyServerURL": "https://plot.ly"
       },
       "data": [
        {
         "textinfo": "value+percent initial+percent previous",
         "type": "funnel",
         "x": [
          3049,
          1905,
          900,
          953
         ],
         "y": [
          "login",
          "product_page",
          "product_cart",
          "purchase"
         ]
        }
       ],
       "layout": {
        "height": 700,
        "template": {
         "data": {
          "bar": [
           {
            "error_x": {
             "color": "#2a3f5f"
            },
            "error_y": {
             "color": "#2a3f5f"
            },
            "marker": {
             "line": {
              "color": "#E5ECF6",
              "width": 0.5
             },
             "pattern": {
              "fillmode": "overlay",
              "size": 10,
              "solidity": 0.2
             }
            },
            "type": "bar"
           }
          ],
          "barpolar": [
           {
            "marker": {
             "line": {
              "color": "#E5ECF6",
              "width": 0.5
             },
             "pattern": {
              "fillmode": "overlay",
              "size": 10,
              "solidity": 0.2
             }
            },
            "type": "barpolar"
           }
          ],
          "carpet": [
           {
            "aaxis": {
             "endlinecolor": "#2a3f5f",
             "gridcolor": "white",
             "linecolor": "white",
             "minorgridcolor": "white",
             "startlinecolor": "#2a3f5f"
            },
            "baxis": {
             "endlinecolor": "#2a3f5f",
             "gridcolor": "white",
             "linecolor": "white",
             "minorgridcolor": "white",
             "startlinecolor": "#2a3f5f"
            },
            "type": "carpet"
           }
          ],
          "choropleth": [
           {
            "colorbar": {
             "outlinewidth": 0,
             "ticks": ""
            },
            "type": "choropleth"
           }
          ],
          "contour": [
           {
            "colorbar": {
             "outlinewidth": 0,
             "ticks": ""
            },
            "colorscale": [
             [
              0,
              "#0d0887"
             ],
             [
              0.1111111111111111,
              "#46039f"
             ],
             [
              0.2222222222222222,
              "#7201a8"
             ],
             [
              0.3333333333333333,
              "#9c179e"
             ],
             [
              0.4444444444444444,
              "#bd3786"
             ],
             [
              0.5555555555555556,
              "#d8576b"
             ],
             [
              0.6666666666666666,
              "#ed7953"
             ],
             [
              0.7777777777777778,
              "#fb9f3a"
             ],
             [
              0.8888888888888888,
              "#fdca26"
             ],
             [
              1,
              "#f0f921"
             ]
            ],
            "type": "contour"
           }
          ],
          "contourcarpet": [
           {
            "colorbar": {
             "outlinewidth": 0,
             "ticks": ""
            },
            "type": "contourcarpet"
           }
          ],
          "heatmap": [
           {
            "colorbar": {
             "outlinewidth": 0,
             "ticks": ""
            },
            "colorscale": [
             [
              0,
              "#0d0887"
             ],
             [
              0.1111111111111111,
              "#46039f"
             ],
             [
              0.2222222222222222,
              "#7201a8"
             ],
             [
              0.3333333333333333,
              "#9c179e"
             ],
             [
              0.4444444444444444,
              "#bd3786"
             ],
             [
              0.5555555555555556,
              "#d8576b"
             ],
             [
              0.6666666666666666,
              "#ed7953"
             ],
             [
              0.7777777777777778,
              "#fb9f3a"
             ],
             [
              0.8888888888888888,
              "#fdca26"
             ],
             [
              1,
              "#f0f921"
             ]
            ],
            "type": "heatmap"
           }
          ],
          "heatmapgl": [
           {
            "colorbar": {
             "outlinewidth": 0,
             "ticks": ""
            },
            "colorscale": [
             [
              0,
              "#0d0887"
             ],
             [
              0.1111111111111111,
              "#46039f"
             ],
             [
              0.2222222222222222,
              "#7201a8"
             ],
             [
              0.3333333333333333,
              "#9c179e"
             ],
             [
              0.4444444444444444,
              "#bd3786"
             ],
             [
              0.5555555555555556,
              "#d8576b"
             ],
             [
              0.6666666666666666,
              "#ed7953"
             ],
             [
              0.7777777777777778,
              "#fb9f3a"
             ],
             [
              0.8888888888888888,
              "#fdca26"
             ],
             [
              1,
              "#f0f921"
             ]
            ],
            "type": "heatmapgl"
           }
          ],
          "histogram": [
           {
            "marker": {
             "pattern": {
              "fillmode": "overlay",
              "size": 10,
              "solidity": 0.2
             }
            },
            "type": "histogram"
           }
          ],
          "histogram2d": [
           {
            "colorbar": {
             "outlinewidth": 0,
             "ticks": ""
            },
            "colorscale": [
             [
              0,
              "#0d0887"
             ],
             [
              0.1111111111111111,
              "#46039f"
             ],
             [
              0.2222222222222222,
              "#7201a8"
             ],
             [
              0.3333333333333333,
              "#9c179e"
             ],
             [
              0.4444444444444444,
              "#bd3786"
             ],
             [
              0.5555555555555556,
              "#d8576b"
             ],
             [
              0.6666666666666666,
              "#ed7953"
             ],
             [
              0.7777777777777778,
              "#fb9f3a"
             ],
             [
              0.8888888888888888,
              "#fdca26"
             ],
             [
              1,
              "#f0f921"
             ]
            ],
            "type": "histogram2d"
           }
          ],
          "histogram2dcontour": [
           {
            "colorbar": {
             "outlinewidth": 0,
             "ticks": ""
            },
            "colorscale": [
             [
              0,
              "#0d0887"
             ],
             [
              0.1111111111111111,
              "#46039f"
             ],
             [
              0.2222222222222222,
              "#7201a8"
             ],
             [
              0.3333333333333333,
              "#9c179e"
             ],
             [
              0.4444444444444444,
              "#bd3786"
             ],
             [
              0.5555555555555556,
              "#d8576b"
             ],
             [
              0.6666666666666666,
              "#ed7953"
             ],
             [
              0.7777777777777778,
              "#fb9f3a"
             ],
             [
              0.8888888888888888,
              "#fdca26"
             ],
             [
              1,
              "#f0f921"
             ]
            ],
            "type": "histogram2dcontour"
           }
          ],
          "mesh3d": [
           {
            "colorbar": {
             "outlinewidth": 0,
             "ticks": ""
            },
            "type": "mesh3d"
           }
          ],
          "parcoords": [
           {
            "line": {
             "colorbar": {
              "outlinewidth": 0,
              "ticks": ""
             }
            },
            "type": "parcoords"
           }
          ],
          "pie": [
           {
            "automargin": true,
            "type": "pie"
           }
          ],
          "scatter": [
           {
            "fillpattern": {
             "fillmode": "overlay",
             "size": 10,
             "solidity": 0.2
            },
            "type": "scatter"
           }
          ],
          "scatter3d": [
           {
            "line": {
             "colorbar": {
              "outlinewidth": 0,
              "ticks": ""
             }
            },
            "marker": {
             "colorbar": {
              "outlinewidth": 0,
              "ticks": ""
             }
            },
            "type": "scatter3d"
           }
          ],
          "scattercarpet": [
           {
            "marker": {
             "colorbar": {
              "outlinewidth": 0,
              "ticks": ""
             }
            },
            "type": "scattercarpet"
           }
          ],
          "scattergeo": [
           {
            "marker": {
             "colorbar": {
              "outlinewidth": 0,
              "ticks": ""
             }
            },
            "type": "scattergeo"
           }
          ],
          "scattergl": [
           {
            "marker": {
             "colorbar": {
              "outlinewidth": 0,
              "ticks": ""
             }
            },
            "type": "scattergl"
           }
          ],
          "scattermapbox": [
           {
            "marker": {
             "colorbar": {
              "outlinewidth": 0,
              "ticks": ""
             }
            },
            "type": "scattermapbox"
           }
          ],
          "scatterpolar": [
           {
            "marker": {
             "colorbar": {
              "outlinewidth": 0,
              "ticks": ""
             }
            },
            "type": "scatterpolar"
           }
          ],
          "scatterpolargl": [
           {
            "marker": {
             "colorbar": {
              "outlinewidth": 0,
              "ticks": ""
             }
            },
            "type": "scatterpolargl"
           }
          ],
          "scatterternary": [
           {
            "marker": {
             "colorbar": {
              "outlinewidth": 0,
              "ticks": ""
             }
            },
            "type": "scatterternary"
           }
          ],
          "surface": [
           {
            "colorbar": {
             "outlinewidth": 0,
             "ticks": ""
            },
            "colorscale": [
             [
              0,
              "#0d0887"
             ],
             [
              0.1111111111111111,
              "#46039f"
             ],
             [
              0.2222222222222222,
              "#7201a8"
             ],
             [
              0.3333333333333333,
              "#9c179e"
             ],
             [
              0.4444444444444444,
              "#bd3786"
             ],
             [
              0.5555555555555556,
              "#d8576b"
             ],
             [
              0.6666666666666666,
              "#ed7953"
             ],
             [
              0.7777777777777778,
              "#fb9f3a"
             ],
             [
              0.8888888888888888,
              "#fdca26"
             ],
             [
              1,
              "#f0f921"
             ]
            ],
            "type": "surface"
           }
          ],
          "table": [
           {
            "cells": {
             "fill": {
              "color": "#EBF0F8"
             },
             "line": {
              "color": "white"
             }
            },
            "header": {
             "fill": {
              "color": "#C8D4E3"
             },
             "line": {
              "color": "white"
             }
            },
            "type": "table"
           }
          ]
         },
         "layout": {
          "annotationdefaults": {
           "arrowcolor": "#2a3f5f",
           "arrowhead": 0,
           "arrowwidth": 1
          },
          "autotypenumbers": "strict",
          "coloraxis": {
           "colorbar": {
            "outlinewidth": 0,
            "ticks": ""
           }
          },
          "colorscale": {
           "diverging": [
            [
             0,
             "#8e0152"
            ],
            [
             0.1,
             "#c51b7d"
            ],
            [
             0.2,
             "#de77ae"
            ],
            [
             0.3,
             "#f1b6da"
            ],
            [
             0.4,
             "#fde0ef"
            ],
            [
             0.5,
             "#f7f7f7"
            ],
            [
             0.6,
             "#e6f5d0"
            ],
            [
             0.7,
             "#b8e186"
            ],
            [
             0.8,
             "#7fbc41"
            ],
            [
             0.9,
             "#4d9221"
            ],
            [
             1,
             "#276419"
            ]
           ],
           "sequential": [
            [
             0,
             "#0d0887"
            ],
            [
             0.1111111111111111,
             "#46039f"
            ],
            [
             0.2222222222222222,
             "#7201a8"
            ],
            [
             0.3333333333333333,
             "#9c179e"
            ],
            [
             0.4444444444444444,
             "#bd3786"
            ],
            [
             0.5555555555555556,
             "#d8576b"
            ],
            [
             0.6666666666666666,
             "#ed7953"
            ],
            [
             0.7777777777777778,
             "#fb9f3a"
            ],
            [
             0.8888888888888888,
             "#fdca26"
            ],
            [
             1,
             "#f0f921"
            ]
           ],
           "sequentialminus": [
            [
             0,
             "#0d0887"
            ],
            [
             0.1111111111111111,
             "#46039f"
            ],
            [
             0.2222222222222222,
             "#7201a8"
            ],
            [
             0.3333333333333333,
             "#9c179e"
            ],
            [
             0.4444444444444444,
             "#bd3786"
            ],
            [
             0.5555555555555556,
             "#d8576b"
            ],
            [
             0.6666666666666666,
             "#ed7953"
            ],
            [
             0.7777777777777778,
             "#fb9f3a"
            ],
            [
             0.8888888888888888,
             "#fdca26"
            ],
            [
             1,
             "#f0f921"
            ]
           ]
          },
          "colorway": [
           "#636efa",
           "#EF553B",
           "#00cc96",
           "#ab63fa",
           "#FFA15A",
           "#19d3f3",
           "#FF6692",
           "#B6E880",
           "#FF97FF",
           "#FECB52"
          ],
          "font": {
           "color": "#2a3f5f"
          },
          "geo": {
           "bgcolor": "white",
           "lakecolor": "white",
           "landcolor": "#E5ECF6",
           "showlakes": true,
           "showland": true,
           "subunitcolor": "white"
          },
          "hoverlabel": {
           "align": "left"
          },
          "hovermode": "closest",
          "mapbox": {
           "style": "light"
          },
          "paper_bgcolor": "white",
          "plot_bgcolor": "#E5ECF6",
          "polar": {
           "angularaxis": {
            "gridcolor": "white",
            "linecolor": "white",
            "ticks": ""
           },
           "bgcolor": "#E5ECF6",
           "radialaxis": {
            "gridcolor": "white",
            "linecolor": "white",
            "ticks": ""
           }
          },
          "scene": {
           "xaxis": {
            "backgroundcolor": "#E5ECF6",
            "gridcolor": "white",
            "gridwidth": 2,
            "linecolor": "white",
            "showbackground": true,
            "ticks": "",
            "zerolinecolor": "white"
           },
           "yaxis": {
            "backgroundcolor": "#E5ECF6",
            "gridcolor": "white",
            "gridwidth": 2,
            "linecolor": "white",
            "showbackground": true,
            "ticks": "",
            "zerolinecolor": "white"
           },
           "zaxis": {
            "backgroundcolor": "#E5ECF6",
            "gridcolor": "white",
            "gridwidth": 2,
            "linecolor": "white",
            "showbackground": true,
            "ticks": "",
            "zerolinecolor": "white"
           }
          },
          "shapedefaults": {
           "line": {
            "color": "#2a3f5f"
           }
          },
          "ternary": {
           "aaxis": {
            "gridcolor": "white",
            "linecolor": "white",
            "ticks": ""
           },
           "baxis": {
            "gridcolor": "white",
            "linecolor": "white",
            "ticks": ""
           },
           "bgcolor": "#E5ECF6",
           "caxis": {
            "gridcolor": "white",
            "linecolor": "white",
            "ticks": ""
           }
          },
          "title": {
           "x": 0.05
          },
          "xaxis": {
           "automargin": true,
           "gridcolor": "white",
           "linecolor": "white",
           "ticks": "",
           "title": {
            "standoff": 15
           },
           "zerolinecolor": "white",
           "zerolinewidth": 2
          },
          "yaxis": {
           "automargin": true,
           "gridcolor": "white",
           "linecolor": "white",
           "ticks": "",
           "title": {
            "standoff": 15
           },
           "zerolinecolor": "white",
           "zerolinewidth": 2
          }
         }
        },
        "title": {
         "text": "Воронка событий пользователей"
        },
        "width": 1000
       }
      },
      "text/html": [
       "<div>                            <div id=\"d458e01c-6edb-416b-ae4c-980867bd2810\" class=\"plotly-graph-div\" style=\"height:700px; width:1000px;\"></div>            <script type=\"text/javascript\">                require([\"plotly\"], function(Plotly) {                    window.PLOTLYENV=window.PLOTLYENV || {};                                    if (document.getElementById(\"d458e01c-6edb-416b-ae4c-980867bd2810\")) {                    Plotly.newPlot(                        \"d458e01c-6edb-416b-ae4c-980867bd2810\",                        [{\"textinfo\":\"value+percent initial+percent previous\",\"x\":[3049,1905,900,953],\"y\":[\"login\",\"product_page\",\"product_cart\",\"purchase\"],\"type\":\"funnel\"}],                        {\"template\":{\"data\":{\"histogram2dcontour\":[{\"type\":\"histogram2dcontour\",\"colorbar\":{\"outlinewidth\":0,\"ticks\":\"\"},\"colorscale\":[[0.0,\"#0d0887\"],[0.1111111111111111,\"#46039f\"],[0.2222222222222222,\"#7201a8\"],[0.3333333333333333,\"#9c179e\"],[0.4444444444444444,\"#bd3786\"],[0.5555555555555556,\"#d8576b\"],[0.6666666666666666,\"#ed7953\"],[0.7777777777777778,\"#fb9f3a\"],[0.8888888888888888,\"#fdca26\"],[1.0,\"#f0f921\"]]}],\"choropleth\":[{\"type\":\"choropleth\",\"colorbar\":{\"outlinewidth\":0,\"ticks\":\"\"}}],\"histogram2d\":[{\"type\":\"histogram2d\",\"colorbar\":{\"outlinewidth\":0,\"ticks\":\"\"},\"colorscale\":[[0.0,\"#0d0887\"],[0.1111111111111111,\"#46039f\"],[0.2222222222222222,\"#7201a8\"],[0.3333333333333333,\"#9c179e\"],[0.4444444444444444,\"#bd3786\"],[0.5555555555555556,\"#d8576b\"],[0.6666666666666666,\"#ed7953\"],[0.7777777777777778,\"#fb9f3a\"],[0.8888888888888888,\"#fdca26\"],[1.0,\"#f0f921\"]]}],\"heatmap\":[{\"type\":\"heatmap\",\"colorbar\":{\"outlinewidth\":0,\"ticks\":\"\"},\"colorscale\":[[0.0,\"#0d0887\"],[0.1111111111111111,\"#46039f\"],[0.2222222222222222,\"#7201a8\"],[0.3333333333333333,\"#9c179e\"],[0.4444444444444444,\"#bd3786\"],[0.5555555555555556,\"#d8576b\"],[0.6666666666666666,\"#ed7953\"],[0.7777777777777778,\"#fb9f3a\"],[0.8888888888888888,\"#fdca26\"],[1.0,\"#f0f921\"]]}],\"heatmapgl\":[{\"type\":\"heatmapgl\",\"colorbar\":{\"outlinewidth\":0,\"ticks\":\"\"},\"colorscale\":[[0.0,\"#0d0887\"],[0.1111111111111111,\"#46039f\"],[0.2222222222222222,\"#7201a8\"],[0.3333333333333333,\"#9c179e\"],[0.4444444444444444,\"#bd3786\"],[0.5555555555555556,\"#d8576b\"],[0.6666666666666666,\"#ed7953\"],[0.7777777777777778,\"#fb9f3a\"],[0.8888888888888888,\"#fdca26\"],[1.0,\"#f0f921\"]]}],\"contourcarpet\":[{\"type\":\"contourcarpet\",\"colorbar\":{\"outlinewidth\":0,\"ticks\":\"\"}}],\"contour\":[{\"type\":\"contour\",\"colorbar\":{\"outlinewidth\":0,\"ticks\":\"\"},\"colorscale\":[[0.0,\"#0d0887\"],[0.1111111111111111,\"#46039f\"],[0.2222222222222222,\"#7201a8\"],[0.3333333333333333,\"#9c179e\"],[0.4444444444444444,\"#bd3786\"],[0.5555555555555556,\"#d8576b\"],[0.6666666666666666,\"#ed7953\"],[0.7777777777777778,\"#fb9f3a\"],[0.8888888888888888,\"#fdca26\"],[1.0,\"#f0f921\"]]}],\"surface\":[{\"type\":\"surface\",\"colorbar\":{\"outlinewidth\":0,\"ticks\":\"\"},\"colorscale\":[[0.0,\"#0d0887\"],[0.1111111111111111,\"#46039f\"],[0.2222222222222222,\"#7201a8\"],[0.3333333333333333,\"#9c179e\"],[0.4444444444444444,\"#bd3786\"],[0.5555555555555556,\"#d8576b\"],[0.6666666666666666,\"#ed7953\"],[0.7777777777777778,\"#fb9f3a\"],[0.8888888888888888,\"#fdca26\"],[1.0,\"#f0f921\"]]}],\"mesh3d\":[{\"type\":\"mesh3d\",\"colorbar\":{\"outlinewidth\":0,\"ticks\":\"\"}}],\"scatter\":[{\"fillpattern\":{\"fillmode\":\"overlay\",\"size\":10,\"solidity\":0.2},\"type\":\"scatter\"}],\"parcoords\":[{\"type\":\"parcoords\",\"line\":{\"colorbar\":{\"outlinewidth\":0,\"ticks\":\"\"}}}],\"scatterpolargl\":[{\"type\":\"scatterpolargl\",\"marker\":{\"colorbar\":{\"outlinewidth\":0,\"ticks\":\"\"}}}],\"bar\":[{\"error_x\":{\"color\":\"#2a3f5f\"},\"error_y\":{\"color\":\"#2a3f5f\"},\"marker\":{\"line\":{\"color\":\"#E5ECF6\",\"width\":0.5},\"pattern\":{\"fillmode\":\"overlay\",\"size\":10,\"solidity\":0.2}},\"type\":\"bar\"}],\"scattergeo\":[{\"type\":\"scattergeo\",\"marker\":{\"colorbar\":{\"outlinewidth\":0,\"ticks\":\"\"}}}],\"scatterpolar\":[{\"type\":\"scatterpolar\",\"marker\":{\"colorbar\":{\"outlinewidth\":0,\"ticks\":\"\"}}}],\"histogram\":[{\"marker\":{\"pattern\":{\"fillmode\":\"overlay\",\"size\":10,\"solidity\":0.2}},\"type\":\"histogram\"}],\"scattergl\":[{\"type\":\"scattergl\",\"marker\":{\"colorbar\":{\"outlinewidth\":0,\"ticks\":\"\"}}}],\"scatter3d\":[{\"type\":\"scatter3d\",\"line\":{\"colorbar\":{\"outlinewidth\":0,\"ticks\":\"\"}},\"marker\":{\"colorbar\":{\"outlinewidth\":0,\"ticks\":\"\"}}}],\"scattermapbox\":[{\"type\":\"scattermapbox\",\"marker\":{\"colorbar\":{\"outlinewidth\":0,\"ticks\":\"\"}}}],\"scatterternary\":[{\"type\":\"scatterternary\",\"marker\":{\"colorbar\":{\"outlinewidth\":0,\"ticks\":\"\"}}}],\"scattercarpet\":[{\"type\":\"scattercarpet\",\"marker\":{\"colorbar\":{\"outlinewidth\":0,\"ticks\":\"\"}}}],\"carpet\":[{\"aaxis\":{\"endlinecolor\":\"#2a3f5f\",\"gridcolor\":\"white\",\"linecolor\":\"white\",\"minorgridcolor\":\"white\",\"startlinecolor\":\"#2a3f5f\"},\"baxis\":{\"endlinecolor\":\"#2a3f5f\",\"gridcolor\":\"white\",\"linecolor\":\"white\",\"minorgridcolor\":\"white\",\"startlinecolor\":\"#2a3f5f\"},\"type\":\"carpet\"}],\"table\":[{\"cells\":{\"fill\":{\"color\":\"#EBF0F8\"},\"line\":{\"color\":\"white\"}},\"header\":{\"fill\":{\"color\":\"#C8D4E3\"},\"line\":{\"color\":\"white\"}},\"type\":\"table\"}],\"barpolar\":[{\"marker\":{\"line\":{\"color\":\"#E5ECF6\",\"width\":0.5},\"pattern\":{\"fillmode\":\"overlay\",\"size\":10,\"solidity\":0.2}},\"type\":\"barpolar\"}],\"pie\":[{\"automargin\":true,\"type\":\"pie\"}]},\"layout\":{\"autotypenumbers\":\"strict\",\"colorway\":[\"#636efa\",\"#EF553B\",\"#00cc96\",\"#ab63fa\",\"#FFA15A\",\"#19d3f3\",\"#FF6692\",\"#B6E880\",\"#FF97FF\",\"#FECB52\"],\"font\":{\"color\":\"#2a3f5f\"},\"hovermode\":\"closest\",\"hoverlabel\":{\"align\":\"left\"},\"paper_bgcolor\":\"white\",\"plot_bgcolor\":\"#E5ECF6\",\"polar\":{\"bgcolor\":\"#E5ECF6\",\"angularaxis\":{\"gridcolor\":\"white\",\"linecolor\":\"white\",\"ticks\":\"\"},\"radialaxis\":{\"gridcolor\":\"white\",\"linecolor\":\"white\",\"ticks\":\"\"}},\"ternary\":{\"bgcolor\":\"#E5ECF6\",\"aaxis\":{\"gridcolor\":\"white\",\"linecolor\":\"white\",\"ticks\":\"\"},\"baxis\":{\"gridcolor\":\"white\",\"linecolor\":\"white\",\"ticks\":\"\"},\"caxis\":{\"gridcolor\":\"white\",\"linecolor\":\"white\",\"ticks\":\"\"}},\"coloraxis\":{\"colorbar\":{\"outlinewidth\":0,\"ticks\":\"\"}},\"colorscale\":{\"sequential\":[[0.0,\"#0d0887\"],[0.1111111111111111,\"#46039f\"],[0.2222222222222222,\"#7201a8\"],[0.3333333333333333,\"#9c179e\"],[0.4444444444444444,\"#bd3786\"],[0.5555555555555556,\"#d8576b\"],[0.6666666666666666,\"#ed7953\"],[0.7777777777777778,\"#fb9f3a\"],[0.8888888888888888,\"#fdca26\"],[1.0,\"#f0f921\"]],\"sequentialminus\":[[0.0,\"#0d0887\"],[0.1111111111111111,\"#46039f\"],[0.2222222222222222,\"#7201a8\"],[0.3333333333333333,\"#9c179e\"],[0.4444444444444444,\"#bd3786\"],[0.5555555555555556,\"#d8576b\"],[0.6666666666666666,\"#ed7953\"],[0.7777777777777778,\"#fb9f3a\"],[0.8888888888888888,\"#fdca26\"],[1.0,\"#f0f921\"]],\"diverging\":[[0,\"#8e0152\"],[0.1,\"#c51b7d\"],[0.2,\"#de77ae\"],[0.3,\"#f1b6da\"],[0.4,\"#fde0ef\"],[0.5,\"#f7f7f7\"],[0.6,\"#e6f5d0\"],[0.7,\"#b8e186\"],[0.8,\"#7fbc41\"],[0.9,\"#4d9221\"],[1,\"#276419\"]]},\"xaxis\":{\"gridcolor\":\"white\",\"linecolor\":\"white\",\"ticks\":\"\",\"title\":{\"standoff\":15},\"zerolinecolor\":\"white\",\"automargin\":true,\"zerolinewidth\":2},\"yaxis\":{\"gridcolor\":\"white\",\"linecolor\":\"white\",\"ticks\":\"\",\"title\":{\"standoff\":15},\"zerolinecolor\":\"white\",\"automargin\":true,\"zerolinewidth\":2},\"scene\":{\"xaxis\":{\"backgroundcolor\":\"#E5ECF6\",\"gridcolor\":\"white\",\"linecolor\":\"white\",\"showbackground\":true,\"ticks\":\"\",\"zerolinecolor\":\"white\",\"gridwidth\":2},\"yaxis\":{\"backgroundcolor\":\"#E5ECF6\",\"gridcolor\":\"white\",\"linecolor\":\"white\",\"showbackground\":true,\"ticks\":\"\",\"zerolinecolor\":\"white\",\"gridwidth\":2},\"zaxis\":{\"backgroundcolor\":\"#E5ECF6\",\"gridcolor\":\"white\",\"linecolor\":\"white\",\"showbackground\":true,\"ticks\":\"\",\"zerolinecolor\":\"white\",\"gridwidth\":2}},\"shapedefaults\":{\"line\":{\"color\":\"#2a3f5f\"}},\"annotationdefaults\":{\"arrowcolor\":\"#2a3f5f\",\"arrowhead\":0,\"arrowwidth\":1},\"geo\":{\"bgcolor\":\"white\",\"landcolor\":\"#E5ECF6\",\"subunitcolor\":\"white\",\"showland\":true,\"showlakes\":true,\"lakecolor\":\"white\"},\"title\":{\"x\":0.05},\"mapbox\":{\"style\":\"light\"}}},\"title\":{\"text\":\"\\u0412\\u043e\\u0440\\u043e\\u043d\\u043a\\u0430 \\u0441\\u043e\\u0431\\u044b\\u0442\\u0438\\u0439 \\u043f\\u043e\\u043b\\u044c\\u0437\\u043e\\u0432\\u0430\\u0442\\u0435\\u043b\\u0435\\u0439\"},\"width\":1000,\"height\":700},                        {\"responsive\": true}                    ).then(function(){\n",
       "                            \n",
       "var gd = document.getElementById('d458e01c-6edb-416b-ae4c-980867bd2810');\n",
       "var x = new MutationObserver(function (mutations, observer) {{\n",
       "        var display = window.getComputedStyle(gd).display;\n",
       "        if (!display || display === 'none') {{\n",
       "            console.log([gd, 'removed!']);\n",
       "            Plotly.purge(gd);\n",
       "            observer.disconnect();\n",
       "        }}\n",
       "}});\n",
       "\n",
       "// Listen for the removal of the full notebook cells\n",
       "var notebookContainer = gd.closest('#notebook-container');\n",
       "if (notebookContainer) {{\n",
       "    x.observe(notebookContainer, {childList: true});\n",
       "}}\n",
       "\n",
       "// Listen for the clearing of the current output cell\n",
       "var outputEl = gd.closest('.output');\n",
       "if (outputEl) {{\n",
       "    x.observe(outputEl, {childList: true});\n",
       "}}\n",
       "\n",
       "                        })                };                });            </script>        </div>"
      ]
     },
     "metadata": {},
     "output_type": "display_data"
    }
   ],
   "source": [
    "fig = go.Figure(go.Funnel(y = events_count['event_name'], x = events_count['user_id'], textinfo = \"value+percent initial+percent previous\"))\n",
    "fig.update_layout(title=\"Воронка событий пользователей\", width=1000, height=700)\n",
    "fig.show();"
   ]
  },
  {
   "cell_type": "markdown",
   "id": "cc70c439",
   "metadata": {},
   "source": [
    "В целом можно сказать, что   половина пользователей, дошли до целевого события - факта оплаты, что хороший результат. А теперь посмотрим распределение по группам."
   ]
  },
  {
   "cell_type": "code",
   "execution_count": 60,
   "id": "232360af",
   "metadata": {},
   "outputs": [
    {
     "data": {
      "text/html": [
       "<div>\n",
       "<style scoped>\n",
       "    .dataframe tbody tr th:only-of-type {\n",
       "        vertical-align: middle;\n",
       "    }\n",
       "\n",
       "    .dataframe tbody tr th {\n",
       "        vertical-align: top;\n",
       "    }\n",
       "\n",
       "    .dataframe thead th {\n",
       "        text-align: right;\n",
       "    }\n",
       "</style>\n",
       "<table border=\"1\" class=\"dataframe\">\n",
       "  <thead>\n",
       "    <tr style=\"text-align: right;\">\n",
       "      <th></th>\n",
       "      <th>event_name</th>\n",
       "      <th>group</th>\n",
       "      <th>user_id</th>\n",
       "    </tr>\n",
       "  </thead>\n",
       "  <tbody>\n",
       "    <tr>\n",
       "      <th>0</th>\n",
       "      <td>login</td>\n",
       "      <td>A</td>\n",
       "      <td>2279</td>\n",
       "    </tr>\n",
       "    <tr>\n",
       "      <th>1</th>\n",
       "      <td>product_page</td>\n",
       "      <td>A</td>\n",
       "      <td>1476</td>\n",
       "    </tr>\n",
       "    <tr>\n",
       "      <th>2</th>\n",
       "      <td>product_cart</td>\n",
       "      <td>A</td>\n",
       "      <td>686</td>\n",
       "    </tr>\n",
       "    <tr>\n",
       "      <th>3</th>\n",
       "      <td>purchase</td>\n",
       "      <td>A</td>\n",
       "      <td>734</td>\n",
       "    </tr>\n",
       "    <tr>\n",
       "      <th>4</th>\n",
       "      <td>login</td>\n",
       "      <td>B</td>\n",
       "      <td>770</td>\n",
       "    </tr>\n",
       "    <tr>\n",
       "      <th>5</th>\n",
       "      <td>product_page</td>\n",
       "      <td>B</td>\n",
       "      <td>429</td>\n",
       "    </tr>\n",
       "    <tr>\n",
       "      <th>6</th>\n",
       "      <td>product_cart</td>\n",
       "      <td>B</td>\n",
       "      <td>214</td>\n",
       "    </tr>\n",
       "    <tr>\n",
       "      <th>7</th>\n",
       "      <td>purchase</td>\n",
       "      <td>B</td>\n",
       "      <td>219</td>\n",
       "    </tr>\n",
       "  </tbody>\n",
       "</table>\n",
       "</div>"
      ],
      "text/plain": [
       "     event_name group  user_id\n",
       "0         login     A     2279\n",
       "1  product_page     A     1476\n",
       "2  product_cart     A      686\n",
       "3      purchase     A      734\n",
       "4         login     B      770\n",
       "5  product_page     B      429\n",
       "6  product_cart     B      214\n",
       "7      purchase     B      219"
      ]
     },
     "metadata": {},
     "output_type": "display_data"
    }
   ],
   "source": [
    "group_events_count = a_b_rec.groupby(['event_name','group']).agg({'user_id':'nunique'}).reset_index()\n",
    "group_events_count = group_events_count.sort_values(by='group')\n",
    "group_events_count\n",
    "\n",
    "\n",
    "event_order = [\"login\", \"product_page\", \"product_cart\", \"purchase\"]\n",
    "\n",
    "group_events_count['event_name'] = pd.Categorical(group_events_count['event_name'], categories=event_order, ordered=True)\n",
    "group_events_count = group_events_count.sort_values(by=['group', 'event_name']).reset_index(drop=True)\n",
    "\n",
    "display(group_events_count)\n"
   ]
  },
  {
   "cell_type": "code",
   "execution_count": 61,
   "id": "947af43f",
   "metadata": {},
   "outputs": [
    {
     "data": {
      "application/vnd.plotly.v1+json": {
       "config": {
        "plotlyServerURL": "https://plot.ly"
       },
       "data": [
        {
         "insidetextfont": {
          "color": "white"
         },
         "name": "A",
         "textinfo": "text+percent initial+percent previous",
         "textposition": "inside",
         "type": "funnel",
         "x": [
          2279,
          1476,
          686,
          734
         ],
         "y": [
          "login",
          "product_page",
          "product_cart",
          "purchase"
         ]
        },
        {
         "insidetextfont": {
          "color": "white"
         },
         "name": "B",
         "textinfo": "text+percent initial+percent previous",
         "textposition": "inside",
         "type": "funnel",
         "x": [
          770,
          429,
          214,
          219
         ],
         "y": [
          "login",
          "product_page",
          "product_cart",
          "purchase"
         ]
        }
       ],
       "layout": {
        "height": 800,
        "template": {
         "data": {
          "bar": [
           {
            "error_x": {
             "color": "#2a3f5f"
            },
            "error_y": {
             "color": "#2a3f5f"
            },
            "marker": {
             "line": {
              "color": "#E5ECF6",
              "width": 0.5
             },
             "pattern": {
              "fillmode": "overlay",
              "size": 10,
              "solidity": 0.2
             }
            },
            "type": "bar"
           }
          ],
          "barpolar": [
           {
            "marker": {
             "line": {
              "color": "#E5ECF6",
              "width": 0.5
             },
             "pattern": {
              "fillmode": "overlay",
              "size": 10,
              "solidity": 0.2
             }
            },
            "type": "barpolar"
           }
          ],
          "carpet": [
           {
            "aaxis": {
             "endlinecolor": "#2a3f5f",
             "gridcolor": "white",
             "linecolor": "white",
             "minorgridcolor": "white",
             "startlinecolor": "#2a3f5f"
            },
            "baxis": {
             "endlinecolor": "#2a3f5f",
             "gridcolor": "white",
             "linecolor": "white",
             "minorgridcolor": "white",
             "startlinecolor": "#2a3f5f"
            },
            "type": "carpet"
           }
          ],
          "choropleth": [
           {
            "colorbar": {
             "outlinewidth": 0,
             "ticks": ""
            },
            "type": "choropleth"
           }
          ],
          "contour": [
           {
            "colorbar": {
             "outlinewidth": 0,
             "ticks": ""
            },
            "colorscale": [
             [
              0,
              "#0d0887"
             ],
             [
              0.1111111111111111,
              "#46039f"
             ],
             [
              0.2222222222222222,
              "#7201a8"
             ],
             [
              0.3333333333333333,
              "#9c179e"
             ],
             [
              0.4444444444444444,
              "#bd3786"
             ],
             [
              0.5555555555555556,
              "#d8576b"
             ],
             [
              0.6666666666666666,
              "#ed7953"
             ],
             [
              0.7777777777777778,
              "#fb9f3a"
             ],
             [
              0.8888888888888888,
              "#fdca26"
             ],
             [
              1,
              "#f0f921"
             ]
            ],
            "type": "contour"
           }
          ],
          "contourcarpet": [
           {
            "colorbar": {
             "outlinewidth": 0,
             "ticks": ""
            },
            "type": "contourcarpet"
           }
          ],
          "heatmap": [
           {
            "colorbar": {
             "outlinewidth": 0,
             "ticks": ""
            },
            "colorscale": [
             [
              0,
              "#0d0887"
             ],
             [
              0.1111111111111111,
              "#46039f"
             ],
             [
              0.2222222222222222,
              "#7201a8"
             ],
             [
              0.3333333333333333,
              "#9c179e"
             ],
             [
              0.4444444444444444,
              "#bd3786"
             ],
             [
              0.5555555555555556,
              "#d8576b"
             ],
             [
              0.6666666666666666,
              "#ed7953"
             ],
             [
              0.7777777777777778,
              "#fb9f3a"
             ],
             [
              0.8888888888888888,
              "#fdca26"
             ],
             [
              1,
              "#f0f921"
             ]
            ],
            "type": "heatmap"
           }
          ],
          "heatmapgl": [
           {
            "colorbar": {
             "outlinewidth": 0,
             "ticks": ""
            },
            "colorscale": [
             [
              0,
              "#0d0887"
             ],
             [
              0.1111111111111111,
              "#46039f"
             ],
             [
              0.2222222222222222,
              "#7201a8"
             ],
             [
              0.3333333333333333,
              "#9c179e"
             ],
             [
              0.4444444444444444,
              "#bd3786"
             ],
             [
              0.5555555555555556,
              "#d8576b"
             ],
             [
              0.6666666666666666,
              "#ed7953"
             ],
             [
              0.7777777777777778,
              "#fb9f3a"
             ],
             [
              0.8888888888888888,
              "#fdca26"
             ],
             [
              1,
              "#f0f921"
             ]
            ],
            "type": "heatmapgl"
           }
          ],
          "histogram": [
           {
            "marker": {
             "pattern": {
              "fillmode": "overlay",
              "size": 10,
              "solidity": 0.2
             }
            },
            "type": "histogram"
           }
          ],
          "histogram2d": [
           {
            "colorbar": {
             "outlinewidth": 0,
             "ticks": ""
            },
            "colorscale": [
             [
              0,
              "#0d0887"
             ],
             [
              0.1111111111111111,
              "#46039f"
             ],
             [
              0.2222222222222222,
              "#7201a8"
             ],
             [
              0.3333333333333333,
              "#9c179e"
             ],
             [
              0.4444444444444444,
              "#bd3786"
             ],
             [
              0.5555555555555556,
              "#d8576b"
             ],
             [
              0.6666666666666666,
              "#ed7953"
             ],
             [
              0.7777777777777778,
              "#fb9f3a"
             ],
             [
              0.8888888888888888,
              "#fdca26"
             ],
             [
              1,
              "#f0f921"
             ]
            ],
            "type": "histogram2d"
           }
          ],
          "histogram2dcontour": [
           {
            "colorbar": {
             "outlinewidth": 0,
             "ticks": ""
            },
            "colorscale": [
             [
              0,
              "#0d0887"
             ],
             [
              0.1111111111111111,
              "#46039f"
             ],
             [
              0.2222222222222222,
              "#7201a8"
             ],
             [
              0.3333333333333333,
              "#9c179e"
             ],
             [
              0.4444444444444444,
              "#bd3786"
             ],
             [
              0.5555555555555556,
              "#d8576b"
             ],
             [
              0.6666666666666666,
              "#ed7953"
             ],
             [
              0.7777777777777778,
              "#fb9f3a"
             ],
             [
              0.8888888888888888,
              "#fdca26"
             ],
             [
              1,
              "#f0f921"
             ]
            ],
            "type": "histogram2dcontour"
           }
          ],
          "mesh3d": [
           {
            "colorbar": {
             "outlinewidth": 0,
             "ticks": ""
            },
            "type": "mesh3d"
           }
          ],
          "parcoords": [
           {
            "line": {
             "colorbar": {
              "outlinewidth": 0,
              "ticks": ""
             }
            },
            "type": "parcoords"
           }
          ],
          "pie": [
           {
            "automargin": true,
            "type": "pie"
           }
          ],
          "scatter": [
           {
            "fillpattern": {
             "fillmode": "overlay",
             "size": 10,
             "solidity": 0.2
            },
            "type": "scatter"
           }
          ],
          "scatter3d": [
           {
            "line": {
             "colorbar": {
              "outlinewidth": 0,
              "ticks": ""
             }
            },
            "marker": {
             "colorbar": {
              "outlinewidth": 0,
              "ticks": ""
             }
            },
            "type": "scatter3d"
           }
          ],
          "scattercarpet": [
           {
            "marker": {
             "colorbar": {
              "outlinewidth": 0,
              "ticks": ""
             }
            },
            "type": "scattercarpet"
           }
          ],
          "scattergeo": [
           {
            "marker": {
             "colorbar": {
              "outlinewidth": 0,
              "ticks": ""
             }
            },
            "type": "scattergeo"
           }
          ],
          "scattergl": [
           {
            "marker": {
             "colorbar": {
              "outlinewidth": 0,
              "ticks": ""
             }
            },
            "type": "scattergl"
           }
          ],
          "scattermapbox": [
           {
            "marker": {
             "colorbar": {
              "outlinewidth": 0,
              "ticks": ""
             }
            },
            "type": "scattermapbox"
           }
          ],
          "scatterpolar": [
           {
            "marker": {
             "colorbar": {
              "outlinewidth": 0,
              "ticks": ""
             }
            },
            "type": "scatterpolar"
           }
          ],
          "scatterpolargl": [
           {
            "marker": {
             "colorbar": {
              "outlinewidth": 0,
              "ticks": ""
             }
            },
            "type": "scatterpolargl"
           }
          ],
          "scatterternary": [
           {
            "marker": {
             "colorbar": {
              "outlinewidth": 0,
              "ticks": ""
             }
            },
            "type": "scatterternary"
           }
          ],
          "surface": [
           {
            "colorbar": {
             "outlinewidth": 0,
             "ticks": ""
            },
            "colorscale": [
             [
              0,
              "#0d0887"
             ],
             [
              0.1111111111111111,
              "#46039f"
             ],
             [
              0.2222222222222222,
              "#7201a8"
             ],
             [
              0.3333333333333333,
              "#9c179e"
             ],
             [
              0.4444444444444444,
              "#bd3786"
             ],
             [
              0.5555555555555556,
              "#d8576b"
             ],
             [
              0.6666666666666666,
              "#ed7953"
             ],
             [
              0.7777777777777778,
              "#fb9f3a"
             ],
             [
              0.8888888888888888,
              "#fdca26"
             ],
             [
              1,
              "#f0f921"
             ]
            ],
            "type": "surface"
           }
          ],
          "table": [
           {
            "cells": {
             "fill": {
              "color": "#EBF0F8"
             },
             "line": {
              "color": "white"
             }
            },
            "header": {
             "fill": {
              "color": "#C8D4E3"
             },
             "line": {
              "color": "white"
             }
            },
            "type": "table"
           }
          ]
         },
         "layout": {
          "annotationdefaults": {
           "arrowcolor": "#2a3f5f",
           "arrowhead": 0,
           "arrowwidth": 1
          },
          "autotypenumbers": "strict",
          "coloraxis": {
           "colorbar": {
            "outlinewidth": 0,
            "ticks": ""
           }
          },
          "colorscale": {
           "diverging": [
            [
             0,
             "#8e0152"
            ],
            [
             0.1,
             "#c51b7d"
            ],
            [
             0.2,
             "#de77ae"
            ],
            [
             0.3,
             "#f1b6da"
            ],
            [
             0.4,
             "#fde0ef"
            ],
            [
             0.5,
             "#f7f7f7"
            ],
            [
             0.6,
             "#e6f5d0"
            ],
            [
             0.7,
             "#b8e186"
            ],
            [
             0.8,
             "#7fbc41"
            ],
            [
             0.9,
             "#4d9221"
            ],
            [
             1,
             "#276419"
            ]
           ],
           "sequential": [
            [
             0,
             "#0d0887"
            ],
            [
             0.1111111111111111,
             "#46039f"
            ],
            [
             0.2222222222222222,
             "#7201a8"
            ],
            [
             0.3333333333333333,
             "#9c179e"
            ],
            [
             0.4444444444444444,
             "#bd3786"
            ],
            [
             0.5555555555555556,
             "#d8576b"
            ],
            [
             0.6666666666666666,
             "#ed7953"
            ],
            [
             0.7777777777777778,
             "#fb9f3a"
            ],
            [
             0.8888888888888888,
             "#fdca26"
            ],
            [
             1,
             "#f0f921"
            ]
           ],
           "sequentialminus": [
            [
             0,
             "#0d0887"
            ],
            [
             0.1111111111111111,
             "#46039f"
            ],
            [
             0.2222222222222222,
             "#7201a8"
            ],
            [
             0.3333333333333333,
             "#9c179e"
            ],
            [
             0.4444444444444444,
             "#bd3786"
            ],
            [
             0.5555555555555556,
             "#d8576b"
            ],
            [
             0.6666666666666666,
             "#ed7953"
            ],
            [
             0.7777777777777778,
             "#fb9f3a"
            ],
            [
             0.8888888888888888,
             "#fdca26"
            ],
            [
             1,
             "#f0f921"
            ]
           ]
          },
          "colorway": [
           "#636efa",
           "#EF553B",
           "#00cc96",
           "#ab63fa",
           "#FFA15A",
           "#19d3f3",
           "#FF6692",
           "#B6E880",
           "#FF97FF",
           "#FECB52"
          ],
          "font": {
           "color": "#2a3f5f"
          },
          "geo": {
           "bgcolor": "white",
           "lakecolor": "white",
           "landcolor": "#E5ECF6",
           "showlakes": true,
           "showland": true,
           "subunitcolor": "white"
          },
          "hoverlabel": {
           "align": "left"
          },
          "hovermode": "closest",
          "mapbox": {
           "style": "light"
          },
          "paper_bgcolor": "white",
          "plot_bgcolor": "#E5ECF6",
          "polar": {
           "angularaxis": {
            "gridcolor": "white",
            "linecolor": "white",
            "ticks": ""
           },
           "bgcolor": "#E5ECF6",
           "radialaxis": {
            "gridcolor": "white",
            "linecolor": "white",
            "ticks": ""
           }
          },
          "scene": {
           "xaxis": {
            "backgroundcolor": "#E5ECF6",
            "gridcolor": "white",
            "gridwidth": 2,
            "linecolor": "white",
            "showbackground": true,
            "ticks": "",
            "zerolinecolor": "white"
           },
           "yaxis": {
            "backgroundcolor": "#E5ECF6",
            "gridcolor": "white",
            "gridwidth": 2,
            "linecolor": "white",
            "showbackground": true,
            "ticks": "",
            "zerolinecolor": "white"
           },
           "zaxis": {
            "backgroundcolor": "#E5ECF6",
            "gridcolor": "white",
            "gridwidth": 2,
            "linecolor": "white",
            "showbackground": true,
            "ticks": "",
            "zerolinecolor": "white"
           }
          },
          "shapedefaults": {
           "line": {
            "color": "#2a3f5f"
           }
          },
          "ternary": {
           "aaxis": {
            "gridcolor": "white",
            "linecolor": "white",
            "ticks": ""
           },
           "baxis": {
            "gridcolor": "white",
            "linecolor": "white",
            "ticks": ""
           },
           "bgcolor": "#E5ECF6",
           "caxis": {
            "gridcolor": "white",
            "linecolor": "white",
            "ticks": ""
           }
          },
          "title": {
           "x": 0.05
          },
          "xaxis": {
           "automargin": true,
           "gridcolor": "white",
           "linecolor": "white",
           "ticks": "",
           "title": {
            "standoff": 15
           },
           "zerolinecolor": "white",
           "zerolinewidth": 2
          },
          "yaxis": {
           "automargin": true,
           "gridcolor": "white",
           "linecolor": "white",
           "ticks": "",
           "title": {
            "standoff": 15
           },
           "zerolinecolor": "white",
           "zerolinewidth": 2
          }
         }
        },
        "title": {
         "text": "Воронка событий пользователей в группах"
        },
        "width": 1000
       }
      },
      "text/html": [
       "<div>                            <div id=\"df1a8312-bfca-410d-abc4-ba8f3e446ce1\" class=\"plotly-graph-div\" style=\"height:800px; width:1000px;\"></div>            <script type=\"text/javascript\">                require([\"plotly\"], function(Plotly) {                    window.PLOTLYENV=window.PLOTLYENV || {};                                    if (document.getElementById(\"df1a8312-bfca-410d-abc4-ba8f3e446ce1\")) {                    Plotly.newPlot(                        \"df1a8312-bfca-410d-abc4-ba8f3e446ce1\",                        [{\"insidetextfont\":{\"color\":\"white\"},\"name\":\"A\",\"textinfo\":\"text+percent initial+percent previous\",\"textposition\":\"inside\",\"x\":[2279,1476,686,734],\"y\":[\"login\",\"product_page\",\"product_cart\",\"purchase\"],\"type\":\"funnel\"},{\"insidetextfont\":{\"color\":\"white\"},\"name\":\"B\",\"textinfo\":\"text+percent initial+percent previous\",\"textposition\":\"inside\",\"x\":[770,429,214,219],\"y\":[\"login\",\"product_page\",\"product_cart\",\"purchase\"],\"type\":\"funnel\"}],                        {\"template\":{\"data\":{\"histogram2dcontour\":[{\"type\":\"histogram2dcontour\",\"colorbar\":{\"outlinewidth\":0,\"ticks\":\"\"},\"colorscale\":[[0.0,\"#0d0887\"],[0.1111111111111111,\"#46039f\"],[0.2222222222222222,\"#7201a8\"],[0.3333333333333333,\"#9c179e\"],[0.4444444444444444,\"#bd3786\"],[0.5555555555555556,\"#d8576b\"],[0.6666666666666666,\"#ed7953\"],[0.7777777777777778,\"#fb9f3a\"],[0.8888888888888888,\"#fdca26\"],[1.0,\"#f0f921\"]]}],\"choropleth\":[{\"type\":\"choropleth\",\"colorbar\":{\"outlinewidth\":0,\"ticks\":\"\"}}],\"histogram2d\":[{\"type\":\"histogram2d\",\"colorbar\":{\"outlinewidth\":0,\"ticks\":\"\"},\"colorscale\":[[0.0,\"#0d0887\"],[0.1111111111111111,\"#46039f\"],[0.2222222222222222,\"#7201a8\"],[0.3333333333333333,\"#9c179e\"],[0.4444444444444444,\"#bd3786\"],[0.5555555555555556,\"#d8576b\"],[0.6666666666666666,\"#ed7953\"],[0.7777777777777778,\"#fb9f3a\"],[0.8888888888888888,\"#fdca26\"],[1.0,\"#f0f921\"]]}],\"heatmap\":[{\"type\":\"heatmap\",\"colorbar\":{\"outlinewidth\":0,\"ticks\":\"\"},\"colorscale\":[[0.0,\"#0d0887\"],[0.1111111111111111,\"#46039f\"],[0.2222222222222222,\"#7201a8\"],[0.3333333333333333,\"#9c179e\"],[0.4444444444444444,\"#bd3786\"],[0.5555555555555556,\"#d8576b\"],[0.6666666666666666,\"#ed7953\"],[0.7777777777777778,\"#fb9f3a\"],[0.8888888888888888,\"#fdca26\"],[1.0,\"#f0f921\"]]}],\"heatmapgl\":[{\"type\":\"heatmapgl\",\"colorbar\":{\"outlinewidth\":0,\"ticks\":\"\"},\"colorscale\":[[0.0,\"#0d0887\"],[0.1111111111111111,\"#46039f\"],[0.2222222222222222,\"#7201a8\"],[0.3333333333333333,\"#9c179e\"],[0.4444444444444444,\"#bd3786\"],[0.5555555555555556,\"#d8576b\"],[0.6666666666666666,\"#ed7953\"],[0.7777777777777778,\"#fb9f3a\"],[0.8888888888888888,\"#fdca26\"],[1.0,\"#f0f921\"]]}],\"contourcarpet\":[{\"type\":\"contourcarpet\",\"colorbar\":{\"outlinewidth\":0,\"ticks\":\"\"}}],\"contour\":[{\"type\":\"contour\",\"colorbar\":{\"outlinewidth\":0,\"ticks\":\"\"},\"colorscale\":[[0.0,\"#0d0887\"],[0.1111111111111111,\"#46039f\"],[0.2222222222222222,\"#7201a8\"],[0.3333333333333333,\"#9c179e\"],[0.4444444444444444,\"#bd3786\"],[0.5555555555555556,\"#d8576b\"],[0.6666666666666666,\"#ed7953\"],[0.7777777777777778,\"#fb9f3a\"],[0.8888888888888888,\"#fdca26\"],[1.0,\"#f0f921\"]]}],\"surface\":[{\"type\":\"surface\",\"colorbar\":{\"outlinewidth\":0,\"ticks\":\"\"},\"colorscale\":[[0.0,\"#0d0887\"],[0.1111111111111111,\"#46039f\"],[0.2222222222222222,\"#7201a8\"],[0.3333333333333333,\"#9c179e\"],[0.4444444444444444,\"#bd3786\"],[0.5555555555555556,\"#d8576b\"],[0.6666666666666666,\"#ed7953\"],[0.7777777777777778,\"#fb9f3a\"],[0.8888888888888888,\"#fdca26\"],[1.0,\"#f0f921\"]]}],\"mesh3d\":[{\"type\":\"mesh3d\",\"colorbar\":{\"outlinewidth\":0,\"ticks\":\"\"}}],\"scatter\":[{\"fillpattern\":{\"fillmode\":\"overlay\",\"size\":10,\"solidity\":0.2},\"type\":\"scatter\"}],\"parcoords\":[{\"type\":\"parcoords\",\"line\":{\"colorbar\":{\"outlinewidth\":0,\"ticks\":\"\"}}}],\"scatterpolargl\":[{\"type\":\"scatterpolargl\",\"marker\":{\"colorbar\":{\"outlinewidth\":0,\"ticks\":\"\"}}}],\"bar\":[{\"error_x\":{\"color\":\"#2a3f5f\"},\"error_y\":{\"color\":\"#2a3f5f\"},\"marker\":{\"line\":{\"color\":\"#E5ECF6\",\"width\":0.5},\"pattern\":{\"fillmode\":\"overlay\",\"size\":10,\"solidity\":0.2}},\"type\":\"bar\"}],\"scattergeo\":[{\"type\":\"scattergeo\",\"marker\":{\"colorbar\":{\"outlinewidth\":0,\"ticks\":\"\"}}}],\"scatterpolar\":[{\"type\":\"scatterpolar\",\"marker\":{\"colorbar\":{\"outlinewidth\":0,\"ticks\":\"\"}}}],\"histogram\":[{\"marker\":{\"pattern\":{\"fillmode\":\"overlay\",\"size\":10,\"solidity\":0.2}},\"type\":\"histogram\"}],\"scattergl\":[{\"type\":\"scattergl\",\"marker\":{\"colorbar\":{\"outlinewidth\":0,\"ticks\":\"\"}}}],\"scatter3d\":[{\"type\":\"scatter3d\",\"line\":{\"colorbar\":{\"outlinewidth\":0,\"ticks\":\"\"}},\"marker\":{\"colorbar\":{\"outlinewidth\":0,\"ticks\":\"\"}}}],\"scattermapbox\":[{\"type\":\"scattermapbox\",\"marker\":{\"colorbar\":{\"outlinewidth\":0,\"ticks\":\"\"}}}],\"scatterternary\":[{\"type\":\"scatterternary\",\"marker\":{\"colorbar\":{\"outlinewidth\":0,\"ticks\":\"\"}}}],\"scattercarpet\":[{\"type\":\"scattercarpet\",\"marker\":{\"colorbar\":{\"outlinewidth\":0,\"ticks\":\"\"}}}],\"carpet\":[{\"aaxis\":{\"endlinecolor\":\"#2a3f5f\",\"gridcolor\":\"white\",\"linecolor\":\"white\",\"minorgridcolor\":\"white\",\"startlinecolor\":\"#2a3f5f\"},\"baxis\":{\"endlinecolor\":\"#2a3f5f\",\"gridcolor\":\"white\",\"linecolor\":\"white\",\"minorgridcolor\":\"white\",\"startlinecolor\":\"#2a3f5f\"},\"type\":\"carpet\"}],\"table\":[{\"cells\":{\"fill\":{\"color\":\"#EBF0F8\"},\"line\":{\"color\":\"white\"}},\"header\":{\"fill\":{\"color\":\"#C8D4E3\"},\"line\":{\"color\":\"white\"}},\"type\":\"table\"}],\"barpolar\":[{\"marker\":{\"line\":{\"color\":\"#E5ECF6\",\"width\":0.5},\"pattern\":{\"fillmode\":\"overlay\",\"size\":10,\"solidity\":0.2}},\"type\":\"barpolar\"}],\"pie\":[{\"automargin\":true,\"type\":\"pie\"}]},\"layout\":{\"autotypenumbers\":\"strict\",\"colorway\":[\"#636efa\",\"#EF553B\",\"#00cc96\",\"#ab63fa\",\"#FFA15A\",\"#19d3f3\",\"#FF6692\",\"#B6E880\",\"#FF97FF\",\"#FECB52\"],\"font\":{\"color\":\"#2a3f5f\"},\"hovermode\":\"closest\",\"hoverlabel\":{\"align\":\"left\"},\"paper_bgcolor\":\"white\",\"plot_bgcolor\":\"#E5ECF6\",\"polar\":{\"bgcolor\":\"#E5ECF6\",\"angularaxis\":{\"gridcolor\":\"white\",\"linecolor\":\"white\",\"ticks\":\"\"},\"radialaxis\":{\"gridcolor\":\"white\",\"linecolor\":\"white\",\"ticks\":\"\"}},\"ternary\":{\"bgcolor\":\"#E5ECF6\",\"aaxis\":{\"gridcolor\":\"white\",\"linecolor\":\"white\",\"ticks\":\"\"},\"baxis\":{\"gridcolor\":\"white\",\"linecolor\":\"white\",\"ticks\":\"\"},\"caxis\":{\"gridcolor\":\"white\",\"linecolor\":\"white\",\"ticks\":\"\"}},\"coloraxis\":{\"colorbar\":{\"outlinewidth\":0,\"ticks\":\"\"}},\"colorscale\":{\"sequential\":[[0.0,\"#0d0887\"],[0.1111111111111111,\"#46039f\"],[0.2222222222222222,\"#7201a8\"],[0.3333333333333333,\"#9c179e\"],[0.4444444444444444,\"#bd3786\"],[0.5555555555555556,\"#d8576b\"],[0.6666666666666666,\"#ed7953\"],[0.7777777777777778,\"#fb9f3a\"],[0.8888888888888888,\"#fdca26\"],[1.0,\"#f0f921\"]],\"sequentialminus\":[[0.0,\"#0d0887\"],[0.1111111111111111,\"#46039f\"],[0.2222222222222222,\"#7201a8\"],[0.3333333333333333,\"#9c179e\"],[0.4444444444444444,\"#bd3786\"],[0.5555555555555556,\"#d8576b\"],[0.6666666666666666,\"#ed7953\"],[0.7777777777777778,\"#fb9f3a\"],[0.8888888888888888,\"#fdca26\"],[1.0,\"#f0f921\"]],\"diverging\":[[0,\"#8e0152\"],[0.1,\"#c51b7d\"],[0.2,\"#de77ae\"],[0.3,\"#f1b6da\"],[0.4,\"#fde0ef\"],[0.5,\"#f7f7f7\"],[0.6,\"#e6f5d0\"],[0.7,\"#b8e186\"],[0.8,\"#7fbc41\"],[0.9,\"#4d9221\"],[1,\"#276419\"]]},\"xaxis\":{\"gridcolor\":\"white\",\"linecolor\":\"white\",\"ticks\":\"\",\"title\":{\"standoff\":15},\"zerolinecolor\":\"white\",\"automargin\":true,\"zerolinewidth\":2},\"yaxis\":{\"gridcolor\":\"white\",\"linecolor\":\"white\",\"ticks\":\"\",\"title\":{\"standoff\":15},\"zerolinecolor\":\"white\",\"automargin\":true,\"zerolinewidth\":2},\"scene\":{\"xaxis\":{\"backgroundcolor\":\"#E5ECF6\",\"gridcolor\":\"white\",\"linecolor\":\"white\",\"showbackground\":true,\"ticks\":\"\",\"zerolinecolor\":\"white\",\"gridwidth\":2},\"yaxis\":{\"backgroundcolor\":\"#E5ECF6\",\"gridcolor\":\"white\",\"linecolor\":\"white\",\"showbackground\":true,\"ticks\":\"\",\"zerolinecolor\":\"white\",\"gridwidth\":2},\"zaxis\":{\"backgroundcolor\":\"#E5ECF6\",\"gridcolor\":\"white\",\"linecolor\":\"white\",\"showbackground\":true,\"ticks\":\"\",\"zerolinecolor\":\"white\",\"gridwidth\":2}},\"shapedefaults\":{\"line\":{\"color\":\"#2a3f5f\"}},\"annotationdefaults\":{\"arrowcolor\":\"#2a3f5f\",\"arrowhead\":0,\"arrowwidth\":1},\"geo\":{\"bgcolor\":\"white\",\"landcolor\":\"#E5ECF6\",\"subunitcolor\":\"white\",\"showland\":true,\"showlakes\":true,\"lakecolor\":\"white\"},\"title\":{\"x\":0.05},\"mapbox\":{\"style\":\"light\"}}},\"title\":{\"text\":\"\\u0412\\u043e\\u0440\\u043e\\u043d\\u043a\\u0430 \\u0441\\u043e\\u0431\\u044b\\u0442\\u0438\\u0439 \\u043f\\u043e\\u043b\\u044c\\u0437\\u043e\\u0432\\u0430\\u0442\\u0435\\u043b\\u0435\\u0439 \\u0432 \\u0433\\u0440\\u0443\\u043f\\u043f\\u0430\\u0445\"},\"width\":1000,\"height\":800},                        {\"responsive\": true}                    ).then(function(){\n",
       "                            \n",
       "var gd = document.getElementById('df1a8312-bfca-410d-abc4-ba8f3e446ce1');\n",
       "var x = new MutationObserver(function (mutations, observer) {{\n",
       "        var display = window.getComputedStyle(gd).display;\n",
       "        if (!display || display === 'none') {{\n",
       "            console.log([gd, 'removed!']);\n",
       "            Plotly.purge(gd);\n",
       "            observer.disconnect();\n",
       "        }}\n",
       "}});\n",
       "\n",
       "// Listen for the removal of the full notebook cells\n",
       "var notebookContainer = gd.closest('#notebook-container');\n",
       "if (notebookContainer) {{\n",
       "    x.observe(notebookContainer, {childList: true});\n",
       "}}\n",
       "\n",
       "// Listen for the clearing of the current output cell\n",
       "var outputEl = gd.closest('.output');\n",
       "if (outputEl) {{\n",
       "    x.observe(outputEl, {childList: true});\n",
       "}}\n",
       "\n",
       "                        })                };                });            </script>        </div>"
      ]
     },
     "metadata": {},
     "output_type": "display_data"
    }
   ],
   "source": [
    "import plotly.graph_objects as go\n",
    "\n",
    "groups = ['A', 'B']\n",
    "fig = go.Figure()\n",
    "\n",
    "for i, group in enumerate(groups):\n",
    "    fig.add_trace(go.Funnel(\n",
    "        name=group,\n",
    "        y=(group_events_count[(group_events_count['group'] == group)]['event_name']),\n",
    "        x=(group_events_count[(group_events_count['group'] == group)]['user_id']),\n",
    "        textposition=\"inside\",\n",
    "        textinfo=\"text+percent initial+percent previous\",\n",
    "        insidetextfont={'color': 'white'},\n",
    "    ))\n",
    "\n",
    "fig.update_layout(title=\"Воронка событий пользователей в группах\", width=1000, height=800)\n",
    "fig.show()\n"
   ]
  },
  {
   "cell_type": "markdown",
   "id": "34b1af58",
   "metadata": {},
   "source": [
    "В целом происходит интересная тенденция. Мое предположение о невозможности найти нужный товар кажется менее правдоподобной, теперь я склоняюсь к тому, что у участников теста возникли проблемы с логином. Стоит уточнить у тех службы компании, возникали ли проблемы с данной операцией у пользователей данной группы."
   ]
  },
  {
   "cell_type": "markdown",
   "id": "7d4e3774",
   "metadata": {},
   "source": [
    "### Вывод\n",
    "\n",
    "1. Необходимо учитывать, что у нас отсутствуют данные после 30 декабря, что негативно сказывается на исследовании.\n",
    "2. В период проведения теста проводилась маркетинговая компания, что может так же исказить тестирование.\n",
    "3. С 14 декабря наблюдается рост активности пользователей, скорее всего из-за п.2.\n",
    "4. В процентном соотношении группа А имеет лучшие показатели как по количеству действий, так и по количеству регистраций в день.\n",
    "5. Возможно есть проблемы с входом в систему. \n",
    "\n",
    "**Важный ответ на ТЗ**\n",
    "\n",
    "Ожидаемый эффект: за 14 дней с момента регистрации в системе пользователи покажут улучшение каждой метрики не менее, чем на 10%:\n",
    "- конверсии в просмотр карточек товаров — событие product_page\n",
    "- просмотры корзины — product_cart\n",
    "- покупки — purchase.\n",
    "\n",
    "Согласно воронкам эффекта не произошло\n"
   ]
  },
  {
   "cell_type": "markdown",
   "id": "ca4889b5",
   "metadata": {},
   "source": [
    "## Тестирование"
   ]
  },
  {
   "cell_type": "code",
   "execution_count": 62,
   "id": "ac260066",
   "metadata": {},
   "outputs": [
    {
     "data": {
      "text/html": [
       "<div>\n",
       "<style scoped>\n",
       "    .dataframe tbody tr th:only-of-type {\n",
       "        vertical-align: middle;\n",
       "    }\n",
       "\n",
       "    .dataframe tbody tr th {\n",
       "        vertical-align: top;\n",
       "    }\n",
       "\n",
       "    .dataframe thead th {\n",
       "        text-align: right;\n",
       "    }\n",
       "</style>\n",
       "<table border=\"1\" class=\"dataframe\">\n",
       "  <thead>\n",
       "    <tr style=\"text-align: right;\">\n",
       "      <th></th>\n",
       "      <th>group</th>\n",
       "      <th>event_name</th>\n",
       "      <th>user_id</th>\n",
       "    </tr>\n",
       "  </thead>\n",
       "  <tbody>\n",
       "    <tr>\n",
       "      <th>0</th>\n",
       "      <td>A</td>\n",
       "      <td>login</td>\n",
       "      <td>2279</td>\n",
       "    </tr>\n",
       "    <tr>\n",
       "      <th>1</th>\n",
       "      <td>A</td>\n",
       "      <td>product_cart</td>\n",
       "      <td>686</td>\n",
       "    </tr>\n",
       "    <tr>\n",
       "      <th>2</th>\n",
       "      <td>A</td>\n",
       "      <td>product_page</td>\n",
       "      <td>1476</td>\n",
       "    </tr>\n",
       "    <tr>\n",
       "      <th>3</th>\n",
       "      <td>A</td>\n",
       "      <td>purchase</td>\n",
       "      <td>734</td>\n",
       "    </tr>\n",
       "    <tr>\n",
       "      <th>4</th>\n",
       "      <td>B</td>\n",
       "      <td>login</td>\n",
       "      <td>770</td>\n",
       "    </tr>\n",
       "    <tr>\n",
       "      <th>5</th>\n",
       "      <td>B</td>\n",
       "      <td>product_cart</td>\n",
       "      <td>214</td>\n",
       "    </tr>\n",
       "    <tr>\n",
       "      <th>6</th>\n",
       "      <td>B</td>\n",
       "      <td>product_page</td>\n",
       "      <td>429</td>\n",
       "    </tr>\n",
       "    <tr>\n",
       "      <th>7</th>\n",
       "      <td>B</td>\n",
       "      <td>purchase</td>\n",
       "      <td>219</td>\n",
       "    </tr>\n",
       "  </tbody>\n",
       "</table>\n",
       "</div>"
      ],
      "text/plain": [
       "  group    event_name  user_id\n",
       "0     A         login     2279\n",
       "1     A  product_cart      686\n",
       "2     A  product_page     1476\n",
       "3     A      purchase      734\n",
       "4     B         login      770\n",
       "5     B  product_cart      214\n",
       "6     B  product_page      429\n",
       "7     B      purchase      219"
      ]
     },
     "execution_count": 62,
     "metadata": {},
     "output_type": "execute_result"
    }
   ],
   "source": [
    "all_groups = a_b_rec.groupby(['group', 'event_name']).agg({'user_id': 'nunique'}).reset_index()\n",
    "all_groups"
   ]
  },
  {
   "cell_type": "code",
   "execution_count": 63,
   "id": "15b07c62",
   "metadata": {},
   "outputs": [
    {
     "data": {
      "text/html": [
       "<div>\n",
       "<style scoped>\n",
       "    .dataframe tbody tr th:only-of-type {\n",
       "        vertical-align: middle;\n",
       "    }\n",
       "\n",
       "    .dataframe tbody tr th {\n",
       "        vertical-align: top;\n",
       "    }\n",
       "\n",
       "    .dataframe thead th {\n",
       "        text-align: right;\n",
       "    }\n",
       "</style>\n",
       "<table border=\"1\" class=\"dataframe\">\n",
       "  <thead>\n",
       "    <tr style=\"text-align: right;\">\n",
       "      <th></th>\n",
       "      <th>group</th>\n",
       "      <th>user_id</th>\n",
       "    </tr>\n",
       "  </thead>\n",
       "  <tbody>\n",
       "    <tr>\n",
       "      <th>0</th>\n",
       "      <td>A</td>\n",
       "      <td>2279</td>\n",
       "    </tr>\n",
       "    <tr>\n",
       "      <th>1</th>\n",
       "      <td>B</td>\n",
       "      <td>771</td>\n",
       "    </tr>\n",
       "  </tbody>\n",
       "</table>\n",
       "</div>"
      ],
      "text/plain": [
       "  group  user_id\n",
       "0     A     2279\n",
       "1     B      771"
      ]
     },
     "execution_count": 63,
     "metadata": {},
     "output_type": "execute_result"
    }
   ],
   "source": [
    "df_count_group = a_b_rec.groupby('group')['user_id'].nunique().reset_index()\n",
    "df_count_group"
   ]
  },
  {
   "cell_type": "markdown",
   "id": "8821706d",
   "metadata": {},
   "source": [
    "*Отмечу странный факт, количество пользователей всего в группе В на 1 больше чем тех, кто совершил вход в сервис. Возможно 1 человек после регистрации на сайте отвлекся от сервиса и больше к нему не возвращался.*\n"
   ]
  },
  {
   "cell_type": "markdown",
   "id": "627beb18",
   "metadata": {},
   "source": [
    "Сформулирую гипотезы:\n",
    "\n",
    "`H0` - Количество пользователей, совершивших событие в группах А и В статистически равно.\n",
    "\n",
    "`H1` - Количество пользователей, совершивших событие в группах А и В статистически отличается.\n",
    "\n",
    "Ввиду проверки сразу трех тестов, использую поправку Бонферрони\n",
    "\n",
    "> Простейший из методов множественного сравнения — введение поправки Бонферрони. Которая гласит, что если мы хотим обеспечить вероятность ошибки α′, то в каждом из сравнений мы должны принять уровень значимости α′/k — это и есть поправка Бонферрони. Например, при трехкратном сравнении уровень значимости должен быть 0,05/3= 1,7%. Поправка Бонферрони хорошо работает, если число сравнений невелико.\n",
    "\n",
    "0.05/3 = 0.017\n"
   ]
  },
  {
   "cell_type": "code",
   "execution_count": 64,
   "id": "8a3669df",
   "metadata": {},
   "outputs": [],
   "source": [
    "def z_test(exp1, exp2, event, alpha):\n",
    "    p1_ev = all_groups[(all_groups['group'] == exp1) & (all_groups['event_name'] == event)]['user_id'].values[0]\n",
    "    p2_ev = all_groups[(all_groups['group'] == exp2) & (all_groups['event_name'] == event)]['user_id'].values[0]\n",
    "    \n",
    "    p1_us = df_count_group[df_count_group['group'] == exp1]['user_id'].values[0]\n",
    "    p2_us = df_count_group[df_count_group['group'] == exp2]['user_id'].values[0]\n",
    "    \n",
    "    print(p1_ev, p2_ev, p1_us, p2_us)\n",
    "    \n",
    "    p1 = p1_ev / p1_us\n",
    "    p2 = p2_ev / p2_us\n",
    "    \n",
    "    difference = p1 - p2\n",
    "    p_combined = (p1_ev + p2_ev) / (p1_us + p2_us)\n",
    "    \n",
    "    z_value = difference / math.sqrt(p_combined * (1 - p_combined) * (1 / p1_us + 1 / p2_us))\n",
    "    distr = st.norm(0, 1)\n",
    "    p_value = (1 - distr.cdf(abs(z_value))) * 2\n",
    "\n",
    "    print('Проверка для {} и {}, событие: {}, p-значение: {p_value:.2f}'.format(exp1, exp2, event, p_value=p_value))\n",
    "    if (p_value < alpha):\n",
    "        print(\"Отвергаем нулевую гипотезу\")\n",
    "        print(\"Среднее количество пользователей совершивших {} в группах A и B статистически различается\".format(event))\n",
    "    else:\n",
    "        print(\"Не получилось отвергнуть нулевую гипотезу\")\n",
    "        print(\"Среднее количество пользователей совершивших {} в группах A и B статистически не различается\".format(event))\n",
    "\n"
   ]
  },
  {
   "cell_type": "code",
   "execution_count": 65,
   "id": "6d12a15b",
   "metadata": {},
   "outputs": [
    {
     "name": "stdout",
     "output_type": "stream",
     "text": [
      "1476 429 2279 771\n",
      "Проверка для A и B, событие: product_page, p-значение: 0.00\n",
      "Отвергаем нулевую гипотезу\n",
      "Среднее количество пользователей совершивших product_page в группах A и B статистически различается\n"
     ]
    }
   ],
   "source": [
    "z_test('A', 'B', 'product_page', alpha=0.017)"
   ]
  },
  {
   "cell_type": "code",
   "execution_count": 66,
   "id": "9691fe2d",
   "metadata": {},
   "outputs": [
    {
     "name": "stdout",
     "output_type": "stream",
     "text": [
      "686 214 2279 771\n",
      "Проверка для A и B, событие: product_cart, p-значение: 0.22\n",
      "Не получилось отвергнуть нулевую гипотезу\n",
      "Среднее количество пользователей совершивших product_cart в группах A и B статистически не различается\n"
     ]
    }
   ],
   "source": [
    "z_test('A', 'B', 'product_cart', alpha=0.017)"
   ]
  },
  {
   "cell_type": "code",
   "execution_count": 67,
   "id": "0d1374de",
   "metadata": {},
   "outputs": [
    {
     "name": "stdout",
     "output_type": "stream",
     "text": [
      "734 219 2279 771\n",
      "Проверка для A и B, событие: purchase, p-значение: 0.05\n",
      "Не получилось отвергнуть нулевую гипотезу\n",
      "Среднее количество пользователей совершивших purchase в группах A и B статистически не различается\n"
     ]
    }
   ],
   "source": [
    "z_test('A', 'B', 'purchase', alpha=0.017)"
   ]
  },
  {
   "cell_type": "markdown",
   "id": "292688e6",
   "metadata": {},
   "source": [
    "Согласно тестированию, количество пользователей, которые зашли на карточку товара различается, но остальные два действия одинаковы."
   ]
  },
  {
   "cell_type": "markdown",
   "id": "86e29d9d",
   "metadata": {},
   "source": [
    "# Общий итог исследования\n",
    "\n",
    "Можно с уверенностью сказать, что данные не подходят для проведения тестирования. Присутствуют следующие ошибки:\n",
    "\n",
    "1. Отсутствуют данные о действиях после 30.12.2020.\n",
    "2. Количество пользователей менее 6000.\n",
    "3. В период проведения теста Christmas&New Year Promo, которая затронуло целевую группу.\n",
    "4. Доли участников не соответствуют А и В тестированию - практически 75% в группе А и 25% в группе В.\n",
    "5. Количество участников не соответствует требуемым 15%.\n",
    "\n",
    "Цель \"увеличение показателей на 10%\" не достигнута.\n",
    "\n",
    "А\\В тестирование показало, что изменения в группе В не повлияли на действия пользователей кроме просмотра продуктовых карт.\n",
    "\n",
    "Можно сказать, что на результаты теста ориентироваться нельзя. Необходимо вернуть датасеты заказчику, уточнить актуальны ли они и нет ли проблем с выгрузкой. Если датасеты актуальны, требуется заново провести тестирование с учетом ошибок. Если нет, то заново провести анализ с новыми датасетами.\n",
    "\n",
    "Рекомендую так же обратить внимание на то, как пользователи из группы В заходят на сервис, возможно с этим есть проблемы.\n"
   ]
  }
 ],
 "metadata": {
  "ExecuteTimeLog": [
   {
    "duration": 1568,
    "start_time": "2023-07-19T16:36:19.478Z"
   },
   {
    "duration": 1116,
    "start_time": "2023-07-19T16:36:21.048Z"
   },
   {
    "duration": 23,
    "start_time": "2023-07-19T16:36:22.166Z"
   },
   {
    "duration": 21,
    "start_time": "2023-07-19T16:36:22.192Z"
   },
   {
    "duration": 368,
    "start_time": "2023-07-19T16:36:22.215Z"
   },
   {
    "duration": 160,
    "start_time": "2023-07-19T16:36:22.586Z"
   },
   {
    "duration": 77,
    "start_time": "2023-07-19T16:36:22.748Z"
   },
   {
    "duration": 14,
    "start_time": "2023-07-19T16:36:22.827Z"
   },
   {
    "duration": 42,
    "start_time": "2023-07-19T16:36:22.843Z"
   },
   {
    "duration": 35,
    "start_time": "2023-07-19T16:36:22.888Z"
   },
   {
    "duration": 16,
    "start_time": "2023-07-19T16:36:22.925Z"
   },
   {
    "duration": 50,
    "start_time": "2023-07-19T16:36:22.942Z"
   },
   {
    "duration": 35,
    "start_time": "2023-07-19T16:36:22.994Z"
   },
   {
    "duration": 69,
    "start_time": "2023-07-19T16:36:23.031Z"
   },
   {
    "duration": 171,
    "start_time": "2023-07-19T16:36:23.102Z"
   },
   {
    "duration": 6,
    "start_time": "2023-07-19T16:36:23.275Z"
   },
   {
    "duration": 29,
    "start_time": "2023-07-19T16:36:23.282Z"
   },
   {
    "duration": 19,
    "start_time": "2023-07-19T16:36:23.314Z"
   },
   {
    "duration": 95,
    "start_time": "2023-07-19T16:36:23.335Z"
   },
   {
    "duration": 36,
    "start_time": "2023-07-19T16:36:23.432Z"
   },
   {
    "duration": 6,
    "start_time": "2023-07-19T16:36:23.470Z"
   },
   {
    "duration": 45,
    "start_time": "2023-07-19T16:36:23.478Z"
   },
   {
    "duration": 13,
    "start_time": "2023-07-19T16:36:23.525Z"
   },
   {
    "duration": 53,
    "start_time": "2023-07-19T16:36:23.540Z"
   },
   {
    "duration": 190,
    "start_time": "2023-07-19T16:36:23.594Z"
   },
   {
    "duration": 809,
    "start_time": "2023-07-19T16:36:23.786Z"
   },
   {
    "duration": 232,
    "start_time": "2023-07-19T16:36:24.597Z"
   },
   {
    "duration": 83,
    "start_time": "2023-07-19T16:36:24.833Z"
   },
   {
    "duration": 63,
    "start_time": "2023-07-19T16:36:24.918Z"
   },
   {
    "duration": 92,
    "start_time": "2023-07-19T16:36:24.983Z"
   },
   {
    "duration": 8,
    "start_time": "2023-07-19T16:36:25.077Z"
   },
   {
    "duration": 36,
    "start_time": "2023-07-19T16:36:25.087Z"
   },
   {
    "duration": 17,
    "start_time": "2023-07-19T16:36:25.125Z"
   },
   {
    "duration": 24,
    "start_time": "2023-07-19T16:36:25.144Z"
   },
   {
    "duration": 23,
    "start_time": "2023-07-19T16:36:25.170Z"
   },
   {
    "duration": 25,
    "start_time": "2023-07-19T16:36:25.195Z"
   },
   {
    "duration": 11,
    "start_time": "2023-07-19T16:36:25.222Z"
   },
   {
    "duration": 6,
    "start_time": "2023-07-19T16:36:25.235Z"
   },
   {
    "duration": 15,
    "start_time": "2023-07-19T16:36:25.243Z"
   },
   {
    "duration": 14,
    "start_time": "2023-07-19T16:36:25.260Z"
   },
   {
    "duration": 9,
    "start_time": "2023-07-19T16:36:25.276Z"
   },
   {
    "duration": 8,
    "start_time": "2023-07-19T16:44:32.324Z"
   },
   {
    "duration": 9,
    "start_time": "2023-07-19T16:44:32.675Z"
   },
   {
    "duration": 8,
    "start_time": "2023-07-19T16:44:33.250Z"
   },
   {
    "duration": 9,
    "start_time": "2023-07-19T16:44:33.709Z"
   },
   {
    "duration": 52,
    "start_time": "2023-07-20T03:36:19.701Z"
   },
   {
    "duration": 1542,
    "start_time": "2023-07-20T03:36:27.184Z"
   },
   {
    "duration": 1208,
    "start_time": "2023-07-20T03:36:28.729Z"
   },
   {
    "duration": 22,
    "start_time": "2023-07-20T03:36:29.941Z"
   },
   {
    "duration": 27,
    "start_time": "2023-07-20T03:36:29.966Z"
   },
   {
    "duration": 413,
    "start_time": "2023-07-20T03:36:29.995Z"
   },
   {
    "duration": 164,
    "start_time": "2023-07-20T03:36:30.410Z"
   },
   {
    "duration": 72,
    "start_time": "2023-07-20T03:36:30.576Z"
   },
   {
    "duration": 15,
    "start_time": "2023-07-20T03:36:30.650Z"
   },
   {
    "duration": 48,
    "start_time": "2023-07-20T03:36:30.667Z"
   },
   {
    "duration": 37,
    "start_time": "2023-07-20T03:36:30.717Z"
   },
   {
    "duration": 34,
    "start_time": "2023-07-20T03:36:30.757Z"
   },
   {
    "duration": 48,
    "start_time": "2023-07-20T03:36:30.793Z"
   },
   {
    "duration": 30,
    "start_time": "2023-07-20T03:36:30.845Z"
   },
   {
    "duration": 94,
    "start_time": "2023-07-20T03:36:30.877Z"
   },
   {
    "duration": 194,
    "start_time": "2023-07-20T03:36:30.973Z"
   },
   {
    "duration": 7,
    "start_time": "2023-07-20T03:36:31.169Z"
   },
   {
    "duration": 40,
    "start_time": "2023-07-20T03:36:31.178Z"
   },
   {
    "duration": 35,
    "start_time": "2023-07-20T03:36:31.220Z"
   },
   {
    "duration": 59,
    "start_time": "2023-07-20T03:36:31.257Z"
   },
   {
    "duration": 60,
    "start_time": "2023-07-20T03:36:31.318Z"
   },
   {
    "duration": 7,
    "start_time": "2023-07-20T03:36:31.380Z"
   },
   {
    "duration": 40,
    "start_time": "2023-07-20T03:36:31.388Z"
   },
   {
    "duration": 37,
    "start_time": "2023-07-20T03:36:31.429Z"
   },
   {
    "duration": 44,
    "start_time": "2023-07-20T03:36:31.468Z"
   },
   {
    "duration": 159,
    "start_time": "2023-07-20T03:36:31.514Z"
   },
   {
    "duration": 398,
    "start_time": "2023-07-20T03:36:31.674Z"
   },
   {
    "duration": 223,
    "start_time": "2023-07-20T03:36:32.074Z"
   },
   {
    "duration": 73,
    "start_time": "2023-07-20T03:36:32.299Z"
   },
   {
    "duration": 71,
    "start_time": "2023-07-20T03:36:32.373Z"
   },
   {
    "duration": 84,
    "start_time": "2023-07-20T03:36:32.446Z"
   },
   {
    "duration": 7,
    "start_time": "2023-07-20T03:36:32.532Z"
   },
   {
    "duration": 18,
    "start_time": "2023-07-20T03:36:32.541Z"
   },
   {
    "duration": 11,
    "start_time": "2023-07-20T03:36:32.561Z"
   },
   {
    "duration": 46,
    "start_time": "2023-07-20T03:36:32.574Z"
   },
   {
    "duration": 18,
    "start_time": "2023-07-20T03:36:32.622Z"
   },
   {
    "duration": 22,
    "start_time": "2023-07-20T03:36:32.642Z"
   },
   {
    "duration": 12,
    "start_time": "2023-07-20T03:36:32.666Z"
   },
   {
    "duration": 33,
    "start_time": "2023-07-20T03:36:32.680Z"
   },
   {
    "duration": 16,
    "start_time": "2023-07-20T03:36:32.715Z"
   },
   {
    "duration": 11,
    "start_time": "2023-07-20T03:36:32.735Z"
   },
   {
    "duration": 9,
    "start_time": "2023-07-20T03:36:32.747Z"
   },
   {
    "duration": 67,
    "start_time": "2023-07-20T03:36:32.757Z"
   },
   {
    "duration": 26,
    "start_time": "2023-07-20T03:36:37.999Z"
   },
   {
    "duration": 39,
    "start_time": "2023-07-20T03:37:25.731Z"
   },
   {
    "duration": 34,
    "start_time": "2023-07-20T03:37:38.875Z"
   },
   {
    "duration": 21,
    "start_time": "2023-07-20T03:40:33.130Z"
   },
   {
    "duration": 7,
    "start_time": "2023-07-20T03:44:17.630Z"
   },
   {
    "duration": 19,
    "start_time": "2023-07-20T03:46:05.412Z"
   },
   {
    "duration": 157,
    "start_time": "2023-07-20T03:46:35.310Z"
   },
   {
    "duration": 7,
    "start_time": "2023-07-20T03:46:48.902Z"
   },
   {
    "duration": 18,
    "start_time": "2023-07-20T03:48:10.647Z"
   },
   {
    "duration": 22,
    "start_time": "2023-07-20T03:48:37.237Z"
   },
   {
    "duration": 16,
    "start_time": "2023-07-20T03:50:47.802Z"
   },
   {
    "duration": 34,
    "start_time": "2023-07-20T03:52:57.641Z"
   },
   {
    "duration": 4,
    "start_time": "2023-07-20T03:58:31.698Z"
   },
   {
    "duration": 6,
    "start_time": "2023-07-20T03:58:44.871Z"
   },
   {
    "duration": 9,
    "start_time": "2023-07-20T03:59:32.399Z"
   },
   {
    "duration": 42,
    "start_time": "2023-07-20T04:05:02.857Z"
   },
   {
    "duration": 26,
    "start_time": "2023-07-20T04:06:03.463Z"
   },
   {
    "duration": 32,
    "start_time": "2023-07-20T04:06:41.352Z"
   },
   {
    "duration": 33,
    "start_time": "2023-07-20T04:07:12.866Z"
   },
   {
    "duration": 437,
    "start_time": "2023-07-20T04:07:55.430Z"
   },
   {
    "duration": 21,
    "start_time": "2023-07-20T04:09:10.100Z"
   },
   {
    "duration": 26,
    "start_time": "2023-07-20T04:09:19.256Z"
   },
   {
    "duration": 30,
    "start_time": "2023-07-20T04:09:29.934Z"
   },
   {
    "duration": 8,
    "start_time": "2023-07-20T04:13:21.574Z"
   },
   {
    "duration": 20,
    "start_time": "2023-07-20T04:14:51.591Z"
   },
   {
    "duration": 11,
    "start_time": "2023-07-20T04:14:58.660Z"
   },
   {
    "duration": 10,
    "start_time": "2023-07-20T04:17:14.000Z"
   },
   {
    "duration": 23,
    "start_time": "2023-07-20T04:19:06.370Z"
   },
   {
    "duration": 17,
    "start_time": "2023-07-20T04:19:27.593Z"
   },
   {
    "duration": 303,
    "start_time": "2023-07-20T04:20:31.584Z"
   },
   {
    "duration": 13,
    "start_time": "2023-07-20T04:21:11.790Z"
   },
   {
    "duration": 9,
    "start_time": "2023-07-20T04:21:17.717Z"
   },
   {
    "duration": 15,
    "start_time": "2023-07-20T04:22:49.479Z"
   },
   {
    "duration": 14,
    "start_time": "2023-07-20T04:24:11.454Z"
   },
   {
    "duration": 350,
    "start_time": "2023-07-20T04:27:12.019Z"
   },
   {
    "duration": 469,
    "start_time": "2023-07-20T04:30:08.003Z"
   },
   {
    "duration": 12,
    "start_time": "2023-07-20T04:32:48.693Z"
   },
   {
    "duration": 23,
    "start_time": "2023-07-20T04:34:53.151Z"
   },
   {
    "duration": 18,
    "start_time": "2023-07-20T04:35:15.099Z"
   },
   {
    "duration": 23,
    "start_time": "2023-07-20T04:35:59.207Z"
   },
   {
    "duration": 1286,
    "start_time": "2023-07-20T04:46:21.152Z"
   },
   {
    "duration": 1325,
    "start_time": "2023-07-20T04:46:22.441Z"
   },
   {
    "duration": 23,
    "start_time": "2023-07-20T04:46:23.768Z"
   },
   {
    "duration": 21,
    "start_time": "2023-07-20T04:46:23.793Z"
   },
   {
    "duration": 393,
    "start_time": "2023-07-20T04:46:23.817Z"
   },
   {
    "duration": 167,
    "start_time": "2023-07-20T04:46:24.212Z"
   },
   {
    "duration": 69,
    "start_time": "2023-07-20T04:46:24.381Z"
   },
   {
    "duration": 13,
    "start_time": "2023-07-20T04:46:24.452Z"
   },
   {
    "duration": 42,
    "start_time": "2023-07-20T04:46:24.467Z"
   },
   {
    "duration": 18,
    "start_time": "2023-07-20T04:46:24.511Z"
   },
   {
    "duration": 49,
    "start_time": "2023-07-20T04:46:24.531Z"
   },
   {
    "duration": 27,
    "start_time": "2023-07-20T04:46:24.582Z"
   },
   {
    "duration": 12,
    "start_time": "2023-07-20T04:46:24.611Z"
   },
   {
    "duration": 14,
    "start_time": "2023-07-20T04:46:24.627Z"
   },
   {
    "duration": 46,
    "start_time": "2023-07-20T04:46:24.643Z"
   },
   {
    "duration": 9,
    "start_time": "2023-07-20T04:46:24.690Z"
   },
   {
    "duration": 64,
    "start_time": "2023-07-20T04:46:24.701Z"
   },
   {
    "duration": 199,
    "start_time": "2023-07-20T04:46:24.767Z"
   },
   {
    "duration": 7,
    "start_time": "2023-07-20T04:46:24.968Z"
   },
   {
    "duration": 27,
    "start_time": "2023-07-20T04:46:24.977Z"
   },
   {
    "duration": 17,
    "start_time": "2023-07-20T04:46:25.009Z"
   },
   {
    "duration": 48,
    "start_time": "2023-07-20T04:46:25.028Z"
   },
   {
    "duration": 60,
    "start_time": "2023-07-20T04:46:25.077Z"
   },
   {
    "duration": 7,
    "start_time": "2023-07-20T04:46:25.139Z"
   },
   {
    "duration": 36,
    "start_time": "2023-07-20T04:46:25.147Z"
   },
   {
    "duration": 25,
    "start_time": "2023-07-20T04:46:25.184Z"
   },
   {
    "duration": 40,
    "start_time": "2023-07-20T04:46:25.211Z"
   },
   {
    "duration": 174,
    "start_time": "2023-07-20T04:46:25.253Z"
   },
   {
    "duration": 416,
    "start_time": "2023-07-20T04:46:25.428Z"
   },
   {
    "duration": 209,
    "start_time": "2023-07-20T04:46:25.845Z"
   },
   {
    "duration": 82,
    "start_time": "2023-07-20T04:46:26.055Z"
   },
   {
    "duration": 71,
    "start_time": "2023-07-20T04:46:26.138Z"
   },
   {
    "duration": 69,
    "start_time": "2023-07-20T04:46:26.211Z"
   },
   {
    "duration": 7,
    "start_time": "2023-07-20T04:46:26.282Z"
   },
   {
    "duration": 34,
    "start_time": "2023-07-20T04:46:26.291Z"
   },
   {
    "duration": 12,
    "start_time": "2023-07-20T04:46:26.327Z"
   },
   {
    "duration": 19,
    "start_time": "2023-07-20T04:46:26.341Z"
   },
   {
    "duration": 50,
    "start_time": "2023-07-20T04:46:26.361Z"
   },
   {
    "duration": 18,
    "start_time": "2023-07-20T04:46:26.413Z"
   },
   {
    "duration": 11,
    "start_time": "2023-07-20T04:46:26.433Z"
   },
   {
    "duration": 6,
    "start_time": "2023-07-20T04:46:26.447Z"
   },
   {
    "duration": 14,
    "start_time": "2023-07-20T04:46:26.455Z"
   },
   {
    "duration": 7,
    "start_time": "2023-07-20T04:46:26.471Z"
   },
   {
    "duration": 9,
    "start_time": "2023-07-20T04:46:26.510Z"
   },
   {
    "duration": 84,
    "start_time": "2023-07-20T04:46:26.520Z"
   },
   {
    "duration": 21,
    "start_time": "2023-07-20T04:46:26.606Z"
   },
   {
    "duration": 6,
    "start_time": "2023-07-20T04:46:26.629Z"
   },
   {
    "duration": 22,
    "start_time": "2023-07-20T04:46:26.637Z"
   },
   {
    "duration": 6,
    "start_time": "2023-07-20T04:46:26.660Z"
   },
   {
    "duration": 41,
    "start_time": "2023-07-20T04:46:26.668Z"
   },
   {
    "duration": 21,
    "start_time": "2023-07-20T04:46:26.711Z"
   },
   {
    "duration": 12,
    "start_time": "2023-07-20T04:48:33.759Z"
   },
   {
    "duration": 24,
    "start_time": "2023-07-20T04:53:16.229Z"
   },
   {
    "duration": 13,
    "start_time": "2023-07-20T04:54:12.799Z"
   },
   {
    "duration": 23,
    "start_time": "2023-07-20T04:54:35.273Z"
   },
   {
    "duration": 467,
    "start_time": "2023-07-20T04:56:29.006Z"
   },
   {
    "duration": 1412,
    "start_time": "2023-07-20T04:57:14.538Z"
   },
   {
    "duration": 1148,
    "start_time": "2023-07-20T04:57:15.952Z"
   },
   {
    "duration": 24,
    "start_time": "2023-07-20T04:57:17.102Z"
   },
   {
    "duration": 20,
    "start_time": "2023-07-20T04:57:17.128Z"
   },
   {
    "duration": 409,
    "start_time": "2023-07-20T04:57:17.150Z"
   },
   {
    "duration": 165,
    "start_time": "2023-07-20T04:57:17.561Z"
   },
   {
    "duration": 54,
    "start_time": "2023-07-20T04:57:17.728Z"
   },
   {
    "duration": 33,
    "start_time": "2023-07-20T04:57:17.784Z"
   },
   {
    "duration": 26,
    "start_time": "2023-07-20T04:57:17.818Z"
   },
   {
    "duration": 4,
    "start_time": "2023-07-20T04:57:17.847Z"
   },
   {
    "duration": 68,
    "start_time": "2023-07-20T04:57:17.853Z"
   },
   {
    "duration": 29,
    "start_time": "2023-07-20T04:57:17.923Z"
   },
   {
    "duration": 17,
    "start_time": "2023-07-20T04:57:17.954Z"
   },
   {
    "duration": 6,
    "start_time": "2023-07-20T04:57:17.973Z"
   },
   {
    "duration": 46,
    "start_time": "2023-07-20T04:57:17.980Z"
   },
   {
    "duration": 6,
    "start_time": "2023-07-20T04:57:18.028Z"
   },
   {
    "duration": 82,
    "start_time": "2023-07-20T04:57:18.036Z"
   },
   {
    "duration": 206,
    "start_time": "2023-07-20T04:57:18.120Z"
   },
   {
    "duration": 6,
    "start_time": "2023-07-20T04:57:18.327Z"
   },
   {
    "duration": 11,
    "start_time": "2023-07-20T04:57:18.335Z"
   },
   {
    "duration": 7,
    "start_time": "2023-07-20T04:57:18.348Z"
   },
   {
    "duration": 64,
    "start_time": "2023-07-20T04:57:18.356Z"
   },
   {
    "duration": 38,
    "start_time": "2023-07-20T04:57:18.421Z"
   },
   {
    "duration": 8,
    "start_time": "2023-07-20T04:57:18.461Z"
   },
   {
    "duration": 49,
    "start_time": "2023-07-20T04:57:18.471Z"
   },
   {
    "duration": 15,
    "start_time": "2023-07-20T04:57:18.522Z"
   },
   {
    "duration": 21,
    "start_time": "2023-07-20T04:57:18.538Z"
   },
   {
    "duration": 59,
    "start_time": "2023-07-20T04:57:18.563Z"
   },
   {
    "duration": 167,
    "start_time": "2023-07-20T04:57:18.624Z"
   },
   {
    "duration": 411,
    "start_time": "2023-07-20T04:57:18.793Z"
   },
   {
    "duration": 248,
    "start_time": "2023-07-20T04:57:19.207Z"
   },
   {
    "duration": 88,
    "start_time": "2023-07-20T04:57:19.458Z"
   },
   {
    "duration": 74,
    "start_time": "2023-07-20T04:57:19.547Z"
   },
   {
    "duration": 72,
    "start_time": "2023-07-20T04:57:19.623Z"
   },
   {
    "duration": 15,
    "start_time": "2023-07-20T04:57:19.697Z"
   },
   {
    "duration": 21,
    "start_time": "2023-07-20T04:57:19.714Z"
   },
   {
    "duration": 12,
    "start_time": "2023-07-20T04:57:19.737Z"
   },
   {
    "duration": 19,
    "start_time": "2023-07-20T04:57:19.751Z"
   },
   {
    "duration": 50,
    "start_time": "2023-07-20T04:57:19.772Z"
   },
   {
    "duration": 17,
    "start_time": "2023-07-20T04:57:19.823Z"
   },
   {
    "duration": 12,
    "start_time": "2023-07-20T04:57:19.842Z"
   },
   {
    "duration": 25,
    "start_time": "2023-07-20T04:57:19.856Z"
   },
   {
    "duration": 28,
    "start_time": "2023-07-20T04:57:19.883Z"
   },
   {
    "duration": 43,
    "start_time": "2023-07-20T04:57:19.914Z"
   },
   {
    "duration": 34,
    "start_time": "2023-07-20T04:57:19.959Z"
   },
   {
    "duration": 109,
    "start_time": "2023-07-20T04:57:19.995Z"
   },
   {
    "duration": 21,
    "start_time": "2023-07-20T04:57:20.106Z"
   },
   {
    "duration": 16,
    "start_time": "2023-07-20T04:57:20.129Z"
   },
   {
    "duration": 25,
    "start_time": "2023-07-20T04:57:20.147Z"
   },
   {
    "duration": 9,
    "start_time": "2023-07-20T04:57:20.173Z"
   },
   {
    "duration": 31,
    "start_time": "2023-07-20T04:57:20.183Z"
   },
   {
    "duration": 43,
    "start_time": "2023-07-20T04:57:20.216Z"
   },
   {
    "duration": 167,
    "start_time": "2023-07-20T04:58:13.753Z"
   },
   {
    "duration": 8,
    "start_time": "2023-07-20T04:58:25.571Z"
   },
   {
    "duration": 16,
    "start_time": "2023-07-20T04:59:02.754Z"
   },
   {
    "duration": 14,
    "start_time": "2023-07-20T04:59:23.828Z"
   },
   {
    "duration": 251,
    "start_time": "2023-07-20T05:02:40.265Z"
   },
   {
    "duration": 7722,
    "start_time": "2023-07-20T05:02:46.166Z"
   },
   {
    "duration": 1400,
    "start_time": "2023-07-20T05:03:40.422Z"
   },
   {
    "duration": 1372,
    "start_time": "2023-07-20T05:03:41.824Z"
   },
   {
    "duration": 24,
    "start_time": "2023-07-20T05:03:43.198Z"
   },
   {
    "duration": 43,
    "start_time": "2023-07-20T05:03:43.224Z"
   },
   {
    "duration": 427,
    "start_time": "2023-07-20T05:03:43.269Z"
   },
   {
    "duration": 166,
    "start_time": "2023-07-20T05:03:43.698Z"
   },
   {
    "duration": 73,
    "start_time": "2023-07-20T05:03:43.867Z"
   },
   {
    "duration": 13,
    "start_time": "2023-07-20T05:03:43.942Z"
   },
   {
    "duration": 52,
    "start_time": "2023-07-20T05:03:43.957Z"
   },
   {
    "duration": 42,
    "start_time": "2023-07-20T05:03:44.012Z"
   },
   {
    "duration": 61,
    "start_time": "2023-07-20T05:03:44.056Z"
   },
   {
    "duration": 30,
    "start_time": "2023-07-20T05:03:44.118Z"
   },
   {
    "duration": 38,
    "start_time": "2023-07-20T05:03:44.150Z"
   },
   {
    "duration": 31,
    "start_time": "2023-07-20T05:03:44.190Z"
   },
   {
    "duration": 51,
    "start_time": "2023-07-20T05:03:44.223Z"
   },
   {
    "duration": 18,
    "start_time": "2023-07-20T05:03:44.276Z"
   },
   {
    "duration": 97,
    "start_time": "2023-07-20T05:03:44.296Z"
   },
   {
    "duration": 194,
    "start_time": "2023-07-20T05:03:44.395Z"
   },
   {
    "duration": 126,
    "start_time": "2023-07-20T05:03:44.591Z"
   },
   {
    "duration": 0,
    "start_time": "2023-07-20T05:03:44.719Z"
   },
   {
    "duration": 0,
    "start_time": "2023-07-20T05:03:44.720Z"
   },
   {
    "duration": 0,
    "start_time": "2023-07-20T05:03:44.722Z"
   },
   {
    "duration": 0,
    "start_time": "2023-07-20T05:03:44.723Z"
   },
   {
    "duration": 0,
    "start_time": "2023-07-20T05:03:44.723Z"
   },
   {
    "duration": 0,
    "start_time": "2023-07-20T05:03:44.725Z"
   },
   {
    "duration": 0,
    "start_time": "2023-07-20T05:03:44.726Z"
   },
   {
    "duration": 0,
    "start_time": "2023-07-20T05:03:44.727Z"
   },
   {
    "duration": 0,
    "start_time": "2023-07-20T05:03:44.728Z"
   },
   {
    "duration": 0,
    "start_time": "2023-07-20T05:03:44.730Z"
   },
   {
    "duration": 0,
    "start_time": "2023-07-20T05:03:44.731Z"
   },
   {
    "duration": 0,
    "start_time": "2023-07-20T05:03:44.732Z"
   },
   {
    "duration": 0,
    "start_time": "2023-07-20T05:03:44.732Z"
   },
   {
    "duration": 0,
    "start_time": "2023-07-20T05:03:44.733Z"
   },
   {
    "duration": 0,
    "start_time": "2023-07-20T05:03:44.734Z"
   },
   {
    "duration": 0,
    "start_time": "2023-07-20T05:03:44.735Z"
   },
   {
    "duration": 0,
    "start_time": "2023-07-20T05:03:44.736Z"
   },
   {
    "duration": 0,
    "start_time": "2023-07-20T05:03:44.738Z"
   },
   {
    "duration": 0,
    "start_time": "2023-07-20T05:03:44.738Z"
   },
   {
    "duration": 0,
    "start_time": "2023-07-20T05:03:44.740Z"
   },
   {
    "duration": 0,
    "start_time": "2023-07-20T05:03:44.740Z"
   },
   {
    "duration": 0,
    "start_time": "2023-07-20T05:03:44.741Z"
   },
   {
    "duration": 0,
    "start_time": "2023-07-20T05:03:44.742Z"
   },
   {
    "duration": 0,
    "start_time": "2023-07-20T05:03:44.743Z"
   },
   {
    "duration": 0,
    "start_time": "2023-07-20T05:03:44.744Z"
   },
   {
    "duration": 0,
    "start_time": "2023-07-20T05:03:44.746Z"
   },
   {
    "duration": 0,
    "start_time": "2023-07-20T05:03:44.746Z"
   },
   {
    "duration": 0,
    "start_time": "2023-07-20T05:03:44.747Z"
   },
   {
    "duration": 0,
    "start_time": "2023-07-20T05:03:44.749Z"
   },
   {
    "duration": 0,
    "start_time": "2023-07-20T05:03:44.750Z"
   },
   {
    "duration": 0,
    "start_time": "2023-07-20T05:03:44.751Z"
   },
   {
    "duration": 0,
    "start_time": "2023-07-20T05:03:44.752Z"
   },
   {
    "duration": 0,
    "start_time": "2023-07-20T05:03:44.753Z"
   },
   {
    "duration": 7,
    "start_time": "2023-07-20T05:03:55.206Z"
   },
   {
    "duration": 11,
    "start_time": "2023-07-20T05:03:56.674Z"
   },
   {
    "duration": 5,
    "start_time": "2023-07-20T05:03:58.238Z"
   },
   {
    "duration": 35,
    "start_time": "2023-07-20T05:03:58.982Z"
   },
   {
    "duration": 45,
    "start_time": "2023-07-20T05:03:59.438Z"
   },
   {
    "duration": 8,
    "start_time": "2023-07-20T05:04:01.251Z"
   },
   {
    "duration": 103,
    "start_time": "2023-07-20T05:04:01.926Z"
   },
   {
    "duration": 14,
    "start_time": "2023-07-20T05:04:02.332Z"
   },
   {
    "duration": 19,
    "start_time": "2023-07-20T05:04:49.616Z"
   },
   {
    "duration": 158,
    "start_time": "2023-07-20T05:05:35.661Z"
   },
   {
    "duration": 15,
    "start_time": "2023-07-20T05:05:38.787Z"
   },
   {
    "duration": 158,
    "start_time": "2023-07-20T05:05:56.932Z"
   },
   {
    "duration": 1355,
    "start_time": "2023-07-20T05:06:20.971Z"
   },
   {
    "duration": 1292,
    "start_time": "2023-07-20T05:06:22.328Z"
   },
   {
    "duration": 22,
    "start_time": "2023-07-20T05:06:23.622Z"
   },
   {
    "duration": 31,
    "start_time": "2023-07-20T05:06:23.645Z"
   },
   {
    "duration": 411,
    "start_time": "2023-07-20T05:06:23.679Z"
   },
   {
    "duration": 161,
    "start_time": "2023-07-20T05:06:24.092Z"
   },
   {
    "duration": 70,
    "start_time": "2023-07-20T05:06:24.255Z"
   },
   {
    "duration": 14,
    "start_time": "2023-07-20T05:06:24.327Z"
   },
   {
    "duration": 46,
    "start_time": "2023-07-20T05:06:24.342Z"
   },
   {
    "duration": 28,
    "start_time": "2023-07-20T05:06:24.389Z"
   },
   {
    "duration": 67,
    "start_time": "2023-07-20T05:06:24.419Z"
   },
   {
    "duration": 62,
    "start_time": "2023-07-20T05:06:24.487Z"
   },
   {
    "duration": 24,
    "start_time": "2023-07-20T05:06:24.550Z"
   },
   {
    "duration": 26,
    "start_time": "2023-07-20T05:06:24.577Z"
   },
   {
    "duration": 75,
    "start_time": "2023-07-20T05:06:24.605Z"
   },
   {
    "duration": 12,
    "start_time": "2023-07-20T05:06:24.682Z"
   },
   {
    "duration": 92,
    "start_time": "2023-07-20T05:06:24.696Z"
   },
   {
    "duration": 182,
    "start_time": "2023-07-20T05:06:24.790Z"
   },
   {
    "duration": 7,
    "start_time": "2023-07-20T05:06:24.974Z"
   },
   {
    "duration": 43,
    "start_time": "2023-07-20T05:06:24.984Z"
   },
   {
    "duration": 74,
    "start_time": "2023-07-20T05:06:25.029Z"
   },
   {
    "duration": 53,
    "start_time": "2023-07-20T05:06:25.105Z"
   },
   {
    "duration": 38,
    "start_time": "2023-07-20T05:06:25.159Z"
   },
   {
    "duration": 11,
    "start_time": "2023-07-20T05:06:25.198Z"
   },
   {
    "duration": 172,
    "start_time": "2023-07-20T05:06:25.211Z"
   },
   {
    "duration": 123,
    "start_time": "2023-07-20T05:06:25.385Z"
   },
   {
    "duration": 0,
    "start_time": "2023-07-20T05:06:25.511Z"
   },
   {
    "duration": 0,
    "start_time": "2023-07-20T05:06:25.512Z"
   },
   {
    "duration": 0,
    "start_time": "2023-07-20T05:06:25.513Z"
   },
   {
    "duration": 0,
    "start_time": "2023-07-20T05:06:25.514Z"
   },
   {
    "duration": 0,
    "start_time": "2023-07-20T05:06:25.515Z"
   },
   {
    "duration": 0,
    "start_time": "2023-07-20T05:06:25.517Z"
   },
   {
    "duration": 0,
    "start_time": "2023-07-20T05:06:25.518Z"
   },
   {
    "duration": 0,
    "start_time": "2023-07-20T05:06:25.519Z"
   },
   {
    "duration": 0,
    "start_time": "2023-07-20T05:06:25.520Z"
   },
   {
    "duration": 0,
    "start_time": "2023-07-20T05:06:25.521Z"
   },
   {
    "duration": 0,
    "start_time": "2023-07-20T05:06:25.522Z"
   },
   {
    "duration": 0,
    "start_time": "2023-07-20T05:06:25.523Z"
   },
   {
    "duration": 0,
    "start_time": "2023-07-20T05:06:25.524Z"
   },
   {
    "duration": 0,
    "start_time": "2023-07-20T05:06:25.526Z"
   },
   {
    "duration": 0,
    "start_time": "2023-07-20T05:06:25.527Z"
   },
   {
    "duration": 0,
    "start_time": "2023-07-20T05:06:25.529Z"
   },
   {
    "duration": 0,
    "start_time": "2023-07-20T05:06:25.530Z"
   },
   {
    "duration": 0,
    "start_time": "2023-07-20T05:06:25.531Z"
   },
   {
    "duration": 0,
    "start_time": "2023-07-20T05:06:25.533Z"
   },
   {
    "duration": 0,
    "start_time": "2023-07-20T05:06:25.534Z"
   },
   {
    "duration": 0,
    "start_time": "2023-07-20T05:06:25.535Z"
   },
   {
    "duration": 0,
    "start_time": "2023-07-20T05:06:25.536Z"
   },
   {
    "duration": 0,
    "start_time": "2023-07-20T05:06:25.537Z"
   },
   {
    "duration": 0,
    "start_time": "2023-07-20T05:06:25.539Z"
   },
   {
    "duration": 0,
    "start_time": "2023-07-20T05:06:25.540Z"
   },
   {
    "duration": 0,
    "start_time": "2023-07-20T05:06:25.541Z"
   },
   {
    "duration": 10,
    "start_time": "2023-07-20T05:07:37.664Z"
   },
   {
    "duration": 271,
    "start_time": "2023-07-20T05:07:43.967Z"
   },
   {
    "duration": 329,
    "start_time": "2023-07-20T05:08:00.751Z"
   },
   {
    "duration": 4847,
    "start_time": "2023-07-20T05:08:13.387Z"
   },
   {
    "duration": 2907,
    "start_time": "2023-07-20T05:08:30.933Z"
   },
   {
    "duration": 47,
    "start_time": "2023-07-20T05:08:36.056Z"
   },
   {
    "duration": 370,
    "start_time": "2023-07-20T05:11:17.104Z"
   },
   {
    "duration": 425,
    "start_time": "2023-07-20T05:11:39.299Z"
   },
   {
    "duration": 174,
    "start_time": "2023-07-20T05:11:44.207Z"
   },
   {
    "duration": 309,
    "start_time": "2023-07-20T05:12:13.851Z"
   },
   {
    "duration": 146,
    "start_time": "2023-07-20T05:12:29.259Z"
   },
   {
    "duration": 13,
    "start_time": "2023-07-20T05:13:02.151Z"
   },
   {
    "duration": 32,
    "start_time": "2023-07-20T05:15:12.240Z"
   },
   {
    "duration": 83,
    "start_time": "2023-07-20T05:15:13.123Z"
   },
   {
    "duration": 288,
    "start_time": "2023-07-20T05:15:24.688Z"
   },
   {
    "duration": 89,
    "start_time": "2023-07-20T05:15:27.277Z"
   },
   {
    "duration": 11,
    "start_time": "2023-07-20T05:15:28.370Z"
   },
   {
    "duration": 84,
    "start_time": "2023-07-20T05:15:30.494Z"
   },
   {
    "duration": 2,
    "start_time": "2023-07-20T05:18:04.296Z"
   },
   {
    "duration": 1632,
    "start_time": "2023-07-20T05:18:44.070Z"
   },
   {
    "duration": 1598,
    "start_time": "2023-07-20T05:18:53.543Z"
   },
   {
    "duration": 86,
    "start_time": "2023-07-20T05:20:01.349Z"
   },
   {
    "duration": 39,
    "start_time": "2023-07-20T05:20:01.518Z"
   },
   {
    "duration": 133,
    "start_time": "2023-07-20T05:20:07.068Z"
   },
   {
    "duration": 768,
    "start_time": "2023-07-20T05:23:20.027Z"
   },
   {
    "duration": 2362,
    "start_time": "2023-07-20T05:23:38.350Z"
   },
   {
    "duration": 126,
    "start_time": "2023-07-20T05:23:53.131Z"
   },
   {
    "duration": 5,
    "start_time": "2023-07-20T05:25:07.779Z"
   },
   {
    "duration": 99,
    "start_time": "2023-07-20T05:26:13.019Z"
   },
   {
    "duration": 73,
    "start_time": "2023-07-20T05:27:24.436Z"
   },
   {
    "duration": 75,
    "start_time": "2023-07-20T05:28:12.319Z"
   },
   {
    "duration": 1605,
    "start_time": "2023-07-20T05:34:07.123Z"
   },
   {
    "duration": 1379,
    "start_time": "2023-07-20T05:34:08.730Z"
   },
   {
    "duration": 25,
    "start_time": "2023-07-20T05:34:10.111Z"
   },
   {
    "duration": 22,
    "start_time": "2023-07-20T05:34:10.139Z"
   },
   {
    "duration": 412,
    "start_time": "2023-07-20T05:34:10.164Z"
   },
   {
    "duration": 173,
    "start_time": "2023-07-20T05:34:10.579Z"
   },
   {
    "duration": 80,
    "start_time": "2023-07-20T05:34:10.754Z"
   },
   {
    "duration": 16,
    "start_time": "2023-07-20T05:34:10.836Z"
   },
   {
    "duration": 44,
    "start_time": "2023-07-20T05:34:10.854Z"
   },
   {
    "duration": 6,
    "start_time": "2023-07-20T05:34:10.909Z"
   },
   {
    "duration": 38,
    "start_time": "2023-07-20T05:34:10.917Z"
   },
   {
    "duration": 54,
    "start_time": "2023-07-20T05:34:10.958Z"
   },
   {
    "duration": 15,
    "start_time": "2023-07-20T05:34:11.015Z"
   },
   {
    "duration": 32,
    "start_time": "2023-07-20T05:34:11.032Z"
   },
   {
    "duration": 42,
    "start_time": "2023-07-20T05:34:11.066Z"
   },
   {
    "duration": 8,
    "start_time": "2023-07-20T05:34:11.110Z"
   },
   {
    "duration": 75,
    "start_time": "2023-07-20T05:34:11.120Z"
   },
   {
    "duration": 212,
    "start_time": "2023-07-20T05:34:11.197Z"
   },
   {
    "duration": 7,
    "start_time": "2023-07-20T05:34:11.412Z"
   },
   {
    "duration": 12,
    "start_time": "2023-07-20T05:34:11.421Z"
   },
   {
    "duration": 11,
    "start_time": "2023-07-20T05:34:11.436Z"
   },
   {
    "duration": 64,
    "start_time": "2023-07-20T05:34:11.450Z"
   },
   {
    "duration": 39,
    "start_time": "2023-07-20T05:34:11.517Z"
   },
   {
    "duration": 8,
    "start_time": "2023-07-20T05:34:11.558Z"
   },
   {
    "duration": 332,
    "start_time": "2023-07-20T05:34:11.568Z"
   },
   {
    "duration": 89,
    "start_time": "2023-07-20T05:34:11.902Z"
   },
   {
    "duration": 24,
    "start_time": "2023-07-20T05:34:11.993Z"
   },
   {
    "duration": 100,
    "start_time": "2023-07-20T05:34:12.022Z"
   },
   {
    "duration": 14,
    "start_time": "2023-07-20T05:34:12.124Z"
   },
   {
    "duration": 48,
    "start_time": "2023-07-20T05:34:12.140Z"
   },
   {
    "duration": 169,
    "start_time": "2023-07-20T05:34:12.190Z"
   },
   {
    "duration": 414,
    "start_time": "2023-07-20T05:34:12.361Z"
   },
   {
    "duration": 238,
    "start_time": "2023-07-20T05:34:12.777Z"
   },
   {
    "duration": 73,
    "start_time": "2023-07-20T05:34:13.017Z"
   },
   {
    "duration": 75,
    "start_time": "2023-07-20T05:34:13.091Z"
   },
   {
    "duration": 92,
    "start_time": "2023-07-20T05:34:13.168Z"
   },
   {
    "duration": 8,
    "start_time": "2023-07-20T05:34:13.262Z"
   },
   {
    "duration": 28,
    "start_time": "2023-07-20T05:34:13.272Z"
   },
   {
    "duration": 12,
    "start_time": "2023-07-20T05:34:13.310Z"
   },
   {
    "duration": 20,
    "start_time": "2023-07-20T05:34:13.324Z"
   },
   {
    "duration": 19,
    "start_time": "2023-07-20T05:34:13.345Z"
   },
   {
    "duration": 51,
    "start_time": "2023-07-20T05:34:13.366Z"
   },
   {
    "duration": 13,
    "start_time": "2023-07-20T05:34:13.419Z"
   },
   {
    "duration": 8,
    "start_time": "2023-07-20T05:34:13.434Z"
   },
   {
    "duration": 50,
    "start_time": "2023-07-20T05:34:13.444Z"
   },
   {
    "duration": 28,
    "start_time": "2023-07-20T05:34:13.496Z"
   },
   {
    "duration": 26,
    "start_time": "2023-07-20T05:34:13.525Z"
   },
   {
    "duration": 110,
    "start_time": "2023-07-20T05:34:13.553Z"
   },
   {
    "duration": 24,
    "start_time": "2023-07-20T05:34:13.665Z"
   },
   {
    "duration": 7,
    "start_time": "2023-07-20T05:34:13.691Z"
   },
   {
    "duration": 38,
    "start_time": "2023-07-20T05:34:13.700Z"
   },
   {
    "duration": 7,
    "start_time": "2023-07-20T05:34:13.740Z"
   },
   {
    "duration": 29,
    "start_time": "2023-07-20T05:34:13.748Z"
   },
   {
    "duration": 24,
    "start_time": "2023-07-20T05:34:13.779Z"
   },
   {
    "duration": 14,
    "start_time": "2023-07-20T05:44:26.044Z"
   },
   {
    "duration": 18,
    "start_time": "2023-07-20T05:45:00.804Z"
   },
   {
    "duration": 16,
    "start_time": "2023-07-20T05:45:26.769Z"
   },
   {
    "duration": 11,
    "start_time": "2023-07-20T05:45:30.245Z"
   },
   {
    "duration": 18,
    "start_time": "2023-07-20T05:46:45.192Z"
   },
   {
    "duration": 20,
    "start_time": "2023-07-20T05:47:41.311Z"
   },
   {
    "duration": 18,
    "start_time": "2023-07-20T05:47:41.492Z"
   },
   {
    "duration": 166,
    "start_time": "2023-07-20T05:48:09.137Z"
   },
   {
    "duration": 19,
    "start_time": "2023-07-20T05:48:19.097Z"
   },
   {
    "duration": 20,
    "start_time": "2023-07-20T05:48:26.263Z"
   },
   {
    "duration": 33,
    "start_time": "2023-07-20T05:57:47.696Z"
   },
   {
    "duration": 1243,
    "start_time": "2023-07-20T06:43:22.584Z"
   },
   {
    "duration": 1145,
    "start_time": "2023-07-20T06:43:23.829Z"
   },
   {
    "duration": 27,
    "start_time": "2023-07-20T06:43:24.976Z"
   },
   {
    "duration": 19,
    "start_time": "2023-07-20T06:43:25.005Z"
   },
   {
    "duration": 383,
    "start_time": "2023-07-20T06:43:25.025Z"
   },
   {
    "duration": 167,
    "start_time": "2023-07-20T06:43:25.410Z"
   },
   {
    "duration": 89,
    "start_time": "2023-07-20T06:43:25.579Z"
   },
   {
    "duration": 19,
    "start_time": "2023-07-20T06:43:25.670Z"
   },
   {
    "duration": 28,
    "start_time": "2023-07-20T06:43:25.691Z"
   },
   {
    "duration": 4,
    "start_time": "2023-07-20T06:43:25.721Z"
   },
   {
    "duration": 34,
    "start_time": "2023-07-20T06:43:25.752Z"
   },
   {
    "duration": 28,
    "start_time": "2023-07-20T06:43:25.787Z"
   },
   {
    "duration": 41,
    "start_time": "2023-07-20T06:43:25.817Z"
   },
   {
    "duration": 6,
    "start_time": "2023-07-20T06:43:25.860Z"
   },
   {
    "duration": 30,
    "start_time": "2023-07-20T06:43:25.868Z"
   },
   {
    "duration": 6,
    "start_time": "2023-07-20T06:43:25.900Z"
   },
   {
    "duration": 79,
    "start_time": "2023-07-20T06:43:25.908Z"
   },
   {
    "duration": 179,
    "start_time": "2023-07-20T06:43:25.989Z"
   },
   {
    "duration": 7,
    "start_time": "2023-07-20T06:43:26.170Z"
   },
   {
    "duration": 20,
    "start_time": "2023-07-20T06:43:26.179Z"
   },
   {
    "duration": 13,
    "start_time": "2023-07-20T06:43:26.201Z"
   },
   {
    "duration": 47,
    "start_time": "2023-07-20T06:43:26.216Z"
   },
   {
    "duration": 34,
    "start_time": "2023-07-20T06:43:26.265Z"
   },
   {
    "duration": 7,
    "start_time": "2023-07-20T06:43:26.301Z"
   },
   {
    "duration": 280,
    "start_time": "2023-07-20T06:43:26.310Z"
   },
   {
    "duration": 85,
    "start_time": "2023-07-20T06:43:26.592Z"
   },
   {
    "duration": 12,
    "start_time": "2023-07-20T06:43:26.680Z"
   },
   {
    "duration": 85,
    "start_time": "2023-07-20T06:43:26.697Z"
   },
   {
    "duration": 12,
    "start_time": "2023-07-20T06:43:26.784Z"
   },
   {
    "duration": 41,
    "start_time": "2023-07-20T06:43:26.797Z"
   },
   {
    "duration": 149,
    "start_time": "2023-07-20T06:43:26.852Z"
   },
   {
    "duration": 685,
    "start_time": "2023-07-20T06:43:27.002Z"
   },
   {
    "duration": 236,
    "start_time": "2023-07-20T06:43:27.689Z"
   },
   {
    "duration": 92,
    "start_time": "2023-07-20T06:43:27.928Z"
   },
   {
    "duration": 74,
    "start_time": "2023-07-20T06:43:28.022Z"
   },
   {
    "duration": 76,
    "start_time": "2023-07-20T06:43:28.098Z"
   },
   {
    "duration": 8,
    "start_time": "2023-07-20T06:43:28.176Z"
   },
   {
    "duration": 20,
    "start_time": "2023-07-20T06:43:28.186Z"
   },
   {
    "duration": 11,
    "start_time": "2023-07-20T06:43:28.209Z"
   },
   {
    "duration": 240,
    "start_time": "2023-07-20T06:43:28.222Z"
   },
   {
    "duration": 0,
    "start_time": "2023-07-20T06:43:28.465Z"
   },
   {
    "duration": 0,
    "start_time": "2023-07-20T06:43:28.466Z"
   },
   {
    "duration": 0,
    "start_time": "2023-07-20T06:43:28.468Z"
   },
   {
    "duration": 0,
    "start_time": "2023-07-20T06:43:28.469Z"
   },
   {
    "duration": 0,
    "start_time": "2023-07-20T06:43:28.471Z"
   },
   {
    "duration": 0,
    "start_time": "2023-07-20T06:43:28.473Z"
   },
   {
    "duration": 0,
    "start_time": "2023-07-20T06:43:28.474Z"
   },
   {
    "duration": 0,
    "start_time": "2023-07-20T06:43:28.476Z"
   },
   {
    "duration": 0,
    "start_time": "2023-07-20T06:43:28.477Z"
   },
   {
    "duration": 0,
    "start_time": "2023-07-20T06:43:28.478Z"
   },
   {
    "duration": 0,
    "start_time": "2023-07-20T06:43:28.480Z"
   },
   {
    "duration": 0,
    "start_time": "2023-07-20T06:43:28.481Z"
   },
   {
    "duration": 0,
    "start_time": "2023-07-20T06:43:28.482Z"
   },
   {
    "duration": 0,
    "start_time": "2023-07-20T06:43:28.483Z"
   },
   {
    "duration": 10,
    "start_time": "2023-07-20T06:45:59.598Z"
   },
   {
    "duration": 82,
    "start_time": "2023-07-20T06:46:05.047Z"
   },
   {
    "duration": 9,
    "start_time": "2023-07-20T07:20:38.472Z"
   },
   {
    "duration": 27,
    "start_time": "2023-07-20T07:20:39.847Z"
   },
   {
    "duration": 6,
    "start_time": "2023-07-20T07:20:52.408Z"
   },
   {
    "duration": 24,
    "start_time": "2023-07-20T07:20:52.556Z"
   },
   {
    "duration": 8,
    "start_time": "2023-07-20T07:28:13.835Z"
   },
   {
    "duration": 23,
    "start_time": "2023-07-20T07:28:13.985Z"
   },
   {
    "duration": 6,
    "start_time": "2023-07-20T07:28:26.410Z"
   },
   {
    "duration": 24,
    "start_time": "2023-07-20T07:28:27.514Z"
   },
   {
    "duration": 7,
    "start_time": "2023-07-20T07:28:29.782Z"
   },
   {
    "duration": 6,
    "start_time": "2023-07-20T07:29:00.893Z"
   },
   {
    "duration": 25,
    "start_time": "2023-07-20T07:29:01.141Z"
   },
   {
    "duration": 5,
    "start_time": "2023-07-20T07:29:03.774Z"
   },
   {
    "duration": 23,
    "start_time": "2023-07-20T07:29:03.926Z"
   },
   {
    "duration": 8,
    "start_time": "2023-07-20T07:29:08.904Z"
   },
   {
    "duration": 24,
    "start_time": "2023-07-20T07:29:09.331Z"
   },
   {
    "duration": 10,
    "start_time": "2023-07-20T07:31:57.087Z"
   },
   {
    "duration": 1371,
    "start_time": "2023-07-20T07:33:08.771Z"
   },
   {
    "duration": 1403,
    "start_time": "2023-07-20T07:33:10.144Z"
   },
   {
    "duration": 23,
    "start_time": "2023-07-20T07:33:11.549Z"
   },
   {
    "duration": 34,
    "start_time": "2023-07-20T07:33:11.574Z"
   },
   {
    "duration": 404,
    "start_time": "2023-07-20T07:33:11.611Z"
   },
   {
    "duration": 164,
    "start_time": "2023-07-20T07:33:12.017Z"
   },
   {
    "duration": 68,
    "start_time": "2023-07-20T07:33:12.183Z"
   },
   {
    "duration": 14,
    "start_time": "2023-07-20T07:33:12.253Z"
   },
   {
    "duration": 50,
    "start_time": "2023-07-20T07:33:12.269Z"
   },
   {
    "duration": 17,
    "start_time": "2023-07-20T07:33:12.321Z"
   },
   {
    "duration": 39,
    "start_time": "2023-07-20T07:33:12.340Z"
   },
   {
    "duration": 41,
    "start_time": "2023-07-20T07:33:12.381Z"
   },
   {
    "duration": 14,
    "start_time": "2023-07-20T07:33:12.423Z"
   },
   {
    "duration": 26,
    "start_time": "2023-07-20T07:33:12.440Z"
   },
   {
    "duration": 14,
    "start_time": "2023-07-20T07:33:12.468Z"
   },
   {
    "duration": 40,
    "start_time": "2023-07-20T07:33:12.483Z"
   },
   {
    "duration": 6,
    "start_time": "2023-07-20T07:33:12.525Z"
   },
   {
    "duration": 78,
    "start_time": "2023-07-20T07:33:12.533Z"
   },
   {
    "duration": 214,
    "start_time": "2023-07-20T07:33:12.613Z"
   },
   {
    "duration": 6,
    "start_time": "2023-07-20T07:33:12.829Z"
   },
   {
    "duration": 45,
    "start_time": "2023-07-20T07:33:12.837Z"
   },
   {
    "duration": 24,
    "start_time": "2023-07-20T07:33:12.883Z"
   },
   {
    "duration": 54,
    "start_time": "2023-07-20T07:33:12.909Z"
   },
   {
    "duration": 46,
    "start_time": "2023-07-20T07:33:12.965Z"
   },
   {
    "duration": 8,
    "start_time": "2023-07-20T07:33:13.013Z"
   },
   {
    "duration": 309,
    "start_time": "2023-07-20T07:33:13.023Z"
   },
   {
    "duration": 96,
    "start_time": "2023-07-20T07:33:13.334Z"
   },
   {
    "duration": 12,
    "start_time": "2023-07-20T07:33:13.432Z"
   },
   {
    "duration": 92,
    "start_time": "2023-07-20T07:33:13.445Z"
   },
   {
    "duration": 87,
    "start_time": "2023-07-20T07:33:13.539Z"
   },
   {
    "duration": 12,
    "start_time": "2023-07-20T07:33:13.628Z"
   },
   {
    "duration": 47,
    "start_time": "2023-07-20T07:33:13.642Z"
   },
   {
    "duration": 175,
    "start_time": "2023-07-20T07:33:13.690Z"
   },
   {
    "duration": 517,
    "start_time": "2023-07-20T07:33:13.867Z"
   },
   {
    "duration": 236,
    "start_time": "2023-07-20T07:33:14.386Z"
   },
   {
    "duration": 70,
    "start_time": "2023-07-20T07:33:14.624Z"
   },
   {
    "duration": 73,
    "start_time": "2023-07-20T07:33:14.695Z"
   },
   {
    "duration": 90,
    "start_time": "2023-07-20T07:33:14.769Z"
   },
   {
    "duration": 8,
    "start_time": "2023-07-20T07:33:14.861Z"
   },
   {
    "duration": 21,
    "start_time": "2023-07-20T07:33:14.871Z"
   },
   {
    "duration": 13,
    "start_time": "2023-07-20T07:33:14.908Z"
   },
   {
    "duration": 193,
    "start_time": "2023-07-20T07:33:14.923Z"
   },
   {
    "duration": 0,
    "start_time": "2023-07-20T07:33:15.118Z"
   },
   {
    "duration": 0,
    "start_time": "2023-07-20T07:33:15.119Z"
   },
   {
    "duration": 0,
    "start_time": "2023-07-20T07:33:15.120Z"
   },
   {
    "duration": 0,
    "start_time": "2023-07-20T07:33:15.121Z"
   },
   {
    "duration": 0,
    "start_time": "2023-07-20T07:33:15.122Z"
   },
   {
    "duration": 0,
    "start_time": "2023-07-20T07:33:15.123Z"
   },
   {
    "duration": 0,
    "start_time": "2023-07-20T07:33:15.124Z"
   },
   {
    "duration": 0,
    "start_time": "2023-07-20T07:33:15.125Z"
   },
   {
    "duration": 0,
    "start_time": "2023-07-20T07:33:15.126Z"
   },
   {
    "duration": 0,
    "start_time": "2023-07-20T07:33:15.127Z"
   },
   {
    "duration": 0,
    "start_time": "2023-07-20T07:33:15.128Z"
   },
   {
    "duration": 0,
    "start_time": "2023-07-20T07:33:15.129Z"
   },
   {
    "duration": 1,
    "start_time": "2023-07-20T07:33:15.130Z"
   },
   {
    "duration": 0,
    "start_time": "2023-07-20T07:33:15.132Z"
   },
   {
    "duration": 19,
    "start_time": "2023-07-20T07:35:27.068Z"
   },
   {
    "duration": 32,
    "start_time": "2023-07-20T07:35:45.291Z"
   },
   {
    "duration": 29,
    "start_time": "2023-07-20T07:35:51.881Z"
   },
   {
    "duration": 21,
    "start_time": "2023-07-20T07:36:15.320Z"
   },
   {
    "duration": 23,
    "start_time": "2023-07-20T07:36:20.673Z"
   },
   {
    "duration": 20,
    "start_time": "2023-07-20T07:36:21.895Z"
   },
   {
    "duration": 19,
    "start_time": "2023-07-20T07:36:25.236Z"
   },
   {
    "duration": 14,
    "start_time": "2023-07-20T07:36:27.183Z"
   },
   {
    "duration": 7,
    "start_time": "2023-07-20T07:36:28.399Z"
   },
   {
    "duration": 9,
    "start_time": "2023-07-20T07:36:28.784Z"
   },
   {
    "duration": 9,
    "start_time": "2023-07-20T07:36:29.199Z"
   },
   {
    "duration": 10,
    "start_time": "2023-07-20T07:36:42.672Z"
   },
   {
    "duration": 14,
    "start_time": "2023-07-20T07:37:41.245Z"
   },
   {
    "duration": 41,
    "start_time": "2023-07-20T07:37:45.943Z"
   },
   {
    "duration": 149,
    "start_time": "2023-07-20T07:37:48.579Z"
   },
   {
    "duration": 53,
    "start_time": "2023-07-20T07:37:49.777Z"
   },
   {
    "duration": 63,
    "start_time": "2023-07-20T07:37:51.446Z"
   },
   {
    "duration": 65,
    "start_time": "2023-07-20T07:37:53.085Z"
   },
   {
    "duration": 63,
    "start_time": "2023-07-20T07:38:04.482Z"
   },
   {
    "duration": 72,
    "start_time": "2023-07-20T07:38:05.737Z"
   },
   {
    "duration": 8,
    "start_time": "2023-07-20T07:38:06.442Z"
   },
   {
    "duration": 18,
    "start_time": "2023-07-20T07:38:07.405Z"
   },
   {
    "duration": 12,
    "start_time": "2023-07-20T07:38:08.378Z"
   },
   {
    "duration": 23,
    "start_time": "2023-07-20T07:38:12.804Z"
   },
   {
    "duration": 18,
    "start_time": "2023-07-20T07:38:13.828Z"
   },
   {
    "duration": 270,
    "start_time": "2023-07-20T07:39:12.569Z"
   },
   {
    "duration": 16,
    "start_time": "2023-07-20T07:39:15.911Z"
   },
   {
    "duration": 16,
    "start_time": "2023-07-20T07:41:30.044Z"
   },
   {
    "duration": 10,
    "start_time": "2023-07-20T07:41:30.968Z"
   },
   {
    "duration": 1386,
    "start_time": "2023-07-20T07:42:36.912Z"
   },
   {
    "duration": 1606,
    "start_time": "2023-07-20T07:42:38.300Z"
   },
   {
    "duration": 23,
    "start_time": "2023-07-20T07:42:39.908Z"
   },
   {
    "duration": 21,
    "start_time": "2023-07-20T07:42:39.932Z"
   },
   {
    "duration": 437,
    "start_time": "2023-07-20T07:42:39.955Z"
   },
   {
    "duration": 182,
    "start_time": "2023-07-20T07:42:40.394Z"
   },
   {
    "duration": 73,
    "start_time": "2023-07-20T07:42:40.578Z"
   },
   {
    "duration": 13,
    "start_time": "2023-07-20T07:42:40.653Z"
   },
   {
    "duration": 45,
    "start_time": "2023-07-20T07:42:40.668Z"
   },
   {
    "duration": 6,
    "start_time": "2023-07-20T07:42:40.714Z"
   },
   {
    "duration": 47,
    "start_time": "2023-07-20T07:42:40.721Z"
   },
   {
    "duration": 53,
    "start_time": "2023-07-20T07:42:40.770Z"
   },
   {
    "duration": 20,
    "start_time": "2023-07-20T07:42:40.826Z"
   },
   {
    "duration": 13,
    "start_time": "2023-07-20T07:42:40.851Z"
   },
   {
    "duration": 45,
    "start_time": "2023-07-20T07:42:40.866Z"
   },
   {
    "duration": 25,
    "start_time": "2023-07-20T07:42:40.913Z"
   },
   {
    "duration": 7,
    "start_time": "2023-07-20T07:42:40.940Z"
   },
   {
    "duration": 98,
    "start_time": "2023-07-20T07:42:40.949Z"
   },
   {
    "duration": 210,
    "start_time": "2023-07-20T07:42:41.049Z"
   },
   {
    "duration": 7,
    "start_time": "2023-07-20T07:42:41.261Z"
   },
   {
    "duration": 40,
    "start_time": "2023-07-20T07:42:41.270Z"
   },
   {
    "duration": 6,
    "start_time": "2023-07-20T07:42:41.312Z"
   },
   {
    "duration": 39,
    "start_time": "2023-07-20T07:42:41.320Z"
   },
   {
    "duration": 69,
    "start_time": "2023-07-20T07:42:41.361Z"
   },
   {
    "duration": 7,
    "start_time": "2023-07-20T07:42:41.432Z"
   },
   {
    "duration": 340,
    "start_time": "2023-07-20T07:42:41.441Z"
   },
   {
    "duration": 96,
    "start_time": "2023-07-20T07:42:41.783Z"
   },
   {
    "duration": 13,
    "start_time": "2023-07-20T07:42:41.880Z"
   },
   {
    "duration": 96,
    "start_time": "2023-07-20T07:42:41.895Z"
   },
   {
    "duration": 84,
    "start_time": "2023-07-20T07:42:41.993Z"
   },
   {
    "duration": 30,
    "start_time": "2023-07-20T07:42:42.079Z"
   },
   {
    "duration": 50,
    "start_time": "2023-07-20T07:42:42.112Z"
   },
   {
    "duration": 161,
    "start_time": "2023-07-20T07:42:42.163Z"
   },
   {
    "duration": 420,
    "start_time": "2023-07-20T07:42:42.326Z"
   },
   {
    "duration": 220,
    "start_time": "2023-07-20T07:42:42.748Z"
   },
   {
    "duration": 137,
    "start_time": "2023-07-20T07:42:42.970Z"
   },
   {
    "duration": 65,
    "start_time": "2023-07-20T07:42:43.109Z"
   },
   {
    "duration": 96,
    "start_time": "2023-07-20T07:42:43.176Z"
   },
   {
    "duration": 9,
    "start_time": "2023-07-20T07:42:43.274Z"
   },
   {
    "duration": 61,
    "start_time": "2023-07-20T07:42:43.285Z"
   },
   {
    "duration": 67,
    "start_time": "2023-07-20T07:42:43.350Z"
   },
   {
    "duration": 30,
    "start_time": "2023-07-20T07:42:43.419Z"
   },
   {
    "duration": 32,
    "start_time": "2023-07-20T07:42:43.450Z"
   },
   {
    "duration": 34,
    "start_time": "2023-07-20T07:42:43.484Z"
   },
   {
    "duration": 11,
    "start_time": "2023-07-20T07:42:43.520Z"
   },
   {
    "duration": 17,
    "start_time": "2023-07-20T07:42:43.533Z"
   },
   {
    "duration": 44,
    "start_time": "2023-07-20T07:42:43.551Z"
   },
   {
    "duration": 77,
    "start_time": "2023-07-20T07:42:43.596Z"
   },
   {
    "duration": 40,
    "start_time": "2023-07-20T07:42:43.675Z"
   },
   {
    "duration": 1354,
    "start_time": "2023-07-20T07:44:16.178Z"
   },
   {
    "duration": 1212,
    "start_time": "2023-07-20T07:44:17.534Z"
   },
   {
    "duration": 24,
    "start_time": "2023-07-20T07:44:18.747Z"
   },
   {
    "duration": 30,
    "start_time": "2023-07-20T07:44:18.774Z"
   },
   {
    "duration": 421,
    "start_time": "2023-07-20T07:44:18.806Z"
   },
   {
    "duration": 181,
    "start_time": "2023-07-20T07:44:19.229Z"
   },
   {
    "duration": 74,
    "start_time": "2023-07-20T07:44:19.412Z"
   },
   {
    "duration": 30,
    "start_time": "2023-07-20T07:44:19.488Z"
   },
   {
    "duration": 28,
    "start_time": "2023-07-20T07:44:19.519Z"
   },
   {
    "duration": 5,
    "start_time": "2023-07-20T07:44:19.551Z"
   },
   {
    "duration": 67,
    "start_time": "2023-07-20T07:44:19.558Z"
   },
   {
    "duration": 30,
    "start_time": "2023-07-20T07:44:19.627Z"
   },
   {
    "duration": 16,
    "start_time": "2023-07-20T07:44:19.659Z"
   },
   {
    "duration": 14,
    "start_time": "2023-07-20T07:44:19.709Z"
   },
   {
    "duration": 12,
    "start_time": "2023-07-20T07:44:19.725Z"
   },
   {
    "duration": 35,
    "start_time": "2023-07-20T07:44:19.739Z"
   },
   {
    "duration": 9,
    "start_time": "2023-07-20T07:44:19.776Z"
   },
   {
    "duration": 75,
    "start_time": "2023-07-20T07:44:19.787Z"
   },
   {
    "duration": 213,
    "start_time": "2023-07-20T07:44:19.864Z"
   },
   {
    "duration": 6,
    "start_time": "2023-07-20T07:44:20.079Z"
   },
   {
    "duration": 86,
    "start_time": "2023-07-20T07:44:20.087Z"
   },
   {
    "duration": 43,
    "start_time": "2023-07-20T07:44:20.176Z"
   },
   {
    "duration": 78,
    "start_time": "2023-07-20T07:44:20.220Z"
   },
   {
    "duration": 36,
    "start_time": "2023-07-20T07:44:20.300Z"
   },
   {
    "duration": 6,
    "start_time": "2023-07-20T07:44:20.339Z"
   },
   {
    "duration": 319,
    "start_time": "2023-07-20T07:44:20.347Z"
   },
   {
    "duration": 95,
    "start_time": "2023-07-20T07:44:20.667Z"
   },
   {
    "duration": 11,
    "start_time": "2023-07-20T07:44:20.766Z"
   },
   {
    "duration": 112,
    "start_time": "2023-07-20T07:44:20.779Z"
   },
   {
    "duration": 76,
    "start_time": "2023-07-20T07:44:20.893Z"
   },
   {
    "duration": 13,
    "start_time": "2023-07-20T07:44:20.971Z"
   },
   {
    "duration": 55,
    "start_time": "2023-07-20T07:44:20.986Z"
   },
   {
    "duration": 168,
    "start_time": "2023-07-20T07:44:21.043Z"
   },
   {
    "duration": 395,
    "start_time": "2023-07-20T07:44:21.213Z"
   },
   {
    "duration": 233,
    "start_time": "2023-07-20T07:44:21.610Z"
   },
   {
    "duration": 82,
    "start_time": "2023-07-20T07:44:21.844Z"
   },
   {
    "duration": 59,
    "start_time": "2023-07-20T07:44:21.927Z"
   },
   {
    "duration": 86,
    "start_time": "2023-07-20T07:44:21.988Z"
   },
   {
    "duration": 8,
    "start_time": "2023-07-20T07:44:22.076Z"
   },
   {
    "duration": 102,
    "start_time": "2023-07-20T07:44:22.086Z"
   },
   {
    "duration": 21,
    "start_time": "2023-07-20T07:44:22.190Z"
   },
   {
    "duration": 28,
    "start_time": "2023-07-20T07:44:22.213Z"
   },
   {
    "duration": 19,
    "start_time": "2023-07-20T07:44:22.243Z"
   },
   {
    "duration": 19,
    "start_time": "2023-07-20T07:44:22.264Z"
   },
   {
    "duration": 14,
    "start_time": "2023-07-20T07:44:22.308Z"
   },
   {
    "duration": 46,
    "start_time": "2023-07-20T07:44:22.323Z"
   },
   {
    "duration": 35,
    "start_time": "2023-07-20T07:44:22.371Z"
   },
   {
    "duration": 17,
    "start_time": "2023-07-20T07:44:22.408Z"
   },
   {
    "duration": 26,
    "start_time": "2023-07-20T07:44:22.427Z"
   },
   {
    "duration": 1751,
    "start_time": "2023-07-20T07:44:37.377Z"
   },
   {
    "duration": 1407,
    "start_time": "2023-07-20T07:44:39.130Z"
   },
   {
    "duration": 24,
    "start_time": "2023-07-20T07:44:40.539Z"
   },
   {
    "duration": 92,
    "start_time": "2023-07-20T07:44:40.566Z"
   },
   {
    "duration": 1494,
    "start_time": "2023-07-20T09:18:55.360Z"
   },
   {
    "duration": 1565,
    "start_time": "2023-07-20T09:18:56.856Z"
   },
   {
    "duration": 22,
    "start_time": "2023-07-20T09:18:58.423Z"
   },
   {
    "duration": 33,
    "start_time": "2023-07-20T09:18:58.447Z"
   },
   {
    "duration": 334,
    "start_time": "2023-07-20T09:18:58.481Z"
   },
   {
    "duration": 164,
    "start_time": "2023-07-20T09:18:58.817Z"
   },
   {
    "duration": 51,
    "start_time": "2023-07-20T09:18:58.983Z"
   },
   {
    "duration": 32,
    "start_time": "2023-07-20T09:18:59.036Z"
   },
   {
    "duration": 31,
    "start_time": "2023-07-20T09:18:59.070Z"
   },
   {
    "duration": 4,
    "start_time": "2023-07-20T09:18:59.105Z"
   },
   {
    "duration": 57,
    "start_time": "2023-07-20T09:18:59.111Z"
   },
   {
    "duration": 27,
    "start_time": "2023-07-20T09:18:59.169Z"
   },
   {
    "duration": 13,
    "start_time": "2023-07-20T09:18:59.197Z"
   },
   {
    "duration": 24,
    "start_time": "2023-07-20T09:18:59.212Z"
   },
   {
    "duration": 23,
    "start_time": "2023-07-20T09:18:59.238Z"
   },
   {
    "duration": 40,
    "start_time": "2023-07-20T09:18:59.263Z"
   },
   {
    "duration": 6,
    "start_time": "2023-07-20T09:18:59.305Z"
   },
   {
    "duration": 65,
    "start_time": "2023-07-20T09:18:59.312Z"
   },
   {
    "duration": 165,
    "start_time": "2023-07-20T09:18:59.379Z"
   },
   {
    "duration": 13,
    "start_time": "2023-07-20T09:18:59.546Z"
   },
   {
    "duration": 36,
    "start_time": "2023-07-20T09:18:59.561Z"
   },
   {
    "duration": 17,
    "start_time": "2023-07-20T09:18:59.598Z"
   },
   {
    "duration": 53,
    "start_time": "2023-07-20T09:18:59.616Z"
   },
   {
    "duration": 38,
    "start_time": "2023-07-20T09:18:59.670Z"
   },
   {
    "duration": 6,
    "start_time": "2023-07-20T09:18:59.710Z"
   },
   {
    "duration": 276,
    "start_time": "2023-07-20T09:18:59.717Z"
   },
   {
    "duration": 84,
    "start_time": "2023-07-20T09:18:59.995Z"
   },
   {
    "duration": 10,
    "start_time": "2023-07-20T09:19:00.083Z"
   },
   {
    "duration": 106,
    "start_time": "2023-07-20T09:19:00.095Z"
   },
   {
    "duration": 84,
    "start_time": "2023-07-20T09:19:00.202Z"
   },
   {
    "duration": 11,
    "start_time": "2023-07-20T09:19:00.288Z"
   },
   {
    "duration": 109,
    "start_time": "2023-07-20T09:19:00.301Z"
   },
   {
    "duration": 182,
    "start_time": "2023-07-20T09:19:00.411Z"
   },
   {
    "duration": 762,
    "start_time": "2023-07-20T09:19:00.595Z"
   },
   {
    "duration": 243,
    "start_time": "2023-07-20T09:19:01.359Z"
   },
   {
    "duration": 96,
    "start_time": "2023-07-20T09:19:01.604Z"
   },
   {
    "duration": 74,
    "start_time": "2023-07-20T09:19:01.702Z"
   },
   {
    "duration": 85,
    "start_time": "2023-07-20T09:19:01.778Z"
   },
   {
    "duration": 9,
    "start_time": "2023-07-20T09:19:01.865Z"
   },
   {
    "duration": 105,
    "start_time": "2023-07-20T09:19:01.875Z"
   },
   {
    "duration": 57,
    "start_time": "2023-07-20T09:19:01.982Z"
   },
   {
    "duration": 40,
    "start_time": "2023-07-20T09:19:02.041Z"
   },
   {
    "duration": 89,
    "start_time": "2023-07-20T09:19:02.082Z"
   },
   {
    "duration": 16,
    "start_time": "2023-07-20T09:19:02.173Z"
   },
   {
    "duration": 37,
    "start_time": "2023-07-20T09:19:02.191Z"
   },
   {
    "duration": 40,
    "start_time": "2023-07-20T09:19:02.230Z"
   },
   {
    "duration": 104,
    "start_time": "2023-07-20T09:19:02.272Z"
   },
   {
    "duration": 45,
    "start_time": "2023-07-20T09:19:02.378Z"
   },
   {
    "duration": 44,
    "start_time": "2023-07-20T09:19:02.425Z"
   },
   {
    "duration": 52,
    "start_time": "2023-07-21T08:39:26.486Z"
   },
   {
    "duration": 1461,
    "start_time": "2023-07-21T08:39:49.328Z"
   },
   {
    "duration": 1238,
    "start_time": "2023-07-21T08:39:50.792Z"
   },
   {
    "duration": 21,
    "start_time": "2023-07-21T08:39:52.031Z"
   },
   {
    "duration": 25,
    "start_time": "2023-07-21T08:39:52.053Z"
   },
   {
    "duration": 308,
    "start_time": "2023-07-21T08:39:52.081Z"
   },
   {
    "duration": 150,
    "start_time": "2023-07-21T08:39:52.390Z"
   },
   {
    "duration": 72,
    "start_time": "2023-07-21T08:39:52.541Z"
   },
   {
    "duration": 12,
    "start_time": "2023-07-21T08:39:52.615Z"
   },
   {
    "duration": 41,
    "start_time": "2023-07-21T08:39:52.628Z"
   },
   {
    "duration": 5,
    "start_time": "2023-07-21T08:39:52.671Z"
   },
   {
    "duration": 81,
    "start_time": "2023-07-21T08:39:52.677Z"
   },
   {
    "duration": 26,
    "start_time": "2023-07-21T08:39:52.759Z"
   },
   {
    "duration": 18,
    "start_time": "2023-07-21T08:39:52.787Z"
   },
   {
    "duration": 23,
    "start_time": "2023-07-21T08:39:52.813Z"
   },
   {
    "duration": 31,
    "start_time": "2023-07-21T08:39:52.838Z"
   },
   {
    "duration": 26,
    "start_time": "2023-07-21T08:39:52.871Z"
   },
   {
    "duration": 47,
    "start_time": "2023-07-21T08:39:52.899Z"
   },
   {
    "duration": 11,
    "start_time": "2023-07-21T08:39:52.947Z"
   },
   {
    "duration": 66,
    "start_time": "2023-07-21T08:39:52.960Z"
   },
   {
    "duration": 139,
    "start_time": "2023-07-21T08:39:53.027Z"
   },
   {
    "duration": 6,
    "start_time": "2023-07-21T08:39:53.167Z"
   },
   {
    "duration": 45,
    "start_time": "2023-07-21T08:39:53.174Z"
   },
   {
    "duration": 36,
    "start_time": "2023-07-21T08:39:53.220Z"
   },
   {
    "duration": 72,
    "start_time": "2023-07-21T08:39:53.258Z"
   },
   {
    "duration": 77,
    "start_time": "2023-07-21T08:39:53.332Z"
   },
   {
    "duration": 12,
    "start_time": "2023-07-21T08:39:53.410Z"
   },
   {
    "duration": 292,
    "start_time": "2023-07-21T08:39:53.423Z"
   },
   {
    "duration": 85,
    "start_time": "2023-07-21T08:39:53.723Z"
   },
   {
    "duration": 12,
    "start_time": "2023-07-21T08:39:53.815Z"
   },
   {
    "duration": 107,
    "start_time": "2023-07-21T08:39:53.829Z"
   },
   {
    "duration": 88,
    "start_time": "2023-07-21T08:39:53.938Z"
   },
   {
    "duration": 49,
    "start_time": "2023-07-21T08:39:54.028Z"
   },
   {
    "duration": 104,
    "start_time": "2023-07-21T08:39:54.078Z"
   },
   {
    "duration": 150,
    "start_time": "2023-07-21T08:39:54.184Z"
   },
   {
    "duration": 439,
    "start_time": "2023-07-21T08:39:54.336Z"
   },
   {
    "duration": 185,
    "start_time": "2023-07-21T08:39:54.777Z"
   },
   {
    "duration": 86,
    "start_time": "2023-07-21T08:39:54.963Z"
   },
   {
    "duration": 92,
    "start_time": "2023-07-21T08:39:55.050Z"
   },
   {
    "duration": 78,
    "start_time": "2023-07-21T08:39:55.144Z"
   },
   {
    "duration": 10,
    "start_time": "2023-07-21T08:39:55.224Z"
   },
   {
    "duration": 33,
    "start_time": "2023-07-21T08:39:55.238Z"
   },
   {
    "duration": 26,
    "start_time": "2023-07-21T08:39:55.272Z"
   },
   {
    "duration": 65,
    "start_time": "2023-07-21T08:39:55.306Z"
   },
   {
    "duration": 144,
    "start_time": "2023-07-21T08:39:55.373Z"
   },
   {
    "duration": 40,
    "start_time": "2023-07-21T08:39:55.521Z"
   },
   {
    "duration": 18,
    "start_time": "2023-07-21T08:39:55.563Z"
   },
   {
    "duration": 28,
    "start_time": "2023-07-21T08:39:55.582Z"
   },
   {
    "duration": 38,
    "start_time": "2023-07-21T08:39:55.611Z"
   },
   {
    "duration": 29,
    "start_time": "2023-07-21T08:39:55.651Z"
   },
   {
    "duration": 39,
    "start_time": "2023-07-21T08:39:55.681Z"
   },
   {
    "duration": 7,
    "start_time": "2023-07-21T08:42:05.431Z"
   },
   {
    "duration": 26,
    "start_time": "2023-07-21T08:42:11.546Z"
   },
   {
    "duration": 12,
    "start_time": "2023-07-21T08:42:11.850Z"
   },
   {
    "duration": 10,
    "start_time": "2023-07-21T08:42:15.426Z"
   },
   {
    "duration": 13,
    "start_time": "2023-07-21T08:42:15.437Z"
   },
   {
    "duration": 1398,
    "start_time": "2023-07-21T08:45:05.578Z"
   },
   {
    "duration": 1283,
    "start_time": "2023-07-21T08:45:06.979Z"
   },
   {
    "duration": 23,
    "start_time": "2023-07-21T08:45:08.263Z"
   },
   {
    "duration": 26,
    "start_time": "2023-07-21T08:45:08.289Z"
   },
   {
    "duration": 449,
    "start_time": "2023-07-21T08:45:08.317Z"
   },
   {
    "duration": 170,
    "start_time": "2023-07-21T08:45:08.768Z"
   },
   {
    "duration": 69,
    "start_time": "2023-07-21T08:45:08.940Z"
   },
   {
    "duration": 19,
    "start_time": "2023-07-21T08:45:09.010Z"
   },
   {
    "duration": 39,
    "start_time": "2023-07-21T08:45:09.030Z"
   },
   {
    "duration": 13,
    "start_time": "2023-07-21T08:45:09.072Z"
   },
   {
    "duration": 52,
    "start_time": "2023-07-21T08:45:09.087Z"
   },
   {
    "duration": 36,
    "start_time": "2023-07-21T08:45:09.141Z"
   },
   {
    "duration": 25,
    "start_time": "2023-07-21T08:45:09.179Z"
   },
   {
    "duration": 10,
    "start_time": "2023-07-21T08:45:09.205Z"
   },
   {
    "duration": 34,
    "start_time": "2023-07-21T08:45:09.217Z"
   },
   {
    "duration": 15,
    "start_time": "2023-07-21T08:45:09.253Z"
   },
   {
    "duration": 45,
    "start_time": "2023-07-21T08:45:09.270Z"
   },
   {
    "duration": 18,
    "start_time": "2023-07-21T08:45:09.317Z"
   },
   {
    "duration": 77,
    "start_time": "2023-07-21T08:45:09.336Z"
   },
   {
    "duration": 172,
    "start_time": "2023-07-21T08:45:09.415Z"
   },
   {
    "duration": 7,
    "start_time": "2023-07-21T08:45:09.589Z"
   },
   {
    "duration": 48,
    "start_time": "2023-07-21T08:45:09.605Z"
   },
   {
    "duration": 17,
    "start_time": "2023-07-21T08:45:09.654Z"
   },
   {
    "duration": 37,
    "start_time": "2023-07-21T08:45:09.673Z"
   },
   {
    "duration": 65,
    "start_time": "2023-07-21T08:45:09.711Z"
   },
   {
    "duration": 6,
    "start_time": "2023-07-21T08:45:09.777Z"
   },
   {
    "duration": 282,
    "start_time": "2023-07-21T08:45:09.785Z"
   },
   {
    "duration": 76,
    "start_time": "2023-07-21T08:45:10.071Z"
   },
   {
    "duration": 10,
    "start_time": "2023-07-21T08:45:10.149Z"
   },
   {
    "duration": 114,
    "start_time": "2023-07-21T08:45:10.161Z"
   },
   {
    "duration": 87,
    "start_time": "2023-07-21T08:45:10.276Z"
   },
   {
    "duration": 11,
    "start_time": "2023-07-21T08:45:10.364Z"
   },
   {
    "duration": 99,
    "start_time": "2023-07-21T08:45:10.377Z"
   },
   {
    "duration": 172,
    "start_time": "2023-07-21T08:45:10.478Z"
   },
   {
    "duration": 411,
    "start_time": "2023-07-21T08:45:10.652Z"
   },
   {
    "duration": 202,
    "start_time": "2023-07-21T08:45:11.065Z"
   },
   {
    "duration": 86,
    "start_time": "2023-07-21T08:45:11.269Z"
   },
   {
    "duration": 76,
    "start_time": "2023-07-21T08:45:11.356Z"
   },
   {
    "duration": 86,
    "start_time": "2023-07-21T08:45:11.434Z"
   },
   {
    "duration": 10,
    "start_time": "2023-07-21T08:45:11.521Z"
   },
   {
    "duration": 32,
    "start_time": "2023-07-21T08:45:11.532Z"
   },
   {
    "duration": 14,
    "start_time": "2023-07-21T08:45:11.566Z"
   },
   {
    "duration": 27,
    "start_time": "2023-07-21T08:45:11.581Z"
   },
   {
    "duration": 46,
    "start_time": "2023-07-21T08:45:11.610Z"
   },
   {
    "duration": 23,
    "start_time": "2023-07-21T08:45:11.658Z"
   },
   {
    "duration": 22,
    "start_time": "2023-07-21T08:45:11.683Z"
   },
   {
    "duration": 40,
    "start_time": "2023-07-21T08:45:11.707Z"
   },
   {
    "duration": 17,
    "start_time": "2023-07-21T08:45:11.749Z"
   },
   {
    "duration": 15,
    "start_time": "2023-07-21T08:45:11.768Z"
   },
   {
    "duration": 53,
    "start_time": "2023-07-21T08:45:11.785Z"
   },
   {
    "duration": 1497,
    "start_time": "2023-07-21T08:48:35.947Z"
   },
   {
    "duration": 1102,
    "start_time": "2023-07-21T08:48:37.446Z"
   },
   {
    "duration": 22,
    "start_time": "2023-07-21T08:48:38.550Z"
   },
   {
    "duration": 19,
    "start_time": "2023-07-21T08:48:38.574Z"
   },
   {
    "duration": 463,
    "start_time": "2023-07-21T08:48:38.594Z"
   },
   {
    "duration": 161,
    "start_time": "2023-07-21T08:48:39.059Z"
   },
   {
    "duration": 92,
    "start_time": "2023-07-21T08:48:39.221Z"
   },
   {
    "duration": 20,
    "start_time": "2023-07-21T08:48:39.314Z"
   },
   {
    "duration": 80,
    "start_time": "2023-07-21T08:48:39.337Z"
   },
   {
    "duration": 76,
    "start_time": "2023-07-21T08:48:39.420Z"
   },
   {
    "duration": 86,
    "start_time": "2023-07-21T08:48:39.498Z"
   },
   {
    "duration": 60,
    "start_time": "2023-07-21T08:48:39.586Z"
   },
   {
    "duration": 12,
    "start_time": "2023-07-21T08:48:39.647Z"
   },
   {
    "duration": 63,
    "start_time": "2023-07-21T08:48:39.660Z"
   },
   {
    "duration": 25,
    "start_time": "2023-07-21T08:48:39.724Z"
   },
   {
    "duration": 24,
    "start_time": "2023-07-21T08:48:39.751Z"
   },
   {
    "duration": 48,
    "start_time": "2023-07-21T08:48:39.777Z"
   },
   {
    "duration": 19,
    "start_time": "2023-07-21T08:48:39.827Z"
   },
   {
    "duration": 59,
    "start_time": "2023-07-21T08:48:39.847Z"
   },
   {
    "duration": 170,
    "start_time": "2023-07-21T08:48:39.918Z"
   },
   {
    "duration": 5,
    "start_time": "2023-07-21T08:48:40.090Z"
   },
   {
    "duration": 56,
    "start_time": "2023-07-21T08:48:40.096Z"
   },
   {
    "duration": 17,
    "start_time": "2023-07-21T08:48:40.154Z"
   },
   {
    "duration": 51,
    "start_time": "2023-07-21T08:48:40.173Z"
   },
   {
    "duration": 49,
    "start_time": "2023-07-21T08:48:40.226Z"
   },
   {
    "duration": 6,
    "start_time": "2023-07-21T08:48:40.276Z"
   },
   {
    "duration": 459,
    "start_time": "2023-07-21T08:48:40.284Z"
   },
   {
    "duration": 130,
    "start_time": "2023-07-21T08:48:40.800Z"
   },
   {
    "duration": 11,
    "start_time": "2023-07-21T08:48:40.932Z"
   },
   {
    "duration": 99,
    "start_time": "2023-07-21T08:48:40.946Z"
   },
   {
    "duration": 76,
    "start_time": "2023-07-21T08:48:41.046Z"
   },
   {
    "duration": 12,
    "start_time": "2023-07-21T08:48:41.124Z"
   },
   {
    "duration": 53,
    "start_time": "2023-07-21T08:48:41.138Z"
   },
   {
    "duration": 181,
    "start_time": "2023-07-21T08:48:41.192Z"
   },
   {
    "duration": 569,
    "start_time": "2023-07-21T08:48:41.374Z"
   },
   {
    "duration": 224,
    "start_time": "2023-07-21T08:48:41.945Z"
   },
   {
    "duration": 89,
    "start_time": "2023-07-21T08:48:42.171Z"
   },
   {
    "duration": 83,
    "start_time": "2023-07-21T08:48:42.262Z"
   },
   {
    "duration": 91,
    "start_time": "2023-07-21T08:48:42.346Z"
   },
   {
    "duration": 9,
    "start_time": "2023-07-21T08:48:42.438Z"
   },
   {
    "duration": 39,
    "start_time": "2023-07-21T08:48:42.451Z"
   },
   {
    "duration": 38,
    "start_time": "2023-07-21T08:48:42.492Z"
   },
   {
    "duration": 23,
    "start_time": "2023-07-21T08:48:42.532Z"
   },
   {
    "duration": 20,
    "start_time": "2023-07-21T08:48:42.558Z"
   },
   {
    "duration": 44,
    "start_time": "2023-07-21T08:48:42.580Z"
   },
   {
    "duration": 15,
    "start_time": "2023-07-21T08:48:42.626Z"
   },
   {
    "duration": 16,
    "start_time": "2023-07-21T08:48:42.643Z"
   },
   {
    "duration": 23,
    "start_time": "2023-07-21T08:48:42.661Z"
   },
   {
    "duration": 23,
    "start_time": "2023-07-21T08:48:42.686Z"
   },
   {
    "duration": 31,
    "start_time": "2023-07-21T08:48:42.710Z"
   },
   {
    "duration": 3,
    "start_time": "2023-07-21T08:57:40.450Z"
   },
   {
    "duration": 1221,
    "start_time": "2023-07-21T08:57:40.622Z"
   },
   {
    "duration": 21,
    "start_time": "2023-07-21T08:57:41.845Z"
   },
   {
    "duration": 23,
    "start_time": "2023-07-21T08:57:41.870Z"
   },
   {
    "duration": 276,
    "start_time": "2023-07-21T08:57:41.896Z"
   },
   {
    "duration": 173,
    "start_time": "2023-07-21T08:57:42.174Z"
   },
   {
    "duration": 75,
    "start_time": "2023-07-21T08:57:42.348Z"
   },
   {
    "duration": 13,
    "start_time": "2023-07-21T08:57:42.425Z"
   },
   {
    "duration": 35,
    "start_time": "2023-07-21T08:57:42.440Z"
   },
   {
    "duration": 5,
    "start_time": "2023-07-21T08:57:42.730Z"
   },
   {
    "duration": 55,
    "start_time": "2023-07-21T08:57:43.073Z"
   },
   {
    "duration": 35,
    "start_time": "2023-07-21T08:57:43.392Z"
   },
   {
    "duration": 14,
    "start_time": "2023-07-21T08:57:43.568Z"
   },
   {
    "duration": 10,
    "start_time": "2023-07-21T08:57:44.076Z"
   },
   {
    "duration": 7,
    "start_time": "2023-07-21T08:57:47.246Z"
   },
   {
    "duration": 16,
    "start_time": "2023-07-21T08:59:15.958Z"
   },
   {
    "duration": 9,
    "start_time": "2023-07-21T08:59:23.652Z"
   },
   {
    "duration": 36,
    "start_time": "2023-07-21T08:59:24.379Z"
   },
   {
    "duration": 6,
    "start_time": "2023-07-21T09:00:58.864Z"
   },
   {
    "duration": 1411,
    "start_time": "2023-07-21T09:03:20.623Z"
   },
   {
    "duration": 1210,
    "start_time": "2023-07-21T09:03:22.039Z"
   },
   {
    "duration": 20,
    "start_time": "2023-07-21T09:03:23.251Z"
   },
   {
    "duration": 27,
    "start_time": "2023-07-21T09:03:23.272Z"
   },
   {
    "duration": 370,
    "start_time": "2023-07-21T09:03:23.302Z"
   },
   {
    "duration": 185,
    "start_time": "2023-07-21T09:03:23.674Z"
   },
   {
    "duration": 99,
    "start_time": "2023-07-21T09:03:23.860Z"
   },
   {
    "duration": 17,
    "start_time": "2023-07-21T09:03:23.961Z"
   },
   {
    "duration": 47,
    "start_time": "2023-07-21T09:03:23.980Z"
   },
   {
    "duration": 37,
    "start_time": "2023-07-21T09:03:24.029Z"
   },
   {
    "duration": 47,
    "start_time": "2023-07-21T09:03:24.068Z"
   },
   {
    "duration": 49,
    "start_time": "2023-07-21T09:03:24.117Z"
   },
   {
    "duration": 18,
    "start_time": "2023-07-21T09:03:24.168Z"
   },
   {
    "duration": 13,
    "start_time": "2023-07-21T09:03:24.190Z"
   },
   {
    "duration": 42,
    "start_time": "2023-07-21T09:03:24.204Z"
   },
   {
    "duration": 8,
    "start_time": "2023-07-21T09:03:24.248Z"
   },
   {
    "duration": 14,
    "start_time": "2023-07-21T09:03:24.257Z"
   },
   {
    "duration": 23,
    "start_time": "2023-07-21T09:03:24.272Z"
   },
   {
    "duration": 43,
    "start_time": "2023-07-21T09:03:24.296Z"
   },
   {
    "duration": 50,
    "start_time": "2023-07-21T09:03:24.340Z"
   },
   {
    "duration": 201,
    "start_time": "2023-07-21T09:03:24.391Z"
   },
   {
    "duration": 12,
    "start_time": "2023-07-21T09:03:24.594Z"
   },
   {
    "duration": 41,
    "start_time": "2023-07-21T09:03:24.608Z"
   },
   {
    "duration": 15,
    "start_time": "2023-07-21T09:03:24.650Z"
   },
   {
    "duration": 53,
    "start_time": "2023-07-21T09:03:24.666Z"
   },
   {
    "duration": 39,
    "start_time": "2023-07-21T09:03:24.721Z"
   },
   {
    "duration": 6,
    "start_time": "2023-07-21T09:03:24.761Z"
   },
   {
    "duration": 295,
    "start_time": "2023-07-21T09:03:24.769Z"
   },
   {
    "duration": 90,
    "start_time": "2023-07-21T09:03:25.066Z"
   },
   {
    "duration": 9,
    "start_time": "2023-07-21T09:03:25.158Z"
   },
   {
    "duration": 105,
    "start_time": "2023-07-21T09:03:25.168Z"
   },
   {
    "duration": 95,
    "start_time": "2023-07-21T09:03:25.275Z"
   },
   {
    "duration": 15,
    "start_time": "2023-07-21T09:03:25.372Z"
   },
   {
    "duration": 56,
    "start_time": "2023-07-21T09:03:25.391Z"
   },
   {
    "duration": 168,
    "start_time": "2023-07-21T09:03:25.448Z"
   },
   {
    "duration": 415,
    "start_time": "2023-07-21T09:03:25.618Z"
   },
   {
    "duration": 249,
    "start_time": "2023-07-21T09:03:26.035Z"
   },
   {
    "duration": 100,
    "start_time": "2023-07-21T09:03:26.286Z"
   },
   {
    "duration": 109,
    "start_time": "2023-07-21T09:03:26.388Z"
   },
   {
    "duration": 101,
    "start_time": "2023-07-21T09:03:26.498Z"
   },
   {
    "duration": 20,
    "start_time": "2023-07-21T09:03:26.604Z"
   },
   {
    "duration": 46,
    "start_time": "2023-07-21T09:03:26.626Z"
   },
   {
    "duration": 21,
    "start_time": "2023-07-21T09:03:26.674Z"
   },
   {
    "duration": 42,
    "start_time": "2023-07-21T09:03:26.697Z"
   },
   {
    "duration": 23,
    "start_time": "2023-07-21T09:03:26.741Z"
   },
   {
    "duration": 32,
    "start_time": "2023-07-21T09:03:26.766Z"
   },
   {
    "duration": 41,
    "start_time": "2023-07-21T09:03:26.813Z"
   },
   {
    "duration": 8,
    "start_time": "2023-07-21T09:03:26.856Z"
   },
   {
    "duration": 24,
    "start_time": "2023-07-21T09:03:26.866Z"
   },
   {
    "duration": 17,
    "start_time": "2023-07-21T09:03:26.892Z"
   },
   {
    "duration": 43,
    "start_time": "2023-07-21T09:03:26.910Z"
   },
   {
    "duration": 1492,
    "start_time": "2023-07-21T09:04:54.934Z"
   },
   {
    "duration": 1037,
    "start_time": "2023-07-21T09:04:56.434Z"
   },
   {
    "duration": 19,
    "start_time": "2023-07-21T09:04:57.473Z"
   },
   {
    "duration": 66,
    "start_time": "2023-07-21T09:04:57.494Z"
   },
   {
    "duration": 323,
    "start_time": "2023-07-21T09:04:57.562Z"
   },
   {
    "duration": 166,
    "start_time": "2023-07-21T09:04:57.886Z"
   },
   {
    "duration": 81,
    "start_time": "2023-07-21T09:04:58.054Z"
   },
   {
    "duration": 21,
    "start_time": "2023-07-21T09:04:58.137Z"
   },
   {
    "duration": 30,
    "start_time": "2023-07-21T09:04:58.160Z"
   },
   {
    "duration": 4,
    "start_time": "2023-07-21T09:04:58.192Z"
   },
   {
    "duration": 109,
    "start_time": "2023-07-21T09:04:58.198Z"
   },
   {
    "duration": 35,
    "start_time": "2023-07-21T09:04:58.309Z"
   },
   {
    "duration": 16,
    "start_time": "2023-07-21T09:04:58.345Z"
   },
   {
    "duration": 16,
    "start_time": "2023-07-21T09:04:58.364Z"
   },
   {
    "duration": 31,
    "start_time": "2023-07-21T09:04:58.381Z"
   },
   {
    "duration": 36,
    "start_time": "2023-07-21T09:04:58.414Z"
   },
   {
    "duration": 21,
    "start_time": "2023-07-21T09:04:58.452Z"
   },
   {
    "duration": 38,
    "start_time": "2023-07-21T09:04:58.474Z"
   },
   {
    "duration": 31,
    "start_time": "2023-07-21T09:04:58.514Z"
   },
   {
    "duration": 47,
    "start_time": "2023-07-21T09:04:58.546Z"
   },
   {
    "duration": 164,
    "start_time": "2023-07-21T09:04:58.595Z"
   },
   {
    "duration": 6,
    "start_time": "2023-07-21T09:04:58.761Z"
   },
   {
    "duration": 23,
    "start_time": "2023-07-21T09:04:58.769Z"
   },
   {
    "duration": 43,
    "start_time": "2023-07-21T09:04:58.794Z"
   },
   {
    "duration": 37,
    "start_time": "2023-07-21T09:04:58.839Z"
   },
   {
    "duration": 72,
    "start_time": "2023-07-21T09:04:58.878Z"
   },
   {
    "duration": 55,
    "start_time": "2023-07-21T09:04:58.951Z"
   },
   {
    "duration": 346,
    "start_time": "2023-07-21T09:04:59.010Z"
   },
   {
    "duration": 84,
    "start_time": "2023-07-21T09:04:59.358Z"
   },
   {
    "duration": 13,
    "start_time": "2023-07-21T09:04:59.444Z"
   },
   {
    "duration": 163,
    "start_time": "2023-07-21T09:04:59.459Z"
   },
   {
    "duration": 212,
    "start_time": "2023-07-21T09:04:59.623Z"
   },
   {
    "duration": 18,
    "start_time": "2023-07-21T09:04:59.837Z"
   },
   {
    "duration": 83,
    "start_time": "2023-07-21T09:04:59.857Z"
   },
   {
    "duration": 157,
    "start_time": "2023-07-21T09:04:59.942Z"
   },
   {
    "duration": 377,
    "start_time": "2023-07-21T09:05:00.104Z"
   },
   {
    "duration": 220,
    "start_time": "2023-07-21T09:05:00.483Z"
   },
   {
    "duration": 74,
    "start_time": "2023-07-21T09:05:00.704Z"
   },
   {
    "duration": 78,
    "start_time": "2023-07-21T09:05:00.779Z"
   },
   {
    "duration": 95,
    "start_time": "2023-07-21T09:05:00.859Z"
   },
   {
    "duration": 8,
    "start_time": "2023-07-21T09:05:00.957Z"
   },
   {
    "duration": 91,
    "start_time": "2023-07-21T09:05:00.966Z"
   },
   {
    "duration": 91,
    "start_time": "2023-07-21T09:05:01.060Z"
   },
   {
    "duration": 79,
    "start_time": "2023-07-21T09:05:01.152Z"
   },
   {
    "duration": 86,
    "start_time": "2023-07-21T09:05:01.233Z"
   },
   {
    "duration": 226,
    "start_time": "2023-07-21T09:05:01.320Z"
   },
   {
    "duration": 142,
    "start_time": "2023-07-21T09:05:01.548Z"
   },
   {
    "duration": 75,
    "start_time": "2023-07-21T09:05:01.692Z"
   },
   {
    "duration": 122,
    "start_time": "2023-07-21T09:05:01.769Z"
   },
   {
    "duration": 104,
    "start_time": "2023-07-21T09:05:01.893Z"
   },
   {
    "duration": 253,
    "start_time": "2023-07-21T09:05:01.999Z"
   },
   {
    "duration": 1457,
    "start_time": "2023-07-21T09:05:18.019Z"
   },
   {
    "duration": 1584,
    "start_time": "2023-07-21T09:05:19.480Z"
   },
   {
    "duration": 29,
    "start_time": "2023-07-21T09:05:21.065Z"
   },
   {
    "duration": 124,
    "start_time": "2023-07-21T09:05:21.096Z"
   },
   {
    "duration": 410,
    "start_time": "2023-07-21T09:05:21.223Z"
   },
   {
    "duration": 150,
    "start_time": "2023-07-21T09:05:21.635Z"
   },
   {
    "duration": 73,
    "start_time": "2023-07-21T09:05:21.787Z"
   },
   {
    "duration": 11,
    "start_time": "2023-07-21T09:05:21.862Z"
   },
   {
    "duration": 58,
    "start_time": "2023-07-21T09:05:21.875Z"
   },
   {
    "duration": 5,
    "start_time": "2023-07-21T09:05:21.935Z"
   },
   {
    "duration": 34,
    "start_time": "2023-07-21T09:05:21.941Z"
   },
   {
    "duration": 42,
    "start_time": "2023-07-21T09:05:21.977Z"
   },
   {
    "duration": 27,
    "start_time": "2023-07-21T09:05:22.021Z"
   },
   {
    "duration": 8,
    "start_time": "2023-07-21T09:05:22.051Z"
   },
   {
    "duration": 10,
    "start_time": "2023-07-21T09:05:22.061Z"
   },
   {
    "duration": 8,
    "start_time": "2023-07-21T09:05:22.073Z"
   },
   {
    "duration": 10,
    "start_time": "2023-07-21T09:05:22.083Z"
   },
   {
    "duration": 33,
    "start_time": "2023-07-21T09:05:22.094Z"
   },
   {
    "duration": 24,
    "start_time": "2023-07-21T09:05:22.129Z"
   },
   {
    "duration": 51,
    "start_time": "2023-07-21T09:05:22.155Z"
   },
   {
    "duration": 152,
    "start_time": "2023-07-21T09:05:22.208Z"
   },
   {
    "duration": 7,
    "start_time": "2023-07-21T09:05:22.361Z"
   },
   {
    "duration": 34,
    "start_time": "2023-07-21T09:05:22.369Z"
   },
   {
    "duration": 51,
    "start_time": "2023-07-21T09:05:22.404Z"
   },
   {
    "duration": 34,
    "start_time": "2023-07-21T09:05:22.456Z"
   },
   {
    "duration": 43,
    "start_time": "2023-07-21T09:05:22.491Z"
   },
   {
    "duration": 12,
    "start_time": "2023-07-21T09:05:22.536Z"
   },
   {
    "duration": 256,
    "start_time": "2023-07-21T09:05:22.550Z"
   },
   {
    "duration": 73,
    "start_time": "2023-07-21T09:05:22.808Z"
   },
   {
    "duration": 23,
    "start_time": "2023-07-21T09:05:22.882Z"
   },
   {
    "duration": 84,
    "start_time": "2023-07-21T09:05:22.910Z"
   },
   {
    "duration": 83,
    "start_time": "2023-07-21T09:05:23.006Z"
   },
   {
    "duration": 37,
    "start_time": "2023-07-21T09:05:23.091Z"
   },
   {
    "duration": 81,
    "start_time": "2023-07-21T09:05:23.134Z"
   },
   {
    "duration": 162,
    "start_time": "2023-07-21T09:05:23.217Z"
   },
   {
    "duration": 436,
    "start_time": "2023-07-21T09:05:23.381Z"
   },
   {
    "duration": 250,
    "start_time": "2023-07-21T09:05:23.819Z"
   },
   {
    "duration": 95,
    "start_time": "2023-07-21T09:05:24.071Z"
   },
   {
    "duration": 82,
    "start_time": "2023-07-21T09:05:24.167Z"
   },
   {
    "duration": 93,
    "start_time": "2023-07-21T09:05:24.251Z"
   },
   {
    "duration": 8,
    "start_time": "2023-07-21T09:05:24.348Z"
   },
   {
    "duration": 65,
    "start_time": "2023-07-21T09:05:24.358Z"
   },
   {
    "duration": 39,
    "start_time": "2023-07-21T09:05:24.424Z"
   },
   {
    "duration": 38,
    "start_time": "2023-07-21T09:05:24.465Z"
   },
   {
    "duration": 66,
    "start_time": "2023-07-21T09:05:24.504Z"
   },
   {
    "duration": 40,
    "start_time": "2023-07-21T09:05:24.572Z"
   },
   {
    "duration": 54,
    "start_time": "2023-07-21T09:05:24.614Z"
   },
   {
    "duration": 28,
    "start_time": "2023-07-21T09:05:24.670Z"
   },
   {
    "duration": 81,
    "start_time": "2023-07-21T09:05:24.699Z"
   },
   {
    "duration": 15,
    "start_time": "2023-07-21T09:05:24.781Z"
   },
   {
    "duration": 55,
    "start_time": "2023-07-21T09:05:24.798Z"
   },
   {
    "duration": 25,
    "start_time": "2023-07-21T09:38:38.497Z"
   },
   {
    "duration": 44,
    "start_time": "2023-07-21T09:38:46.594Z"
   },
   {
    "duration": 14,
    "start_time": "2023-07-21T09:38:46.966Z"
   },
   {
    "duration": 10,
    "start_time": "2023-07-21T09:38:47.622Z"
   },
   {
    "duration": 13,
    "start_time": "2023-07-21T09:38:50.656Z"
   },
   {
    "duration": 17,
    "start_time": "2023-07-21T09:39:03.569Z"
   },
   {
    "duration": 7,
    "start_time": "2023-07-21T09:40:25.014Z"
   },
   {
    "duration": 3,
    "start_time": "2023-07-21T09:40:39.449Z"
   },
   {
    "duration": 1650,
    "start_time": "2023-07-21T09:40:39.621Z"
   },
   {
    "duration": 15,
    "start_time": "2023-07-21T09:40:41.273Z"
   },
   {
    "duration": 40,
    "start_time": "2023-07-21T09:40:41.290Z"
   },
   {
    "duration": 363,
    "start_time": "2023-07-21T09:40:41.333Z"
   },
   {
    "duration": 182,
    "start_time": "2023-07-21T09:40:41.699Z"
   },
   {
    "duration": 81,
    "start_time": "2023-07-21T09:40:41.883Z"
   },
   {
    "duration": 12,
    "start_time": "2023-07-21T09:40:41.966Z"
   },
   {
    "duration": 45,
    "start_time": "2023-07-21T09:40:41.980Z"
   },
   {
    "duration": 5,
    "start_time": "2023-07-21T09:40:43.022Z"
   },
   {
    "duration": 55,
    "start_time": "2023-07-21T09:40:43.886Z"
   },
   {
    "duration": 25,
    "start_time": "2023-07-21T09:40:44.971Z"
   },
   {
    "duration": 20,
    "start_time": "2023-07-21T09:40:45.434Z"
   },
   {
    "duration": 17,
    "start_time": "2023-07-21T09:40:46.436Z"
   },
   {
    "duration": 23,
    "start_time": "2023-07-21T09:40:49.484Z"
   },
   {
    "duration": 8,
    "start_time": "2023-07-21T09:41:18.226Z"
   },
   {
    "duration": 3452,
    "start_time": "2023-07-21T09:42:59.643Z"
   },
   {
    "duration": 26,
    "start_time": "2023-07-21T09:43:17.455Z"
   },
   {
    "duration": 25,
    "start_time": "2023-07-21T09:43:17.923Z"
   },
   {
    "duration": 11,
    "start_time": "2023-07-21T09:43:18.544Z"
   },
   {
    "duration": 13,
    "start_time": "2023-07-21T09:43:21.249Z"
   },
   {
    "duration": 9,
    "start_time": "2023-07-21T09:43:22.367Z"
   },
   {
    "duration": 9,
    "start_time": "2023-07-21T09:46:55.136Z"
   },
   {
    "duration": 11,
    "start_time": "2023-07-21T09:47:45.563Z"
   },
   {
    "duration": 14,
    "start_time": "2023-07-21T09:48:33.735Z"
   },
   {
    "duration": 2226,
    "start_time": "2023-07-21T09:52:04.929Z"
   },
   {
    "duration": 7,
    "start_time": "2023-07-21T09:52:35.003Z"
   },
   {
    "duration": 8,
    "start_time": "2023-07-21T09:52:50.505Z"
   },
   {
    "duration": 2079,
    "start_time": "2023-07-21T09:55:54.570Z"
   },
   {
    "duration": 37,
    "start_time": "2023-07-21T09:56:02.972Z"
   },
   {
    "duration": 14,
    "start_time": "2023-07-21T09:56:03.148Z"
   },
   {
    "duration": 12,
    "start_time": "2023-07-21T09:56:03.481Z"
   },
   {
    "duration": 24,
    "start_time": "2023-07-21T09:56:04.822Z"
   },
   {
    "duration": 13,
    "start_time": "2023-07-21T09:56:05.036Z"
   },
   {
    "duration": 9,
    "start_time": "2023-07-21T09:56:05.533Z"
   },
   {
    "duration": 1928,
    "start_time": "2023-07-21T09:56:07.917Z"
   },
   {
    "duration": 19,
    "start_time": "2023-07-21T09:56:18.730Z"
   },
   {
    "duration": 11,
    "start_time": "2023-07-21T09:57:30.726Z"
   },
   {
    "duration": 29,
    "start_time": "2023-07-21T09:57:32.348Z"
   },
   {
    "duration": 8,
    "start_time": "2023-07-21T09:57:36.670Z"
   },
   {
    "duration": 10,
    "start_time": "2023-07-21T10:02:38.184Z"
   },
   {
    "duration": 21,
    "start_time": "2023-07-21T10:02:38.367Z"
   },
   {
    "duration": 7,
    "start_time": "2023-07-21T10:02:38.575Z"
   },
   {
    "duration": 91,
    "start_time": "2023-07-21T10:02:39.022Z"
   },
   {
    "duration": 160,
    "start_time": "2023-07-21T10:02:39.221Z"
   },
   {
    "duration": 10,
    "start_time": "2023-07-21T10:02:40.818Z"
   },
   {
    "duration": 18,
    "start_time": "2023-07-21T10:02:44.530Z"
   },
   {
    "duration": 5,
    "start_time": "2023-07-21T10:02:45.735Z"
   },
   {
    "duration": 60,
    "start_time": "2023-07-21T10:02:46.064Z"
   },
   {
    "duration": 48,
    "start_time": "2023-07-21T10:02:46.250Z"
   },
   {
    "duration": 10,
    "start_time": "2023-07-21T10:02:46.734Z"
   },
   {
    "duration": 346,
    "start_time": "2023-07-21T10:02:46.918Z"
   },
   {
    "duration": 95,
    "start_time": "2023-07-21T10:02:47.267Z"
   },
   {
    "duration": 17,
    "start_time": "2023-07-21T10:02:47.364Z"
   },
   {
    "duration": 89,
    "start_time": "2023-07-21T10:02:47.383Z"
   },
   {
    "duration": 95,
    "start_time": "2023-07-21T10:02:47.596Z"
   },
   {
    "duration": 20,
    "start_time": "2023-07-21T10:02:48.430Z"
   },
   {
    "duration": 36,
    "start_time": "2023-07-21T10:02:48.937Z"
   },
   {
    "duration": 168,
    "start_time": "2023-07-21T10:02:49.767Z"
   },
   {
    "duration": 70,
    "start_time": "2023-07-21T10:02:50.152Z"
   },
   {
    "duration": 83,
    "start_time": "2023-07-21T10:02:50.528Z"
   },
   {
    "duration": 75,
    "start_time": "2023-07-21T10:02:50.879Z"
   },
   {
    "duration": 85,
    "start_time": "2023-07-21T10:02:51.948Z"
   },
   {
    "duration": 93,
    "start_time": "2023-07-21T10:02:52.171Z"
   },
   {
    "duration": 10,
    "start_time": "2023-07-21T10:02:52.438Z"
   },
   {
    "duration": 23,
    "start_time": "2023-07-21T10:02:52.755Z"
   },
   {
    "duration": 30,
    "start_time": "2023-07-21T10:02:53.107Z"
   },
   {
    "duration": 23,
    "start_time": "2023-07-21T10:02:55.657Z"
   },
   {
    "duration": 21,
    "start_time": "2023-07-21T10:02:58.034Z"
   },
   {
    "duration": 19,
    "start_time": "2023-07-21T10:03:01.338Z"
   },
   {
    "duration": 20,
    "start_time": "2023-07-21T10:03:01.827Z"
   },
   {
    "duration": 9,
    "start_time": "2023-07-21T10:03:03.380Z"
   },
   {
    "duration": 11,
    "start_time": "2023-07-21T10:03:03.544Z"
   },
   {
    "duration": 12,
    "start_time": "2023-07-21T10:03:03.835Z"
   },
   {
    "duration": 18,
    "start_time": "2023-07-21T10:03:04.316Z"
   },
   {
    "duration": 1432,
    "start_time": "2023-07-21T10:03:13.639Z"
   },
   {
    "duration": 1293,
    "start_time": "2023-07-21T10:03:15.072Z"
   },
   {
    "duration": 28,
    "start_time": "2023-07-21T10:03:16.367Z"
   },
   {
    "duration": 62,
    "start_time": "2023-07-21T10:03:16.397Z"
   },
   {
    "duration": 432,
    "start_time": "2023-07-21T10:03:16.462Z"
   },
   {
    "duration": 169,
    "start_time": "2023-07-21T10:03:16.905Z"
   },
   {
    "duration": 88,
    "start_time": "2023-07-21T10:03:17.076Z"
   },
   {
    "duration": 19,
    "start_time": "2023-07-21T10:03:17.167Z"
   },
   {
    "duration": 74,
    "start_time": "2023-07-21T10:03:17.188Z"
   },
   {
    "duration": 13,
    "start_time": "2023-07-21T10:03:17.264Z"
   },
   {
    "duration": 96,
    "start_time": "2023-07-21T10:03:17.280Z"
   },
   {
    "duration": 43,
    "start_time": "2023-07-21T10:03:17.378Z"
   },
   {
    "duration": 28,
    "start_time": "2023-07-21T10:03:17.422Z"
   },
   {
    "duration": 17,
    "start_time": "2023-07-21T10:03:17.454Z"
   },
   {
    "duration": 82,
    "start_time": "2023-07-21T10:03:17.473Z"
   },
   {
    "duration": 197,
    "start_time": "2023-07-21T10:03:17.557Z"
   },
   {
    "duration": 0,
    "start_time": "2023-07-21T10:03:17.756Z"
   },
   {
    "duration": 0,
    "start_time": "2023-07-21T10:03:17.757Z"
   },
   {
    "duration": 0,
    "start_time": "2023-07-21T10:03:17.759Z"
   },
   {
    "duration": 0,
    "start_time": "2023-07-21T10:03:17.760Z"
   },
   {
    "duration": 0,
    "start_time": "2023-07-21T10:03:17.761Z"
   },
   {
    "duration": 0,
    "start_time": "2023-07-21T10:03:17.762Z"
   },
   {
    "duration": 0,
    "start_time": "2023-07-21T10:03:17.764Z"
   },
   {
    "duration": 0,
    "start_time": "2023-07-21T10:03:17.766Z"
   },
   {
    "duration": 0,
    "start_time": "2023-07-21T10:03:17.767Z"
   },
   {
    "duration": 0,
    "start_time": "2023-07-21T10:03:17.768Z"
   },
   {
    "duration": 0,
    "start_time": "2023-07-21T10:03:17.770Z"
   },
   {
    "duration": 0,
    "start_time": "2023-07-21T10:03:17.771Z"
   },
   {
    "duration": 0,
    "start_time": "2023-07-21T10:03:17.799Z"
   },
   {
    "duration": 0,
    "start_time": "2023-07-21T10:03:17.800Z"
   },
   {
    "duration": 0,
    "start_time": "2023-07-21T10:03:17.801Z"
   },
   {
    "duration": 0,
    "start_time": "2023-07-21T10:03:17.801Z"
   },
   {
    "duration": 0,
    "start_time": "2023-07-21T10:03:17.802Z"
   },
   {
    "duration": 0,
    "start_time": "2023-07-21T10:03:17.802Z"
   },
   {
    "duration": 0,
    "start_time": "2023-07-21T10:03:17.803Z"
   },
   {
    "duration": 0,
    "start_time": "2023-07-21T10:03:17.809Z"
   },
   {
    "duration": 0,
    "start_time": "2023-07-21T10:03:17.810Z"
   },
   {
    "duration": 0,
    "start_time": "2023-07-21T10:03:17.810Z"
   },
   {
    "duration": 0,
    "start_time": "2023-07-21T10:03:17.811Z"
   },
   {
    "duration": 0,
    "start_time": "2023-07-21T10:03:17.811Z"
   },
   {
    "duration": 0,
    "start_time": "2023-07-21T10:03:17.817Z"
   },
   {
    "duration": 0,
    "start_time": "2023-07-21T10:03:17.818Z"
   },
   {
    "duration": 0,
    "start_time": "2023-07-21T10:03:17.818Z"
   },
   {
    "duration": 0,
    "start_time": "2023-07-21T10:03:17.819Z"
   },
   {
    "duration": 0,
    "start_time": "2023-07-21T10:03:17.820Z"
   },
   {
    "duration": 0,
    "start_time": "2023-07-21T10:03:17.820Z"
   },
   {
    "duration": 0,
    "start_time": "2023-07-21T10:03:17.821Z"
   },
   {
    "duration": 0,
    "start_time": "2023-07-21T10:03:17.822Z"
   },
   {
    "duration": 0,
    "start_time": "2023-07-21T10:03:17.822Z"
   },
   {
    "duration": 0,
    "start_time": "2023-07-21T10:03:17.823Z"
   },
   {
    "duration": 0,
    "start_time": "2023-07-21T10:03:17.824Z"
   },
   {
    "duration": 0,
    "start_time": "2023-07-21T10:03:17.825Z"
   },
   {
    "duration": 0,
    "start_time": "2023-07-21T10:03:17.826Z"
   },
   {
    "duration": 2444,
    "start_time": "2023-07-21T10:04:48.224Z"
   },
   {
    "duration": 16,
    "start_time": "2023-07-21T10:04:55.362Z"
   },
   {
    "duration": 27,
    "start_time": "2023-07-21T10:04:55.522Z"
   },
   {
    "duration": 8,
    "start_time": "2023-07-21T10:05:00.539Z"
   },
   {
    "duration": 10,
    "start_time": "2023-07-21T10:05:01.583Z"
   },
   {
    "duration": 16,
    "start_time": "2023-07-21T10:05:05.817Z"
   },
   {
    "duration": 38,
    "start_time": "2023-07-21T10:05:06.508Z"
   },
   {
    "duration": 15,
    "start_time": "2023-07-21T10:05:07.226Z"
   },
   {
    "duration": 1460,
    "start_time": "2023-07-21T10:05:12.322Z"
   },
   {
    "duration": 1134,
    "start_time": "2023-07-21T10:05:13.784Z"
   },
   {
    "duration": 29,
    "start_time": "2023-07-21T10:05:14.926Z"
   },
   {
    "duration": 21,
    "start_time": "2023-07-21T10:05:14.957Z"
   },
   {
    "duration": 348,
    "start_time": "2023-07-21T10:05:14.980Z"
   },
   {
    "duration": 242,
    "start_time": "2023-07-21T10:05:15.330Z"
   },
   {
    "duration": 94,
    "start_time": "2023-07-21T10:05:15.574Z"
   },
   {
    "duration": 11,
    "start_time": "2023-07-21T10:05:15.670Z"
   },
   {
    "duration": 46,
    "start_time": "2023-07-21T10:05:15.683Z"
   },
   {
    "duration": 23,
    "start_time": "2023-07-21T10:05:15.738Z"
   },
   {
    "duration": 54,
    "start_time": "2023-07-21T10:05:15.763Z"
   },
   {
    "duration": 59,
    "start_time": "2023-07-21T10:05:15.829Z"
   },
   {
    "duration": 32,
    "start_time": "2023-07-21T10:05:15.889Z"
   },
   {
    "duration": 36,
    "start_time": "2023-07-21T10:05:15.931Z"
   },
   {
    "duration": 57,
    "start_time": "2023-07-21T10:05:15.969Z"
   },
   {
    "duration": 70,
    "start_time": "2023-07-21T10:05:16.028Z"
   },
   {
    "duration": 83,
    "start_time": "2023-07-21T10:05:16.112Z"
   },
   {
    "duration": 87,
    "start_time": "2023-07-21T10:05:16.198Z"
   },
   {
    "duration": 56,
    "start_time": "2023-07-21T10:05:16.289Z"
   },
   {
    "duration": 120,
    "start_time": "2023-07-21T10:05:16.346Z"
   },
   {
    "duration": 47,
    "start_time": "2023-07-21T10:05:16.468Z"
   },
   {
    "duration": 119,
    "start_time": "2023-07-21T10:05:16.525Z"
   },
   {
    "duration": 187,
    "start_time": "2023-07-21T10:05:16.646Z"
   },
   {
    "duration": 8,
    "start_time": "2023-07-21T10:05:16.844Z"
   },
   {
    "duration": 17,
    "start_time": "2023-07-21T10:05:16.854Z"
   },
   {
    "duration": 23,
    "start_time": "2023-07-21T10:05:16.873Z"
   },
   {
    "duration": 75,
    "start_time": "2023-07-21T10:05:16.898Z"
   },
   {
    "duration": 54,
    "start_time": "2023-07-21T10:05:16.975Z"
   },
   {
    "duration": 32,
    "start_time": "2023-07-21T10:05:17.030Z"
   },
   {
    "duration": 302,
    "start_time": "2023-07-21T10:05:17.064Z"
   },
   {
    "duration": 98,
    "start_time": "2023-07-21T10:05:17.368Z"
   },
   {
    "duration": 12,
    "start_time": "2023-07-21T10:05:17.467Z"
   },
   {
    "duration": 149,
    "start_time": "2023-07-21T10:05:17.480Z"
   },
   {
    "duration": 96,
    "start_time": "2023-07-21T10:05:17.638Z"
   },
   {
    "duration": 15,
    "start_time": "2023-07-21T10:05:17.744Z"
   },
   {
    "duration": 48,
    "start_time": "2023-07-21T10:05:17.761Z"
   },
   {
    "duration": 201,
    "start_time": "2023-07-21T10:05:17.815Z"
   },
   {
    "duration": 496,
    "start_time": "2023-07-21T10:05:18.017Z"
   },
   {
    "duration": 257,
    "start_time": "2023-07-21T10:05:18.514Z"
   },
   {
    "duration": 85,
    "start_time": "2023-07-21T10:05:18.773Z"
   },
   {
    "duration": 129,
    "start_time": "2023-07-21T10:05:18.861Z"
   },
   {
    "duration": 170,
    "start_time": "2023-07-21T10:05:18.992Z"
   },
   {
    "duration": 9,
    "start_time": "2023-07-21T10:05:19.164Z"
   },
   {
    "duration": 29,
    "start_time": "2023-07-21T10:05:19.175Z"
   },
   {
    "duration": 19,
    "start_time": "2023-07-21T10:05:19.209Z"
   },
   {
    "duration": 39,
    "start_time": "2023-07-21T10:05:19.238Z"
   },
   {
    "duration": 49,
    "start_time": "2023-07-21T10:05:19.279Z"
   },
   {
    "duration": 60,
    "start_time": "2023-07-21T10:05:19.330Z"
   },
   {
    "duration": 33,
    "start_time": "2023-07-21T10:05:19.392Z"
   },
   {
    "duration": 30,
    "start_time": "2023-07-21T10:05:19.426Z"
   },
   {
    "duration": 52,
    "start_time": "2023-07-21T10:05:19.458Z"
   },
   {
    "duration": 68,
    "start_time": "2023-07-21T10:05:19.522Z"
   },
   {
    "duration": 65,
    "start_time": "2023-07-21T10:05:19.592Z"
   },
   {
    "duration": 1415,
    "start_time": "2023-07-21T10:06:07.642Z"
   },
   {
    "duration": 1364,
    "start_time": "2023-07-21T10:06:09.061Z"
   },
   {
    "duration": 29,
    "start_time": "2023-07-21T10:06:10.426Z"
   },
   {
    "duration": 76,
    "start_time": "2023-07-21T10:06:10.457Z"
   },
   {
    "duration": 473,
    "start_time": "2023-07-21T10:06:10.536Z"
   },
   {
    "duration": 181,
    "start_time": "2023-07-21T10:06:11.010Z"
   },
   {
    "duration": 92,
    "start_time": "2023-07-21T10:06:11.193Z"
   },
   {
    "duration": 48,
    "start_time": "2023-07-21T10:06:11.287Z"
   },
   {
    "duration": 34,
    "start_time": "2023-07-21T10:06:11.340Z"
   },
   {
    "duration": 4,
    "start_time": "2023-07-21T10:06:11.376Z"
   },
   {
    "duration": 67,
    "start_time": "2023-07-21T10:06:11.382Z"
   },
   {
    "duration": 40,
    "start_time": "2023-07-21T10:06:11.452Z"
   },
   {
    "duration": 45,
    "start_time": "2023-07-21T10:06:11.496Z"
   },
   {
    "duration": 62,
    "start_time": "2023-07-21T10:06:11.559Z"
   },
   {
    "duration": 63,
    "start_time": "2023-07-21T10:06:11.622Z"
   },
   {
    "duration": 11,
    "start_time": "2023-07-21T10:06:11.687Z"
   },
   {
    "duration": 55,
    "start_time": "2023-07-21T10:06:11.710Z"
   },
   {
    "duration": 20,
    "start_time": "2023-07-21T10:06:11.767Z"
   },
   {
    "duration": 33,
    "start_time": "2023-07-21T10:06:11.788Z"
   },
   {
    "duration": 66,
    "start_time": "2023-07-21T10:06:11.827Z"
   },
   {
    "duration": 26,
    "start_time": "2023-07-21T10:06:11.895Z"
   },
   {
    "duration": 91,
    "start_time": "2023-07-21T10:06:11.938Z"
   },
   {
    "duration": 190,
    "start_time": "2023-07-21T10:06:12.031Z"
   },
   {
    "duration": 8,
    "start_time": "2023-07-21T10:06:12.223Z"
   },
   {
    "duration": 40,
    "start_time": "2023-07-21T10:06:12.233Z"
   },
   {
    "duration": 8,
    "start_time": "2023-07-21T10:06:12.274Z"
   },
   {
    "duration": 53,
    "start_time": "2023-07-21T10:06:12.284Z"
   },
   {
    "duration": 91,
    "start_time": "2023-07-21T10:06:12.338Z"
   },
   {
    "duration": 12,
    "start_time": "2023-07-21T10:06:12.433Z"
   },
   {
    "duration": 414,
    "start_time": "2023-07-21T10:06:12.447Z"
   },
   {
    "duration": 82,
    "start_time": "2023-07-21T10:06:12.863Z"
   },
   {
    "duration": 21,
    "start_time": "2023-07-21T10:06:12.946Z"
   },
   {
    "duration": 229,
    "start_time": "2023-07-21T10:06:12.969Z"
   },
   {
    "duration": 96,
    "start_time": "2023-07-21T10:06:13.209Z"
   },
   {
    "duration": 27,
    "start_time": "2023-07-21T10:06:13.306Z"
   },
   {
    "duration": 62,
    "start_time": "2023-07-21T10:06:13.335Z"
   },
   {
    "duration": 258,
    "start_time": "2023-07-21T10:06:13.399Z"
   },
   {
    "duration": 471,
    "start_time": "2023-07-21T10:06:13.662Z"
   },
   {
    "duration": 221,
    "start_time": "2023-07-21T10:06:14.135Z"
   },
   {
    "duration": 123,
    "start_time": "2023-07-21T10:06:14.358Z"
   },
   {
    "duration": 78,
    "start_time": "2023-07-21T10:06:14.486Z"
   },
   {
    "duration": 92,
    "start_time": "2023-07-21T10:06:14.565Z"
   },
   {
    "duration": 9,
    "start_time": "2023-07-21T10:06:14.661Z"
   },
   {
    "duration": 49,
    "start_time": "2023-07-21T10:06:14.672Z"
   },
   {
    "duration": 55,
    "start_time": "2023-07-21T10:06:14.722Z"
   },
   {
    "duration": 19,
    "start_time": "2023-07-21T10:06:14.778Z"
   },
   {
    "duration": 79,
    "start_time": "2023-07-21T10:06:14.798Z"
   },
   {
    "duration": 46,
    "start_time": "2023-07-21T10:06:14.879Z"
   },
   {
    "duration": 21,
    "start_time": "2023-07-21T10:06:14.927Z"
   },
   {
    "duration": 25,
    "start_time": "2023-07-21T10:06:14.951Z"
   },
   {
    "duration": 193,
    "start_time": "2023-07-21T10:06:14.978Z"
   },
   {
    "duration": 99,
    "start_time": "2023-07-21T10:06:15.178Z"
   },
   {
    "duration": 94,
    "start_time": "2023-07-21T10:06:15.279Z"
   },
   {
    "duration": 1690,
    "start_time": "2023-07-21T10:06:49.120Z"
   },
   {
    "duration": 1759,
    "start_time": "2023-07-21T10:06:50.812Z"
   },
   {
    "duration": 22,
    "start_time": "2023-07-21T10:06:52.572Z"
   },
   {
    "duration": 28,
    "start_time": "2023-07-21T10:06:52.596Z"
   },
   {
    "duration": 390,
    "start_time": "2023-07-21T10:06:52.627Z"
   },
   {
    "duration": 223,
    "start_time": "2023-07-21T10:06:53.030Z"
   },
   {
    "duration": 65,
    "start_time": "2023-07-21T10:06:53.257Z"
   },
   {
    "duration": 20,
    "start_time": "2023-07-21T10:06:53.326Z"
   },
   {
    "duration": 60,
    "start_time": "2023-07-21T10:06:53.349Z"
   },
   {
    "duration": 52,
    "start_time": "2023-07-21T10:06:53.410Z"
   },
   {
    "duration": 102,
    "start_time": "2023-07-21T10:06:53.464Z"
   },
   {
    "duration": 111,
    "start_time": "2023-07-21T10:06:53.568Z"
   },
   {
    "duration": 99,
    "start_time": "2023-07-21T10:06:53.680Z"
   },
   {
    "duration": 15,
    "start_time": "2023-07-21T10:06:53.783Z"
   },
   {
    "duration": 69,
    "start_time": "2023-07-21T10:06:53.802Z"
   },
   {
    "duration": 21,
    "start_time": "2023-07-21T10:06:53.872Z"
   },
   {
    "duration": 63,
    "start_time": "2023-07-21T10:06:53.895Z"
   },
   {
    "duration": 30,
    "start_time": "2023-07-21T10:06:53.960Z"
   },
   {
    "duration": 70,
    "start_time": "2023-07-21T10:06:53.994Z"
   },
   {
    "duration": 64,
    "start_time": "2023-07-21T10:06:54.066Z"
   },
   {
    "duration": 40,
    "start_time": "2023-07-21T10:06:54.132Z"
   },
   {
    "duration": 152,
    "start_time": "2023-07-21T10:06:54.173Z"
   },
   {
    "duration": 216,
    "start_time": "2023-07-21T10:06:54.329Z"
   },
   {
    "duration": 7,
    "start_time": "2023-07-21T10:06:54.558Z"
   },
   {
    "duration": 12,
    "start_time": "2023-07-21T10:06:54.567Z"
   },
   {
    "duration": 63,
    "start_time": "2023-07-21T10:06:54.581Z"
   },
   {
    "duration": 72,
    "start_time": "2023-07-21T10:06:54.657Z"
   },
   {
    "duration": 46,
    "start_time": "2023-07-21T10:06:54.733Z"
   },
   {
    "duration": 16,
    "start_time": "2023-07-21T10:06:54.781Z"
   },
   {
    "duration": 323,
    "start_time": "2023-07-21T10:06:54.798Z"
   },
   {
    "duration": 86,
    "start_time": "2023-07-21T10:06:55.126Z"
   },
   {
    "duration": 11,
    "start_time": "2023-07-21T10:06:55.214Z"
   },
   {
    "duration": 186,
    "start_time": "2023-07-21T10:06:55.227Z"
   },
   {
    "duration": 154,
    "start_time": "2023-07-21T10:06:55.422Z"
   },
   {
    "duration": 39,
    "start_time": "2023-07-21T10:06:55.578Z"
   },
   {
    "duration": 123,
    "start_time": "2023-07-21T10:06:55.623Z"
   },
   {
    "duration": 232,
    "start_time": "2023-07-21T10:06:55.748Z"
   },
   {
    "duration": 561,
    "start_time": "2023-07-21T10:06:55.982Z"
   },
   {
    "duration": 272,
    "start_time": "2023-07-21T10:06:56.545Z"
   },
   {
    "duration": 101,
    "start_time": "2023-07-21T10:06:56.821Z"
   },
   {
    "duration": 142,
    "start_time": "2023-07-21T10:06:56.928Z"
   },
   {
    "duration": 103,
    "start_time": "2023-07-21T10:06:57.072Z"
   },
   {
    "duration": 10,
    "start_time": "2023-07-21T10:06:57.177Z"
   },
   {
    "duration": 91,
    "start_time": "2023-07-21T10:06:57.189Z"
   },
   {
    "duration": 17,
    "start_time": "2023-07-21T10:06:57.282Z"
   },
   {
    "duration": 79,
    "start_time": "2023-07-21T10:06:57.301Z"
   },
   {
    "duration": 76,
    "start_time": "2023-07-21T10:06:57.382Z"
   },
   {
    "duration": 17,
    "start_time": "2023-07-21T10:06:57.460Z"
   },
   {
    "duration": 46,
    "start_time": "2023-07-21T10:06:57.479Z"
   },
   {
    "duration": 29,
    "start_time": "2023-07-21T10:06:57.534Z"
   },
   {
    "duration": 20,
    "start_time": "2023-07-21T10:06:57.569Z"
   },
   {
    "duration": 81,
    "start_time": "2023-07-21T10:06:57.591Z"
   },
   {
    "duration": 87,
    "start_time": "2023-07-21T10:06:57.674Z"
   },
   {
    "duration": 21,
    "start_time": "2023-07-21T10:10:50.234Z"
   },
   {
    "duration": 1312,
    "start_time": "2023-07-21T11:13:41.617Z"
   },
   {
    "duration": 1105,
    "start_time": "2023-07-21T11:13:42.931Z"
   },
   {
    "duration": 24,
    "start_time": "2023-07-21T11:13:44.038Z"
   },
   {
    "duration": 49,
    "start_time": "2023-07-21T11:13:44.064Z"
   },
   {
    "duration": 362,
    "start_time": "2023-07-21T11:13:44.115Z"
   },
   {
    "duration": 155,
    "start_time": "2023-07-21T11:13:44.479Z"
   },
   {
    "duration": 81,
    "start_time": "2023-07-21T11:13:44.636Z"
   },
   {
    "duration": 13,
    "start_time": "2023-07-21T11:13:44.719Z"
   },
   {
    "duration": 37,
    "start_time": "2023-07-21T11:13:44.734Z"
   },
   {
    "duration": 5,
    "start_time": "2023-07-21T11:13:44.773Z"
   },
   {
    "duration": 67,
    "start_time": "2023-07-21T11:13:44.780Z"
   },
   {
    "duration": 34,
    "start_time": "2023-07-21T11:13:44.848Z"
   },
   {
    "duration": 41,
    "start_time": "2023-07-21T11:13:44.884Z"
   },
   {
    "duration": 59,
    "start_time": "2023-07-21T11:13:44.927Z"
   },
   {
    "duration": 24,
    "start_time": "2023-07-21T11:13:44.988Z"
   },
   {
    "duration": 86,
    "start_time": "2023-07-21T11:13:45.014Z"
   },
   {
    "duration": 31,
    "start_time": "2023-07-21T11:13:45.101Z"
   },
   {
    "duration": 114,
    "start_time": "2023-07-21T11:13:45.134Z"
   },
   {
    "duration": 47,
    "start_time": "2023-07-21T11:13:45.250Z"
   },
   {
    "duration": 9,
    "start_time": "2023-07-21T11:13:45.300Z"
   },
   {
    "duration": 95,
    "start_time": "2023-07-21T11:13:45.311Z"
   },
   {
    "duration": 163,
    "start_time": "2023-07-21T11:13:45.408Z"
   },
   {
    "duration": 6,
    "start_time": "2023-07-21T11:13:45.573Z"
   },
   {
    "duration": 11,
    "start_time": "2023-07-21T11:13:45.581Z"
   },
   {
    "duration": 5,
    "start_time": "2023-07-21T11:13:45.614Z"
   },
   {
    "duration": 48,
    "start_time": "2023-07-21T11:13:45.621Z"
   },
   {
    "duration": 54,
    "start_time": "2023-07-21T11:13:45.671Z"
   },
   {
    "duration": 7,
    "start_time": "2023-07-21T11:13:45.729Z"
   },
   {
    "duration": 278,
    "start_time": "2023-07-21T11:13:45.738Z"
   },
   {
    "duration": 78,
    "start_time": "2023-07-21T11:13:46.018Z"
   },
   {
    "duration": 23,
    "start_time": "2023-07-21T11:13:46.098Z"
   },
   {
    "duration": 79,
    "start_time": "2023-07-21T11:13:46.123Z"
   },
   {
    "duration": 79,
    "start_time": "2023-07-21T11:13:46.204Z"
   },
   {
    "duration": 32,
    "start_time": "2023-07-21T11:13:46.285Z"
   },
   {
    "duration": 36,
    "start_time": "2023-07-21T11:13:46.319Z"
   },
   {
    "duration": 173,
    "start_time": "2023-07-21T11:13:46.357Z"
   },
   {
    "duration": 778,
    "start_time": "2023-07-21T11:13:46.532Z"
   },
   {
    "duration": 246,
    "start_time": "2023-07-21T11:13:47.312Z"
   },
   {
    "duration": 86,
    "start_time": "2023-07-21T11:13:47.560Z"
   },
   {
    "duration": 69,
    "start_time": "2023-07-21T11:13:47.648Z"
   },
   {
    "duration": 68,
    "start_time": "2023-07-21T11:13:47.719Z"
   },
   {
    "duration": 24,
    "start_time": "2023-07-21T11:13:47.789Z"
   },
   {
    "duration": 16,
    "start_time": "2023-07-21T11:13:47.815Z"
   },
   {
    "duration": 11,
    "start_time": "2023-07-21T11:13:47.833Z"
   },
   {
    "duration": 22,
    "start_time": "2023-07-21T11:13:47.846Z"
   },
   {
    "duration": 55,
    "start_time": "2023-07-21T11:13:47.869Z"
   },
   {
    "duration": 17,
    "start_time": "2023-07-21T11:13:47.926Z"
   },
   {
    "duration": 12,
    "start_time": "2023-07-21T11:13:47.945Z"
   },
   {
    "duration": 12,
    "start_time": "2023-07-21T11:13:47.960Z"
   },
   {
    "duration": 45,
    "start_time": "2023-07-21T11:13:47.974Z"
   },
   {
    "duration": 9,
    "start_time": "2023-07-21T11:13:48.021Z"
   },
   {
    "duration": 15,
    "start_time": "2023-07-21T11:13:48.032Z"
   },
   {
    "duration": 10,
    "start_time": "2023-07-21T11:16:48.893Z"
   },
   {
    "duration": 13,
    "start_time": "2023-07-21T11:18:18.631Z"
   },
   {
    "duration": 15,
    "start_time": "2023-07-21T11:19:41.371Z"
   },
   {
    "duration": 12,
    "start_time": "2023-07-21T11:21:15.843Z"
   },
   {
    "duration": 10,
    "start_time": "2023-07-21T11:21:20.748Z"
   },
   {
    "duration": 20,
    "start_time": "2023-07-21T11:22:31.737Z"
   },
   {
    "duration": 122,
    "start_time": "2023-07-21T11:24:10.885Z"
   },
   {
    "duration": 17,
    "start_time": "2023-07-21T11:24:17.548Z"
   },
   {
    "duration": 20,
    "start_time": "2023-07-21T11:26:10.991Z"
   },
   {
    "duration": 19,
    "start_time": "2023-07-21T11:26:12.989Z"
   },
   {
    "duration": 1612,
    "start_time": "2023-07-24T19:27:38.381Z"
   },
   {
    "duration": 1489,
    "start_time": "2023-07-24T19:27:39.995Z"
   },
   {
    "duration": 24,
    "start_time": "2023-07-24T19:27:41.486Z"
   },
   {
    "duration": 28,
    "start_time": "2023-07-24T19:27:41.512Z"
   },
   {
    "duration": 378,
    "start_time": "2023-07-24T19:27:41.542Z"
   },
   {
    "duration": 172,
    "start_time": "2023-07-24T19:27:41.922Z"
   },
   {
    "duration": 79,
    "start_time": "2023-07-24T19:27:42.095Z"
   },
   {
    "duration": 14,
    "start_time": "2023-07-24T19:27:42.176Z"
   },
   {
    "duration": 26,
    "start_time": "2023-07-24T19:27:42.192Z"
   },
   {
    "duration": 4,
    "start_time": "2023-07-24T19:27:42.221Z"
   },
   {
    "duration": 40,
    "start_time": "2023-07-24T19:27:42.253Z"
   },
   {
    "duration": 29,
    "start_time": "2023-07-24T19:27:42.295Z"
   },
   {
    "duration": 41,
    "start_time": "2023-07-24T19:27:42.326Z"
   },
   {
    "duration": 15,
    "start_time": "2023-07-24T19:27:42.371Z"
   },
   {
    "duration": 21,
    "start_time": "2023-07-24T19:27:42.387Z"
   },
   {
    "duration": 48,
    "start_time": "2023-07-24T19:27:42.410Z"
   },
   {
    "duration": 18,
    "start_time": "2023-07-24T19:27:42.467Z"
   },
   {
    "duration": 16,
    "start_time": "2023-07-24T19:27:42.487Z"
   },
   {
    "duration": 28,
    "start_time": "2023-07-24T19:27:42.506Z"
   },
   {
    "duration": 21,
    "start_time": "2023-07-24T19:27:42.536Z"
   },
   {
    "duration": 33,
    "start_time": "2023-07-24T19:27:42.560Z"
   },
   {
    "duration": 6,
    "start_time": "2023-07-24T19:27:42.595Z"
   },
   {
    "duration": 67,
    "start_time": "2023-07-24T19:27:42.603Z"
   },
   {
    "duration": 200,
    "start_time": "2023-07-24T19:27:42.672Z"
   },
   {
    "duration": 8,
    "start_time": "2023-07-24T19:27:42.874Z"
   },
   {
    "duration": 17,
    "start_time": "2023-07-24T19:27:42.884Z"
   },
   {
    "duration": 16,
    "start_time": "2023-07-24T19:27:42.903Z"
   },
   {
    "duration": 54,
    "start_time": "2023-07-24T19:27:42.922Z"
   },
   {
    "duration": 37,
    "start_time": "2023-07-24T19:27:42.978Z"
   },
   {
    "duration": 6,
    "start_time": "2023-07-24T19:27:43.017Z"
   },
   {
    "duration": 331,
    "start_time": "2023-07-24T19:27:43.025Z"
   },
   {
    "duration": 79,
    "start_time": "2023-07-24T19:27:43.362Z"
   },
   {
    "duration": 22,
    "start_time": "2023-07-24T19:27:43.442Z"
   },
   {
    "duration": 94,
    "start_time": "2023-07-24T19:27:43.472Z"
   },
   {
    "duration": 100,
    "start_time": "2023-07-24T19:27:43.568Z"
   },
   {
    "duration": 13,
    "start_time": "2023-07-24T19:27:43.670Z"
   },
   {
    "duration": 39,
    "start_time": "2023-07-24T19:27:43.684Z"
   },
   {
    "duration": 184,
    "start_time": "2023-07-24T19:27:43.724Z"
   },
   {
    "duration": 503,
    "start_time": "2023-07-24T19:27:43.910Z"
   },
   {
    "duration": 222,
    "start_time": "2023-07-24T19:27:44.415Z"
   },
   {
    "duration": 81,
    "start_time": "2023-07-24T19:27:44.653Z"
   },
   {
    "duration": 79,
    "start_time": "2023-07-24T19:27:44.735Z"
   },
   {
    "duration": 84,
    "start_time": "2023-07-24T19:27:44.815Z"
   },
   {
    "duration": 6,
    "start_time": "2023-07-24T19:27:44.901Z"
   },
   {
    "duration": 20,
    "start_time": "2023-07-24T19:27:44.909Z"
   },
   {
    "duration": 37,
    "start_time": "2023-07-24T19:27:44.931Z"
   },
   {
    "duration": 35,
    "start_time": "2023-07-24T19:27:44.970Z"
   },
   {
    "duration": 63,
    "start_time": "2023-07-24T19:27:45.007Z"
   },
   {
    "duration": 52,
    "start_time": "2023-07-24T19:27:45.072Z"
   },
   {
    "duration": 13,
    "start_time": "2023-07-24T19:27:45.127Z"
   },
   {
    "duration": 30,
    "start_time": "2023-07-24T19:27:45.142Z"
   },
   {
    "duration": 28,
    "start_time": "2023-07-24T19:27:45.174Z"
   },
   {
    "duration": 12,
    "start_time": "2023-07-24T19:27:45.205Z"
   },
   {
    "duration": 10,
    "start_time": "2023-07-24T19:27:45.219Z"
   }
  ],
  "kernelspec": {
   "display_name": "Python 3 (ipykernel)",
   "language": "python",
   "name": "python3"
  },
  "language_info": {
   "codemirror_mode": {
    "name": "ipython",
    "version": 3
   },
   "file_extension": ".py",
   "mimetype": "text/x-python",
   "name": "python",
   "nbconvert_exporter": "python",
   "pygments_lexer": "ipython3",
   "version": "3.11.2"
  },
  "toc": {
   "base_numbering": 1,
   "nav_menu": {},
   "number_sections": true,
   "sideBar": true,
   "skip_h1_title": true,
   "title_cell": "Table of Contents",
   "title_sidebar": "Contents",
   "toc_cell": false,
   "toc_position": {},
   "toc_section_display": true,
   "toc_window_display": false
  }
 },
 "nbformat": 4,
 "nbformat_minor": 5
}
