{
 "cells": [
  {
   "cell_type": "markdown",
   "id": "9064d69e",
   "metadata": {},
   "source": [
    "# Создание дашборда по пользовательским событиям для агрегатора новостей\n",
    "\n",
    "\n",
    "\n",
    "### Дополнительные материалы\n",
    "Ссылка на дашборд - https://public.tableau.com/app/profile/grisha.chernyshov/viz/yandex_prakt/Dashboard1#1\n",
    "\n",
    "Ссылка на презентацию -https://disk.yandex.ru/i/xsiQXM7yUnWZXQ\n",
    "\n",
    "## Описание проекта\n",
    "Я работаю аналитиком в Яндекс.Дзене. Почти всё мое время занимает анализ пользовательского взаимодействия с карточками статей. Каждую карточку определяют её тема и источник (у него тоже есть тема). Примеры тем: «Красота и здоровье», «Россия», «Путешествия». А пользователей системы характеризует возрастная категория.\n",
    "\n",
    "Каждую неделю начинающие менеджеры Денис и Валерия задают вам одни и те же вопросы:\n",
    "1. Сколько взаимодействий пользователей с карточками происходит в системе с разбивкой по темам карточек?\n",
    "2. Как много карточек генерируют источники с разными темами?\n",
    "3. Как соотносятся темы карточек и темы источников?\n",
    "\n",
    "Я решил автоматизировать процесс и создать дашборд для моих коллег.\n",
    "\n",
    "## Описание данных:\n",
    "\n",
    "Таблица `dash_visits` хранит в себе следующую информацию:\n",
    "\n",
    "- `record_id` — первичный ключ,\n",
    "- `item_topic` — тема карточки,\n",
    "- `source_topic` — тема источника,\n",
    "- `age_segment` — возрастной сегмент,\n",
    "- `dt` — дата и время,\n",
    "- `visits` — количество событий.\n",
    "\n",
    "## Цели работы:\n",
    "\n",
    "Создать дашборд для помощи начинающим сотрудникам и презентацию для описание его работы\n"
   ]
  },
  {
   "cell_type": "markdown",
   "id": "d36156d9",
   "metadata": {},
   "source": [
    "## Краткое ТЗ для создания дашборда:\n",
    "\n",
    "***Бизнес-задача***: анализ взаимодействия пользователей с карточками Яндекс.Дзен;\n",
    "***Насколько часто предполагается пользоваться дашбордом***: не реже, чем раз в неделю;\n",
    "***Кто будет основным пользователем дашборда***: менеджеры по анализу контента;\n",
    "\n",
    "***Состав данных для дашборда:***\n",
    "\n",
    "- История событий по темам карточек (два графика - абсолютные числа и процентное соотношение);\n",
    "- Разбивка событий по темам источников;\n",
    "- Таблица соответствия тем источников темам карточек;\n",
    "\n",
    "***По каким параметрам данные должны группироваться:***\n",
    "\n",
    "- Дата и время;\n",
    "- Тема карточки;\n",
    "- Тема источника;\n",
    "- Возрастная группа;\n",
    "- Характер данных:\n",
    "\n",
    "История событий по темам карточек — абсолютные величины с разбивкой по минутам;\n",
    "Разбивка событий по темам источников — относительные величины (% событий);\n",
    "Соответствия тем источников темам карточек - абсолютные величины;\n",
    "\n",
    "***Важность:*** все графики имеют равную важность;\n",
    "Источники данных для дашборда:\n",
    "\n",
    "Сырые данные о событиях взаимодействия пользователей с карточками (таблица dash_visits);\n",
    "База данных, в которой будут храниться агрегированные данные:\n",
    "\n",
    "Дополнительные агрегированные таблицы в БД zen;\n",
    "\n",
    "***Частота обновления данных:***\n",
    "Один раз в сутки, в полночь по UTC;"
   ]
  },
  {
   "cell_type": "markdown",
   "id": "6609f7f4",
   "metadata": {},
   "source": [
    "## Задачи проекта\n",
    "\n",
    "1. Получить данные из базы данных\n",
    "\n",
    "2. Создать дашборд на основе полученных данных\n",
    "\n",
    "3. Ответить на вопросы менеджеров в виде презентации:\n",
    "\n",
    "- Cколько взаимодействий пользователей с карточками происходит в системе с разбивкой по темам карточек?\n",
    "\n",
    "- Как много карточек генерируют источники с разными темами?\n",
    "\n",
    "- Как соотносятся темы карточек и темы источников?"
   ]
  },
  {
   "cell_type": "code",
   "execution_count": 1,
   "id": "650f8ebd",
   "metadata": {},
   "outputs": [],
   "source": [
    "# импортируем библиотеки\n",
    "import pandas as pd\n",
    "from sqlalchemy import create_engine\n",
    "from IPython.display import Image\n",
    "import shutil\n",
    "import os\n"
   ]
  },
  {
   "cell_type": "code",
   "execution_count": 2,
   "id": "f8ce8b5c",
   "metadata": {},
   "outputs": [
    {
     "data": {
      "text/html": [
       "<img src=\"https://pictures.s3.yandex.net/resources/Untitled_-_2020-07-06T160925.436_1594041010.png\"/>"
      ],
      "text/plain": [
       "<IPython.core.display.Image object>"
      ]
     },
     "execution_count": 2,
     "metadata": {},
     "output_type": "execute_result"
    }
   ],
   "source": [
    "Image(url='https://pictures.s3.yandex.net/resources/Untitled_-_2020-07-06T160925.436_1594041010.png')"
   ]
  },
  {
   "cell_type": "code",
   "execution_count": 3,
   "id": "ffb00dcf",
   "metadata": {},
   "outputs": [],
   "source": [
    "# импортируем библиотеки\n",
    "import pandas as pd\n",
    "from sqlalchemy import create_engine\n",
    "\n",
    "db_config = {'user': 'praktikum_student', # имя пользователя\n",
    "            'pwd': 'Sdf4$2;d-d30pp', # пароль\n",
    "            'host': 'rc1b-wcoijxj3yxfsf3fs.mdb.yandexcloud.net',\n",
    "            'port': 6432, # порт подключения\n",
    "            'db': 'data-analyst-zen-project-db'} # название базы данных\n",
    "\n",
    "connection_string = 'postgresql://{}:{}@{}:{}/{}'.format(db_config['user'],\n",
    "                                                db_config['pwd'],\n",
    "                                                db_config['host'],\n",
    "                                                db_config['port'],\n",
    "                                                db_config['db'])\n",
    "\n",
    "engine = create_engine(connection_string)"
   ]
  },
  {
   "cell_type": "code",
   "execution_count": 4,
   "id": "7b6081f7",
   "metadata": {},
   "outputs": [],
   "source": [
    "from sqlalchemy import create_engine, text as sql_text\n",
    "connection = create_engine(connection_string)\n",
    "query = \"SELECT * FROM dash_visits \" \n",
    "dash_visits = pd.read_sql_query(con=connection.connect(), sql=sql_text(query))"
   ]
  },
  {
   "cell_type": "code",
   "execution_count": 5,
   "id": "5b97e60e",
   "metadata": {},
   "outputs": [
    {
     "data": {
      "text/html": [
       "<div>\n",
       "<style scoped>\n",
       "    .dataframe tbody tr th:only-of-type {\n",
       "        vertical-align: middle;\n",
       "    }\n",
       "\n",
       "    .dataframe tbody tr th {\n",
       "        vertical-align: top;\n",
       "    }\n",
       "\n",
       "    .dataframe thead th {\n",
       "        text-align: right;\n",
       "    }\n",
       "</style>\n",
       "<table border=\"1\" class=\"dataframe\">\n",
       "  <thead>\n",
       "    <tr style=\"text-align: right;\">\n",
       "      <th></th>\n",
       "      <th>record_id</th>\n",
       "      <th>item_topic</th>\n",
       "      <th>source_topic</th>\n",
       "      <th>age_segment</th>\n",
       "      <th>dt</th>\n",
       "      <th>visits</th>\n",
       "    </tr>\n",
       "  </thead>\n",
       "  <tbody>\n",
       "    <tr>\n",
       "      <th>0</th>\n",
       "      <td>1040597</td>\n",
       "      <td>Деньги</td>\n",
       "      <td>Авто</td>\n",
       "      <td>18-25</td>\n",
       "      <td>2019-09-24 18:32:00</td>\n",
       "      <td>3</td>\n",
       "    </tr>\n",
       "    <tr>\n",
       "      <th>1</th>\n",
       "      <td>1040598</td>\n",
       "      <td>Деньги</td>\n",
       "      <td>Авто</td>\n",
       "      <td>18-25</td>\n",
       "      <td>2019-09-24 18:35:00</td>\n",
       "      <td>1</td>\n",
       "    </tr>\n",
       "    <tr>\n",
       "      <th>2</th>\n",
       "      <td>1040599</td>\n",
       "      <td>Деньги</td>\n",
       "      <td>Авто</td>\n",
       "      <td>18-25</td>\n",
       "      <td>2019-09-24 18:54:00</td>\n",
       "      <td>4</td>\n",
       "    </tr>\n",
       "    <tr>\n",
       "      <th>3</th>\n",
       "      <td>1040600</td>\n",
       "      <td>Деньги</td>\n",
       "      <td>Авто</td>\n",
       "      <td>18-25</td>\n",
       "      <td>2019-09-24 18:55:00</td>\n",
       "      <td>17</td>\n",
       "    </tr>\n",
       "    <tr>\n",
       "      <th>4</th>\n",
       "      <td>1040601</td>\n",
       "      <td>Деньги</td>\n",
       "      <td>Авто</td>\n",
       "      <td>18-25</td>\n",
       "      <td>2019-09-24 18:56:00</td>\n",
       "      <td>27</td>\n",
       "    </tr>\n",
       "  </tbody>\n",
       "</table>\n",
       "</div>"
      ],
      "text/plain": [
       "   record_id item_topic source_topic age_segment                  dt  visits\n",
       "0    1040597     Деньги         Авто       18-25 2019-09-24 18:32:00       3\n",
       "1    1040598     Деньги         Авто       18-25 2019-09-24 18:35:00       1\n",
       "2    1040599     Деньги         Авто       18-25 2019-09-24 18:54:00       4\n",
       "3    1040600     Деньги         Авто       18-25 2019-09-24 18:55:00      17\n",
       "4    1040601     Деньги         Авто       18-25 2019-09-24 18:56:00      27"
      ]
     },
     "execution_count": 5,
     "metadata": {},
     "output_type": "execute_result"
    }
   ],
   "source": [
    "dash_visits.head(5) "
   ]
  },
  {
   "cell_type": "code",
   "execution_count": 6,
   "id": "9edbb6b1",
   "metadata": {},
   "outputs": [
    {
     "name": "stdout",
     "output_type": "stream",
     "text": [
      "<class 'pandas.core.frame.DataFrame'>\n",
      "RangeIndex: 30745 entries, 0 to 30744\n",
      "Data columns (total 6 columns):\n",
      " #   Column        Non-Null Count  Dtype         \n",
      "---  ------        --------------  -----         \n",
      " 0   record_id     30745 non-null  int64         \n",
      " 1   item_topic    30745 non-null  object        \n",
      " 2   source_topic  30745 non-null  object        \n",
      " 3   age_segment   30745 non-null  object        \n",
      " 4   dt            30745 non-null  datetime64[ns]\n",
      " 5   visits        30745 non-null  int64         \n",
      "dtypes: datetime64[ns](1), int64(2), object(3)\n",
      "memory usage: 1.4+ MB\n",
      "None\n"
     ]
    }
   ],
   "source": [
    "#Проверим данные\n",
    "print(dash_visits.info())"
   ]
  },
  {
   "cell_type": "markdown",
   "id": "822d64ff",
   "metadata": {},
   "source": [
    "Пропусков в базе не обнаружено"
   ]
  },
  {
   "cell_type": "code",
   "execution_count": 7,
   "id": "f48d8e88",
   "metadata": {},
   "outputs": [
    {
     "data": {
      "text/plain": [
       "0"
      ]
     },
     "execution_count": 7,
     "metadata": {},
     "output_type": "execute_result"
    }
   ],
   "source": [
    "# проверим на явные дубликаты\n",
    "dash_visits.duplicated().sum()"
   ]
  },
  {
   "cell_type": "code",
   "execution_count": 8,
   "id": "98e8f7d0",
   "metadata": {},
   "outputs": [
    {
     "data": {
      "text/plain": [
       "Отношения             1536\n",
       "Интересные факты      1535\n",
       "Наука                 1505\n",
       "Подборки              1456\n",
       "Полезные советы       1424\n",
       "Общество              1422\n",
       "Россия                1385\n",
       "История               1363\n",
       "Семья                 1287\n",
       "Путешествия           1247\n",
       "Деньги                1234\n",
       "Женщины               1230\n",
       "Дети                  1229\n",
       "Туризм                1206\n",
       "Здоровье              1203\n",
       "Красота               1193\n",
       "Культура              1160\n",
       "Юмор                  1129\n",
       "Искусство             1119\n",
       "Рассказы              1109\n",
       "Психология            1056\n",
       "Скандалы              1023\n",
       "Знаменитости           976\n",
       "Женская психология     914\n",
       "Шоу                    804\n",
       "Name: item_topic, dtype: int64"
      ]
     },
     "execution_count": 8,
     "metadata": {},
     "output_type": "execute_result"
    }
   ],
   "source": [
    "# посмотрим на темы карточек \n",
    "dash_visits['item_topic'].value_counts()"
   ]
  },
  {
   "cell_type": "code",
   "execution_count": 9,
   "id": "995f766d",
   "metadata": {},
   "outputs": [
    {
     "data": {
      "text/plain": [
       "Семейные отношения    1822\n",
       "Россия                1687\n",
       "Знаменитости          1650\n",
       "Полезные советы       1578\n",
       "Путешествия           1563\n",
       "Кино                  1505\n",
       "Дети                  1459\n",
       "История               1437\n",
       "Семья                 1405\n",
       "Одежда                1379\n",
       "Здоровье              1243\n",
       "Искусство             1228\n",
       "Авто                  1077\n",
       "Психология            1055\n",
       "Сад и дача            1036\n",
       "Политика              1024\n",
       "Спорт                 1007\n",
       "Сделай сам             995\n",
       "Ремонт                 985\n",
       "Деньги                 973\n",
       "Еда                    912\n",
       "Интерьеры              809\n",
       "Строительство          758\n",
       "Музыка                 750\n",
       "Технологии             741\n",
       "Финансы                667\n",
       "Name: source_topic, dtype: int64"
      ]
     },
     "execution_count": 9,
     "metadata": {},
     "output_type": "execute_result"
    }
   ],
   "source": [
    "# посмотрим на темы источников\n",
    "dash_visits['source_topic'].value_counts()"
   ]
  },
  {
   "cell_type": "code",
   "execution_count": 10,
   "id": "226e0c2d",
   "metadata": {},
   "outputs": [
    {
     "data": {
      "text/plain": [
       "18-25    7056\n",
       "26-30    5875\n",
       "31-35    5552\n",
       "36-40    5105\n",
       "41-45    3903\n",
       "45+      3254\n",
       "Name: age_segment, dtype: int64"
      ]
     },
     "execution_count": 10,
     "metadata": {},
     "output_type": "execute_result"
    }
   ],
   "source": [
    "# посмотрим на возрастные группы\n",
    "dash_visits['age_segment'].value_counts()"
   ]
  },
  {
   "cell_type": "code",
   "execution_count": 11,
   "id": "ce4e1103",
   "metadata": {},
   "outputs": [
    {
     "name": "stdout",
     "output_type": "stream",
     "text": [
      "2019-09-24 18:28:00 || 2019-09-24 19:00:00\n"
     ]
    }
   ],
   "source": [
    "# посмотрим за какой период получены данные\n",
    "print(dash_visits['dt'].min(), '||', dash_visits['dt'].max())"
   ]
  },
  {
   "cell_type": "markdown",
   "id": "60326156",
   "metadata": {},
   "source": [
    "Пропусков в датасете нет, явных дубликатов тоже."
   ]
  },
  {
   "cell_type": "code",
   "execution_count": 12,
   "id": "e226f946",
   "metadata": {},
   "outputs": [],
   "source": [
    "# преобразуем в csv\n",
    "dash_visits.to_csv('dash_visits.csv', index = False)"
   ]
  },
  {
   "cell_type": "markdown",
   "id": "ecb79172",
   "metadata": {},
   "source": [
    "Создаю универсальный путь для загрузки файла"
   ]
  },
  {
   "cell_type": "code",
   "execution_count": 13,
   "id": "44a6658c",
   "metadata": {},
   "outputs": [
    {
     "name": "stdout",
     "output_type": "stream",
     "text": [
      "Файл успешно загружен на компьютер.\n"
     ]
    }
   ],
   "source": [
    "\n",
    "\n",
    "# Путь к исходному файлу\n",
    "source_file = 'dash_visits.csv'\n",
    "\n",
    "# Получение пути к рабочему столу\n",
    "desktop_path = os.path.expanduser(\"~/Desktop\")\n",
    "\n",
    "# Путь к файлу\n",
    "destination_file = os.path.join(desktop_path, 'dash_visits.csv')\n",
    "\n",
    "# Копирование файла\n",
    "shutil.copyfile(source_file, destination_file)\n",
    "\n",
    "print(\"Файл успешно загружен на компьютер.\")\n"
   ]
  }
 ],
 "metadata": {
  "kernelspec": {
   "display_name": "Python 3 (ipykernel)",
   "language": "python",
   "name": "python3"
  },
  "language_info": {
   "codemirror_mode": {
    "name": "ipython",
    "version": 3
   },
   "file_extension": ".py",
   "mimetype": "text/x-python",
   "name": "python",
   "nbconvert_exporter": "python",
   "pygments_lexer": "ipython3",
   "version": "3.11.2"
  }
 },
 "nbformat": 4,
 "nbformat_minor": 5
}
