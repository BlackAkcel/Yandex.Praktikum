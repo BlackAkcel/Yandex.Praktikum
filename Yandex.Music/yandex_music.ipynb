{
 "cells": [
  {
   "cell_type": "markdown",
   "metadata": {
    "deletable": false,
    "editable": false,
    "id": "E0vqbgi9ay0H"
   },
   "source": [
    "# Яндекс Музыка"
   ]
  },
  {
   "cell_type": "markdown",
   "metadata": {
    "deletable": false,
    "editable": false,
    "id": "VUC88oWjTJw2"
   },
   "source": [
    "Сравнение Москвы и Петербурга окружено мифами. Например:\n",
    " * Москва — мегаполис, подчинённый жёсткому ритму рабочей недели;\n",
    " * Петербург — культурная столица, со своими вкусами.\n",
    "\n",
    "На данных Яндекс Музыки вы сравните поведение пользователей двух столиц.\n",
    "\n",
    "**Цель исследования** — проверьте три гипотезы:\n",
    "1. Активность пользователей зависит от дня недели. Причём в Москве и Петербурге это проявляется по-разному.\n",
    "2. В понедельник утром в Москве преобладают одни жанры, а в Петербурге — другие. Так же и вечером пятницы преобладают разные жанры — в зависимости от города. \n",
    "3. Москва и Петербург предпочитают разные жанры музыки. В Москве чаще слушают поп-музыку, в Петербурге — русский рэп.\n",
    "\n",
    "**Ход исследования**\n",
    "\n",
    "Данные о поведении пользователей вы получите из файла `yandex_music_project.csv`. О качестве данных ничего не известно. Поэтому перед проверкой гипотез понадобится обзор данных. \n",
    "\n",
    "Вы проверите данные на ошибки и оцените их влияние на исследование. Затем, на этапе предобработки вы поищете возможность исправить самые критичные ошибки данных.\n",
    " \n",
    "Таким образом, исследование пройдёт в три этапа:\n",
    " 1. Обзор данных.\n",
    " 2. Предобработка данных.\n",
    " 3. Проверка гипотез.\n",
    "\n"
   ]
  },
  {
   "cell_type": "markdown",
   "metadata": {
    "deletable": false,
    "editable": false,
    "id": "Ml1hmfXC_Zcs"
   },
   "source": [
    "## Обзор данных\n",
    "\n",
    "Составьте первое представление о данных Яндекс Музыки.\n",
    "\n",
    "\n"
   ]
  },
  {
   "cell_type": "markdown",
   "metadata": {
    "deletable": false,
    "editable": false,
    "id": "57eAOGIz_Zcs",
    "tags": [
     "start_task"
    ]
   },
   "source": [
    "**Задание 1**\n",
    "\n",
    "Основной инструмент аналитика — `pandas`. Импортируйте эту библиотеку."
   ]
  },
  {
   "cell_type": "code",
   "execution_count": 1,
   "metadata": {
    "deletable": false,
    "id": "AXN7PHPN_Zcs"
   },
   "outputs": [],
   "source": [
    "import pandas as pd# импорт библиотеки pandas"
   ]
  },
  {
   "cell_type": "markdown",
   "metadata": {
    "deletable": false,
    "editable": false,
    "id": "SG23P8tt_Zcs",
    "tags": [
     "start_task"
    ]
   },
   "source": [
    "**Задание 2**\n",
    "\n",
    "Прочитайте файл `yandex_music_project.csv` из папки `/datasets` и сохраните его в переменной `df`:"
   ]
  },
  {
   "cell_type": "code",
   "execution_count": 2,
   "metadata": {
    "deletable": false,
    "id": "fFVu7vqh_Zct"
   },
   "outputs": [],
   "source": [
    "   \n",
    "try:\n",
    "    df = pd.read_csv('/datasets/yandex_music_project.csv')\n",
    "except:\n",
    "    df = pd.read_csv('https://code.s3.yandex.net/datasets/yandex_music_project.csv')    "
   ]
  },
  {
   "cell_type": "markdown",
   "metadata": {
    "deletable": false,
    "editable": false,
    "id": "rDoOMd3uTqnZ",
    "tags": [
     "start_task"
    ]
   },
   "source": [
    "**Задание 3**\n",
    "\n",
    "\n",
    "Выведите на экран первые десять строк таблицы:"
   ]
  },
  {
   "cell_type": "code",
   "execution_count": 3,
   "metadata": {
    "deletable": false,
    "id": "oWTVX3gW_Zct"
   },
   "outputs": [
    {
     "name": "stdout",
     "output_type": "stream",
     "text": [
      "     userID                        Track            artist   genre  \\\n",
      "0  FFB692EC            Kamigata To Boots  The Mass Missile    rock   \n",
      "1  55204538  Delayed Because of Accident  Andreas Rönnberg    rock   \n",
      "2    20EC38            Funiculì funiculà       Mario Lanza     pop   \n",
      "3  A3DD03C9        Dragons in the Sunset        Fire + Ice    folk   \n",
      "4  E2DC1FAE                  Soul People        Space Echo   dance   \n",
      "5  842029A1                    Преданная         IMPERVTOR  rusrap   \n",
      "6  4CB90AA5                         True      Roman Messer   dance   \n",
      "7  F03E1C1F             Feeling This Way   Polina Griffith   dance   \n",
      "8  8FA1D3BE     И вновь продолжается бой               NaN  ruspop   \n",
      "9  E772D5C0                    Pessimist               NaN   dance   \n",
      "\n",
      "             City        time        Day  \n",
      "0  Saint-Petersburg  20:28:33  Wednesday  \n",
      "1            Moscow  14:07:09     Friday  \n",
      "2  Saint-Petersburg  20:58:07  Wednesday  \n",
      "3  Saint-Petersburg  08:37:09     Monday  \n",
      "4            Moscow  08:34:34     Monday  \n",
      "5  Saint-Petersburg  13:09:41     Friday  \n",
      "6            Moscow  13:00:07  Wednesday  \n",
      "7            Moscow  20:47:49  Wednesday  \n",
      "8            Moscow  09:17:40     Friday  \n",
      "9  Saint-Petersburg  21:20:49  Wednesday  \n"
     ]
    }
   ],
   "source": [
    "print(df.head(10)) # получение первых 10 строк таблицы df"
   ]
  },
  {
   "cell_type": "markdown",
   "metadata": {
    "deletable": false,
    "editable": false,
    "id": "EO73Kwic_Zct",
    "tags": [
     "start_task"
    ]
   },
   "source": [
    "**Задание 4**\n",
    "\n",
    "\n",
    "Одной командой получить общую информацию о таблице c помощью метода `info()`:"
   ]
  },
  {
   "cell_type": "code",
   "execution_count": 4,
   "metadata": {
    "deletable": false,
    "id": "DSf2kIb-_Zct"
   },
   "outputs": [
    {
     "name": "stdout",
     "output_type": "stream",
     "text": [
      "<class 'pandas.core.frame.DataFrame'>\n",
      "RangeIndex: 65079 entries, 0 to 65078\n",
      "Data columns (total 7 columns):\n",
      " #   Column    Non-Null Count  Dtype \n",
      "---  ------    --------------  ----- \n",
      " 0     userID  65079 non-null  object\n",
      " 1   Track     63848 non-null  object\n",
      " 2   artist    57876 non-null  object\n",
      " 3   genre     63881 non-null  object\n",
      " 4     City    65079 non-null  object\n",
      " 5   time      65079 non-null  object\n",
      " 6   Day       65079 non-null  object\n",
      "dtypes: object(7)\n",
      "memory usage: 3.5+ MB\n"
     ]
    }
   ],
   "source": [
    "df.info()# получение общей информации о данных в таблице df"
   ]
  },
  {
   "cell_type": "markdown",
   "metadata": {
    "deletable": false,
    "editable": false,
    "id": "TaQ2Iwbr_Zct"
   },
   "source": [
    "Итак, в таблице семь столбцов. Тип данных во всех столбцах — `object`.\n",
    "\n",
    "Согласно документации к данным:\n",
    "* `userID` — идентификатор пользователя;\n",
    "* `Track` — название трека;  \n",
    "* `artist` — имя исполнителя;\n",
    "* `genre` — название жанра;\n",
    "* `City` — город пользователя;\n",
    "* `time` — время начала прослушивания;\n",
    "* `Day` — день недели.\n",
    "\n",
    "Количество значений в столбцах различается. Значит, в данных есть пропущенные значения."
   ]
  },
  {
   "cell_type": "markdown",
   "metadata": {
    "deletable": false,
    "editable": false,
    "id": "rAfziTBDmf2h",
    "tags": [
     "start_task"
    ]
   },
   "source": [
    "**Задание 5**\n",
    "\n",
    "**Вопрос со свободной формой ответа**\n",
    "\n",
    "В названиях колонок видны нарушения стиля:\n",
    "* Строчные буквы сочетаются с прописными.\n",
    "* Встречаются пробелы.\n",
    "\n",
    "Какое третье нарушение?"
   ]
  },
  {
   "cell_type": "code",
   "execution_count": 5,
   "metadata": {
    "id": "jD8EXEIvmf2h"
   },
   "outputs": [],
   "source": [
    "# Я смею предположить, что часть символов напечатана на кириллице. Но как оказалось по подсказке, userID не только сочетает строчные и прописные, но и стоит писть как user_id"
   ]
  },
  {
   "cell_type": "markdown",
   "metadata": {
    "deletable": false,
    "editable": false,
    "id": "MCB6-dXG_Zct"
   },
   "source": [
    "**Выводы**\n",
    "\n",
    "В каждой строке таблицы — данные о прослушанном треке. Часть колонок описывает саму композицию: название, исполнителя и жанр. Остальные данные рассказывают о пользователе: из какого он города, когда он слушал музыку. \n",
    "\n",
    "Предварительно можно утверждать, что данных достаточно для проверки гипотез. Но встречаются пропуски в данных, а в названиях колонок — расхождения с хорошим стилем.\n",
    "\n",
    "Чтобы двигаться дальше, нужно устранить проблемы в данных."
   ]
  },
  {
   "cell_type": "markdown",
   "metadata": {
    "deletable": false,
    "editable": false,
    "id": "SjYF6Ub9_Zct"
   },
   "source": [
    "## Предобработка данных\n",
    "Исправьте стиль в заголовках столбцов, исключите пропуски. Затем проверьте данные на дубликаты."
   ]
  },
  {
   "cell_type": "markdown",
   "metadata": {
    "deletable": false,
    "editable": false,
    "id": "dIaKXr29_Zct",
    "tags": [
     "start_task"
    ]
   },
   "source": [
    "### Стиль заголовков\n",
    "\n",
    "**Задание 6**\n",
    "\n",
    "Выведите на экран названия столбцов:"
   ]
  },
  {
   "cell_type": "code",
   "execution_count": 6,
   "metadata": {
    "deletable": false,
    "id": "oKOTdF_Q_Zct"
   },
   "outputs": [
    {
     "data": {
      "text/plain": [
       "Index(['  userID', 'Track', 'artist', 'genre', '  City  ', 'time', 'Day'], dtype='object')"
      ]
     },
     "execution_count": 6,
     "metadata": {},
     "output_type": "execute_result"
    }
   ],
   "source": [
    "df.columns# перечень названий столбцов таблицы df"
   ]
  },
  {
   "cell_type": "markdown",
   "metadata": {
    "deletable": false,
    "editable": false,
    "id": "zj5534cv_Zct",
    "tags": [
     "start_task"
    ]
   },
   "source": [
    "**Задание 7**\n",
    "\n",
    "\n",
    "Приведите названия в соответствие с хорошим стилем:\n",
    "* несколько слов в названии запишите в «змеином_регистре»,\n",
    "* все символы сделайте строчными,\n",
    "* устраните пробелы.\n",
    "\n",
    "Для этого переименуйте колонки так:\n",
    "* `'  userID'` → `'user_id'`;\n",
    "* `'Track'` → `'track'`;\n",
    "* `'  City  '` → `'city'`;\n",
    "* `'Day'` → `'day'`."
   ]
  },
  {
   "cell_type": "code",
   "execution_count": 7,
   "metadata": {
    "deletable": false,
    "id": "ISlFqs5y_Zct"
   },
   "outputs": [],
   "source": [
    "df = df.rename(columns={'  userID':'user_id', 'Track':'track', '  City  ':'city', 'Day':'day'}, )   # переименование столбцов"
   ]
  },
  {
   "cell_type": "markdown",
   "metadata": {
    "deletable": false,
    "editable": false,
    "id": "1dqbh00J_Zct",
    "tags": [
     "start_task"
    ]
   },
   "source": [
    "**Задание 8**\n",
    "\n",
    "\n",
    "Проверьте результат. Для этого ещё раз выведите на экран названия столбцов:"
   ]
  },
  {
   "cell_type": "code",
   "execution_count": 8,
   "metadata": {
    "deletable": false,
    "id": "d4NOAmTW_Zct"
   },
   "outputs": [
    {
     "data": {
      "text/plain": [
       "Index(['user_id', 'track', 'artist', 'genre', 'city', 'time', 'day'], dtype='object')"
      ]
     },
     "execution_count": 8,
     "metadata": {},
     "output_type": "execute_result"
    }
   ],
   "source": [
    "df.columns# проверка результатов - перечень названий столбцов"
   ]
  },
  {
   "cell_type": "markdown",
   "metadata": {
    "deletable": false,
    "editable": false,
    "id": "5ISfbcfY_Zct",
    "tags": [
     "start_task"
    ]
   },
   "source": [
    "### Пропуски значений\n",
    "\n",
    "**Задание 9**\n",
    "\n",
    "Сначала посчитайте, сколько в таблице пропущенных значений. Для этого достаточно двух методов `pandas`:"
   ]
  },
  {
   "cell_type": "code",
   "execution_count": 9,
   "metadata": {
    "deletable": false,
    "id": "RskX29qr_Zct"
   },
   "outputs": [
    {
     "name": "stdout",
     "output_type": "stream",
     "text": [
      "user_id       0\n",
      "track      1231\n",
      "artist     7203\n",
      "genre      1198\n",
      "city          0\n",
      "time          0\n",
      "day           0\n",
      "dtype: int64\n"
     ]
    }
   ],
   "source": [
    "print(df.isna().sum())# подсчёт пропусков\n"
   ]
  },
  {
   "cell_type": "markdown",
   "metadata": {
    "deletable": false,
    "editable": false,
    "id": "qubhgnlO_Zct"
   },
   "source": [
    "Не все пропущенные значения влияют на исследование. Так в `track` и `artist` пропуски не важны для вашей работы. Достаточно заменить их явными обозначениями.\n",
    "\n",
    "Но пропуски в `genre` могут помешать сравнению музыкальных вкусов в Москве и Санкт-Петербурге. На практике было бы правильно установить причину пропусков и восстановить данные. Такой возможности нет в учебном проекте. Придётся:\n",
    "* заполнить и эти пропуски явными обозначениями;\n",
    "* оценить, насколько они повредят расчётам. "
   ]
  },
  {
   "cell_type": "markdown",
   "metadata": {
    "deletable": false,
    "editable": false,
    "id": "fSv2laPA_Zct",
    "tags": [
     "start_task"
    ]
   },
   "source": [
    "**Задание 10**\n",
    "\n",
    "Замените пропущенные значения в столбцах `track`, `artist` и `genre` на строку `'unknown'`. Для этого создайте список `columns_to_replace`, переберите его элементы циклом `for` и для каждого столбца выполните замену пропущенных значений:"
   ]
  },
  {
   "cell_type": "code",
   "execution_count": 10,
   "metadata": {
    "deletable": false,
    "id": "KplB5qWs_Zct"
   },
   "outputs": [
    {
     "name": "stdout",
     "output_type": "stream",
     "text": [
      "user_id    0\n",
      "track      0\n",
      "artist     0\n",
      "genre      0\n",
      "city       0\n",
      "time       0\n",
      "day        0\n",
      "dtype: int64\n"
     ]
    }
   ],
   "source": [
    "columns_to_replace =['track', 'artist', 'genre']# перебор названий столбцов в цикле и замена пропущенных значений на 'unknown'\n",
    "for column in columns_to_replace:\n",
    "    df[column] = df[column].fillna('unknown')\n",
    "print(df.isna().sum())"
   ]
  },
  {
   "cell_type": "markdown",
   "metadata": {
    "deletable": false,
    "editable": false,
    "id": "Ilsm-MZo_Zct",
    "tags": [
     "start_task"
    ]
   },
   "source": [
    "**Задание 11**\n",
    "\n",
    "Убедитесь, что в таблице не осталось пропусков. Для этого ещё раз посчитайте пропущенные значения."
   ]
  },
  {
   "cell_type": "code",
   "execution_count": 11,
   "metadata": {
    "deletable": false,
    "id": "Tq4nYRX4_Zct"
   },
   "outputs": [
    {
     "name": "stdout",
     "output_type": "stream",
     "text": [
      "user_id    0\n",
      "track      0\n",
      "artist     0\n",
      "genre      0\n",
      "city       0\n",
      "time       0\n",
      "day        0\n",
      "dtype: int64\n"
     ]
    }
   ],
   "source": [
    "print(df.isna().sum())# подсчёт пропусков"
   ]
  },
  {
   "cell_type": "markdown",
   "metadata": {
    "deletable": false,
    "editable": false,
    "id": "BWKRtBJ3_Zct",
    "tags": [
     "start_task"
    ]
   },
   "source": [
    "### Дубликаты\n",
    "\n",
    "**Задание 12**\n",
    "\n",
    "Посчитайте явные дубликаты в таблице одной командой:"
   ]
  },
  {
   "cell_type": "code",
   "execution_count": 12,
   "metadata": {
    "deletable": false,
    "id": "36eES_S0_Zct"
   },
   "outputs": [
    {
     "name": "stdout",
     "output_type": "stream",
     "text": [
      "3826\n"
     ]
    }
   ],
   "source": [
    "print(df.duplicated().sum())# подсчёт явных дубликатов"
   ]
  },
  {
   "cell_type": "markdown",
   "metadata": {
    "deletable": false,
    "editable": false,
    "id": "Ot25h6XR_Zct",
    "tags": [
     "start_task"
    ]
   },
   "source": [
    "**Задание 13**\n",
    "\n",
    "Вызовите специальный метод `pandas`, чтобы удалить явные дубликаты:"
   ]
  },
  {
   "cell_type": "code",
   "execution_count": 13,
   "metadata": {
    "deletable": false,
    "id": "exFHq6tt_Zct"
   },
   "outputs": [],
   "source": [
    "df = df.drop_duplicates()# Я может забежал вперед, но добавил в код ...reset_index(drop=True), но с ним была оштбка. Может я конечно неправильно написал, но все же"
   ]
  },
  {
   "cell_type": "markdown",
   "metadata": {
    "deletable": false,
    "editable": false,
    "id": "Im2YwBEG_Zct",
    "tags": [
     "start_task"
    ]
   },
   "source": [
    "**Задание 14**\n",
    "\n",
    "Ещё раз посчитайте явные дубликаты в таблице — убедитесь, что полностью от них избавились:"
   ]
  },
  {
   "cell_type": "code",
   "execution_count": 14,
   "metadata": {
    "deletable": false,
    "id": "-8PuNWQ0_Zct"
   },
   "outputs": [
    {
     "name": "stdout",
     "output_type": "stream",
     "text": [
      "0\n"
     ]
    }
   ],
   "source": [
    "print(df.duplicated().sum())# проверка на отсутствие дубликатов"
   ]
  },
  {
   "cell_type": "markdown",
   "metadata": {
    "deletable": false,
    "editable": false,
    "id": "QlFBsxAr_Zct"
   },
   "source": [
    "Теперь избавьтесь от неявных дубликатов в колонке `genre`. Например, название одного и того же жанра может быть записано немного по-разному. Такие ошибки тоже повлияют на результат исследования."
   ]
  },
  {
   "cell_type": "markdown",
   "metadata": {
    "deletable": false,
    "editable": false,
    "id": "eSjWwsOh_Zct",
    "tags": [
     "start_task"
    ]
   },
   "source": [
    "**Задание 15**\n",
    "\n",
    "Выведите на экран список уникальных названий жанров, отсортированный в алфавитном порядке. Для этого:\n",
    "1. извлеките нужный столбец датафрейма; \n",
    "2. примените к нему метод сортировки;\n",
    "3. для отсортированного столбца вызовите метод, который вернёт уникальные значения из столбца."
   ]
  },
  {
   "cell_type": "code",
   "execution_count": 15,
   "metadata": {
    "deletable": false,
    "id": "JIUcqzZN_Zct"
   },
   "outputs": [
    {
     "name": "stdout",
     "output_type": "stream",
     "text": [
      "['acid' 'acoustic' 'action' 'adult' 'africa' 'afrikaans' 'alternative'\n",
      " 'alternativepunk' 'ambient' 'americana' 'animated' 'anime' 'arabesk'\n",
      " 'arabic' 'arena' 'argentinetango' 'art' 'audiobook' 'author' 'avantgarde'\n",
      " 'axé' 'baile' 'balkan' 'beats' 'bigroom' 'black' 'bluegrass' 'blues'\n",
      " 'bollywood' 'bossa' 'brazilian' 'breakbeat' 'breaks' 'broadway'\n",
      " 'cantautori' 'cantopop' 'canzone' 'caribbean' 'caucasian' 'celtic'\n",
      " 'chamber' 'chanson' 'children' 'chill' 'chinese' 'choral' 'christian'\n",
      " 'christmas' 'classical' 'classicmetal' 'club' 'colombian' 'comedy'\n",
      " 'conjazz' 'contemporary' 'country' 'cuban' 'dance' 'dancehall' 'dancepop'\n",
      " 'dark' 'death' 'deep' 'deutschrock' 'deutschspr' 'dirty' 'disco' 'dnb'\n",
      " 'documentary' 'downbeat' 'downtempo' 'drum' 'dub' 'dubstep' 'eastern'\n",
      " 'easy' 'electronic' 'electropop' 'emo' 'entehno' 'epicmetal' 'estrada'\n",
      " 'ethnic' 'eurofolk' 'european' 'experimental' 'extrememetal' 'fado'\n",
      " 'fairytail' 'film' 'fitness' 'flamenco' 'folk' 'folklore' 'folkmetal'\n",
      " 'folkrock' 'folktronica' 'forró' 'frankreich' 'französisch' 'french'\n",
      " 'funk' 'future' 'gangsta' 'garage' 'german' 'ghazal' 'gitarre' 'glitch'\n",
      " 'gospel' 'gothic' 'grime' 'grunge' 'gypsy' 'handsup' \"hard'n'heavy\"\n",
      " 'hardcore' 'hardstyle' 'hardtechno' 'hip' 'hip-hop' 'hiphop' 'historisch'\n",
      " 'holiday' 'hop' 'horror' 'house' 'hymn' 'idm' 'independent' 'indian'\n",
      " 'indie' 'indipop' 'industrial' 'inspirational' 'instrumental'\n",
      " 'international' 'irish' 'jam' 'japanese' 'jazz' 'jewish' 'jpop' 'jungle'\n",
      " 'k-pop' 'karadeniz' 'karaoke' 'kayokyoku' 'korean' 'laiko' 'latin'\n",
      " 'latino' 'leftfield' 'local' 'lounge' 'loungeelectronic' 'lovers'\n",
      " 'malaysian' 'mandopop' 'marschmusik' 'meditative' 'mediterranean'\n",
      " 'melodic' 'metal' 'metalcore' 'mexican' 'middle' 'minimal'\n",
      " 'miscellaneous' 'modern' 'mood' 'mpb' 'muslim' 'native' 'neoklassik'\n",
      " 'neue' 'new' 'newage' 'newwave' 'nu' 'nujazz' 'numetal' 'oceania' 'old'\n",
      " 'opera' 'orchestral' 'other' 'piano' 'podcasts' 'pop' 'popdance'\n",
      " 'popelectronic' 'popeurodance' 'poprussian' 'post' 'posthardcore'\n",
      " 'postrock' 'power' 'progmetal' 'progressive' 'psychedelic' 'punjabi'\n",
      " 'punk' 'quebecois' 'ragga' 'ram' 'rancheras' 'rap' 'rave' 'reggae'\n",
      " 'reggaeton' 'regional' 'relax' 'religious' 'retro' 'rhythm' 'rnb' 'rnr'\n",
      " 'rock' 'rockabilly' 'rockalternative' 'rockindie' 'rockother' 'romance'\n",
      " 'roots' 'ruspop' 'rusrap' 'rusrock' 'russian' 'salsa' 'samba' 'scenic'\n",
      " 'schlager' 'self' 'sertanejo' 'shanson' 'shoegazing' 'showtunes' 'singer'\n",
      " 'ska' 'skarock' 'slow' 'smooth' 'soft' 'soul' 'soulful' 'sound'\n",
      " 'soundtrack' 'southern' 'specialty' 'speech' 'spiritual' 'sport'\n",
      " 'stonerrock' 'surf' 'swing' 'synthpop' 'synthrock' 'sängerportrait'\n",
      " 'tango' 'tanzorchester' 'taraftar' 'tatar' 'tech' 'techno' 'teen'\n",
      " 'thrash' 'top' 'traditional' 'tradjazz' 'trance' 'tribal' 'trip'\n",
      " 'triphop' 'tropical' 'türk' 'türkçe' 'ukrrock' 'unknown' 'urban' 'uzbek'\n",
      " 'variété' 'vi' 'videogame' 'vocal' 'western' 'world' 'worldbeat' 'ïîï'\n",
      " 'электроника']\n"
     ]
    }
   ],
   "source": [
    "print(df['genre'].sort_values().unique()) # Просмотр уникальных названий жанров"
   ]
  },
  {
   "cell_type": "markdown",
   "metadata": {
    "deletable": false,
    "editable": false,
    "id": "qej-Qmuo_Zct",
    "tags": [
     "start_task"
    ]
   },
   "source": [
    "**Задание 16**\n",
    "\n",
    "Просмотрите список и найдите неявные дубликаты названия `hiphop`. Это могут быть названия с ошибками или альтернативные названия того же жанра.\n",
    "\n",
    "Вы увидите следующие неявные дубликаты:\n",
    "* *hip*,\n",
    "* *hop*,\n",
    "* *hip-hop*.\n",
    "\n",
    "Чтобы очистить от них таблицу используйте метод `replace()` с двумя аргументами: списком строк-дубликатов (включащий *hip*, *hop* и *hip-hop*) и строкой с правильным значением. Вам нужно исправить колонку `genre` в таблице `df`: заменить каждое значение из списка дубликатов на верное. Вместо `hip`, `hop` и `hip-hop` в таблице должно быть значение `hiphop`:"
   ]
  },
  {
   "cell_type": "code",
   "execution_count": 16,
   "metadata": {
    "deletable": false,
    "id": "ErNDkmns_Zct"
   },
   "outputs": [],
   "source": [
    "# Устранение неявных дубликатов\n",
    "\n",
    "genre_columns_to_replace = ['hip','hop','hip-hop']\n",
    "true_name ='hiphop'\n",
    "for index in genre_columns_to_replace:\n",
    "    df['genre'] = df['genre'].replace(index, true_name)"
   ]
  },
  {
   "cell_type": "markdown",
   "metadata": {
    "deletable": false,
    "editable": false,
    "id": "zQKF16_RG15m",
    "tags": [
     "start_task"
    ]
   },
   "source": [
    "**Задание 17**\n",
    "\n",
    "Проверьте, что заменили неправильные названия:\n",
    "\n",
    "*   hip,\n",
    "*   hop,\n",
    "*   hip-hop.\n",
    "\n",
    "Выведите отсортированный список уникальных значений столбца `genre`:"
   ]
  },
  {
   "cell_type": "code",
   "execution_count": 17,
   "metadata": {
    "deletable": false,
    "id": "wvixALnFG15m"
   },
   "outputs": [
    {
     "name": "stdout",
     "output_type": "stream",
     "text": [
      "['acid' 'acoustic' 'action' 'adult' 'africa' 'afrikaans' 'alternative'\n",
      " 'alternativepunk' 'ambient' 'americana' 'animated' 'anime' 'arabesk'\n",
      " 'arabic' 'arena' 'argentinetango' 'art' 'audiobook' 'author' 'avantgarde'\n",
      " 'axé' 'baile' 'balkan' 'beats' 'bigroom' 'black' 'bluegrass' 'blues'\n",
      " 'bollywood' 'bossa' 'brazilian' 'breakbeat' 'breaks' 'broadway'\n",
      " 'cantautori' 'cantopop' 'canzone' 'caribbean' 'caucasian' 'celtic'\n",
      " 'chamber' 'chanson' 'children' 'chill' 'chinese' 'choral' 'christian'\n",
      " 'christmas' 'classical' 'classicmetal' 'club' 'colombian' 'comedy'\n",
      " 'conjazz' 'contemporary' 'country' 'cuban' 'dance' 'dancehall' 'dancepop'\n",
      " 'dark' 'death' 'deep' 'deutschrock' 'deutschspr' 'dirty' 'disco' 'dnb'\n",
      " 'documentary' 'downbeat' 'downtempo' 'drum' 'dub' 'dubstep' 'eastern'\n",
      " 'easy' 'electronic' 'electropop' 'emo' 'entehno' 'epicmetal' 'estrada'\n",
      " 'ethnic' 'eurofolk' 'european' 'experimental' 'extrememetal' 'fado'\n",
      " 'fairytail' 'film' 'fitness' 'flamenco' 'folk' 'folklore' 'folkmetal'\n",
      " 'folkrock' 'folktronica' 'forró' 'frankreich' 'französisch' 'french'\n",
      " 'funk' 'future' 'gangsta' 'garage' 'german' 'ghazal' 'gitarre' 'glitch'\n",
      " 'gospel' 'gothic' 'grime' 'grunge' 'gypsy' 'handsup' \"hard'n'heavy\"\n",
      " 'hardcore' 'hardstyle' 'hardtechno' 'hiphop' 'historisch' 'holiday'\n",
      " 'horror' 'house' 'hymn' 'idm' 'independent' 'indian' 'indie' 'indipop'\n",
      " 'industrial' 'inspirational' 'instrumental' 'international' 'irish' 'jam'\n",
      " 'japanese' 'jazz' 'jewish' 'jpop' 'jungle' 'k-pop' 'karadeniz' 'karaoke'\n",
      " 'kayokyoku' 'korean' 'laiko' 'latin' 'latino' 'leftfield' 'local'\n",
      " 'lounge' 'loungeelectronic' 'lovers' 'malaysian' 'mandopop' 'marschmusik'\n",
      " 'meditative' 'mediterranean' 'melodic' 'metal' 'metalcore' 'mexican'\n",
      " 'middle' 'minimal' 'miscellaneous' 'modern' 'mood' 'mpb' 'muslim'\n",
      " 'native' 'neoklassik' 'neue' 'new' 'newage' 'newwave' 'nu' 'nujazz'\n",
      " 'numetal' 'oceania' 'old' 'opera' 'orchestral' 'other' 'piano' 'podcasts'\n",
      " 'pop' 'popdance' 'popelectronic' 'popeurodance' 'poprussian' 'post'\n",
      " 'posthardcore' 'postrock' 'power' 'progmetal' 'progressive' 'psychedelic'\n",
      " 'punjabi' 'punk' 'quebecois' 'ragga' 'ram' 'rancheras' 'rap' 'rave'\n",
      " 'reggae' 'reggaeton' 'regional' 'relax' 'religious' 'retro' 'rhythm'\n",
      " 'rnb' 'rnr' 'rock' 'rockabilly' 'rockalternative' 'rockindie' 'rockother'\n",
      " 'romance' 'roots' 'ruspop' 'rusrap' 'rusrock' 'russian' 'salsa' 'samba'\n",
      " 'scenic' 'schlager' 'self' 'sertanejo' 'shanson' 'shoegazing' 'showtunes'\n",
      " 'singer' 'ska' 'skarock' 'slow' 'smooth' 'soft' 'soul' 'soulful' 'sound'\n",
      " 'soundtrack' 'southern' 'specialty' 'speech' 'spiritual' 'sport'\n",
      " 'stonerrock' 'surf' 'swing' 'synthpop' 'synthrock' 'sängerportrait'\n",
      " 'tango' 'tanzorchester' 'taraftar' 'tatar' 'tech' 'techno' 'teen'\n",
      " 'thrash' 'top' 'traditional' 'tradjazz' 'trance' 'tribal' 'trip'\n",
      " 'triphop' 'tropical' 'türk' 'türkçe' 'ukrrock' 'unknown' 'urban' 'uzbek'\n",
      " 'variété' 'vi' 'videogame' 'vocal' 'western' 'world' 'worldbeat' 'ïîï'\n",
      " 'электроника']\n"
     ]
    }
   ],
   "source": [
    "print(df['genre'].sort_values().unique()) # Проверка на неявные дубликаты"
   ]
  },
  {
   "cell_type": "markdown",
   "metadata": {
    "deletable": false,
    "editable": false,
    "id": "jz6a9-7HQUDd"
   },
   "source": [
    "**Выводы**\n",
    "\n",
    "Предобработка обнаружила три проблемы в данных:\n",
    "\n",
    "- нарушения в стиле заголовков,\n",
    "- пропущенные значения,\n",
    "- дубликаты — явные и неявные.\n",
    "\n",
    "Вы исправили заголовки, чтобы упростить работу с таблицей. Без дубликатов исследование станет более точным.\n",
    "\n",
    "Пропущенные значения вы заменили на `'unknown'`. Ещё предстоит увидеть, не повредят ли исследованию пропуски в колонке `genre`.\n",
    "\n",
    "Теперь можно перейти к проверке гипотез. "
   ]
  },
  {
   "cell_type": "markdown",
   "metadata": {
    "deletable": false,
    "editable": false,
    "id": "WttZHXH0SqKk"
   },
   "source": [
    "## Проверка гипотез"
   ]
  },
  {
   "cell_type": "markdown",
   "metadata": {
    "deletable": false,
    "editable": false,
    "id": "Im936VVi_Zcu"
   },
   "source": [
    "### Сравнение поведения пользователей двух столиц"
   ]
  },
  {
   "cell_type": "markdown",
   "metadata": {
    "deletable": false,
    "editable": false,
    "id": "nwt_MuaL_Zcu"
   },
   "source": [
    "Первая гипотеза утверждает, что пользователи по-разному слушают музыку в Москве и Санкт-Петербурге. Проверьте это предположение по данным о трёх днях недели — понедельнике, среде и пятнице. Для этого:\n",
    "\n",
    "* Разделите пользователей Москвы и Санкт-Петербурга.\n",
    "* Сравните, сколько треков послушала каждая группа пользователей в понедельник, среду и пятницу.\n"
   ]
  },
  {
   "cell_type": "markdown",
   "metadata": {
    "deletable": false,
    "editable": false,
    "id": "8Dw_YMmT_Zcu",
    "tags": [
     "start_task"
    ]
   },
   "source": [
    "**Задание 18**\n",
    "\n",
    "Для тренировки сначала выполните каждый из расчётов по отдельности. \n",
    "\n",
    "Оцените активность пользователей в каждом городе. Сгруппируйте данные по городу и посчитайте прослушивания в каждой группе.\n",
    "\n"
   ]
  },
  {
   "cell_type": "code",
   "execution_count": 18,
   "metadata": {
    "deletable": false,
    "id": "0_Qs96oh_Zcu"
   },
   "outputs": [
    {
     "data": {
      "text/plain": [
       "city\n",
       "Moscow              42741\n",
       "Saint-Petersburg    18512\n",
       "Name: genre, dtype: int64"
      ]
     },
     "execution_count": 18,
     "metadata": {},
     "output_type": "execute_result"
    }
   ],
   "source": [
    "# Подсчёт прослушиваний в каждом городе\n",
    "df.groupby('city')['genre'].count()"
   ]
  },
  {
   "cell_type": "markdown",
   "metadata": {
    "deletable": false,
    "editable": false,
    "id": "dzli3w8o_Zcu",
    "tags": [
     "start_task"
    ]
   },
   "source": [
    "В Москве прослушиваний больше, чем в Петербурге. Из этого не следует, что московские пользователи чаще слушают музыку. Просто самих пользователей в Москве больше.\n",
    "\n",
    "**Задание 19**\n",
    "\n",
    "Теперь сгруппируйте данные по дню недели и посчитайте прослушивания в понедельник, среду и пятницу. Учтите, что в данных есть информация о прослушиваниях только за эти дни.\n"
   ]
  },
  {
   "cell_type": "code",
   "execution_count": 19,
   "metadata": {
    "deletable": false,
    "id": "uZMKjiJz_Zcu"
   },
   "outputs": [
    {
     "data": {
      "text/plain": [
       "day\n",
       "Friday       21840\n",
       "Monday       21354\n",
       "Wednesday    18059\n",
       "Name: genre, dtype: int64"
      ]
     },
     "execution_count": 19,
     "metadata": {},
     "output_type": "execute_result"
    }
   ],
   "source": [
    "# Подсчёт прослушиваний в каждый из трёх дней\n",
    "df.groupby('day')['genre'].count()"
   ]
  },
  {
   "cell_type": "markdown",
   "metadata": {
    "deletable": false,
    "editable": false,
    "id": "cC2tNrlL_Zcu"
   },
   "source": [
    "В среднем пользователи из двух городов менее активны по средам. Но картина может измениться, если рассмотреть каждый город в отдельности."
   ]
  },
  {
   "cell_type": "markdown",
   "metadata": {
    "deletable": false,
    "editable": false,
    "id": "POzs8bGa_Zcu",
    "tags": [
     "start_task"
    ]
   },
   "source": [
    "**Задание 20**\n",
    "\n",
    "\n",
    "Вы видели, как работает группировка по городу и по дням недели. Теперь напишите функцию, которая объединит два эти расчёта.\n",
    "\n",
    "Создайте функцию `number_tracks()`, которая посчитает прослушивания для заданного дня и города. Ей понадобятся два параметра:\n",
    "* день недели,\n",
    "* название города.\n",
    "\n",
    "В функции сохраните в переменную строки исходной таблицы, у которых значение:\n",
    "  * в колонке `day` равно параметру `day`,\n",
    "  * в колонке `city` равно параметру `city`.\n",
    "\n",
    "Для этого примените последовательную фильтрацию с логической индексацией (или сложные логические выражения в одну строку, если вы уже знакомы с ними).\n",
    "\n",
    "Затем посчитайте значения в столбце `user_id` получившейся таблицы. Результат сохраните в новую переменную. Верните эту переменную из функции."
   ]
  },
  {
   "cell_type": "code",
   "execution_count": 20,
   "metadata": {
    "deletable": false,
    "id": "Nz3GdQB1_Zcu"
   },
   "outputs": [],
   "source": [
    "# <создание функции number_tracks()>\n",
    "def number_tracks(day, city):\n",
    "    track_list=df[(df['day']== day)&(df['city']==city)]\n",
    "# Объявляется функция с двумя параметрами: day, city.\n",
    "# В переменной track_list сохраняются те строки таблицы df, для которых \n",
    "# значение в столбце 'day' равно параметру day и одновременно значение\n",
    "# в столбце 'city' равно параметру city (используйте последовательную фильтрацию\n",
    "# с помощью логической индексации или сложные логические выражения в одну строку, если вы уже знакомы с ними).\n",
    "\n",
    "    track_list_count=track_list['user_id'].count()\n",
    "# В переменной track_list_count сохраняется число значений столбца 'user_id',\n",
    "# рассчитанное методом count() для таблицы track_list.\n",
    "# Функция возвращает число - значение track_list_count.\n",
    "    return track_list_count\n",
    "# Функция для подсчёта прослушиваний для конкретного города и дня.\n",
    "# С помощью последовательной фильтрации с логической индексацией она \n",
    "# сначала получит из исходной таблицы строки с нужным днём,\n",
    "# затем из результата отфильтрует строки с нужным городом,\n",
    "# методом count() посчитает количество значений в колонке user_id. \n",
    "# Это количество функция вернёт в качестве результата"
   ]
  },
  {
   "cell_type": "markdown",
   "metadata": {
    "deletable": false,
    "editable": false,
    "id": "ytf7xFrFJQ2r",
    "tags": [
     "start_task"
    ]
   },
   "source": [
    "**Задание 21**\n",
    "\n",
    "Вызовите `number_tracks()` шесть раз, меняя значение параметров — так, чтобы получить данные для каждого города в каждый из трёх дней."
   ]
  },
  {
   "cell_type": "code",
   "execution_count": 21,
   "metadata": {
    "deletable": false,
    "id": "rJcRATNQ_Zcu"
   },
   "outputs": [
    {
     "data": {
      "text/plain": [
       "15740"
      ]
     },
     "execution_count": 21,
     "metadata": {},
     "output_type": "execute_result"
    }
   ],
   "source": [
    "number_tracks('Monday', 'Moscow') # количество прослушиваний в Москве по понедельникам"
   ]
  },
  {
   "cell_type": "code",
   "execution_count": 22,
   "metadata": {
    "deletable": false,
    "id": "hq_ncZ5T_Zcu"
   },
   "outputs": [
    {
     "data": {
      "text/plain": [
       "5614"
      ]
     },
     "execution_count": 22,
     "metadata": {},
     "output_type": "execute_result"
    }
   ],
   "source": [
    "number_tracks('Monday', 'Saint-Petersburg') # количество прослушиваний в Санкт-Петербурге по понедельникам"
   ]
  },
  {
   "cell_type": "code",
   "execution_count": 23,
   "metadata": {
    "deletable": false,
    "id": "_NTy2VPU_Zcu"
   },
   "outputs": [
    {
     "data": {
      "text/plain": [
       "11056"
      ]
     },
     "execution_count": 23,
     "metadata": {},
     "output_type": "execute_result"
    }
   ],
   "source": [
    "number_tracks('Wednesday', 'Moscow') # количество прослушиваний в Москве по средам"
   ]
  },
  {
   "cell_type": "code",
   "execution_count": 24,
   "metadata": {
    "deletable": false,
    "id": "j2y3TAwo_Zcu"
   },
   "outputs": [
    {
     "data": {
      "text/plain": [
       "7003"
      ]
     },
     "execution_count": 24,
     "metadata": {},
     "output_type": "execute_result"
    }
   ],
   "source": [
    "number_tracks('Wednesday', 'Saint-Petersburg') # количество прослушиваний в Санкт-Петербурге по средам"
   ]
  },
  {
   "cell_type": "code",
   "execution_count": 25,
   "metadata": {
    "deletable": false,
    "id": "vYDw5u_K_Zcu"
   },
   "outputs": [
    {
     "data": {
      "text/plain": [
       "15945"
      ]
     },
     "execution_count": 25,
     "metadata": {},
     "output_type": "execute_result"
    }
   ],
   "source": [
    "number_tracks('Friday', 'Moscow') # количество прослушиваний в Москве по пятницам"
   ]
  },
  {
   "cell_type": "code",
   "execution_count": 26,
   "metadata": {
    "deletable": false,
    "id": "8_yzFtW3_Zcu"
   },
   "outputs": [
    {
     "data": {
      "text/plain": [
       "5895"
      ]
     },
     "execution_count": 26,
     "metadata": {},
     "output_type": "execute_result"
    }
   ],
   "source": [
    "number_tracks('Friday', 'Saint-Petersburg') # количество прослушиваний в Санкт-Петербурге по пятницам"
   ]
  },
  {
   "cell_type": "markdown",
   "metadata": {
    "deletable": false,
    "editable": false,
    "id": "7QXffbO-_Zcu",
    "tags": [
     "start_task"
    ]
   },
   "source": [
    "**Задание 22**\n",
    "\n",
    "Создайте c помощью конструктора `pd.DataFrame` таблицу, где\n",
    "* названия колонок — `['city', 'monday', 'wednesday', 'friday']`;\n",
    "* данные — результаты, которые вы получили с помощью `number_tracks`."
   ]
  },
  {
   "cell_type": "code",
   "execution_count": 27,
   "metadata": {
    "deletable": false,
    "id": "APAcLpOr_Zcu"
   },
   "outputs": [],
   "source": [
    "data = [['Moscow', 15740, 11056, 15945], ['Saint-Petersburg', 5614, 11056, 5895]]\n",
    "        \n",
    "columns = ['city', 'monday', 'wednesday', 'friday']       \n",
    "my_table = pd.DataFrame(data=data, columns = columns) # Таблица с результатами"
   ]
  },
  {
   "cell_type": "markdown",
   "metadata": {
    "deletable": false,
    "editable": false,
    "id": "-EgPIHYu_Zcu"
   },
   "source": [
    "**Выводы**\n",
    "\n",
    "Данные показывают разницу поведения пользователей:\n",
    "\n",
    "- В Москве пик прослушиваний приходится на понедельник и пятницу, а в среду заметен спад.\n",
    "- В Петербурге, наоборот, больше слушают музыку по средам. Активность в понедельник и пятницу здесь почти в равной мере уступает среде.\n",
    "\n",
    "Значит, данные говорят в пользу первой гипотезы."
   ]
  },
  {
   "cell_type": "markdown",
   "metadata": {
    "deletable": false,
    "editable": false,
    "id": "atZAxtq4_Zcu"
   },
   "source": [
    "### Музыка в начале и в конце недели"
   ]
  },
  {
   "cell_type": "markdown",
   "metadata": {
    "deletable": false,
    "editable": false,
    "id": "eXrQqXFH_Zcu"
   },
   "source": [
    "Согласно второй гипотезе, утром в понедельник в Москве преобладают одни жанры, а в Петербурге — другие. Так же и вечером пятницы преобладают разные жанры — в зависимости от города."
   ]
  },
  {
   "cell_type": "markdown",
   "metadata": {
    "deletable": false,
    "editable": false,
    "id": "S8UcW6Hw_Zcu",
    "tags": [
     "start_task"
    ]
   },
   "source": [
    "**Задание 23**\n",
    "\n",
    "Сохраните таблицы с данными в две переменные:\n",
    "* по Москве — в `moscow_general`;\n",
    "* по Санкт-Петербургу — в `spb_general`."
   ]
  },
  {
   "cell_type": "code",
   "execution_count": 28,
   "metadata": {
    "deletable": false,
    "id": "qeaFfM_P_Zcu"
   },
   "outputs": [],
   "source": [
    "# получение таблицы moscow_general из тех строк таблицы df, \n",
    "# для которых значение в столбце 'city' равно 'Moscow'\n",
    "moscow_general = df[df['city'] == 'Moscow']"
   ]
  },
  {
   "cell_type": "code",
   "execution_count": 29,
   "metadata": {
    "deletable": false,
    "id": "ORaVRKto_Zcu"
   },
   "outputs": [],
   "source": [
    "# получение таблицы spb_general из тех строк таблицы df,\n",
    "# для которых значение в столбце 'city' равно 'Saint-Petersburg'\n",
    "spb_general = df[df['city'] == 'Saint-Petersburg'] "
   ]
  },
  {
   "cell_type": "markdown",
   "metadata": {
    "deletable": false,
    "editable": false,
    "id": "MEJV-CX2_Zcu",
    "tags": [
     "start_task"
    ]
   },
   "source": [
    "**Задание 24**\n",
    "\n",
    "Создайте функцию `genre_weekday()` с четырьмя параметрами:\n",
    "* таблица (датафрейм) с данными,\n",
    "* день недели,\n",
    "* начальная временная метка в формате 'hh:mm', \n",
    "* последняя временная метка в формате 'hh:mm'.\n",
    "\n",
    "Функция должна вернуть информацию о топ-10 жанров тех треков, которые прослушивали в указанный день, в промежутке между двумя отметками времени."
   ]
  },
  {
   "cell_type": "code",
   "execution_count": 30,
   "metadata": {
    "deletable": false,
    "id": "laJT9BYl_Zcu",
    "scrolled": true
   },
   "outputs": [],
   "source": [
    "# Объявление функции genre_weekday() с параметрами table, day, time1, time2,\n",
    "# которая возвращает информацию о самых популярных жанрах в указанный день в\n",
    "# заданное время:\n",
    "# 1) в переменную genre_df сохраняются те строки переданного датафрейма table, для\n",
    "#    которых одновременно:\n",
    "#    - значение в столбце day равно значению аргумента day\n",
    "#    - значение в столбце time больше значения аргумента time1\n",
    "#    - значение в столбце time меньше значения аргумента time2\n",
    "#    Используйте последовательную фильтрацию с помощью логической индексации.\n",
    "# 2) сгруппировать датафрейм genre_df по столбцу genre, взять один из его\n",
    "#    столбцов и посчитать методом count() количество записей для каждого из\n",
    "#    присутствующих жанров, получившийся Series записать в переменную\n",
    "#    genre_df_count\n",
    "# 3) отсортировать genre_df_count по убыванию встречаемости и сохранить\n",
    "#    в переменную genre_df_sorted\n",
    "# 4) вернуть Series из 10 первых значений genre_df_sorted, это будут топ-10\n",
    "#    популярных жанров (в указанный день, в заданное время)\n",
    "\n",
    "def genre_weekday(df, day, time1, time2):\n",
    "    # последовательная фильтрация\n",
    "    # оставляем в genre_df только те строки df, у которых день равен day\n",
    "    genre_df = df[df['day'] == day] # ваш код здесь\n",
    "    # оставляем в genre_df только те строки genre_df, у которых время меньше time2\n",
    "    genre_df = genre_df[genre_df['time'] < time2] # ваш код здесь\n",
    "    # оставляем в genre_df только те строки genre_df, у которых время больше time1\n",
    "    genre_df = genre_df[genre_df['time'] > time1]# ваш код здесь\n",
    "    # сгруппируем отфильтрованный датафрейм по столбцу с названиями жанров, возьмём столбец genre и посчитаем кол-во строк для каждого жанра методом count()\n",
    "    genre_df_grouped = genre_df.groupby('genre')['genre'].count() # ваш код здесь\n",
    "    # отсортируем результат по убыванию (чтобы в начале Series оказались самые популярные жанры)\n",
    "    genre_df_sorted = genre_df_grouped.sort_values(ascending = False)  # ваш код здесь\n",
    "    # вернём Series с 10 самыми популярными жанрами в указанный отрезок времени заданного дня\n",
    "    return genre_df_sorted[:10]"
   ]
  },
  {
   "cell_type": "markdown",
   "metadata": {
    "deletable": false,
    "editable": false,
    "id": "la2s2_PF_Zcu",
    "tags": [
     "start_task"
    ]
   },
   "source": [
    "**Задание 25**\n",
    "\n",
    "\n",
    "Cравните результаты функции `genre_weekday()` для Москвы и Санкт-Петербурга в понедельник утром (с 7:00 до 11:00) и в пятницу вечером (с 17:00 до 23:00):"
   ]
  },
  {
   "cell_type": "code",
   "execution_count": 31,
   "metadata": {
    "deletable": false,
    "id": "yz7itPUQ_Zcu"
   },
   "outputs": [
    {
     "data": {
      "text/plain": [
       "genre\n",
       "pop            781\n",
       "dance          549\n",
       "electronic     480\n",
       "rock           474\n",
       "hiphop         286\n",
       "ruspop         186\n",
       "world          181\n",
       "rusrap         175\n",
       "alternative    164\n",
       "unknown        161\n",
       "Name: genre, dtype: int64"
      ]
     },
     "execution_count": 31,
     "metadata": {},
     "output_type": "execute_result"
    }
   ],
   "source": [
    "# вызов функции для утра понедельника в Москве (вместо df — таблица moscow_general)\n",
    "# объекты, хранящие время, являются строками и сравниваются как строки\n",
    "genre_weekday(moscow_general, 'Monday', '07:00', '11:00')# пример вызова: genre_weekday(moscow_general, 'Monday', '07:00', '11:00')"
   ]
  },
  {
   "cell_type": "code",
   "execution_count": 32,
   "metadata": {
    "deletable": false,
    "id": "kwUcHPdy_Zcu"
   },
   "outputs": [
    {
     "data": {
      "text/plain": [
       "genre\n",
       "pop            218\n",
       "dance          182\n",
       "rock           162\n",
       "electronic     147\n",
       "hiphop          80\n",
       "ruspop          64\n",
       "alternative     58\n",
       "rusrap          55\n",
       "jazz            44\n",
       "classical       40\n",
       "Name: genre, dtype: int64"
      ]
     },
     "execution_count": 32,
     "metadata": {},
     "output_type": "execute_result"
    }
   ],
   "source": [
    "genre_weekday(spb_general, 'Monday', '07:00', '11:00')# вызов функции для утра понедельника в Петербурге (вместо df — таблица spb_general)"
   ]
  },
  {
   "cell_type": "code",
   "execution_count": 33,
   "metadata": {
    "deletable": false,
    "id": "EzXVRE1o_Zcu"
   },
   "outputs": [
    {
     "data": {
      "text/plain": [
       "genre\n",
       "pop            713\n",
       "rock           517\n",
       "dance          495\n",
       "electronic     482\n",
       "hiphop         273\n",
       "world          208\n",
       "ruspop         170\n",
       "alternative    163\n",
       "classical      163\n",
       "rusrap         142\n",
       "Name: genre, dtype: int64"
      ]
     },
     "execution_count": 33,
     "metadata": {},
     "output_type": "execute_result"
    }
   ],
   "source": [
    "genre_weekday(moscow_general, 'Friday', '17:00', '23:00') # вызов функции для вечера пятницы в Москве"
   ]
  },
  {
   "cell_type": "code",
   "execution_count": 34,
   "metadata": {
    "deletable": false,
    "id": "JZaEKu5v_Zcu"
   },
   "outputs": [
    {
     "data": {
      "text/plain": [
       "genre\n",
       "pop            256\n",
       "electronic     216\n",
       "rock           216\n",
       "dance          210\n",
       "hiphop          97\n",
       "alternative     63\n",
       "jazz            61\n",
       "classical       60\n",
       "rusrap          59\n",
       "world           54\n",
       "Name: genre, dtype: int64"
      ]
     },
     "execution_count": 34,
     "metadata": {},
     "output_type": "execute_result"
    }
   ],
   "source": [
    "genre_weekday(spb_general, 'Friday', '17:00', '23:00')# вызов функции для вечера пятницы в Петербурге"
   ]
  },
  {
   "cell_type": "markdown",
   "metadata": {
    "deletable": false,
    "editable": false,
    "id": "wrCe4MNX_Zcu"
   },
   "source": [
    "**Выводы**\n",
    "\n",
    "Если сравнить топ-10 жанров в понедельник утром, можно сделать такие выводы:\n",
    "\n",
    "1. В Москве и Петербурге слушают похожую музыку. Единственное отличие — в московский рейтинг вошёл жанр “world”, а в петербургский — джаз и классика.\n",
    "\n",
    "2. В Москве пропущенных значений оказалось так много, что значение `'unknown'` заняло десятое место среди самых популярных жанров. Значит, пропущенные значения занимают существенную долю в данных и угрожают достоверности исследования.\n",
    "\n",
    "Вечер пятницы не меняет эту картину. Некоторые жанры поднимаются немного выше, другие спускаются, но в целом топ-10 остаётся тем же самым.\n",
    "\n",
    "Таким образом, вторая гипотеза подтвердилась лишь частично:\n",
    "* Пользователи слушают похожую музыку в начале недели и в конце.\n",
    "* Разница между Москвой и Петербургом не слишком выражена. В Москве чаще слушают русскую популярную музыку, в Петербурге — джаз.\n",
    "\n",
    "Однако пропуски в данных ставят под сомнение этот результат. В Москве их так много, что рейтинг топ-10 мог бы выглядеть иначе, если бы не утерянные  данные о жанрах."
   ]
  },
  {
   "cell_type": "markdown",
   "metadata": {
    "deletable": false,
    "editable": false,
    "id": "JolODAqr_Zcu"
   },
   "source": [
    "### Жанровые предпочтения в Москве и Петербурге\n",
    "\n",
    "Гипотеза: Петербург — столица рэпа, музыку этого жанра там слушают чаще, чем в Москве.  А Москва — город контрастов, в котором, тем не менее, преобладает поп-музыка."
   ]
  },
  {
   "cell_type": "markdown",
   "metadata": {
    "deletable": false,
    "editable": false,
    "id": "DlegSvaT_Zcu",
    "tags": [
     "start_task"
    ]
   },
   "source": [
    "**Задание 26**\n",
    "\n",
    "Сгруппируйте таблицу `moscow_general` по жанру и посчитайте прослушивания треков каждого жанра методом `count()`. Затем отсортируйте результат в порядке убывания и сохраните его в таблице `moscow_genres`."
   ]
  },
  {
   "cell_type": "code",
   "execution_count": 35,
   "metadata": {
    "deletable": false,
    "id": "r19lIPke_Zcu"
   },
   "outputs": [],
   "source": [
    "moscow_genres=moscow_general.groupby('genre')['genre'].count().sort_values(ascending = False)\n",
    "\n",
    "# одной строкой: группировка таблицы moscow_general по столбцу 'genre', \n",
    "# подсчёт числа значений 'genre' в этой группировке методом count(), \n",
    "# сортировка получившегося Series в порядке убывания и сохранение в moscow_genres"
   ]
  },
  {
   "cell_type": "markdown",
   "metadata": {
    "deletable": false,
    "editable": false,
    "id": "6kMuomxTiIr8",
    "tags": [
     "start_task"
    ]
   },
   "source": [
    "**Задание 27**\n",
    "\n",
    "Выведите на экран первые десять строк `moscow_genres`:"
   ]
  },
  {
   "cell_type": "code",
   "execution_count": 36,
   "metadata": {
    "deletable": false,
    "id": "WhCSooF8_Zcv"
   },
   "outputs": [
    {
     "data": {
      "text/plain": [
       "genre\n",
       "pop            5892\n",
       "dance          4435\n",
       "rock           3965\n",
       "electronic     3786\n",
       "hiphop         2096\n",
       "classical      1616\n",
       "world          1432\n",
       "alternative    1379\n",
       "ruspop         1372\n",
       "rusrap         1161\n",
       "Name: genre, dtype: int64"
      ]
     },
     "execution_count": 36,
     "metadata": {},
     "output_type": "execute_result"
    }
   ],
   "source": [
    "moscow_genres.head(10)# просмотр первых 10 строк moscow_genres"
   ]
  },
  {
   "cell_type": "markdown",
   "metadata": {
    "deletable": false,
    "editable": false,
    "id": "cnPG2vnN_Zcv",
    "tags": [
     "start_task"
    ]
   },
   "source": [
    "**Задание 28**\n",
    "\n",
    "\n",
    "Теперь повторите то же и для Петербурга.\n",
    "\n",
    "Сгруппируйте таблицу `spb_general` по жанру. Посчитайте прослушивания треков каждого жанра. Результат отсортируйте в порядке убывания и сохраните в таблице `spb_genres`:\n"
   ]
  },
  {
   "cell_type": "code",
   "execution_count": 37,
   "metadata": {
    "deletable": false,
    "id": "gluLIpE7_Zcv"
   },
   "outputs": [],
   "source": [
    "spb_genres=spb_general.groupby('genre')['genre'].count().sort_values(ascending = False)# одной строкой: группировка таблицы spb_general по столбцу 'genre', \n",
    "# подсчёт числа значений 'genre' в этой группировке методом count(), \n",
    "# сортировка получившегося Series в порядке убывания и сохранение в spb_genres"
   ]
  },
  {
   "cell_type": "markdown",
   "metadata": {
    "deletable": false,
    "editable": false,
    "id": "5Doha_ODgyQ8",
    "tags": [
     "start_task"
    ]
   },
   "source": [
    "**Задание 29**\n",
    "\n",
    "Выведите на экран первые десять строк `spb_genres`:"
   ]
  },
  {
   "cell_type": "code",
   "execution_count": 38,
   "metadata": {
    "deletable": false,
    "id": "uaGJHjVU_Zcv"
   },
   "outputs": [
    {
     "data": {
      "text/plain": [
       "genre\n",
       "pop            2431\n",
       "dance          1932\n",
       "rock           1879\n",
       "electronic     1736\n",
       "hiphop          960\n",
       "alternative     649\n",
       "classical       646\n",
       "rusrap          564\n",
       "ruspop          538\n",
       "world           515\n",
       "Name: genre, dtype: int64"
      ]
     },
     "execution_count": 38,
     "metadata": {},
     "output_type": "execute_result"
    }
   ],
   "source": [
    "spb_genres.head(10)# просмотр первых 10 строк spb_genres"
   ]
  },
  {
   "cell_type": "markdown",
   "metadata": {
    "deletable": false,
    "editable": false,
    "id": "RY51YJYu_Zcv"
   },
   "source": [
    "**Выводы**"
   ]
  },
  {
   "cell_type": "markdown",
   "metadata": {
    "deletable": false,
    "editable": false,
    "id": "nVhnJEm__Zcv"
   },
   "source": [
    "Гипотеза частично подтвердилась:\n",
    "* Поп-музыка — самый популярный жанр в Москве, как и предполагала гипотеза. Более того, в топ-10 жанров встречается близкий жанр — русская популярная музыка.\n",
    "* Вопреки ожиданиям, рэп одинаково популярен в Москве и Петербурге. \n"
   ]
  },
  {
   "cell_type": "markdown",
   "metadata": {
    "deletable": false,
    "editable": false,
    "id": "ykKQ0N65_Zcv"
   },
   "source": [
    "## Итоги исследования"
   ]
  },
  {
   "cell_type": "markdown",
   "metadata": {
    "deletable": false,
    "editable": false,
    "id": "tjUwbHb3_Zcv"
   },
   "source": [
    "Вы проверили три гипотезы и установили:\n",
    "\n",
    "1. День недели по-разному влияет на активность пользователей в Москве и Петербурге. \n",
    "\n",
    "Первая гипотеза полностью подтвердилась.\n",
    "\n",
    "2. Музыкальные предпочтения не сильно меняются в течение недели — будь то Москва или Петербург. Небольшие различия заметны в начале недели, по понедельникам:\n",
    "* в Москве слушают музыку жанра “world”,\n",
    "* в Петербурге — джаз и классику.\n",
    "\n",
    "Таким образом, вторая гипотеза подтвердилась лишь отчасти. Этот результат мог оказаться иным, если бы не пропуски в данных.\n",
    "\n",
    "3. Во вкусах пользователей Москвы и Петербурга больше общего чем различий. Вопреки ожиданиям, предпочтения жанров в Петербурге напоминают московские.\n",
    "\n",
    "Третья гипотеза не подтвердилась. Если различия в предпочтениях и существуют, на основной массе пользователей они незаметны.\n",
    "\n",
    "**На практике исследования содержат проверки статистических гипотез.**\n",
    "Из данных одного сервиса не всегда можно сделать вывод о всех жителях города.\n",
    "Проверки статистических гипотез покажут, насколько они достоверны, исходя из имеющихся данных. \n",
    "С методами проверок гипотез вы ещё познакомитесь в следующих темах."
   ]
  }
 ],
 "metadata": {
  "ExecuteTimeLog": [
   {
    "duration": 375,
    "start_time": "2022-12-19T14:56:48.994Z"
   },
   {
    "duration": 47,
    "start_time": "2022-12-19T17:13:30.971Z"
   },
   {
    "duration": 5,
    "start_time": "2022-12-19T17:13:39.431Z"
   },
   {
    "duration": 391,
    "start_time": "2022-12-19T17:13:50.812Z"
   },
   {
    "duration": 4,
    "start_time": "2022-12-19T17:13:53.789Z"
   },
   {
    "duration": 29,
    "start_time": "2022-12-19T17:14:54.830Z"
   },
   {
    "duration": 6,
    "start_time": "2022-12-19T17:22:25.893Z"
   },
   {
    "duration": 3,
    "start_time": "2022-12-19T17:22:37.620Z"
   },
   {
    "duration": 154,
    "start_time": "2022-12-19T17:22:39.537Z"
   },
   {
    "duration": 150,
    "start_time": "2022-12-19T17:22:42.445Z"
   },
   {
    "duration": 3,
    "start_time": "2022-12-19T17:23:01.250Z"
   },
   {
    "duration": 157,
    "start_time": "2022-12-19T17:23:02.433Z"
   },
   {
    "duration": 149,
    "start_time": "2022-12-19T17:23:06.598Z"
   },
   {
    "duration": 8,
    "start_time": "2022-12-19T17:23:07.973Z"
   },
   {
    "duration": 26,
    "start_time": "2022-12-19T17:23:14.673Z"
   },
   {
    "duration": 2,
    "start_time": "2022-12-19T17:23:17.077Z"
   },
   {
    "duration": 7,
    "start_time": "2022-12-19T17:23:21.375Z"
   },
   {
    "duration": 15,
    "start_time": "2022-12-19T17:25:41.788Z"
   },
   {
    "duration": 4,
    "start_time": "2022-12-19T17:28:55.881Z"
   },
   {
    "duration": 6,
    "start_time": "2022-12-19T17:30:11.990Z"
   },
   {
    "duration": 9,
    "start_time": "2022-12-19T17:30:14.976Z"
   },
   {
    "duration": 9,
    "start_time": "2022-12-19T17:31:21.927Z"
   },
   {
    "duration": 6,
    "start_time": "2022-12-19T17:31:33.847Z"
   },
   {
    "duration": 78,
    "start_time": "2022-12-19T17:31:59.377Z"
   },
   {
    "duration": 9,
    "start_time": "2022-12-19T17:32:08.460Z"
   },
   {
    "duration": 7,
    "start_time": "2022-12-19T17:32:29.111Z"
   },
   {
    "duration": 8,
    "start_time": "2022-12-19T17:32:33.678Z"
   },
   {
    "duration": 9,
    "start_time": "2022-12-19T17:32:42.211Z"
   },
   {
    "duration": 8,
    "start_time": "2022-12-19T17:33:14.611Z"
   },
   {
    "duration": 8,
    "start_time": "2022-12-19T17:33:17.519Z"
   },
   {
    "duration": 2,
    "start_time": "2022-12-19T17:33:25.653Z"
   },
   {
    "duration": 6,
    "start_time": "2022-12-19T17:33:27.627Z"
   },
   {
    "duration": 6,
    "start_time": "2022-12-19T17:33:28.915Z"
   },
   {
    "duration": 6,
    "start_time": "2022-12-19T17:33:30.147Z"
   },
   {
    "duration": 6,
    "start_time": "2022-12-19T17:33:49.498Z"
   },
   {
    "duration": 2,
    "start_time": "2022-12-19T17:33:54.428Z"
   },
   {
    "duration": 143,
    "start_time": "2022-12-19T17:33:55.304Z"
   },
   {
    "duration": 9,
    "start_time": "2022-12-19T17:33:55.656Z"
   },
   {
    "duration": 26,
    "start_time": "2022-12-19T17:33:56.075Z"
   },
   {
    "duration": 2,
    "start_time": "2022-12-19T17:33:57.300Z"
   },
   {
    "duration": 4,
    "start_time": "2022-12-19T17:33:59.217Z"
   },
   {
    "duration": 10,
    "start_time": "2022-12-19T17:34:11.375Z"
   },
   {
    "duration": 8,
    "start_time": "2022-12-19T17:34:15.011Z"
   },
   {
    "duration": 7,
    "start_time": "2022-12-19T17:34:18.379Z"
   },
   {
    "duration": 3,
    "start_time": "2022-12-19T17:34:26.955Z"
   },
   {
    "duration": 138,
    "start_time": "2022-12-19T17:34:28.011Z"
   },
   {
    "duration": 6,
    "start_time": "2022-12-19T17:34:29.519Z"
   },
   {
    "duration": 26,
    "start_time": "2022-12-19T17:34:30.743Z"
   },
   {
    "duration": 3,
    "start_time": "2022-12-19T17:34:32.337Z"
   },
   {
    "duration": 4,
    "start_time": "2022-12-19T17:34:35.118Z"
   },
   {
    "duration": 11,
    "start_time": "2022-12-19T17:34:37.250Z"
   },
   {
    "duration": 6,
    "start_time": "2022-12-19T17:34:38.892Z"
   },
   {
    "duration": 3,
    "start_time": "2022-12-19T17:35:32.846Z"
   },
   {
    "duration": 2,
    "start_time": "2022-12-19T17:35:39.284Z"
   },
   {
    "duration": 158,
    "start_time": "2022-12-19T17:35:40.274Z"
   },
   {
    "duration": 7,
    "start_time": "2022-12-19T17:35:41.200Z"
   },
   {
    "duration": 27,
    "start_time": "2022-12-19T17:35:42.060Z"
   },
   {
    "duration": 2,
    "start_time": "2022-12-19T17:35:43.306Z"
   },
   {
    "duration": 4,
    "start_time": "2022-12-19T17:35:45.290Z"
   },
   {
    "duration": 9,
    "start_time": "2022-12-19T17:35:46.582Z"
   },
   {
    "duration": 6,
    "start_time": "2022-12-19T17:35:47.543Z"
   },
   {
    "duration": 8,
    "start_time": "2022-12-19T17:35:55.012Z"
   },
   {
    "duration": 6,
    "start_time": "2022-12-19T17:35:56.153Z"
   },
   {
    "duration": 358,
    "start_time": "2022-12-19T17:36:01.759Z"
   },
   {
    "duration": 167,
    "start_time": "2022-12-19T17:36:05.826Z"
   },
   {
    "duration": 9,
    "start_time": "2022-12-19T17:36:06.814Z"
   },
   {
    "duration": 27,
    "start_time": "2022-12-19T17:36:07.766Z"
   },
   {
    "duration": 3,
    "start_time": "2022-12-19T17:36:09.261Z"
   },
   {
    "duration": 11,
    "start_time": "2022-12-19T17:36:11.119Z"
   },
   {
    "duration": 13,
    "start_time": "2022-12-19T17:36:12.208Z"
   },
   {
    "duration": 5,
    "start_time": "2022-12-19T17:36:13.203Z"
   },
   {
    "duration": 21,
    "start_time": "2022-12-19T17:37:19.974Z"
   },
   {
    "duration": 1199,
    "start_time": "2022-12-19T17:39:52.579Z"
   },
   {
    "duration": 30,
    "start_time": "2022-12-19T17:40:03.100Z"
   },
   {
    "duration": 28,
    "start_time": "2022-12-19T17:40:25.611Z"
   },
   {
    "duration": 67,
    "start_time": "2022-12-19T17:41:10.887Z"
   },
   {
    "duration": 66,
    "start_time": "2022-12-19T17:42:19.280Z"
   },
   {
    "duration": 63,
    "start_time": "2022-12-19T17:42:57.837Z"
   },
   {
    "duration": 59,
    "start_time": "2022-12-19T17:44:38.199Z"
   },
   {
    "duration": 53,
    "start_time": "2022-12-19T17:44:46.619Z"
   },
   {
    "duration": 3,
    "start_time": "2022-12-19T17:47:04.874Z"
   },
   {
    "duration": 58,
    "start_time": "2022-12-19T17:47:15.502Z"
   },
   {
    "duration": 9,
    "start_time": "2022-12-19T17:47:51.118Z"
   },
   {
    "duration": 9,
    "start_time": "2022-12-19T17:47:53.568Z"
   },
   {
    "duration": 10,
    "start_time": "2022-12-19T17:48:17.343Z"
   },
   {
    "duration": 7,
    "start_time": "2022-12-19T17:48:28.335Z"
   },
   {
    "duration": 7,
    "start_time": "2022-12-19T17:48:29.871Z"
   },
   {
    "duration": 337,
    "start_time": "2022-12-19T17:48:34.081Z"
   },
   {
    "duration": 153,
    "start_time": "2022-12-19T17:48:34.420Z"
   },
   {
    "duration": 8,
    "start_time": "2022-12-19T17:48:34.574Z"
   },
   {
    "duration": 31,
    "start_time": "2022-12-19T17:48:34.584Z"
   },
   {
    "duration": 10,
    "start_time": "2022-12-19T17:48:34.616Z"
   },
   {
    "duration": 13,
    "start_time": "2022-12-19T17:48:34.628Z"
   },
   {
    "duration": 15,
    "start_time": "2022-12-19T17:48:34.642Z"
   },
   {
    "duration": 21,
    "start_time": "2022-12-19T17:48:34.658Z"
   },
   {
    "duration": 35,
    "start_time": "2022-12-19T17:48:34.681Z"
   },
   {
    "duration": 38,
    "start_time": "2022-12-19T17:48:34.719Z"
   },
   {
    "duration": 22,
    "start_time": "2022-12-19T17:48:34.758Z"
   },
   {
    "duration": 74,
    "start_time": "2022-12-19T17:48:34.782Z"
   },
   {
    "duration": 76,
    "start_time": "2022-12-19T17:48:34.858Z"
   },
   {
    "duration": 57,
    "start_time": "2022-12-19T17:48:34.936Z"
   },
   {
    "duration": 71,
    "start_time": "2022-12-19T17:48:34.994Z"
   },
   {
    "duration": 0,
    "start_time": "2022-12-19T17:48:35.069Z"
   },
   {
    "duration": 0,
    "start_time": "2022-12-19T17:48:35.070Z"
   },
   {
    "duration": 0,
    "start_time": "2022-12-19T17:48:35.071Z"
   },
   {
    "duration": 0,
    "start_time": "2022-12-19T17:48:35.072Z"
   },
   {
    "duration": 0,
    "start_time": "2022-12-19T17:48:35.072Z"
   },
   {
    "duration": 0,
    "start_time": "2022-12-19T17:48:35.073Z"
   },
   {
    "duration": 0,
    "start_time": "2022-12-19T17:48:35.075Z"
   },
   {
    "duration": 0,
    "start_time": "2022-12-19T17:48:35.076Z"
   },
   {
    "duration": 0,
    "start_time": "2022-12-19T17:48:35.077Z"
   },
   {
    "duration": 0,
    "start_time": "2022-12-19T17:48:35.078Z"
   },
   {
    "duration": 0,
    "start_time": "2022-12-19T17:48:35.080Z"
   },
   {
    "duration": 0,
    "start_time": "2022-12-19T17:48:35.081Z"
   },
   {
    "duration": 0,
    "start_time": "2022-12-19T17:48:35.082Z"
   },
   {
    "duration": 0,
    "start_time": "2022-12-19T17:48:35.083Z"
   },
   {
    "duration": 0,
    "start_time": "2022-12-19T17:48:35.085Z"
   },
   {
    "duration": 0,
    "start_time": "2022-12-19T17:48:35.086Z"
   },
   {
    "duration": 0,
    "start_time": "2022-12-19T17:48:35.087Z"
   },
   {
    "duration": 0,
    "start_time": "2022-12-19T17:48:35.088Z"
   },
   {
    "duration": 0,
    "start_time": "2022-12-19T17:48:35.126Z"
   },
   {
    "duration": 0,
    "start_time": "2022-12-19T17:48:35.128Z"
   },
   {
    "duration": 0,
    "start_time": "2022-12-19T17:48:35.129Z"
   },
   {
    "duration": 0,
    "start_time": "2022-12-19T17:48:35.130Z"
   },
   {
    "duration": 0,
    "start_time": "2022-12-19T17:48:35.131Z"
   },
   {
    "duration": 8,
    "start_time": "2022-12-19T17:48:43.159Z"
   },
   {
    "duration": 31,
    "start_time": "2022-12-19T17:48:58.586Z"
   },
   {
    "duration": 7,
    "start_time": "2022-12-19T17:54:05.353Z"
   },
   {
    "duration": 7,
    "start_time": "2022-12-19T17:54:16.443Z"
   },
   {
    "duration": 8,
    "start_time": "2022-12-19T17:57:54.683Z"
   },
   {
    "duration": 8,
    "start_time": "2022-12-19T17:57:56.564Z"
   },
   {
    "duration": 31,
    "start_time": "2022-12-19T17:57:59.544Z"
   },
   {
    "duration": 7,
    "start_time": "2022-12-19T17:58:02.285Z"
   },
   {
    "duration": 7,
    "start_time": "2022-12-19T18:02:55.587Z"
   },
   {
    "duration": 7,
    "start_time": "2022-12-19T18:14:38.159Z"
   },
   {
    "duration": 16,
    "start_time": "2022-12-19T18:15:55.241Z"
   },
   {
    "duration": 14,
    "start_time": "2022-12-19T18:15:57.602Z"
   },
   {
    "duration": 8,
    "start_time": "2022-12-19T18:31:02.841Z"
   },
   {
    "duration": 8,
    "start_time": "2022-12-19T18:31:14.035Z"
   },
   {
    "duration": 14,
    "start_time": "2022-12-19T18:32:20.008Z"
   },
   {
    "duration": 11,
    "start_time": "2022-12-19T18:33:22.414Z"
   },
   {
    "duration": 33,
    "start_time": "2022-12-19T18:38:10.429Z"
   },
   {
    "duration": 91,
    "start_time": "2022-12-19T18:40:58.943Z"
   },
   {
    "duration": 10,
    "start_time": "2022-12-19T18:41:11.395Z"
   },
   {
    "duration": 7,
    "start_time": "2022-12-19T18:42:00.668Z"
   },
   {
    "duration": 10,
    "start_time": "2022-12-19T18:42:21.691Z"
   },
   {
    "duration": 3,
    "start_time": "2022-12-19T18:47:15.451Z"
   },
   {
    "duration": 18,
    "start_time": "2022-12-19T18:48:47.810Z"
   },
   {
    "duration": 13,
    "start_time": "2022-12-19T18:48:48.958Z"
   },
   {
    "duration": 14,
    "start_time": "2022-12-19T18:48:49.445Z"
   },
   {
    "duration": 14,
    "start_time": "2022-12-19T18:48:49.857Z"
   },
   {
    "duration": 16,
    "start_time": "2022-12-19T18:48:50.253Z"
   },
   {
    "duration": 13,
    "start_time": "2022-12-19T18:48:50.621Z"
   },
   {
    "duration": 69,
    "start_time": "2022-12-19T18:53:00.558Z"
   },
   {
    "duration": 91,
    "start_time": "2022-12-19T18:53:19.879Z"
   },
   {
    "duration": 4,
    "start_time": "2022-12-19T18:53:43.852Z"
   },
   {
    "duration": 4,
    "start_time": "2022-12-19T18:53:45.568Z"
   },
   {
    "duration": 13,
    "start_time": "2022-12-19T18:55:19.549Z"
   },
   {
    "duration": 11,
    "start_time": "2022-12-19T18:55:19.981Z"
   },
   {
    "duration": 74,
    "start_time": "2022-12-19T19:05:27.646Z"
   },
   {
    "duration": 66,
    "start_time": "2022-12-19T19:05:57.436Z"
   },
   {
    "duration": 70,
    "start_time": "2022-12-19T19:06:57.366Z"
   },
   {
    "duration": 71,
    "start_time": "2022-12-19T19:07:29.761Z"
   },
   {
    "duration": 74,
    "start_time": "2022-12-20T08:41:39.725Z"
   },
   {
    "duration": 75,
    "start_time": "2022-12-20T08:41:50.371Z"
   },
   {
    "duration": 73,
    "start_time": "2022-12-20T08:45:56.951Z"
   },
   {
    "duration": 72,
    "start_time": "2022-12-20T08:49:23.559Z"
   },
   {
    "duration": 73,
    "start_time": "2022-12-20T08:49:45.275Z"
   },
   {
    "duration": 89,
    "start_time": "2022-12-20T08:50:57.461Z"
   },
   {
    "duration": 74,
    "start_time": "2022-12-20T08:51:06.472Z"
   },
   {
    "duration": 75,
    "start_time": "2022-12-20T08:52:10.105Z"
   },
   {
    "duration": 81,
    "start_time": "2022-12-20T08:52:24.657Z"
   },
   {
    "duration": 76,
    "start_time": "2022-12-20T08:52:39.005Z"
   },
   {
    "duration": 76,
    "start_time": "2022-12-20T08:57:06.113Z"
   },
   {
    "duration": 81,
    "start_time": "2022-12-20T08:58:15.073Z"
   },
   {
    "duration": 78,
    "start_time": "2022-12-20T08:59:56.571Z"
   },
   {
    "duration": 77,
    "start_time": "2022-12-20T08:59:58.571Z"
   },
   {
    "duration": 397,
    "start_time": "2022-12-20T09:00:04.482Z"
   },
   {
    "duration": 457,
    "start_time": "2022-12-20T09:00:05.075Z"
   },
   {
    "duration": 8,
    "start_time": "2022-12-20T09:00:05.534Z"
   },
   {
    "duration": 28,
    "start_time": "2022-12-20T09:00:05.781Z"
   },
   {
    "duration": 3,
    "start_time": "2022-12-20T09:00:06.344Z"
   },
   {
    "duration": 8,
    "start_time": "2022-12-20T09:00:07.060Z"
   },
   {
    "duration": 23,
    "start_time": "2022-12-20T09:00:07.399Z"
   },
   {
    "duration": 4,
    "start_time": "2022-12-20T09:00:07.755Z"
   },
   {
    "duration": 21,
    "start_time": "2022-12-20T09:00:08.145Z"
   },
   {
    "duration": 40,
    "start_time": "2022-12-20T09:00:08.781Z"
   },
   {
    "duration": 24,
    "start_time": "2022-12-20T09:00:09.088Z"
   },
   {
    "duration": 75,
    "start_time": "2022-12-20T09:00:09.487Z"
   },
   {
    "duration": 77,
    "start_time": "2022-12-20T09:00:09.866Z"
   },
   {
    "duration": 65,
    "start_time": "2022-12-20T09:00:10.245Z"
   },
   {
    "duration": 34,
    "start_time": "2022-12-20T09:00:10.801Z"
   },
   {
    "duration": 11,
    "start_time": "2022-12-20T09:00:11.260Z"
   },
   {
    "duration": 33,
    "start_time": "2022-12-20T09:00:11.658Z"
   },
   {
    "duration": 15,
    "start_time": "2022-12-20T09:00:15.211Z"
   },
   {
    "duration": 11,
    "start_time": "2022-12-20T09:00:16.704Z"
   },
   {
    "duration": 4,
    "start_time": "2022-12-20T09:00:19.865Z"
   },
   {
    "duration": 67,
    "start_time": "2022-12-20T09:00:20.922Z"
   },
   {
    "duration": 10,
    "start_time": "2022-12-20T09:00:21.598Z"
   },
   {
    "duration": 9,
    "start_time": "2022-12-20T09:01:04.169Z"
   },
   {
    "duration": 4,
    "start_time": "2022-12-20T09:01:06.448Z"
   },
   {
    "duration": 13,
    "start_time": "2022-12-20T09:01:08.207Z"
   },
   {
    "duration": 71,
    "start_time": "2022-12-20T09:01:13.556Z"
   },
   {
    "duration": 8,
    "start_time": "2022-12-20T17:18:08.967Z"
   },
   {
    "duration": 4,
    "start_time": "2022-12-20T17:18:11.460Z"
   },
   {
    "duration": 8,
    "start_time": "2022-12-20T17:18:12.573Z"
   },
   {
    "duration": 359,
    "start_time": "2022-12-20T17:18:28.043Z"
   },
   {
    "duration": 156,
    "start_time": "2022-12-20T17:18:29.010Z"
   },
   {
    "duration": 7,
    "start_time": "2022-12-20T17:18:29.824Z"
   },
   {
    "duration": 28,
    "start_time": "2022-12-20T17:18:31.034Z"
   },
   {
    "duration": 2,
    "start_time": "2022-12-20T17:18:32.403Z"
   },
   {
    "duration": 8,
    "start_time": "2022-12-20T17:18:34.212Z"
   },
   {
    "duration": 12,
    "start_time": "2022-12-20T17:18:35.296Z"
   },
   {
    "duration": 4,
    "start_time": "2022-12-20T17:18:36.049Z"
   },
   {
    "duration": 22,
    "start_time": "2022-12-20T17:18:36.914Z"
   },
   {
    "duration": 33,
    "start_time": "2022-12-20T17:18:38.110Z"
   },
   {
    "duration": 23,
    "start_time": "2022-12-20T17:18:38.897Z"
   },
   {
    "duration": 58,
    "start_time": "2022-12-20T17:18:39.733Z"
   },
   {
    "duration": 61,
    "start_time": "2022-12-20T17:18:40.753Z"
   },
   {
    "duration": 57,
    "start_time": "2022-12-20T17:18:41.550Z"
   },
   {
    "duration": 37,
    "start_time": "2022-12-20T17:18:42.883Z"
   },
   {
    "duration": 9,
    "start_time": "2022-12-20T17:18:43.936Z"
   },
   {
    "duration": 36,
    "start_time": "2022-12-20T17:18:44.871Z"
   },
   {
    "duration": 11,
    "start_time": "2022-12-20T17:18:47.936Z"
   },
   {
    "duration": 11,
    "start_time": "2022-12-20T17:18:49.166Z"
   },
   {
    "duration": 4,
    "start_time": "2022-12-20T17:18:50.462Z"
   },
   {
    "duration": 58,
    "start_time": "2022-12-20T17:18:52.306Z"
   },
   {
    "duration": 8,
    "start_time": "2022-12-20T17:19:24.946Z"
   },
   {
    "duration": 6,
    "start_time": "2022-12-20T17:19:48.069Z"
   },
   {
    "duration": 17,
    "start_time": "2022-12-20T17:19:49.138Z"
   },
   {
    "duration": 14,
    "start_time": "2022-12-20T17:19:49.975Z"
   },
   {
    "duration": 15,
    "start_time": "2022-12-20T17:19:50.491Z"
   },
   {
    "duration": 15,
    "start_time": "2022-12-20T17:19:50.964Z"
   },
   {
    "duration": 15,
    "start_time": "2022-12-20T17:19:51.391Z"
   },
   {
    "duration": 15,
    "start_time": "2022-12-20T17:19:51.694Z"
   },
   {
    "duration": 5,
    "start_time": "2022-12-20T17:19:53.819Z"
   },
   {
    "duration": 15,
    "start_time": "2022-12-20T17:19:56.117Z"
   },
   {
    "duration": 9,
    "start_time": "2022-12-20T17:19:56.677Z"
   },
   {
    "duration": 49,
    "start_time": "2022-12-20T17:19:58.536Z"
   },
   {
    "duration": 62,
    "start_time": "2022-12-20T17:20:13.718Z"
   },
   {
    "duration": 50,
    "start_time": "2022-12-20T17:21:46.840Z"
   },
   {
    "duration": 4,
    "start_time": "2022-12-20T17:23:51.536Z"
   },
   {
    "duration": 5,
    "start_time": "2022-12-20T17:23:53.425Z"
   },
   {
    "duration": 15,
    "start_time": "2022-12-20T17:25:35.619Z"
   },
   {
    "duration": 12,
    "start_time": "2022-12-20T17:25:57.450Z"
   },
   {
    "duration": 45,
    "start_time": "2022-12-20T17:26:42.841Z"
   },
   {
    "duration": 18,
    "start_time": "2022-12-20T17:27:02.280Z"
   },
   {
    "duration": 6,
    "start_time": "2022-12-20T17:27:57.727Z"
   },
   {
    "duration": 12,
    "start_time": "2022-12-20T17:28:06.034Z"
   },
   {
    "duration": 11,
    "start_time": "2022-12-20T17:30:04.588Z"
   },
   {
    "duration": 9,
    "start_time": "2022-12-20T17:30:13.738Z"
   },
   {
    "duration": 9,
    "start_time": "2022-12-20T17:31:15.250Z"
   },
   {
    "duration": 8,
    "start_time": "2022-12-20T17:31:41.056Z"
   },
   {
    "duration": 8,
    "start_time": "2022-12-20T17:35:56.276Z"
   },
   {
    "duration": 8,
    "start_time": "2022-12-20T17:36:00.298Z"
   },
   {
    "duration": 3,
    "start_time": "2022-12-20T17:36:06.535Z"
   },
   {
    "duration": 160,
    "start_time": "2022-12-20T17:36:07.580Z"
   },
   {
    "duration": 7,
    "start_time": "2022-12-20T17:36:08.367Z"
   },
   {
    "duration": 27,
    "start_time": "2022-12-20T17:36:09.160Z"
   },
   {
    "duration": 2,
    "start_time": "2022-12-20T17:36:10.394Z"
   },
   {
    "duration": 5,
    "start_time": "2022-12-20T17:36:12.019Z"
   },
   {
    "duration": 8,
    "start_time": "2022-12-20T17:36:12.905Z"
   },
   {
    "duration": 4,
    "start_time": "2022-12-20T17:36:13.637Z"
   },
   {
    "duration": 23,
    "start_time": "2022-12-20T17:36:14.431Z"
   },
   {
    "duration": 40,
    "start_time": "2022-12-20T17:36:15.646Z"
   },
   {
    "duration": 33,
    "start_time": "2022-12-20T17:36:16.398Z"
   },
   {
    "duration": 60,
    "start_time": "2022-12-20T17:36:17.175Z"
   },
   {
    "duration": 80,
    "start_time": "2022-12-20T17:36:17.944Z"
   },
   {
    "duration": 53,
    "start_time": "2022-12-20T17:36:18.600Z"
   },
   {
    "duration": 36,
    "start_time": "2022-12-20T17:36:19.632Z"
   },
   {
    "duration": 8,
    "start_time": "2022-12-20T17:36:20.256Z"
   },
   {
    "duration": 47,
    "start_time": "2022-12-20T17:36:20.739Z"
   },
   {
    "duration": 17,
    "start_time": "2022-12-20T17:36:22.056Z"
   },
   {
    "duration": 10,
    "start_time": "2022-12-20T17:36:22.948Z"
   },
   {
    "duration": 4,
    "start_time": "2022-12-20T17:36:23.858Z"
   },
   {
    "duration": 16,
    "start_time": "2022-12-20T17:36:24.631Z"
   },
   {
    "duration": 13,
    "start_time": "2022-12-20T17:36:25.063Z"
   },
   {
    "duration": 15,
    "start_time": "2022-12-20T17:36:25.478Z"
   },
   {
    "duration": 14,
    "start_time": "2022-12-20T17:36:25.882Z"
   },
   {
    "duration": 16,
    "start_time": "2022-12-20T17:36:26.238Z"
   },
   {
    "duration": 16,
    "start_time": "2022-12-20T17:36:26.614Z"
   },
   {
    "duration": 5,
    "start_time": "2022-12-20T17:36:27.366Z"
   },
   {
    "duration": 11,
    "start_time": "2022-12-20T17:36:28.638Z"
   },
   {
    "duration": 12,
    "start_time": "2022-12-20T17:36:28.835Z"
   },
   {
    "duration": 4,
    "start_time": "2022-12-20T17:36:29.210Z"
   },
   {
    "duration": 16,
    "start_time": "2022-12-20T17:36:29.631Z"
   },
   {
    "duration": 14,
    "start_time": "2022-12-20T17:36:30.109Z"
   },
   {
    "duration": 26,
    "start_time": "2022-12-20T17:36:30.500Z"
   },
   {
    "duration": 18,
    "start_time": "2022-12-20T17:36:30.833Z"
   },
   {
    "duration": 11,
    "start_time": "2022-12-20T17:36:32.297Z"
   },
   {
    "duration": 5,
    "start_time": "2022-12-20T17:37:03.583Z"
   },
   {
    "duration": 5,
    "start_time": "2022-12-20T17:37:33.646Z"
   },
   {
    "duration": 4,
    "start_time": "2022-12-20T17:38:06.133Z"
   }
  ],
  "colab": {
   "collapsed_sections": [
    "E0vqbgi9ay0H",
    "VUC88oWjTJw2"
   ],
   "name": "automatization_template_upd4.ipynb",
   "provenance": []
  },
  "kernelspec": {
   "display_name": "Python 3 (ipykernel)",
   "language": "python",
   "name": "python3"
  },
  "language_info": {
   "codemirror_mode": {
    "name": "ipython",
    "version": 3
   },
   "file_extension": ".py",
   "mimetype": "text/x-python",
   "name": "python",
   "nbconvert_exporter": "python",
   "pygments_lexer": "ipython3",
   "version": "3.11.2"
  },
  "toc": {
   "base_numbering": 1,
   "nav_menu": {
    "height": "215px",
    "width": "403px"
   },
   "number_sections": true,
   "sideBar": true,
   "skip_h1_title": true,
   "title_cell": "Table of Contents",
   "title_sidebar": "Contents",
   "toc_cell": false,
   "toc_position": {
    "height": "calc(100% - 180px)",
    "left": "10px",
    "top": "150px",
    "width": "285.825px"
   },
   "toc_section_display": true,
   "toc_window_display": false
  }
 },
 "nbformat": 4,
 "nbformat_minor": 1
}
